{
 "cells": [
  {
   "cell_type": "markdown",
   "metadata": {},
   "source": [
    "In this notebook, I will create several UMAPS with the data from Lenselink and check wether I can find physiochemical properties that are or are not captured by canonical SMILES."
   ]
  },
  {
   "cell_type": "code",
   "execution_count": 1,
   "metadata": {},
   "outputs": [
    {
     "name": "stderr",
     "output_type": "stream",
     "text": [
      "/home/verena/anaconda3/envs/wonderland/lib/python3.6/site-packages/umap/spectral.py:4: NumbaDeprecationWarning:\n",
      "\n",
      "No direct replacement for 'numba.targets' available. Visit https://gitter.im/numba/numba-dev to request help. Thanks!\n",
      "\n"
     ]
    }
   ],
   "source": [
    "import pandas as pd\n",
    "import numpy as np\n",
    "import plotly.express as px\n",
    "import umap"
   ]
  },
  {
   "cell_type": "code",
   "execution_count": 2,
   "metadata": {},
   "outputs": [],
   "source": [
    "df = pd.read_csv('../datasets/Lenselink_et_al/Lenselink_1_Molecular_Notation_Transformation_150samples.csv')"
   ]
  },
  {
   "cell_type": "markdown",
   "metadata": {},
   "source": [
    "### Data preparation"
   ]
  },
  {
   "cell_type": "code",
   "execution_count": 3,
   "metadata": {},
   "outputs": [],
   "source": [
    "umap_input = np.zeros([len(df), 2048], dtype=np.int8)\n",
    "\n",
    "for i in range(len(df)):\n",
    "    umap_input[i] = np.asarray(list(df.iloc[i,17]),\n",
    "                               dtype=np.int8)"
   ]
  },
  {
   "cell_type": "code",
   "execution_count": 11,
   "metadata": {},
   "outputs": [],
   "source": [
    "np.random.seed(42)    # I'm not sure if I need this, as I set a random state in the umap_reduce function.\n",
    "# But as I'm too lazy to try it out now, I just set a seed."
   ]
  },
  {
   "cell_type": "markdown",
   "metadata": {},
   "source": [
    "[Guide](https://umap-learn.readthedocs.io/en/latest/parameters.html#) for parameter tuning"
   ]
  },
  {
   "cell_type": "code",
   "execution_count": 70,
   "metadata": {},
   "outputs": [],
   "source": [
    "def umap_reduce(embeddings, **kwargs):\n",
    "    umap_params = dict()\n",
    "\n",
    "    umap_params['n_components'] = kwargs.get('n_components', 2)   # dimensionality of the output\n",
    "    umap_params['random_state'] = kwargs.get('random_state', 420)\n",
    "    umap_params['verbose'] = kwargs.get('verbose', 1)\n",
    "    \n",
    "    # ADAPT:\n",
    "    umap_params['min_dist'] = kwargs.get('min_dist', .8)\n",
    "    umap_params['n_neighbors'] = kwargs.get('n_neighbors', 5)\n",
    "    umap_params['metric'] = kwargs.get('metric', 'cosine')\n",
    "    \n",
    "    transformed_embeddings = umap.UMAP(**umap_params).fit_transform(embeddings)\n",
    "\n",
    "    return transformed_embeddings"
   ]
  },
  {
   "cell_type": "code",
   "execution_count": 71,
   "metadata": {},
   "outputs": [
    {
     "name": "stdout",
     "output_type": "stream",
     "text": [
      "UMAP(a=None, angular_rp_forest=True, b=None,\n",
      "     force_approximation_algorithm=False, init='spectral', learning_rate=1.0,\n",
      "     local_connectivity=1.0, low_memory=False, metric='cosine',\n",
      "     metric_kwds=None, min_dist=0.8, n_components=2, n_epochs=None,\n",
      "     n_neighbors=5, negative_sample_rate=5, output_metric='euclidean',\n",
      "     output_metric_kwds=None, random_state=420, repulsion_strength=1.0,\n",
      "     set_op_mix_ratio=1.0, spread=1.0, target_metric='categorical',\n",
      "     target_metric_kwds=None, target_n_neighbors=-1, target_weight=0.5,\n",
      "     transform_queue_size=4.0, transform_seed=42, unique=False, verbose=1)\n",
      "Construct fuzzy simplicial set\n",
      "Sun Jul  5 21:21:43 2020 Finding Nearest Neighbors\n",
      "Sun Jul  5 21:21:43 2020 Finished Nearest Neighbor Search\n",
      "Sun Jul  5 21:21:43 2020 Construct embedding\n",
      "\tcompleted  0  /  500 epochs\n",
      "\tcompleted  50  /  500 epochs\n",
      "\tcompleted  100  /  500 epochs\n",
      "\tcompleted  150  /  500 epochs\n",
      "\tcompleted  200  /  500 epochs\n",
      "\tcompleted  250  /  500 epochs\n",
      "\tcompleted  300  /  500 epochs\n",
      "\tcompleted  350  /  500 epochs\n",
      "\tcompleted  400  /  500 epochs\n",
      "\tcompleted  450  /  500 epochs\n",
      "Sun Jul  5 21:21:44 2020 Finished embedding\n"
     ]
    }
   ],
   "source": [
    "transformed_embeddings = umap_reduce(umap_input)"
   ]
  },
  {
   "cell_type": "code",
   "execution_count": null,
   "metadata": {},
   "outputs": [],
   "source": [
    "#transformed_embeddings"
   ]
  },
  {
   "cell_type": "markdown",
   "metadata": {},
   "source": [
    "### UMAP base"
   ]
  },
  {
   "cell_type": "code",
   "execution_count": 36,
   "metadata": {},
   "outputs": [],
   "source": [
    "from pandas import DataFrame\n",
    "\n",
    "def render_2D_scatter_plotly(embeddings_dataframe: DataFrame, title=''):\n",
    "    fig = px.scatter(embeddings_dataframe,\n",
    "                     template='ggplot2',\n",
    "                     x='x',\n",
    "                     y='y',\n",
    "                     color='label',\n",
    "                     hover_name=embeddings_dataframe.index,\n",
    "                     title=title,\n",
    "                     width=600,\n",
    "                     height=600,\n",
    "                     color_continuous_scale='Bluered_r'\n",
    "                     #color_continuous_scale='Viridis'\n",
    "                     \n",
    "                     # TODO:\n",
    "                     # remove axis ticks + numbers\n",
    "                     # remove legend\n",
    "                     # remove axis labels\n",
    "                     # make the points bigger\n",
    "                     \n",
    "                     #showticklabels=False,\n",
    "                     #showspikes=False\n",
    "                     #marker_size=3                     \n",
    "                    )\n",
    "\n",
    "    fig.layout.coloraxis.showscale=False\n",
    "    fig.update_xaxes(showticklabels=False)\n",
    "    fig.update_yaxes(showticklabels=False)\n",
    "    \n",
    "    return fig"
   ]
  },
  {
   "cell_type": "code",
   "execution_count": 72,
   "metadata": {},
   "outputs": [],
   "source": [
    "# Numpy nd array -> Pandas Dataframe\n",
    "temp_plot_input = pd.DataFrame(data = transformed_embeddings)\n",
    "temp_plot_input.columns = ['x', 'y']"
   ]
  },
  {
   "cell_type": "code",
   "execution_count": 60,
   "metadata": {},
   "outputs": [],
   "source": [
    "#temp_plot_input"
   ]
  },
  {
   "cell_type": "markdown",
   "metadata": {},
   "source": [
    "### UMAP colored by physiochemical property"
   ]
  },
  {
   "cell_type": "markdown",
   "metadata": {},
   "source": [
    "#### Molecular weight"
   ]
  },
  {
   "cell_type": "code",
   "execution_count": 73,
   "metadata": {},
   "outputs": [
    {
     "data": {
      "application/vnd.plotly.v1+json": {
       "config": {
        "plotlyServerURL": "https://plot.ly"
       },
       "data": [
        {
         "hovertemplate": "<b>%{hovertext}</b><br><br>x=%{x}<br>y=%{y}<br>label=%{marker.color}<extra></extra>",
         "hovertext": [
          0,
          1,
          2,
          3,
          4,
          5,
          6,
          7,
          8,
          9,
          10,
          11,
          12,
          13,
          14,
          15,
          16,
          17,
          18,
          19,
          20,
          21,
          22,
          23,
          24,
          25,
          26,
          27,
          28,
          29,
          30,
          31,
          32,
          33,
          34,
          35,
          36,
          37,
          38,
          39,
          40,
          41,
          42,
          43,
          44,
          45,
          46,
          47,
          48,
          49,
          50,
          51,
          52,
          53,
          54,
          55,
          56,
          57,
          58,
          59,
          60,
          61,
          62,
          63,
          64,
          65,
          66,
          67,
          68,
          69,
          70,
          71,
          72,
          73,
          74,
          75,
          76,
          77,
          78,
          79,
          80,
          81,
          82,
          83,
          84,
          85,
          86,
          87,
          88,
          89,
          90,
          91,
          92,
          93,
          94,
          95,
          96,
          97,
          98,
          99,
          100,
          101,
          102,
          103,
          104,
          105,
          106,
          107,
          108,
          109,
          110,
          111,
          112,
          113,
          114,
          115,
          116,
          117,
          118,
          119,
          120,
          121,
          122,
          123,
          124,
          125,
          126,
          127,
          128,
          129,
          130,
          131,
          132,
          133,
          134,
          135,
          136,
          137,
          138,
          139,
          140,
          141,
          142,
          143,
          144,
          145,
          146,
          147,
          148,
          149
         ],
         "legendgroup": "",
         "marker": {
          "color": [
           410.44807000000003,
           510.02921,
           326.30348,
           421.71872,
           326.4127200000001,
           377.46276,
           419.51606,
           638.7558700000002,
           454.53857999999997,
           162.18518999999995,
           585.6948,
           397.51207999999997,
           541.64553,
           401.33063,
           553.6131799999998,
           411.49889,
           462.50271,
           492.5602,
           406.41808,
           298.40107,
           300.22346,
           433.39877,
           352.38709,
           392.88464,
           393.51532000000003,
           271.35744,
           408.57139,
           476.41702000000004,
           315.36364,
           411.49559,
           429.95955999999995,
           384.85933,
           540.65264,
           348.27603999999997,
           265.28503,
           344.45121,
           814.17674,
           471.51462000000004,
           390.81924,
           312.14804,
           428.52610999999996,
           170.16414,
           436.88762,
           494.57285999999993,
           464.86800000000005,
           847.99604,
           423.50475,
           408.5167,
           499.96657000000016,
           294.32956,
           475.58262,
           498.57619000000005,
           467.4398,
           518.39922,
           343.8091,
           543.67972,
           315.75426,
           516.5816599999998,
           412.52671000000004,
           549.58186,
           298.37618,
           229.31746,
           246.31151,
           489.15935,
           449.69282000000004,
           273.37002,
           524.47131,
           367.43498,
           403.49519,
           460.58622,
           353.35034,
           459.60150999999996,
           557.1669099999998,
           284.27008,
           391.50595,
           452.48982,
           400.46966000000003,
           505.6499,
           506.46935,
           468.56515999999993,
           518.04792,
           335.35987,
           298.40261,
           542.6469999999998,
           324.44319,
           844.95388,
           297.43448,
           279.39774,
           345.44082000000014,
           258.31892,
           411.58017,
           451.52146,
           327.35942,
           388.86787000000004,
           433.49958,
           323.34587,
           331.41093,
           629.53248,
           400.51602,
           435.51545999999996,
           998.00006,
           318.32936,
           523.49327,
           347.53468,
           493.55967999999996,
           349.42467999999997,
           444.54712,
           399.52312,
           372.52092000000016,
           444.52550999999994,
           294.8196200000001,
           474.59455,
           437.4237,
           606.72062,
           791.16148,
           439.52072000000004,
           300.30924,
           376.81252,
           412.48036,
           324.32252,
           570.52502,
           536.6639299999998,
           438.64197,
           408.55807000000004,
           475.66380999999996,
           553.47949,
           589.68349,
           520.66299,
           411.39325,
           444.446,
           398.4986,
           456.87564000000003,
           375.21822000000003,
           910.02896,
           369.43746,
           420.50080999999994,
           729.88472,
           558.70767,
           584.7019799999998,
           375.25966,
           417.38442000000003,
           237.25662999999997,
           398.25323,
           450.41104,
           490.05940999999996,
           540.63118,
           415.50588999999997,
           422.4273,
           342.3905200000001,
           295.30612
          ],
          "coloraxis": "coloraxis",
          "symbol": "circle"
         },
         "mode": "markers",
         "name": "",
         "orientation": "v",
         "showlegend": false,
         "type": "scatter",
         "x": [
          0.6121410131454468,
          1.312238335609436,
          -0.31605151295661926,
          2.9499096870422363,
          4.020462512969971,
          2.494448661804199,
          6.265888690948486,
          8.138687133789062,
          5.358692646026611,
          1.9432883262634277,
          4.346602916717529,
          5.114201068878174,
          1.6148803234100342,
          7.674295425415039,
          2.34281587600708,
          1.2800705432891846,
          4.299657821655273,
          5.419325828552246,
          3.1859567165374756,
          3.924530029296875,
          5.3479132652282715,
          0.7592549920082092,
          2.425945520401001,
          2.8052103519439697,
          4.146995544433594,
          8.412919998168945,
          3.772679328918457,
          4.2266526222229,
          2.4479570388793945,
          5.987226486206055,
          2.7622246742248535,
          3.9994442462921143,
          0.5122892260551453,
          1.5961360931396484,
          1.803698182106018,
          0.10857193171977997,
          6.18121337890625,
          5.775096416473389,
          3.7667014598846436,
          5.230362415313721,
          3.2628464698791504,
          3.818610906600952,
          3.82372784614563,
          6.601653099060059,
          3.7431211471557617,
          7.689350128173828,
          6.351338863372803,
          2.113417148590088,
          7.2857184410095215,
          0.5097764730453491,
          6.6510114669799805,
          2.354515790939331,
          1.6887505054473877,
          4.442287445068359,
          4.174423694610596,
          3.265604257583618,
          0.2722277045249939,
          1.569718360900879,
          1.4478533267974854,
          7.080022811889648,
          1.9191426038742065,
          4.1965227127075195,
          0.8008507490158081,
          3.562898874282837,
          5.667006492614746,
          4.5662431716918945,
          2.21415114402771,
          2.068603515625,
          3.9326016902923584,
          7.448805332183838,
          6.027463436126709,
          5.0707502365112305,
          3.534069776535034,
          2.6757938861846924,
          6.0388054847717285,
          3.3192198276519775,
          2.584239959716797,
          1.8423128128051758,
          3.8511855602264404,
          5.213879585266113,
          8.398826599121094,
          2.7658369541168213,
          6.451656341552734,
          1.0675996541976929,
          7.658557415008545,
          7.109184265136719,
          4.439913272857666,
          4.790502071380615,
          0.9676196575164795,
          0.17202770709991455,
          5.162428379058838,
          1.041850209236145,
          1.4239064455032349,
          3.359863042831421,
          6.98448371887207,
          1.2760002613067627,
          2.6962409019470215,
          1.7363075017929077,
          4.965590476989746,
          4.653494358062744,
          7.2118706703186035,
          1.9993798732757568,
          5.817275047302246,
          3.974368095397949,
          2.215724229812622,
          7.371673107147217,
          7.185688018798828,
          4.926158905029297,
          3.1746888160705566,
          1.2580084800720215,
          6.367241382598877,
          1.9667094945907593,
          3.973813533782959,
          5.8571085929870605,
          6.010693550109863,
          2.6329872608184814,
          3.3308486938476562,
          4.4927849769592285,
          0.4539411962032318,
          2.8699893951416016,
          4.985121726989746,
          1.3284703493118286,
          2.522258758544922,
          3.0210587978363037,
          2.1206233501434326,
          3.6329987049102783,
          6.74407958984375,
          5.811341762542725,
          2.272594690322876,
          2.4159188270568848,
          6.283708095550537,
          4.9831156730651855,
          1.3450838327407837,
          7.365291118621826,
          2.2811872959136963,
          2.368023157119751,
          5.354639530181885,
          6.616047382354736,
          7.19464635848999,
          7.568428993225098,
          4.404186248779297,
          5.6608195304870605,
          0.6300289034843445,
          6.3603925704956055,
          1.906645655632019,
          6.327366828918457,
          4.283649921417236,
          1.3299729824066162,
          2.8103201389312744,
          4.794628620147705
         ],
         "xaxis": "x",
         "y": [
          -3.605835437774658,
          -6.191664695739746,
          -4.854471683502197,
          -2.2406511306762695,
          -4.119647979736328,
          -3.752849817276001,
          -6.031072616577148,
          -2.7081801891326904,
          -4.823485374450684,
          -0.9854300618171692,
          -4.961258888244629,
          -2.5784237384796143,
          -4.919301986694336,
          -3.769443988800049,
          -6.772112846374512,
          -6.341683864593506,
          -6.249378681182861,
          -3.0496296882629395,
          -6.491398334503174,
          -2.6708545684814453,
          -4.137628555297852,
          -7.234225749969482,
          -5.905580043792725,
          -5.685381889343262,
          -6.570126056671143,
          -3.588588237762451,
          -6.8957200050354,
          -3.4925436973571777,
          -1.5187610387802124,
          -5.426393032073975,
          -3.2542624473571777,
          -5.370961666107178,
          -5.127917289733887,
          -7.509098052978516,
          -3.7639498710632324,
          -3.529331922531128,
          0.5299885272979736,
          -7.565428256988525,
          -3.5558221340179443,
          -4.932102203369141,
          -4.599443435668945,
          -1.0802061557769775,
          -4.458228588104248,
          -4.929386615753174,
          -4.116914749145508,
          -1.1697008609771729,
          -5.2501325607299805,
          -4.311372756958008,
          -5.074666976928711,
          -2.9455482959747314,
          0.46161535382270813,
          -7.9586052894592285,
          -5.866403579711914,
          -2.960728883743286,
          -5.301692485809326,
          -3.121051788330078,
          -5.848835468292236,
          -6.173707008361816,
          -3.4898500442504883,
          -3.7312729358673096,
          -5.436796188354492,
          0.05222729966044426,
          -2.6240811347961426,
          -5.293683052062988,
          -6.6531171798706055,
          -0.6250293850898743,
          -4.733996868133545,
          -1.6521859169006348,
          -3.7802317142486572,
          -3.228686809539795,
          -2.9223146438598633,
          -5.5268144607543945,
          -5.3868889808654785,
          -6.3570380210876465,
          -7.389227390289307,
          -4.514440059661865,
          -4.888813495635986,
          -5.462826251983643,
          -5.490224838256836,
          -1.6345369815826416,
          -3.8957602977752686,
          -7.4518513679504395,
          -3.3026838302612305,
          -4.03902530670166,
          -1.8473955392837524,
          -2.711752414703369,
          0.31768521666526794,
          -2.6794846057891846,
          -2.296710252761841,
          -5.293436050415039,
          -7.6453704833984375,
          -3.067823886871338,
          -2.8733980655670166,
          -2.901876926422119,
          -3.4930052757263184,
          -8.29393196105957,
          -3.7833712100982666,
          -3.18727707862854,
          -3.8373236656188965,
          -2.0278778076171875,
          -0.1515006721019745,
          -8.22286319732666,
          -4.09191370010376,
          0.5162367224693298,
          -3.9346799850463867,
          0.30186668038368225,
          0.7491397261619568,
          0.6728719472885132,
          -4.150223731994629,
          -3.6831347942352295,
          -3.4603235721588135,
          -5.092874526977539,
          -2.0956063270568848,
          -2.04461669921875,
          -0.9848315715789795,
          -3.9258482456207275,
          -1.0751900672912598,
          -3.937612295150757,
          -4.467075824737549,
          -4.1975226402282715,
          -5.299013614654541,
          -5.453120231628418,
          -0.7533577084541321,
          -5.094044208526611,
          -2.3497154712677,
          -6.00868034362793,
          -2.1325883865356445,
          -3.1130282878875732,
          -2.781590700149536,
          -5.430826663970947,
          -6.945786476135254,
          -3.8779611587524414,
          -4.582795143127441,
          -1.0309033393859863,
          -4.451474666595459,
          -6.488492965698242,
          -6.064074993133545,
          -0.27715808153152466,
          -2.137685775756836,
          -2.4627225399017334,
          -4.409026145935059,
          -1.5386414527893066,
          -5.697505950927734,
          -3.73445200920105,
          -4.5613508224487305,
          -4.656386852264404,
          -3.402012825012207,
          -6.939021587371826,
          -2.3032593727111816,
          -6.943629741668701
         ],
         "yaxis": "y"
        }
       ],
       "layout": {
        "coloraxis": {
         "colorbar": {
          "title": {
           "text": "label"
          }
         },
         "colorscale": [
          [
           0,
           "rgb(255,0,0)"
          ],
          [
           1,
           "rgb(0,0,255)"
          ]
         ],
         "showscale": false
        },
        "height": 600,
        "legend": {
         "tracegroupgap": 0
        },
        "template": {
         "data": {
          "bar": [
           {
            "error_x": {
             "color": "rgb(51,51,51)"
            },
            "error_y": {
             "color": "rgb(51,51,51)"
            },
            "marker": {
             "line": {
              "color": "rgb(237,237,237)",
              "width": 0.5
             }
            },
            "type": "bar"
           }
          ],
          "barpolar": [
           {
            "marker": {
             "line": {
              "color": "rgb(237,237,237)",
              "width": 0.5
             }
            },
            "type": "barpolar"
           }
          ],
          "carpet": [
           {
            "aaxis": {
             "endlinecolor": "rgb(51,51,51)",
             "gridcolor": "white",
             "linecolor": "white",
             "minorgridcolor": "white",
             "startlinecolor": "rgb(51,51,51)"
            },
            "baxis": {
             "endlinecolor": "rgb(51,51,51)",
             "gridcolor": "white",
             "linecolor": "white",
             "minorgridcolor": "white",
             "startlinecolor": "rgb(51,51,51)"
            },
            "type": "carpet"
           }
          ],
          "choropleth": [
           {
            "colorbar": {
             "outlinewidth": 0,
             "tickcolor": "rgb(237,237,237)",
             "ticklen": 6,
             "ticks": "inside"
            },
            "type": "choropleth"
           }
          ],
          "contour": [
           {
            "colorbar": {
             "outlinewidth": 0,
             "tickcolor": "rgb(237,237,237)",
             "ticklen": 6,
             "ticks": "inside"
            },
            "colorscale": [
             [
              0,
              "rgb(20,44,66)"
             ],
             [
              1,
              "rgb(90,179,244)"
             ]
            ],
            "type": "contour"
           }
          ],
          "contourcarpet": [
           {
            "colorbar": {
             "outlinewidth": 0,
             "tickcolor": "rgb(237,237,237)",
             "ticklen": 6,
             "ticks": "inside"
            },
            "type": "contourcarpet"
           }
          ],
          "heatmap": [
           {
            "colorbar": {
             "outlinewidth": 0,
             "tickcolor": "rgb(237,237,237)",
             "ticklen": 6,
             "ticks": "inside"
            },
            "colorscale": [
             [
              0,
              "rgb(20,44,66)"
             ],
             [
              1,
              "rgb(90,179,244)"
             ]
            ],
            "type": "heatmap"
           }
          ],
          "heatmapgl": [
           {
            "colorbar": {
             "outlinewidth": 0,
             "tickcolor": "rgb(237,237,237)",
             "ticklen": 6,
             "ticks": "inside"
            },
            "colorscale": [
             [
              0,
              "rgb(20,44,66)"
             ],
             [
              1,
              "rgb(90,179,244)"
             ]
            ],
            "type": "heatmapgl"
           }
          ],
          "histogram": [
           {
            "marker": {
             "colorbar": {
              "outlinewidth": 0,
              "tickcolor": "rgb(237,237,237)",
              "ticklen": 6,
              "ticks": "inside"
             }
            },
            "type": "histogram"
           }
          ],
          "histogram2d": [
           {
            "colorbar": {
             "outlinewidth": 0,
             "tickcolor": "rgb(237,237,237)",
             "ticklen": 6,
             "ticks": "inside"
            },
            "colorscale": [
             [
              0,
              "rgb(20,44,66)"
             ],
             [
              1,
              "rgb(90,179,244)"
             ]
            ],
            "type": "histogram2d"
           }
          ],
          "histogram2dcontour": [
           {
            "colorbar": {
             "outlinewidth": 0,
             "tickcolor": "rgb(237,237,237)",
             "ticklen": 6,
             "ticks": "inside"
            },
            "colorscale": [
             [
              0,
              "rgb(20,44,66)"
             ],
             [
              1,
              "rgb(90,179,244)"
             ]
            ],
            "type": "histogram2dcontour"
           }
          ],
          "mesh3d": [
           {
            "colorbar": {
             "outlinewidth": 0,
             "tickcolor": "rgb(237,237,237)",
             "ticklen": 6,
             "ticks": "inside"
            },
            "type": "mesh3d"
           }
          ],
          "parcoords": [
           {
            "line": {
             "colorbar": {
              "outlinewidth": 0,
              "tickcolor": "rgb(237,237,237)",
              "ticklen": 6,
              "ticks": "inside"
             }
            },
            "type": "parcoords"
           }
          ],
          "pie": [
           {
            "automargin": true,
            "type": "pie"
           }
          ],
          "scatter": [
           {
            "marker": {
             "colorbar": {
              "outlinewidth": 0,
              "tickcolor": "rgb(237,237,237)",
              "ticklen": 6,
              "ticks": "inside"
             }
            },
            "type": "scatter"
           }
          ],
          "scatter3d": [
           {
            "line": {
             "colorbar": {
              "outlinewidth": 0,
              "tickcolor": "rgb(237,237,237)",
              "ticklen": 6,
              "ticks": "inside"
             }
            },
            "marker": {
             "colorbar": {
              "outlinewidth": 0,
              "tickcolor": "rgb(237,237,237)",
              "ticklen": 6,
              "ticks": "inside"
             }
            },
            "type": "scatter3d"
           }
          ],
          "scattercarpet": [
           {
            "marker": {
             "colorbar": {
              "outlinewidth": 0,
              "tickcolor": "rgb(237,237,237)",
              "ticklen": 6,
              "ticks": "inside"
             }
            },
            "type": "scattercarpet"
           }
          ],
          "scattergeo": [
           {
            "marker": {
             "colorbar": {
              "outlinewidth": 0,
              "tickcolor": "rgb(237,237,237)",
              "ticklen": 6,
              "ticks": "inside"
             }
            },
            "type": "scattergeo"
           }
          ],
          "scattergl": [
           {
            "marker": {
             "colorbar": {
              "outlinewidth": 0,
              "tickcolor": "rgb(237,237,237)",
              "ticklen": 6,
              "ticks": "inside"
             }
            },
            "type": "scattergl"
           }
          ],
          "scattermapbox": [
           {
            "marker": {
             "colorbar": {
              "outlinewidth": 0,
              "tickcolor": "rgb(237,237,237)",
              "ticklen": 6,
              "ticks": "inside"
             }
            },
            "type": "scattermapbox"
           }
          ],
          "scatterpolar": [
           {
            "marker": {
             "colorbar": {
              "outlinewidth": 0,
              "tickcolor": "rgb(237,237,237)",
              "ticklen": 6,
              "ticks": "inside"
             }
            },
            "type": "scatterpolar"
           }
          ],
          "scatterpolargl": [
           {
            "marker": {
             "colorbar": {
              "outlinewidth": 0,
              "tickcolor": "rgb(237,237,237)",
              "ticklen": 6,
              "ticks": "inside"
             }
            },
            "type": "scatterpolargl"
           }
          ],
          "scatterternary": [
           {
            "marker": {
             "colorbar": {
              "outlinewidth": 0,
              "tickcolor": "rgb(237,237,237)",
              "ticklen": 6,
              "ticks": "inside"
             }
            },
            "type": "scatterternary"
           }
          ],
          "surface": [
           {
            "colorbar": {
             "outlinewidth": 0,
             "tickcolor": "rgb(237,237,237)",
             "ticklen": 6,
             "ticks": "inside"
            },
            "colorscale": [
             [
              0,
              "rgb(20,44,66)"
             ],
             [
              1,
              "rgb(90,179,244)"
             ]
            ],
            "type": "surface"
           }
          ],
          "table": [
           {
            "cells": {
             "fill": {
              "color": "rgb(237,237,237)"
             },
             "line": {
              "color": "white"
             }
            },
            "header": {
             "fill": {
              "color": "rgb(217,217,217)"
             },
             "line": {
              "color": "white"
             }
            },
            "type": "table"
           }
          ]
         },
         "layout": {
          "annotationdefaults": {
           "arrowhead": 0,
           "arrowwidth": 1
          },
          "coloraxis": {
           "colorbar": {
            "outlinewidth": 0,
            "tickcolor": "rgb(237,237,237)",
            "ticklen": 6,
            "ticks": "inside"
           }
          },
          "colorscale": {
           "sequential": [
            [
             0,
             "rgb(20,44,66)"
            ],
            [
             1,
             "rgb(90,179,244)"
            ]
           ],
           "sequentialminus": [
            [
             0,
             "rgb(20,44,66)"
            ],
            [
             1,
             "rgb(90,179,244)"
            ]
           ]
          },
          "colorway": [
           "#F8766D",
           "#A3A500",
           "#00BF7D",
           "#00B0F6",
           "#E76BF3"
          ],
          "font": {
           "color": "rgb(51,51,51)"
          },
          "geo": {
           "bgcolor": "white",
           "lakecolor": "white",
           "landcolor": "rgb(237,237,237)",
           "showlakes": true,
           "showland": true,
           "subunitcolor": "white"
          },
          "hoverlabel": {
           "align": "left"
          },
          "hovermode": "closest",
          "paper_bgcolor": "white",
          "plot_bgcolor": "rgb(237,237,237)",
          "polar": {
           "angularaxis": {
            "gridcolor": "white",
            "linecolor": "white",
            "showgrid": true,
            "tickcolor": "rgb(51,51,51)",
            "ticks": "outside"
           },
           "bgcolor": "rgb(237,237,237)",
           "radialaxis": {
            "gridcolor": "white",
            "linecolor": "white",
            "showgrid": true,
            "tickcolor": "rgb(51,51,51)",
            "ticks": "outside"
           }
          },
          "scene": {
           "xaxis": {
            "backgroundcolor": "rgb(237,237,237)",
            "gridcolor": "white",
            "gridwidth": 2,
            "linecolor": "white",
            "showbackground": true,
            "showgrid": true,
            "tickcolor": "rgb(51,51,51)",
            "ticks": "outside",
            "zerolinecolor": "white"
           },
           "yaxis": {
            "backgroundcolor": "rgb(237,237,237)",
            "gridcolor": "white",
            "gridwidth": 2,
            "linecolor": "white",
            "showbackground": true,
            "showgrid": true,
            "tickcolor": "rgb(51,51,51)",
            "ticks": "outside",
            "zerolinecolor": "white"
           },
           "zaxis": {
            "backgroundcolor": "rgb(237,237,237)",
            "gridcolor": "white",
            "gridwidth": 2,
            "linecolor": "white",
            "showbackground": true,
            "showgrid": true,
            "tickcolor": "rgb(51,51,51)",
            "ticks": "outside",
            "zerolinecolor": "white"
           }
          },
          "shapedefaults": {
           "fillcolor": "black",
           "line": {
            "width": 0
           },
           "opacity": 0.3
          },
          "ternary": {
           "aaxis": {
            "gridcolor": "white",
            "linecolor": "white",
            "showgrid": true,
            "tickcolor": "rgb(51,51,51)",
            "ticks": "outside"
           },
           "baxis": {
            "gridcolor": "white",
            "linecolor": "white",
            "showgrid": true,
            "tickcolor": "rgb(51,51,51)",
            "ticks": "outside"
           },
           "bgcolor": "rgb(237,237,237)",
           "caxis": {
            "gridcolor": "white",
            "linecolor": "white",
            "showgrid": true,
            "tickcolor": "rgb(51,51,51)",
            "ticks": "outside"
           }
          },
          "xaxis": {
           "automargin": true,
           "gridcolor": "white",
           "linecolor": "white",
           "showgrid": true,
           "tickcolor": "rgb(51,51,51)",
           "ticks": "outside",
           "title": {
            "standoff": 15
           },
           "zerolinecolor": "white"
          },
          "yaxis": {
           "automargin": true,
           "gridcolor": "white",
           "linecolor": "white",
           "showgrid": true,
           "tickcolor": "rgb(51,51,51)",
           "ticks": "outside",
           "title": {
            "standoff": 15
           },
           "zerolinecolor": "white"
          }
         }
        },
        "title": {
         "text": "Molecular weight"
        },
        "width": 600,
        "xaxis": {
         "anchor": "y",
         "domain": [
          0,
          1
         ],
         "showticklabels": false,
         "title": {
          "text": "x"
         }
        },
        "yaxis": {
         "anchor": "x",
         "domain": [
          0,
          1
         ],
         "showticklabels": false,
         "title": {
          "text": "y"
         }
        }
       }
      },
      "text/html": [
       "<div>\n",
       "        \n",
       "        \n",
       "            <div id=\"97e825d7-d84e-416b-9d71-843c2eca23c4\" class=\"plotly-graph-div\" style=\"height:600px; width:600px;\"></div>\n",
       "            <script type=\"text/javascript\">\n",
       "                require([\"plotly\"], function(Plotly) {\n",
       "                    window.PLOTLYENV=window.PLOTLYENV || {};\n",
       "                    \n",
       "                if (document.getElementById(\"97e825d7-d84e-416b-9d71-843c2eca23c4\")) {\n",
       "                    Plotly.newPlot(\n",
       "                        '97e825d7-d84e-416b-9d71-843c2eca23c4',\n",
       "                        [{\"hovertemplate\": \"<b>%{hovertext}</b><br><br>x=%{x}<br>y=%{y}<br>label=%{marker.color}<extra></extra>\", \"hovertext\": [0.0, 1.0, 2.0, 3.0, 4.0, 5.0, 6.0, 7.0, 8.0, 9.0, 10.0, 11.0, 12.0, 13.0, 14.0, 15.0, 16.0, 17.0, 18.0, 19.0, 20.0, 21.0, 22.0, 23.0, 24.0, 25.0, 26.0, 27.0, 28.0, 29.0, 30.0, 31.0, 32.0, 33.0, 34.0, 35.0, 36.0, 37.0, 38.0, 39.0, 40.0, 41.0, 42.0, 43.0, 44.0, 45.0, 46.0, 47.0, 48.0, 49.0, 50.0, 51.0, 52.0, 53.0, 54.0, 55.0, 56.0, 57.0, 58.0, 59.0, 60.0, 61.0, 62.0, 63.0, 64.0, 65.0, 66.0, 67.0, 68.0, 69.0, 70.0, 71.0, 72.0, 73.0, 74.0, 75.0, 76.0, 77.0, 78.0, 79.0, 80.0, 81.0, 82.0, 83.0, 84.0, 85.0, 86.0, 87.0, 88.0, 89.0, 90.0, 91.0, 92.0, 93.0, 94.0, 95.0, 96.0, 97.0, 98.0, 99.0, 100.0, 101.0, 102.0, 103.0, 104.0, 105.0, 106.0, 107.0, 108.0, 109.0, 110.0, 111.0, 112.0, 113.0, 114.0, 115.0, 116.0, 117.0, 118.0, 119.0, 120.0, 121.0, 122.0, 123.0, 124.0, 125.0, 126.0, 127.0, 128.0, 129.0, 130.0, 131.0, 132.0, 133.0, 134.0, 135.0, 136.0, 137.0, 138.0, 139.0, 140.0, 141.0, 142.0, 143.0, 144.0, 145.0, 146.0, 147.0, 148.0, 149.0], \"legendgroup\": \"\", \"marker\": {\"color\": [410.44807000000003, 510.02921, 326.30348, 421.71872, 326.4127200000001, 377.46276, 419.51606, 638.7558700000002, 454.53857999999997, 162.18518999999995, 585.6948, 397.51207999999997, 541.64553, 401.33063, 553.6131799999998, 411.49889, 462.50271, 492.5602, 406.41808, 298.40107, 300.22346, 433.39877, 352.38709, 392.88464, 393.51532000000003, 271.35744, 408.57139, 476.41702000000004, 315.36364, 411.49559, 429.95955999999995, 384.85933, 540.65264, 348.27603999999997, 265.28503, 344.45121, 814.17674, 471.51462000000004, 390.81924, 312.14804, 428.52610999999996, 170.16414, 436.88762, 494.57285999999993, 464.86800000000005, 847.99604, 423.50475, 408.5167, 499.96657000000016, 294.32956, 475.58262, 498.57619000000005, 467.4398, 518.39922, 343.8091, 543.67972, 315.75426, 516.5816599999998, 412.52671000000004, 549.58186, 298.37618, 229.31746, 246.31151, 489.15935, 449.69282000000004, 273.37002, 524.47131, 367.43498, 403.49519, 460.58622, 353.35034, 459.60150999999996, 557.1669099999998, 284.27008, 391.50595, 452.48982, 400.46966000000003, 505.6499, 506.46935, 468.56515999999993, 518.04792, 335.35987, 298.40261, 542.6469999999998, 324.44319, 844.95388, 297.43448, 279.39774, 345.44082000000014, 258.31892, 411.58017, 451.52146, 327.35942, 388.86787000000004, 433.49958, 323.34587, 331.41093, 629.53248, 400.51602, 435.51545999999996, 998.00006, 318.32936, 523.49327, 347.53468, 493.55967999999996, 349.42467999999997, 444.54712, 399.52312, 372.52092000000016, 444.52550999999994, 294.8196200000001, 474.59455, 437.4237, 606.72062, 791.16148, 439.52072000000004, 300.30924, 376.81252, 412.48036, 324.32252, 570.52502, 536.6639299999998, 438.64197, 408.55807000000004, 475.66380999999996, 553.47949, 589.68349, 520.66299, 411.39325, 444.446, 398.4986, 456.87564000000003, 375.21822000000003, 910.02896, 369.43746, 420.50080999999994, 729.88472, 558.70767, 584.7019799999998, 375.25966, 417.38442000000003, 237.25662999999997, 398.25323, 450.41104, 490.05940999999996, 540.63118, 415.50588999999997, 422.4273, 342.3905200000001, 295.30612], \"coloraxis\": \"coloraxis\", \"symbol\": \"circle\"}, \"mode\": \"markers\", \"name\": \"\", \"orientation\": \"v\", \"showlegend\": false, \"type\": \"scatter\", \"x\": [0.6121410131454468, 1.312238335609436, -0.31605151295661926, 2.9499096870422363, 4.020462512969971, 2.494448661804199, 6.265888690948486, 8.138687133789062, 5.358692646026611, 1.9432883262634277, 4.346602916717529, 5.114201068878174, 1.6148803234100342, 7.674295425415039, 2.34281587600708, 1.2800705432891846, 4.299657821655273, 5.419325828552246, 3.1859567165374756, 3.924530029296875, 5.3479132652282715, 0.7592549920082092, 2.425945520401001, 2.8052103519439697, 4.146995544433594, 8.412919998168945, 3.772679328918457, 4.2266526222229, 2.4479570388793945, 5.987226486206055, 2.7622246742248535, 3.9994442462921143, 0.5122892260551453, 1.5961360931396484, 1.803698182106018, 0.10857193171977997, 6.18121337890625, 5.775096416473389, 3.7667014598846436, 5.230362415313721, 3.2628464698791504, 3.818610906600952, 3.82372784614563, 6.601653099060059, 3.7431211471557617, 7.689350128173828, 6.351338863372803, 2.113417148590088, 7.2857184410095215, 0.5097764730453491, 6.6510114669799805, 2.354515790939331, 1.6887505054473877, 4.442287445068359, 4.174423694610596, 3.265604257583618, 0.2722277045249939, 1.569718360900879, 1.4478533267974854, 7.080022811889648, 1.9191426038742065, 4.1965227127075195, 0.8008507490158081, 3.562898874282837, 5.667006492614746, 4.5662431716918945, 2.21415114402771, 2.068603515625, 3.9326016902923584, 7.448805332183838, 6.027463436126709, 5.0707502365112305, 3.534069776535034, 2.6757938861846924, 6.0388054847717285, 3.3192198276519775, 2.584239959716797, 1.8423128128051758, 3.8511855602264404, 5.213879585266113, 8.398826599121094, 2.7658369541168213, 6.451656341552734, 1.0675996541976929, 7.658557415008545, 7.109184265136719, 4.439913272857666, 4.790502071380615, 0.9676196575164795, 0.17202770709991455, 5.162428379058838, 1.041850209236145, 1.4239064455032349, 3.359863042831421, 6.98448371887207, 1.2760002613067627, 2.6962409019470215, 1.7363075017929077, 4.965590476989746, 4.653494358062744, 7.2118706703186035, 1.9993798732757568, 5.817275047302246, 3.974368095397949, 2.215724229812622, 7.371673107147217, 7.185688018798828, 4.926158905029297, 3.1746888160705566, 1.2580084800720215, 6.367241382598877, 1.9667094945907593, 3.973813533782959, 5.8571085929870605, 6.010693550109863, 2.6329872608184814, 3.3308486938476562, 4.4927849769592285, 0.4539411962032318, 2.8699893951416016, 4.985121726989746, 1.3284703493118286, 2.522258758544922, 3.0210587978363037, 2.1206233501434326, 3.6329987049102783, 6.74407958984375, 5.811341762542725, 2.272594690322876, 2.4159188270568848, 6.283708095550537, 4.9831156730651855, 1.3450838327407837, 7.365291118621826, 2.2811872959136963, 2.368023157119751, 5.354639530181885, 6.616047382354736, 7.19464635848999, 7.568428993225098, 4.404186248779297, 5.6608195304870605, 0.6300289034843445, 6.3603925704956055, 1.906645655632019, 6.327366828918457, 4.283649921417236, 1.3299729824066162, 2.8103201389312744, 4.794628620147705], \"xaxis\": \"x\", \"y\": [-3.605835437774658, -6.191664695739746, -4.854471683502197, -2.2406511306762695, -4.119647979736328, -3.752849817276001, -6.031072616577148, -2.7081801891326904, -4.823485374450684, -0.9854300618171692, -4.961258888244629, -2.5784237384796143, -4.919301986694336, -3.769443988800049, -6.772112846374512, -6.341683864593506, -6.249378681182861, -3.0496296882629395, -6.491398334503174, -2.6708545684814453, -4.137628555297852, -7.234225749969482, -5.905580043792725, -5.685381889343262, -6.570126056671143, -3.588588237762451, -6.8957200050354, -3.4925436973571777, -1.5187610387802124, -5.426393032073975, -3.2542624473571777, -5.370961666107178, -5.127917289733887, -7.509098052978516, -3.7639498710632324, -3.529331922531128, 0.5299885272979736, -7.565428256988525, -3.5558221340179443, -4.932102203369141, -4.599443435668945, -1.0802061557769775, -4.458228588104248, -4.929386615753174, -4.116914749145508, -1.1697008609771729, -5.2501325607299805, -4.311372756958008, -5.074666976928711, -2.9455482959747314, 0.46161535382270813, -7.9586052894592285, -5.866403579711914, -2.960728883743286, -5.301692485809326, -3.121051788330078, -5.848835468292236, -6.173707008361816, -3.4898500442504883, -3.7312729358673096, -5.436796188354492, 0.05222729966044426, -2.6240811347961426, -5.293683052062988, -6.6531171798706055, -0.6250293850898743, -4.733996868133545, -1.6521859169006348, -3.7802317142486572, -3.228686809539795, -2.9223146438598633, -5.5268144607543945, -5.3868889808654785, -6.3570380210876465, -7.389227390289307, -4.514440059661865, -4.888813495635986, -5.462826251983643, -5.490224838256836, -1.6345369815826416, -3.8957602977752686, -7.4518513679504395, -3.3026838302612305, -4.03902530670166, -1.8473955392837524, -2.711752414703369, 0.31768521666526794, -2.6794846057891846, -2.296710252761841, -5.293436050415039, -7.6453704833984375, -3.067823886871338, -2.8733980655670166, -2.901876926422119, -3.4930052757263184, -8.29393196105957, -3.7833712100982666, -3.18727707862854, -3.8373236656188965, -2.0278778076171875, -0.1515006721019745, -8.22286319732666, -4.09191370010376, 0.5162367224693298, -3.9346799850463867, 0.30186668038368225, 0.7491397261619568, 0.6728719472885132, -4.150223731994629, -3.6831347942352295, -3.4603235721588135, -5.092874526977539, -2.0956063270568848, -2.04461669921875, -0.9848315715789795, -3.9258482456207275, -1.0751900672912598, -3.937612295150757, -4.467075824737549, -4.1975226402282715, -5.299013614654541, -5.453120231628418, -0.7533577084541321, -5.094044208526611, -2.3497154712677, -6.00868034362793, -2.1325883865356445, -3.1130282878875732, -2.781590700149536, -5.430826663970947, -6.945786476135254, -3.8779611587524414, -4.582795143127441, -1.0309033393859863, -4.451474666595459, -6.488492965698242, -6.064074993133545, -0.27715808153152466, -2.137685775756836, -2.4627225399017334, -4.409026145935059, -1.5386414527893066, -5.697505950927734, -3.73445200920105, -4.5613508224487305, -4.656386852264404, -3.402012825012207, -6.939021587371826, -2.3032593727111816, -6.943629741668701], \"yaxis\": \"y\"}],\n",
       "                        {\"coloraxis\": {\"colorbar\": {\"title\": {\"text\": \"label\"}}, \"colorscale\": [[0.0, \"rgb(255,0,0)\"], [1.0, \"rgb(0,0,255)\"]], \"showscale\": false}, \"height\": 600, \"legend\": {\"tracegroupgap\": 0}, \"template\": {\"data\": {\"bar\": [{\"error_x\": {\"color\": \"rgb(51,51,51)\"}, \"error_y\": {\"color\": \"rgb(51,51,51)\"}, \"marker\": {\"line\": {\"color\": \"rgb(237,237,237)\", \"width\": 0.5}}, \"type\": \"bar\"}], \"barpolar\": [{\"marker\": {\"line\": {\"color\": \"rgb(237,237,237)\", \"width\": 0.5}}, \"type\": \"barpolar\"}], \"carpet\": [{\"aaxis\": {\"endlinecolor\": \"rgb(51,51,51)\", \"gridcolor\": \"white\", \"linecolor\": \"white\", \"minorgridcolor\": \"white\", \"startlinecolor\": \"rgb(51,51,51)\"}, \"baxis\": {\"endlinecolor\": \"rgb(51,51,51)\", \"gridcolor\": \"white\", \"linecolor\": \"white\", \"minorgridcolor\": \"white\", \"startlinecolor\": \"rgb(51,51,51)\"}, \"type\": \"carpet\"}], \"choropleth\": [{\"colorbar\": {\"outlinewidth\": 0, \"tickcolor\": \"rgb(237,237,237)\", \"ticklen\": 6, \"ticks\": \"inside\"}, \"type\": \"choropleth\"}], \"contour\": [{\"colorbar\": {\"outlinewidth\": 0, \"tickcolor\": \"rgb(237,237,237)\", \"ticklen\": 6, \"ticks\": \"inside\"}, \"colorscale\": [[0, \"rgb(20,44,66)\"], [1, \"rgb(90,179,244)\"]], \"type\": \"contour\"}], \"contourcarpet\": [{\"colorbar\": {\"outlinewidth\": 0, \"tickcolor\": \"rgb(237,237,237)\", \"ticklen\": 6, \"ticks\": \"inside\"}, \"type\": \"contourcarpet\"}], \"heatmap\": [{\"colorbar\": {\"outlinewidth\": 0, \"tickcolor\": \"rgb(237,237,237)\", \"ticklen\": 6, \"ticks\": \"inside\"}, \"colorscale\": [[0, \"rgb(20,44,66)\"], [1, \"rgb(90,179,244)\"]], \"type\": \"heatmap\"}], \"heatmapgl\": [{\"colorbar\": {\"outlinewidth\": 0, \"tickcolor\": \"rgb(237,237,237)\", \"ticklen\": 6, \"ticks\": \"inside\"}, \"colorscale\": [[0, \"rgb(20,44,66)\"], [1, \"rgb(90,179,244)\"]], \"type\": \"heatmapgl\"}], \"histogram\": [{\"marker\": {\"colorbar\": {\"outlinewidth\": 0, \"tickcolor\": \"rgb(237,237,237)\", \"ticklen\": 6, \"ticks\": \"inside\"}}, \"type\": \"histogram\"}], \"histogram2d\": [{\"colorbar\": {\"outlinewidth\": 0, \"tickcolor\": \"rgb(237,237,237)\", \"ticklen\": 6, \"ticks\": \"inside\"}, \"colorscale\": [[0, \"rgb(20,44,66)\"], [1, \"rgb(90,179,244)\"]], \"type\": \"histogram2d\"}], \"histogram2dcontour\": [{\"colorbar\": {\"outlinewidth\": 0, \"tickcolor\": \"rgb(237,237,237)\", \"ticklen\": 6, \"ticks\": \"inside\"}, \"colorscale\": [[0, \"rgb(20,44,66)\"], [1, \"rgb(90,179,244)\"]], \"type\": \"histogram2dcontour\"}], \"mesh3d\": [{\"colorbar\": {\"outlinewidth\": 0, \"tickcolor\": \"rgb(237,237,237)\", \"ticklen\": 6, \"ticks\": \"inside\"}, \"type\": \"mesh3d\"}], \"parcoords\": [{\"line\": {\"colorbar\": {\"outlinewidth\": 0, \"tickcolor\": \"rgb(237,237,237)\", \"ticklen\": 6, \"ticks\": \"inside\"}}, \"type\": \"parcoords\"}], \"pie\": [{\"automargin\": true, \"type\": \"pie\"}], \"scatter\": [{\"marker\": {\"colorbar\": {\"outlinewidth\": 0, \"tickcolor\": \"rgb(237,237,237)\", \"ticklen\": 6, \"ticks\": \"inside\"}}, \"type\": \"scatter\"}], \"scatter3d\": [{\"line\": {\"colorbar\": {\"outlinewidth\": 0, \"tickcolor\": \"rgb(237,237,237)\", \"ticklen\": 6, \"ticks\": \"inside\"}}, \"marker\": {\"colorbar\": {\"outlinewidth\": 0, \"tickcolor\": \"rgb(237,237,237)\", \"ticklen\": 6, \"ticks\": \"inside\"}}, \"type\": \"scatter3d\"}], \"scattercarpet\": [{\"marker\": {\"colorbar\": {\"outlinewidth\": 0, \"tickcolor\": \"rgb(237,237,237)\", \"ticklen\": 6, \"ticks\": \"inside\"}}, \"type\": \"scattercarpet\"}], \"scattergeo\": [{\"marker\": {\"colorbar\": {\"outlinewidth\": 0, \"tickcolor\": \"rgb(237,237,237)\", \"ticklen\": 6, \"ticks\": \"inside\"}}, \"type\": \"scattergeo\"}], \"scattergl\": [{\"marker\": {\"colorbar\": {\"outlinewidth\": 0, \"tickcolor\": \"rgb(237,237,237)\", \"ticklen\": 6, \"ticks\": \"inside\"}}, \"type\": \"scattergl\"}], \"scattermapbox\": [{\"marker\": {\"colorbar\": {\"outlinewidth\": 0, \"tickcolor\": \"rgb(237,237,237)\", \"ticklen\": 6, \"ticks\": \"inside\"}}, \"type\": \"scattermapbox\"}], \"scatterpolar\": [{\"marker\": {\"colorbar\": {\"outlinewidth\": 0, \"tickcolor\": \"rgb(237,237,237)\", \"ticklen\": 6, \"ticks\": \"inside\"}}, \"type\": \"scatterpolar\"}], \"scatterpolargl\": [{\"marker\": {\"colorbar\": {\"outlinewidth\": 0, \"tickcolor\": \"rgb(237,237,237)\", \"ticklen\": 6, \"ticks\": \"inside\"}}, \"type\": \"scatterpolargl\"}], \"scatterternary\": [{\"marker\": {\"colorbar\": {\"outlinewidth\": 0, \"tickcolor\": \"rgb(237,237,237)\", \"ticklen\": 6, \"ticks\": \"inside\"}}, \"type\": \"scatterternary\"}], \"surface\": [{\"colorbar\": {\"outlinewidth\": 0, \"tickcolor\": \"rgb(237,237,237)\", \"ticklen\": 6, \"ticks\": \"inside\"}, \"colorscale\": [[0, \"rgb(20,44,66)\"], [1, \"rgb(90,179,244)\"]], \"type\": \"surface\"}], \"table\": [{\"cells\": {\"fill\": {\"color\": \"rgb(237,237,237)\"}, \"line\": {\"color\": \"white\"}}, \"header\": {\"fill\": {\"color\": \"rgb(217,217,217)\"}, \"line\": {\"color\": \"white\"}}, \"type\": \"table\"}]}, \"layout\": {\"annotationdefaults\": {\"arrowhead\": 0, \"arrowwidth\": 1}, \"coloraxis\": {\"colorbar\": {\"outlinewidth\": 0, \"tickcolor\": \"rgb(237,237,237)\", \"ticklen\": 6, \"ticks\": \"inside\"}}, \"colorscale\": {\"sequential\": [[0, \"rgb(20,44,66)\"], [1, \"rgb(90,179,244)\"]], \"sequentialminus\": [[0, \"rgb(20,44,66)\"], [1, \"rgb(90,179,244)\"]]}, \"colorway\": [\"#F8766D\", \"#A3A500\", \"#00BF7D\", \"#00B0F6\", \"#E76BF3\"], \"font\": {\"color\": \"rgb(51,51,51)\"}, \"geo\": {\"bgcolor\": \"white\", \"lakecolor\": \"white\", \"landcolor\": \"rgb(237,237,237)\", \"showlakes\": true, \"showland\": true, \"subunitcolor\": \"white\"}, \"hoverlabel\": {\"align\": \"left\"}, \"hovermode\": \"closest\", \"paper_bgcolor\": \"white\", \"plot_bgcolor\": \"rgb(237,237,237)\", \"polar\": {\"angularaxis\": {\"gridcolor\": \"white\", \"linecolor\": \"white\", \"showgrid\": true, \"tickcolor\": \"rgb(51,51,51)\", \"ticks\": \"outside\"}, \"bgcolor\": \"rgb(237,237,237)\", \"radialaxis\": {\"gridcolor\": \"white\", \"linecolor\": \"white\", \"showgrid\": true, \"tickcolor\": \"rgb(51,51,51)\", \"ticks\": \"outside\"}}, \"scene\": {\"xaxis\": {\"backgroundcolor\": \"rgb(237,237,237)\", \"gridcolor\": \"white\", \"gridwidth\": 2, \"linecolor\": \"white\", \"showbackground\": true, \"showgrid\": true, \"tickcolor\": \"rgb(51,51,51)\", \"ticks\": \"outside\", \"zerolinecolor\": \"white\"}, \"yaxis\": {\"backgroundcolor\": \"rgb(237,237,237)\", \"gridcolor\": \"white\", \"gridwidth\": 2, \"linecolor\": \"white\", \"showbackground\": true, \"showgrid\": true, \"tickcolor\": \"rgb(51,51,51)\", \"ticks\": \"outside\", \"zerolinecolor\": \"white\"}, \"zaxis\": {\"backgroundcolor\": \"rgb(237,237,237)\", \"gridcolor\": \"white\", \"gridwidth\": 2, \"linecolor\": \"white\", \"showbackground\": true, \"showgrid\": true, \"tickcolor\": \"rgb(51,51,51)\", \"ticks\": \"outside\", \"zerolinecolor\": \"white\"}}, \"shapedefaults\": {\"fillcolor\": \"black\", \"line\": {\"width\": 0}, \"opacity\": 0.3}, \"ternary\": {\"aaxis\": {\"gridcolor\": \"white\", \"linecolor\": \"white\", \"showgrid\": true, \"tickcolor\": \"rgb(51,51,51)\", \"ticks\": \"outside\"}, \"baxis\": {\"gridcolor\": \"white\", \"linecolor\": \"white\", \"showgrid\": true, \"tickcolor\": \"rgb(51,51,51)\", \"ticks\": \"outside\"}, \"bgcolor\": \"rgb(237,237,237)\", \"caxis\": {\"gridcolor\": \"white\", \"linecolor\": \"white\", \"showgrid\": true, \"tickcolor\": \"rgb(51,51,51)\", \"ticks\": \"outside\"}}, \"xaxis\": {\"automargin\": true, \"gridcolor\": \"white\", \"linecolor\": \"white\", \"showgrid\": true, \"tickcolor\": \"rgb(51,51,51)\", \"ticks\": \"outside\", \"title\": {\"standoff\": 15}, \"zerolinecolor\": \"white\"}, \"yaxis\": {\"automargin\": true, \"gridcolor\": \"white\", \"linecolor\": \"white\", \"showgrid\": true, \"tickcolor\": \"rgb(51,51,51)\", \"ticks\": \"outside\", \"title\": {\"standoff\": 15}, \"zerolinecolor\": \"white\"}}}, \"title\": {\"text\": \"Molecular weight\"}, \"width\": 600, \"xaxis\": {\"anchor\": \"y\", \"domain\": [0.0, 1.0], \"showticklabels\": false, \"title\": {\"text\": \"x\"}}, \"yaxis\": {\"anchor\": \"x\", \"domain\": [0.0, 1.0], \"showticklabels\": false, \"title\": {\"text\": \"y\"}}},\n",
       "                        {\"responsive\": true}\n",
       "                    ).then(function(){\n",
       "                            \n",
       "var gd = document.getElementById('97e825d7-d84e-416b-9d71-843c2eca23c4');\n",
       "var x = new MutationObserver(function (mutations, observer) {{\n",
       "        var display = window.getComputedStyle(gd).display;\n",
       "        if (!display || display === 'none') {{\n",
       "            console.log([gd, 'removed!']);\n",
       "            Plotly.purge(gd);\n",
       "            observer.disconnect();\n",
       "        }}\n",
       "}});\n",
       "\n",
       "// Listen for the removal of the full notebook cells\n",
       "var notebookContainer = gd.closest('#notebook-container');\n",
       "if (notebookContainer) {{\n",
       "    x.observe(notebookContainer, {childList: true});\n",
       "}}\n",
       "\n",
       "// Listen for the clearing of the current output cell\n",
       "var outputEl = gd.closest('.output');\n",
       "if (outputEl) {{\n",
       "    x.observe(outputEl, {childList: true});\n",
       "}}\n",
       "\n",
       "                        })\n",
       "                };\n",
       "                });\n",
       "            </script>\n",
       "        </div>"
      ]
     },
     "metadata": {},
     "output_type": "display_data"
    }
   ],
   "source": [
    "molecular_weight = temp_plot_input\n",
    "molecular_weight['label'] = df['CMP_MOLECULAR_WEIGHT']\n",
    "molecular_weight_plot = render_2D_scatter_plotly(molecular_weight, title='Molecular weight')\n",
    "molecular_weight_plot"
   ]
  },
  {
   "cell_type": "markdown",
   "metadata": {},
   "source": [
    "#### Solubility"
   ]
  },
  {
   "cell_type": "code",
   "execution_count": null,
   "metadata": {},
   "outputs": [],
   "source": [
    "solubility = temp_plot_input\n",
    "solubility['label'] = df['CMP_SOLUBILITY']\n",
    "solubility_plot = render_2D_scatter_plotly(solubility, title='Solubility')\n",
    "solubility_plot"
   ]
  },
  {
   "cell_type": "markdown",
   "metadata": {},
   "source": [
    "#### Surface area"
   ]
  },
  {
   "cell_type": "code",
   "execution_count": null,
   "metadata": {},
   "outputs": [],
   "source": [
    "surfacearea = temp_plot_input\n",
    "surfacearea['label'] = df['CMP_MOLECULAR_SURFACEAREA']\n",
    "surfacearea_plot = render_2D_scatter_plotly(surfacearea, title='Molecular surface area')\n",
    "surfacearea_plot"
   ]
  },
  {
   "cell_type": "markdown",
   "metadata": {},
   "source": [
    "#### Number of aromatic rings"
   ]
  },
  {
   "cell_type": "code",
   "execution_count": null,
   "metadata": {},
   "outputs": [],
   "source": [
    "aromatic_rings = temp_plot_input\n",
    "aromatic_rings['label'] = df['CMP_NUM_AROMATICRINGS']\n",
    "aromatic_rings_plot = render_2D_scatter_plotly(aromatic_rings, title='Number of aromatic rings')\n",
    "aromatic_rings_plot"
   ]
  },
  {
   "cell_type": "markdown",
   "metadata": {},
   "source": [
    "#### LogP"
   ]
  },
  {
   "cell_type": "code",
   "execution_count": null,
   "metadata": {},
   "outputs": [],
   "source": [
    "LogP = temp_plot_input\n",
    "LogP['label'] = df['CMP_LOGP']\n",
    "LogP_plot = render_2D_scatter_plotly(LogP, title='LogP')\n",
    "LogP_plot"
   ]
  },
  {
   "cell_type": "markdown",
   "metadata": {},
   "source": [
    "#### Share of positively charged atoms"
   ]
  },
  {
   "cell_type": "code",
   "execution_count": null,
   "metadata": {},
   "outputs": [],
   "source": [
    "pos_charge = temp_plot_input\n",
    "pos_charge['label'] = df['CMP_ATOMS_POSITIVE_FRAC']\n",
    "pos_charge_plot = render_2D_scatter_plotly(pos_charge, title='Share of positively charged atoms')\n",
    "pos_charge_plot"
   ]
  },
  {
   "cell_type": "markdown",
   "metadata": {},
   "source": [
    "#### Share of negatively charged atoms"
   ]
  },
  {
   "cell_type": "code",
   "execution_count": null,
   "metadata": {},
   "outputs": [],
   "source": [
    "neg_charge = temp_plot_input\n",
    "neg_charge['label'] = df['CMP_ATOMS_NEGATIVE_FRAC']\n",
    "neg_charge_plot = render_2D_scatter_plotly(neg_charge, title='Share of negatively charged atoms')\n",
    "neg_charge_plot"
   ]
  },
  {
   "cell_type": "code",
   "execution_count": null,
   "metadata": {},
   "outputs": [],
   "source": [
    "df.head()"
   ]
  },
  {
   "cell_type": "code",
   "execution_count": null,
   "metadata": {},
   "outputs": [],
   "source": [
    "df.describe()"
   ]
  },
  {
   "cell_type": "code",
   "execution_count": null,
   "metadata": {},
   "outputs": [],
   "source": []
  }
 ],
 "metadata": {
  "kernelspec": {
   "display_name": "Python 3",
   "language": "python",
   "name": "python3"
  },
  "language_info": {
   "codemirror_mode": {
    "name": "ipython",
    "version": 3
   },
   "file_extension": ".py",
   "mimetype": "text/x-python",
   "name": "python",
   "nbconvert_exporter": "python",
   "pygments_lexer": "ipython3",
   "version": "3.6.10"
  }
 },
 "nbformat": 4,
 "nbformat_minor": 4
}
