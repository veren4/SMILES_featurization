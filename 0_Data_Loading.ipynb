{
 "cells": [
  {
   "cell_type": "markdown",
   "metadata": {},
   "source": [
    "As I don't yet have found a dataset with more features, I will start to implement the script with the solvation dataset."
   ]
  },
  {
   "cell_type": "code",
   "execution_count": 1,
   "metadata": {},
   "outputs": [],
   "source": [
    "import pandas as pd\n",
    "import numpy as np"
   ]
  },
  {
   "cell_type": "code",
   "execution_count": 2,
   "metadata": {},
   "outputs": [],
   "source": [
    "dataset = pd.read_csv('../datasets/FreeSolv/SAMPL.csv')"
   ]
  },
  {
   "cell_type": "code",
   "execution_count": 3,
   "metadata": {},
   "outputs": [],
   "source": [
    "df = dataset.drop(columns = ['iupac'])"
   ]
  },
  {
   "cell_type": "markdown",
   "metadata": {},
   "source": [
    "I'll take a small subset for now."
   ]
  },
  {
   "cell_type": "code",
   "execution_count": 4,
   "metadata": {},
   "outputs": [
    {
     "data": {
      "text/html": [
       "<div>\n",
       "<style scoped>\n",
       "    .dataframe tbody tr th:only-of-type {\n",
       "        vertical-align: middle;\n",
       "    }\n",
       "\n",
       "    .dataframe tbody tr th {\n",
       "        vertical-align: top;\n",
       "    }\n",
       "\n",
       "    .dataframe thead th {\n",
       "        text-align: right;\n",
       "    }\n",
       "</style>\n",
       "<table border=\"1\" class=\"dataframe\">\n",
       "  <thead>\n",
       "    <tr style=\"text-align: right;\">\n",
       "      <th></th>\n",
       "      <th>smiles</th>\n",
       "      <th>expt</th>\n",
       "      <th>calc</th>\n",
       "    </tr>\n",
       "  </thead>\n",
       "  <tbody>\n",
       "    <tr>\n",
       "      <th>627</th>\n",
       "      <td>COc1ccccc1O</td>\n",
       "      <td>-5.94</td>\n",
       "      <td>-4.746</td>\n",
       "    </tr>\n",
       "    <tr>\n",
       "      <th>414</th>\n",
       "      <td>CCCN(CCC)c1c(cc(cc1[N+](=O)[O-])S(=O)(=O)C)[N+...</td>\n",
       "      <td>-7.98</td>\n",
       "      <td>-11.246</td>\n",
       "    </tr>\n",
       "    <tr>\n",
       "      <th>637</th>\n",
       "      <td>CCCCCCCC(=O)OC</td>\n",
       "      <td>-2.04</td>\n",
       "      <td>-3.035</td>\n",
       "    </tr>\n",
       "    <tr>\n",
       "      <th>546</th>\n",
       "      <td>CC(C)[N+](=O)[O-]</td>\n",
       "      <td>-3.13</td>\n",
       "      <td>-1.741</td>\n",
       "    </tr>\n",
       "    <tr>\n",
       "      <th>348</th>\n",
       "      <td>CCCC[N+](=O)[O-]</td>\n",
       "      <td>-3.09</td>\n",
       "      <td>-1.449</td>\n",
       "    </tr>\n",
       "    <tr>\n",
       "      <th>...</th>\n",
       "      <td>...</td>\n",
       "      <td>...</td>\n",
       "      <td>...</td>\n",
       "    </tr>\n",
       "    <tr>\n",
       "      <th>199</th>\n",
       "      <td>CCCCCCOC(=O)C</td>\n",
       "      <td>-2.26</td>\n",
       "      <td>-2.219</td>\n",
       "    </tr>\n",
       "    <tr>\n",
       "      <th>178</th>\n",
       "      <td>CC(=O)N1CCCC1</td>\n",
       "      <td>-9.80</td>\n",
       "      <td>-7.831</td>\n",
       "    </tr>\n",
       "    <tr>\n",
       "      <th>508</th>\n",
       "      <td>c1cc(c(c(c1)Cl)c2c(cc(cc2Cl)Cl)Cl)Cl</td>\n",
       "      <td>-1.96</td>\n",
       "      <td>-0.477</td>\n",
       "    </tr>\n",
       "    <tr>\n",
       "      <th>529</th>\n",
       "      <td>C=CCO</td>\n",
       "      <td>-5.03</td>\n",
       "      <td>-3.286</td>\n",
       "    </tr>\n",
       "    <tr>\n",
       "      <th>448</th>\n",
       "      <td>C(C(Cl)(Cl)Cl)(Cl)Cl</td>\n",
       "      <td>-1.23</td>\n",
       "      <td>0.059</td>\n",
       "    </tr>\n",
       "  </tbody>\n",
       "</table>\n",
       "<p>200 rows × 3 columns</p>\n",
       "</div>"
      ],
      "text/plain": [
       "                                                smiles  expt    calc\n",
       "627                                        COc1ccccc1O -5.94  -4.746\n",
       "414  CCCN(CCC)c1c(cc(cc1[N+](=O)[O-])S(=O)(=O)C)[N+... -7.98 -11.246\n",
       "637                                     CCCCCCCC(=O)OC -2.04  -3.035\n",
       "546                                  CC(C)[N+](=O)[O-] -3.13  -1.741\n",
       "348                                   CCCC[N+](=O)[O-] -3.09  -1.449\n",
       "..                                                 ...   ...     ...\n",
       "199                                      CCCCCCOC(=O)C -2.26  -2.219\n",
       "178                                      CC(=O)N1CCCC1 -9.80  -7.831\n",
       "508               c1cc(c(c(c1)Cl)c2c(cc(cc2Cl)Cl)Cl)Cl -1.96  -0.477\n",
       "529                                              C=CCO -5.03  -3.286\n",
       "448                               C(C(Cl)(Cl)Cl)(Cl)Cl -1.23   0.059\n",
       "\n",
       "[200 rows x 3 columns]"
      ]
     },
     "execution_count": 4,
     "metadata": {},
     "output_type": "execute_result"
    }
   ],
   "source": [
    "df = df.sample(n = 200)\n",
    "df"
   ]
  },
  {
   "cell_type": "markdown",
   "metadata": {},
   "source": [
    "### Save the output of this notebook"
   ]
  },
  {
   "cell_type": "code",
   "execution_count": 5,
   "metadata": {},
   "outputs": [],
   "source": [
    "df.to_csv('df_notebook0_dataloading_200samples.csv')"
   ]
  },
  {
   "cell_type": "code",
   "execution_count": null,
   "metadata": {},
   "outputs": [],
   "source": []
  }
 ],
 "metadata": {
  "kernelspec": {
   "display_name": "Python 3",
   "language": "python",
   "name": "python3"
  },
  "language_info": {
   "codemirror_mode": {
    "name": "ipython",
    "version": 3
   },
   "file_extension": ".py",
   "mimetype": "text/x-python",
   "name": "python",
   "nbconvert_exporter": "python",
   "pygments_lexer": "ipython3",
   "version": "3.6.10"
  }
 },
 "nbformat": 4,
 "nbformat_minor": 4
}
