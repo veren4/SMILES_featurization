{
 "cells": [
  {
   "cell_type": "code",
   "execution_count": 1,
   "metadata": {},
   "outputs": [],
   "source": [
    "import pandas as pd     \n",
    "from SmilesPE.pretokenizer import atomwise_tokenizer\n",
    "import pdb      #pdb.set_trace()"
   ]
  },
  {
   "cell_type": "code",
   "execution_count": 2,
   "metadata": {},
   "outputs": [],
   "source": [
    "le_s1 = pd.read_table('../datasets/Lenselink_et_al/Lenselink_sample_1.txt', usecols=['CMP_CHEMBL_ID'])\n",
    "le_s2 = pd.read_table('../datasets/Lenselink_et_al/Lenselink_sample_2.txt', usecols=['CMP_CHEMBL_ID'])\n",
    "le_s3 = pd.read_table('../datasets/Lenselink_et_al/Lenselink_sample_3.txt', usecols=['CMP_CHEMBL_ID'])\n",
    "le_s4 = pd.read_table('../datasets/Lenselink_et_al/Lenselink_sample_4.txt', usecols=['CMP_CHEMBL_ID'])\n",
    "le_s5 = pd.read_table('../datasets/Lenselink_et_al/Lenselink_sample_5.txt', usecols=['CMP_CHEMBL_ID'])"
   ]
  },
  {
   "cell_type": "code",
   "execution_count": 3,
   "metadata": {},
   "outputs": [],
   "source": [
    "lense = le_s1.append(le_s2)\n",
    "lense = lense.append(le_s3)\n",
    "lense = lense.append(le_s4)\n",
    "lense = lense.append(le_s5)"
   ]
  },
  {
   "cell_type": "code",
   "execution_count": 4,
   "metadata": {},
   "outputs": [],
   "source": [
    "chembl = pd.read_table('../datasets/ChEMBL/chembl_27_chemreps.txt', usecols=['chembl_id', 'canonical_smiles'])"
   ]
  },
  {
   "cell_type": "code",
   "execution_count": 5,
   "metadata": {},
   "outputs": [],
   "source": [
    "lense = pd.merge(lense, chembl,\n",
    "                how='left',\n",
    "                left_on='CMP_CHEMBL_ID', right_on='chembl_id')"
   ]
  },
  {
   "cell_type": "code",
   "execution_count": 6,
   "metadata": {},
   "outputs": [],
   "source": [
    "lense = lense[['chembl_id', 'canonical_smiles']]"
   ]
  },
  {
   "cell_type": "code",
   "execution_count": 7,
   "metadata": {},
   "outputs": [
    {
     "data": {
      "text/html": [
       "<div>\n",
       "<style scoped>\n",
       "    .dataframe tbody tr th:only-of-type {\n",
       "        vertical-align: middle;\n",
       "    }\n",
       "\n",
       "    .dataframe tbody tr th {\n",
       "        vertical-align: top;\n",
       "    }\n",
       "\n",
       "    .dataframe thead th {\n",
       "        text-align: right;\n",
       "    }\n",
       "</style>\n",
       "<table border=\"1\" class=\"dataframe\">\n",
       "  <thead>\n",
       "    <tr style=\"text-align: right;\">\n",
       "      <th></th>\n",
       "      <th>chembl_id</th>\n",
       "      <th>canonical_smiles</th>\n",
       "    </tr>\n",
       "  </thead>\n",
       "  <tbody>\n",
       "    <tr>\n",
       "      <th>0</th>\n",
       "      <td>CHEMBL3237949</td>\n",
       "      <td>CCOC(=O)C1=C(N)N(c2cccnc2)C2=C(C(=O)CC(C)(C)C2...</td>\n",
       "    </tr>\n",
       "    <tr>\n",
       "      <th>1</th>\n",
       "      <td>CHEMBL2381895</td>\n",
       "      <td>CC(C)(C)c1ccccc1Oc1ncccc1NC(=O)Nc1ccc(N2CCCCC2...</td>\n",
       "    </tr>\n",
       "    <tr>\n",
       "      <th>2</th>\n",
       "      <td>CHEMBL2380718</td>\n",
       "      <td>CCC(NC(=O)[C@@H]1C[C@@H](S(=O)(=O)c2ccccc2)CN1...</td>\n",
       "    </tr>\n",
       "    <tr>\n",
       "      <th>3</th>\n",
       "      <td>CHEMBL2435858</td>\n",
       "      <td>Cc1nc(Oc2ccc(C(N)=O)cc2)ccc1CN1CCC(N2C(=O)N(C3...</td>\n",
       "    </tr>\n",
       "    <tr>\n",
       "      <th>4</th>\n",
       "      <td>CHEMBL2413735</td>\n",
       "      <td>Cc1ccc2[nH]c(-c3ccc(OCCN4CCCC4)cc3)nc2c1</td>\n",
       "    </tr>\n",
       "    <tr>\n",
       "      <th>...</th>\n",
       "      <td>...</td>\n",
       "      <td>...</td>\n",
       "    </tr>\n",
       "    <tr>\n",
       "      <th>992</th>\n",
       "      <td>CHEMBL2032165</td>\n",
       "      <td>CCCC1c2ccsc2CCN1C(=O)Nc1ccccc1</td>\n",
       "    </tr>\n",
       "    <tr>\n",
       "      <th>993</th>\n",
       "      <td>CHEMBL2153490</td>\n",
       "      <td>N#CCCN(CCn1cnc2c(=O)[nH]cnc21)CCP(=O)(O)O</td>\n",
       "    </tr>\n",
       "    <tr>\n",
       "      <th>994</th>\n",
       "      <td>CHEMBL1766798</td>\n",
       "      <td>CC(CCO)S(=O)(=O)c1ccc(-c2cnc(N)c(C(=O)Nc3ccccc...</td>\n",
       "    </tr>\n",
       "    <tr>\n",
       "      <th>995</th>\n",
       "      <td>CHEMBL1198756</td>\n",
       "      <td>N#C[C@@H]1CSCN1C(=O)CN(N)C1CCN(CC(=O)NC2CCCCC2...</td>\n",
       "    </tr>\n",
       "    <tr>\n",
       "      <th>996</th>\n",
       "      <td>CHEMBL1951105</td>\n",
       "      <td>COc1cc(C)c(S(=O)(=O)Nc2c(C)nn(C)c2C)c(C)c1C</td>\n",
       "    </tr>\n",
       "  </tbody>\n",
       "</table>\n",
       "<p>997 rows × 2 columns</p>\n",
       "</div>"
      ],
      "text/plain": [
       "         chembl_id                                   canonical_smiles\n",
       "0    CHEMBL3237949  CCOC(=O)C1=C(N)N(c2cccnc2)C2=C(C(=O)CC(C)(C)C2...\n",
       "1    CHEMBL2381895  CC(C)(C)c1ccccc1Oc1ncccc1NC(=O)Nc1ccc(N2CCCCC2...\n",
       "2    CHEMBL2380718  CCC(NC(=O)[C@@H]1C[C@@H](S(=O)(=O)c2ccccc2)CN1...\n",
       "3    CHEMBL2435858  Cc1nc(Oc2ccc(C(N)=O)cc2)ccc1CN1CCC(N2C(=O)N(C3...\n",
       "4    CHEMBL2413735           Cc1ccc2[nH]c(-c3ccc(OCCN4CCCC4)cc3)nc2c1\n",
       "..             ...                                                ...\n",
       "992  CHEMBL2032165                     CCCC1c2ccsc2CCN1C(=O)Nc1ccccc1\n",
       "993  CHEMBL2153490          N#CCCN(CCn1cnc2c(=O)[nH]cnc21)CCP(=O)(O)O\n",
       "994  CHEMBL1766798  CC(CCO)S(=O)(=O)c1ccc(-c2cnc(N)c(C(=O)Nc3ccccc...\n",
       "995  CHEMBL1198756  N#C[C@@H]1CSCN1C(=O)CN(N)C1CCN(CC(=O)NC2CCCCC2...\n",
       "996  CHEMBL1951105        COc1cc(C)c(S(=O)(=O)Nc2c(C)nn(C)c2C)c(C)c1C\n",
       "\n",
       "[997 rows x 2 columns]"
      ]
     },
     "execution_count": 7,
     "metadata": {},
     "output_type": "execute_result"
    }
   ],
   "source": [
    "lense.dropna(how='any', inplace=True)\n",
    "lense.reset_index(drop=True)"
   ]
  },
  {
   "cell_type": "code",
   "execution_count": 8,
   "metadata": {},
   "outputs": [],
   "source": [
    "lense['tokens'] = ''\n",
    "for row in lense.index:\n",
    "    lense.at[row, 'tokens'] = atomwise_tokenizer(lense.at[row, 'canonical_smiles'])"
   ]
  },
  {
   "cell_type": "code",
   "execution_count": 9,
   "metadata": {},
   "outputs": [
    {
     "data": {
      "text/html": [
       "<div>\n",
       "<style scoped>\n",
       "    .dataframe tbody tr th:only-of-type {\n",
       "        vertical-align: middle;\n",
       "    }\n",
       "\n",
       "    .dataframe tbody tr th {\n",
       "        vertical-align: top;\n",
       "    }\n",
       "\n",
       "    .dataframe thead th {\n",
       "        text-align: right;\n",
       "    }\n",
       "</style>\n",
       "<table border=\"1\" class=\"dataframe\">\n",
       "  <thead>\n",
       "    <tr style=\"text-align: right;\">\n",
       "      <th></th>\n",
       "      <th>chembl_id</th>\n",
       "      <th>canonical_smiles</th>\n",
       "      <th>tokens</th>\n",
       "    </tr>\n",
       "  </thead>\n",
       "  <tbody>\n",
       "    <tr>\n",
       "      <th>0</th>\n",
       "      <td>CHEMBL3237949</td>\n",
       "      <td>CCOC(=O)C1=C(N)N(c2cccnc2)C2=C(C(=O)CC(C)(C)C2...</td>\n",
       "      <td>[C, C, O, C, (, =, O, ), C, 1, =, C, (, N, ), ...</td>\n",
       "    </tr>\n",
       "    <tr>\n",
       "      <th>1</th>\n",
       "      <td>CHEMBL2381895</td>\n",
       "      <td>CC(C)(C)c1ccccc1Oc1ncccc1NC(=O)Nc1ccc(N2CCCCC2...</td>\n",
       "      <td>[C, C, (, C, ), (, C, ), c, 1, c, c, c, c, c, ...</td>\n",
       "    </tr>\n",
       "    <tr>\n",
       "      <th>2</th>\n",
       "      <td>CHEMBL2380718</td>\n",
       "      <td>CCC(NC(=O)[C@@H]1C[C@@H](S(=O)(=O)c2ccccc2)CN1...</td>\n",
       "      <td>[C, C, C, (, N, C, (, =, O, ), [C@@H], 1, C, [...</td>\n",
       "    </tr>\n",
       "    <tr>\n",
       "      <th>3</th>\n",
       "      <td>CHEMBL2435858</td>\n",
       "      <td>Cc1nc(Oc2ccc(C(N)=O)cc2)ccc1CN1CCC(N2C(=O)N(C3...</td>\n",
       "      <td>[C, c, 1, n, c, (, O, c, 2, c, c, c, (, C, (, ...</td>\n",
       "    </tr>\n",
       "    <tr>\n",
       "      <th>4</th>\n",
       "      <td>CHEMBL2413735</td>\n",
       "      <td>Cc1ccc2[nH]c(-c3ccc(OCCN4CCCC4)cc3)nc2c1</td>\n",
       "      <td>[C, c, 1, c, c, c, 2, [nH], c, (, -, c, 3, c, ...</td>\n",
       "    </tr>\n",
       "  </tbody>\n",
       "</table>\n",
       "</div>"
      ],
      "text/plain": [
       "       chembl_id                                   canonical_smiles  \\\n",
       "0  CHEMBL3237949  CCOC(=O)C1=C(N)N(c2cccnc2)C2=C(C(=O)CC(C)(C)C2...   \n",
       "1  CHEMBL2381895  CC(C)(C)c1ccccc1Oc1ncccc1NC(=O)Nc1ccc(N2CCCCC2...   \n",
       "2  CHEMBL2380718  CCC(NC(=O)[C@@H]1C[C@@H](S(=O)(=O)c2ccccc2)CN1...   \n",
       "3  CHEMBL2435858  Cc1nc(Oc2ccc(C(N)=O)cc2)ccc1CN1CCC(N2C(=O)N(C3...   \n",
       "4  CHEMBL2413735           Cc1ccc2[nH]c(-c3ccc(OCCN4CCCC4)cc3)nc2c1   \n",
       "\n",
       "                                              tokens  \n",
       "0  [C, C, O, C, (, =, O, ), C, 1, =, C, (, N, ), ...  \n",
       "1  [C, C, (, C, ), (, C, ), c, 1, c, c, c, c, c, ...  \n",
       "2  [C, C, C, (, N, C, (, =, O, ), [C@@H], 1, C, [...  \n",
       "3  [C, c, 1, n, c, (, O, c, 2, c, c, c, (, C, (, ...  \n",
       "4  [C, c, 1, c, c, c, 2, [nH], c, (, -, c, 3, c, ...  "
      ]
     },
     "execution_count": 9,
     "metadata": {},
     "output_type": "execute_result"
    }
   ],
   "source": [
    "lense.head()"
   ]
  },
  {
   "cell_type": "code",
   "execution_count": 10,
   "metadata": {},
   "outputs": [
    {
     "data": {
      "text/plain": [
       "pandas.core.series.Series"
      ]
     },
     "execution_count": 10,
     "metadata": {},
     "output_type": "execute_result"
    }
   ],
   "source": [
    "type(lense.tokens)"
   ]
  },
  {
   "cell_type": "code",
   "execution_count": 11,
   "metadata": {},
   "outputs": [],
   "source": [
    "alphabet_lense = set()\n",
    "\n",
    "for i in lense.tokens:\n",
    "    alphabet_lense.update(i)"
   ]
  },
  {
   "cell_type": "code",
   "execution_count": 12,
   "metadata": {
    "scrolled": true
   },
   "outputs": [
    {
     "data": {
      "text/plain": [
       "{'#',\n",
       " '(',\n",
       " ')',\n",
       " '-',\n",
       " '/',\n",
       " '1',\n",
       " '2',\n",
       " '3',\n",
       " '4',\n",
       " '5',\n",
       " '6',\n",
       " '7',\n",
       " '=',\n",
       " 'Br',\n",
       " 'C',\n",
       " 'Cl',\n",
       " 'F',\n",
       " 'I',\n",
       " 'N',\n",
       " 'O',\n",
       " 'P',\n",
       " 'S',\n",
       " '[C@@H]',\n",
       " '[C@@]',\n",
       " '[C@H]',\n",
       " '[C@]',\n",
       " '[N+]',\n",
       " '[N-]',\n",
       " '[O-]',\n",
       " '[O]',\n",
       " '[S+]',\n",
       " '[n+]',\n",
       " '[nH]',\n",
       " '\\\\',\n",
       " 'c',\n",
       " 'n',\n",
       " 'o',\n",
       " 's'}"
      ]
     },
     "execution_count": 12,
     "metadata": {},
     "output_type": "execute_result"
    }
   ],
   "source": [
    "alphabet_lense"
   ]
  },
  {
   "cell_type": "code",
   "execution_count": 13,
   "metadata": {},
   "outputs": [],
   "source": [
    "pc_s1 = pd.read_table('../datasets/PubChem/PubChem_sample_1.txt', header=None, usecols=[1])\n",
    "pc_s2 = pd.read_table('../datasets/PubChem/PubChem_sample_2.txt', header=None, usecols=[1])\n",
    "pc_s3 = pd.read_table('../datasets/PubChem/PubChem_sample_3.txt', header=None, usecols=[1])\n",
    "pc_s4 = pd.read_table('../datasets/PubChem/PubChem_sample_4.txt', header=None, usecols=[1])\n",
    "pc_s5 = pd.read_table('../datasets/PubChem/PubChem_sample_5.txt', header=None, usecols=[1])"
   ]
  },
  {
   "cell_type": "code",
   "execution_count": 14,
   "metadata": {},
   "outputs": [],
   "source": [
    "pubchem = pc_s1.append(pc_s2)\n",
    "pubchem = pubchem.append(pc_s3)\n",
    "pubchem = pubchem.append(pc_s4)\n",
    "pubchem = pubchem.append(pc_s5)"
   ]
  },
  {
   "cell_type": "code",
   "execution_count": 15,
   "metadata": {},
   "outputs": [
    {
     "data": {
      "text/html": [
       "<div>\n",
       "<style scoped>\n",
       "    .dataframe tbody tr th:only-of-type {\n",
       "        vertical-align: middle;\n",
       "    }\n",
       "\n",
       "    .dataframe tbody tr th {\n",
       "        vertical-align: top;\n",
       "    }\n",
       "\n",
       "    .dataframe thead th {\n",
       "        text-align: right;\n",
       "    }\n",
       "</style>\n",
       "<table border=\"1\" class=\"dataframe\">\n",
       "  <thead>\n",
       "    <tr style=\"text-align: right;\">\n",
       "      <th></th>\n",
       "      <th>1</th>\n",
       "    </tr>\n",
       "  </thead>\n",
       "  <tbody>\n",
       "    <tr>\n",
       "      <th>0</th>\n",
       "      <td>C1CC(=O)N(C1=O)CCC#N</td>\n",
       "    </tr>\n",
       "    <tr>\n",
       "      <th>1</th>\n",
       "      <td>CC(CCC(=O)C(C)C1C(=O)CC2[C@]1(CCC3[C@@H]2CC=C4...</td>\n",
       "    </tr>\n",
       "    <tr>\n",
       "      <th>2</th>\n",
       "      <td>CC(C)[C@@H](C1=CC=C(C=C1)Cl)C(=O)NC2=NC=CS2</td>\n",
       "    </tr>\n",
       "    <tr>\n",
       "      <th>3</th>\n",
       "      <td>COC1=CC=C(C=C1)N(CC(=O)NC2=CC(=CC=C2)SC)S(=O)(...</td>\n",
       "    </tr>\n",
       "    <tr>\n",
       "      <th>4</th>\n",
       "      <td>CC1=CC(=CC=C1)N2C(=O)/C(=C\\C3=CC=C(C=C3)O[C@H]...</td>\n",
       "    </tr>\n",
       "    <tr>\n",
       "      <th>...</th>\n",
       "      <td>...</td>\n",
       "    </tr>\n",
       "    <tr>\n",
       "      <th>995</th>\n",
       "      <td>C1C(N(C2=CC=CC(=C2O1)C3=CC(=CC=C3)OC(F)(F)F)C[...</td>\n",
       "    </tr>\n",
       "    <tr>\n",
       "      <th>996</th>\n",
       "      <td>CCC=NC1=CC=CC=C1SC2=CC=CC=C2.CC(/C=C(\\C(=C/CC=...</td>\n",
       "    </tr>\n",
       "    <tr>\n",
       "      <th>997</th>\n",
       "      <td>C/C=C\\C=C(\\C1CCN(CC1)C=O)/C(=C\\C)/C(F)(F)F</td>\n",
       "    </tr>\n",
       "    <tr>\n",
       "      <th>998</th>\n",
       "      <td>CC(C)(O)O.C=CC1CCCC2=C(C3=C(C(=C12)C4=CC=CC=C4...</td>\n",
       "    </tr>\n",
       "    <tr>\n",
       "      <th>999</th>\n",
       "      <td>CS(=O)(=O)OCC1CCC(CC1)NC(=O)C2=C(N=CC(=C2)Cl)C...</td>\n",
       "    </tr>\n",
       "  </tbody>\n",
       "</table>\n",
       "<p>1000 rows × 1 columns</p>\n",
       "</div>"
      ],
      "text/plain": [
       "                                                     1\n",
       "0                                 C1CC(=O)N(C1=O)CCC#N\n",
       "1    CC(CCC(=O)C(C)C1C(=O)CC2[C@]1(CCC3[C@@H]2CC=C4...\n",
       "2          CC(C)[C@@H](C1=CC=C(C=C1)Cl)C(=O)NC2=NC=CS2\n",
       "3    COC1=CC=C(C=C1)N(CC(=O)NC2=CC(=CC=C2)SC)S(=O)(...\n",
       "4    CC1=CC(=CC=C1)N2C(=O)/C(=C\\C3=CC=C(C=C3)O[C@H]...\n",
       "..                                                 ...\n",
       "995  C1C(N(C2=CC=CC(=C2O1)C3=CC(=CC=C3)OC(F)(F)F)C[...\n",
       "996  CCC=NC1=CC=CC=C1SC2=CC=CC=C2.CC(/C=C(\\C(=C/CC=...\n",
       "997         C/C=C\\C=C(\\C1CCN(CC1)C=O)/C(=C\\C)/C(F)(F)F\n",
       "998  CC(C)(O)O.C=CC1CCCC2=C(C3=C(C(=C12)C4=CC=CC=C4...\n",
       "999  CS(=O)(=O)OCC1CCC(CC1)NC(=O)C2=C(N=CC(=C2)Cl)C...\n",
       "\n",
       "[1000 rows x 1 columns]"
      ]
     },
     "execution_count": 15,
     "metadata": {},
     "output_type": "execute_result"
    }
   ],
   "source": [
    "pubchem.dropna(how='any', inplace=True)\n",
    "pubchem.reset_index(drop=True)"
   ]
  },
  {
   "cell_type": "code",
   "execution_count": 16,
   "metadata": {},
   "outputs": [],
   "source": [
    "pubchem.rename(columns={1:'smiles'}, inplace=True)"
   ]
  },
  {
   "cell_type": "code",
   "execution_count": 18,
   "metadata": {},
   "outputs": [],
   "source": [
    "alphabet_pubchem = set()\n",
    "\n",
    "for row in pubchem.index:\n",
    "    tokens = atomwise_tokenizer(pubchem.iloc[row,0])\n",
    "    alphabet_pubchem.update(tokens)"
   ]
  },
  {
   "cell_type": "code",
   "execution_count": 19,
   "metadata": {
    "collapsed": true
   },
   "outputs": [
    {
     "data": {
      "text/plain": [
       "{'#',\n",
       " '(',\n",
       " ')',\n",
       " '.',\n",
       " '/',\n",
       " '1',\n",
       " '2',\n",
       " '3',\n",
       " '4',\n",
       " '5',\n",
       " '6',\n",
       " '7',\n",
       " '8',\n",
       " '9',\n",
       " '=',\n",
       " 'Br',\n",
       " 'C',\n",
       " 'Cl',\n",
       " 'F',\n",
       " 'I',\n",
       " 'N',\n",
       " 'O',\n",
       " 'P',\n",
       " 'S',\n",
       " '[B]',\n",
       " '[Br-]',\n",
       " '[C-]',\n",
       " '[C@@H]',\n",
       " '[C@@]',\n",
       " '[C@H]',\n",
       " '[C@]',\n",
       " '[CH2]',\n",
       " '[HH]',\n",
       " '[I-]',\n",
       " '[Mg+2]',\n",
       " '[N+]',\n",
       " '[N-]',\n",
       " '[NH+]',\n",
       " '[NH2+]',\n",
       " '[Ni+2]',\n",
       " '[O-]',\n",
       " '[Sn]',\n",
       " '[Te]',\n",
       " '\\\\'}"
      ]
     },
     "execution_count": 19,
     "metadata": {},
     "output_type": "execute_result"
    }
   ],
   "source": [
    "alphabet_pubchem"
   ]
  },
  {
   "cell_type": "markdown",
   "metadata": {},
   "source": [
    "## Compare the alphabets"
   ]
  },
  {
   "cell_type": "code",
   "execution_count": 20,
   "metadata": {},
   "outputs": [
    {
     "data": {
      "text/plain": [
       "{'-', '[O]', '[S+]', '[n+]', '[nH]', 'c', 'n', 'o', 's'}"
      ]
     },
     "execution_count": 20,
     "metadata": {},
     "output_type": "execute_result"
    }
   ],
   "source": [
    "alphabet_lense.difference(alphabet_pubchem) # die Elemente, die nicht in PubChem sind"
   ]
  },
  {
   "cell_type": "code",
   "execution_count": 21,
   "metadata": {},
   "outputs": [
    {
     "data": {
      "text/plain": [
       "{'.',\n",
       " '8',\n",
       " '9',\n",
       " '[B]',\n",
       " '[Br-]',\n",
       " '[C-]',\n",
       " '[CH2]',\n",
       " '[HH]',\n",
       " '[I-]',\n",
       " '[Mg+2]',\n",
       " '[NH+]',\n",
       " '[NH2+]',\n",
       " '[Ni+2]',\n",
       " '[Sn]',\n",
       " '[Te]'}"
      ]
     },
     "execution_count": 21,
     "metadata": {},
     "output_type": "execute_result"
    }
   ],
   "source": [
    "alphabet_pubchem.difference(alphabet_lense) # die Elemente, die nicht in Lense sind"
   ]
  },
  {
   "cell_type": "code",
   "execution_count": 22,
   "metadata": {
    "collapsed": true
   },
   "outputs": [
    {
     "data": {
      "text/plain": [
       "{'#',\n",
       " '(',\n",
       " ')',\n",
       " '/',\n",
       " '1',\n",
       " '2',\n",
       " '3',\n",
       " '4',\n",
       " '5',\n",
       " '6',\n",
       " '7',\n",
       " '=',\n",
       " 'Br',\n",
       " 'C',\n",
       " 'Cl',\n",
       " 'F',\n",
       " 'I',\n",
       " 'N',\n",
       " 'O',\n",
       " 'P',\n",
       " 'S',\n",
       " '[C@@H]',\n",
       " '[C@@]',\n",
       " '[C@H]',\n",
       " '[C@]',\n",
       " '[N+]',\n",
       " '[N-]',\n",
       " '[O-]',\n",
       " '\\\\'}"
      ]
     },
     "execution_count": 22,
     "metadata": {},
     "output_type": "execute_result"
    }
   ],
   "source": [
    "#alphabet_lense.intersection(alphabet_pubchem)"
   ]
  },
  {
   "cell_type": "markdown",
   "metadata": {},
   "source": [
    "Strategy: Throw out the things in PubChem, which contain tokens which aren't in Lense."
   ]
  },
  {
   "cell_type": "code",
   "execution_count": 24,
   "metadata": {},
   "outputs": [
    {
     "name": "stdout",
     "output_type": "stream",
     "text": [
      "{'[N-]', '[C@@]', '[C@]', ')', '#', '2', '7', 'F', 'o', 'I', 'O', '[O-]', '/', 'P', 'c', 'C', '(', '[O]', 's', 'Cl', '[N+]', '6', '[n+]', '1', '=', '-', '5', 'N', '\\\\', '[S+]', 'S', '4', '[nH]', '[C@@H]', 'Br', 'n', '3', '[C@H]'}\n"
     ]
    }
   ],
   "source": [
    "print(alphabet_lense)"
   ]
  },
  {
   "cell_type": "code",
   "execution_count": null,
   "metadata": {},
   "outputs": [],
   "source": []
  }
 ],
 "metadata": {
  "kernelspec": {
   "display_name": "Python 3",
   "language": "python",
   "name": "python3"
  },
  "language_info": {
   "codemirror_mode": {
    "name": "ipython",
    "version": 3
   },
   "file_extension": ".py",
   "mimetype": "text/x-python",
   "name": "python",
   "nbconvert_exporter": "python",
   "pygments_lexer": "ipython3",
   "version": "3.6.10"
  }
 },
 "nbformat": 4,
 "nbformat_minor": 4
}
