{
 "cells": [
  {
   "cell_type": "code",
   "execution_count": 1,
   "metadata": {},
   "outputs": [],
   "source": [
    "import pandas as pd     \n",
    "from SmilesPE.pretokenizer import atomwise_tokenizer\n",
    "import pdb      #pdb.set_trace()\n",
    "import pubchempy as pcp\n",
    "\n",
    "from IPython.display import Audio\n",
    "#sound_file = '../applause.mp3'\n",
    "sound_file = '../diving.mp3'"
   ]
  },
  {
   "cell_type": "markdown",
   "metadata": {},
   "source": [
    "## Lenselink"
   ]
  },
  {
   "cell_type": "code",
   "execution_count": 2,
   "metadata": {},
   "outputs": [],
   "source": [
    "lense = pd.read_table('../datasets/Lenselink_et_al/Lenselink_sample_42.txt', usecols=['CMP_CHEMBL_ID'])\n",
    "#lense['CMP_CHEMBL_ID'] = lense['CMP_CHEMBL_ID'].astype(object)"
   ]
  },
  {
   "cell_type": "markdown",
   "metadata": {},
   "source": [
    "#### Mapping to get SMILES created by PubChem"
   ]
  },
  {
   "cell_type": "code",
   "execution_count": 3,
   "metadata": {},
   "outputs": [],
   "source": [
    "unichem = pd.read_table('../datasets/UniChem_Mapping/src1src22.txt')\n",
    "unichem.rename(columns={\"From src:'1'\": \"chembl_id\", \"To src:'22'\": \"pubchem_id\"}, inplace=True)\n",
    "unichem = unichem.astype(dtype={'pubchem_id':'object'})"
   ]
  },
  {
   "cell_type": "code",
   "execution_count": 4,
   "metadata": {},
   "outputs": [
    {
     "data": {
      "text/html": [
       "<div>\n",
       "<style scoped>\n",
       "    .dataframe tbody tr th:only-of-type {\n",
       "        vertical-align: middle;\n",
       "    }\n",
       "\n",
       "    .dataframe tbody tr th {\n",
       "        vertical-align: top;\n",
       "    }\n",
       "\n",
       "    .dataframe thead th {\n",
       "        text-align: right;\n",
       "    }\n",
       "</style>\n",
       "<table border=\"1\" class=\"dataframe\">\n",
       "  <thead>\n",
       "    <tr style=\"text-align: right;\">\n",
       "      <th></th>\n",
       "      <th>CMP_CHEMBL_ID</th>\n",
       "      <th>chembl_id</th>\n",
       "      <th>pubchem_id</th>\n",
       "    </tr>\n",
       "  </thead>\n",
       "  <tbody>\n",
       "    <tr>\n",
       "      <th>0</th>\n",
       "      <td>CHEMBL1830131</td>\n",
       "      <td>CHEMBL1830131</td>\n",
       "      <td>677915</td>\n",
       "    </tr>\n",
       "    <tr>\n",
       "      <th>1</th>\n",
       "      <td>CHEMBL2325093</td>\n",
       "      <td>CHEMBL2325093</td>\n",
       "      <td>2725645</td>\n",
       "    </tr>\n",
       "    <tr>\n",
       "      <th>2</th>\n",
       "      <td>CHEMBL2333999</td>\n",
       "      <td>CHEMBL2333999</td>\n",
       "      <td>19077515</td>\n",
       "    </tr>\n",
       "    <tr>\n",
       "      <th>3</th>\n",
       "      <td>CHEMBL2335013</td>\n",
       "      <td>CHEMBL2335013</td>\n",
       "      <td>71525248</td>\n",
       "    </tr>\n",
       "    <tr>\n",
       "      <th>4</th>\n",
       "      <td>CHEMBL2336359</td>\n",
       "      <td>CHEMBL2336359</td>\n",
       "      <td>787183</td>\n",
       "    </tr>\n",
       "    <tr>\n",
       "      <th>...</th>\n",
       "      <td>...</td>\n",
       "      <td>...</td>\n",
       "      <td>...</td>\n",
       "    </tr>\n",
       "    <tr>\n",
       "      <th>9667</th>\n",
       "      <td>CHEMBL2063917</td>\n",
       "      <td>CHEMBL2063917</td>\n",
       "      <td>66552363</td>\n",
       "    </tr>\n",
       "    <tr>\n",
       "      <th>9668</th>\n",
       "      <td>CHEMBL2069482</td>\n",
       "      <td>CHEMBL2069482</td>\n",
       "      <td>67497640</td>\n",
       "    </tr>\n",
       "    <tr>\n",
       "      <th>9669</th>\n",
       "      <td>CHEMBL2058075</td>\n",
       "      <td>CHEMBL2058075</td>\n",
       "      <td>9512200</td>\n",
       "    </tr>\n",
       "    <tr>\n",
       "      <th>9670</th>\n",
       "      <td>CHEMBL2172052</td>\n",
       "      <td>CHEMBL2172052</td>\n",
       "      <td>71453563</td>\n",
       "    </tr>\n",
       "    <tr>\n",
       "      <th>9671</th>\n",
       "      <td>CHEMBL3305786</td>\n",
       "      <td>CHEMBL3305786</td>\n",
       "      <td>3048942</td>\n",
       "    </tr>\n",
       "  </tbody>\n",
       "</table>\n",
       "<p>9672 rows × 3 columns</p>\n",
       "</div>"
      ],
      "text/plain": [
       "      CMP_CHEMBL_ID      chembl_id pubchem_id\n",
       "0     CHEMBL1830131  CHEMBL1830131     677915\n",
       "1     CHEMBL2325093  CHEMBL2325093    2725645\n",
       "2     CHEMBL2333999  CHEMBL2333999   19077515\n",
       "3     CHEMBL2335013  CHEMBL2335013   71525248\n",
       "4     CHEMBL2336359  CHEMBL2336359     787183\n",
       "...             ...            ...        ...\n",
       "9667  CHEMBL2063917  CHEMBL2063917   66552363\n",
       "9668  CHEMBL2069482  CHEMBL2069482   67497640\n",
       "9669  CHEMBL2058075  CHEMBL2058075    9512200\n",
       "9670  CHEMBL2172052  CHEMBL2172052   71453563\n",
       "9671  CHEMBL3305786  CHEMBL3305786    3048942\n",
       "\n",
       "[9672 rows x 3 columns]"
      ]
     },
     "execution_count": 4,
     "metadata": {},
     "output_type": "execute_result"
    }
   ],
   "source": [
    "lense = pd.merge(lense, unichem,\n",
    "                  how='left',\n",
    "                  left_on='CMP_CHEMBL_ID', right_on='chembl_id')\n",
    "lense.drop_duplicates(subset='pubchem_id', keep='first', inplace=True, ignore_index=True)\n",
    "lense.dropna(axis=0, how='any', inplace=True)\n",
    "lense.reset_index(drop=True)"
   ]
  },
  {
   "cell_type": "markdown",
   "metadata": {},
   "source": [
    "Now I use PubChemPy to look up the canonical SMILES for that PubChemID."
   ]
  },
  {
   "cell_type": "code",
   "execution_count": 5,
   "metadata": {},
   "outputs": [
    {
     "ename": "KeyboardInterrupt",
     "evalue": "",
     "output_type": "error",
     "traceback": [
      "\u001b[0;31m---------------------------------------------------------------------------\u001b[0m",
      "\u001b[0;31mKeyboardInterrupt\u001b[0m                         Traceback (most recent call last)",
      "\u001b[0;32m<ipython-input-5-7e1143203aa1>\u001b[0m in \u001b[0;36m<module>\u001b[0;34m\u001b[0m\n\u001b[1;32m      1\u001b[0m \u001b[0mlense\u001b[0m\u001b[0;34m[\u001b[0m\u001b[0;34m'canonical_smiles'\u001b[0m\u001b[0;34m]\u001b[0m \u001b[0;34m=\u001b[0m \u001b[0;34m''\u001b[0m\u001b[0;34m\u001b[0m\u001b[0;34m\u001b[0m\u001b[0m\n\u001b[1;32m      2\u001b[0m \u001b[0;32mfor\u001b[0m \u001b[0mrow\u001b[0m \u001b[0;32min\u001b[0m \u001b[0mlense\u001b[0m\u001b[0;34m.\u001b[0m\u001b[0mindex\u001b[0m\u001b[0;34m:\u001b[0m\u001b[0;34m\u001b[0m\u001b[0;34m\u001b[0m\u001b[0m\n\u001b[0;32m----> 3\u001b[0;31m     \u001b[0mentry\u001b[0m \u001b[0;34m=\u001b[0m \u001b[0mpcp\u001b[0m\u001b[0;34m.\u001b[0m\u001b[0mCompound\u001b[0m\u001b[0;34m.\u001b[0m\u001b[0mfrom_cid\u001b[0m\u001b[0;34m(\u001b[0m\u001b[0mlense\u001b[0m\u001b[0;34m.\u001b[0m\u001b[0miat\u001b[0m\u001b[0;34m[\u001b[0m\u001b[0mrow\u001b[0m\u001b[0;34m,\u001b[0m \u001b[0;36m2\u001b[0m\u001b[0;34m]\u001b[0m\u001b[0;34m)\u001b[0m\u001b[0;34m\u001b[0m\u001b[0;34m\u001b[0m\u001b[0m\n\u001b[0m\u001b[1;32m      4\u001b[0m     \u001b[0mlense\u001b[0m\u001b[0;34m.\u001b[0m\u001b[0miat\u001b[0m\u001b[0;34m[\u001b[0m\u001b[0mrow\u001b[0m\u001b[0;34m,\u001b[0m \u001b[0;36m3\u001b[0m\u001b[0;34m]\u001b[0m \u001b[0;34m=\u001b[0m \u001b[0mentry\u001b[0m\u001b[0;34m.\u001b[0m\u001b[0mcanonical_smiles\u001b[0m\u001b[0;34m\u001b[0m\u001b[0;34m\u001b[0m\u001b[0m\n\u001b[1;32m      5\u001b[0m \u001b[0;34m\u001b[0m\u001b[0m\n",
      "\u001b[0;32m~/anaconda3/envs/wonderland/lib/python3.6/site-packages/pubchempy.py\u001b[0m in \u001b[0;36mfrom_cid\u001b[0;34m(cls, cid, **kwargs)\u001b[0m\n\u001b[1;32m    724\u001b[0m         \u001b[0;34m:\u001b[0m\u001b[0mparam\u001b[0m \u001b[0mint\u001b[0m \u001b[0mcid\u001b[0m\u001b[0;34m:\u001b[0m \u001b[0mThe\u001b[0m \u001b[0mPubChem\u001b[0m \u001b[0mCompound\u001b[0m \u001b[0mIdentifier\u001b[0m \u001b[0;34m(\u001b[0m\u001b[0mCID\u001b[0m\u001b[0;34m)\u001b[0m\u001b[0;34m.\u001b[0m\u001b[0;34m\u001b[0m\u001b[0;34m\u001b[0m\u001b[0m\n\u001b[1;32m    725\u001b[0m         \"\"\"\n\u001b[0;32m--> 726\u001b[0;31m         \u001b[0mrecord\u001b[0m \u001b[0;34m=\u001b[0m \u001b[0mjson\u001b[0m\u001b[0;34m.\u001b[0m\u001b[0mloads\u001b[0m\u001b[0;34m(\u001b[0m\u001b[0mrequest\u001b[0m\u001b[0;34m(\u001b[0m\u001b[0mcid\u001b[0m\u001b[0;34m,\u001b[0m \u001b[0;34m**\u001b[0m\u001b[0mkwargs\u001b[0m\u001b[0;34m)\u001b[0m\u001b[0;34m.\u001b[0m\u001b[0mread\u001b[0m\u001b[0;34m(\u001b[0m\u001b[0;34m)\u001b[0m\u001b[0;34m.\u001b[0m\u001b[0mdecode\u001b[0m\u001b[0;34m(\u001b[0m\u001b[0;34m)\u001b[0m\u001b[0;34m)\u001b[0m\u001b[0;34m[\u001b[0m\u001b[0;34m'PC_Compounds'\u001b[0m\u001b[0;34m]\u001b[0m\u001b[0;34m[\u001b[0m\u001b[0;36m0\u001b[0m\u001b[0;34m]\u001b[0m\u001b[0;34m\u001b[0m\u001b[0;34m\u001b[0m\u001b[0m\n\u001b[0m\u001b[1;32m    727\u001b[0m         \u001b[0;32mreturn\u001b[0m \u001b[0mcls\u001b[0m\u001b[0;34m(\u001b[0m\u001b[0mrecord\u001b[0m\u001b[0;34m)\u001b[0m\u001b[0;34m\u001b[0m\u001b[0;34m\u001b[0m\u001b[0m\n\u001b[1;32m    728\u001b[0m \u001b[0;34m\u001b[0m\u001b[0m\n",
      "\u001b[0;32m~/anaconda3/envs/wonderland/lib/python3.6/site-packages/pubchempy.py\u001b[0m in \u001b[0;36mrequest\u001b[0;34m(identifier, namespace, domain, operation, output, searchtype, **kwargs)\u001b[0m\n\u001b[1;32m    269\u001b[0m         \u001b[0mlog\u001b[0m\u001b[0;34m.\u001b[0m\u001b[0mdebug\u001b[0m\u001b[0;34m(\u001b[0m\u001b[0;34m'Request URL: %s'\u001b[0m\u001b[0;34m,\u001b[0m \u001b[0mapiurl\u001b[0m\u001b[0;34m)\u001b[0m\u001b[0;34m\u001b[0m\u001b[0;34m\u001b[0m\u001b[0m\n\u001b[1;32m    270\u001b[0m         \u001b[0mlog\u001b[0m\u001b[0;34m.\u001b[0m\u001b[0mdebug\u001b[0m\u001b[0;34m(\u001b[0m\u001b[0;34m'Request data: %s'\u001b[0m\u001b[0;34m,\u001b[0m \u001b[0mpostdata\u001b[0m\u001b[0;34m)\u001b[0m\u001b[0;34m\u001b[0m\u001b[0;34m\u001b[0m\u001b[0m\n\u001b[0;32m--> 271\u001b[0;31m         \u001b[0mresponse\u001b[0m \u001b[0;34m=\u001b[0m \u001b[0murlopen\u001b[0m\u001b[0;34m(\u001b[0m\u001b[0mapiurl\u001b[0m\u001b[0;34m,\u001b[0m \u001b[0mpostdata\u001b[0m\u001b[0;34m)\u001b[0m\u001b[0;34m\u001b[0m\u001b[0;34m\u001b[0m\u001b[0m\n\u001b[0m\u001b[1;32m    272\u001b[0m         \u001b[0;32mreturn\u001b[0m \u001b[0mresponse\u001b[0m\u001b[0;34m\u001b[0m\u001b[0;34m\u001b[0m\u001b[0m\n\u001b[1;32m    273\u001b[0m     \u001b[0;32mexcept\u001b[0m \u001b[0mHTTPError\u001b[0m \u001b[0;32mas\u001b[0m \u001b[0me\u001b[0m\u001b[0;34m:\u001b[0m\u001b[0;34m\u001b[0m\u001b[0;34m\u001b[0m\u001b[0m\n",
      "\u001b[0;32m~/anaconda3/envs/wonderland/lib/python3.6/urllib/request.py\u001b[0m in \u001b[0;36murlopen\u001b[0;34m(url, data, timeout, cafile, capath, cadefault, context)\u001b[0m\n\u001b[1;32m    221\u001b[0m     \u001b[0;32melse\u001b[0m\u001b[0;34m:\u001b[0m\u001b[0;34m\u001b[0m\u001b[0;34m\u001b[0m\u001b[0m\n\u001b[1;32m    222\u001b[0m         \u001b[0mopener\u001b[0m \u001b[0;34m=\u001b[0m \u001b[0m_opener\u001b[0m\u001b[0;34m\u001b[0m\u001b[0;34m\u001b[0m\u001b[0m\n\u001b[0;32m--> 223\u001b[0;31m     \u001b[0;32mreturn\u001b[0m \u001b[0mopener\u001b[0m\u001b[0;34m.\u001b[0m\u001b[0mopen\u001b[0m\u001b[0;34m(\u001b[0m\u001b[0murl\u001b[0m\u001b[0;34m,\u001b[0m \u001b[0mdata\u001b[0m\u001b[0;34m,\u001b[0m \u001b[0mtimeout\u001b[0m\u001b[0;34m)\u001b[0m\u001b[0;34m\u001b[0m\u001b[0;34m\u001b[0m\u001b[0m\n\u001b[0m\u001b[1;32m    224\u001b[0m \u001b[0;34m\u001b[0m\u001b[0m\n\u001b[1;32m    225\u001b[0m \u001b[0;32mdef\u001b[0m \u001b[0minstall_opener\u001b[0m\u001b[0;34m(\u001b[0m\u001b[0mopener\u001b[0m\u001b[0;34m)\u001b[0m\u001b[0;34m:\u001b[0m\u001b[0;34m\u001b[0m\u001b[0;34m\u001b[0m\u001b[0m\n",
      "\u001b[0;32m~/anaconda3/envs/wonderland/lib/python3.6/urllib/request.py\u001b[0m in \u001b[0;36mopen\u001b[0;34m(self, fullurl, data, timeout)\u001b[0m\n\u001b[1;32m    524\u001b[0m             \u001b[0mreq\u001b[0m \u001b[0;34m=\u001b[0m \u001b[0mmeth\u001b[0m\u001b[0;34m(\u001b[0m\u001b[0mreq\u001b[0m\u001b[0;34m)\u001b[0m\u001b[0;34m\u001b[0m\u001b[0;34m\u001b[0m\u001b[0m\n\u001b[1;32m    525\u001b[0m \u001b[0;34m\u001b[0m\u001b[0m\n\u001b[0;32m--> 526\u001b[0;31m         \u001b[0mresponse\u001b[0m \u001b[0;34m=\u001b[0m \u001b[0mself\u001b[0m\u001b[0;34m.\u001b[0m\u001b[0m_open\u001b[0m\u001b[0;34m(\u001b[0m\u001b[0mreq\u001b[0m\u001b[0;34m,\u001b[0m \u001b[0mdata\u001b[0m\u001b[0;34m)\u001b[0m\u001b[0;34m\u001b[0m\u001b[0;34m\u001b[0m\u001b[0m\n\u001b[0m\u001b[1;32m    527\u001b[0m \u001b[0;34m\u001b[0m\u001b[0m\n\u001b[1;32m    528\u001b[0m         \u001b[0;31m# post-process response\u001b[0m\u001b[0;34m\u001b[0m\u001b[0;34m\u001b[0m\u001b[0;34m\u001b[0m\u001b[0m\n",
      "\u001b[0;32m~/anaconda3/envs/wonderland/lib/python3.6/urllib/request.py\u001b[0m in \u001b[0;36m_open\u001b[0;34m(self, req, data)\u001b[0m\n\u001b[1;32m    542\u001b[0m         \u001b[0mprotocol\u001b[0m \u001b[0;34m=\u001b[0m \u001b[0mreq\u001b[0m\u001b[0;34m.\u001b[0m\u001b[0mtype\u001b[0m\u001b[0;34m\u001b[0m\u001b[0;34m\u001b[0m\u001b[0m\n\u001b[1;32m    543\u001b[0m         result = self._call_chain(self.handle_open, protocol, protocol +\n\u001b[0;32m--> 544\u001b[0;31m                                   '_open', req)\n\u001b[0m\u001b[1;32m    545\u001b[0m         \u001b[0;32mif\u001b[0m \u001b[0mresult\u001b[0m\u001b[0;34m:\u001b[0m\u001b[0;34m\u001b[0m\u001b[0;34m\u001b[0m\u001b[0m\n\u001b[1;32m    546\u001b[0m             \u001b[0;32mreturn\u001b[0m \u001b[0mresult\u001b[0m\u001b[0;34m\u001b[0m\u001b[0;34m\u001b[0m\u001b[0m\n",
      "\u001b[0;32m~/anaconda3/envs/wonderland/lib/python3.6/urllib/request.py\u001b[0m in \u001b[0;36m_call_chain\u001b[0;34m(self, chain, kind, meth_name, *args)\u001b[0m\n\u001b[1;32m    502\u001b[0m         \u001b[0;32mfor\u001b[0m \u001b[0mhandler\u001b[0m \u001b[0;32min\u001b[0m \u001b[0mhandlers\u001b[0m\u001b[0;34m:\u001b[0m\u001b[0;34m\u001b[0m\u001b[0;34m\u001b[0m\u001b[0m\n\u001b[1;32m    503\u001b[0m             \u001b[0mfunc\u001b[0m \u001b[0;34m=\u001b[0m \u001b[0mgetattr\u001b[0m\u001b[0;34m(\u001b[0m\u001b[0mhandler\u001b[0m\u001b[0;34m,\u001b[0m \u001b[0mmeth_name\u001b[0m\u001b[0;34m)\u001b[0m\u001b[0;34m\u001b[0m\u001b[0;34m\u001b[0m\u001b[0m\n\u001b[0;32m--> 504\u001b[0;31m             \u001b[0mresult\u001b[0m \u001b[0;34m=\u001b[0m \u001b[0mfunc\u001b[0m\u001b[0;34m(\u001b[0m\u001b[0;34m*\u001b[0m\u001b[0margs\u001b[0m\u001b[0;34m)\u001b[0m\u001b[0;34m\u001b[0m\u001b[0;34m\u001b[0m\u001b[0m\n\u001b[0m\u001b[1;32m    505\u001b[0m             \u001b[0;32mif\u001b[0m \u001b[0mresult\u001b[0m \u001b[0;32mis\u001b[0m \u001b[0;32mnot\u001b[0m \u001b[0;32mNone\u001b[0m\u001b[0;34m:\u001b[0m\u001b[0;34m\u001b[0m\u001b[0;34m\u001b[0m\u001b[0m\n\u001b[1;32m    506\u001b[0m                 \u001b[0;32mreturn\u001b[0m \u001b[0mresult\u001b[0m\u001b[0;34m\u001b[0m\u001b[0;34m\u001b[0m\u001b[0m\n",
      "\u001b[0;32m~/anaconda3/envs/wonderland/lib/python3.6/urllib/request.py\u001b[0m in \u001b[0;36mhttps_open\u001b[0;34m(self, req)\u001b[0m\n\u001b[1;32m   1359\u001b[0m         \u001b[0;32mdef\u001b[0m \u001b[0mhttps_open\u001b[0m\u001b[0;34m(\u001b[0m\u001b[0mself\u001b[0m\u001b[0;34m,\u001b[0m \u001b[0mreq\u001b[0m\u001b[0;34m)\u001b[0m\u001b[0;34m:\u001b[0m\u001b[0;34m\u001b[0m\u001b[0;34m\u001b[0m\u001b[0m\n\u001b[1;32m   1360\u001b[0m             return self.do_open(http.client.HTTPSConnection, req,\n\u001b[0;32m-> 1361\u001b[0;31m                 context=self._context, check_hostname=self._check_hostname)\n\u001b[0m\u001b[1;32m   1362\u001b[0m \u001b[0;34m\u001b[0m\u001b[0m\n\u001b[1;32m   1363\u001b[0m         \u001b[0mhttps_request\u001b[0m \u001b[0;34m=\u001b[0m \u001b[0mAbstractHTTPHandler\u001b[0m\u001b[0;34m.\u001b[0m\u001b[0mdo_request_\u001b[0m\u001b[0;34m\u001b[0m\u001b[0;34m\u001b[0m\u001b[0m\n",
      "\u001b[0;32m~/anaconda3/envs/wonderland/lib/python3.6/urllib/request.py\u001b[0m in \u001b[0;36mdo_open\u001b[0;34m(self, http_class, req, **http_conn_args)\u001b[0m\n\u001b[1;32m   1319\u001b[0m             \u001b[0;32mexcept\u001b[0m \u001b[0mOSError\u001b[0m \u001b[0;32mas\u001b[0m \u001b[0merr\u001b[0m\u001b[0;34m:\u001b[0m \u001b[0;31m# timeout error\u001b[0m\u001b[0;34m\u001b[0m\u001b[0;34m\u001b[0m\u001b[0m\n\u001b[1;32m   1320\u001b[0m                 \u001b[0;32mraise\u001b[0m \u001b[0mURLError\u001b[0m\u001b[0;34m(\u001b[0m\u001b[0merr\u001b[0m\u001b[0;34m)\u001b[0m\u001b[0;34m\u001b[0m\u001b[0;34m\u001b[0m\u001b[0m\n\u001b[0;32m-> 1321\u001b[0;31m             \u001b[0mr\u001b[0m \u001b[0;34m=\u001b[0m \u001b[0mh\u001b[0m\u001b[0;34m.\u001b[0m\u001b[0mgetresponse\u001b[0m\u001b[0;34m(\u001b[0m\u001b[0;34m)\u001b[0m\u001b[0;34m\u001b[0m\u001b[0;34m\u001b[0m\u001b[0m\n\u001b[0m\u001b[1;32m   1322\u001b[0m         \u001b[0;32mexcept\u001b[0m\u001b[0;34m:\u001b[0m\u001b[0;34m\u001b[0m\u001b[0;34m\u001b[0m\u001b[0m\n\u001b[1;32m   1323\u001b[0m             \u001b[0mh\u001b[0m\u001b[0;34m.\u001b[0m\u001b[0mclose\u001b[0m\u001b[0;34m(\u001b[0m\u001b[0;34m)\u001b[0m\u001b[0;34m\u001b[0m\u001b[0;34m\u001b[0m\u001b[0m\n",
      "\u001b[0;32m~/anaconda3/envs/wonderland/lib/python3.6/http/client.py\u001b[0m in \u001b[0;36mgetresponse\u001b[0;34m(self)\u001b[0m\n\u001b[1;32m   1352\u001b[0m         \u001b[0;32mtry\u001b[0m\u001b[0;34m:\u001b[0m\u001b[0;34m\u001b[0m\u001b[0;34m\u001b[0m\u001b[0m\n\u001b[1;32m   1353\u001b[0m             \u001b[0;32mtry\u001b[0m\u001b[0;34m:\u001b[0m\u001b[0;34m\u001b[0m\u001b[0;34m\u001b[0m\u001b[0m\n\u001b[0;32m-> 1354\u001b[0;31m                 \u001b[0mresponse\u001b[0m\u001b[0;34m.\u001b[0m\u001b[0mbegin\u001b[0m\u001b[0;34m(\u001b[0m\u001b[0;34m)\u001b[0m\u001b[0;34m\u001b[0m\u001b[0;34m\u001b[0m\u001b[0m\n\u001b[0m\u001b[1;32m   1355\u001b[0m             \u001b[0;32mexcept\u001b[0m \u001b[0mConnectionError\u001b[0m\u001b[0;34m:\u001b[0m\u001b[0;34m\u001b[0m\u001b[0;34m\u001b[0m\u001b[0m\n\u001b[1;32m   1356\u001b[0m                 \u001b[0mself\u001b[0m\u001b[0;34m.\u001b[0m\u001b[0mclose\u001b[0m\u001b[0;34m(\u001b[0m\u001b[0;34m)\u001b[0m\u001b[0;34m\u001b[0m\u001b[0;34m\u001b[0m\u001b[0m\n",
      "\u001b[0;32m~/anaconda3/envs/wonderland/lib/python3.6/http/client.py\u001b[0m in \u001b[0;36mbegin\u001b[0;34m(self)\u001b[0m\n\u001b[1;32m    305\u001b[0m         \u001b[0;31m# read until we get a non-100 response\u001b[0m\u001b[0;34m\u001b[0m\u001b[0;34m\u001b[0m\u001b[0;34m\u001b[0m\u001b[0m\n\u001b[1;32m    306\u001b[0m         \u001b[0;32mwhile\u001b[0m \u001b[0;32mTrue\u001b[0m\u001b[0;34m:\u001b[0m\u001b[0;34m\u001b[0m\u001b[0;34m\u001b[0m\u001b[0m\n\u001b[0;32m--> 307\u001b[0;31m             \u001b[0mversion\u001b[0m\u001b[0;34m,\u001b[0m \u001b[0mstatus\u001b[0m\u001b[0;34m,\u001b[0m \u001b[0mreason\u001b[0m \u001b[0;34m=\u001b[0m \u001b[0mself\u001b[0m\u001b[0;34m.\u001b[0m\u001b[0m_read_status\u001b[0m\u001b[0;34m(\u001b[0m\u001b[0;34m)\u001b[0m\u001b[0;34m\u001b[0m\u001b[0;34m\u001b[0m\u001b[0m\n\u001b[0m\u001b[1;32m    308\u001b[0m             \u001b[0;32mif\u001b[0m \u001b[0mstatus\u001b[0m \u001b[0;34m!=\u001b[0m \u001b[0mCONTINUE\u001b[0m\u001b[0;34m:\u001b[0m\u001b[0;34m\u001b[0m\u001b[0;34m\u001b[0m\u001b[0m\n\u001b[1;32m    309\u001b[0m                 \u001b[0;32mbreak\u001b[0m\u001b[0;34m\u001b[0m\u001b[0;34m\u001b[0m\u001b[0m\n",
      "\u001b[0;32m~/anaconda3/envs/wonderland/lib/python3.6/http/client.py\u001b[0m in \u001b[0;36m_read_status\u001b[0;34m(self)\u001b[0m\n\u001b[1;32m    266\u001b[0m \u001b[0;34m\u001b[0m\u001b[0m\n\u001b[1;32m    267\u001b[0m     \u001b[0;32mdef\u001b[0m \u001b[0m_read_status\u001b[0m\u001b[0;34m(\u001b[0m\u001b[0mself\u001b[0m\u001b[0;34m)\u001b[0m\u001b[0;34m:\u001b[0m\u001b[0;34m\u001b[0m\u001b[0;34m\u001b[0m\u001b[0m\n\u001b[0;32m--> 268\u001b[0;31m         \u001b[0mline\u001b[0m \u001b[0;34m=\u001b[0m \u001b[0mstr\u001b[0m\u001b[0;34m(\u001b[0m\u001b[0mself\u001b[0m\u001b[0;34m.\u001b[0m\u001b[0mfp\u001b[0m\u001b[0;34m.\u001b[0m\u001b[0mreadline\u001b[0m\u001b[0;34m(\u001b[0m\u001b[0m_MAXLINE\u001b[0m \u001b[0;34m+\u001b[0m \u001b[0;36m1\u001b[0m\u001b[0;34m)\u001b[0m\u001b[0;34m,\u001b[0m \u001b[0;34m\"iso-8859-1\"\u001b[0m\u001b[0;34m)\u001b[0m\u001b[0;34m\u001b[0m\u001b[0;34m\u001b[0m\u001b[0m\n\u001b[0m\u001b[1;32m    269\u001b[0m         \u001b[0;32mif\u001b[0m \u001b[0mlen\u001b[0m\u001b[0;34m(\u001b[0m\u001b[0mline\u001b[0m\u001b[0;34m)\u001b[0m \u001b[0;34m>\u001b[0m \u001b[0m_MAXLINE\u001b[0m\u001b[0;34m:\u001b[0m\u001b[0;34m\u001b[0m\u001b[0;34m\u001b[0m\u001b[0m\n\u001b[1;32m    270\u001b[0m             \u001b[0;32mraise\u001b[0m \u001b[0mLineTooLong\u001b[0m\u001b[0;34m(\u001b[0m\u001b[0;34m\"status line\"\u001b[0m\u001b[0;34m)\u001b[0m\u001b[0;34m\u001b[0m\u001b[0;34m\u001b[0m\u001b[0m\n",
      "\u001b[0;32m~/anaconda3/envs/wonderland/lib/python3.6/socket.py\u001b[0m in \u001b[0;36mreadinto\u001b[0;34m(self, b)\u001b[0m\n\u001b[1;32m    584\u001b[0m         \u001b[0;32mwhile\u001b[0m \u001b[0;32mTrue\u001b[0m\u001b[0;34m:\u001b[0m\u001b[0;34m\u001b[0m\u001b[0;34m\u001b[0m\u001b[0m\n\u001b[1;32m    585\u001b[0m             \u001b[0;32mtry\u001b[0m\u001b[0;34m:\u001b[0m\u001b[0;34m\u001b[0m\u001b[0;34m\u001b[0m\u001b[0m\n\u001b[0;32m--> 586\u001b[0;31m                 \u001b[0;32mreturn\u001b[0m \u001b[0mself\u001b[0m\u001b[0;34m.\u001b[0m\u001b[0m_sock\u001b[0m\u001b[0;34m.\u001b[0m\u001b[0mrecv_into\u001b[0m\u001b[0;34m(\u001b[0m\u001b[0mb\u001b[0m\u001b[0;34m)\u001b[0m\u001b[0;34m\u001b[0m\u001b[0;34m\u001b[0m\u001b[0m\n\u001b[0m\u001b[1;32m    587\u001b[0m             \u001b[0;32mexcept\u001b[0m \u001b[0mtimeout\u001b[0m\u001b[0;34m:\u001b[0m\u001b[0;34m\u001b[0m\u001b[0;34m\u001b[0m\u001b[0m\n\u001b[1;32m    588\u001b[0m                 \u001b[0mself\u001b[0m\u001b[0;34m.\u001b[0m\u001b[0m_timeout_occurred\u001b[0m \u001b[0;34m=\u001b[0m \u001b[0;32mTrue\u001b[0m\u001b[0;34m\u001b[0m\u001b[0;34m\u001b[0m\u001b[0m\n",
      "\u001b[0;32m~/anaconda3/envs/wonderland/lib/python3.6/ssl.py\u001b[0m in \u001b[0;36mrecv_into\u001b[0;34m(self, buffer, nbytes, flags)\u001b[0m\n\u001b[1;32m   1010\u001b[0m                   \u001b[0;34m\"non-zero flags not allowed in calls to recv_into() on %s\"\u001b[0m \u001b[0;34m%\u001b[0m\u001b[0;34m\u001b[0m\u001b[0;34m\u001b[0m\u001b[0m\n\u001b[1;32m   1011\u001b[0m                   self.__class__)\n\u001b[0;32m-> 1012\u001b[0;31m             \u001b[0;32mreturn\u001b[0m \u001b[0mself\u001b[0m\u001b[0;34m.\u001b[0m\u001b[0mread\u001b[0m\u001b[0;34m(\u001b[0m\u001b[0mnbytes\u001b[0m\u001b[0;34m,\u001b[0m \u001b[0mbuffer\u001b[0m\u001b[0;34m)\u001b[0m\u001b[0;34m\u001b[0m\u001b[0;34m\u001b[0m\u001b[0m\n\u001b[0m\u001b[1;32m   1013\u001b[0m         \u001b[0;32melse\u001b[0m\u001b[0;34m:\u001b[0m\u001b[0;34m\u001b[0m\u001b[0;34m\u001b[0m\u001b[0m\n\u001b[1;32m   1014\u001b[0m             \u001b[0;32mreturn\u001b[0m \u001b[0msocket\u001b[0m\u001b[0;34m.\u001b[0m\u001b[0mrecv_into\u001b[0m\u001b[0;34m(\u001b[0m\u001b[0mself\u001b[0m\u001b[0;34m,\u001b[0m \u001b[0mbuffer\u001b[0m\u001b[0;34m,\u001b[0m \u001b[0mnbytes\u001b[0m\u001b[0;34m,\u001b[0m \u001b[0mflags\u001b[0m\u001b[0;34m)\u001b[0m\u001b[0;34m\u001b[0m\u001b[0;34m\u001b[0m\u001b[0m\n",
      "\u001b[0;32m~/anaconda3/envs/wonderland/lib/python3.6/ssl.py\u001b[0m in \u001b[0;36mread\u001b[0;34m(self, len, buffer)\u001b[0m\n\u001b[1;32m    872\u001b[0m             \u001b[0;32mraise\u001b[0m \u001b[0mValueError\u001b[0m\u001b[0;34m(\u001b[0m\u001b[0;34m\"Read on closed or unwrapped SSL socket.\"\u001b[0m\u001b[0;34m)\u001b[0m\u001b[0;34m\u001b[0m\u001b[0;34m\u001b[0m\u001b[0m\n\u001b[1;32m    873\u001b[0m         \u001b[0;32mtry\u001b[0m\u001b[0;34m:\u001b[0m\u001b[0;34m\u001b[0m\u001b[0;34m\u001b[0m\u001b[0m\n\u001b[0;32m--> 874\u001b[0;31m             \u001b[0;32mreturn\u001b[0m \u001b[0mself\u001b[0m\u001b[0;34m.\u001b[0m\u001b[0m_sslobj\u001b[0m\u001b[0;34m.\u001b[0m\u001b[0mread\u001b[0m\u001b[0;34m(\u001b[0m\u001b[0mlen\u001b[0m\u001b[0;34m,\u001b[0m \u001b[0mbuffer\u001b[0m\u001b[0;34m)\u001b[0m\u001b[0;34m\u001b[0m\u001b[0;34m\u001b[0m\u001b[0m\n\u001b[0m\u001b[1;32m    875\u001b[0m         \u001b[0;32mexcept\u001b[0m \u001b[0mSSLError\u001b[0m \u001b[0;32mas\u001b[0m \u001b[0mx\u001b[0m\u001b[0;34m:\u001b[0m\u001b[0;34m\u001b[0m\u001b[0;34m\u001b[0m\u001b[0m\n\u001b[1;32m    876\u001b[0m             \u001b[0;32mif\u001b[0m \u001b[0mx\u001b[0m\u001b[0;34m.\u001b[0m\u001b[0margs\u001b[0m\u001b[0;34m[\u001b[0m\u001b[0;36m0\u001b[0m\u001b[0;34m]\u001b[0m \u001b[0;34m==\u001b[0m \u001b[0mSSL_ERROR_EOF\u001b[0m \u001b[0;32mand\u001b[0m \u001b[0mself\u001b[0m\u001b[0;34m.\u001b[0m\u001b[0msuppress_ragged_eofs\u001b[0m\u001b[0;34m:\u001b[0m\u001b[0;34m\u001b[0m\u001b[0;34m\u001b[0m\u001b[0m\n",
      "\u001b[0;32m~/anaconda3/envs/wonderland/lib/python3.6/ssl.py\u001b[0m in \u001b[0;36mread\u001b[0;34m(self, len, buffer)\u001b[0m\n\u001b[1;32m    629\u001b[0m         \"\"\"\n\u001b[1;32m    630\u001b[0m         \u001b[0;32mif\u001b[0m \u001b[0mbuffer\u001b[0m \u001b[0;32mis\u001b[0m \u001b[0;32mnot\u001b[0m \u001b[0;32mNone\u001b[0m\u001b[0;34m:\u001b[0m\u001b[0;34m\u001b[0m\u001b[0;34m\u001b[0m\u001b[0m\n\u001b[0;32m--> 631\u001b[0;31m             \u001b[0mv\u001b[0m \u001b[0;34m=\u001b[0m \u001b[0mself\u001b[0m\u001b[0;34m.\u001b[0m\u001b[0m_sslobj\u001b[0m\u001b[0;34m.\u001b[0m\u001b[0mread\u001b[0m\u001b[0;34m(\u001b[0m\u001b[0mlen\u001b[0m\u001b[0;34m,\u001b[0m \u001b[0mbuffer\u001b[0m\u001b[0;34m)\u001b[0m\u001b[0;34m\u001b[0m\u001b[0;34m\u001b[0m\u001b[0m\n\u001b[0m\u001b[1;32m    632\u001b[0m         \u001b[0;32melse\u001b[0m\u001b[0;34m:\u001b[0m\u001b[0;34m\u001b[0m\u001b[0;34m\u001b[0m\u001b[0m\n\u001b[1;32m    633\u001b[0m             \u001b[0mv\u001b[0m \u001b[0;34m=\u001b[0m \u001b[0mself\u001b[0m\u001b[0;34m.\u001b[0m\u001b[0m_sslobj\u001b[0m\u001b[0;34m.\u001b[0m\u001b[0mread\u001b[0m\u001b[0;34m(\u001b[0m\u001b[0mlen\u001b[0m\u001b[0;34m)\u001b[0m\u001b[0;34m\u001b[0m\u001b[0;34m\u001b[0m\u001b[0m\n",
      "\u001b[0;31mKeyboardInterrupt\u001b[0m: "
     ]
    }
   ],
   "source": [
    "lense['canonical_smiles'] = ''\n",
    "for row in lense.index:\n",
    "    entry = pcp.Compound.from_cid(lense.iat[row, 2])\n",
    "    lense.iat[row, 3] = entry.canonical_smiles\n",
    "    \n",
    "#Audio(sound_file, autoplay=True) # to notify me when it's done (this cell takes several minutes to run)"
   ]
  },
  {
   "cell_type": "code",
   "execution_count": 14,
   "metadata": {},
   "outputs": [
    {
     "data": {
      "text/html": [
       "<div>\n",
       "<style scoped>\n",
       "    .dataframe tbody tr th:only-of-type {\n",
       "        vertical-align: middle;\n",
       "    }\n",
       "\n",
       "    .dataframe tbody tr th {\n",
       "        vertical-align: top;\n",
       "    }\n",
       "\n",
       "    .dataframe thead th {\n",
       "        text-align: right;\n",
       "    }\n",
       "</style>\n",
       "<table border=\"1\" class=\"dataframe\">\n",
       "  <thead>\n",
       "    <tr style=\"text-align: right;\">\n",
       "      <th></th>\n",
       "      <th>CMP_CHEMBL_ID</th>\n",
       "      <th>chembl_id</th>\n",
       "      <th>pubchem_id</th>\n",
       "      <th>canonical_smiles</th>\n",
       "    </tr>\n",
       "  </thead>\n",
       "  <tbody>\n",
       "    <tr>\n",
       "      <th>9171</th>\n",
       "      <td>CHEMBL248853</td>\n",
       "      <td>CHEMBL248853</td>\n",
       "      <td>23585148</td>\n",
       "      <td>CCN1C2=C(C=C1C3=NC(=NC=C3)N)C(=O)NCC2</td>\n",
       "    </tr>\n",
       "    <tr>\n",
       "      <th>9172</th>\n",
       "      <td>CHEMBL442432</td>\n",
       "      <td>CHEMBL442432</td>\n",
       "      <td>44447430</td>\n",
       "      <td>CC1=CC=CC=C1C2CCN(CC2)S(=O)(=O)CC3(CCN(CC3)C(=...</td>\n",
       "    </tr>\n",
       "    <tr>\n",
       "      <th>9173</th>\n",
       "      <td>CHEMBL442291</td>\n",
       "      <td>CHEMBL442291</td>\n",
       "      <td>11504653</td>\n",
       "      <td>CC1=C(C=CC(=C1)F)C2CCN(CC2)S(=O)(=O)CC3(CCN(CC...</td>\n",
       "    </tr>\n",
       "    <tr>\n",
       "      <th>9174</th>\n",
       "      <td>CHEMBL254492</td>\n",
       "      <td>CHEMBL254492</td>\n",
       "      <td>11598899</td>\n",
       "      <td>CC1=CC=CC=C1C2CCN(CC2)S(=O)(=O)CC3(CCN(CC3)C(=...</td>\n",
       "    </tr>\n",
       "    <tr>\n",
       "      <th>9175</th>\n",
       "      <td>CHEMBL253652</td>\n",
       "      <td>CHEMBL253652</td>\n",
       "      <td>11577517</td>\n",
       "      <td>CC1=C(C=CC(=C1)C#N)C2=CCN(CC2)S(=O)(=O)CC3(CCN...</td>\n",
       "    </tr>\n",
       "    <tr>\n",
       "      <th>9176</th>\n",
       "      <td>CHEMBL523173</td>\n",
       "      <td>CHEMBL523173</td>\n",
       "      <td>44573402</td>\n",
       "      <td>CC(C)C1=CC(=C(C=C1OC2=CN=C(N=C2N)NC(C)CO)I)OC</td>\n",
       "    </tr>\n",
       "    <tr>\n",
       "      <th>9177</th>\n",
       "      <td>CHEMBL598471</td>\n",
       "      <td>CHEMBL598471</td>\n",
       "      <td>46231494</td>\n",
       "      <td>CC(CN1CCN(CC1)C2=NC=CC=N2)NC(=O)C3=CC(=NC(=C3)...</td>\n",
       "    </tr>\n",
       "    <tr>\n",
       "      <th>9178</th>\n",
       "      <td>CHEMBL596814</td>\n",
       "      <td>CHEMBL596814</td>\n",
       "      <td>46231351</td>\n",
       "      <td>CC(CN1CCN(CC1)C2=NC=CC=N2)NC(=O)C3=CC(=NN3C4=C...</td>\n",
       "    </tr>\n",
       "    <tr>\n",
       "      <th>9179</th>\n",
       "      <td>CHEMBL598497</td>\n",
       "      <td>CHEMBL598497</td>\n",
       "      <td>16069006</td>\n",
       "      <td></td>\n",
       "    </tr>\n",
       "    <tr>\n",
       "      <th>9180</th>\n",
       "      <td>CHEMBL467624</td>\n",
       "      <td>CHEMBL467624</td>\n",
       "      <td>24971360</td>\n",
       "      <td></td>\n",
       "    </tr>\n",
       "  </tbody>\n",
       "</table>\n",
       "</div>"
      ],
      "text/plain": [
       "     CMP_CHEMBL_ID     chembl_id pubchem_id  \\\n",
       "9171  CHEMBL248853  CHEMBL248853   23585148   \n",
       "9172  CHEMBL442432  CHEMBL442432   44447430   \n",
       "9173  CHEMBL442291  CHEMBL442291   11504653   \n",
       "9174  CHEMBL254492  CHEMBL254492   11598899   \n",
       "9175  CHEMBL253652  CHEMBL253652   11577517   \n",
       "9176  CHEMBL523173  CHEMBL523173   44573402   \n",
       "9177  CHEMBL598471  CHEMBL598471   46231494   \n",
       "9178  CHEMBL596814  CHEMBL596814   46231351   \n",
       "9179  CHEMBL598497  CHEMBL598497   16069006   \n",
       "9180  CHEMBL467624  CHEMBL467624   24971360   \n",
       "\n",
       "                                       canonical_smiles  \n",
       "9171              CCN1C2=C(C=C1C3=NC(=NC=C3)N)C(=O)NCC2  \n",
       "9172  CC1=CC=CC=C1C2CCN(CC2)S(=O)(=O)CC3(CCN(CC3)C(=...  \n",
       "9173  CC1=C(C=CC(=C1)F)C2CCN(CC2)S(=O)(=O)CC3(CCN(CC...  \n",
       "9174  CC1=CC=CC=C1C2CCN(CC2)S(=O)(=O)CC3(CCN(CC3)C(=...  \n",
       "9175  CC1=C(C=CC(=C1)C#N)C2=CCN(CC2)S(=O)(=O)CC3(CCN...  \n",
       "9176      CC(C)C1=CC(=C(C=C1OC2=CN=C(N=C2N)NC(C)CO)I)OC  \n",
       "9177  CC(CN1CCN(CC1)C2=NC=CC=N2)NC(=O)C3=CC(=NC(=C3)...  \n",
       "9178  CC(CN1CCN(CC1)C2=NC=CC=N2)NC(=O)C3=CC(=NN3C4=C...  \n",
       "9179                                                     \n",
       "9180                                                     "
      ]
     },
     "execution_count": 14,
     "metadata": {},
     "output_type": "execute_result"
    }
   ],
   "source": [
    "lense.iloc[9170:9180]"
   ]
  },
  {
   "cell_type": "code",
   "execution_count": 15,
   "metadata": {},
   "outputs": [],
   "source": [
    "#lense.to_csv('tmp_lense_2020_07_31.csv', index=False)"
   ]
  },
  {
   "cell_type": "markdown",
   "metadata": {},
   "source": [
    "ATTENTION: I don't understand the error from the cell above, but the code works nonethless (I checked with the PubChem Website)."
   ]
  },
  {
   "cell_type": "code",
   "execution_count": 51,
   "metadata": {
    "scrolled": false
   },
   "outputs": [],
   "source": [
    "lense['tokens'] = ''\n",
    "for row in lense.index:\n",
    "    lense.at[row, 'tokens'] = atomwise_tokenizer(lense.at[row, 'canonical_smiles'])"
   ]
  },
  {
   "cell_type": "code",
   "execution_count": 53,
   "metadata": {},
   "outputs": [],
   "source": [
    "alphabet_lense = set()\n",
    "\n",
    "for i in lense.tokens:\n",
    "    alphabet_lense.update(i)"
   ]
  },
  {
   "cell_type": "code",
   "execution_count": 54,
   "metadata": {},
   "outputs": [
    {
     "name": "stdout",
     "output_type": "stream",
     "text": [
      "{'2', '7', '3', 'C', '[O-]', '[PH+]', 'N', '[N+]', 'Br', '6', '#', '8', '[S+]', 'Cl', '=', '(', '[N-]', 'O', '1', '5', 'S', '[NH+]', 'I', '[NH3+]', '9', ')', '4', 'P', 'F'}\n"
     ]
    }
   ],
   "source": [
    "print(alphabet_lense)"
   ]
  },
  {
   "cell_type": "markdown",
   "metadata": {},
   "source": [
    "## PubChem"
   ]
  },
  {
   "cell_type": "code",
   "execution_count": 57,
   "metadata": {},
   "outputs": [],
   "source": [
    "pubchem = pd.read_table('../datasets/PubChem/PubChem_sample_1.txt', header=None, usecols=[1])"
   ]
  },
  {
   "cell_type": "code",
   "execution_count": 61,
   "metadata": {},
   "outputs": [
    {
     "data": {
      "text/html": [
       "<div>\n",
       "<style scoped>\n",
       "    .dataframe tbody tr th:only-of-type {\n",
       "        vertical-align: middle;\n",
       "    }\n",
       "\n",
       "    .dataframe tbody tr th {\n",
       "        vertical-align: top;\n",
       "    }\n",
       "\n",
       "    .dataframe thead th {\n",
       "        text-align: right;\n",
       "    }\n",
       "</style>\n",
       "<table border=\"1\" class=\"dataframe\">\n",
       "  <thead>\n",
       "    <tr style=\"text-align: right;\">\n",
       "      <th></th>\n",
       "      <th>smiles</th>\n",
       "    </tr>\n",
       "  </thead>\n",
       "  <tbody>\n",
       "    <tr>\n",
       "      <th>0</th>\n",
       "      <td>C[NH+](C)CC[NH2+]C(C1=CC=CC=C1)C2=CC=C(C=C2)Cl...</td>\n",
       "    </tr>\n",
       "    <tr>\n",
       "      <th>1</th>\n",
       "      <td>C=C=CC(Cl)(Cl)Cl</td>\n",
       "    </tr>\n",
       "    <tr>\n",
       "      <th>2</th>\n",
       "      <td>CCC1=CC(=O)C2=C(O1)C(=C(C=C2)O)C[NH+](C)C.[Cl-]</td>\n",
       "    </tr>\n",
       "    <tr>\n",
       "      <th>3</th>\n",
       "      <td>C1=CC(=NCl)C(=CC1=NCl)Cl</td>\n",
       "    </tr>\n",
       "    <tr>\n",
       "      <th>4</th>\n",
       "      <td>C(C1=C(C(=C(C(=C1Cl)Cl)Cl)CN)Cl)N</td>\n",
       "    </tr>\n",
       "    <tr>\n",
       "      <th>...</th>\n",
       "      <td>...</td>\n",
       "    </tr>\n",
       "    <tr>\n",
       "      <th>9995</th>\n",
       "      <td>C1=CC=C2C(=C1)C=CC=C2C3=NC(=NC(=N3)C4=CC=C(C=C...</td>\n",
       "    </tr>\n",
       "    <tr>\n",
       "      <th>9996</th>\n",
       "      <td>CC1CCC=C(N1)C2=CC=C(CC2C3CC=C4C(=C3)C=CC5=CC=C...</td>\n",
       "    </tr>\n",
       "    <tr>\n",
       "      <th>9997</th>\n",
       "      <td>CCCC1=C(C=CC(=C1)C)C2=NOC(=O)N2</td>\n",
       "    </tr>\n",
       "    <tr>\n",
       "      <th>9998</th>\n",
       "      <td>CC(C)C1CC2CC(CC2C1)SC</td>\n",
       "    </tr>\n",
       "    <tr>\n",
       "      <th>9999</th>\n",
       "      <td>CC(C)(C)OC(=O)C[C@@H]1C/C=C/C[C@@H](C(=O)N2CCC...</td>\n",
       "    </tr>\n",
       "  </tbody>\n",
       "</table>\n",
       "<p>10000 rows × 1 columns</p>\n",
       "</div>"
      ],
      "text/plain": [
       "                                                 smiles\n",
       "0     C[NH+](C)CC[NH2+]C(C1=CC=CC=C1)C2=CC=C(C=C2)Cl...\n",
       "1                                      C=C=CC(Cl)(Cl)Cl\n",
       "2       CCC1=CC(=O)C2=C(O1)C(=C(C=C2)O)C[NH+](C)C.[Cl-]\n",
       "3                              C1=CC(=NCl)C(=CC1=NCl)Cl\n",
       "4                     C(C1=C(C(=C(C(=C1Cl)Cl)Cl)CN)Cl)N\n",
       "...                                                 ...\n",
       "9995  C1=CC=C2C(=C1)C=CC=C2C3=NC(=NC(=N3)C4=CC=C(C=C...\n",
       "9996  CC1CCC=C(N1)C2=CC=C(CC2C3CC=C4C(=C3)C=CC5=CC=C...\n",
       "9997                    CCCC1=C(C=CC(=C1)C)C2=NOC(=O)N2\n",
       "9998                              CC(C)C1CC2CC(CC2C1)SC\n",
       "9999  CC(C)(C)OC(=O)C[C@@H]1C/C=C/C[C@@H](C(=O)N2CCC...\n",
       "\n",
       "[10000 rows x 1 columns]"
      ]
     },
     "execution_count": 61,
     "metadata": {},
     "output_type": "execute_result"
    }
   ],
   "source": [
    "pubchem"
   ]
  },
  {
   "cell_type": "code",
   "execution_count": 59,
   "metadata": {
    "collapsed": true
   },
   "outputs": [
    {
     "data": {
      "text/html": [
       "<div>\n",
       "<style scoped>\n",
       "    .dataframe tbody tr th:only-of-type {\n",
       "        vertical-align: middle;\n",
       "    }\n",
       "\n",
       "    .dataframe tbody tr th {\n",
       "        vertical-align: top;\n",
       "    }\n",
       "\n",
       "    .dataframe thead th {\n",
       "        text-align: right;\n",
       "    }\n",
       "</style>\n",
       "<table border=\"1\" class=\"dataframe\">\n",
       "  <thead>\n",
       "    <tr style=\"text-align: right;\">\n",
       "      <th></th>\n",
       "      <th>1</th>\n",
       "    </tr>\n",
       "  </thead>\n",
       "  <tbody>\n",
       "    <tr>\n",
       "      <th>0</th>\n",
       "      <td>C[NH+](C)CC[NH2+]C(C1=CC=CC=C1)C2=CC=C(C=C2)Cl...</td>\n",
       "    </tr>\n",
       "    <tr>\n",
       "      <th>1</th>\n",
       "      <td>C=C=CC(Cl)(Cl)Cl</td>\n",
       "    </tr>\n",
       "    <tr>\n",
       "      <th>2</th>\n",
       "      <td>CCC1=CC(=O)C2=C(O1)C(=C(C=C2)O)C[NH+](C)C.[Cl-]</td>\n",
       "    </tr>\n",
       "    <tr>\n",
       "      <th>3</th>\n",
       "      <td>C1=CC(=NCl)C(=CC1=NCl)Cl</td>\n",
       "    </tr>\n",
       "    <tr>\n",
       "      <th>4</th>\n",
       "      <td>C(C1=C(C(=C(C(=C1Cl)Cl)Cl)CN)Cl)N</td>\n",
       "    </tr>\n",
       "    <tr>\n",
       "      <th>...</th>\n",
       "      <td>...</td>\n",
       "    </tr>\n",
       "    <tr>\n",
       "      <th>9995</th>\n",
       "      <td>C1=CC=C2C(=C1)C=CC=C2C3=NC(=NC(=N3)C4=CC=C(C=C...</td>\n",
       "    </tr>\n",
       "    <tr>\n",
       "      <th>9996</th>\n",
       "      <td>CC1CCC=C(N1)C2=CC=C(CC2C3CC=C4C(=C3)C=CC5=CC=C...</td>\n",
       "    </tr>\n",
       "    <tr>\n",
       "      <th>9997</th>\n",
       "      <td>CCCC1=C(C=CC(=C1)C)C2=NOC(=O)N2</td>\n",
       "    </tr>\n",
       "    <tr>\n",
       "      <th>9998</th>\n",
       "      <td>CC(C)C1CC2CC(CC2C1)SC</td>\n",
       "    </tr>\n",
       "    <tr>\n",
       "      <th>9999</th>\n",
       "      <td>CC(C)(C)OC(=O)C[C@@H]1C/C=C/C[C@@H](C(=O)N2CCC...</td>\n",
       "    </tr>\n",
       "  </tbody>\n",
       "</table>\n",
       "<p>10000 rows × 1 columns</p>\n",
       "</div>"
      ],
      "text/plain": [
       "                                                      1\n",
       "0     C[NH+](C)CC[NH2+]C(C1=CC=CC=C1)C2=CC=C(C=C2)Cl...\n",
       "1                                      C=C=CC(Cl)(Cl)Cl\n",
       "2       CCC1=CC(=O)C2=C(O1)C(=C(C=C2)O)C[NH+](C)C.[Cl-]\n",
       "3                              C1=CC(=NCl)C(=CC1=NCl)Cl\n",
       "4                     C(C1=C(C(=C(C(=C1Cl)Cl)Cl)CN)Cl)N\n",
       "...                                                 ...\n",
       "9995  C1=CC=C2C(=C1)C=CC=C2C3=NC(=NC(=N3)C4=CC=C(C=C...\n",
       "9996  CC1CCC=C(N1)C2=CC=C(CC2C3CC=C4C(=C3)C=CC5=CC=C...\n",
       "9997                    CCCC1=C(C=CC(=C1)C)C2=NOC(=O)N2\n",
       "9998                              CC(C)C1CC2CC(CC2C1)SC\n",
       "9999  CC(C)(C)OC(=O)C[C@@H]1C/C=C/C[C@@H](C(=O)N2CCC...\n",
       "\n",
       "[10000 rows x 1 columns]"
      ]
     },
     "execution_count": 59,
     "metadata": {},
     "output_type": "execute_result"
    }
   ],
   "source": [
    "pubchem.dropna(how='any', inplace=True)\n",
    "pubchem.reset_index(drop=True)"
   ]
  },
  {
   "cell_type": "code",
   "execution_count": 60,
   "metadata": {},
   "outputs": [],
   "source": [
    "pubchem.rename(columns={1:'smiles'}, inplace=True)"
   ]
  },
  {
   "cell_type": "code",
   "execution_count": 62,
   "metadata": {},
   "outputs": [],
   "source": [
    "alphabet_pubchem = set()\n",
    "\n",
    "for row in pubchem.index:\n",
    "    tokens = atomwise_tokenizer(pubchem.iloc[row,0])\n",
    "    alphabet_pubchem.update(tokens)"
   ]
  },
  {
   "cell_type": "code",
   "execution_count": 63,
   "metadata": {},
   "outputs": [
    {
     "data": {
      "text/plain": [
       "{'#',\n",
       " '%10',\n",
       " '%11',\n",
       " '%12',\n",
       " '%13',\n",
       " '(',\n",
       " ')',\n",
       " '.',\n",
       " '/',\n",
       " '1',\n",
       " '2',\n",
       " '3',\n",
       " '4',\n",
       " '5',\n",
       " '6',\n",
       " '7',\n",
       " '8',\n",
       " '9',\n",
       " '=',\n",
       " 'B',\n",
       " 'Br',\n",
       " 'C',\n",
       " 'Cl',\n",
       " 'F',\n",
       " 'I',\n",
       " 'N',\n",
       " 'O',\n",
       " 'P',\n",
       " 'S',\n",
       " '[11CH2]',\n",
       " '[11CH3]',\n",
       " '[11CH]',\n",
       " '[13CH3]',\n",
       " '[13CH]',\n",
       " '[13C]',\n",
       " '[16OH]',\n",
       " '[2H]',\n",
       " '[Ac]',\n",
       " '[Ag]',\n",
       " '[Al]',\n",
       " '[As+3]',\n",
       " '[As]',\n",
       " '[Au+]',\n",
       " '[Au]',\n",
       " '[B-]',\n",
       " '[B]',\n",
       " '[Ba+2]',\n",
       " '[Br-]',\n",
       " '[C+]',\n",
       " '[C-]',\n",
       " '[C@@H]',\n",
       " '[C@@]',\n",
       " '[C@H]',\n",
       " '[C@]',\n",
       " '[CH-]',\n",
       " '[CH2-]',\n",
       " '[CH2]',\n",
       " '[CH3-]',\n",
       " '[CH]',\n",
       " '[C]',\n",
       " '[Cl-]',\n",
       " '[Co+3]',\n",
       " '[Co]',\n",
       " '[Cr+3]',\n",
       " '[Cr]',\n",
       " '[Cs+]',\n",
       " '[Cu+2]',\n",
       " '[Cu+]',\n",
       " '[Er+3]',\n",
       " '[Fe+2]',\n",
       " '[Ga]',\n",
       " '[Gd+3]',\n",
       " '[Ge]',\n",
       " '[H+]',\n",
       " '[HH]',\n",
       " '[Hf]',\n",
       " '[Ho]',\n",
       " '[I-]',\n",
       " '[Ir+3]',\n",
       " '[Ir]',\n",
       " '[K+]',\n",
       " '[Li+]',\n",
       " '[Mg+2]',\n",
       " '[Mg]',\n",
       " '[Mn]',\n",
       " '[Mo+4]',\n",
       " '[Mo]',\n",
       " '[N+]',\n",
       " '[N-]',\n",
       " '[N@@+]',\n",
       " '[NH+]',\n",
       " '[NH-]',\n",
       " '[NH2+]',\n",
       " '[NH2-]',\n",
       " '[NH3+]',\n",
       " '[NH4+]',\n",
       " '[N]',\n",
       " '[Na+]',\n",
       " '[Na]',\n",
       " '[Nd]',\n",
       " '[Ni+2]',\n",
       " '[Ni]',\n",
       " '[O+]',\n",
       " '[O-]',\n",
       " '[OH+]',\n",
       " '[OH-]',\n",
       " '[OH2+]',\n",
       " '[P+]',\n",
       " '[P-]',\n",
       " '[P@@]',\n",
       " '[P@]',\n",
       " '[Pb+2]',\n",
       " '[Pd+2]',\n",
       " '[Pd]',\n",
       " '[Po]',\n",
       " '[Pr]',\n",
       " '[Pt+2]',\n",
       " '[Rh+2]',\n",
       " '[Rh]',\n",
       " '[Ru+]',\n",
       " '[Ru]',\n",
       " '[S+]',\n",
       " '[S-]',\n",
       " '[S@@]',\n",
       " '[S@]',\n",
       " '[SH+]',\n",
       " '[Sc+3]',\n",
       " '[Se]',\n",
       " '[Si@@]',\n",
       " '[SiH]',\n",
       " '[Si]',\n",
       " '[Sn]',\n",
       " '[Te]',\n",
       " '[Ti+2]',\n",
       " '[Ti+4]',\n",
       " '[Ti+]',\n",
       " '[Ti]',\n",
       " '[U+2]',\n",
       " '[V+2]',\n",
       " '[W+2]',\n",
       " '[W]',\n",
       " '[Y]',\n",
       " '[Zn+2]',\n",
       " '[Zr+2]',\n",
       " '[Zr+4]',\n",
       " '[Zr]',\n",
       " '\\\\'}"
      ]
     },
     "execution_count": 63,
     "metadata": {},
     "output_type": "execute_result"
    }
   ],
   "source": [
    "alphabet_pubchem"
   ]
  },
  {
   "cell_type": "markdown",
   "metadata": {},
   "source": [
    "## Compare the alphabets"
   ]
  },
  {
   "cell_type": "code",
   "execution_count": 64,
   "metadata": {},
   "outputs": [
    {
     "data": {
      "text/plain": [
       "{'[PH+]'}"
      ]
     },
     "execution_count": 64,
     "metadata": {},
     "output_type": "execute_result"
    }
   ],
   "source": [
    "alphabet_lense.difference(alphabet_pubchem) # die Elemente, die nicht in PubChem sind"
   ]
  },
  {
   "cell_type": "code",
   "execution_count": 81,
   "metadata": {},
   "outputs": [
    {
     "name": "stdout",
     "output_type": "stream",
     "text": [
      "['%10', '%11', '%12', '%13', '.', '/', 'B', '[11CH2]', '[11CH3]', '[11CH]', '[13CH3]', '[13CH]', '[13C]', '[16OH]', '[2H]', '[Ac]', '[Ag]', '[Al]', '[As+3]', '[As]', '[Au+]', '[Au]', '[B-]', '[B]', '[Ba+2]', '[Br-]', '[C+]', '[C-]', '[C@@H]', '[C@@]', '[C@H]', '[C@]', '[CH-]', '[CH2-]', '[CH2]', '[CH3-]', '[CH]', '[C]', '[Cl-]', '[Co+3]', '[Co]', '[Cr+3]', '[Cr]', '[Cs+]', '[Cu+2]', '[Cu+]', '[Er+3]', '[Fe+2]', '[Ga]', '[Gd+3]', '[Ge]', '[H+]', '[HH]', '[Hf]', '[Ho]', '[I-]', '[Ir+3]', '[Ir]', '[K+]', '[Li+]', '[Mg+2]', '[Mg]', '[Mn]', '[Mo+4]', '[Mo]', '[N@@+]', '[NH-]', '[NH2+]', '[NH2-]', '[NH4+]', '[N]', '[Na+]', '[Na]', '[Nd]', '[Ni+2]', '[Ni]', '[O+]', '[OH+]', '[OH-]', '[OH2+]', '[P+]', '[P-]', '[P@@]', '[P@]', '[Pb+2]', '[Pd+2]', '[Pd]', '[Po]', '[Pr]', '[Pt+2]', '[Rh+2]', '[Rh]', '[Ru+]', '[Ru]', '[S-]', '[S@@]', '[S@]', '[SH+]', '[Sc+3]', '[Se]', '[Si@@]', '[SiH]', '[Si]', '[Sn]', '[Te]', '[Ti+2]', '[Ti+4]', '[Ti+]', '[Ti]', '[U+2]', '[V+2]', '[W+2]', '[W]', '[Y]', '[Zn+2]', '[Zr+2]', '[Zr+4]', '[Zr]', '\\\\']\n"
     ]
    }
   ],
   "source": [
    "print(sorted(alphabet_pubchem.difference(alphabet_lense))) # die Elemente, die nicht in Lense sind"
   ]
  },
  {
   "cell_type": "code",
   "execution_count": 68,
   "metadata": {},
   "outputs": [
    {
     "name": "stdout",
     "output_type": "stream",
     "text": [
      "{'2', '7', '3', 'C', '[O-]', 'N', '[N+]', 'Br', '6', '#', '8', '[S+]', 'Cl', '=', '(', '[N-]', 'O', '1', '5', 'S', '[NH+]', 'I', '[NH3+]', '9', ')', '4', 'P', 'F'}\n"
     ]
    }
   ],
   "source": [
    "print(alphabet_lense.intersection(alphabet_pubchem))"
   ]
  },
  {
   "cell_type": "markdown",
   "metadata": {},
   "source": [
    "Strategy: Throw out the things in PubChem, which contain tokens which aren't in Lense."
   ]
  },
  {
   "cell_type": "code",
   "execution_count": null,
   "metadata": {},
   "outputs": [],
   "source": [
    "print(alphabet_lense)"
   ]
  },
  {
   "cell_type": "code",
   "execution_count": 79,
   "metadata": {},
   "outputs": [],
   "source": [
    "shared_alphabet = alphabet_pubchem & alphabet_lense"
   ]
  },
  {
   "cell_type": "code",
   "execution_count": 80,
   "metadata": {},
   "outputs": [
    {
     "name": "stdout",
     "output_type": "stream",
     "text": [
      "['#', '(', ')', '1', '2', '3', '4', '5', '6', '7', '8', '9', '=', 'Br', 'C', 'Cl', 'F', 'I', 'N', 'O', 'P', 'S', '[N+]', '[N-]', '[NH+]', '[NH3+]', '[O-]', '[S+]']\n"
     ]
    }
   ],
   "source": [
    "print(sorted(shared_alphabet))"
   ]
  },
  {
   "cell_type": "code",
   "execution_count": 70,
   "metadata": {},
   "outputs": [],
   "source": [
    "allowed_alphabet_1 = alphabet_pubchem - alphabet_lense"
   ]
  },
  {
   "cell_type": "code",
   "execution_count": 71,
   "metadata": {},
   "outputs": [],
   "source": [
    "allowed_alphabet_2 = alphabet_pubchem & alphabet_lense"
   ]
  },
  {
   "cell_type": "code",
   "execution_count": 74,
   "metadata": {},
   "outputs": [],
   "source": [
    "allowed_alphabet_3 = allowed_alphabet_1.union(allowed_alphabet_2)"
   ]
  },
  {
   "cell_type": "code",
   "execution_count": 82,
   "metadata": {},
   "outputs": [
    {
     "name": "stdout",
     "output_type": "stream",
     "text": [
      "['#', '%10', '%11', '%12', '%13', '(', ')', '.', '/', '1', '2', '3', '4', '5', '6', '7', '8', '9', '=', 'B', 'Br', 'C', 'Cl', 'F', 'I', 'N', 'O', 'P', 'S', '[11CH2]', '[11CH3]', '[11CH]', '[13CH3]', '[13CH]', '[13C]', '[16OH]', '[2H]', '[Ac]', '[Ag]', '[Al]', '[As+3]', '[As]', '[Au+]', '[Au]', '[B-]', '[B]', '[Ba+2]', '[Br-]', '[C+]', '[C-]', '[C@@H]', '[C@@]', '[C@H]', '[C@]', '[CH-]', '[CH2-]', '[CH2]', '[CH3-]', '[CH]', '[C]', '[Cl-]', '[Co+3]', '[Co]', '[Cr+3]', '[Cr]', '[Cs+]', '[Cu+2]', '[Cu+]', '[Er+3]', '[Fe+2]', '[Ga]', '[Gd+3]', '[Ge]', '[H+]', '[HH]', '[Hf]', '[Ho]', '[I-]', '[Ir+3]', '[Ir]', '[K+]', '[Li+]', '[Mg+2]', '[Mg]', '[Mn]', '[Mo+4]', '[Mo]', '[N+]', '[N-]', '[N@@+]', '[NH+]', '[NH-]', '[NH2+]', '[NH2-]', '[NH3+]', '[NH4+]', '[N]', '[Na+]', '[Na]', '[Nd]', '[Ni+2]', '[Ni]', '[O+]', '[O-]', '[OH+]', '[OH-]', '[OH2+]', '[P+]', '[P-]', '[P@@]', '[P@]', '[Pb+2]', '[Pd+2]', '[Pd]', '[Po]', '[Pr]', '[Pt+2]', '[Rh+2]', '[Rh]', '[Ru+]', '[Ru]', '[S+]', '[S-]', '[S@@]', '[S@]', '[SH+]', '[Sc+3]', '[Se]', '[Si@@]', '[SiH]', '[Si]', '[Sn]', '[Te]', '[Ti+2]', '[Ti+4]', '[Ti+]', '[Ti]', '[U+2]', '[V+2]', '[W+2]', '[W]', '[Y]', '[Zn+2]', '[Zr+2]', '[Zr+4]', '[Zr]', '\\\\']\n"
     ]
    }
   ],
   "source": [
    "print(sorted(allowed_alphabet_3))"
   ]
  },
  {
   "cell_type": "code",
   "execution_count": 77,
   "metadata": {},
   "outputs": [
    {
     "name": "stdout",
     "output_type": "stream",
     "text": [
      "['#', '%10', '%11', '%12', '%13', '(', ')', '.', '/', '1', '2', '3', '4', '5', '6', '7', '8', '9', '=', 'B', 'Br', 'C', 'Cl', 'F', 'I', 'N', 'O', 'P', 'S', '[11CH2]', '[11CH3]', '[11CH]', '[13CH3]', '[13CH]', '[13C]', '[16OH]', '[2H]', '[Ac]', '[Ag]', '[Al]', '[As+3]', '[As]', '[Au+]', '[Au]', '[B-]', '[B]', '[Ba+2]', '[Br-]', '[C+]', '[C-]', '[C@@H]', '[C@@]', '[C@H]', '[C@]', '[CH-]', '[CH2-]', '[CH2]', '[CH3-]', '[CH]', '[C]', '[Cl-]', '[Co+3]', '[Co]', '[Cr+3]', '[Cr]', '[Cs+]', '[Cu+2]', '[Cu+]', '[Er+3]', '[Fe+2]', '[Ga]', '[Gd+3]', '[Ge]', '[H+]', '[HH]', '[Hf]', '[Ho]', '[I-]', '[Ir+3]', '[Ir]', '[K+]', '[Li+]', '[Mg+2]', '[Mg]', '[Mn]', '[Mo+4]', '[Mo]', '[N+]', '[N-]', '[N@@+]', '[NH+]', '[NH-]', '[NH2+]', '[NH2-]', '[NH3+]', '[NH4+]', '[N]', '[Na+]', '[Na]', '[Nd]', '[Ni+2]', '[Ni]', '[O+]', '[O-]', '[OH+]', '[OH-]', '[OH2+]', '[P+]', '[P-]', '[P@@]', '[P@]', '[Pb+2]', '[Pd+2]', '[Pd]', '[Po]', '[Pr]', '[Pt+2]', '[Rh+2]', '[Rh]', '[Ru+]', '[Ru]', '[S+]', '[S-]', '[S@@]', '[S@]', '[SH+]', '[Sc+3]', '[Se]', '[Si@@]', '[SiH]', '[Si]', '[Sn]', '[Te]', '[Ti+2]', '[Ti+4]', '[Ti+]', '[Ti]', '[U+2]', '[V+2]', '[W+2]', '[W]', '[Y]', '[Zn+2]', '[Zr+2]', '[Zr+4]', '[Zr]', '\\\\']\n"
     ]
    }
   ],
   "source": [
    "print(sorted(alphabet_pubchem))"
   ]
  },
  {
   "cell_type": "code",
   "execution_count": null,
   "metadata": {},
   "outputs": [],
   "source": []
  }
 ],
 "metadata": {
  "kernelspec": {
   "display_name": "Python 3",
   "language": "python",
   "name": "python3"
  },
  "language_info": {
   "codemirror_mode": {
    "name": "ipython",
    "version": 3
   },
   "file_extension": ".py",
   "mimetype": "text/x-python",
   "name": "python",
   "nbconvert_exporter": "python",
   "pygments_lexer": "ipython3",
   "version": "3.6.10"
  }
 },
 "nbformat": 4,
 "nbformat_minor": 4
}
