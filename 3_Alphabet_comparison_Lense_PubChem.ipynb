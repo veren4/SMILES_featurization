{
 "cells": [
  {
   "cell_type": "code",
   "execution_count": 1,
   "metadata": {},
   "outputs": [],
   "source": [
    "import pandas as pd     \n",
    "from SmilesPE.pretokenizer import atomwise_tokenizer\n",
    "import pdb      #pdb.set_trace()\n",
    "import pubchempy as pcp\n",
    "\n",
    "from IPython.display import Audio\n",
    "#sound_file = '../applause.mp3'\n",
    "sound_file = '../diving.mp3'"
   ]
  },
  {
   "cell_type": "markdown",
   "metadata": {},
   "source": [
    "## Lenselink"
   ]
  },
  {
   "cell_type": "code",
   "execution_count": 2,
   "metadata": {},
   "outputs": [],
   "source": [
    "le_s1 = pd.read_table('../datasets/Lenselink_et_al/Lenselink_sample_1.txt', usecols=['CMP_CHEMBL_ID'])\n",
    "le_s2 = pd.read_table('../datasets/Lenselink_et_al/Lenselink_sample_2.txt', usecols=['CMP_CHEMBL_ID'])\n",
    "le_s3 = pd.read_table('../datasets/Lenselink_et_al/Lenselink_sample_3.txt', usecols=['CMP_CHEMBL_ID'])\n",
    "le_s4 = pd.read_table('../datasets/Lenselink_et_al/Lenselink_sample_4.txt', usecols=['CMP_CHEMBL_ID'])\n",
    "le_s5 = pd.read_table('../datasets/Lenselink_et_al/Lenselink_sample_5.txt', usecols=['CMP_CHEMBL_ID'])"
   ]
  },
  {
   "cell_type": "code",
   "execution_count": 3,
   "metadata": {},
   "outputs": [],
   "source": [
    "lense = le_s1.append(le_s2)\n",
    "lense = lense.append(le_s3)\n",
    "lense = lense.append(le_s4)\n",
    "lense = lense.append(le_s5)"
   ]
  },
  {
   "cell_type": "code",
   "execution_count": 4,
   "metadata": {},
   "outputs": [],
   "source": [
    "# backup for below\n",
    "lense2 = lense"
   ]
  },
  {
   "cell_type": "code",
   "execution_count": null,
   "metadata": {},
   "outputs": [],
   "source": [
    "chembl = pd.read_table('../datasets/ChEMBL/chembl_27_chemreps.txt', usecols=['chembl_id', 'canonical_smiles'])"
   ]
  },
  {
   "cell_type": "code",
   "execution_count": null,
   "metadata": {},
   "outputs": [],
   "source": [
    "lense = pd.merge(lense, chembl,\n",
    "                how='left',\n",
    "                left_on='CMP_CHEMBL_ID', right_on='chembl_id')"
   ]
  },
  {
   "cell_type": "code",
   "execution_count": null,
   "metadata": {},
   "outputs": [],
   "source": [
    "lense = lense[['chembl_id', 'canonical_smiles']]"
   ]
  },
  {
   "cell_type": "code",
   "execution_count": null,
   "metadata": {},
   "outputs": [],
   "source": [
    "lense.dropna(how='any', inplace=True)\n",
    "lense.reset_index(drop=True)"
   ]
  },
  {
   "cell_type": "code",
   "execution_count": null,
   "metadata": {},
   "outputs": [],
   "source": [
    "lense['tokens'] = ''\n",
    "for row in lense.index:\n",
    "    lense.at[row, 'tokens'] = atomwise_tokenizer(lense.at[row, 'canonical_smiles'])"
   ]
  },
  {
   "cell_type": "code",
   "execution_count": null,
   "metadata": {},
   "outputs": [],
   "source": [
    "lense.head()"
   ]
  },
  {
   "cell_type": "code",
   "execution_count": null,
   "metadata": {},
   "outputs": [],
   "source": [
    "type(lense.tokens)"
   ]
  },
  {
   "cell_type": "code",
   "execution_count": null,
   "metadata": {},
   "outputs": [],
   "source": [
    "alphabet_lense = set()\n",
    "\n",
    "for i in lense.tokens:\n",
    "    alphabet_lense.update(i)"
   ]
  },
  {
   "cell_type": "code",
   "execution_count": null,
   "metadata": {},
   "outputs": [],
   "source": [
    "alphabet_lense"
   ]
  },
  {
   "cell_type": "markdown",
   "metadata": {},
   "source": [
    "#### Alternative Mapping to get SMILES created by PubChem"
   ]
  },
  {
   "cell_type": "code",
   "execution_count": 5,
   "metadata": {},
   "outputs": [],
   "source": [
    "unichem = pd.read_table('../datasets/UniChem_Mapping/src1src22.txt')\n",
    "unichem.rename(columns={\"From src:'1'\": \"chembl_id\", \"To src:'22'\": \"pubchem_id\"}, inplace=True)\n",
    "unichem = unichem.astype(dtype={'pubchem_id':'object'})"
   ]
  },
  {
   "cell_type": "code",
   "execution_count": 6,
   "metadata": {},
   "outputs": [
    {
     "data": {
      "text/html": [
       "<div>\n",
       "<style scoped>\n",
       "    .dataframe tbody tr th:only-of-type {\n",
       "        vertical-align: middle;\n",
       "    }\n",
       "\n",
       "    .dataframe tbody tr th {\n",
       "        vertical-align: top;\n",
       "    }\n",
       "\n",
       "    .dataframe thead th {\n",
       "        text-align: right;\n",
       "    }\n",
       "</style>\n",
       "<table border=\"1\" class=\"dataframe\">\n",
       "  <thead>\n",
       "    <tr style=\"text-align: right;\">\n",
       "      <th></th>\n",
       "      <th>CMP_CHEMBL_ID</th>\n",
       "      <th>chembl_id</th>\n",
       "      <th>pubchem_id</th>\n",
       "    </tr>\n",
       "  </thead>\n",
       "  <tbody>\n",
       "    <tr>\n",
       "      <th>0</th>\n",
       "      <td>CHEMBL3237949</td>\n",
       "      <td>CHEMBL3237949</td>\n",
       "      <td>90655448</td>\n",
       "    </tr>\n",
       "    <tr>\n",
       "      <th>1</th>\n",
       "      <td>CHEMBL2381895</td>\n",
       "      <td>CHEMBL2381895</td>\n",
       "      <td>68533305</td>\n",
       "    </tr>\n",
       "    <tr>\n",
       "      <th>2</th>\n",
       "      <td>CHEMBL2380718</td>\n",
       "      <td>CHEMBL2380718</td>\n",
       "      <td>71624117</td>\n",
       "    </tr>\n",
       "    <tr>\n",
       "      <th>3</th>\n",
       "      <td>CHEMBL2435858</td>\n",
       "      <td>CHEMBL2435858</td>\n",
       "      <td>58834953</td>\n",
       "    </tr>\n",
       "    <tr>\n",
       "      <th>4</th>\n",
       "      <td>CHEMBL2413735</td>\n",
       "      <td>CHEMBL2413735</td>\n",
       "      <td>71769385</td>\n",
       "    </tr>\n",
       "    <tr>\n",
       "      <th>...</th>\n",
       "      <td>...</td>\n",
       "      <td>...</td>\n",
       "      <td>...</td>\n",
       "    </tr>\n",
       "    <tr>\n",
       "      <th>965</th>\n",
       "      <td>CHEMBL2032165</td>\n",
       "      <td>CHEMBL2032165</td>\n",
       "      <td>57325593</td>\n",
       "    </tr>\n",
       "    <tr>\n",
       "      <th>966</th>\n",
       "      <td>CHEMBL2153490</td>\n",
       "      <td>CHEMBL2153490</td>\n",
       "      <td>136206394</td>\n",
       "    </tr>\n",
       "    <tr>\n",
       "      <th>967</th>\n",
       "      <td>CHEMBL1766798</td>\n",
       "      <td>CHEMBL1766798</td>\n",
       "      <td>52937660</td>\n",
       "    </tr>\n",
       "    <tr>\n",
       "      <th>968</th>\n",
       "      <td>CHEMBL1198756</td>\n",
       "      <td>CHEMBL1198756</td>\n",
       "      <td>46883362</td>\n",
       "    </tr>\n",
       "    <tr>\n",
       "      <th>969</th>\n",
       "      <td>CHEMBL1951105</td>\n",
       "      <td>CHEMBL1951105</td>\n",
       "      <td>3833418</td>\n",
       "    </tr>\n",
       "  </tbody>\n",
       "</table>\n",
       "<p>970 rows × 3 columns</p>\n",
       "</div>"
      ],
      "text/plain": [
       "     CMP_CHEMBL_ID      chembl_id pubchem_id\n",
       "0    CHEMBL3237949  CHEMBL3237949   90655448\n",
       "1    CHEMBL2381895  CHEMBL2381895   68533305\n",
       "2    CHEMBL2380718  CHEMBL2380718   71624117\n",
       "3    CHEMBL2435858  CHEMBL2435858   58834953\n",
       "4    CHEMBL2413735  CHEMBL2413735   71769385\n",
       "..             ...            ...        ...\n",
       "965  CHEMBL2032165  CHEMBL2032165   57325593\n",
       "966  CHEMBL2153490  CHEMBL2153490  136206394\n",
       "967  CHEMBL1766798  CHEMBL1766798   52937660\n",
       "968  CHEMBL1198756  CHEMBL1198756   46883362\n",
       "969  CHEMBL1951105  CHEMBL1951105    3833418\n",
       "\n",
       "[970 rows x 3 columns]"
      ]
     },
     "execution_count": 6,
     "metadata": {},
     "output_type": "execute_result"
    }
   ],
   "source": [
    "lense2 = pd.merge(lense2, unichem,\n",
    "                  how='left',\n",
    "                  left_on='CMP_CHEMBL_ID', right_on='chembl_id')\n",
    "lense2.drop_duplicates(subset='pubchem_id', keep='first', inplace=True, ignore_index=True)\n",
    "lense2.dropna(axis=0, how='any', inplace=True)\n",
    "lense2.reset_index(drop=True)"
   ]
  },
  {
   "cell_type": "markdown",
   "metadata": {},
   "source": [
    "Now I use PubChemPy to look up the canonical SMILES for that PubChemID."
   ]
  },
  {
   "cell_type": "code",
   "execution_count": 7,
   "metadata": {
    "collapsed": true
   },
   "outputs": [
    {
     "ename": "IndexError",
     "evalue": "index 970 is out of bounds for axis 0 with size 970",
     "output_type": "error",
     "traceback": [
      "\u001b[0;31m---------------------------------------------------------------------------\u001b[0m",
      "\u001b[0;31mIndexError\u001b[0m                                Traceback (most recent call last)",
      "\u001b[0;32m<ipython-input-7-63e5cc33903d>\u001b[0m in \u001b[0;36m<module>\u001b[0;34m\u001b[0m\n\u001b[1;32m      1\u001b[0m \u001b[0mlense2\u001b[0m\u001b[0;34m[\u001b[0m\u001b[0;34m'canonical_smiles'\u001b[0m\u001b[0;34m]\u001b[0m \u001b[0;34m=\u001b[0m \u001b[0;34m''\u001b[0m\u001b[0;34m\u001b[0m\u001b[0;34m\u001b[0m\u001b[0m\n\u001b[1;32m      2\u001b[0m \u001b[0;32mfor\u001b[0m \u001b[0mrow\u001b[0m \u001b[0;32min\u001b[0m \u001b[0mlense2\u001b[0m\u001b[0;34m.\u001b[0m\u001b[0mindex\u001b[0m\u001b[0;34m:\u001b[0m\u001b[0;34m\u001b[0m\u001b[0;34m\u001b[0m\u001b[0m\n\u001b[0;32m----> 3\u001b[0;31m     \u001b[0mentry\u001b[0m \u001b[0;34m=\u001b[0m \u001b[0mpcp\u001b[0m\u001b[0;34m.\u001b[0m\u001b[0mCompound\u001b[0m\u001b[0;34m.\u001b[0m\u001b[0mfrom_cid\u001b[0m\u001b[0;34m(\u001b[0m\u001b[0mlense2\u001b[0m\u001b[0;34m.\u001b[0m\u001b[0miat\u001b[0m\u001b[0;34m[\u001b[0m\u001b[0mrow\u001b[0m\u001b[0;34m,\u001b[0m \u001b[0;36m2\u001b[0m\u001b[0;34m]\u001b[0m\u001b[0;34m)\u001b[0m\u001b[0;34m\u001b[0m\u001b[0;34m\u001b[0m\u001b[0m\n\u001b[0m\u001b[1;32m      4\u001b[0m     \u001b[0mlense2\u001b[0m\u001b[0;34m.\u001b[0m\u001b[0miat\u001b[0m\u001b[0;34m[\u001b[0m\u001b[0mrow\u001b[0m\u001b[0;34m,\u001b[0m \u001b[0;36m3\u001b[0m\u001b[0;34m]\u001b[0m \u001b[0;34m=\u001b[0m \u001b[0mentry\u001b[0m\u001b[0;34m.\u001b[0m\u001b[0mcanonical_smiles\u001b[0m\u001b[0;34m\u001b[0m\u001b[0;34m\u001b[0m\u001b[0m\n\u001b[1;32m      5\u001b[0m \u001b[0;34m\u001b[0m\u001b[0m\n",
      "\u001b[0;32m~/anaconda3/envs/wonderland/lib/python3.6/site-packages/pandas/core/indexing.py\u001b[0m in \u001b[0;36m__getitem__\u001b[0;34m(self, key)\u001b[0m\n\u001b[1;32m   2177\u001b[0m \u001b[0;34m\u001b[0m\u001b[0m\n\u001b[1;32m   2178\u001b[0m         \u001b[0mkey\u001b[0m \u001b[0;34m=\u001b[0m \u001b[0mself\u001b[0m\u001b[0;34m.\u001b[0m\u001b[0m_convert_key\u001b[0m\u001b[0;34m(\u001b[0m\u001b[0mkey\u001b[0m\u001b[0;34m)\u001b[0m\u001b[0;34m\u001b[0m\u001b[0;34m\u001b[0m\u001b[0m\n\u001b[0;32m-> 2179\u001b[0;31m         \u001b[0;32mreturn\u001b[0m \u001b[0mself\u001b[0m\u001b[0;34m.\u001b[0m\u001b[0mobj\u001b[0m\u001b[0;34m.\u001b[0m\u001b[0m_get_value\u001b[0m\u001b[0;34m(\u001b[0m\u001b[0;34m*\u001b[0m\u001b[0mkey\u001b[0m\u001b[0;34m,\u001b[0m \u001b[0mtakeable\u001b[0m\u001b[0;34m=\u001b[0m\u001b[0mself\u001b[0m\u001b[0;34m.\u001b[0m\u001b[0m_takeable\u001b[0m\u001b[0;34m)\u001b[0m\u001b[0;34m\u001b[0m\u001b[0;34m\u001b[0m\u001b[0m\n\u001b[0m\u001b[1;32m   2180\u001b[0m \u001b[0;34m\u001b[0m\u001b[0m\n\u001b[1;32m   2181\u001b[0m     \u001b[0;32mdef\u001b[0m \u001b[0m__setitem__\u001b[0m\u001b[0;34m(\u001b[0m\u001b[0mself\u001b[0m\u001b[0;34m,\u001b[0m \u001b[0mkey\u001b[0m\u001b[0;34m,\u001b[0m \u001b[0mvalue\u001b[0m\u001b[0;34m)\u001b[0m\u001b[0;34m:\u001b[0m\u001b[0;34m\u001b[0m\u001b[0;34m\u001b[0m\u001b[0m\n",
      "\u001b[0;32m~/anaconda3/envs/wonderland/lib/python3.6/site-packages/pandas/core/frame.py\u001b[0m in \u001b[0;36m_get_value\u001b[0;34m(self, index, col, takeable)\u001b[0m\n\u001b[1;32m   2899\u001b[0m         \u001b[0;32mif\u001b[0m \u001b[0mtakeable\u001b[0m\u001b[0;34m:\u001b[0m\u001b[0;34m\u001b[0m\u001b[0;34m\u001b[0m\u001b[0m\n\u001b[1;32m   2900\u001b[0m             \u001b[0mseries\u001b[0m \u001b[0;34m=\u001b[0m \u001b[0mself\u001b[0m\u001b[0;34m.\u001b[0m\u001b[0m_iget_item_cache\u001b[0m\u001b[0;34m(\u001b[0m\u001b[0mcol\u001b[0m\u001b[0;34m)\u001b[0m\u001b[0;34m\u001b[0m\u001b[0;34m\u001b[0m\u001b[0m\n\u001b[0;32m-> 2901\u001b[0;31m             \u001b[0;32mreturn\u001b[0m \u001b[0mcom\u001b[0m\u001b[0;34m.\u001b[0m\u001b[0mmaybe_box_datetimelike\u001b[0m\u001b[0;34m(\u001b[0m\u001b[0mseries\u001b[0m\u001b[0;34m.\u001b[0m\u001b[0m_values\u001b[0m\u001b[0;34m[\u001b[0m\u001b[0mindex\u001b[0m\u001b[0;34m]\u001b[0m\u001b[0;34m)\u001b[0m\u001b[0;34m\u001b[0m\u001b[0;34m\u001b[0m\u001b[0m\n\u001b[0m\u001b[1;32m   2902\u001b[0m \u001b[0;34m\u001b[0m\u001b[0m\n\u001b[1;32m   2903\u001b[0m         \u001b[0mseries\u001b[0m \u001b[0;34m=\u001b[0m \u001b[0mself\u001b[0m\u001b[0;34m.\u001b[0m\u001b[0m_get_item_cache\u001b[0m\u001b[0;34m(\u001b[0m\u001b[0mcol\u001b[0m\u001b[0;34m)\u001b[0m\u001b[0;34m\u001b[0m\u001b[0;34m\u001b[0m\u001b[0m\n",
      "\u001b[0;31mIndexError\u001b[0m: index 970 is out of bounds for axis 0 with size 970"
     ]
    }
   ],
   "source": [
    "lense2['canonical_smiles'] = ''\n",
    "for row in lense2.index:\n",
    "    entry = pcp.Compound.from_cid(lense2.iat[row, 2])\n",
    "    lense2.iat[row, 3] = entry.canonical_smiles\n",
    "    \n",
    "Audio(sound_file, autoplay=True) # to notify me when it's done (this cell takes several minutes to run)"
   ]
  },
  {
   "cell_type": "markdown",
   "metadata": {},
   "source": [
    "ATTENTION: I don't understand the error from the cell above, but the code works nonethless (I checked with the PubChem Website)."
   ]
  },
  {
   "cell_type": "code",
   "execution_count": 10,
   "metadata": {
    "scrolled": false
   },
   "outputs": [
    {
     "data": {
      "text/html": [
       "\n",
       "                <audio  controls=\"controls\" autoplay=\"autoplay\">\n",
       "                    <source src=\"data:audio/mpeg;base64,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\" type=\"audio/mpeg\" />\n",
       "                    Your browser does not support the audio element.\n",
       "                </audio>\n",
       "              "
      ],
      "text/plain": [
       "<IPython.lib.display.Audio object>"
      ]
     },
     "execution_count": 10,
     "metadata": {},
     "output_type": "execute_result"
    }
   ],
   "source": [
    "lense2['tokens'] = ''\n",
    "for row in lense2.index:\n",
    "    lense2.at[row, 'tokens'] = atomwise_tokenizer(lense2.at[row, 'canonical_smiles'])"
   ]
  },
  {
   "cell_type": "code",
   "execution_count": 13,
   "metadata": {},
   "outputs": [],
   "source": [
    "alphabet_lense2 = set()\n",
    "\n",
    "for i in lense2.tokens:\n",
    "    alphabet_lense2.update(i)"
   ]
  },
  {
   "cell_type": "code",
   "execution_count": 23,
   "metadata": {},
   "outputs": [
    {
     "name": "stdout",
     "output_type": "stream",
     "text": [
      "{'Cl', '[NH3+]', ')', '3', '8', 'O', 'P', 'F', 'S', '[O]', '[O-]', 'N', '[N-]', '1', '=', 'Br', '4', '#', '6', '7', 'I', '(', '9', '5', '[N+]', 'C', '2'}\n"
     ]
    }
   ],
   "source": [
    "print(alphabet_lense2)"
   ]
  },
  {
   "cell_type": "markdown",
   "metadata": {},
   "source": [
    "## PubChem"
   ]
  },
  {
   "cell_type": "code",
   "execution_count": 15,
   "metadata": {},
   "outputs": [],
   "source": [
    "pc_s1 = pd.read_table('../datasets/PubChem/PubChem_sample_1.txt', header=None, usecols=[1])\n",
    "pc_s2 = pd.read_table('../datasets/PubChem/PubChem_sample_2.txt', header=None, usecols=[1])\n",
    "pc_s3 = pd.read_table('../datasets/PubChem/PubChem_sample_3.txt', header=None, usecols=[1])\n",
    "pc_s4 = pd.read_table('../datasets/PubChem/PubChem_sample_4.txt', header=None, usecols=[1])\n",
    "pc_s5 = pd.read_table('../datasets/PubChem/PubChem_sample_5.txt', header=None, usecols=[1])"
   ]
  },
  {
   "cell_type": "code",
   "execution_count": 16,
   "metadata": {},
   "outputs": [],
   "source": [
    "pubchem = pc_s1.append(pc_s2)\n",
    "pubchem = pubchem.append(pc_s3)\n",
    "pubchem = pubchem.append(pc_s4)\n",
    "pubchem = pubchem.append(pc_s5)"
   ]
  },
  {
   "cell_type": "code",
   "execution_count": 17,
   "metadata": {},
   "outputs": [
    {
     "data": {
      "text/html": [
       "<div>\n",
       "<style scoped>\n",
       "    .dataframe tbody tr th:only-of-type {\n",
       "        vertical-align: middle;\n",
       "    }\n",
       "\n",
       "    .dataframe tbody tr th {\n",
       "        vertical-align: top;\n",
       "    }\n",
       "\n",
       "    .dataframe thead th {\n",
       "        text-align: right;\n",
       "    }\n",
       "</style>\n",
       "<table border=\"1\" class=\"dataframe\">\n",
       "  <thead>\n",
       "    <tr style=\"text-align: right;\">\n",
       "      <th></th>\n",
       "      <th>1</th>\n",
       "    </tr>\n",
       "  </thead>\n",
       "  <tbody>\n",
       "    <tr>\n",
       "      <th>0</th>\n",
       "      <td>C1CC(=O)N(C1=O)CCC#N</td>\n",
       "    </tr>\n",
       "    <tr>\n",
       "      <th>1</th>\n",
       "      <td>CC(CCC(=O)C(C)C1C(=O)CC2[C@]1(CCC3[C@@H]2CC=C4...</td>\n",
       "    </tr>\n",
       "    <tr>\n",
       "      <th>2</th>\n",
       "      <td>CC(C)[C@@H](C1=CC=C(C=C1)Cl)C(=O)NC2=NC=CS2</td>\n",
       "    </tr>\n",
       "    <tr>\n",
       "      <th>3</th>\n",
       "      <td>COC1=CC=C(C=C1)N(CC(=O)NC2=CC(=CC=C2)SC)S(=O)(...</td>\n",
       "    </tr>\n",
       "    <tr>\n",
       "      <th>4</th>\n",
       "      <td>CC1=CC(=CC=C1)N2C(=O)/C(=C\\C3=CC=C(C=C3)O[C@H]...</td>\n",
       "    </tr>\n",
       "    <tr>\n",
       "      <th>...</th>\n",
       "      <td>...</td>\n",
       "    </tr>\n",
       "    <tr>\n",
       "      <th>995</th>\n",
       "      <td>C1C(N(C2=CC=CC(=C2O1)C3=CC(=CC=C3)OC(F)(F)F)C[...</td>\n",
       "    </tr>\n",
       "    <tr>\n",
       "      <th>996</th>\n",
       "      <td>CCC=NC1=CC=CC=C1SC2=CC=CC=C2.CC(/C=C(\\C(=C/CC=...</td>\n",
       "    </tr>\n",
       "    <tr>\n",
       "      <th>997</th>\n",
       "      <td>C/C=C\\C=C(\\C1CCN(CC1)C=O)/C(=C\\C)/C(F)(F)F</td>\n",
       "    </tr>\n",
       "    <tr>\n",
       "      <th>998</th>\n",
       "      <td>CC(C)(O)O.C=CC1CCCC2=C(C3=C(C(=C12)C4=CC=CC=C4...</td>\n",
       "    </tr>\n",
       "    <tr>\n",
       "      <th>999</th>\n",
       "      <td>CS(=O)(=O)OCC1CCC(CC1)NC(=O)C2=C(N=CC(=C2)Cl)C...</td>\n",
       "    </tr>\n",
       "  </tbody>\n",
       "</table>\n",
       "<p>1000 rows × 1 columns</p>\n",
       "</div>"
      ],
      "text/plain": [
       "                                                     1\n",
       "0                                 C1CC(=O)N(C1=O)CCC#N\n",
       "1    CC(CCC(=O)C(C)C1C(=O)CC2[C@]1(CCC3[C@@H]2CC=C4...\n",
       "2          CC(C)[C@@H](C1=CC=C(C=C1)Cl)C(=O)NC2=NC=CS2\n",
       "3    COC1=CC=C(C=C1)N(CC(=O)NC2=CC(=CC=C2)SC)S(=O)(...\n",
       "4    CC1=CC(=CC=C1)N2C(=O)/C(=C\\C3=CC=C(C=C3)O[C@H]...\n",
       "..                                                 ...\n",
       "995  C1C(N(C2=CC=CC(=C2O1)C3=CC(=CC=C3)OC(F)(F)F)C[...\n",
       "996  CCC=NC1=CC=CC=C1SC2=CC=CC=C2.CC(/C=C(\\C(=C/CC=...\n",
       "997         C/C=C\\C=C(\\C1CCN(CC1)C=O)/C(=C\\C)/C(F)(F)F\n",
       "998  CC(C)(O)O.C=CC1CCCC2=C(C3=C(C(=C12)C4=CC=CC=C4...\n",
       "999  CS(=O)(=O)OCC1CCC(CC1)NC(=O)C2=C(N=CC(=C2)Cl)C...\n",
       "\n",
       "[1000 rows x 1 columns]"
      ]
     },
     "execution_count": 17,
     "metadata": {},
     "output_type": "execute_result"
    }
   ],
   "source": [
    "pubchem.dropna(how='any', inplace=True)\n",
    "pubchem.reset_index(drop=True)"
   ]
  },
  {
   "cell_type": "code",
   "execution_count": 18,
   "metadata": {},
   "outputs": [],
   "source": [
    "pubchem.rename(columns={1:'smiles'}, inplace=True)"
   ]
  },
  {
   "cell_type": "code",
   "execution_count": 19,
   "metadata": {},
   "outputs": [],
   "source": [
    "alphabet_pubchem = set()\n",
    "\n",
    "for row in pubchem.index:\n",
    "    tokens = atomwise_tokenizer(pubchem.iloc[row,0])\n",
    "    alphabet_pubchem.update(tokens)"
   ]
  },
  {
   "cell_type": "code",
   "execution_count": 20,
   "metadata": {
    "collapsed": true
   },
   "outputs": [
    {
     "data": {
      "text/plain": [
       "{'#',\n",
       " '(',\n",
       " ')',\n",
       " '.',\n",
       " '/',\n",
       " '1',\n",
       " '2',\n",
       " '3',\n",
       " '4',\n",
       " '5',\n",
       " '6',\n",
       " '7',\n",
       " '8',\n",
       " '9',\n",
       " '=',\n",
       " 'Br',\n",
       " 'C',\n",
       " 'Cl',\n",
       " 'F',\n",
       " 'I',\n",
       " 'N',\n",
       " 'O',\n",
       " 'P',\n",
       " 'S',\n",
       " '[B]',\n",
       " '[Br-]',\n",
       " '[C-]',\n",
       " '[C@@H]',\n",
       " '[C@@]',\n",
       " '[C@H]',\n",
       " '[C@]',\n",
       " '[CH2]',\n",
       " '[HH]',\n",
       " '[I-]',\n",
       " '[Mg+2]',\n",
       " '[N+]',\n",
       " '[N-]',\n",
       " '[NH+]',\n",
       " '[NH2+]',\n",
       " '[Ni+2]',\n",
       " '[O-]',\n",
       " '[Sn]',\n",
       " '[Te]',\n",
       " '\\\\'}"
      ]
     },
     "execution_count": 20,
     "metadata": {},
     "output_type": "execute_result"
    }
   ],
   "source": [
    "alphabet_pubchem"
   ]
  },
  {
   "cell_type": "markdown",
   "metadata": {},
   "source": [
    "## Compare the alphabets"
   ]
  },
  {
   "cell_type": "code",
   "execution_count": 21,
   "metadata": {},
   "outputs": [
    {
     "data": {
      "text/plain": [
       "{'[NH3+]', '[O]'}"
      ]
     },
     "execution_count": 21,
     "metadata": {},
     "output_type": "execute_result"
    }
   ],
   "source": [
    "alphabet_lense2.difference(alphabet_pubchem) # die Elemente, die nicht in PubChem sind"
   ]
  },
  {
   "cell_type": "code",
   "execution_count": 22,
   "metadata": {},
   "outputs": [
    {
     "data": {
      "text/plain": [
       "{'.',\n",
       " '/',\n",
       " '[B]',\n",
       " '[Br-]',\n",
       " '[C-]',\n",
       " '[C@@H]',\n",
       " '[C@@]',\n",
       " '[C@H]',\n",
       " '[C@]',\n",
       " '[CH2]',\n",
       " '[HH]',\n",
       " '[I-]',\n",
       " '[Mg+2]',\n",
       " '[NH+]',\n",
       " '[NH2+]',\n",
       " '[Ni+2]',\n",
       " '[Sn]',\n",
       " '[Te]',\n",
       " '\\\\'}"
      ]
     },
     "execution_count": 22,
     "metadata": {},
     "output_type": "execute_result"
    }
   ],
   "source": [
    "alphabet_pubchem.difference(alphabet_lense2) # die Elemente, die nicht in Lense sind"
   ]
  },
  {
   "cell_type": "code",
   "execution_count": null,
   "metadata": {},
   "outputs": [],
   "source": [
    "#alphabet_lense.intersection(alphabet_pubchem)"
   ]
  },
  {
   "cell_type": "markdown",
   "metadata": {},
   "source": [
    "Strategy: Throw out the things in PubChem, which contain tokens which aren't in Lense."
   ]
  },
  {
   "cell_type": "code",
   "execution_count": null,
   "metadata": {},
   "outputs": [],
   "source": [
    "print(alphabet_lense)"
   ]
  },
  {
   "cell_type": "code",
   "execution_count": 24,
   "metadata": {},
   "outputs": [],
   "source": [
    "shared_alphabet = alphabet_pubchem & alphabet_lense2"
   ]
  },
  {
   "cell_type": "code",
   "execution_count": 26,
   "metadata": {},
   "outputs": [
    {
     "name": "stdout",
     "output_type": "stream",
     "text": [
      "{'Cl', ')', '3', '8', 'O', 'P', 'F', 'S', '[O-]', 'N', '[N-]', '1', '=', 'Br', '4', '#', '6', '7', 'I', '(', '9', '5', '[N+]', 'C', '2'}\n"
     ]
    }
   ],
   "source": [
    "print(shared_alphabet)"
   ]
  },
  {
   "cell_type": "code",
   "execution_count": null,
   "metadata": {},
   "outputs": [],
   "source": []
  }
 ],
 "metadata": {
  "kernelspec": {
   "display_name": "Python 3",
   "language": "python",
   "name": "python3"
  },
  "language_info": {
   "codemirror_mode": {
    "name": "ipython",
    "version": 3
   },
   "file_extension": ".py",
   "mimetype": "text/x-python",
   "name": "python",
   "nbconvert_exporter": "python",
   "pygments_lexer": "ipython3",
   "version": "3.6.10"
  }
 },
 "nbformat": 4,
 "nbformat_minor": 4
}
