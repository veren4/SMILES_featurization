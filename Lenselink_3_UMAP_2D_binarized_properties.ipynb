{
 "cells": [
  {
   "cell_type": "markdown",
   "metadata": {},
   "source": [
    "In this notebook, I will create several UMAPS with the data from Lenselink and check wether I can find physiochemical properties that are or are not captured by canonical SMILES.\n",
    "\n",
    "ATTENTION: I saw that there are [special metrics](https://umap-learn.readthedocs.io/en/latest/parameters.html#metric) for binary data. I haven't tried the out yet."
   ]
  },
  {
   "cell_type": "code",
   "execution_count": 9,
   "metadata": {},
   "outputs": [],
   "source": [
    "import pandas as pd\n",
    "import numpy as np\n",
    "import plotly.express as px\n",
    "import umap"
   ]
  },
  {
   "cell_type": "code",
   "execution_count": 38,
   "metadata": {},
   "outputs": [],
   "source": [
    "df = pd.read_csv('../datasets/Lenselink_et_al/Lenselink_1_Molecular_Notation_Transformation_150samples.csv')"
   ]
  },
  {
   "cell_type": "markdown",
   "metadata": {},
   "source": [
    "#### Binarize - molecular surface area\n",
    "mean 430\n",
    "std 135\n",
    "min 151\n",
    "max 1000"
   ]
  },
  {
   "cell_type": "code",
   "execution_count": 39,
   "metadata": {},
   "outputs": [
    {
     "data": {
      "text/plain": [
       "<matplotlib.axes._subplots.AxesSubplot at 0x7fd7ec0fc4a8>"
      ]
     },
     "execution_count": 39,
     "metadata": {},
     "output_type": "execute_result"
    },
    {
     "data": {
      "image/png": "[encoded data removed]",
      "text/plain": [
       "<Figure size 432x288 with 1 Axes>"
      ]
     },
     "metadata": {
      "needs_background": "light"
     },
     "output_type": "display_data"
    }
   ],
   "source": [
    "df.CMP_MOLECULAR_SURFACEAREA.hist()"
   ]
  },
  {
   "cell_type": "markdown",
   "metadata": {},
   "source": [
    "threshold: mean -> 430"
   ]
  },
  {
   "cell_type": "code",
   "execution_count": 40,
   "metadata": {},
   "outputs": [],
   "source": [
    "df['binary_mol_surface_area'] = (df['CMP_MOLECULAR_SURFACEAREA'] < 430).astype(int)"
   ]
  },
  {
   "cell_type": "markdown",
   "metadata": {},
   "source": [
    "#### Binarize - LogP"
   ]
  },
  {
   "cell_type": "code",
   "execution_count": 41,
   "metadata": {},
   "outputs": [
    {
     "data": {
      "text/plain": [
       "<matplotlib.axes._subplots.AxesSubplot at 0x7fd7ec074908>"
      ]
     },
     "execution_count": 41,
     "metadata": {},
     "output_type": "execute_result"
    },
    {
     "data": {
      "image/png": "[encoded data removed]",
      "text/plain": [
       "<Figure size 432x288 with 1 Axes>"
      ]
     },
     "metadata": {
      "needs_background": "light"
     },
     "output_type": "display_data"
    }
   ],
   "source": [
    "df.CMP_LOGP.hist()"
   ]
  },
  {
   "cell_type": "code",
   "execution_count": 42,
   "metadata": {},
   "outputs": [],
   "source": [
    "df['binary_logp'] = (df['CMP_LOGP'] < 3.68).astype(int)"
   ]
  },
  {
   "cell_type": "markdown",
   "metadata": {},
   "source": [
    "#### Binarize - Solubility"
   ]
  },
  {
   "cell_type": "markdown",
   "metadata": {},
   "source": [
    "mean -6.17"
   ]
  },
  {
   "cell_type": "code",
   "execution_count": 43,
   "metadata": {},
   "outputs": [
    {
     "data": {
      "text/plain": [
       "<matplotlib.axes._subplots.AxesSubplot at 0x7fd803482828>"
      ]
     },
     "execution_count": 43,
     "metadata": {},
     "output_type": "execute_result"
    },
    {
     "data": {
      "image/png": "[encoded data removed]",
      "text/plain": [
       "<Figure size 432x288 with 1 Axes>"
      ]
     },
     "metadata": {
      "needs_background": "light"
     },
     "output_type": "display_data"
    }
   ],
   "source": [
    "df.CMP_SOLUBILITY.hist()"
   ]
  },
  {
   "cell_type": "code",
   "execution_count": 44,
   "metadata": {},
   "outputs": [],
   "source": [
    "df['binary_solubility'] = (df['CMP_SOLUBILITY'] < -6.17).astype(int)"
   ]
  },
  {
   "cell_type": "markdown",
   "metadata": {},
   "source": [
    "#### Binarize - Molecular weight"
   ]
  },
  {
   "cell_type": "markdown",
   "metadata": {},
   "source": [
    "mean 435.69"
   ]
  },
  {
   "cell_type": "code",
   "execution_count": 45,
   "metadata": {},
   "outputs": [
    {
     "data": {
      "text/plain": [
       "<matplotlib.axes._subplots.AxesSubplot at 0x7fd7eeca6b38>"
      ]
     },
     "execution_count": 45,
     "metadata": {},
     "output_type": "execute_result"
    },
    {
     "data": {
      "image/png": "[encoded data removed]",
      "text/plain": [
       "<Figure size 432x288 with 1 Axes>"
      ]
     },
     "metadata": {
      "needs_background": "light"
     },
     "output_type": "display_data"
    }
   ],
   "source": [
    "df.CMP_MOLECULAR_WEIGHT.hist()"
   ]
  },
  {
   "cell_type": "code",
   "execution_count": 46,
   "metadata": {},
   "outputs": [],
   "source": [
    "df['binary_molecular_weight'] = (df['CMP_MOLECULAR_WEIGHT'] < 435.69).astype(int)"
   ]
  },
  {
   "cell_type": "code",
   "execution_count": 47,
   "metadata": {
    "scrolled": false
   },
   "outputs": [],
   "source": [
    "#df.describe()"
   ]
  },
  {
   "cell_type": "markdown",
   "metadata": {},
   "source": [
    "### Data preparation"
   ]
  },
  {
   "cell_type": "markdown",
   "metadata": {},
   "source": [
    "The question now is with which data I want to train the UMAP. I currently have the binary as well as the non-binary versions in my dataframe.\\\n",
    "2 Options:\\\n",
    "a) train with all binarized properties\\\n",
    "b) train with just 1 binarized property at a time\\\n",
    "\n",
    "I tried option a, and I don't see a pattern in any of the plots.\n",
    "I tried option b) by only binarizing the molecular surface area, but I didn't see a pattern there either."
   ]
  },
  {
   "cell_type": "code",
   "execution_count": 36,
   "metadata": {},
   "outputs": [],
   "source": [
    "# for option a)\n",
    "#df.drop(columns=['CMP_MOLECULAR_SURFACEAREA',\n",
    "#                'CMP_LOGP',\n",
    "#                'CMP_SOLUBILITY',\n",
    "#                'CMP_MOLECULAR_WEIGHT'])"
   ]
  },
  {
   "cell_type": "code",
   "execution_count": 52,
   "metadata": {
    "collapsed": true
   },
   "outputs": [
    {
     "data": {
      "text/html": [
       "<div>\n",
       "<style scoped>\n",
       "    .dataframe tbody tr th:only-of-type {\n",
       "        vertical-align: middle;\n",
       "    }\n",
       "\n",
       "    .dataframe tbody tr th {\n",
       "        vertical-align: top;\n",
       "    }\n",
       "\n",
       "    .dataframe thead th {\n",
       "        text-align: right;\n",
       "    }\n",
       "</style>\n",
       "<table border=\"1\" class=\"dataframe\">\n",
       "  <thead>\n",
       "    <tr style=\"text-align: right;\">\n",
       "      <th></th>\n",
       "      <th>Unnamed: 0</th>\n",
       "      <th>Unnamed: 0.1</th>\n",
       "      <th>CMP_CLASS_SMALL_MOLECULE</th>\n",
       "      <th>CMP_CLASS_BIOLOGICAL</th>\n",
       "      <th>CMP_CLASS_PEPTIDE</th>\n",
       "      <th>CMP_CLASS_ORGANIC</th>\n",
       "      <th>CMP_FORMALCHARGE</th>\n",
       "      <th>CMP_NUM_RINGS</th>\n",
       "      <th>CMP_NUM_AROMATICRINGS</th>\n",
       "      <th>CMP_NUM_CHAINS</th>\n",
       "      <th>CMP_MOLECULAR_SURFACEAREA</th>\n",
       "      <th>CMP_LOGP</th>\n",
       "      <th>CMP_SOLUBILITY</th>\n",
       "      <th>CMP_ATOMS_POSITIVE_FRAC</th>\n",
       "      <th>CMP_ATOMS_NEGATIVE_FRAC</th>\n",
       "      <th>canonical_smiles</th>\n",
       "      <th>fingerprint</th>\n",
       "      <th>binary_molecular_weight</th>\n",
       "    </tr>\n",
       "  </thead>\n",
       "  <tbody>\n",
       "    <tr>\n",
       "      <th>0</th>\n",
       "      <td>193782</td>\n",
       "      <td>193782</td>\n",
       "      <td>1</td>\n",
       "      <td>0</td>\n",
       "      <td>0</td>\n",
       "      <td>1</td>\n",
       "      <td>0</td>\n",
       "      <td>4</td>\n",
       "      <td>2</td>\n",
       "      <td>7</td>\n",
       "      <td>395.91</td>\n",
       "      <td>-1.373</td>\n",
       "      <td>-2.130</td>\n",
       "      <td>0.0</td>\n",
       "      <td>0.0</td>\n",
       "      <td>COC(=O)[C@@H]1C[C@H](SC[C@H]2O[C@@H](n3cnc4c(N...</td>\n",
       "      <td>1110111010110101101011111011010010001100100110...</td>\n",
       "      <td>1</td>\n",
       "    </tr>\n",
       "    <tr>\n",
       "      <th>1</th>\n",
       "      <td>195928</td>\n",
       "      <td>195928</td>\n",
       "      <td>1</td>\n",
       "      <td>0</td>\n",
       "      <td>0</td>\n",
       "      <td>1</td>\n",
       "      <td>0</td>\n",
       "      <td>6</td>\n",
       "      <td>5</td>\n",
       "      <td>7</td>\n",
       "      <td>498.38</td>\n",
       "      <td>6.996</td>\n",
       "      <td>-8.837</td>\n",
       "      <td>0.0</td>\n",
       "      <td>0.0</td>\n",
       "      <td>C[C@H]1CN(c2ccc3c(Nc4ccc(Cl)c(-c5ncc(-c6ccccc6...</td>\n",
       "      <td>1100010101011110100010111101101011111101000110...</td>\n",
       "      <td>0</td>\n",
       "    </tr>\n",
       "    <tr>\n",
       "      <th>2</th>\n",
       "      <td>42845</td>\n",
       "      <td>42845</td>\n",
       "      <td>1</td>\n",
       "      <td>0</td>\n",
       "      <td>0</td>\n",
       "      <td>1</td>\n",
       "      <td>0</td>\n",
       "      <td>4</td>\n",
       "      <td>4</td>\n",
       "      <td>5</td>\n",
       "      <td>312.08</td>\n",
       "      <td>2.695</td>\n",
       "      <td>-3.695</td>\n",
       "      <td>0.0</td>\n",
       "      <td>0.0</td>\n",
       "      <td>N=C(N)c1ccc2[nH]c(Cc3nc4cc(F)c(F)cc4[nH]3)nc2c1</td>\n",
       "      <td>1000011000100000000001000000000010111000000001...</td>\n",
       "      <td>1</td>\n",
       "    </tr>\n",
       "    <tr>\n",
       "      <th>3</th>\n",
       "      <td>54351</td>\n",
       "      <td>54351</td>\n",
       "      <td>1</td>\n",
       "      <td>0</td>\n",
       "      <td>0</td>\n",
       "      <td>1</td>\n",
       "      <td>0</td>\n",
       "      <td>3</td>\n",
       "      <td>2</td>\n",
       "      <td>5</td>\n",
       "      <td>373.79</td>\n",
       "      <td>4.279</td>\n",
       "      <td>-6.647</td>\n",
       "      <td>0.0</td>\n",
       "      <td>0.0</td>\n",
       "      <td>CN(/N=C/c1cc(Br)ccc1OCc1ccc(Cl)cc1)C1=NCCN1</td>\n",
       "      <td>1000000001000001000010011000000000100000000110...</td>\n",
       "      <td>1</td>\n",
       "    </tr>\n",
       "    <tr>\n",
       "      <th>4</th>\n",
       "      <td>141989</td>\n",
       "      <td>141989</td>\n",
       "      <td>1</td>\n",
       "      <td>0</td>\n",
       "      <td>0</td>\n",
       "      <td>1</td>\n",
       "      <td>0</td>\n",
       "      <td>4</td>\n",
       "      <td>3</td>\n",
       "      <td>4</td>\n",
       "      <td>308.19</td>\n",
       "      <td>3.657</td>\n",
       "      <td>-5.175</td>\n",
       "      <td>0.0</td>\n",
       "      <td>0.0</td>\n",
       "      <td>Cc1ccc(S(=O)(=O)n2c3c(c4ccccc42)CCNC3)cc1</td>\n",
       "      <td>1000010111111001000111000111001111110101011010...</td>\n",
       "      <td>1</td>\n",
       "    </tr>\n",
       "    <tr>\n",
       "      <th>...</th>\n",
       "      <td>...</td>\n",
       "      <td>...</td>\n",
       "      <td>...</td>\n",
       "      <td>...</td>\n",
       "      <td>...</td>\n",
       "      <td>...</td>\n",
       "      <td>...</td>\n",
       "      <td>...</td>\n",
       "      <td>...</td>\n",
       "      <td>...</td>\n",
       "      <td>...</td>\n",
       "      <td>...</td>\n",
       "      <td>...</td>\n",
       "      <td>...</td>\n",
       "      <td>...</td>\n",
       "      <td>...</td>\n",
       "      <td>...</td>\n",
       "      <td>...</td>\n",
       "    </tr>\n",
       "    <tr>\n",
       "      <th>145</th>\n",
       "      <td>45971</td>\n",
       "      <td>45971</td>\n",
       "      <td>0</td>\n",
       "      <td>1</td>\n",
       "      <td>0</td>\n",
       "      <td>0</td>\n",
       "      <td>0</td>\n",
       "      <td>4</td>\n",
       "      <td>3</td>\n",
       "      <td>10</td>\n",
       "      <td>538.25</td>\n",
       "      <td>2.927</td>\n",
       "      <td>-6.476</td>\n",
       "      <td>0.0</td>\n",
       "      <td>0.0</td>\n",
       "      <td>CC(C)C[C@H](NC(=O)c1cc2ccccc2o1)C(=O)N[C@H]1C[...</td>\n",
       "      <td>1111011111110100110001001111111111001111101111...</td>\n",
       "      <td>0</td>\n",
       "    </tr>\n",
       "    <tr>\n",
       "      <th>146</th>\n",
       "      <td>154164</td>\n",
       "      <td>154164</td>\n",
       "      <td>1</td>\n",
       "      <td>0</td>\n",
       "      <td>0</td>\n",
       "      <td>1</td>\n",
       "      <td>0</td>\n",
       "      <td>4</td>\n",
       "      <td>2</td>\n",
       "      <td>5</td>\n",
       "      <td>408.49</td>\n",
       "      <td>1.262</td>\n",
       "      <td>-4.350</td>\n",
       "      <td>0.0</td>\n",
       "      <td>0.0</td>\n",
       "      <td>CS(=O)(=O)Nc1ccc2c(c1)OC1(CCN(CCc3ccccn3)CC1)C...</td>\n",
       "      <td>1011010111111000100010001011000110100100000010...</td>\n",
       "      <td>1</td>\n",
       "    </tr>\n",
       "    <tr>\n",
       "      <th>147</th>\n",
       "      <td>17608</td>\n",
       "      <td>17608</td>\n",
       "      <td>1</td>\n",
       "      <td>0</td>\n",
       "      <td>0</td>\n",
       "      <td>1</td>\n",
       "      <td>0</td>\n",
       "      <td>5</td>\n",
       "      <td>4</td>\n",
       "      <td>8</td>\n",
       "      <td>406.48</td>\n",
       "      <td>3.595</td>\n",
       "      <td>-5.251</td>\n",
       "      <td>0.0</td>\n",
       "      <td>0.0</td>\n",
       "      <td>C[C@]1(O)C[C@@H](c2nc(-c3ccc(Oc4ccccc4)c(F)c3F...</td>\n",
       "      <td>1100111111010110000101111111110011101001111110...</td>\n",
       "      <td>1</td>\n",
       "    </tr>\n",
       "    <tr>\n",
       "      <th>148</th>\n",
       "      <td>57318</td>\n",
       "      <td>57318</td>\n",
       "      <td>1</td>\n",
       "      <td>0</td>\n",
       "      <td>0</td>\n",
       "      <td>1</td>\n",
       "      <td>0</td>\n",
       "      <td>5</td>\n",
       "      <td>4</td>\n",
       "      <td>3</td>\n",
       "      <td>327.06</td>\n",
       "      <td>3.678</td>\n",
       "      <td>-6.184</td>\n",
       "      <td>0.0</td>\n",
       "      <td>0.0</td>\n",
       "      <td>Oc1ccc(C2CC(n3ccnc3)c3ccc4ccccc4c3O2)cc1</td>\n",
       "      <td>1101111001011100000000110100000000100110100110...</td>\n",
       "      <td>1</td>\n",
       "    </tr>\n",
       "    <tr>\n",
       "      <th>149</th>\n",
       "      <td>199566</td>\n",
       "      <td>199566</td>\n",
       "      <td>1</td>\n",
       "      <td>0</td>\n",
       "      <td>0</td>\n",
       "      <td>1</td>\n",
       "      <td>0</td>\n",
       "      <td>3</td>\n",
       "      <td>0</td>\n",
       "      <td>7</td>\n",
       "      <td>284.64</td>\n",
       "      <td>1.370</td>\n",
       "      <td>-2.103</td>\n",
       "      <td>0.0</td>\n",
       "      <td>0.0</td>\n",
       "      <td>C/C=C1/C(=O)N2C(C(=O)O)=C3[C@@H](OCCF)CCC[C@@H...</td>\n",
       "      <td>0011111110100100001111111101100010100110010001...</td>\n",
       "      <td>1</td>\n",
       "    </tr>\n",
       "  </tbody>\n",
       "</table>\n",
       "<p>150 rows × 18 columns</p>\n",
       "</div>"
      ],
      "text/plain": [
       "     Unnamed: 0  Unnamed: 0.1  CMP_CLASS_SMALL_MOLECULE  CMP_CLASS_BIOLOGICAL  \\\n",
       "0        193782        193782                         1                     0   \n",
       "1        195928        195928                         1                     0   \n",
       "2         42845         42845                         1                     0   \n",
       "3         54351         54351                         1                     0   \n",
       "4        141989        141989                         1                     0   \n",
       "..          ...           ...                       ...                   ...   \n",
       "145       45971         45971                         0                     1   \n",
       "146      154164        154164                         1                     0   \n",
       "147       17608         17608                         1                     0   \n",
       "148       57318         57318                         1                     0   \n",
       "149      199566        199566                         1                     0   \n",
       "\n",
       "     CMP_CLASS_PEPTIDE  CMP_CLASS_ORGANIC  CMP_FORMALCHARGE  CMP_NUM_RINGS  \\\n",
       "0                    0                  1                 0              4   \n",
       "1                    0                  1                 0              6   \n",
       "2                    0                  1                 0              4   \n",
       "3                    0                  1                 0              3   \n",
       "4                    0                  1                 0              4   \n",
       "..                 ...                ...               ...            ...   \n",
       "145                  0                  0                 0              4   \n",
       "146                  0                  1                 0              4   \n",
       "147                  0                  1                 0              5   \n",
       "148                  0                  1                 0              5   \n",
       "149                  0                  1                 0              3   \n",
       "\n",
       "     CMP_NUM_AROMATICRINGS  CMP_NUM_CHAINS  CMP_MOLECULAR_SURFACEAREA  \\\n",
       "0                        2               7                     395.91   \n",
       "1                        5               7                     498.38   \n",
       "2                        4               5                     312.08   \n",
       "3                        2               5                     373.79   \n",
       "4                        3               4                     308.19   \n",
       "..                     ...             ...                        ...   \n",
       "145                      3              10                     538.25   \n",
       "146                      2               5                     408.49   \n",
       "147                      4               8                     406.48   \n",
       "148                      4               3                     327.06   \n",
       "149                      0               7                     284.64   \n",
       "\n",
       "     CMP_LOGP  CMP_SOLUBILITY  CMP_ATOMS_POSITIVE_FRAC  \\\n",
       "0      -1.373          -2.130                      0.0   \n",
       "1       6.996          -8.837                      0.0   \n",
       "2       2.695          -3.695                      0.0   \n",
       "3       4.279          -6.647                      0.0   \n",
       "4       3.657          -5.175                      0.0   \n",
       "..        ...             ...                      ...   \n",
       "145     2.927          -6.476                      0.0   \n",
       "146     1.262          -4.350                      0.0   \n",
       "147     3.595          -5.251                      0.0   \n",
       "148     3.678          -6.184                      0.0   \n",
       "149     1.370          -2.103                      0.0   \n",
       "\n",
       "     CMP_ATOMS_NEGATIVE_FRAC  \\\n",
       "0                        0.0   \n",
       "1                        0.0   \n",
       "2                        0.0   \n",
       "3                        0.0   \n",
       "4                        0.0   \n",
       "..                       ...   \n",
       "145                      0.0   \n",
       "146                      0.0   \n",
       "147                      0.0   \n",
       "148                      0.0   \n",
       "149                      0.0   \n",
       "\n",
       "                                      canonical_smiles  \\\n",
       "0    COC(=O)[C@@H]1C[C@H](SC[C@H]2O[C@@H](n3cnc4c(N...   \n",
       "1    C[C@H]1CN(c2ccc3c(Nc4ccc(Cl)c(-c5ncc(-c6ccccc6...   \n",
       "2      N=C(N)c1ccc2[nH]c(Cc3nc4cc(F)c(F)cc4[nH]3)nc2c1   \n",
       "3          CN(/N=C/c1cc(Br)ccc1OCc1ccc(Cl)cc1)C1=NCCN1   \n",
       "4            Cc1ccc(S(=O)(=O)n2c3c(c4ccccc42)CCNC3)cc1   \n",
       "..                                                 ...   \n",
       "145  CC(C)C[C@H](NC(=O)c1cc2ccccc2o1)C(=O)N[C@H]1C[...   \n",
       "146  CS(=O)(=O)Nc1ccc2c(c1)OC1(CCN(CCc3ccccn3)CC1)C...   \n",
       "147  C[C@]1(O)C[C@@H](c2nc(-c3ccc(Oc4ccccc4)c(F)c3F...   \n",
       "148           Oc1ccc(C2CC(n3ccnc3)c3ccc4ccccc4c3O2)cc1   \n",
       "149  C/C=C1/C(=O)N2C(C(=O)O)=C3[C@@H](OCCF)CCC[C@@H...   \n",
       "\n",
       "                                           fingerprint  \\\n",
       "0    1110111010110101101011111011010010001100100110...   \n",
       "1    1100010101011110100010111101101011111101000110...   \n",
       "2    1000011000100000000001000000000010111000000001...   \n",
       "3    1000000001000001000010011000000000100000000110...   \n",
       "4    1000010111111001000111000111001111110101011010...   \n",
       "..                                                 ...   \n",
       "145  1111011111110100110001001111111111001111101111...   \n",
       "146  1011010111111000100010001011000110100100000010...   \n",
       "147  1100111111010110000101111111110011101001111110...   \n",
       "148  1101111001011100000000110100000000100110100110...   \n",
       "149  0011111110100100001111111101100010100110010001...   \n",
       "\n",
       "     binary_molecular_weight  \n",
       "0                          1  \n",
       "1                          0  \n",
       "2                          1  \n",
       "3                          1  \n",
       "4                          1  \n",
       "..                       ...  \n",
       "145                        0  \n",
       "146                        1  \n",
       "147                        1  \n",
       "148                        1  \n",
       "149                        1  \n",
       "\n",
       "[150 rows x 18 columns]"
      ]
     },
     "execution_count": 52,
     "metadata": {},
     "output_type": "execute_result"
    }
   ],
   "source": [
    "# for option b)\n",
    "# I will binarize just the molecular weight.\n",
    "\n",
    "df.drop(columns=['binary_mol_surface_area',\n",
    "                'binary_logp',\n",
    "                'binary_solubility',\n",
    "                'CMP_MOLECULAR_WEIGHT'])"
   ]
  },
  {
   "cell_type": "code",
   "execution_count": 53,
   "metadata": {},
   "outputs": [],
   "source": [
    "umap_input = np.zeros([len(df), 2048], dtype=np.int8)\n",
    "\n",
    "for i in range(len(df)):\n",
    "    umap_input[i] = np.asarray(list(df.iloc[i,17]),\n",
    "                               dtype=np.int8)"
   ]
  },
  {
   "cell_type": "code",
   "execution_count": null,
   "metadata": {},
   "outputs": [],
   "source": [
    "#umap_input"
   ]
  },
  {
   "cell_type": "code",
   "execution_count": 54,
   "metadata": {},
   "outputs": [],
   "source": [
    "# function from Chris\n",
    "\n",
    "def umap_reduce(embeddings, **kwargs):\n",
    "    umap_params = dict()\n",
    "\n",
    "    umap_params['n_components'] = kwargs.get('n_components', 2)\n",
    "    umap_params['min_dist'] = kwargs.get('min_dist', .6)\n",
    "    umap_params['random_state'] = kwargs.get('random_state', 420)\n",
    "    umap_params['n_neighbors'] = kwargs.get('n_neighbors', 15)\n",
    "    umap_params['verbose'] = kwargs.get('verbose', 1)\n",
    "    umap_params['metric'] = kwargs.get('metric', 'cosine')\n",
    "\n",
    "    transformed_embeddings = umap.UMAP(**umap_params).fit_transform(embeddings)\n",
    "\n",
    "    return transformed_embeddings"
   ]
  },
  {
   "cell_type": "code",
   "execution_count": 55,
   "metadata": {},
   "outputs": [
    {
     "name": "stdout",
     "output_type": "stream",
     "text": [
      "UMAP(a=None, angular_rp_forest=True, b=None,\n",
      "     force_approximation_algorithm=False, init='spectral', learning_rate=1.0,\n",
      "     local_connectivity=1.0, low_memory=False, metric='cosine',\n",
      "     metric_kwds=None, min_dist=0.6, n_components=2, n_epochs=None,\n",
      "     n_neighbors=15, negative_sample_rate=5, output_metric='euclidean',\n",
      "     output_metric_kwds=None, random_state=420, repulsion_strength=1.0,\n",
      "     set_op_mix_ratio=1.0, spread=1.0, target_metric='categorical',\n",
      "     target_metric_kwds=None, target_n_neighbors=-1, target_weight=0.5,\n",
      "     transform_queue_size=4.0, transform_seed=42, unique=False, verbose=1)\n",
      "Construct fuzzy simplicial set\n",
      "Sun Jul  5 19:38:34 2020 Finding Nearest Neighbors\n",
      "Sun Jul  5 19:38:34 2020 Finished Nearest Neighbor Search\n",
      "Sun Jul  5 19:38:34 2020 Construct embedding\n",
      "\tcompleted  0  /  500 epochs\n",
      "\tcompleted  50  /  500 epochs\n",
      "\tcompleted  100  /  500 epochs\n",
      "\tcompleted  150  /  500 epochs\n",
      "\tcompleted  200  /  500 epochs\n",
      "\tcompleted  250  /  500 epochs\n",
      "\tcompleted  300  /  500 epochs\n",
      "\tcompleted  350  /  500 epochs\n",
      "\tcompleted  400  /  500 epochs\n",
      "\tcompleted  450  /  500 epochs\n",
      "Sun Jul  5 19:38:35 2020 Finished embedding\n"
     ]
    }
   ],
   "source": [
    "transformed_embeddings = umap_reduce(umap_input)"
   ]
  },
  {
   "cell_type": "code",
   "execution_count": null,
   "metadata": {},
   "outputs": [],
   "source": [
    "#transformed_embeddings"
   ]
  },
  {
   "cell_type": "markdown",
   "metadata": {},
   "source": [
    "### UMAP base"
   ]
  },
  {
   "cell_type": "code",
   "execution_count": 56,
   "metadata": {},
   "outputs": [],
   "source": [
    "from pandas import DataFrame\n",
    "\n",
    "def render_2D_scatter_plotly(embeddings_dataframe: DataFrame, title=''):\n",
    "    fig = px.scatter(embeddings_dataframe,\n",
    "                     template='ggplot2',\n",
    "                     x='x',\n",
    "                     y='y',\n",
    "                     color='label',\n",
    "                     hover_name=embeddings_dataframe.index,\n",
    "                     title=title,\n",
    "                     width=600,\n",
    "                     height=600,\n",
    "                     color_continuous_scale='Bluered_r'\n",
    "                     #color_continuous_scale='Viridis'\n",
    "                     \n",
    "                     # TODO:\n",
    "                     # remove axis ticks + numbers\n",
    "                     # remove legend\n",
    "                     # remove axis labels\n",
    "                     # make the points bigger\n",
    "                     \n",
    "                     #showticklabels=False,\n",
    "                     #showspikes=False\n",
    "                     #marker_size=3                     \n",
    "                    )\n",
    "\n",
    "    fig.layout.coloraxis.showscale=False\n",
    "    fig.update_xaxes(showticklabels=False)\n",
    "    fig.update_yaxes(showticklabels=False)\n",
    "    \n",
    "    return fig"
   ]
  },
  {
   "cell_type": "code",
   "execution_count": 57,
   "metadata": {},
   "outputs": [],
   "source": [
    "# Numpy nd array -> Pandas Dataframe\n",
    "temp_plot_input = pd.DataFrame(data = transformed_embeddings)\n",
    "temp_plot_input.columns = ['x', 'y']"
   ]
  },
  {
   "cell_type": "code",
   "execution_count": 31,
   "metadata": {},
   "outputs": [],
   "source": [
    "#temp_plot_input"
   ]
  },
  {
   "cell_type": "markdown",
   "metadata": {},
   "source": [
    "### UMAP colored by physiochemical property"
   ]
  },
  {
   "cell_type": "markdown",
   "metadata": {},
   "source": [
    "#### Molecular weight"
   ]
  },
  {
   "cell_type": "code",
   "execution_count": 58,
   "metadata": {},
   "outputs": [
    {
     "data": {
      "application/vnd.plotly.v1+json": {
       "config": {
        "plotlyServerURL": "https://plot.ly"
       },
       "data": [
        {
         "hovertemplate": "<b>%{hovertext}</b><br><br>x=%{x}<br>y=%{y}<br>label=%{marker.color}<extra></extra>",
         "hovertext": [
          0,
          1,
          2,
          3,
          4,
          5,
          6,
          7,
          8,
          9,
          10,
          11,
          12,
          13,
          14,
          15,
          16,
          17,
          18,
          19,
          20,
          21,
          22,
          23,
          24,
          25,
          26,
          27,
          28,
          29,
          30,
          31,
          32,
          33,
          34,
          35,
          36,
          37,
          38,
          39,
          40,
          41,
          42,
          43,
          44,
          45,
          46,
          47,
          48,
          49,
          50,
          51,
          52,
          53,
          54,
          55,
          56,
          57,
          58,
          59,
          60,
          61,
          62,
          63,
          64,
          65,
          66,
          67,
          68,
          69,
          70,
          71,
          72,
          73,
          74,
          75,
          76,
          77,
          78,
          79,
          80,
          81,
          82,
          83,
          84,
          85,
          86,
          87,
          88,
          89,
          90,
          91,
          92,
          93,
          94,
          95,
          96,
          97,
          98,
          99,
          100,
          101,
          102,
          103,
          104,
          105,
          106,
          107,
          108,
          109,
          110,
          111,
          112,
          113,
          114,
          115,
          116,
          117,
          118,
          119,
          120,
          121,
          122,
          123,
          124,
          125,
          126,
          127,
          128,
          129,
          130,
          131,
          132,
          133,
          134,
          135,
          136,
          137,
          138,
          139,
          140,
          141,
          142,
          143,
          144,
          145,
          146,
          147,
          148,
          149
         ],
         "legendgroup": "",
         "marker": {
          "color": [
           1,
           0,
           1,
           1,
           1,
           1,
           1,
           0,
           0,
           1,
           0,
           1,
           0,
           1,
           0,
           1,
           0,
           0,
           1,
           1,
           1,
           1,
           1,
           1,
           1,
           1,
           1,
           0,
           1,
           1,
           1,
           1,
           0,
           1,
           1,
           1,
           0,
           0,
           1,
           1,
           1,
           1,
           0,
           0,
           0,
           0,
           1,
           1,
           0,
           1,
           0,
           0,
           0,
           0,
           1,
           0,
           1,
           0,
           1,
           0,
           1,
           1,
           1,
           0,
           0,
           1,
           0,
           1,
           1,
           0,
           1,
           0,
           0,
           1,
           1,
           0,
           1,
           0,
           0,
           0,
           0,
           1,
           1,
           0,
           1,
           0,
           1,
           1,
           1,
           1,
           1,
           0,
           1,
           1,
           1,
           1,
           1,
           0,
           1,
           1,
           0,
           1,
           0,
           1,
           0,
           1,
           0,
           1,
           1,
           0,
           1,
           0,
           0,
           0,
           0,
           0,
           1,
           1,
           1,
           1,
           0,
           0,
           0,
           1,
           0,
           0,
           0,
           0,
           1,
           0,
           1,
           0,
           1,
           0,
           1,
           1,
           0,
           0,
           0,
           1,
           1,
           1,
           1,
           0,
           0,
           0,
           1,
           1,
           1,
           1
          ],
          "coloraxis": "coloraxis",
          "symbol": "circle"
         },
         "mode": "markers",
         "name": "",
         "orientation": "v",
         "showlegend": false,
         "type": "scatter",
         "x": [
          7.643780708312988,
          5.133571624755859,
          3.7244796752929688,
          7.1873860359191895,
          4.632745742797852,
          7.28856086730957,
          5.286683559417725,
          3.680694818496704,
          4.614442825317383,
          8.416021347045898,
          5.860500335693359,
          5.851658344268799,
          6.404038429260254,
          3.285520315170288,
          5.516180515289307,
          5.783537864685059,
          7.994197368621826,
          8.29388427734375,
          5.390532970428467,
          6.485485076904297,
          8.211220741271973,
          4.347725868225098,
          5.68612003326416,
          6.688225269317627,
          7.984598636627197,
          3.204061508178711,
          8.31500244140625,
          5.199348449707031,
          8.295026779174805,
          4.0563836097717285,
          6.52409029006958,
          6.860975742340088,
          4.090184688568115,
          4.715365409851074,
          8.525574684143066,
          8.172706604003906,
          5.48736047744751,
          5.985110759735107,
          6.910708427429199,
          6.73818302154541,
          6.672435760498047,
          6.472210884094238,
          6.242998123168945,
          3.4363832473754883,
          7.045407295227051,
          4.187466621398926,
          6.208161354064941,
          6.405094623565674,
          3.4070677757263184,
          8.318142890930176,
          4.615182876586914,
          6.076003074645996,
          6.154932022094727,
          6.285739421844482,
          8.031573295593262,
          7.063686370849609,
          5.831625461578369,
          6.400236129760742,
          5.506438255310059,
          4.4657392501831055,
          7.087372303009033,
          6.645353317260742,
          7.340743541717529,
          7.50227689743042,
          7.4611592292785645,
          6.828480243682861,
          8.095641136169434,
          8.084620475769043,
          6.516854286193848,
          3.387507915496826,
          4.2939043045043945,
          4.666686534881592,
          7.723659992218018,
          5.795953750610352,
          5.57216739654541,
          5.657687187194824,
          5.163865089416504,
          4.560786724090576,
          5.6116414070129395,
          5.130675792694092,
          3.823133707046509,
          6.469683647155762,
          5.065606117248535,
          5.0360260009765625,
          4.840859413146973,
          4.192978382110596,
          6.058587551116943,
          6.1108622550964355,
          7.229223728179932,
          4.110299587249756,
          5.89780330657959,
          7.1887617111206055,
          6.978750705718994,
          6.493810176849365,
          4.0561370849609375,
          5.328409194946289,
          5.8283562660217285,
          6.0484819412231445,
          5.792555332183838,
          6.109803199768066,
          4.982741355895996,
          6.108957767486572,
          7.839382648468018,
          6.924191474914551,
          6.871816635131836,
          4.913149833679199,
          4.475570201873779,
          6.198592662811279,
          7.065699100494385,
          7.850106716156006,
          4.946223735809326,
          6.06643009185791,
          5.355745792388916,
          4.94775390625,
          8.551715850830078,
          5.098859786987305,
          7.482100486755371,
          6.0129594802856445,
          4.8438401222229,
          6.667425632476807,
          7.363417148590088,
          6.113086223602295,
          8.003241539001465,
          6.1498188972473145,
          7.5474653244018555,
          5.530176639556885,
          4.520785808563232,
          5.782560348510742,
          7.340851783752441,
          6.54787015914917,
          4.910836219787598,
          6.580106258392334,
          6.354297161102295,
          4.584405899047852,
          5.628582954406738,
          5.013986110687256,
          4.503866195678711,
          5.284488677978516,
          3.8377578258514404,
          3.9116623401641846,
          5.60945987701416,
          5.114466667175293,
          6.205387592315674,
          3.8543801307678223,
          5.768120288848877,
          4.411924839019775,
          7.461437702178955,
          5.5631208419799805,
          6.950931549072266,
          7.943543910980225
         ],
         "xaxis": "x",
         "y": [
          5.394851207733154,
          5.1455278396606445,
          5.617867946624756,
          8.579195976257324,
          7.254030704498291,
          6.791728973388672,
          9.313499450683594,
          8.844606399536133,
          5.5544114112854,
          8.881767272949219,
          8.117050170898438,
          8.875432968139648,
          5.293790340423584,
          8.540863990783691,
          5.543654918670654,
          4.959008693695068,
          5.690351963043213,
          7.321478843688965,
          5.799806118011475,
          7.874561786651611,
          7.348955154418945,
          4.721886157989502,
          4.8151655197143555,
          4.858567714691162,
          6.185815811157227,
          8.036932945251465,
          4.822500228881836,
          7.1469316482543945,
          8.499003410339355,
          6.635211944580078,
          6.603517532348633,
          6.216855049133301,
          5.457277297973633,
          4.688868522644043,
          5.849669456481934,
          6.993887424468994,
          11.157578468322754,
          3.543252944946289,
          6.078458309173584,
          8.41635513305664,
          6.741086006164551,
          9.645450592041016,
          5.982147216796875,
          6.630303859710693,
          7.387868881225586,
          10.004280090332031,
          9.077970504760742,
          5.528350830078125,
          6.949992656707764,
          6.55711555480957,
          10.690204620361328,
          4.371341705322266,
          5.060770034790039,
          8.548055648803711,
          6.4913177490234375,
          8.17584228515625,
          7.393477916717529,
          4.3939080238342285,
          6.645320892333984,
          8.459870338439941,
          6.728672981262207,
          10.501533508300781,
          5.1208391189575195,
          5.875294208526611,
          4.546860218048096,
          9.975625038146973,
          5.03172492980957,
          8.290299415588379,
          7.650300979614258,
          7.79544734954834,
          7.87256383895874,
          6.732448577880859,
          6.920703887939453,
          5.38047456741333,
          3.6271986961364746,
          7.322109699249268,
          6.773336410522461,
          6.215221405029297,
          6.346889495849609,
          8.524617195129395,
          7.926701068878174,
          3.9135148525238037,
          7.673461437225342,
          6.917928695678711,
          9.395092964172363,
          9.077335357666016,
          10.432120323181152,
          8.380514144897461,
          4.8159332275390625,
          5.879714488983154,
          3.899188995361328,
          5.445131778717041,
          5.135373115539551,
          6.850344181060791,
          7.269202709197998,
          4.181204319000244,
          6.04370641708374,
          5.889463424682617,
          7.682220458984375,
          9.261724472045898,
          10.648021697998047,
          4.679269790649414,
          7.710697650909424,
          10.15679931640625,
          5.702343463897705,
          10.994887351989746,
          10.90410327911377,
          10.689436912536621,
          6.532637119293213,
          6.313645839691162,
          7.892316818237305,
          6.29433012008667,
          7.182311058044434,
          8.226284980773926,
          7.7318243980407715,
          6.148587226867676,
          9.333953857421875,
          7.478423118591309,
          5.853240489959717,
          5.8610758781433105,
          6.978713512420654,
          6.925992488861084,
          9.142516136169434,
          6.530348300933838,
          7.758472919464111,
          5.203567981719971,
          8.870146751403809,
          8.26795768737793,
          7.661167144775391,
          5.855138301849365,
          3.9424550533294678,
          7.412449359893799,
          6.530630588531494,
          9.991338729858398,
          8.537962913513184,
          5.22704553604126,
          6.250609397888184,
          10.296545028686523,
          9.066266059875488,
          9.022115707397461,
          6.496861934661865,
          8.640840530395508,
          7.617175102233887,
          7.493497371673584,
          6.104424476623535,
          7.461944580078125,
          8.285557746887207,
          4.706252574920654,
          8.825042724609375,
          5.101256847381592
         ],
         "yaxis": "y"
        }
       ],
       "layout": {
        "coloraxis": {
         "colorbar": {
          "title": {
           "text": "label"
          }
         },
         "colorscale": [
          [
           0,
           "rgb(255,0,0)"
          ],
          [
           1,
           "rgb(0,0,255)"
          ]
         ],
         "showscale": false
        },
        "height": 600,
        "legend": {
         "tracegroupgap": 0
        },
        "template": {
         "data": {
          "bar": [
           {
            "error_x": {
             "color": "rgb(51,51,51)"
            },
            "error_y": {
             "color": "rgb(51,51,51)"
            },
            "marker": {
             "line": {
              "color": "rgb(237,237,237)",
              "width": 0.5
             }
            },
            "type": "bar"
           }
          ],
          "barpolar": [
           {
            "marker": {
             "line": {
              "color": "rgb(237,237,237)",
              "width": 0.5
             }
            },
            "type": "barpolar"
           }
          ],
          "carpet": [
           {
            "aaxis": {
             "endlinecolor": "rgb(51,51,51)",
             "gridcolor": "white",
             "linecolor": "white",
             "minorgridcolor": "white",
             "startlinecolor": "rgb(51,51,51)"
            },
            "baxis": {
             "endlinecolor": "rgb(51,51,51)",
             "gridcolor": "white",
             "linecolor": "white",
             "minorgridcolor": "white",
             "startlinecolor": "rgb(51,51,51)"
            },
            "type": "carpet"
           }
          ],
          "choropleth": [
           {
            "colorbar": {
             "outlinewidth": 0,
             "tickcolor": "rgb(237,237,237)",
             "ticklen": 6,
             "ticks": "inside"
            },
            "type": "choropleth"
           }
          ],
          "contour": [
           {
            "colorbar": {
             "outlinewidth": 0,
             "tickcolor": "rgb(237,237,237)",
             "ticklen": 6,
             "ticks": "inside"
            },
            "colorscale": [
             [
              0,
              "rgb(20,44,66)"
             ],
             [
              1,
              "rgb(90,179,244)"
             ]
            ],
            "type": "contour"
           }
          ],
          "contourcarpet": [
           {
            "colorbar": {
             "outlinewidth": 0,
             "tickcolor": "rgb(237,237,237)",
             "ticklen": 6,
             "ticks": "inside"
            },
            "type": "contourcarpet"
           }
          ],
          "heatmap": [
           {
            "colorbar": {
             "outlinewidth": 0,
             "tickcolor": "rgb(237,237,237)",
             "ticklen": 6,
             "ticks": "inside"
            },
            "colorscale": [
             [
              0,
              "rgb(20,44,66)"
             ],
             [
              1,
              "rgb(90,179,244)"
             ]
            ],
            "type": "heatmap"
           }
          ],
          "heatmapgl": [
           {
            "colorbar": {
             "outlinewidth": 0,
             "tickcolor": "rgb(237,237,237)",
             "ticklen": 6,
             "ticks": "inside"
            },
            "colorscale": [
             [
              0,
              "rgb(20,44,66)"
             ],
             [
              1,
              "rgb(90,179,244)"
             ]
            ],
            "type": "heatmapgl"
           }
          ],
          "histogram": [
           {
            "marker": {
             "colorbar": {
              "outlinewidth": 0,
              "tickcolor": "rgb(237,237,237)",
              "ticklen": 6,
              "ticks": "inside"
             }
            },
            "type": "histogram"
           }
          ],
          "histogram2d": [
           {
            "colorbar": {
             "outlinewidth": 0,
             "tickcolor": "rgb(237,237,237)",
             "ticklen": 6,
             "ticks": "inside"
            },
            "colorscale": [
             [
              0,
              "rgb(20,44,66)"
             ],
             [
              1,
              "rgb(90,179,244)"
             ]
            ],
            "type": "histogram2d"
           }
          ],
          "histogram2dcontour": [
           {
            "colorbar": {
             "outlinewidth": 0,
             "tickcolor": "rgb(237,237,237)",
             "ticklen": 6,
             "ticks": "inside"
            },
            "colorscale": [
             [
              0,
              "rgb(20,44,66)"
             ],
             [
              1,
              "rgb(90,179,244)"
             ]
            ],
            "type": "histogram2dcontour"
           }
          ],
          "mesh3d": [
           {
            "colorbar": {
             "outlinewidth": 0,
             "tickcolor": "rgb(237,237,237)",
             "ticklen": 6,
             "ticks": "inside"
            },
            "type": "mesh3d"
           }
          ],
          "parcoords": [
           {
            "line": {
             "colorbar": {
              "outlinewidth": 0,
              "tickcolor": "rgb(237,237,237)",
              "ticklen": 6,
              "ticks": "inside"
             }
            },
            "type": "parcoords"
           }
          ],
          "pie": [
           {
            "automargin": true,
            "type": "pie"
           }
          ],
          "scatter": [
           {
            "marker": {
             "colorbar": {
              "outlinewidth": 0,
              "tickcolor": "rgb(237,237,237)",
              "ticklen": 6,
              "ticks": "inside"
             }
            },
            "type": "scatter"
           }
          ],
          "scatter3d": [
           {
            "line": {
             "colorbar": {
              "outlinewidth": 0,
              "tickcolor": "rgb(237,237,237)",
              "ticklen": 6,
              "ticks": "inside"
             }
            },
            "marker": {
             "colorbar": {
              "outlinewidth": 0,
              "tickcolor": "rgb(237,237,237)",
              "ticklen": 6,
              "ticks": "inside"
             }
            },
            "type": "scatter3d"
           }
          ],
          "scattercarpet": [
           {
            "marker": {
             "colorbar": {
              "outlinewidth": 0,
              "tickcolor": "rgb(237,237,237)",
              "ticklen": 6,
              "ticks": "inside"
             }
            },
            "type": "scattercarpet"
           }
          ],
          "scattergeo": [
           {
            "marker": {
             "colorbar": {
              "outlinewidth": 0,
              "tickcolor": "rgb(237,237,237)",
              "ticklen": 6,
              "ticks": "inside"
             }
            },
            "type": "scattergeo"
           }
          ],
          "scattergl": [
           {
            "marker": {
             "colorbar": {
              "outlinewidth": 0,
              "tickcolor": "rgb(237,237,237)",
              "ticklen": 6,
              "ticks": "inside"
             }
            },
            "type": "scattergl"
           }
          ],
          "scattermapbox": [
           {
            "marker": {
             "colorbar": {
              "outlinewidth": 0,
              "tickcolor": "rgb(237,237,237)",
              "ticklen": 6,
              "ticks": "inside"
             }
            },
            "type": "scattermapbox"
           }
          ],
          "scatterpolar": [
           {
            "marker": {
             "colorbar": {
              "outlinewidth": 0,
              "tickcolor": "rgb(237,237,237)",
              "ticklen": 6,
              "ticks": "inside"
             }
            },
            "type": "scatterpolar"
           }
          ],
          "scatterpolargl": [
           {
            "marker": {
             "colorbar": {
              "outlinewidth": 0,
              "tickcolor": "rgb(237,237,237)",
              "ticklen": 6,
              "ticks": "inside"
             }
            },
            "type": "scatterpolargl"
           }
          ],
          "scatterternary": [
           {
            "marker": {
             "colorbar": {
              "outlinewidth": 0,
              "tickcolor": "rgb(237,237,237)",
              "ticklen": 6,
              "ticks": "inside"
             }
            },
            "type": "scatterternary"
           }
          ],
          "surface": [
           {
            "colorbar": {
             "outlinewidth": 0,
             "tickcolor": "rgb(237,237,237)",
             "ticklen": 6,
             "ticks": "inside"
            },
            "colorscale": [
             [
              0,
              "rgb(20,44,66)"
             ],
             [
              1,
              "rgb(90,179,244)"
             ]
            ],
            "type": "surface"
           }
          ],
          "table": [
           {
            "cells": {
             "fill": {
              "color": "rgb(237,237,237)"
             },
             "line": {
              "color": "white"
             }
            },
            "header": {
             "fill": {
              "color": "rgb(217,217,217)"
             },
             "line": {
              "color": "white"
             }
            },
            "type": "table"
           }
          ]
         },
         "layout": {
          "annotationdefaults": {
           "arrowhead": 0,
           "arrowwidth": 1
          },
          "coloraxis": {
           "colorbar": {
            "outlinewidth": 0,
            "tickcolor": "rgb(237,237,237)",
            "ticklen": 6,
            "ticks": "inside"
           }
          },
          "colorscale": {
           "sequential": [
            [
             0,
             "rgb(20,44,66)"
            ],
            [
             1,
             "rgb(90,179,244)"
            ]
           ],
           "sequentialminus": [
            [
             0,
             "rgb(20,44,66)"
            ],
            [
             1,
             "rgb(90,179,244)"
            ]
           ]
          },
          "colorway": [
           "#F8766D",
           "#A3A500",
           "#00BF7D",
           "#00B0F6",
           "#E76BF3"
          ],
          "font": {
           "color": "rgb(51,51,51)"
          },
          "geo": {
           "bgcolor": "white",
           "lakecolor": "white",
           "landcolor": "rgb(237,237,237)",
           "showlakes": true,
           "showland": true,
           "subunitcolor": "white"
          },
          "hoverlabel": {
           "align": "left"
          },
          "hovermode": "closest",
          "paper_bgcolor": "white",
          "plot_bgcolor": "rgb(237,237,237)",
          "polar": {
           "angularaxis": {
            "gridcolor": "white",
            "linecolor": "white",
            "showgrid": true,
            "tickcolor": "rgb(51,51,51)",
            "ticks": "outside"
           },
           "bgcolor": "rgb(237,237,237)",
           "radialaxis": {
            "gridcolor": "white",
            "linecolor": "white",
            "showgrid": true,
            "tickcolor": "rgb(51,51,51)",
            "ticks": "outside"
           }
          },
          "scene": {
           "xaxis": {
            "backgroundcolor": "rgb(237,237,237)",
            "gridcolor": "white",
            "gridwidth": 2,
            "linecolor": "white",
            "showbackground": true,
            "showgrid": true,
            "tickcolor": "rgb(51,51,51)",
            "ticks": "outside",
            "zerolinecolor": "white"
           },
           "yaxis": {
            "backgroundcolor": "rgb(237,237,237)",
            "gridcolor": "white",
            "gridwidth": 2,
            "linecolor": "white",
            "showbackground": true,
            "showgrid": true,
            "tickcolor": "rgb(51,51,51)",
            "ticks": "outside",
            "zerolinecolor": "white"
           },
           "zaxis": {
            "backgroundcolor": "rgb(237,237,237)",
            "gridcolor": "white",
            "gridwidth": 2,
            "linecolor": "white",
            "showbackground": true,
            "showgrid": true,
            "tickcolor": "rgb(51,51,51)",
            "ticks": "outside",
            "zerolinecolor": "white"
           }
          },
          "shapedefaults": {
           "fillcolor": "black",
           "line": {
            "width": 0
           },
           "opacity": 0.3
          },
          "ternary": {
           "aaxis": {
            "gridcolor": "white",
            "linecolor": "white",
            "showgrid": true,
            "tickcolor": "rgb(51,51,51)",
            "ticks": "outside"
           },
           "baxis": {
            "gridcolor": "white",
            "linecolor": "white",
            "showgrid": true,
            "tickcolor": "rgb(51,51,51)",
            "ticks": "outside"
           },
           "bgcolor": "rgb(237,237,237)",
           "caxis": {
            "gridcolor": "white",
            "linecolor": "white",
            "showgrid": true,
            "tickcolor": "rgb(51,51,51)",
            "ticks": "outside"
           }
          },
          "xaxis": {
           "automargin": true,
           "gridcolor": "white",
           "linecolor": "white",
           "showgrid": true,
           "tickcolor": "rgb(51,51,51)",
           "ticks": "outside",
           "title": {
            "standoff": 15
           },
           "zerolinecolor": "white"
          },
          "yaxis": {
           "automargin": true,
           "gridcolor": "white",
           "linecolor": "white",
           "showgrid": true,
           "tickcolor": "rgb(51,51,51)",
           "ticks": "outside",
           "title": {
            "standoff": 15
           },
           "zerolinecolor": "white"
          }
         }
        },
        "title": {
         "text": "Molecular weight"
        },
        "width": 600,
        "xaxis": {
         "anchor": "y",
         "domain": [
          0,
          1
         ],
         "showticklabels": false,
         "title": {
          "text": "x"
         }
        },
        "yaxis": {
         "anchor": "x",
         "domain": [
          0,
          1
         ],
         "showticklabels": false,
         "title": {
          "text": "y"
         }
        }
       }
      },
      "text/html": [
       "<div>\n",
       "        \n",
       "        \n",
       "            <div id=\"7306300b-7c3f-4498-ab17-1cf00f41cbe5\" class=\"plotly-graph-div\" style=\"height:600px; width:600px;\"></div>\n",
       "            <script type=\"text/javascript\">\n",
       "                require([\"plotly\"], function(Plotly) {\n",
       "                    window.PLOTLYENV=window.PLOTLYENV || {};\n",
       "                    \n",
       "                if (document.getElementById(\"7306300b-7c3f-4498-ab17-1cf00f41cbe5\")) {\n",
       "                    Plotly.newPlot(\n",
       "                        '7306300b-7c3f-4498-ab17-1cf00f41cbe5',\n",
       "                        [{\"hovertemplate\": \"<b>%{hovertext}</b><br><br>x=%{x}<br>y=%{y}<br>label=%{marker.color}<extra></extra>\", \"hovertext\": [0.0, 1.0, 2.0, 3.0, 4.0, 5.0, 6.0, 7.0, 8.0, 9.0, 10.0, 11.0, 12.0, 13.0, 14.0, 15.0, 16.0, 17.0, 18.0, 19.0, 20.0, 21.0, 22.0, 23.0, 24.0, 25.0, 26.0, 27.0, 28.0, 29.0, 30.0, 31.0, 32.0, 33.0, 34.0, 35.0, 36.0, 37.0, 38.0, 39.0, 40.0, 41.0, 42.0, 43.0, 44.0, 45.0, 46.0, 47.0, 48.0, 49.0, 50.0, 51.0, 52.0, 53.0, 54.0, 55.0, 56.0, 57.0, 58.0, 59.0, 60.0, 61.0, 62.0, 63.0, 64.0, 65.0, 66.0, 67.0, 68.0, 69.0, 70.0, 71.0, 72.0, 73.0, 74.0, 75.0, 76.0, 77.0, 78.0, 79.0, 80.0, 81.0, 82.0, 83.0, 84.0, 85.0, 86.0, 87.0, 88.0, 89.0, 90.0, 91.0, 92.0, 93.0, 94.0, 95.0, 96.0, 97.0, 98.0, 99.0, 100.0, 101.0, 102.0, 103.0, 104.0, 105.0, 106.0, 107.0, 108.0, 109.0, 110.0, 111.0, 112.0, 113.0, 114.0, 115.0, 116.0, 117.0, 118.0, 119.0, 120.0, 121.0, 122.0, 123.0, 124.0, 125.0, 126.0, 127.0, 128.0, 129.0, 130.0, 131.0, 132.0, 133.0, 134.0, 135.0, 136.0, 137.0, 138.0, 139.0, 140.0, 141.0, 142.0, 143.0, 144.0, 145.0, 146.0, 147.0, 148.0, 149.0], \"legendgroup\": \"\", \"marker\": {\"color\": [1, 0, 1, 1, 1, 1, 1, 0, 0, 1, 0, 1, 0, 1, 0, 1, 0, 0, 1, 1, 1, 1, 1, 1, 1, 1, 1, 0, 1, 1, 1, 1, 0, 1, 1, 1, 0, 0, 1, 1, 1, 1, 0, 0, 0, 0, 1, 1, 0, 1, 0, 0, 0, 0, 1, 0, 1, 0, 1, 0, 1, 1, 1, 0, 0, 1, 0, 1, 1, 0, 1, 0, 0, 1, 1, 0, 1, 0, 0, 0, 0, 1, 1, 0, 1, 0, 1, 1, 1, 1, 1, 0, 1, 1, 1, 1, 1, 0, 1, 1, 0, 1, 0, 1, 0, 1, 0, 1, 1, 0, 1, 0, 0, 0, 0, 0, 1, 1, 1, 1, 0, 0, 0, 1, 0, 0, 0, 0, 1, 0, 1, 0, 1, 0, 1, 1, 0, 0, 0, 1, 1, 1, 1, 0, 0, 0, 1, 1, 1, 1], \"coloraxis\": \"coloraxis\", \"symbol\": \"circle\"}, \"mode\": \"markers\", \"name\": \"\", \"orientation\": \"v\", \"showlegend\": false, \"type\": \"scatter\", \"x\": [7.643780708312988, 5.133571624755859, 3.7244796752929688, 7.1873860359191895, 4.632745742797852, 7.28856086730957, 5.286683559417725, 3.680694818496704, 4.614442825317383, 8.416021347045898, 5.860500335693359, 5.851658344268799, 6.404038429260254, 3.285520315170288, 5.516180515289307, 5.783537864685059, 7.994197368621826, 8.29388427734375, 5.390532970428467, 6.485485076904297, 8.211220741271973, 4.347725868225098, 5.68612003326416, 6.688225269317627, 7.984598636627197, 3.204061508178711, 8.31500244140625, 5.199348449707031, 8.295026779174805, 4.0563836097717285, 6.52409029006958, 6.860975742340088, 4.090184688568115, 4.715365409851074, 8.525574684143066, 8.172706604003906, 5.48736047744751, 5.985110759735107, 6.910708427429199, 6.73818302154541, 6.672435760498047, 6.472210884094238, 6.242998123168945, 3.4363832473754883, 7.045407295227051, 4.187466621398926, 6.208161354064941, 6.405094623565674, 3.4070677757263184, 8.318142890930176, 4.615182876586914, 6.076003074645996, 6.154932022094727, 6.285739421844482, 8.031573295593262, 7.063686370849609, 5.831625461578369, 6.400236129760742, 5.506438255310059, 4.4657392501831055, 7.087372303009033, 6.645353317260742, 7.340743541717529, 7.50227689743042, 7.4611592292785645, 6.828480243682861, 8.095641136169434, 8.084620475769043, 6.516854286193848, 3.387507915496826, 4.2939043045043945, 4.666686534881592, 7.723659992218018, 5.795953750610352, 5.57216739654541, 5.657687187194824, 5.163865089416504, 4.560786724090576, 5.6116414070129395, 5.130675792694092, 3.823133707046509, 6.469683647155762, 5.065606117248535, 5.0360260009765625, 4.840859413146973, 4.192978382110596, 6.058587551116943, 6.1108622550964355, 7.229223728179932, 4.110299587249756, 5.89780330657959, 7.1887617111206055, 6.978750705718994, 6.493810176849365, 4.0561370849609375, 5.328409194946289, 5.8283562660217285, 6.0484819412231445, 5.792555332183838, 6.109803199768066, 4.982741355895996, 6.108957767486572, 7.839382648468018, 6.924191474914551, 6.871816635131836, 4.913149833679199, 4.475570201873779, 6.198592662811279, 7.065699100494385, 7.850106716156006, 4.946223735809326, 6.06643009185791, 5.355745792388916, 4.94775390625, 8.551715850830078, 5.098859786987305, 7.482100486755371, 6.0129594802856445, 4.8438401222229, 6.667425632476807, 7.363417148590088, 6.113086223602295, 8.003241539001465, 6.1498188972473145, 7.5474653244018555, 5.530176639556885, 4.520785808563232, 5.782560348510742, 7.340851783752441, 6.54787015914917, 4.910836219787598, 6.580106258392334, 6.354297161102295, 4.584405899047852, 5.628582954406738, 5.013986110687256, 4.503866195678711, 5.284488677978516, 3.8377578258514404, 3.9116623401641846, 5.60945987701416, 5.114466667175293, 6.205387592315674, 3.8543801307678223, 5.768120288848877, 4.411924839019775, 7.461437702178955, 5.5631208419799805, 6.950931549072266, 7.943543910980225], \"xaxis\": \"x\", \"y\": [5.394851207733154, 5.1455278396606445, 5.617867946624756, 8.579195976257324, 7.254030704498291, 6.791728973388672, 9.313499450683594, 8.844606399536133, 5.5544114112854, 8.881767272949219, 8.117050170898438, 8.875432968139648, 5.293790340423584, 8.540863990783691, 5.543654918670654, 4.959008693695068, 5.690351963043213, 7.321478843688965, 5.799806118011475, 7.874561786651611, 7.348955154418945, 4.721886157989502, 4.8151655197143555, 4.858567714691162, 6.185815811157227, 8.036932945251465, 4.822500228881836, 7.1469316482543945, 8.499003410339355, 6.635211944580078, 6.603517532348633, 6.216855049133301, 5.457277297973633, 4.688868522644043, 5.849669456481934, 6.993887424468994, 11.157578468322754, 3.543252944946289, 6.078458309173584, 8.41635513305664, 6.741086006164551, 9.645450592041016, 5.982147216796875, 6.630303859710693, 7.387868881225586, 10.004280090332031, 9.077970504760742, 5.528350830078125, 6.949992656707764, 6.55711555480957, 10.690204620361328, 4.371341705322266, 5.060770034790039, 8.548055648803711, 6.4913177490234375, 8.17584228515625, 7.393477916717529, 4.3939080238342285, 6.645320892333984, 8.459870338439941, 6.728672981262207, 10.501533508300781, 5.1208391189575195, 5.875294208526611, 4.546860218048096, 9.975625038146973, 5.03172492980957, 8.290299415588379, 7.650300979614258, 7.79544734954834, 7.87256383895874, 6.732448577880859, 6.920703887939453, 5.38047456741333, 3.6271986961364746, 7.322109699249268, 6.773336410522461, 6.215221405029297, 6.346889495849609, 8.524617195129395, 7.926701068878174, 3.9135148525238037, 7.673461437225342, 6.917928695678711, 9.395092964172363, 9.077335357666016, 10.432120323181152, 8.380514144897461, 4.8159332275390625, 5.879714488983154, 3.899188995361328, 5.445131778717041, 5.135373115539551, 6.850344181060791, 7.269202709197998, 4.181204319000244, 6.04370641708374, 5.889463424682617, 7.682220458984375, 9.261724472045898, 10.648021697998047, 4.679269790649414, 7.710697650909424, 10.15679931640625, 5.702343463897705, 10.994887351989746, 10.90410327911377, 10.689436912536621, 6.532637119293213, 6.313645839691162, 7.892316818237305, 6.29433012008667, 7.182311058044434, 8.226284980773926, 7.7318243980407715, 6.148587226867676, 9.333953857421875, 7.478423118591309, 5.853240489959717, 5.8610758781433105, 6.978713512420654, 6.925992488861084, 9.142516136169434, 6.530348300933838, 7.758472919464111, 5.203567981719971, 8.870146751403809, 8.26795768737793, 7.661167144775391, 5.855138301849365, 3.9424550533294678, 7.412449359893799, 6.530630588531494, 9.991338729858398, 8.537962913513184, 5.22704553604126, 6.250609397888184, 10.296545028686523, 9.066266059875488, 9.022115707397461, 6.496861934661865, 8.640840530395508, 7.617175102233887, 7.493497371673584, 6.104424476623535, 7.461944580078125, 8.285557746887207, 4.706252574920654, 8.825042724609375, 5.101256847381592], \"yaxis\": \"y\"}],\n",
       "                        {\"coloraxis\": {\"colorbar\": {\"title\": {\"text\": \"label\"}}, \"colorscale\": [[0.0, \"rgb(255,0,0)\"], [1.0, \"rgb(0,0,255)\"]], \"showscale\": false}, \"height\": 600, \"legend\": {\"tracegroupgap\": 0}, \"template\": {\"data\": {\"bar\": [{\"error_x\": {\"color\": \"rgb(51,51,51)\"}, \"error_y\": {\"color\": \"rgb(51,51,51)\"}, \"marker\": {\"line\": {\"color\": \"rgb(237,237,237)\", \"width\": 0.5}}, \"type\": \"bar\"}], \"barpolar\": [{\"marker\": {\"line\": {\"color\": \"rgb(237,237,237)\", \"width\": 0.5}}, \"type\": \"barpolar\"}], \"carpet\": [{\"aaxis\": {\"endlinecolor\": \"rgb(51,51,51)\", \"gridcolor\": \"white\", \"linecolor\": \"white\", \"minorgridcolor\": \"white\", \"startlinecolor\": \"rgb(51,51,51)\"}, \"baxis\": {\"endlinecolor\": \"rgb(51,51,51)\", \"gridcolor\": \"white\", \"linecolor\": \"white\", \"minorgridcolor\": \"white\", \"startlinecolor\": \"rgb(51,51,51)\"}, \"type\": \"carpet\"}], \"choropleth\": [{\"colorbar\": {\"outlinewidth\": 0, \"tickcolor\": \"rgb(237,237,237)\", \"ticklen\": 6, \"ticks\": \"inside\"}, \"type\": \"choropleth\"}], \"contour\": [{\"colorbar\": {\"outlinewidth\": 0, \"tickcolor\": \"rgb(237,237,237)\", \"ticklen\": 6, \"ticks\": \"inside\"}, \"colorscale\": [[0, \"rgb(20,44,66)\"], [1, \"rgb(90,179,244)\"]], \"type\": \"contour\"}], \"contourcarpet\": [{\"colorbar\": {\"outlinewidth\": 0, \"tickcolor\": \"rgb(237,237,237)\", \"ticklen\": 6, \"ticks\": \"inside\"}, \"type\": \"contourcarpet\"}], \"heatmap\": [{\"colorbar\": {\"outlinewidth\": 0, \"tickcolor\": \"rgb(237,237,237)\", \"ticklen\": 6, \"ticks\": \"inside\"}, \"colorscale\": [[0, \"rgb(20,44,66)\"], [1, \"rgb(90,179,244)\"]], \"type\": \"heatmap\"}], \"heatmapgl\": [{\"colorbar\": {\"outlinewidth\": 0, \"tickcolor\": \"rgb(237,237,237)\", \"ticklen\": 6, \"ticks\": \"inside\"}, \"colorscale\": [[0, \"rgb(20,44,66)\"], [1, \"rgb(90,179,244)\"]], \"type\": \"heatmapgl\"}], \"histogram\": [{\"marker\": {\"colorbar\": {\"outlinewidth\": 0, \"tickcolor\": \"rgb(237,237,237)\", \"ticklen\": 6, \"ticks\": \"inside\"}}, \"type\": \"histogram\"}], \"histogram2d\": [{\"colorbar\": {\"outlinewidth\": 0, \"tickcolor\": \"rgb(237,237,237)\", \"ticklen\": 6, \"ticks\": \"inside\"}, \"colorscale\": [[0, \"rgb(20,44,66)\"], [1, \"rgb(90,179,244)\"]], \"type\": \"histogram2d\"}], \"histogram2dcontour\": [{\"colorbar\": {\"outlinewidth\": 0, \"tickcolor\": \"rgb(237,237,237)\", \"ticklen\": 6, \"ticks\": \"inside\"}, \"colorscale\": [[0, \"rgb(20,44,66)\"], [1, \"rgb(90,179,244)\"]], \"type\": \"histogram2dcontour\"}], \"mesh3d\": [{\"colorbar\": {\"outlinewidth\": 0, \"tickcolor\": \"rgb(237,237,237)\", \"ticklen\": 6, \"ticks\": \"inside\"}, \"type\": \"mesh3d\"}], \"parcoords\": [{\"line\": {\"colorbar\": {\"outlinewidth\": 0, \"tickcolor\": \"rgb(237,237,237)\", \"ticklen\": 6, \"ticks\": \"inside\"}}, \"type\": \"parcoords\"}], \"pie\": [{\"automargin\": true, \"type\": \"pie\"}], \"scatter\": [{\"marker\": {\"colorbar\": {\"outlinewidth\": 0, \"tickcolor\": \"rgb(237,237,237)\", \"ticklen\": 6, \"ticks\": \"inside\"}}, \"type\": \"scatter\"}], \"scatter3d\": [{\"line\": {\"colorbar\": {\"outlinewidth\": 0, \"tickcolor\": \"rgb(237,237,237)\", \"ticklen\": 6, \"ticks\": \"inside\"}}, \"marker\": {\"colorbar\": {\"outlinewidth\": 0, \"tickcolor\": \"rgb(237,237,237)\", \"ticklen\": 6, \"ticks\": \"inside\"}}, \"type\": \"scatter3d\"}], \"scattercarpet\": [{\"marker\": {\"colorbar\": {\"outlinewidth\": 0, \"tickcolor\": \"rgb(237,237,237)\", \"ticklen\": 6, \"ticks\": \"inside\"}}, \"type\": \"scattercarpet\"}], \"scattergeo\": [{\"marker\": {\"colorbar\": {\"outlinewidth\": 0, \"tickcolor\": \"rgb(237,237,237)\", \"ticklen\": 6, \"ticks\": \"inside\"}}, \"type\": \"scattergeo\"}], \"scattergl\": [{\"marker\": {\"colorbar\": {\"outlinewidth\": 0, \"tickcolor\": \"rgb(237,237,237)\", \"ticklen\": 6, \"ticks\": \"inside\"}}, \"type\": \"scattergl\"}], \"scattermapbox\": [{\"marker\": {\"colorbar\": {\"outlinewidth\": 0, \"tickcolor\": \"rgb(237,237,237)\", \"ticklen\": 6, \"ticks\": \"inside\"}}, \"type\": \"scattermapbox\"}], \"scatterpolar\": [{\"marker\": {\"colorbar\": {\"outlinewidth\": 0, \"tickcolor\": \"rgb(237,237,237)\", \"ticklen\": 6, \"ticks\": \"inside\"}}, \"type\": \"scatterpolar\"}], \"scatterpolargl\": [{\"marker\": {\"colorbar\": {\"outlinewidth\": 0, \"tickcolor\": \"rgb(237,237,237)\", \"ticklen\": 6, \"ticks\": \"inside\"}}, \"type\": \"scatterpolargl\"}], \"scatterternary\": [{\"marker\": {\"colorbar\": {\"outlinewidth\": 0, \"tickcolor\": \"rgb(237,237,237)\", \"ticklen\": 6, \"ticks\": \"inside\"}}, \"type\": \"scatterternary\"}], \"surface\": [{\"colorbar\": {\"outlinewidth\": 0, \"tickcolor\": \"rgb(237,237,237)\", \"ticklen\": 6, \"ticks\": \"inside\"}, \"colorscale\": [[0, \"rgb(20,44,66)\"], [1, \"rgb(90,179,244)\"]], \"type\": \"surface\"}], \"table\": [{\"cells\": {\"fill\": {\"color\": \"rgb(237,237,237)\"}, \"line\": {\"color\": \"white\"}}, \"header\": {\"fill\": {\"color\": \"rgb(217,217,217)\"}, \"line\": {\"color\": \"white\"}}, \"type\": \"table\"}]}, \"layout\": {\"annotationdefaults\": {\"arrowhead\": 0, \"arrowwidth\": 1}, \"coloraxis\": {\"colorbar\": {\"outlinewidth\": 0, \"tickcolor\": \"rgb(237,237,237)\", \"ticklen\": 6, \"ticks\": \"inside\"}}, \"colorscale\": {\"sequential\": [[0, \"rgb(20,44,66)\"], [1, \"rgb(90,179,244)\"]], \"sequentialminus\": [[0, \"rgb(20,44,66)\"], [1, \"rgb(90,179,244)\"]]}, \"colorway\": [\"#F8766D\", \"#A3A500\", \"#00BF7D\", \"#00B0F6\", \"#E76BF3\"], \"font\": {\"color\": \"rgb(51,51,51)\"}, \"geo\": {\"bgcolor\": \"white\", \"lakecolor\": \"white\", \"landcolor\": \"rgb(237,237,237)\", \"showlakes\": true, \"showland\": true, \"subunitcolor\": \"white\"}, \"hoverlabel\": {\"align\": \"left\"}, \"hovermode\": \"closest\", \"paper_bgcolor\": \"white\", \"plot_bgcolor\": \"rgb(237,237,237)\", \"polar\": {\"angularaxis\": {\"gridcolor\": \"white\", \"linecolor\": \"white\", \"showgrid\": true, \"tickcolor\": \"rgb(51,51,51)\", \"ticks\": \"outside\"}, \"bgcolor\": \"rgb(237,237,237)\", \"radialaxis\": {\"gridcolor\": \"white\", \"linecolor\": \"white\", \"showgrid\": true, \"tickcolor\": \"rgb(51,51,51)\", \"ticks\": \"outside\"}}, \"scene\": {\"xaxis\": {\"backgroundcolor\": \"rgb(237,237,237)\", \"gridcolor\": \"white\", \"gridwidth\": 2, \"linecolor\": \"white\", \"showbackground\": true, \"showgrid\": true, \"tickcolor\": \"rgb(51,51,51)\", \"ticks\": \"outside\", \"zerolinecolor\": \"white\"}, \"yaxis\": {\"backgroundcolor\": \"rgb(237,237,237)\", \"gridcolor\": \"white\", \"gridwidth\": 2, \"linecolor\": \"white\", \"showbackground\": true, \"showgrid\": true, \"tickcolor\": \"rgb(51,51,51)\", \"ticks\": \"outside\", \"zerolinecolor\": \"white\"}, \"zaxis\": {\"backgroundcolor\": \"rgb(237,237,237)\", \"gridcolor\": \"white\", \"gridwidth\": 2, \"linecolor\": \"white\", \"showbackground\": true, \"showgrid\": true, \"tickcolor\": \"rgb(51,51,51)\", \"ticks\": \"outside\", \"zerolinecolor\": \"white\"}}, \"shapedefaults\": {\"fillcolor\": \"black\", \"line\": {\"width\": 0}, \"opacity\": 0.3}, \"ternary\": {\"aaxis\": {\"gridcolor\": \"white\", \"linecolor\": \"white\", \"showgrid\": true, \"tickcolor\": \"rgb(51,51,51)\", \"ticks\": \"outside\"}, \"baxis\": {\"gridcolor\": \"white\", \"linecolor\": \"white\", \"showgrid\": true, \"tickcolor\": \"rgb(51,51,51)\", \"ticks\": \"outside\"}, \"bgcolor\": \"rgb(237,237,237)\", \"caxis\": {\"gridcolor\": \"white\", \"linecolor\": \"white\", \"showgrid\": true, \"tickcolor\": \"rgb(51,51,51)\", \"ticks\": \"outside\"}}, \"xaxis\": {\"automargin\": true, \"gridcolor\": \"white\", \"linecolor\": \"white\", \"showgrid\": true, \"tickcolor\": \"rgb(51,51,51)\", \"ticks\": \"outside\", \"title\": {\"standoff\": 15}, \"zerolinecolor\": \"white\"}, \"yaxis\": {\"automargin\": true, \"gridcolor\": \"white\", \"linecolor\": \"white\", \"showgrid\": true, \"tickcolor\": \"rgb(51,51,51)\", \"ticks\": \"outside\", \"title\": {\"standoff\": 15}, \"zerolinecolor\": \"white\"}}}, \"title\": {\"text\": \"Molecular weight\"}, \"width\": 600, \"xaxis\": {\"anchor\": \"y\", \"domain\": [0.0, 1.0], \"showticklabels\": false, \"title\": {\"text\": \"x\"}}, \"yaxis\": {\"anchor\": \"x\", \"domain\": [0.0, 1.0], \"showticklabels\": false, \"title\": {\"text\": \"y\"}}},\n",
       "                        {\"responsive\": true}\n",
       "                    ).then(function(){\n",
       "                            \n",
       "var gd = document.getElementById('7306300b-7c3f-4498-ab17-1cf00f41cbe5');\n",
       "var x = new MutationObserver(function (mutations, observer) {{\n",
       "        var display = window.getComputedStyle(gd).display;\n",
       "        if (!display || display === 'none') {{\n",
       "            console.log([gd, 'removed!']);\n",
       "            Plotly.purge(gd);\n",
       "            observer.disconnect();\n",
       "        }}\n",
       "}});\n",
       "\n",
       "// Listen for the removal of the full notebook cells\n",
       "var notebookContainer = gd.closest('#notebook-container');\n",
       "if (notebookContainer) {{\n",
       "    x.observe(notebookContainer, {childList: true});\n",
       "}}\n",
       "\n",
       "// Listen for the clearing of the current output cell\n",
       "var outputEl = gd.closest('.output');\n",
       "if (outputEl) {{\n",
       "    x.observe(outputEl, {childList: true});\n",
       "}}\n",
       "\n",
       "                        })\n",
       "                };\n",
       "                });\n",
       "            </script>\n",
       "        </div>"
      ]
     },
     "metadata": {},
     "output_type": "display_data"
    }
   ],
   "source": [
    "molecular_weight = temp_plot_input\n",
    "molecular_weight['label'] = df['binary_molecular_weight']\n",
    "molecular_weight_plot = render_2D_scatter_plotly(molecular_weight, title='Molecular weight')\n",
    "molecular_weight_plot"
   ]
  },
  {
   "cell_type": "markdown",
   "metadata": {},
   "source": [
    "#### Solubility"
   ]
  },
  {
   "cell_type": "code",
   "execution_count": 33,
   "metadata": {},
   "outputs": [
    {
     "data": {
      "application/vnd.plotly.v1+json": {
       "config": {
        "plotlyServerURL": "https://plot.ly"
       },
       "data": [
        {
         "hovertemplate": "<b>%{hovertext}</b><br><br>x=%{x}<br>y=%{y}<br>label=%{marker.color}<extra></extra>",
         "hovertext": [
          0,
          1,
          2,
          3,
          4,
          5,
          6,
          7,
          8,
          9,
          10,
          11,
          12,
          13,
          14,
          15,
          16,
          17,
          18,
          19,
          20,
          21,
          22,
          23,
          24,
          25,
          26,
          27,
          28,
          29,
          30,
          31,
          32,
          33,
          34,
          35,
          36,
          37,
          38,
          39,
          40,
          41,
          42,
          43,
          44,
          45,
          46,
          47,
          48,
          49,
          50,
          51,
          52,
          53,
          54,
          55,
          56,
          57,
          58,
          59,
          60,
          61,
          62,
          63,
          64,
          65,
          66,
          67,
          68,
          69,
          70,
          71,
          72,
          73,
          74,
          75,
          76,
          77,
          78,
          79,
          80,
          81,
          82,
          83,
          84,
          85,
          86,
          87,
          88,
          89,
          90,
          91,
          92,
          93,
          94,
          95,
          96,
          97,
          98,
          99,
          100,
          101,
          102,
          103,
          104,
          105,
          106,
          107,
          108,
          109,
          110,
          111,
          112,
          113,
          114,
          115,
          116,
          117,
          118,
          119,
          120,
          121,
          122,
          123,
          124,
          125,
          126,
          127,
          128,
          129,
          130,
          131,
          132,
          133,
          134,
          135,
          136,
          137,
          138,
          139,
          140,
          141,
          142,
          143,
          144,
          145,
          146,
          147,
          148,
          149
         ],
         "legendgroup": "",
         "marker": {
          "color": [
           0,
           1,
           0,
           1,
           0,
           0,
           1,
           1,
           1,
           0,
           1,
           0,
           1,
           0,
           1,
           1,
           0,
           0,
           1,
           0,
           0,
           1,
           0,
           1,
           1,
           0,
           1,
           0,
           0,
           1,
           1,
           0,
           1,
           1,
           0,
           0,
           1,
           1,
           0,
           0,
           1,
           0,
           0,
           0,
           1,
           1,
           0,
           0,
           1,
           0,
           1,
           1,
           1,
           1,
           0,
           1,
           0,
           1,
           0,
           1,
           0,
           0,
           0,
           1,
           0,
           0,
           0,
           0,
           0,
           1,
           0,
           0,
           1,
           0,
           0,
           1,
           0,
           1,
           1,
           1,
           1,
           0,
           0,
           0,
           0,
           1,
           0,
           0,
           0,
           0,
           1,
           0,
           0,
           1,
           1,
           0,
           1,
           1,
           0,
           0,
           1,
           0,
           1,
           1,
           1,
           0,
           0,
           0,
           1,
           1,
           0,
           1,
           0,
           1,
           1,
           1,
           0,
           0,
           1,
           0,
           1,
           1,
           1,
           0,
           1,
           1,
           1,
           1,
           0,
           0,
           0,
           0,
           1,
           1,
           0,
           1,
           1,
           1,
           1,
           0,
           0,
           0,
           1,
           0,
           1,
           1,
           0,
           0,
           1,
           0
          ],
          "coloraxis": "coloraxis",
          "symbol": "circle"
         },
         "mode": "markers",
         "name": "",
         "orientation": "v",
         "showlegend": false,
         "type": "scatter",
         "x": [
          7.643780708312988,
          5.133571624755859,
          3.7244796752929688,
          7.1873860359191895,
          4.632745742797852,
          7.28856086730957,
          5.286683559417725,
          3.680694818496704,
          4.614442825317383,
          8.416021347045898,
          5.860500335693359,
          5.851658344268799,
          6.404038429260254,
          3.285520315170288,
          5.516180515289307,
          5.783537864685059,
          7.994197368621826,
          8.29388427734375,
          5.390532970428467,
          6.485485076904297,
          8.211220741271973,
          4.347725868225098,
          5.68612003326416,
          6.688225269317627,
          7.984598636627197,
          3.204061508178711,
          8.31500244140625,
          5.199348449707031,
          8.295026779174805,
          4.0563836097717285,
          6.52409029006958,
          6.860975742340088,
          4.090184688568115,
          4.715365409851074,
          8.525574684143066,
          8.172706604003906,
          5.48736047744751,
          5.985110759735107,
          6.910708427429199,
          6.73818302154541,
          6.672435760498047,
          6.472210884094238,
          6.242998123168945,
          3.4363832473754883,
          7.045407295227051,
          4.187466621398926,
          6.208161354064941,
          6.405094623565674,
          3.4070677757263184,
          8.318142890930176,
          4.615182876586914,
          6.076003074645996,
          6.154932022094727,
          6.285739421844482,
          8.031573295593262,
          7.063686370849609,
          5.831625461578369,
          6.400236129760742,
          5.506438255310059,
          4.4657392501831055,
          7.087372303009033,
          6.645353317260742,
          7.340743541717529,
          7.50227689743042,
          7.4611592292785645,
          6.828480243682861,
          8.095641136169434,
          8.084620475769043,
          6.516854286193848,
          3.387507915496826,
          4.2939043045043945,
          4.666686534881592,
          7.723659992218018,
          5.795953750610352,
          5.57216739654541,
          5.657687187194824,
          5.163865089416504,
          4.560786724090576,
          5.6116414070129395,
          5.130675792694092,
          3.823133707046509,
          6.469683647155762,
          5.065606117248535,
          5.0360260009765625,
          4.840859413146973,
          4.192978382110596,
          6.058587551116943,
          6.1108622550964355,
          7.229223728179932,
          4.110299587249756,
          5.89780330657959,
          7.1887617111206055,
          6.978750705718994,
          6.493810176849365,
          4.0561370849609375,
          5.328409194946289,
          5.8283562660217285,
          6.0484819412231445,
          5.792555332183838,
          6.109803199768066,
          4.982741355895996,
          6.108957767486572,
          7.839382648468018,
          6.924191474914551,
          6.871816635131836,
          4.913149833679199,
          4.475570201873779,
          6.198592662811279,
          7.065699100494385,
          7.850106716156006,
          4.946223735809326,
          6.06643009185791,
          5.355745792388916,
          4.94775390625,
          8.551715850830078,
          5.098859786987305,
          7.482100486755371,
          6.0129594802856445,
          4.8438401222229,
          6.667425632476807,
          7.363417148590088,
          6.113086223602295,
          8.003241539001465,
          6.1498188972473145,
          7.5474653244018555,
          5.530176639556885,
          4.520785808563232,
          5.782560348510742,
          7.340851783752441,
          6.54787015914917,
          4.910836219787598,
          6.580106258392334,
          6.354297161102295,
          4.584405899047852,
          5.628582954406738,
          5.013986110687256,
          4.503866195678711,
          5.284488677978516,
          3.8377578258514404,
          3.9116623401641846,
          5.60945987701416,
          5.114466667175293,
          6.205387592315674,
          3.8543801307678223,
          5.768120288848877,
          4.411924839019775,
          7.461437702178955,
          5.5631208419799805,
          6.950931549072266,
          7.943543910980225
         ],
         "xaxis": "x",
         "y": [
          5.394851207733154,
          5.1455278396606445,
          5.617867946624756,
          8.579195976257324,
          7.254030704498291,
          6.791728973388672,
          9.313499450683594,
          8.844606399536133,
          5.5544114112854,
          8.881767272949219,
          8.117050170898438,
          8.875432968139648,
          5.293790340423584,
          8.540863990783691,
          5.543654918670654,
          4.959008693695068,
          5.690351963043213,
          7.321478843688965,
          5.799806118011475,
          7.874561786651611,
          7.348955154418945,
          4.721886157989502,
          4.8151655197143555,
          4.858567714691162,
          6.185815811157227,
          8.036932945251465,
          4.822500228881836,
          7.1469316482543945,
          8.499003410339355,
          6.635211944580078,
          6.603517532348633,
          6.216855049133301,
          5.457277297973633,
          4.688868522644043,
          5.849669456481934,
          6.993887424468994,
          11.157578468322754,
          3.543252944946289,
          6.078458309173584,
          8.41635513305664,
          6.741086006164551,
          9.645450592041016,
          5.982147216796875,
          6.630303859710693,
          7.387868881225586,
          10.004280090332031,
          9.077970504760742,
          5.528350830078125,
          6.949992656707764,
          6.55711555480957,
          10.690204620361328,
          4.371341705322266,
          5.060770034790039,
          8.548055648803711,
          6.4913177490234375,
          8.17584228515625,
          7.393477916717529,
          4.3939080238342285,
          6.645320892333984,
          8.459870338439941,
          6.728672981262207,
          10.501533508300781,
          5.1208391189575195,
          5.875294208526611,
          4.546860218048096,
          9.975625038146973,
          5.03172492980957,
          8.290299415588379,
          7.650300979614258,
          7.79544734954834,
          7.87256383895874,
          6.732448577880859,
          6.920703887939453,
          5.38047456741333,
          3.6271986961364746,
          7.322109699249268,
          6.773336410522461,
          6.215221405029297,
          6.346889495849609,
          8.524617195129395,
          7.926701068878174,
          3.9135148525238037,
          7.673461437225342,
          6.917928695678711,
          9.395092964172363,
          9.077335357666016,
          10.432120323181152,
          8.380514144897461,
          4.8159332275390625,
          5.879714488983154,
          3.899188995361328,
          5.445131778717041,
          5.135373115539551,
          6.850344181060791,
          7.269202709197998,
          4.181204319000244,
          6.04370641708374,
          5.889463424682617,
          7.682220458984375,
          9.261724472045898,
          10.648021697998047,
          4.679269790649414,
          7.710697650909424,
          10.15679931640625,
          5.702343463897705,
          10.994887351989746,
          10.90410327911377,
          10.689436912536621,
          6.532637119293213,
          6.313645839691162,
          7.892316818237305,
          6.29433012008667,
          7.182311058044434,
          8.226284980773926,
          7.7318243980407715,
          6.148587226867676,
          9.333953857421875,
          7.478423118591309,
          5.853240489959717,
          5.8610758781433105,
          6.978713512420654,
          6.925992488861084,
          9.142516136169434,
          6.530348300933838,
          7.758472919464111,
          5.203567981719971,
          8.870146751403809,
          8.26795768737793,
          7.661167144775391,
          5.855138301849365,
          3.9424550533294678,
          7.412449359893799,
          6.530630588531494,
          9.991338729858398,
          8.537962913513184,
          5.22704553604126,
          6.250609397888184,
          10.296545028686523,
          9.066266059875488,
          9.022115707397461,
          6.496861934661865,
          8.640840530395508,
          7.617175102233887,
          7.493497371673584,
          6.104424476623535,
          7.461944580078125,
          8.285557746887207,
          4.706252574920654,
          8.825042724609375,
          5.101256847381592
         ],
         "yaxis": "y"
        }
       ],
       "layout": {
        "coloraxis": {
         "colorbar": {
          "title": {
           "text": "label"
          }
         },
         "colorscale": [
          [
           0,
           "rgb(255,0,0)"
          ],
          [
           1,
           "rgb(0,0,255)"
          ]
         ],
         "showscale": false
        },
        "height": 600,
        "legend": {
         "tracegroupgap": 0
        },
        "template": {
         "data": {
          "bar": [
           {
            "error_x": {
             "color": "rgb(51,51,51)"
            },
            "error_y": {
             "color": "rgb(51,51,51)"
            },
            "marker": {
             "line": {
              "color": "rgb(237,237,237)",
              "width": 0.5
             }
            },
            "type": "bar"
           }
          ],
          "barpolar": [
           {
            "marker": {
             "line": {
              "color": "rgb(237,237,237)",
              "width": 0.5
             }
            },
            "type": "barpolar"
           }
          ],
          "carpet": [
           {
            "aaxis": {
             "endlinecolor": "rgb(51,51,51)",
             "gridcolor": "white",
             "linecolor": "white",
             "minorgridcolor": "white",
             "startlinecolor": "rgb(51,51,51)"
            },
            "baxis": {
             "endlinecolor": "rgb(51,51,51)",
             "gridcolor": "white",
             "linecolor": "white",
             "minorgridcolor": "white",
             "startlinecolor": "rgb(51,51,51)"
            },
            "type": "carpet"
           }
          ],
          "choropleth": [
           {
            "colorbar": {
             "outlinewidth": 0,
             "tickcolor": "rgb(237,237,237)",
             "ticklen": 6,
             "ticks": "inside"
            },
            "type": "choropleth"
           }
          ],
          "contour": [
           {
            "colorbar": {
             "outlinewidth": 0,
             "tickcolor": "rgb(237,237,237)",
             "ticklen": 6,
             "ticks": "inside"
            },
            "colorscale": [
             [
              0,
              "rgb(20,44,66)"
             ],
             [
              1,
              "rgb(90,179,244)"
             ]
            ],
            "type": "contour"
           }
          ],
          "contourcarpet": [
           {
            "colorbar": {
             "outlinewidth": 0,
             "tickcolor": "rgb(237,237,237)",
             "ticklen": 6,
             "ticks": "inside"
            },
            "type": "contourcarpet"
           }
          ],
          "heatmap": [
           {
            "colorbar": {
             "outlinewidth": 0,
             "tickcolor": "rgb(237,237,237)",
             "ticklen": 6,
             "ticks": "inside"
            },
            "colorscale": [
             [
              0,
              "rgb(20,44,66)"
             ],
             [
              1,
              "rgb(90,179,244)"
             ]
            ],
            "type": "heatmap"
           }
          ],
          "heatmapgl": [
           {
            "colorbar": {
             "outlinewidth": 0,
             "tickcolor": "rgb(237,237,237)",
             "ticklen": 6,
             "ticks": "inside"
            },
            "colorscale": [
             [
              0,
              "rgb(20,44,66)"
             ],
             [
              1,
              "rgb(90,179,244)"
             ]
            ],
            "type": "heatmapgl"
           }
          ],
          "histogram": [
           {
            "marker": {
             "colorbar": {
              "outlinewidth": 0,
              "tickcolor": "rgb(237,237,237)",
              "ticklen": 6,
              "ticks": "inside"
             }
            },
            "type": "histogram"
           }
          ],
          "histogram2d": [
           {
            "colorbar": {
             "outlinewidth": 0,
             "tickcolor": "rgb(237,237,237)",
             "ticklen": 6,
             "ticks": "inside"
            },
            "colorscale": [
             [
              0,
              "rgb(20,44,66)"
             ],
             [
              1,
              "rgb(90,179,244)"
             ]
            ],
            "type": "histogram2d"
           }
          ],
          "histogram2dcontour": [
           {
            "colorbar": {
             "outlinewidth": 0,
             "tickcolor": "rgb(237,237,237)",
             "ticklen": 6,
             "ticks": "inside"
            },
            "colorscale": [
             [
              0,
              "rgb(20,44,66)"
             ],
             [
              1,
              "rgb(90,179,244)"
             ]
            ],
            "type": "histogram2dcontour"
           }
          ],
          "mesh3d": [
           {
            "colorbar": {
             "outlinewidth": 0,
             "tickcolor": "rgb(237,237,237)",
             "ticklen": 6,
             "ticks": "inside"
            },
            "type": "mesh3d"
           }
          ],
          "parcoords": [
           {
            "line": {
             "colorbar": {
              "outlinewidth": 0,
              "tickcolor": "rgb(237,237,237)",
              "ticklen": 6,
              "ticks": "inside"
             }
            },
            "type": "parcoords"
           }
          ],
          "pie": [
           {
            "automargin": true,
            "type": "pie"
           }
          ],
          "scatter": [
           {
            "marker": {
             "colorbar": {
              "outlinewidth": 0,
              "tickcolor": "rgb(237,237,237)",
              "ticklen": 6,
              "ticks": "inside"
             }
            },
            "type": "scatter"
           }
          ],
          "scatter3d": [
           {
            "line": {
             "colorbar": {
              "outlinewidth": 0,
              "tickcolor": "rgb(237,237,237)",
              "ticklen": 6,
              "ticks": "inside"
             }
            },
            "marker": {
             "colorbar": {
              "outlinewidth": 0,
              "tickcolor": "rgb(237,237,237)",
              "ticklen": 6,
              "ticks": "inside"
             }
            },
            "type": "scatter3d"
           }
          ],
          "scattercarpet": [
           {
            "marker": {
             "colorbar": {
              "outlinewidth": 0,
              "tickcolor": "rgb(237,237,237)",
              "ticklen": 6,
              "ticks": "inside"
             }
            },
            "type": "scattercarpet"
           }
          ],
          "scattergeo": [
           {
            "marker": {
             "colorbar": {
              "outlinewidth": 0,
              "tickcolor": "rgb(237,237,237)",
              "ticklen": 6,
              "ticks": "inside"
             }
            },
            "type": "scattergeo"
           }
          ],
          "scattergl": [
           {
            "marker": {
             "colorbar": {
              "outlinewidth": 0,
              "tickcolor": "rgb(237,237,237)",
              "ticklen": 6,
              "ticks": "inside"
             }
            },
            "type": "scattergl"
           }
          ],
          "scattermapbox": [
           {
            "marker": {
             "colorbar": {
              "outlinewidth": 0,
              "tickcolor": "rgb(237,237,237)",
              "ticklen": 6,
              "ticks": "inside"
             }
            },
            "type": "scattermapbox"
           }
          ],
          "scatterpolar": [
           {
            "marker": {
             "colorbar": {
              "outlinewidth": 0,
              "tickcolor": "rgb(237,237,237)",
              "ticklen": 6,
              "ticks": "inside"
             }
            },
            "type": "scatterpolar"
           }
          ],
          "scatterpolargl": [
           {
            "marker": {
             "colorbar": {
              "outlinewidth": 0,
              "tickcolor": "rgb(237,237,237)",
              "ticklen": 6,
              "ticks": "inside"
             }
            },
            "type": "scatterpolargl"
           }
          ],
          "scatterternary": [
           {
            "marker": {
             "colorbar": {
              "outlinewidth": 0,
              "tickcolor": "rgb(237,237,237)",
              "ticklen": 6,
              "ticks": "inside"
             }
            },
            "type": "scatterternary"
           }
          ],
          "surface": [
           {
            "colorbar": {
             "outlinewidth": 0,
             "tickcolor": "rgb(237,237,237)",
             "ticklen": 6,
             "ticks": "inside"
            },
            "colorscale": [
             [
              0,
              "rgb(20,44,66)"
             ],
             [
              1,
              "rgb(90,179,244)"
             ]
            ],
            "type": "surface"
           }
          ],
          "table": [
           {
            "cells": {
             "fill": {
              "color": "rgb(237,237,237)"
             },
             "line": {
              "color": "white"
             }
            },
            "header": {
             "fill": {
              "color": "rgb(217,217,217)"
             },
             "line": {
              "color": "white"
             }
            },
            "type": "table"
           }
          ]
         },
         "layout": {
          "annotationdefaults": {
           "arrowhead": 0,
           "arrowwidth": 1
          },
          "coloraxis": {
           "colorbar": {
            "outlinewidth": 0,
            "tickcolor": "rgb(237,237,237)",
            "ticklen": 6,
            "ticks": "inside"
           }
          },
          "colorscale": {
           "sequential": [
            [
             0,
             "rgb(20,44,66)"
            ],
            [
             1,
             "rgb(90,179,244)"
            ]
           ],
           "sequentialminus": [
            [
             0,
             "rgb(20,44,66)"
            ],
            [
             1,
             "rgb(90,179,244)"
            ]
           ]
          },
          "colorway": [
           "#F8766D",
           "#A3A500",
           "#00BF7D",
           "#00B0F6",
           "#E76BF3"
          ],
          "font": {
           "color": "rgb(51,51,51)"
          },
          "geo": {
           "bgcolor": "white",
           "lakecolor": "white",
           "landcolor": "rgb(237,237,237)",
           "showlakes": true,
           "showland": true,
           "subunitcolor": "white"
          },
          "hoverlabel": {
           "align": "left"
          },
          "hovermode": "closest",
          "paper_bgcolor": "white",
          "plot_bgcolor": "rgb(237,237,237)",
          "polar": {
           "angularaxis": {
            "gridcolor": "white",
            "linecolor": "white",
            "showgrid": true,
            "tickcolor": "rgb(51,51,51)",
            "ticks": "outside"
           },
           "bgcolor": "rgb(237,237,237)",
           "radialaxis": {
            "gridcolor": "white",
            "linecolor": "white",
            "showgrid": true,
            "tickcolor": "rgb(51,51,51)",
            "ticks": "outside"
           }
          },
          "scene": {
           "xaxis": {
            "backgroundcolor": "rgb(237,237,237)",
            "gridcolor": "white",
            "gridwidth": 2,
            "linecolor": "white",
            "showbackground": true,
            "showgrid": true,
            "tickcolor": "rgb(51,51,51)",
            "ticks": "outside",
            "zerolinecolor": "white"
           },
           "yaxis": {
            "backgroundcolor": "rgb(237,237,237)",
            "gridcolor": "white",
            "gridwidth": 2,
            "linecolor": "white",
            "showbackground": true,
            "showgrid": true,
            "tickcolor": "rgb(51,51,51)",
            "ticks": "outside",
            "zerolinecolor": "white"
           },
           "zaxis": {
            "backgroundcolor": "rgb(237,237,237)",
            "gridcolor": "white",
            "gridwidth": 2,
            "linecolor": "white",
            "showbackground": true,
            "showgrid": true,
            "tickcolor": "rgb(51,51,51)",
            "ticks": "outside",
            "zerolinecolor": "white"
           }
          },
          "shapedefaults": {
           "fillcolor": "black",
           "line": {
            "width": 0
           },
           "opacity": 0.3
          },
          "ternary": {
           "aaxis": {
            "gridcolor": "white",
            "linecolor": "white",
            "showgrid": true,
            "tickcolor": "rgb(51,51,51)",
            "ticks": "outside"
           },
           "baxis": {
            "gridcolor": "white",
            "linecolor": "white",
            "showgrid": true,
            "tickcolor": "rgb(51,51,51)",
            "ticks": "outside"
           },
           "bgcolor": "rgb(237,237,237)",
           "caxis": {
            "gridcolor": "white",
            "linecolor": "white",
            "showgrid": true,
            "tickcolor": "rgb(51,51,51)",
            "ticks": "outside"
           }
          },
          "xaxis": {
           "automargin": true,
           "gridcolor": "white",
           "linecolor": "white",
           "showgrid": true,
           "tickcolor": "rgb(51,51,51)",
           "ticks": "outside",
           "title": {
            "standoff": 15
           },
           "zerolinecolor": "white"
          },
          "yaxis": {
           "automargin": true,
           "gridcolor": "white",
           "linecolor": "white",
           "showgrid": true,
           "tickcolor": "rgb(51,51,51)",
           "ticks": "outside",
           "title": {
            "standoff": 15
           },
           "zerolinecolor": "white"
          }
         }
        },
        "title": {
         "text": "Solubility"
        },
        "width": 600,
        "xaxis": {
         "anchor": "y",
         "domain": [
          0,
          1
         ],
         "showticklabels": false,
         "title": {
          "text": "x"
         }
        },
        "yaxis": {
         "anchor": "x",
         "domain": [
          0,
          1
         ],
         "showticklabels": false,
         "title": {
          "text": "y"
         }
        }
       }
      },
      "text/html": [
       "<div>\n",
       "        \n",
       "        \n",
       "            <div id=\"670b6272-dcb5-4c09-9ffe-275322a1b724\" class=\"plotly-graph-div\" style=\"height:600px; width:600px;\"></div>\n",
       "            <script type=\"text/javascript\">\n",
       "                require([\"plotly\"], function(Plotly) {\n",
       "                    window.PLOTLYENV=window.PLOTLYENV || {};\n",
       "                    \n",
       "                if (document.getElementById(\"670b6272-dcb5-4c09-9ffe-275322a1b724\")) {\n",
       "                    Plotly.newPlot(\n",
       "                        '670b6272-dcb5-4c09-9ffe-275322a1b724',\n",
       "                        [{\"hovertemplate\": \"<b>%{hovertext}</b><br><br>x=%{x}<br>y=%{y}<br>label=%{marker.color}<extra></extra>\", \"hovertext\": [0.0, 1.0, 2.0, 3.0, 4.0, 5.0, 6.0, 7.0, 8.0, 9.0, 10.0, 11.0, 12.0, 13.0, 14.0, 15.0, 16.0, 17.0, 18.0, 19.0, 20.0, 21.0, 22.0, 23.0, 24.0, 25.0, 26.0, 27.0, 28.0, 29.0, 30.0, 31.0, 32.0, 33.0, 34.0, 35.0, 36.0, 37.0, 38.0, 39.0, 40.0, 41.0, 42.0, 43.0, 44.0, 45.0, 46.0, 47.0, 48.0, 49.0, 50.0, 51.0, 52.0, 53.0, 54.0, 55.0, 56.0, 57.0, 58.0, 59.0, 60.0, 61.0, 62.0, 63.0, 64.0, 65.0, 66.0, 67.0, 68.0, 69.0, 70.0, 71.0, 72.0, 73.0, 74.0, 75.0, 76.0, 77.0, 78.0, 79.0, 80.0, 81.0, 82.0, 83.0, 84.0, 85.0, 86.0, 87.0, 88.0, 89.0, 90.0, 91.0, 92.0, 93.0, 94.0, 95.0, 96.0, 97.0, 98.0, 99.0, 100.0, 101.0, 102.0, 103.0, 104.0, 105.0, 106.0, 107.0, 108.0, 109.0, 110.0, 111.0, 112.0, 113.0, 114.0, 115.0, 116.0, 117.0, 118.0, 119.0, 120.0, 121.0, 122.0, 123.0, 124.0, 125.0, 126.0, 127.0, 128.0, 129.0, 130.0, 131.0, 132.0, 133.0, 134.0, 135.0, 136.0, 137.0, 138.0, 139.0, 140.0, 141.0, 142.0, 143.0, 144.0, 145.0, 146.0, 147.0, 148.0, 149.0], \"legendgroup\": \"\", \"marker\": {\"color\": [0, 1, 0, 1, 0, 0, 1, 1, 1, 0, 1, 0, 1, 0, 1, 1, 0, 0, 1, 0, 0, 1, 0, 1, 1, 0, 1, 0, 0, 1, 1, 0, 1, 1, 0, 0, 1, 1, 0, 0, 1, 0, 0, 0, 1, 1, 0, 0, 1, 0, 1, 1, 1, 1, 0, 1, 0, 1, 0, 1, 0, 0, 0, 1, 0, 0, 0, 0, 0, 1, 0, 0, 1, 0, 0, 1, 0, 1, 1, 1, 1, 0, 0, 0, 0, 1, 0, 0, 0, 0, 1, 0, 0, 1, 1, 0, 1, 1, 0, 0, 1, 0, 1, 1, 1, 0, 0, 0, 1, 1, 0, 1, 0, 1, 1, 1, 0, 0, 1, 0, 1, 1, 1, 0, 1, 1, 1, 1, 0, 0, 0, 0, 1, 1, 0, 1, 1, 1, 1, 0, 0, 0, 1, 0, 1, 1, 0, 0, 1, 0], \"coloraxis\": \"coloraxis\", \"symbol\": \"circle\"}, \"mode\": \"markers\", \"name\": \"\", \"orientation\": \"v\", \"showlegend\": false, \"type\": \"scatter\", \"x\": [7.643780708312988, 5.133571624755859, 3.7244796752929688, 7.1873860359191895, 4.632745742797852, 7.28856086730957, 5.286683559417725, 3.680694818496704, 4.614442825317383, 8.416021347045898, 5.860500335693359, 5.851658344268799, 6.404038429260254, 3.285520315170288, 5.516180515289307, 5.783537864685059, 7.994197368621826, 8.29388427734375, 5.390532970428467, 6.485485076904297, 8.211220741271973, 4.347725868225098, 5.68612003326416, 6.688225269317627, 7.984598636627197, 3.204061508178711, 8.31500244140625, 5.199348449707031, 8.295026779174805, 4.0563836097717285, 6.52409029006958, 6.860975742340088, 4.090184688568115, 4.715365409851074, 8.525574684143066, 8.172706604003906, 5.48736047744751, 5.985110759735107, 6.910708427429199, 6.73818302154541, 6.672435760498047, 6.472210884094238, 6.242998123168945, 3.4363832473754883, 7.045407295227051, 4.187466621398926, 6.208161354064941, 6.405094623565674, 3.4070677757263184, 8.318142890930176, 4.615182876586914, 6.076003074645996, 6.154932022094727, 6.285739421844482, 8.031573295593262, 7.063686370849609, 5.831625461578369, 6.400236129760742, 5.506438255310059, 4.4657392501831055, 7.087372303009033, 6.645353317260742, 7.340743541717529, 7.50227689743042, 7.4611592292785645, 6.828480243682861, 8.095641136169434, 8.084620475769043, 6.516854286193848, 3.387507915496826, 4.2939043045043945, 4.666686534881592, 7.723659992218018, 5.795953750610352, 5.57216739654541, 5.657687187194824, 5.163865089416504, 4.560786724090576, 5.6116414070129395, 5.130675792694092, 3.823133707046509, 6.469683647155762, 5.065606117248535, 5.0360260009765625, 4.840859413146973, 4.192978382110596, 6.058587551116943, 6.1108622550964355, 7.229223728179932, 4.110299587249756, 5.89780330657959, 7.1887617111206055, 6.978750705718994, 6.493810176849365, 4.0561370849609375, 5.328409194946289, 5.8283562660217285, 6.0484819412231445, 5.792555332183838, 6.109803199768066, 4.982741355895996, 6.108957767486572, 7.839382648468018, 6.924191474914551, 6.871816635131836, 4.913149833679199, 4.475570201873779, 6.198592662811279, 7.065699100494385, 7.850106716156006, 4.946223735809326, 6.06643009185791, 5.355745792388916, 4.94775390625, 8.551715850830078, 5.098859786987305, 7.482100486755371, 6.0129594802856445, 4.8438401222229, 6.667425632476807, 7.363417148590088, 6.113086223602295, 8.003241539001465, 6.1498188972473145, 7.5474653244018555, 5.530176639556885, 4.520785808563232, 5.782560348510742, 7.340851783752441, 6.54787015914917, 4.910836219787598, 6.580106258392334, 6.354297161102295, 4.584405899047852, 5.628582954406738, 5.013986110687256, 4.503866195678711, 5.284488677978516, 3.8377578258514404, 3.9116623401641846, 5.60945987701416, 5.114466667175293, 6.205387592315674, 3.8543801307678223, 5.768120288848877, 4.411924839019775, 7.461437702178955, 5.5631208419799805, 6.950931549072266, 7.943543910980225], \"xaxis\": \"x\", \"y\": [5.394851207733154, 5.1455278396606445, 5.617867946624756, 8.579195976257324, 7.254030704498291, 6.791728973388672, 9.313499450683594, 8.844606399536133, 5.5544114112854, 8.881767272949219, 8.117050170898438, 8.875432968139648, 5.293790340423584, 8.540863990783691, 5.543654918670654, 4.959008693695068, 5.690351963043213, 7.321478843688965, 5.799806118011475, 7.874561786651611, 7.348955154418945, 4.721886157989502, 4.8151655197143555, 4.858567714691162, 6.185815811157227, 8.036932945251465, 4.822500228881836, 7.1469316482543945, 8.499003410339355, 6.635211944580078, 6.603517532348633, 6.216855049133301, 5.457277297973633, 4.688868522644043, 5.849669456481934, 6.993887424468994, 11.157578468322754, 3.543252944946289, 6.078458309173584, 8.41635513305664, 6.741086006164551, 9.645450592041016, 5.982147216796875, 6.630303859710693, 7.387868881225586, 10.004280090332031, 9.077970504760742, 5.528350830078125, 6.949992656707764, 6.55711555480957, 10.690204620361328, 4.371341705322266, 5.060770034790039, 8.548055648803711, 6.4913177490234375, 8.17584228515625, 7.393477916717529, 4.3939080238342285, 6.645320892333984, 8.459870338439941, 6.728672981262207, 10.501533508300781, 5.1208391189575195, 5.875294208526611, 4.546860218048096, 9.975625038146973, 5.03172492980957, 8.290299415588379, 7.650300979614258, 7.79544734954834, 7.87256383895874, 6.732448577880859, 6.920703887939453, 5.38047456741333, 3.6271986961364746, 7.322109699249268, 6.773336410522461, 6.215221405029297, 6.346889495849609, 8.524617195129395, 7.926701068878174, 3.9135148525238037, 7.673461437225342, 6.917928695678711, 9.395092964172363, 9.077335357666016, 10.432120323181152, 8.380514144897461, 4.8159332275390625, 5.879714488983154, 3.899188995361328, 5.445131778717041, 5.135373115539551, 6.850344181060791, 7.269202709197998, 4.181204319000244, 6.04370641708374, 5.889463424682617, 7.682220458984375, 9.261724472045898, 10.648021697998047, 4.679269790649414, 7.710697650909424, 10.15679931640625, 5.702343463897705, 10.994887351989746, 10.90410327911377, 10.689436912536621, 6.532637119293213, 6.313645839691162, 7.892316818237305, 6.29433012008667, 7.182311058044434, 8.226284980773926, 7.7318243980407715, 6.148587226867676, 9.333953857421875, 7.478423118591309, 5.853240489959717, 5.8610758781433105, 6.978713512420654, 6.925992488861084, 9.142516136169434, 6.530348300933838, 7.758472919464111, 5.203567981719971, 8.870146751403809, 8.26795768737793, 7.661167144775391, 5.855138301849365, 3.9424550533294678, 7.412449359893799, 6.530630588531494, 9.991338729858398, 8.537962913513184, 5.22704553604126, 6.250609397888184, 10.296545028686523, 9.066266059875488, 9.022115707397461, 6.496861934661865, 8.640840530395508, 7.617175102233887, 7.493497371673584, 6.104424476623535, 7.461944580078125, 8.285557746887207, 4.706252574920654, 8.825042724609375, 5.101256847381592], \"yaxis\": \"y\"}],\n",
       "                        {\"coloraxis\": {\"colorbar\": {\"title\": {\"text\": \"label\"}}, \"colorscale\": [[0.0, \"rgb(255,0,0)\"], [1.0, \"rgb(0,0,255)\"]], \"showscale\": false}, \"height\": 600, \"legend\": {\"tracegroupgap\": 0}, \"template\": {\"data\": {\"bar\": [{\"error_x\": {\"color\": \"rgb(51,51,51)\"}, \"error_y\": {\"color\": \"rgb(51,51,51)\"}, \"marker\": {\"line\": {\"color\": \"rgb(237,237,237)\", \"width\": 0.5}}, \"type\": \"bar\"}], \"barpolar\": [{\"marker\": {\"line\": {\"color\": \"rgb(237,237,237)\", \"width\": 0.5}}, \"type\": \"barpolar\"}], \"carpet\": [{\"aaxis\": {\"endlinecolor\": \"rgb(51,51,51)\", \"gridcolor\": \"white\", \"linecolor\": \"white\", \"minorgridcolor\": \"white\", \"startlinecolor\": \"rgb(51,51,51)\"}, \"baxis\": {\"endlinecolor\": \"rgb(51,51,51)\", \"gridcolor\": \"white\", \"linecolor\": \"white\", \"minorgridcolor\": \"white\", \"startlinecolor\": \"rgb(51,51,51)\"}, \"type\": \"carpet\"}], \"choropleth\": [{\"colorbar\": {\"outlinewidth\": 0, \"tickcolor\": \"rgb(237,237,237)\", \"ticklen\": 6, \"ticks\": \"inside\"}, \"type\": \"choropleth\"}], \"contour\": [{\"colorbar\": {\"outlinewidth\": 0, \"tickcolor\": \"rgb(237,237,237)\", \"ticklen\": 6, \"ticks\": \"inside\"}, \"colorscale\": [[0, \"rgb(20,44,66)\"], [1, \"rgb(90,179,244)\"]], \"type\": \"contour\"}], \"contourcarpet\": [{\"colorbar\": {\"outlinewidth\": 0, \"tickcolor\": \"rgb(237,237,237)\", \"ticklen\": 6, \"ticks\": \"inside\"}, \"type\": \"contourcarpet\"}], \"heatmap\": [{\"colorbar\": {\"outlinewidth\": 0, \"tickcolor\": \"rgb(237,237,237)\", \"ticklen\": 6, \"ticks\": \"inside\"}, \"colorscale\": [[0, \"rgb(20,44,66)\"], [1, \"rgb(90,179,244)\"]], \"type\": \"heatmap\"}], \"heatmapgl\": [{\"colorbar\": {\"outlinewidth\": 0, \"tickcolor\": \"rgb(237,237,237)\", \"ticklen\": 6, \"ticks\": \"inside\"}, \"colorscale\": [[0, \"rgb(20,44,66)\"], [1, \"rgb(90,179,244)\"]], \"type\": \"heatmapgl\"}], \"histogram\": [{\"marker\": {\"colorbar\": {\"outlinewidth\": 0, \"tickcolor\": \"rgb(237,237,237)\", \"ticklen\": 6, \"ticks\": \"inside\"}}, \"type\": \"histogram\"}], \"histogram2d\": [{\"colorbar\": {\"outlinewidth\": 0, \"tickcolor\": \"rgb(237,237,237)\", \"ticklen\": 6, \"ticks\": \"inside\"}, \"colorscale\": [[0, \"rgb(20,44,66)\"], [1, \"rgb(90,179,244)\"]], \"type\": \"histogram2d\"}], \"histogram2dcontour\": [{\"colorbar\": {\"outlinewidth\": 0, \"tickcolor\": \"rgb(237,237,237)\", \"ticklen\": 6, \"ticks\": \"inside\"}, \"colorscale\": [[0, \"rgb(20,44,66)\"], [1, \"rgb(90,179,244)\"]], \"type\": \"histogram2dcontour\"}], \"mesh3d\": [{\"colorbar\": {\"outlinewidth\": 0, \"tickcolor\": \"rgb(237,237,237)\", \"ticklen\": 6, \"ticks\": \"inside\"}, \"type\": \"mesh3d\"}], \"parcoords\": [{\"line\": {\"colorbar\": {\"outlinewidth\": 0, \"tickcolor\": \"rgb(237,237,237)\", \"ticklen\": 6, \"ticks\": \"inside\"}}, \"type\": \"parcoords\"}], \"pie\": [{\"automargin\": true, \"type\": \"pie\"}], \"scatter\": [{\"marker\": {\"colorbar\": {\"outlinewidth\": 0, \"tickcolor\": \"rgb(237,237,237)\", \"ticklen\": 6, \"ticks\": \"inside\"}}, \"type\": \"scatter\"}], \"scatter3d\": [{\"line\": {\"colorbar\": {\"outlinewidth\": 0, \"tickcolor\": \"rgb(237,237,237)\", \"ticklen\": 6, \"ticks\": \"inside\"}}, \"marker\": {\"colorbar\": {\"outlinewidth\": 0, \"tickcolor\": \"rgb(237,237,237)\", \"ticklen\": 6, \"ticks\": \"inside\"}}, \"type\": \"scatter3d\"}], \"scattercarpet\": [{\"marker\": {\"colorbar\": {\"outlinewidth\": 0, \"tickcolor\": \"rgb(237,237,237)\", \"ticklen\": 6, \"ticks\": \"inside\"}}, \"type\": \"scattercarpet\"}], \"scattergeo\": [{\"marker\": {\"colorbar\": {\"outlinewidth\": 0, \"tickcolor\": \"rgb(237,237,237)\", \"ticklen\": 6, \"ticks\": \"inside\"}}, \"type\": \"scattergeo\"}], \"scattergl\": [{\"marker\": {\"colorbar\": {\"outlinewidth\": 0, \"tickcolor\": \"rgb(237,237,237)\", \"ticklen\": 6, \"ticks\": \"inside\"}}, \"type\": \"scattergl\"}], \"scattermapbox\": [{\"marker\": {\"colorbar\": {\"outlinewidth\": 0, \"tickcolor\": \"rgb(237,237,237)\", \"ticklen\": 6, \"ticks\": \"inside\"}}, \"type\": \"scattermapbox\"}], \"scatterpolar\": [{\"marker\": {\"colorbar\": {\"outlinewidth\": 0, \"tickcolor\": \"rgb(237,237,237)\", \"ticklen\": 6, \"ticks\": \"inside\"}}, \"type\": \"scatterpolar\"}], \"scatterpolargl\": [{\"marker\": {\"colorbar\": {\"outlinewidth\": 0, \"tickcolor\": \"rgb(237,237,237)\", \"ticklen\": 6, \"ticks\": \"inside\"}}, \"type\": \"scatterpolargl\"}], \"scatterternary\": [{\"marker\": {\"colorbar\": {\"outlinewidth\": 0, \"tickcolor\": \"rgb(237,237,237)\", \"ticklen\": 6, \"ticks\": \"inside\"}}, \"type\": \"scatterternary\"}], \"surface\": [{\"colorbar\": {\"outlinewidth\": 0, \"tickcolor\": \"rgb(237,237,237)\", \"ticklen\": 6, \"ticks\": \"inside\"}, \"colorscale\": [[0, \"rgb(20,44,66)\"], [1, \"rgb(90,179,244)\"]], \"type\": \"surface\"}], \"table\": [{\"cells\": {\"fill\": {\"color\": \"rgb(237,237,237)\"}, \"line\": {\"color\": \"white\"}}, \"header\": {\"fill\": {\"color\": \"rgb(217,217,217)\"}, \"line\": {\"color\": \"white\"}}, \"type\": \"table\"}]}, \"layout\": {\"annotationdefaults\": {\"arrowhead\": 0, \"arrowwidth\": 1}, \"coloraxis\": {\"colorbar\": {\"outlinewidth\": 0, \"tickcolor\": \"rgb(237,237,237)\", \"ticklen\": 6, \"ticks\": \"inside\"}}, \"colorscale\": {\"sequential\": [[0, \"rgb(20,44,66)\"], [1, \"rgb(90,179,244)\"]], \"sequentialminus\": [[0, \"rgb(20,44,66)\"], [1, \"rgb(90,179,244)\"]]}, \"colorway\": [\"#F8766D\", \"#A3A500\", \"#00BF7D\", \"#00B0F6\", \"#E76BF3\"], \"font\": {\"color\": \"rgb(51,51,51)\"}, \"geo\": {\"bgcolor\": \"white\", \"lakecolor\": \"white\", \"landcolor\": \"rgb(237,237,237)\", \"showlakes\": true, \"showland\": true, \"subunitcolor\": \"white\"}, \"hoverlabel\": {\"align\": \"left\"}, \"hovermode\": \"closest\", \"paper_bgcolor\": \"white\", \"plot_bgcolor\": \"rgb(237,237,237)\", \"polar\": {\"angularaxis\": {\"gridcolor\": \"white\", \"linecolor\": \"white\", \"showgrid\": true, \"tickcolor\": \"rgb(51,51,51)\", \"ticks\": \"outside\"}, \"bgcolor\": \"rgb(237,237,237)\", \"radialaxis\": {\"gridcolor\": \"white\", \"linecolor\": \"white\", \"showgrid\": true, \"tickcolor\": \"rgb(51,51,51)\", \"ticks\": \"outside\"}}, \"scene\": {\"xaxis\": {\"backgroundcolor\": \"rgb(237,237,237)\", \"gridcolor\": \"white\", \"gridwidth\": 2, \"linecolor\": \"white\", \"showbackground\": true, \"showgrid\": true, \"tickcolor\": \"rgb(51,51,51)\", \"ticks\": \"outside\", \"zerolinecolor\": \"white\"}, \"yaxis\": {\"backgroundcolor\": \"rgb(237,237,237)\", \"gridcolor\": \"white\", \"gridwidth\": 2, \"linecolor\": \"white\", \"showbackground\": true, \"showgrid\": true, \"tickcolor\": \"rgb(51,51,51)\", \"ticks\": \"outside\", \"zerolinecolor\": \"white\"}, \"zaxis\": {\"backgroundcolor\": \"rgb(237,237,237)\", \"gridcolor\": \"white\", \"gridwidth\": 2, \"linecolor\": \"white\", \"showbackground\": true, \"showgrid\": true, \"tickcolor\": \"rgb(51,51,51)\", \"ticks\": \"outside\", \"zerolinecolor\": \"white\"}}, \"shapedefaults\": {\"fillcolor\": \"black\", \"line\": {\"width\": 0}, \"opacity\": 0.3}, \"ternary\": {\"aaxis\": {\"gridcolor\": \"white\", \"linecolor\": \"white\", \"showgrid\": true, \"tickcolor\": \"rgb(51,51,51)\", \"ticks\": \"outside\"}, \"baxis\": {\"gridcolor\": \"white\", \"linecolor\": \"white\", \"showgrid\": true, \"tickcolor\": \"rgb(51,51,51)\", \"ticks\": \"outside\"}, \"bgcolor\": \"rgb(237,237,237)\", \"caxis\": {\"gridcolor\": \"white\", \"linecolor\": \"white\", \"showgrid\": true, \"tickcolor\": \"rgb(51,51,51)\", \"ticks\": \"outside\"}}, \"xaxis\": {\"automargin\": true, \"gridcolor\": \"white\", \"linecolor\": \"white\", \"showgrid\": true, \"tickcolor\": \"rgb(51,51,51)\", \"ticks\": \"outside\", \"title\": {\"standoff\": 15}, \"zerolinecolor\": \"white\"}, \"yaxis\": {\"automargin\": true, \"gridcolor\": \"white\", \"linecolor\": \"white\", \"showgrid\": true, \"tickcolor\": \"rgb(51,51,51)\", \"ticks\": \"outside\", \"title\": {\"standoff\": 15}, \"zerolinecolor\": \"white\"}}}, \"title\": {\"text\": \"Solubility\"}, \"width\": 600, \"xaxis\": {\"anchor\": \"y\", \"domain\": [0.0, 1.0], \"showticklabels\": false, \"title\": {\"text\": \"x\"}}, \"yaxis\": {\"anchor\": \"x\", \"domain\": [0.0, 1.0], \"showticklabels\": false, \"title\": {\"text\": \"y\"}}},\n",
       "                        {\"responsive\": true}\n",
       "                    ).then(function(){\n",
       "                            \n",
       "var gd = document.getElementById('670b6272-dcb5-4c09-9ffe-275322a1b724');\n",
       "var x = new MutationObserver(function (mutations, observer) {{\n",
       "        var display = window.getComputedStyle(gd).display;\n",
       "        if (!display || display === 'none') {{\n",
       "            console.log([gd, 'removed!']);\n",
       "            Plotly.purge(gd);\n",
       "            observer.disconnect();\n",
       "        }}\n",
       "}});\n",
       "\n",
       "// Listen for the removal of the full notebook cells\n",
       "var notebookContainer = gd.closest('#notebook-container');\n",
       "if (notebookContainer) {{\n",
       "    x.observe(notebookContainer, {childList: true});\n",
       "}}\n",
       "\n",
       "// Listen for the clearing of the current output cell\n",
       "var outputEl = gd.closest('.output');\n",
       "if (outputEl) {{\n",
       "    x.observe(outputEl, {childList: true});\n",
       "}}\n",
       "\n",
       "                        })\n",
       "                };\n",
       "                });\n",
       "            </script>\n",
       "        </div>"
      ]
     },
     "metadata": {},
     "output_type": "display_data"
    }
   ],
   "source": [
    "solubility = temp_plot_input\n",
    "solubility['label'] = df['binary_solubility']\n",
    "solubility_plot = render_2D_scatter_plotly(solubility, title='Solubility')\n",
    "solubility_plot"
   ]
  },
  {
   "cell_type": "markdown",
   "metadata": {},
   "source": [
    "#### Surface area"
   ]
  },
  {
   "cell_type": "code",
   "execution_count": 34,
   "metadata": {},
   "outputs": [
    {
     "data": {
      "application/vnd.plotly.v1+json": {
       "config": {
        "plotlyServerURL": "https://plot.ly"
       },
       "data": [
        {
         "hovertemplate": "<b>%{hovertext}</b><br><br>x=%{x}<br>y=%{y}<br>label=%{marker.color}<extra></extra>",
         "hovertext": [
          0,
          1,
          2,
          3,
          4,
          5,
          6,
          7,
          8,
          9,
          10,
          11,
          12,
          13,
          14,
          15,
          16,
          17,
          18,
          19,
          20,
          21,
          22,
          23,
          24,
          25,
          26,
          27,
          28,
          29,
          30,
          31,
          32,
          33,
          34,
          35,
          36,
          37,
          38,
          39,
          40,
          41,
          42,
          43,
          44,
          45,
          46,
          47,
          48,
          49,
          50,
          51,
          52,
          53,
          54,
          55,
          56,
          57,
          58,
          59,
          60,
          61,
          62,
          63,
          64,
          65,
          66,
          67,
          68,
          69,
          70,
          71,
          72,
          73,
          74,
          75,
          76,
          77,
          78,
          79,
          80,
          81,
          82,
          83,
          84,
          85,
          86,
          87,
          88,
          89,
          90,
          91,
          92,
          93,
          94,
          95,
          96,
          97,
          98,
          99,
          100,
          101,
          102,
          103,
          104,
          105,
          106,
          107,
          108,
          109,
          110,
          111,
          112,
          113,
          114,
          115,
          116,
          117,
          118,
          119,
          120,
          121,
          122,
          123,
          124,
          125,
          126,
          127,
          128,
          129,
          130,
          131,
          132,
          133,
          134,
          135,
          136,
          137,
          138,
          139,
          140,
          141,
          142,
          143,
          144,
          145,
          146,
          147,
          148,
          149
         ],
         "legendgroup": "",
         "marker": {
          "color": [
           1,
           0,
           1,
           1,
           1,
           1,
           0,
           0,
           0,
           1,
           0,
           1,
           0,
           1,
           0,
           1,
           0,
           0,
           1,
           1,
           1,
           1,
           1,
           1,
           1,
           1,
           0,
           0,
           1,
           1,
           1,
           1,
           0,
           1,
           1,
           1,
           0,
           0,
           1,
           1,
           0,
           1,
           1,
           0,
           0,
           0,
           0,
           1,
           0,
           1,
           0,
           0,
           0,
           0,
           1,
           0,
           1,
           0,
           1,
           0,
           1,
           1,
           1,
           1,
           0,
           1,
           0,
           1,
           1,
           0,
           1,
           0,
           0,
           1,
           1,
           0,
           1,
           0,
           0,
           0,
           0,
           1,
           1,
           0,
           1,
           0,
           1,
           1,
           1,
           1,
           0,
           0,
           1,
           1,
           0,
           1,
           1,
           0,
           1,
           0,
           0,
           1,
           0,
           1,
           0,
           1,
           0,
           0,
           1,
           0,
           1,
           0,
           0,
           0,
           0,
           1,
           1,
           1,
           1,
           1,
           0,
           0,
           0,
           0,
           0,
           0,
           0,
           0,
           1,
           0,
           1,
           0,
           1,
           0,
           1,
           0,
           0,
           0,
           0,
           1,
           1,
           1,
           1,
           0,
           0,
           0,
           1,
           1,
           1,
           1
          ],
          "coloraxis": "coloraxis",
          "symbol": "circle"
         },
         "mode": "markers",
         "name": "",
         "orientation": "v",
         "showlegend": false,
         "type": "scatter",
         "x": [
          7.643780708312988,
          5.133571624755859,
          3.7244796752929688,
          7.1873860359191895,
          4.632745742797852,
          7.28856086730957,
          5.286683559417725,
          3.680694818496704,
          4.614442825317383,
          8.416021347045898,
          5.860500335693359,
          5.851658344268799,
          6.404038429260254,
          3.285520315170288,
          5.516180515289307,
          5.783537864685059,
          7.994197368621826,
          8.29388427734375,
          5.390532970428467,
          6.485485076904297,
          8.211220741271973,
          4.347725868225098,
          5.68612003326416,
          6.688225269317627,
          7.984598636627197,
          3.204061508178711,
          8.31500244140625,
          5.199348449707031,
          8.295026779174805,
          4.0563836097717285,
          6.52409029006958,
          6.860975742340088,
          4.090184688568115,
          4.715365409851074,
          8.525574684143066,
          8.172706604003906,
          5.48736047744751,
          5.985110759735107,
          6.910708427429199,
          6.73818302154541,
          6.672435760498047,
          6.472210884094238,
          6.242998123168945,
          3.4363832473754883,
          7.045407295227051,
          4.187466621398926,
          6.208161354064941,
          6.405094623565674,
          3.4070677757263184,
          8.318142890930176,
          4.615182876586914,
          6.076003074645996,
          6.154932022094727,
          6.285739421844482,
          8.031573295593262,
          7.063686370849609,
          5.831625461578369,
          6.400236129760742,
          5.506438255310059,
          4.4657392501831055,
          7.087372303009033,
          6.645353317260742,
          7.340743541717529,
          7.50227689743042,
          7.4611592292785645,
          6.828480243682861,
          8.095641136169434,
          8.084620475769043,
          6.516854286193848,
          3.387507915496826,
          4.2939043045043945,
          4.666686534881592,
          7.723659992218018,
          5.795953750610352,
          5.57216739654541,
          5.657687187194824,
          5.163865089416504,
          4.560786724090576,
          5.6116414070129395,
          5.130675792694092,
          3.823133707046509,
          6.469683647155762,
          5.065606117248535,
          5.0360260009765625,
          4.840859413146973,
          4.192978382110596,
          6.058587551116943,
          6.1108622550964355,
          7.229223728179932,
          4.110299587249756,
          5.89780330657959,
          7.1887617111206055,
          6.978750705718994,
          6.493810176849365,
          4.0561370849609375,
          5.328409194946289,
          5.8283562660217285,
          6.0484819412231445,
          5.792555332183838,
          6.109803199768066,
          4.982741355895996,
          6.108957767486572,
          7.839382648468018,
          6.924191474914551,
          6.871816635131836,
          4.913149833679199,
          4.475570201873779,
          6.198592662811279,
          7.065699100494385,
          7.850106716156006,
          4.946223735809326,
          6.06643009185791,
          5.355745792388916,
          4.94775390625,
          8.551715850830078,
          5.098859786987305,
          7.482100486755371,
          6.0129594802856445,
          4.8438401222229,
          6.667425632476807,
          7.363417148590088,
          6.113086223602295,
          8.003241539001465,
          6.1498188972473145,
          7.5474653244018555,
          5.530176639556885,
          4.520785808563232,
          5.782560348510742,
          7.340851783752441,
          6.54787015914917,
          4.910836219787598,
          6.580106258392334,
          6.354297161102295,
          4.584405899047852,
          5.628582954406738,
          5.013986110687256,
          4.503866195678711,
          5.284488677978516,
          3.8377578258514404,
          3.9116623401641846,
          5.60945987701416,
          5.114466667175293,
          6.205387592315674,
          3.8543801307678223,
          5.768120288848877,
          4.411924839019775,
          7.461437702178955,
          5.5631208419799805,
          6.950931549072266,
          7.943543910980225
         ],
         "xaxis": "x",
         "y": [
          5.394851207733154,
          5.1455278396606445,
          5.617867946624756,
          8.579195976257324,
          7.254030704498291,
          6.791728973388672,
          9.313499450683594,
          8.844606399536133,
          5.5544114112854,
          8.881767272949219,
          8.117050170898438,
          8.875432968139648,
          5.293790340423584,
          8.540863990783691,
          5.543654918670654,
          4.959008693695068,
          5.690351963043213,
          7.321478843688965,
          5.799806118011475,
          7.874561786651611,
          7.348955154418945,
          4.721886157989502,
          4.8151655197143555,
          4.858567714691162,
          6.185815811157227,
          8.036932945251465,
          4.822500228881836,
          7.1469316482543945,
          8.499003410339355,
          6.635211944580078,
          6.603517532348633,
          6.216855049133301,
          5.457277297973633,
          4.688868522644043,
          5.849669456481934,
          6.993887424468994,
          11.157578468322754,
          3.543252944946289,
          6.078458309173584,
          8.41635513305664,
          6.741086006164551,
          9.645450592041016,
          5.982147216796875,
          6.630303859710693,
          7.387868881225586,
          10.004280090332031,
          9.077970504760742,
          5.528350830078125,
          6.949992656707764,
          6.55711555480957,
          10.690204620361328,
          4.371341705322266,
          5.060770034790039,
          8.548055648803711,
          6.4913177490234375,
          8.17584228515625,
          7.393477916717529,
          4.3939080238342285,
          6.645320892333984,
          8.459870338439941,
          6.728672981262207,
          10.501533508300781,
          5.1208391189575195,
          5.875294208526611,
          4.546860218048096,
          9.975625038146973,
          5.03172492980957,
          8.290299415588379,
          7.650300979614258,
          7.79544734954834,
          7.87256383895874,
          6.732448577880859,
          6.920703887939453,
          5.38047456741333,
          3.6271986961364746,
          7.322109699249268,
          6.773336410522461,
          6.215221405029297,
          6.346889495849609,
          8.524617195129395,
          7.926701068878174,
          3.9135148525238037,
          7.673461437225342,
          6.917928695678711,
          9.395092964172363,
          9.077335357666016,
          10.432120323181152,
          8.380514144897461,
          4.8159332275390625,
          5.879714488983154,
          3.899188995361328,
          5.445131778717041,
          5.135373115539551,
          6.850344181060791,
          7.269202709197998,
          4.181204319000244,
          6.04370641708374,
          5.889463424682617,
          7.682220458984375,
          9.261724472045898,
          10.648021697998047,
          4.679269790649414,
          7.710697650909424,
          10.15679931640625,
          5.702343463897705,
          10.994887351989746,
          10.90410327911377,
          10.689436912536621,
          6.532637119293213,
          6.313645839691162,
          7.892316818237305,
          6.29433012008667,
          7.182311058044434,
          8.226284980773926,
          7.7318243980407715,
          6.148587226867676,
          9.333953857421875,
          7.478423118591309,
          5.853240489959717,
          5.8610758781433105,
          6.978713512420654,
          6.925992488861084,
          9.142516136169434,
          6.530348300933838,
          7.758472919464111,
          5.203567981719971,
          8.870146751403809,
          8.26795768737793,
          7.661167144775391,
          5.855138301849365,
          3.9424550533294678,
          7.412449359893799,
          6.530630588531494,
          9.991338729858398,
          8.537962913513184,
          5.22704553604126,
          6.250609397888184,
          10.296545028686523,
          9.066266059875488,
          9.022115707397461,
          6.496861934661865,
          8.640840530395508,
          7.617175102233887,
          7.493497371673584,
          6.104424476623535,
          7.461944580078125,
          8.285557746887207,
          4.706252574920654,
          8.825042724609375,
          5.101256847381592
         ],
         "yaxis": "y"
        }
       ],
       "layout": {
        "coloraxis": {
         "colorbar": {
          "title": {
           "text": "label"
          }
         },
         "colorscale": [
          [
           0,
           "rgb(255,0,0)"
          ],
          [
           1,
           "rgb(0,0,255)"
          ]
         ],
         "showscale": false
        },
        "height": 600,
        "legend": {
         "tracegroupgap": 0
        },
        "template": {
         "data": {
          "bar": [
           {
            "error_x": {
             "color": "rgb(51,51,51)"
            },
            "error_y": {
             "color": "rgb(51,51,51)"
            },
            "marker": {
             "line": {
              "color": "rgb(237,237,237)",
              "width": 0.5
             }
            },
            "type": "bar"
           }
          ],
          "barpolar": [
           {
            "marker": {
             "line": {
              "color": "rgb(237,237,237)",
              "width": 0.5
             }
            },
            "type": "barpolar"
           }
          ],
          "carpet": [
           {
            "aaxis": {
             "endlinecolor": "rgb(51,51,51)",
             "gridcolor": "white",
             "linecolor": "white",
             "minorgridcolor": "white",
             "startlinecolor": "rgb(51,51,51)"
            },
            "baxis": {
             "endlinecolor": "rgb(51,51,51)",
             "gridcolor": "white",
             "linecolor": "white",
             "minorgridcolor": "white",
             "startlinecolor": "rgb(51,51,51)"
            },
            "type": "carpet"
           }
          ],
          "choropleth": [
           {
            "colorbar": {
             "outlinewidth": 0,
             "tickcolor": "rgb(237,237,237)",
             "ticklen": 6,
             "ticks": "inside"
            },
            "type": "choropleth"
           }
          ],
          "contour": [
           {
            "colorbar": {
             "outlinewidth": 0,
             "tickcolor": "rgb(237,237,237)",
             "ticklen": 6,
             "ticks": "inside"
            },
            "colorscale": [
             [
              0,
              "rgb(20,44,66)"
             ],
             [
              1,
              "rgb(90,179,244)"
             ]
            ],
            "type": "contour"
           }
          ],
          "contourcarpet": [
           {
            "colorbar": {
             "outlinewidth": 0,
             "tickcolor": "rgb(237,237,237)",
             "ticklen": 6,
             "ticks": "inside"
            },
            "type": "contourcarpet"
           }
          ],
          "heatmap": [
           {
            "colorbar": {
             "outlinewidth": 0,
             "tickcolor": "rgb(237,237,237)",
             "ticklen": 6,
             "ticks": "inside"
            },
            "colorscale": [
             [
              0,
              "rgb(20,44,66)"
             ],
             [
              1,
              "rgb(90,179,244)"
             ]
            ],
            "type": "heatmap"
           }
          ],
          "heatmapgl": [
           {
            "colorbar": {
             "outlinewidth": 0,
             "tickcolor": "rgb(237,237,237)",
             "ticklen": 6,
             "ticks": "inside"
            },
            "colorscale": [
             [
              0,
              "rgb(20,44,66)"
             ],
             [
              1,
              "rgb(90,179,244)"
             ]
            ],
            "type": "heatmapgl"
           }
          ],
          "histogram": [
           {
            "marker": {
             "colorbar": {
              "outlinewidth": 0,
              "tickcolor": "rgb(237,237,237)",
              "ticklen": 6,
              "ticks": "inside"
             }
            },
            "type": "histogram"
           }
          ],
          "histogram2d": [
           {
            "colorbar": {
             "outlinewidth": 0,
             "tickcolor": "rgb(237,237,237)",
             "ticklen": 6,
             "ticks": "inside"
            },
            "colorscale": [
             [
              0,
              "rgb(20,44,66)"
             ],
             [
              1,
              "rgb(90,179,244)"
             ]
            ],
            "type": "histogram2d"
           }
          ],
          "histogram2dcontour": [
           {
            "colorbar": {
             "outlinewidth": 0,
             "tickcolor": "rgb(237,237,237)",
             "ticklen": 6,
             "ticks": "inside"
            },
            "colorscale": [
             [
              0,
              "rgb(20,44,66)"
             ],
             [
              1,
              "rgb(90,179,244)"
             ]
            ],
            "type": "histogram2dcontour"
           }
          ],
          "mesh3d": [
           {
            "colorbar": {
             "outlinewidth": 0,
             "tickcolor": "rgb(237,237,237)",
             "ticklen": 6,
             "ticks": "inside"
            },
            "type": "mesh3d"
           }
          ],
          "parcoords": [
           {
            "line": {
             "colorbar": {
              "outlinewidth": 0,
              "tickcolor": "rgb(237,237,237)",
              "ticklen": 6,
              "ticks": "inside"
             }
            },
            "type": "parcoords"
           }
          ],
          "pie": [
           {
            "automargin": true,
            "type": "pie"
           }
          ],
          "scatter": [
           {
            "marker": {
             "colorbar": {
              "outlinewidth": 0,
              "tickcolor": "rgb(237,237,237)",
              "ticklen": 6,
              "ticks": "inside"
             }
            },
            "type": "scatter"
           }
          ],
          "scatter3d": [
           {
            "line": {
             "colorbar": {
              "outlinewidth": 0,
              "tickcolor": "rgb(237,237,237)",
              "ticklen": 6,
              "ticks": "inside"
             }
            },
            "marker": {
             "colorbar": {
              "outlinewidth": 0,
              "tickcolor": "rgb(237,237,237)",
              "ticklen": 6,
              "ticks": "inside"
             }
            },
            "type": "scatter3d"
           }
          ],
          "scattercarpet": [
           {
            "marker": {
             "colorbar": {
              "outlinewidth": 0,
              "tickcolor": "rgb(237,237,237)",
              "ticklen": 6,
              "ticks": "inside"
             }
            },
            "type": "scattercarpet"
           }
          ],
          "scattergeo": [
           {
            "marker": {
             "colorbar": {
              "outlinewidth": 0,
              "tickcolor": "rgb(237,237,237)",
              "ticklen": 6,
              "ticks": "inside"
             }
            },
            "type": "scattergeo"
           }
          ],
          "scattergl": [
           {
            "marker": {
             "colorbar": {
              "outlinewidth": 0,
              "tickcolor": "rgb(237,237,237)",
              "ticklen": 6,
              "ticks": "inside"
             }
            },
            "type": "scattergl"
           }
          ],
          "scattermapbox": [
           {
            "marker": {
             "colorbar": {
              "outlinewidth": 0,
              "tickcolor": "rgb(237,237,237)",
              "ticklen": 6,
              "ticks": "inside"
             }
            },
            "type": "scattermapbox"
           }
          ],
          "scatterpolar": [
           {
            "marker": {
             "colorbar": {
              "outlinewidth": 0,
              "tickcolor": "rgb(237,237,237)",
              "ticklen": 6,
              "ticks": "inside"
             }
            },
            "type": "scatterpolar"
           }
          ],
          "scatterpolargl": [
           {
            "marker": {
             "colorbar": {
              "outlinewidth": 0,
              "tickcolor": "rgb(237,237,237)",
              "ticklen": 6,
              "ticks": "inside"
             }
            },
            "type": "scatterpolargl"
           }
          ],
          "scatterternary": [
           {
            "marker": {
             "colorbar": {
              "outlinewidth": 0,
              "tickcolor": "rgb(237,237,237)",
              "ticklen": 6,
              "ticks": "inside"
             }
            },
            "type": "scatterternary"
           }
          ],
          "surface": [
           {
            "colorbar": {
             "outlinewidth": 0,
             "tickcolor": "rgb(237,237,237)",
             "ticklen": 6,
             "ticks": "inside"
            },
            "colorscale": [
             [
              0,
              "rgb(20,44,66)"
             ],
             [
              1,
              "rgb(90,179,244)"
             ]
            ],
            "type": "surface"
           }
          ],
          "table": [
           {
            "cells": {
             "fill": {
              "color": "rgb(237,237,237)"
             },
             "line": {
              "color": "white"
             }
            },
            "header": {
             "fill": {
              "color": "rgb(217,217,217)"
             },
             "line": {
              "color": "white"
             }
            },
            "type": "table"
           }
          ]
         },
         "layout": {
          "annotationdefaults": {
           "arrowhead": 0,
           "arrowwidth": 1
          },
          "coloraxis": {
           "colorbar": {
            "outlinewidth": 0,
            "tickcolor": "rgb(237,237,237)",
            "ticklen": 6,
            "ticks": "inside"
           }
          },
          "colorscale": {
           "sequential": [
            [
             0,
             "rgb(20,44,66)"
            ],
            [
             1,
             "rgb(90,179,244)"
            ]
           ],
           "sequentialminus": [
            [
             0,
             "rgb(20,44,66)"
            ],
            [
             1,
             "rgb(90,179,244)"
            ]
           ]
          },
          "colorway": [
           "#F8766D",
           "#A3A500",
           "#00BF7D",
           "#00B0F6",
           "#E76BF3"
          ],
          "font": {
           "color": "rgb(51,51,51)"
          },
          "geo": {
           "bgcolor": "white",
           "lakecolor": "white",
           "landcolor": "rgb(237,237,237)",
           "showlakes": true,
           "showland": true,
           "subunitcolor": "white"
          },
          "hoverlabel": {
           "align": "left"
          },
          "hovermode": "closest",
          "paper_bgcolor": "white",
          "plot_bgcolor": "rgb(237,237,237)",
          "polar": {
           "angularaxis": {
            "gridcolor": "white",
            "linecolor": "white",
            "showgrid": true,
            "tickcolor": "rgb(51,51,51)",
            "ticks": "outside"
           },
           "bgcolor": "rgb(237,237,237)",
           "radialaxis": {
            "gridcolor": "white",
            "linecolor": "white",
            "showgrid": true,
            "tickcolor": "rgb(51,51,51)",
            "ticks": "outside"
           }
          },
          "scene": {
           "xaxis": {
            "backgroundcolor": "rgb(237,237,237)",
            "gridcolor": "white",
            "gridwidth": 2,
            "linecolor": "white",
            "showbackground": true,
            "showgrid": true,
            "tickcolor": "rgb(51,51,51)",
            "ticks": "outside",
            "zerolinecolor": "white"
           },
           "yaxis": {
            "backgroundcolor": "rgb(237,237,237)",
            "gridcolor": "white",
            "gridwidth": 2,
            "linecolor": "white",
            "showbackground": true,
            "showgrid": true,
            "tickcolor": "rgb(51,51,51)",
            "ticks": "outside",
            "zerolinecolor": "white"
           },
           "zaxis": {
            "backgroundcolor": "rgb(237,237,237)",
            "gridcolor": "white",
            "gridwidth": 2,
            "linecolor": "white",
            "showbackground": true,
            "showgrid": true,
            "tickcolor": "rgb(51,51,51)",
            "ticks": "outside",
            "zerolinecolor": "white"
           }
          },
          "shapedefaults": {
           "fillcolor": "black",
           "line": {
            "width": 0
           },
           "opacity": 0.3
          },
          "ternary": {
           "aaxis": {
            "gridcolor": "white",
            "linecolor": "white",
            "showgrid": true,
            "tickcolor": "rgb(51,51,51)",
            "ticks": "outside"
           },
           "baxis": {
            "gridcolor": "white",
            "linecolor": "white",
            "showgrid": true,
            "tickcolor": "rgb(51,51,51)",
            "ticks": "outside"
           },
           "bgcolor": "rgb(237,237,237)",
           "caxis": {
            "gridcolor": "white",
            "linecolor": "white",
            "showgrid": true,
            "tickcolor": "rgb(51,51,51)",
            "ticks": "outside"
           }
          },
          "xaxis": {
           "automargin": true,
           "gridcolor": "white",
           "linecolor": "white",
           "showgrid": true,
           "tickcolor": "rgb(51,51,51)",
           "ticks": "outside",
           "title": {
            "standoff": 15
           },
           "zerolinecolor": "white"
          },
          "yaxis": {
           "automargin": true,
           "gridcolor": "white",
           "linecolor": "white",
           "showgrid": true,
           "tickcolor": "rgb(51,51,51)",
           "ticks": "outside",
           "title": {
            "standoff": 15
           },
           "zerolinecolor": "white"
          }
         }
        },
        "title": {
         "text": "Molecular surface area"
        },
        "width": 600,
        "xaxis": {
         "anchor": "y",
         "domain": [
          0,
          1
         ],
         "showticklabels": false,
         "title": {
          "text": "x"
         }
        },
        "yaxis": {
         "anchor": "x",
         "domain": [
          0,
          1
         ],
         "showticklabels": false,
         "title": {
          "text": "y"
         }
        }
       }
      },
      "text/html": [
       "<div>\n",
       "        \n",
       "        \n",
       "            <div id=\"697e986d-0089-4dcd-ab2d-9121c2234696\" class=\"plotly-graph-div\" style=\"height:600px; width:600px;\"></div>\n",
       "            <script type=\"text/javascript\">\n",
       "                require([\"plotly\"], function(Plotly) {\n",
       "                    window.PLOTLYENV=window.PLOTLYENV || {};\n",
       "                    \n",
       "                if (document.getElementById(\"697e986d-0089-4dcd-ab2d-9121c2234696\")) {\n",
       "                    Plotly.newPlot(\n",
       "                        '697e986d-0089-4dcd-ab2d-9121c2234696',\n",
       "                        [{\"hovertemplate\": \"<b>%{hovertext}</b><br><br>x=%{x}<br>y=%{y}<br>label=%{marker.color}<extra></extra>\", \"hovertext\": [0.0, 1.0, 2.0, 3.0, 4.0, 5.0, 6.0, 7.0, 8.0, 9.0, 10.0, 11.0, 12.0, 13.0, 14.0, 15.0, 16.0, 17.0, 18.0, 19.0, 20.0, 21.0, 22.0, 23.0, 24.0, 25.0, 26.0, 27.0, 28.0, 29.0, 30.0, 31.0, 32.0, 33.0, 34.0, 35.0, 36.0, 37.0, 38.0, 39.0, 40.0, 41.0, 42.0, 43.0, 44.0, 45.0, 46.0, 47.0, 48.0, 49.0, 50.0, 51.0, 52.0, 53.0, 54.0, 55.0, 56.0, 57.0, 58.0, 59.0, 60.0, 61.0, 62.0, 63.0, 64.0, 65.0, 66.0, 67.0, 68.0, 69.0, 70.0, 71.0, 72.0, 73.0, 74.0, 75.0, 76.0, 77.0, 78.0, 79.0, 80.0, 81.0, 82.0, 83.0, 84.0, 85.0, 86.0, 87.0, 88.0, 89.0, 90.0, 91.0, 92.0, 93.0, 94.0, 95.0, 96.0, 97.0, 98.0, 99.0, 100.0, 101.0, 102.0, 103.0, 104.0, 105.0, 106.0, 107.0, 108.0, 109.0, 110.0, 111.0, 112.0, 113.0, 114.0, 115.0, 116.0, 117.0, 118.0, 119.0, 120.0, 121.0, 122.0, 123.0, 124.0, 125.0, 126.0, 127.0, 128.0, 129.0, 130.0, 131.0, 132.0, 133.0, 134.0, 135.0, 136.0, 137.0, 138.0, 139.0, 140.0, 141.0, 142.0, 143.0, 144.0, 145.0, 146.0, 147.0, 148.0, 149.0], \"legendgroup\": \"\", \"marker\": {\"color\": [1, 0, 1, 1, 1, 1, 0, 0, 0, 1, 0, 1, 0, 1, 0, 1, 0, 0, 1, 1, 1, 1, 1, 1, 1, 1, 0, 0, 1, 1, 1, 1, 0, 1, 1, 1, 0, 0, 1, 1, 0, 1, 1, 0, 0, 0, 0, 1, 0, 1, 0, 0, 0, 0, 1, 0, 1, 0, 1, 0, 1, 1, 1, 1, 0, 1, 0, 1, 1, 0, 1, 0, 0, 1, 1, 0, 1, 0, 0, 0, 0, 1, 1, 0, 1, 0, 1, 1, 1, 1, 0, 0, 1, 1, 0, 1, 1, 0, 1, 0, 0, 1, 0, 1, 0, 1, 0, 0, 1, 0, 1, 0, 0, 0, 0, 1, 1, 1, 1, 1, 0, 0, 0, 0, 0, 0, 0, 0, 1, 0, 1, 0, 1, 0, 1, 0, 0, 0, 0, 1, 1, 1, 1, 0, 0, 0, 1, 1, 1, 1], \"coloraxis\": \"coloraxis\", \"symbol\": \"circle\"}, \"mode\": \"markers\", \"name\": \"\", \"orientation\": \"v\", \"showlegend\": false, \"type\": \"scatter\", \"x\": [7.643780708312988, 5.133571624755859, 3.7244796752929688, 7.1873860359191895, 4.632745742797852, 7.28856086730957, 5.286683559417725, 3.680694818496704, 4.614442825317383, 8.416021347045898, 5.860500335693359, 5.851658344268799, 6.404038429260254, 3.285520315170288, 5.516180515289307, 5.783537864685059, 7.994197368621826, 8.29388427734375, 5.390532970428467, 6.485485076904297, 8.211220741271973, 4.347725868225098, 5.68612003326416, 6.688225269317627, 7.984598636627197, 3.204061508178711, 8.31500244140625, 5.199348449707031, 8.295026779174805, 4.0563836097717285, 6.52409029006958, 6.860975742340088, 4.090184688568115, 4.715365409851074, 8.525574684143066, 8.172706604003906, 5.48736047744751, 5.985110759735107, 6.910708427429199, 6.73818302154541, 6.672435760498047, 6.472210884094238, 6.242998123168945, 3.4363832473754883, 7.045407295227051, 4.187466621398926, 6.208161354064941, 6.405094623565674, 3.4070677757263184, 8.318142890930176, 4.615182876586914, 6.076003074645996, 6.154932022094727, 6.285739421844482, 8.031573295593262, 7.063686370849609, 5.831625461578369, 6.400236129760742, 5.506438255310059, 4.4657392501831055, 7.087372303009033, 6.645353317260742, 7.340743541717529, 7.50227689743042, 7.4611592292785645, 6.828480243682861, 8.095641136169434, 8.084620475769043, 6.516854286193848, 3.387507915496826, 4.2939043045043945, 4.666686534881592, 7.723659992218018, 5.795953750610352, 5.57216739654541, 5.657687187194824, 5.163865089416504, 4.560786724090576, 5.6116414070129395, 5.130675792694092, 3.823133707046509, 6.469683647155762, 5.065606117248535, 5.0360260009765625, 4.840859413146973, 4.192978382110596, 6.058587551116943, 6.1108622550964355, 7.229223728179932, 4.110299587249756, 5.89780330657959, 7.1887617111206055, 6.978750705718994, 6.493810176849365, 4.0561370849609375, 5.328409194946289, 5.8283562660217285, 6.0484819412231445, 5.792555332183838, 6.109803199768066, 4.982741355895996, 6.108957767486572, 7.839382648468018, 6.924191474914551, 6.871816635131836, 4.913149833679199, 4.475570201873779, 6.198592662811279, 7.065699100494385, 7.850106716156006, 4.946223735809326, 6.06643009185791, 5.355745792388916, 4.94775390625, 8.551715850830078, 5.098859786987305, 7.482100486755371, 6.0129594802856445, 4.8438401222229, 6.667425632476807, 7.363417148590088, 6.113086223602295, 8.003241539001465, 6.1498188972473145, 7.5474653244018555, 5.530176639556885, 4.520785808563232, 5.782560348510742, 7.340851783752441, 6.54787015914917, 4.910836219787598, 6.580106258392334, 6.354297161102295, 4.584405899047852, 5.628582954406738, 5.013986110687256, 4.503866195678711, 5.284488677978516, 3.8377578258514404, 3.9116623401641846, 5.60945987701416, 5.114466667175293, 6.205387592315674, 3.8543801307678223, 5.768120288848877, 4.411924839019775, 7.461437702178955, 5.5631208419799805, 6.950931549072266, 7.943543910980225], \"xaxis\": \"x\", \"y\": [5.394851207733154, 5.1455278396606445, 5.617867946624756, 8.579195976257324, 7.254030704498291, 6.791728973388672, 9.313499450683594, 8.844606399536133, 5.5544114112854, 8.881767272949219, 8.117050170898438, 8.875432968139648, 5.293790340423584, 8.540863990783691, 5.543654918670654, 4.959008693695068, 5.690351963043213, 7.321478843688965, 5.799806118011475, 7.874561786651611, 7.348955154418945, 4.721886157989502, 4.8151655197143555, 4.858567714691162, 6.185815811157227, 8.036932945251465, 4.822500228881836, 7.1469316482543945, 8.499003410339355, 6.635211944580078, 6.603517532348633, 6.216855049133301, 5.457277297973633, 4.688868522644043, 5.849669456481934, 6.993887424468994, 11.157578468322754, 3.543252944946289, 6.078458309173584, 8.41635513305664, 6.741086006164551, 9.645450592041016, 5.982147216796875, 6.630303859710693, 7.387868881225586, 10.004280090332031, 9.077970504760742, 5.528350830078125, 6.949992656707764, 6.55711555480957, 10.690204620361328, 4.371341705322266, 5.060770034790039, 8.548055648803711, 6.4913177490234375, 8.17584228515625, 7.393477916717529, 4.3939080238342285, 6.645320892333984, 8.459870338439941, 6.728672981262207, 10.501533508300781, 5.1208391189575195, 5.875294208526611, 4.546860218048096, 9.975625038146973, 5.03172492980957, 8.290299415588379, 7.650300979614258, 7.79544734954834, 7.87256383895874, 6.732448577880859, 6.920703887939453, 5.38047456741333, 3.6271986961364746, 7.322109699249268, 6.773336410522461, 6.215221405029297, 6.346889495849609, 8.524617195129395, 7.926701068878174, 3.9135148525238037, 7.673461437225342, 6.917928695678711, 9.395092964172363, 9.077335357666016, 10.432120323181152, 8.380514144897461, 4.8159332275390625, 5.879714488983154, 3.899188995361328, 5.445131778717041, 5.135373115539551, 6.850344181060791, 7.269202709197998, 4.181204319000244, 6.04370641708374, 5.889463424682617, 7.682220458984375, 9.261724472045898, 10.648021697998047, 4.679269790649414, 7.710697650909424, 10.15679931640625, 5.702343463897705, 10.994887351989746, 10.90410327911377, 10.689436912536621, 6.532637119293213, 6.313645839691162, 7.892316818237305, 6.29433012008667, 7.182311058044434, 8.226284980773926, 7.7318243980407715, 6.148587226867676, 9.333953857421875, 7.478423118591309, 5.853240489959717, 5.8610758781433105, 6.978713512420654, 6.925992488861084, 9.142516136169434, 6.530348300933838, 7.758472919464111, 5.203567981719971, 8.870146751403809, 8.26795768737793, 7.661167144775391, 5.855138301849365, 3.9424550533294678, 7.412449359893799, 6.530630588531494, 9.991338729858398, 8.537962913513184, 5.22704553604126, 6.250609397888184, 10.296545028686523, 9.066266059875488, 9.022115707397461, 6.496861934661865, 8.640840530395508, 7.617175102233887, 7.493497371673584, 6.104424476623535, 7.461944580078125, 8.285557746887207, 4.706252574920654, 8.825042724609375, 5.101256847381592], \"yaxis\": \"y\"}],\n",
       "                        {\"coloraxis\": {\"colorbar\": {\"title\": {\"text\": \"label\"}}, \"colorscale\": [[0.0, \"rgb(255,0,0)\"], [1.0, \"rgb(0,0,255)\"]], \"showscale\": false}, \"height\": 600, \"legend\": {\"tracegroupgap\": 0}, \"template\": {\"data\": {\"bar\": [{\"error_x\": {\"color\": \"rgb(51,51,51)\"}, \"error_y\": {\"color\": \"rgb(51,51,51)\"}, \"marker\": {\"line\": {\"color\": \"rgb(237,237,237)\", \"width\": 0.5}}, \"type\": \"bar\"}], \"barpolar\": [{\"marker\": {\"line\": {\"color\": \"rgb(237,237,237)\", \"width\": 0.5}}, \"type\": \"barpolar\"}], \"carpet\": [{\"aaxis\": {\"endlinecolor\": \"rgb(51,51,51)\", \"gridcolor\": \"white\", \"linecolor\": \"white\", \"minorgridcolor\": \"white\", \"startlinecolor\": \"rgb(51,51,51)\"}, \"baxis\": {\"endlinecolor\": \"rgb(51,51,51)\", \"gridcolor\": \"white\", \"linecolor\": \"white\", \"minorgridcolor\": \"white\", \"startlinecolor\": \"rgb(51,51,51)\"}, \"type\": \"carpet\"}], \"choropleth\": [{\"colorbar\": {\"outlinewidth\": 0, \"tickcolor\": \"rgb(237,237,237)\", \"ticklen\": 6, \"ticks\": \"inside\"}, \"type\": \"choropleth\"}], \"contour\": [{\"colorbar\": {\"outlinewidth\": 0, \"tickcolor\": \"rgb(237,237,237)\", \"ticklen\": 6, \"ticks\": \"inside\"}, \"colorscale\": [[0, \"rgb(20,44,66)\"], [1, \"rgb(90,179,244)\"]], \"type\": \"contour\"}], \"contourcarpet\": [{\"colorbar\": {\"outlinewidth\": 0, \"tickcolor\": \"rgb(237,237,237)\", \"ticklen\": 6, \"ticks\": \"inside\"}, \"type\": \"contourcarpet\"}], \"heatmap\": [{\"colorbar\": {\"outlinewidth\": 0, \"tickcolor\": \"rgb(237,237,237)\", \"ticklen\": 6, \"ticks\": \"inside\"}, \"colorscale\": [[0, \"rgb(20,44,66)\"], [1, \"rgb(90,179,244)\"]], \"type\": \"heatmap\"}], \"heatmapgl\": [{\"colorbar\": {\"outlinewidth\": 0, \"tickcolor\": \"rgb(237,237,237)\", \"ticklen\": 6, \"ticks\": \"inside\"}, \"colorscale\": [[0, \"rgb(20,44,66)\"], [1, \"rgb(90,179,244)\"]], \"type\": \"heatmapgl\"}], \"histogram\": [{\"marker\": {\"colorbar\": {\"outlinewidth\": 0, \"tickcolor\": \"rgb(237,237,237)\", \"ticklen\": 6, \"ticks\": \"inside\"}}, \"type\": \"histogram\"}], \"histogram2d\": [{\"colorbar\": {\"outlinewidth\": 0, \"tickcolor\": \"rgb(237,237,237)\", \"ticklen\": 6, \"ticks\": \"inside\"}, \"colorscale\": [[0, \"rgb(20,44,66)\"], [1, \"rgb(90,179,244)\"]], \"type\": \"histogram2d\"}], \"histogram2dcontour\": [{\"colorbar\": {\"outlinewidth\": 0, \"tickcolor\": \"rgb(237,237,237)\", \"ticklen\": 6, \"ticks\": \"inside\"}, \"colorscale\": [[0, \"rgb(20,44,66)\"], [1, \"rgb(90,179,244)\"]], \"type\": \"histogram2dcontour\"}], \"mesh3d\": [{\"colorbar\": {\"outlinewidth\": 0, \"tickcolor\": \"rgb(237,237,237)\", \"ticklen\": 6, \"ticks\": \"inside\"}, \"type\": \"mesh3d\"}], \"parcoords\": [{\"line\": {\"colorbar\": {\"outlinewidth\": 0, \"tickcolor\": \"rgb(237,237,237)\", \"ticklen\": 6, \"ticks\": \"inside\"}}, \"type\": \"parcoords\"}], \"pie\": [{\"automargin\": true, \"type\": \"pie\"}], \"scatter\": [{\"marker\": {\"colorbar\": {\"outlinewidth\": 0, \"tickcolor\": \"rgb(237,237,237)\", \"ticklen\": 6, \"ticks\": \"inside\"}}, \"type\": \"scatter\"}], \"scatter3d\": [{\"line\": {\"colorbar\": {\"outlinewidth\": 0, \"tickcolor\": \"rgb(237,237,237)\", \"ticklen\": 6, \"ticks\": \"inside\"}}, \"marker\": {\"colorbar\": {\"outlinewidth\": 0, \"tickcolor\": \"rgb(237,237,237)\", \"ticklen\": 6, \"ticks\": \"inside\"}}, \"type\": \"scatter3d\"}], \"scattercarpet\": [{\"marker\": {\"colorbar\": {\"outlinewidth\": 0, \"tickcolor\": \"rgb(237,237,237)\", \"ticklen\": 6, \"ticks\": \"inside\"}}, \"type\": \"scattercarpet\"}], \"scattergeo\": [{\"marker\": {\"colorbar\": {\"outlinewidth\": 0, \"tickcolor\": \"rgb(237,237,237)\", \"ticklen\": 6, \"ticks\": \"inside\"}}, \"type\": \"scattergeo\"}], \"scattergl\": [{\"marker\": {\"colorbar\": {\"outlinewidth\": 0, \"tickcolor\": \"rgb(237,237,237)\", \"ticklen\": 6, \"ticks\": \"inside\"}}, \"type\": \"scattergl\"}], \"scattermapbox\": [{\"marker\": {\"colorbar\": {\"outlinewidth\": 0, \"tickcolor\": \"rgb(237,237,237)\", \"ticklen\": 6, \"ticks\": \"inside\"}}, \"type\": \"scattermapbox\"}], \"scatterpolar\": [{\"marker\": {\"colorbar\": {\"outlinewidth\": 0, \"tickcolor\": \"rgb(237,237,237)\", \"ticklen\": 6, \"ticks\": \"inside\"}}, \"type\": \"scatterpolar\"}], \"scatterpolargl\": [{\"marker\": {\"colorbar\": {\"outlinewidth\": 0, \"tickcolor\": \"rgb(237,237,237)\", \"ticklen\": 6, \"ticks\": \"inside\"}}, \"type\": \"scatterpolargl\"}], \"scatterternary\": [{\"marker\": {\"colorbar\": {\"outlinewidth\": 0, \"tickcolor\": \"rgb(237,237,237)\", \"ticklen\": 6, \"ticks\": \"inside\"}}, \"type\": \"scatterternary\"}], \"surface\": [{\"colorbar\": {\"outlinewidth\": 0, \"tickcolor\": \"rgb(237,237,237)\", \"ticklen\": 6, \"ticks\": \"inside\"}, \"colorscale\": [[0, \"rgb(20,44,66)\"], [1, \"rgb(90,179,244)\"]], \"type\": \"surface\"}], \"table\": [{\"cells\": {\"fill\": {\"color\": \"rgb(237,237,237)\"}, \"line\": {\"color\": \"white\"}}, \"header\": {\"fill\": {\"color\": \"rgb(217,217,217)\"}, \"line\": {\"color\": \"white\"}}, \"type\": \"table\"}]}, \"layout\": {\"annotationdefaults\": {\"arrowhead\": 0, \"arrowwidth\": 1}, \"coloraxis\": {\"colorbar\": {\"outlinewidth\": 0, \"tickcolor\": \"rgb(237,237,237)\", \"ticklen\": 6, \"ticks\": \"inside\"}}, \"colorscale\": {\"sequential\": [[0, \"rgb(20,44,66)\"], [1, \"rgb(90,179,244)\"]], \"sequentialminus\": [[0, \"rgb(20,44,66)\"], [1, \"rgb(90,179,244)\"]]}, \"colorway\": [\"#F8766D\", \"#A3A500\", \"#00BF7D\", \"#00B0F6\", \"#E76BF3\"], \"font\": {\"color\": \"rgb(51,51,51)\"}, \"geo\": {\"bgcolor\": \"white\", \"lakecolor\": \"white\", \"landcolor\": \"rgb(237,237,237)\", \"showlakes\": true, \"showland\": true, \"subunitcolor\": \"white\"}, \"hoverlabel\": {\"align\": \"left\"}, \"hovermode\": \"closest\", \"paper_bgcolor\": \"white\", \"plot_bgcolor\": \"rgb(237,237,237)\", \"polar\": {\"angularaxis\": {\"gridcolor\": \"white\", \"linecolor\": \"white\", \"showgrid\": true, \"tickcolor\": \"rgb(51,51,51)\", \"ticks\": \"outside\"}, \"bgcolor\": \"rgb(237,237,237)\", \"radialaxis\": {\"gridcolor\": \"white\", \"linecolor\": \"white\", \"showgrid\": true, \"tickcolor\": \"rgb(51,51,51)\", \"ticks\": \"outside\"}}, \"scene\": {\"xaxis\": {\"backgroundcolor\": \"rgb(237,237,237)\", \"gridcolor\": \"white\", \"gridwidth\": 2, \"linecolor\": \"white\", \"showbackground\": true, \"showgrid\": true, \"tickcolor\": \"rgb(51,51,51)\", \"ticks\": \"outside\", \"zerolinecolor\": \"white\"}, \"yaxis\": {\"backgroundcolor\": \"rgb(237,237,237)\", \"gridcolor\": \"white\", \"gridwidth\": 2, \"linecolor\": \"white\", \"showbackground\": true, \"showgrid\": true, \"tickcolor\": \"rgb(51,51,51)\", \"ticks\": \"outside\", \"zerolinecolor\": \"white\"}, \"zaxis\": {\"backgroundcolor\": \"rgb(237,237,237)\", \"gridcolor\": \"white\", \"gridwidth\": 2, \"linecolor\": \"white\", \"showbackground\": true, \"showgrid\": true, \"tickcolor\": \"rgb(51,51,51)\", \"ticks\": \"outside\", \"zerolinecolor\": \"white\"}}, \"shapedefaults\": {\"fillcolor\": \"black\", \"line\": {\"width\": 0}, \"opacity\": 0.3}, \"ternary\": {\"aaxis\": {\"gridcolor\": \"white\", \"linecolor\": \"white\", \"showgrid\": true, \"tickcolor\": \"rgb(51,51,51)\", \"ticks\": \"outside\"}, \"baxis\": {\"gridcolor\": \"white\", \"linecolor\": \"white\", \"showgrid\": true, \"tickcolor\": \"rgb(51,51,51)\", \"ticks\": \"outside\"}, \"bgcolor\": \"rgb(237,237,237)\", \"caxis\": {\"gridcolor\": \"white\", \"linecolor\": \"white\", \"showgrid\": true, \"tickcolor\": \"rgb(51,51,51)\", \"ticks\": \"outside\"}}, \"xaxis\": {\"automargin\": true, \"gridcolor\": \"white\", \"linecolor\": \"white\", \"showgrid\": true, \"tickcolor\": \"rgb(51,51,51)\", \"ticks\": \"outside\", \"title\": {\"standoff\": 15}, \"zerolinecolor\": \"white\"}, \"yaxis\": {\"automargin\": true, \"gridcolor\": \"white\", \"linecolor\": \"white\", \"showgrid\": true, \"tickcolor\": \"rgb(51,51,51)\", \"ticks\": \"outside\", \"title\": {\"standoff\": 15}, \"zerolinecolor\": \"white\"}}}, \"title\": {\"text\": \"Molecular surface area\"}, \"width\": 600, \"xaxis\": {\"anchor\": \"y\", \"domain\": [0.0, 1.0], \"showticklabels\": false, \"title\": {\"text\": \"x\"}}, \"yaxis\": {\"anchor\": \"x\", \"domain\": [0.0, 1.0], \"showticklabels\": false, \"title\": {\"text\": \"y\"}}},\n",
       "                        {\"responsive\": true}\n",
       "                    ).then(function(){\n",
       "                            \n",
       "var gd = document.getElementById('697e986d-0089-4dcd-ab2d-9121c2234696');\n",
       "var x = new MutationObserver(function (mutations, observer) {{\n",
       "        var display = window.getComputedStyle(gd).display;\n",
       "        if (!display || display === 'none') {{\n",
       "            console.log([gd, 'removed!']);\n",
       "            Plotly.purge(gd);\n",
       "            observer.disconnect();\n",
       "        }}\n",
       "}});\n",
       "\n",
       "// Listen for the removal of the full notebook cells\n",
       "var notebookContainer = gd.closest('#notebook-container');\n",
       "if (notebookContainer) {{\n",
       "    x.observe(notebookContainer, {childList: true});\n",
       "}}\n",
       "\n",
       "// Listen for the clearing of the current output cell\n",
       "var outputEl = gd.closest('.output');\n",
       "if (outputEl) {{\n",
       "    x.observe(outputEl, {childList: true});\n",
       "}}\n",
       "\n",
       "                        })\n",
       "                };\n",
       "                });\n",
       "            </script>\n",
       "        </div>"
      ]
     },
     "metadata": {},
     "output_type": "display_data"
    }
   ],
   "source": [
    "surfacearea = temp_plot_input\n",
    "surfacearea['label'] = df['binary_mol_surface_area']\n",
    "surfacearea_plot = render_2D_scatter_plotly(surfacearea, title='Molecular surface area')\n",
    "surfacearea_plot"
   ]
  },
  {
   "cell_type": "markdown",
   "metadata": {},
   "source": [
    "#### Number of aromatic rings"
   ]
  },
  {
   "cell_type": "code",
   "execution_count": null,
   "metadata": {},
   "outputs": [],
   "source": [
    "aromatic_rings = temp_plot_input\n",
    "aromatic_rings['label'] = df['CMP_NUM_AROMATICRINGS']\n",
    "aromatic_rings_plot = render_2D_scatter_plotly(aromatic_rings, title='Number of aromatic rings')\n",
    "aromatic_rings_plot"
   ]
  },
  {
   "cell_type": "markdown",
   "metadata": {},
   "source": [
    "#### LogP"
   ]
  },
  {
   "cell_type": "code",
   "execution_count": 35,
   "metadata": {},
   "outputs": [
    {
     "data": {
      "application/vnd.plotly.v1+json": {
       "config": {
        "plotlyServerURL": "https://plot.ly"
       },
       "data": [
        {
         "hovertemplate": "<b>%{hovertext}</b><br><br>x=%{x}<br>y=%{y}<br>label=%{marker.color}<extra></extra>",
         "hovertext": [
          0,
          1,
          2,
          3,
          4,
          5,
          6,
          7,
          8,
          9,
          10,
          11,
          12,
          13,
          14,
          15,
          16,
          17,
          18,
          19,
          20,
          21,
          22,
          23,
          24,
          25,
          26,
          27,
          28,
          29,
          30,
          31,
          32,
          33,
          34,
          35,
          36,
          37,
          38,
          39,
          40,
          41,
          42,
          43,
          44,
          45,
          46,
          47,
          48,
          49,
          50,
          51,
          52,
          53,
          54,
          55,
          56,
          57,
          58,
          59,
          60,
          61,
          62,
          63,
          64,
          65,
          66,
          67,
          68,
          69,
          70,
          71,
          72,
          73,
          74,
          75,
          76,
          77,
          78,
          79,
          80,
          81,
          82,
          83,
          84,
          85,
          86,
          87,
          88,
          89,
          90,
          91,
          92,
          93,
          94,
          95,
          96,
          97,
          98,
          99,
          100,
          101,
          102,
          103,
          104,
          105,
          106,
          107,
          108,
          109,
          110,
          111,
          112,
          113,
          114,
          115,
          116,
          117,
          118,
          119,
          120,
          121,
          122,
          123,
          124,
          125,
          126,
          127,
          128,
          129,
          130,
          131,
          132,
          133,
          134,
          135,
          136,
          137,
          138,
          139,
          140,
          141,
          142,
          143,
          144,
          145,
          146,
          147,
          148,
          149
         ],
         "legendgroup": "",
         "marker": {
          "color": [
           1,
           0,
           1,
           0,
           1,
           1,
           1,
           1,
           0,
           1,
           0,
           0,
           0,
           1,
           0,
           0,
           1,
           1,
           0,
           1,
           1,
           0,
           1,
           0,
           0,
           1,
           0,
           0,
           0,
           0,
           0,
           1,
           1,
           0,
           1,
           0,
           0,
           0,
           1,
           0,
           0,
           1,
           0,
           1,
           0,
           1,
           1,
           1,
           1,
           1,
           1,
           1,
           1,
           0,
           1,
           0,
           0,
           1,
           0,
           0,
           0,
           1,
           1,
           0,
           1,
           1,
           1,
           1,
           1,
           0,
           1,
           1,
           0,
           1,
           1,
           0,
           0,
           0,
           0,
           0,
           0,
           1,
           0,
           1,
           1,
           0,
           0,
           1,
           0,
           1,
           0,
           1,
           1,
           1,
           1,
           1,
           0,
           0,
           1,
           1,
           1,
           1,
           0,
           0,
           0,
           1,
           1,
           0,
           0,
           0,
           0,
           0,
           1,
           1,
           0,
           0,
           1,
           1,
           0,
           1,
           0,
           0,
           0,
           1,
           0,
           0,
           0,
           0,
           0,
           0,
           1,
           1,
           0,
           1,
           1,
           0,
           0,
           0,
           1,
           0,
           1,
           1,
           0,
           1,
           0,
           1,
           1,
           1,
           1,
           1
          ],
          "coloraxis": "coloraxis",
          "symbol": "circle"
         },
         "mode": "markers",
         "name": "",
         "orientation": "v",
         "showlegend": false,
         "type": "scatter",
         "x": [
          7.643780708312988,
          5.133571624755859,
          3.7244796752929688,
          7.1873860359191895,
          4.632745742797852,
          7.28856086730957,
          5.286683559417725,
          3.680694818496704,
          4.614442825317383,
          8.416021347045898,
          5.860500335693359,
          5.851658344268799,
          6.404038429260254,
          3.285520315170288,
          5.516180515289307,
          5.783537864685059,
          7.994197368621826,
          8.29388427734375,
          5.390532970428467,
          6.485485076904297,
          8.211220741271973,
          4.347725868225098,
          5.68612003326416,
          6.688225269317627,
          7.984598636627197,
          3.204061508178711,
          8.31500244140625,
          5.199348449707031,
          8.295026779174805,
          4.0563836097717285,
          6.52409029006958,
          6.860975742340088,
          4.090184688568115,
          4.715365409851074,
          8.525574684143066,
          8.172706604003906,
          5.48736047744751,
          5.985110759735107,
          6.910708427429199,
          6.73818302154541,
          6.672435760498047,
          6.472210884094238,
          6.242998123168945,
          3.4363832473754883,
          7.045407295227051,
          4.187466621398926,
          6.208161354064941,
          6.405094623565674,
          3.4070677757263184,
          8.318142890930176,
          4.615182876586914,
          6.076003074645996,
          6.154932022094727,
          6.285739421844482,
          8.031573295593262,
          7.063686370849609,
          5.831625461578369,
          6.400236129760742,
          5.506438255310059,
          4.4657392501831055,
          7.087372303009033,
          6.645353317260742,
          7.340743541717529,
          7.50227689743042,
          7.4611592292785645,
          6.828480243682861,
          8.095641136169434,
          8.084620475769043,
          6.516854286193848,
          3.387507915496826,
          4.2939043045043945,
          4.666686534881592,
          7.723659992218018,
          5.795953750610352,
          5.57216739654541,
          5.657687187194824,
          5.163865089416504,
          4.560786724090576,
          5.6116414070129395,
          5.130675792694092,
          3.823133707046509,
          6.469683647155762,
          5.065606117248535,
          5.0360260009765625,
          4.840859413146973,
          4.192978382110596,
          6.058587551116943,
          6.1108622550964355,
          7.229223728179932,
          4.110299587249756,
          5.89780330657959,
          7.1887617111206055,
          6.978750705718994,
          6.493810176849365,
          4.0561370849609375,
          5.328409194946289,
          5.8283562660217285,
          6.0484819412231445,
          5.792555332183838,
          6.109803199768066,
          4.982741355895996,
          6.108957767486572,
          7.839382648468018,
          6.924191474914551,
          6.871816635131836,
          4.913149833679199,
          4.475570201873779,
          6.198592662811279,
          7.065699100494385,
          7.850106716156006,
          4.946223735809326,
          6.06643009185791,
          5.355745792388916,
          4.94775390625,
          8.551715850830078,
          5.098859786987305,
          7.482100486755371,
          6.0129594802856445,
          4.8438401222229,
          6.667425632476807,
          7.363417148590088,
          6.113086223602295,
          8.003241539001465,
          6.1498188972473145,
          7.5474653244018555,
          5.530176639556885,
          4.520785808563232,
          5.782560348510742,
          7.340851783752441,
          6.54787015914917,
          4.910836219787598,
          6.580106258392334,
          6.354297161102295,
          4.584405899047852,
          5.628582954406738,
          5.013986110687256,
          4.503866195678711,
          5.284488677978516,
          3.8377578258514404,
          3.9116623401641846,
          5.60945987701416,
          5.114466667175293,
          6.205387592315674,
          3.8543801307678223,
          5.768120288848877,
          4.411924839019775,
          7.461437702178955,
          5.5631208419799805,
          6.950931549072266,
          7.943543910980225
         ],
         "xaxis": "x",
         "y": [
          5.394851207733154,
          5.1455278396606445,
          5.617867946624756,
          8.579195976257324,
          7.254030704498291,
          6.791728973388672,
          9.313499450683594,
          8.844606399536133,
          5.5544114112854,
          8.881767272949219,
          8.117050170898438,
          8.875432968139648,
          5.293790340423584,
          8.540863990783691,
          5.543654918670654,
          4.959008693695068,
          5.690351963043213,
          7.321478843688965,
          5.799806118011475,
          7.874561786651611,
          7.348955154418945,
          4.721886157989502,
          4.8151655197143555,
          4.858567714691162,
          6.185815811157227,
          8.036932945251465,
          4.822500228881836,
          7.1469316482543945,
          8.499003410339355,
          6.635211944580078,
          6.603517532348633,
          6.216855049133301,
          5.457277297973633,
          4.688868522644043,
          5.849669456481934,
          6.993887424468994,
          11.157578468322754,
          3.543252944946289,
          6.078458309173584,
          8.41635513305664,
          6.741086006164551,
          9.645450592041016,
          5.982147216796875,
          6.630303859710693,
          7.387868881225586,
          10.004280090332031,
          9.077970504760742,
          5.528350830078125,
          6.949992656707764,
          6.55711555480957,
          10.690204620361328,
          4.371341705322266,
          5.060770034790039,
          8.548055648803711,
          6.4913177490234375,
          8.17584228515625,
          7.393477916717529,
          4.3939080238342285,
          6.645320892333984,
          8.459870338439941,
          6.728672981262207,
          10.501533508300781,
          5.1208391189575195,
          5.875294208526611,
          4.546860218048096,
          9.975625038146973,
          5.03172492980957,
          8.290299415588379,
          7.650300979614258,
          7.79544734954834,
          7.87256383895874,
          6.732448577880859,
          6.920703887939453,
          5.38047456741333,
          3.6271986961364746,
          7.322109699249268,
          6.773336410522461,
          6.215221405029297,
          6.346889495849609,
          8.524617195129395,
          7.926701068878174,
          3.9135148525238037,
          7.673461437225342,
          6.917928695678711,
          9.395092964172363,
          9.077335357666016,
          10.432120323181152,
          8.380514144897461,
          4.8159332275390625,
          5.879714488983154,
          3.899188995361328,
          5.445131778717041,
          5.135373115539551,
          6.850344181060791,
          7.269202709197998,
          4.181204319000244,
          6.04370641708374,
          5.889463424682617,
          7.682220458984375,
          9.261724472045898,
          10.648021697998047,
          4.679269790649414,
          7.710697650909424,
          10.15679931640625,
          5.702343463897705,
          10.994887351989746,
          10.90410327911377,
          10.689436912536621,
          6.532637119293213,
          6.313645839691162,
          7.892316818237305,
          6.29433012008667,
          7.182311058044434,
          8.226284980773926,
          7.7318243980407715,
          6.148587226867676,
          9.333953857421875,
          7.478423118591309,
          5.853240489959717,
          5.8610758781433105,
          6.978713512420654,
          6.925992488861084,
          9.142516136169434,
          6.530348300933838,
          7.758472919464111,
          5.203567981719971,
          8.870146751403809,
          8.26795768737793,
          7.661167144775391,
          5.855138301849365,
          3.9424550533294678,
          7.412449359893799,
          6.530630588531494,
          9.991338729858398,
          8.537962913513184,
          5.22704553604126,
          6.250609397888184,
          10.296545028686523,
          9.066266059875488,
          9.022115707397461,
          6.496861934661865,
          8.640840530395508,
          7.617175102233887,
          7.493497371673584,
          6.104424476623535,
          7.461944580078125,
          8.285557746887207,
          4.706252574920654,
          8.825042724609375,
          5.101256847381592
         ],
         "yaxis": "y"
        }
       ],
       "layout": {
        "coloraxis": {
         "colorbar": {
          "title": {
           "text": "label"
          }
         },
         "colorscale": [
          [
           0,
           "rgb(255,0,0)"
          ],
          [
           1,
           "rgb(0,0,255)"
          ]
         ],
         "showscale": false
        },
        "height": 600,
        "legend": {
         "tracegroupgap": 0
        },
        "template": {
         "data": {
          "bar": [
           {
            "error_x": {
             "color": "rgb(51,51,51)"
            },
            "error_y": {
             "color": "rgb(51,51,51)"
            },
            "marker": {
             "line": {
              "color": "rgb(237,237,237)",
              "width": 0.5
             }
            },
            "type": "bar"
           }
          ],
          "barpolar": [
           {
            "marker": {
             "line": {
              "color": "rgb(237,237,237)",
              "width": 0.5
             }
            },
            "type": "barpolar"
           }
          ],
          "carpet": [
           {
            "aaxis": {
             "endlinecolor": "rgb(51,51,51)",
             "gridcolor": "white",
             "linecolor": "white",
             "minorgridcolor": "white",
             "startlinecolor": "rgb(51,51,51)"
            },
            "baxis": {
             "endlinecolor": "rgb(51,51,51)",
             "gridcolor": "white",
             "linecolor": "white",
             "minorgridcolor": "white",
             "startlinecolor": "rgb(51,51,51)"
            },
            "type": "carpet"
           }
          ],
          "choropleth": [
           {
            "colorbar": {
             "outlinewidth": 0,
             "tickcolor": "rgb(237,237,237)",
             "ticklen": 6,
             "ticks": "inside"
            },
            "type": "choropleth"
           }
          ],
          "contour": [
           {
            "colorbar": {
             "outlinewidth": 0,
             "tickcolor": "rgb(237,237,237)",
             "ticklen": 6,
             "ticks": "inside"
            },
            "colorscale": [
             [
              0,
              "rgb(20,44,66)"
             ],
             [
              1,
              "rgb(90,179,244)"
             ]
            ],
            "type": "contour"
           }
          ],
          "contourcarpet": [
           {
            "colorbar": {
             "outlinewidth": 0,
             "tickcolor": "rgb(237,237,237)",
             "ticklen": 6,
             "ticks": "inside"
            },
            "type": "contourcarpet"
           }
          ],
          "heatmap": [
           {
            "colorbar": {
             "outlinewidth": 0,
             "tickcolor": "rgb(237,237,237)",
             "ticklen": 6,
             "ticks": "inside"
            },
            "colorscale": [
             [
              0,
              "rgb(20,44,66)"
             ],
             [
              1,
              "rgb(90,179,244)"
             ]
            ],
            "type": "heatmap"
           }
          ],
          "heatmapgl": [
           {
            "colorbar": {
             "outlinewidth": 0,
             "tickcolor": "rgb(237,237,237)",
             "ticklen": 6,
             "ticks": "inside"
            },
            "colorscale": [
             [
              0,
              "rgb(20,44,66)"
             ],
             [
              1,
              "rgb(90,179,244)"
             ]
            ],
            "type": "heatmapgl"
           }
          ],
          "histogram": [
           {
            "marker": {
             "colorbar": {
              "outlinewidth": 0,
              "tickcolor": "rgb(237,237,237)",
              "ticklen": 6,
              "ticks": "inside"
             }
            },
            "type": "histogram"
           }
          ],
          "histogram2d": [
           {
            "colorbar": {
             "outlinewidth": 0,
             "tickcolor": "rgb(237,237,237)",
             "ticklen": 6,
             "ticks": "inside"
            },
            "colorscale": [
             [
              0,
              "rgb(20,44,66)"
             ],
             [
              1,
              "rgb(90,179,244)"
             ]
            ],
            "type": "histogram2d"
           }
          ],
          "histogram2dcontour": [
           {
            "colorbar": {
             "outlinewidth": 0,
             "tickcolor": "rgb(237,237,237)",
             "ticklen": 6,
             "ticks": "inside"
            },
            "colorscale": [
             [
              0,
              "rgb(20,44,66)"
             ],
             [
              1,
              "rgb(90,179,244)"
             ]
            ],
            "type": "histogram2dcontour"
           }
          ],
          "mesh3d": [
           {
            "colorbar": {
             "outlinewidth": 0,
             "tickcolor": "rgb(237,237,237)",
             "ticklen": 6,
             "ticks": "inside"
            },
            "type": "mesh3d"
           }
          ],
          "parcoords": [
           {
            "line": {
             "colorbar": {
              "outlinewidth": 0,
              "tickcolor": "rgb(237,237,237)",
              "ticklen": 6,
              "ticks": "inside"
             }
            },
            "type": "parcoords"
           }
          ],
          "pie": [
           {
            "automargin": true,
            "type": "pie"
           }
          ],
          "scatter": [
           {
            "marker": {
             "colorbar": {
              "outlinewidth": 0,
              "tickcolor": "rgb(237,237,237)",
              "ticklen": 6,
              "ticks": "inside"
             }
            },
            "type": "scatter"
           }
          ],
          "scatter3d": [
           {
            "line": {
             "colorbar": {
              "outlinewidth": 0,
              "tickcolor": "rgb(237,237,237)",
              "ticklen": 6,
              "ticks": "inside"
             }
            },
            "marker": {
             "colorbar": {
              "outlinewidth": 0,
              "tickcolor": "rgb(237,237,237)",
              "ticklen": 6,
              "ticks": "inside"
             }
            },
            "type": "scatter3d"
           }
          ],
          "scattercarpet": [
           {
            "marker": {
             "colorbar": {
              "outlinewidth": 0,
              "tickcolor": "rgb(237,237,237)",
              "ticklen": 6,
              "ticks": "inside"
             }
            },
            "type": "scattercarpet"
           }
          ],
          "scattergeo": [
           {
            "marker": {
             "colorbar": {
              "outlinewidth": 0,
              "tickcolor": "rgb(237,237,237)",
              "ticklen": 6,
              "ticks": "inside"
             }
            },
            "type": "scattergeo"
           }
          ],
          "scattergl": [
           {
            "marker": {
             "colorbar": {
              "outlinewidth": 0,
              "tickcolor": "rgb(237,237,237)",
              "ticklen": 6,
              "ticks": "inside"
             }
            },
            "type": "scattergl"
           }
          ],
          "scattermapbox": [
           {
            "marker": {
             "colorbar": {
              "outlinewidth": 0,
              "tickcolor": "rgb(237,237,237)",
              "ticklen": 6,
              "ticks": "inside"
             }
            },
            "type": "scattermapbox"
           }
          ],
          "scatterpolar": [
           {
            "marker": {
             "colorbar": {
              "outlinewidth": 0,
              "tickcolor": "rgb(237,237,237)",
              "ticklen": 6,
              "ticks": "inside"
             }
            },
            "type": "scatterpolar"
           }
          ],
          "scatterpolargl": [
           {
            "marker": {
             "colorbar": {
              "outlinewidth": 0,
              "tickcolor": "rgb(237,237,237)",
              "ticklen": 6,
              "ticks": "inside"
             }
            },
            "type": "scatterpolargl"
           }
          ],
          "scatterternary": [
           {
            "marker": {
             "colorbar": {
              "outlinewidth": 0,
              "tickcolor": "rgb(237,237,237)",
              "ticklen": 6,
              "ticks": "inside"
             }
            },
            "type": "scatterternary"
           }
          ],
          "surface": [
           {
            "colorbar": {
             "outlinewidth": 0,
             "tickcolor": "rgb(237,237,237)",
             "ticklen": 6,
             "ticks": "inside"
            },
            "colorscale": [
             [
              0,
              "rgb(20,44,66)"
             ],
             [
              1,
              "rgb(90,179,244)"
             ]
            ],
            "type": "surface"
           }
          ],
          "table": [
           {
            "cells": {
             "fill": {
              "color": "rgb(237,237,237)"
             },
             "line": {
              "color": "white"
             }
            },
            "header": {
             "fill": {
              "color": "rgb(217,217,217)"
             },
             "line": {
              "color": "white"
             }
            },
            "type": "table"
           }
          ]
         },
         "layout": {
          "annotationdefaults": {
           "arrowhead": 0,
           "arrowwidth": 1
          },
          "coloraxis": {
           "colorbar": {
            "outlinewidth": 0,
            "tickcolor": "rgb(237,237,237)",
            "ticklen": 6,
            "ticks": "inside"
           }
          },
          "colorscale": {
           "sequential": [
            [
             0,
             "rgb(20,44,66)"
            ],
            [
             1,
             "rgb(90,179,244)"
            ]
           ],
           "sequentialminus": [
            [
             0,
             "rgb(20,44,66)"
            ],
            [
             1,
             "rgb(90,179,244)"
            ]
           ]
          },
          "colorway": [
           "#F8766D",
           "#A3A500",
           "#00BF7D",
           "#00B0F6",
           "#E76BF3"
          ],
          "font": {
           "color": "rgb(51,51,51)"
          },
          "geo": {
           "bgcolor": "white",
           "lakecolor": "white",
           "landcolor": "rgb(237,237,237)",
           "showlakes": true,
           "showland": true,
           "subunitcolor": "white"
          },
          "hoverlabel": {
           "align": "left"
          },
          "hovermode": "closest",
          "paper_bgcolor": "white",
          "plot_bgcolor": "rgb(237,237,237)",
          "polar": {
           "angularaxis": {
            "gridcolor": "white",
            "linecolor": "white",
            "showgrid": true,
            "tickcolor": "rgb(51,51,51)",
            "ticks": "outside"
           },
           "bgcolor": "rgb(237,237,237)",
           "radialaxis": {
            "gridcolor": "white",
            "linecolor": "white",
            "showgrid": true,
            "tickcolor": "rgb(51,51,51)",
            "ticks": "outside"
           }
          },
          "scene": {
           "xaxis": {
            "backgroundcolor": "rgb(237,237,237)",
            "gridcolor": "white",
            "gridwidth": 2,
            "linecolor": "white",
            "showbackground": true,
            "showgrid": true,
            "tickcolor": "rgb(51,51,51)",
            "ticks": "outside",
            "zerolinecolor": "white"
           },
           "yaxis": {
            "backgroundcolor": "rgb(237,237,237)",
            "gridcolor": "white",
            "gridwidth": 2,
            "linecolor": "white",
            "showbackground": true,
            "showgrid": true,
            "tickcolor": "rgb(51,51,51)",
            "ticks": "outside",
            "zerolinecolor": "white"
           },
           "zaxis": {
            "backgroundcolor": "rgb(237,237,237)",
            "gridcolor": "white",
            "gridwidth": 2,
            "linecolor": "white",
            "showbackground": true,
            "showgrid": true,
            "tickcolor": "rgb(51,51,51)",
            "ticks": "outside",
            "zerolinecolor": "white"
           }
          },
          "shapedefaults": {
           "fillcolor": "black",
           "line": {
            "width": 0
           },
           "opacity": 0.3
          },
          "ternary": {
           "aaxis": {
            "gridcolor": "white",
            "linecolor": "white",
            "showgrid": true,
            "tickcolor": "rgb(51,51,51)",
            "ticks": "outside"
           },
           "baxis": {
            "gridcolor": "white",
            "linecolor": "white",
            "showgrid": true,
            "tickcolor": "rgb(51,51,51)",
            "ticks": "outside"
           },
           "bgcolor": "rgb(237,237,237)",
           "caxis": {
            "gridcolor": "white",
            "linecolor": "white",
            "showgrid": true,
            "tickcolor": "rgb(51,51,51)",
            "ticks": "outside"
           }
          },
          "xaxis": {
           "automargin": true,
           "gridcolor": "white",
           "linecolor": "white",
           "showgrid": true,
           "tickcolor": "rgb(51,51,51)",
           "ticks": "outside",
           "title": {
            "standoff": 15
           },
           "zerolinecolor": "white"
          },
          "yaxis": {
           "automargin": true,
           "gridcolor": "white",
           "linecolor": "white",
           "showgrid": true,
           "tickcolor": "rgb(51,51,51)",
           "ticks": "outside",
           "title": {
            "standoff": 15
           },
           "zerolinecolor": "white"
          }
         }
        },
        "title": {
         "text": "LogP"
        },
        "width": 600,
        "xaxis": {
         "anchor": "y",
         "domain": [
          0,
          1
         ],
         "showticklabels": false,
         "title": {
          "text": "x"
         }
        },
        "yaxis": {
         "anchor": "x",
         "domain": [
          0,
          1
         ],
         "showticklabels": false,
         "title": {
          "text": "y"
         }
        }
       }
      },
      "text/html": [
       "<div>\n",
       "        \n",
       "        \n",
       "            <div id=\"75d80c50-3962-4574-87b1-d1e7abecaa81\" class=\"plotly-graph-div\" style=\"height:600px; width:600px;\"></div>\n",
       "            <script type=\"text/javascript\">\n",
       "                require([\"plotly\"], function(Plotly) {\n",
       "                    window.PLOTLYENV=window.PLOTLYENV || {};\n",
       "                    \n",
       "                if (document.getElementById(\"75d80c50-3962-4574-87b1-d1e7abecaa81\")) {\n",
       "                    Plotly.newPlot(\n",
       "                        '75d80c50-3962-4574-87b1-d1e7abecaa81',\n",
       "                        [{\"hovertemplate\": \"<b>%{hovertext}</b><br><br>x=%{x}<br>y=%{y}<br>label=%{marker.color}<extra></extra>\", \"hovertext\": [0.0, 1.0, 2.0, 3.0, 4.0, 5.0, 6.0, 7.0, 8.0, 9.0, 10.0, 11.0, 12.0, 13.0, 14.0, 15.0, 16.0, 17.0, 18.0, 19.0, 20.0, 21.0, 22.0, 23.0, 24.0, 25.0, 26.0, 27.0, 28.0, 29.0, 30.0, 31.0, 32.0, 33.0, 34.0, 35.0, 36.0, 37.0, 38.0, 39.0, 40.0, 41.0, 42.0, 43.0, 44.0, 45.0, 46.0, 47.0, 48.0, 49.0, 50.0, 51.0, 52.0, 53.0, 54.0, 55.0, 56.0, 57.0, 58.0, 59.0, 60.0, 61.0, 62.0, 63.0, 64.0, 65.0, 66.0, 67.0, 68.0, 69.0, 70.0, 71.0, 72.0, 73.0, 74.0, 75.0, 76.0, 77.0, 78.0, 79.0, 80.0, 81.0, 82.0, 83.0, 84.0, 85.0, 86.0, 87.0, 88.0, 89.0, 90.0, 91.0, 92.0, 93.0, 94.0, 95.0, 96.0, 97.0, 98.0, 99.0, 100.0, 101.0, 102.0, 103.0, 104.0, 105.0, 106.0, 107.0, 108.0, 109.0, 110.0, 111.0, 112.0, 113.0, 114.0, 115.0, 116.0, 117.0, 118.0, 119.0, 120.0, 121.0, 122.0, 123.0, 124.0, 125.0, 126.0, 127.0, 128.0, 129.0, 130.0, 131.0, 132.0, 133.0, 134.0, 135.0, 136.0, 137.0, 138.0, 139.0, 140.0, 141.0, 142.0, 143.0, 144.0, 145.0, 146.0, 147.0, 148.0, 149.0], \"legendgroup\": \"\", \"marker\": {\"color\": [1, 0, 1, 0, 1, 1, 1, 1, 0, 1, 0, 0, 0, 1, 0, 0, 1, 1, 0, 1, 1, 0, 1, 0, 0, 1, 0, 0, 0, 0, 0, 1, 1, 0, 1, 0, 0, 0, 1, 0, 0, 1, 0, 1, 0, 1, 1, 1, 1, 1, 1, 1, 1, 0, 1, 0, 0, 1, 0, 0, 0, 1, 1, 0, 1, 1, 1, 1, 1, 0, 1, 1, 0, 1, 1, 0, 0, 0, 0, 0, 0, 1, 0, 1, 1, 0, 0, 1, 0, 1, 0, 1, 1, 1, 1, 1, 0, 0, 1, 1, 1, 1, 0, 0, 0, 1, 1, 0, 0, 0, 0, 0, 1, 1, 0, 0, 1, 1, 0, 1, 0, 0, 0, 1, 0, 0, 0, 0, 0, 0, 1, 1, 0, 1, 1, 0, 0, 0, 1, 0, 1, 1, 0, 1, 0, 1, 1, 1, 1, 1], \"coloraxis\": \"coloraxis\", \"symbol\": \"circle\"}, \"mode\": \"markers\", \"name\": \"\", \"orientation\": \"v\", \"showlegend\": false, \"type\": \"scatter\", \"x\": [7.643780708312988, 5.133571624755859, 3.7244796752929688, 7.1873860359191895, 4.632745742797852, 7.28856086730957, 5.286683559417725, 3.680694818496704, 4.614442825317383, 8.416021347045898, 5.860500335693359, 5.851658344268799, 6.404038429260254, 3.285520315170288, 5.516180515289307, 5.783537864685059, 7.994197368621826, 8.29388427734375, 5.390532970428467, 6.485485076904297, 8.211220741271973, 4.347725868225098, 5.68612003326416, 6.688225269317627, 7.984598636627197, 3.204061508178711, 8.31500244140625, 5.199348449707031, 8.295026779174805, 4.0563836097717285, 6.52409029006958, 6.860975742340088, 4.090184688568115, 4.715365409851074, 8.525574684143066, 8.172706604003906, 5.48736047744751, 5.985110759735107, 6.910708427429199, 6.73818302154541, 6.672435760498047, 6.472210884094238, 6.242998123168945, 3.4363832473754883, 7.045407295227051, 4.187466621398926, 6.208161354064941, 6.405094623565674, 3.4070677757263184, 8.318142890930176, 4.615182876586914, 6.076003074645996, 6.154932022094727, 6.285739421844482, 8.031573295593262, 7.063686370849609, 5.831625461578369, 6.400236129760742, 5.506438255310059, 4.4657392501831055, 7.087372303009033, 6.645353317260742, 7.340743541717529, 7.50227689743042, 7.4611592292785645, 6.828480243682861, 8.095641136169434, 8.084620475769043, 6.516854286193848, 3.387507915496826, 4.2939043045043945, 4.666686534881592, 7.723659992218018, 5.795953750610352, 5.57216739654541, 5.657687187194824, 5.163865089416504, 4.560786724090576, 5.6116414070129395, 5.130675792694092, 3.823133707046509, 6.469683647155762, 5.065606117248535, 5.0360260009765625, 4.840859413146973, 4.192978382110596, 6.058587551116943, 6.1108622550964355, 7.229223728179932, 4.110299587249756, 5.89780330657959, 7.1887617111206055, 6.978750705718994, 6.493810176849365, 4.0561370849609375, 5.328409194946289, 5.8283562660217285, 6.0484819412231445, 5.792555332183838, 6.109803199768066, 4.982741355895996, 6.108957767486572, 7.839382648468018, 6.924191474914551, 6.871816635131836, 4.913149833679199, 4.475570201873779, 6.198592662811279, 7.065699100494385, 7.850106716156006, 4.946223735809326, 6.06643009185791, 5.355745792388916, 4.94775390625, 8.551715850830078, 5.098859786987305, 7.482100486755371, 6.0129594802856445, 4.8438401222229, 6.667425632476807, 7.363417148590088, 6.113086223602295, 8.003241539001465, 6.1498188972473145, 7.5474653244018555, 5.530176639556885, 4.520785808563232, 5.782560348510742, 7.340851783752441, 6.54787015914917, 4.910836219787598, 6.580106258392334, 6.354297161102295, 4.584405899047852, 5.628582954406738, 5.013986110687256, 4.503866195678711, 5.284488677978516, 3.8377578258514404, 3.9116623401641846, 5.60945987701416, 5.114466667175293, 6.205387592315674, 3.8543801307678223, 5.768120288848877, 4.411924839019775, 7.461437702178955, 5.5631208419799805, 6.950931549072266, 7.943543910980225], \"xaxis\": \"x\", \"y\": [5.394851207733154, 5.1455278396606445, 5.617867946624756, 8.579195976257324, 7.254030704498291, 6.791728973388672, 9.313499450683594, 8.844606399536133, 5.5544114112854, 8.881767272949219, 8.117050170898438, 8.875432968139648, 5.293790340423584, 8.540863990783691, 5.543654918670654, 4.959008693695068, 5.690351963043213, 7.321478843688965, 5.799806118011475, 7.874561786651611, 7.348955154418945, 4.721886157989502, 4.8151655197143555, 4.858567714691162, 6.185815811157227, 8.036932945251465, 4.822500228881836, 7.1469316482543945, 8.499003410339355, 6.635211944580078, 6.603517532348633, 6.216855049133301, 5.457277297973633, 4.688868522644043, 5.849669456481934, 6.993887424468994, 11.157578468322754, 3.543252944946289, 6.078458309173584, 8.41635513305664, 6.741086006164551, 9.645450592041016, 5.982147216796875, 6.630303859710693, 7.387868881225586, 10.004280090332031, 9.077970504760742, 5.528350830078125, 6.949992656707764, 6.55711555480957, 10.690204620361328, 4.371341705322266, 5.060770034790039, 8.548055648803711, 6.4913177490234375, 8.17584228515625, 7.393477916717529, 4.3939080238342285, 6.645320892333984, 8.459870338439941, 6.728672981262207, 10.501533508300781, 5.1208391189575195, 5.875294208526611, 4.546860218048096, 9.975625038146973, 5.03172492980957, 8.290299415588379, 7.650300979614258, 7.79544734954834, 7.87256383895874, 6.732448577880859, 6.920703887939453, 5.38047456741333, 3.6271986961364746, 7.322109699249268, 6.773336410522461, 6.215221405029297, 6.346889495849609, 8.524617195129395, 7.926701068878174, 3.9135148525238037, 7.673461437225342, 6.917928695678711, 9.395092964172363, 9.077335357666016, 10.432120323181152, 8.380514144897461, 4.8159332275390625, 5.879714488983154, 3.899188995361328, 5.445131778717041, 5.135373115539551, 6.850344181060791, 7.269202709197998, 4.181204319000244, 6.04370641708374, 5.889463424682617, 7.682220458984375, 9.261724472045898, 10.648021697998047, 4.679269790649414, 7.710697650909424, 10.15679931640625, 5.702343463897705, 10.994887351989746, 10.90410327911377, 10.689436912536621, 6.532637119293213, 6.313645839691162, 7.892316818237305, 6.29433012008667, 7.182311058044434, 8.226284980773926, 7.7318243980407715, 6.148587226867676, 9.333953857421875, 7.478423118591309, 5.853240489959717, 5.8610758781433105, 6.978713512420654, 6.925992488861084, 9.142516136169434, 6.530348300933838, 7.758472919464111, 5.203567981719971, 8.870146751403809, 8.26795768737793, 7.661167144775391, 5.855138301849365, 3.9424550533294678, 7.412449359893799, 6.530630588531494, 9.991338729858398, 8.537962913513184, 5.22704553604126, 6.250609397888184, 10.296545028686523, 9.066266059875488, 9.022115707397461, 6.496861934661865, 8.640840530395508, 7.617175102233887, 7.493497371673584, 6.104424476623535, 7.461944580078125, 8.285557746887207, 4.706252574920654, 8.825042724609375, 5.101256847381592], \"yaxis\": \"y\"}],\n",
       "                        {\"coloraxis\": {\"colorbar\": {\"title\": {\"text\": \"label\"}}, \"colorscale\": [[0.0, \"rgb(255,0,0)\"], [1.0, \"rgb(0,0,255)\"]], \"showscale\": false}, \"height\": 600, \"legend\": {\"tracegroupgap\": 0}, \"template\": {\"data\": {\"bar\": [{\"error_x\": {\"color\": \"rgb(51,51,51)\"}, \"error_y\": {\"color\": \"rgb(51,51,51)\"}, \"marker\": {\"line\": {\"color\": \"rgb(237,237,237)\", \"width\": 0.5}}, \"type\": \"bar\"}], \"barpolar\": [{\"marker\": {\"line\": {\"color\": \"rgb(237,237,237)\", \"width\": 0.5}}, \"type\": \"barpolar\"}], \"carpet\": [{\"aaxis\": {\"endlinecolor\": \"rgb(51,51,51)\", \"gridcolor\": \"white\", \"linecolor\": \"white\", \"minorgridcolor\": \"white\", \"startlinecolor\": \"rgb(51,51,51)\"}, \"baxis\": {\"endlinecolor\": \"rgb(51,51,51)\", \"gridcolor\": \"white\", \"linecolor\": \"white\", \"minorgridcolor\": \"white\", \"startlinecolor\": \"rgb(51,51,51)\"}, \"type\": \"carpet\"}], \"choropleth\": [{\"colorbar\": {\"outlinewidth\": 0, \"tickcolor\": \"rgb(237,237,237)\", \"ticklen\": 6, \"ticks\": \"inside\"}, \"type\": \"choropleth\"}], \"contour\": [{\"colorbar\": {\"outlinewidth\": 0, \"tickcolor\": \"rgb(237,237,237)\", \"ticklen\": 6, \"ticks\": \"inside\"}, \"colorscale\": [[0, \"rgb(20,44,66)\"], [1, \"rgb(90,179,244)\"]], \"type\": \"contour\"}], \"contourcarpet\": [{\"colorbar\": {\"outlinewidth\": 0, \"tickcolor\": \"rgb(237,237,237)\", \"ticklen\": 6, \"ticks\": \"inside\"}, \"type\": \"contourcarpet\"}], \"heatmap\": [{\"colorbar\": {\"outlinewidth\": 0, \"tickcolor\": \"rgb(237,237,237)\", \"ticklen\": 6, \"ticks\": \"inside\"}, \"colorscale\": [[0, \"rgb(20,44,66)\"], [1, \"rgb(90,179,244)\"]], \"type\": \"heatmap\"}], \"heatmapgl\": [{\"colorbar\": {\"outlinewidth\": 0, \"tickcolor\": \"rgb(237,237,237)\", \"ticklen\": 6, \"ticks\": \"inside\"}, \"colorscale\": [[0, \"rgb(20,44,66)\"], [1, \"rgb(90,179,244)\"]], \"type\": \"heatmapgl\"}], \"histogram\": [{\"marker\": {\"colorbar\": {\"outlinewidth\": 0, \"tickcolor\": \"rgb(237,237,237)\", \"ticklen\": 6, \"ticks\": \"inside\"}}, \"type\": \"histogram\"}], \"histogram2d\": [{\"colorbar\": {\"outlinewidth\": 0, \"tickcolor\": \"rgb(237,237,237)\", \"ticklen\": 6, \"ticks\": \"inside\"}, \"colorscale\": [[0, \"rgb(20,44,66)\"], [1, \"rgb(90,179,244)\"]], \"type\": \"histogram2d\"}], \"histogram2dcontour\": [{\"colorbar\": {\"outlinewidth\": 0, \"tickcolor\": \"rgb(237,237,237)\", \"ticklen\": 6, \"ticks\": \"inside\"}, \"colorscale\": [[0, \"rgb(20,44,66)\"], [1, \"rgb(90,179,244)\"]], \"type\": \"histogram2dcontour\"}], \"mesh3d\": [{\"colorbar\": {\"outlinewidth\": 0, \"tickcolor\": \"rgb(237,237,237)\", \"ticklen\": 6, \"ticks\": \"inside\"}, \"type\": \"mesh3d\"}], \"parcoords\": [{\"line\": {\"colorbar\": {\"outlinewidth\": 0, \"tickcolor\": \"rgb(237,237,237)\", \"ticklen\": 6, \"ticks\": \"inside\"}}, \"type\": \"parcoords\"}], \"pie\": [{\"automargin\": true, \"type\": \"pie\"}], \"scatter\": [{\"marker\": {\"colorbar\": {\"outlinewidth\": 0, \"tickcolor\": \"rgb(237,237,237)\", \"ticklen\": 6, \"ticks\": \"inside\"}}, \"type\": \"scatter\"}], \"scatter3d\": [{\"line\": {\"colorbar\": {\"outlinewidth\": 0, \"tickcolor\": \"rgb(237,237,237)\", \"ticklen\": 6, \"ticks\": \"inside\"}}, \"marker\": {\"colorbar\": {\"outlinewidth\": 0, \"tickcolor\": \"rgb(237,237,237)\", \"ticklen\": 6, \"ticks\": \"inside\"}}, \"type\": \"scatter3d\"}], \"scattercarpet\": [{\"marker\": {\"colorbar\": {\"outlinewidth\": 0, \"tickcolor\": \"rgb(237,237,237)\", \"ticklen\": 6, \"ticks\": \"inside\"}}, \"type\": \"scattercarpet\"}], \"scattergeo\": [{\"marker\": {\"colorbar\": {\"outlinewidth\": 0, \"tickcolor\": \"rgb(237,237,237)\", \"ticklen\": 6, \"ticks\": \"inside\"}}, \"type\": \"scattergeo\"}], \"scattergl\": [{\"marker\": {\"colorbar\": {\"outlinewidth\": 0, \"tickcolor\": \"rgb(237,237,237)\", \"ticklen\": 6, \"ticks\": \"inside\"}}, \"type\": \"scattergl\"}], \"scattermapbox\": [{\"marker\": {\"colorbar\": {\"outlinewidth\": 0, \"tickcolor\": \"rgb(237,237,237)\", \"ticklen\": 6, \"ticks\": \"inside\"}}, \"type\": \"scattermapbox\"}], \"scatterpolar\": [{\"marker\": {\"colorbar\": {\"outlinewidth\": 0, \"tickcolor\": \"rgb(237,237,237)\", \"ticklen\": 6, \"ticks\": \"inside\"}}, \"type\": \"scatterpolar\"}], \"scatterpolargl\": [{\"marker\": {\"colorbar\": {\"outlinewidth\": 0, \"tickcolor\": \"rgb(237,237,237)\", \"ticklen\": 6, \"ticks\": \"inside\"}}, \"type\": \"scatterpolargl\"}], \"scatterternary\": [{\"marker\": {\"colorbar\": {\"outlinewidth\": 0, \"tickcolor\": \"rgb(237,237,237)\", \"ticklen\": 6, \"ticks\": \"inside\"}}, \"type\": \"scatterternary\"}], \"surface\": [{\"colorbar\": {\"outlinewidth\": 0, \"tickcolor\": \"rgb(237,237,237)\", \"ticklen\": 6, \"ticks\": \"inside\"}, \"colorscale\": [[0, \"rgb(20,44,66)\"], [1, \"rgb(90,179,244)\"]], \"type\": \"surface\"}], \"table\": [{\"cells\": {\"fill\": {\"color\": \"rgb(237,237,237)\"}, \"line\": {\"color\": \"white\"}}, \"header\": {\"fill\": {\"color\": \"rgb(217,217,217)\"}, \"line\": {\"color\": \"white\"}}, \"type\": \"table\"}]}, \"layout\": {\"annotationdefaults\": {\"arrowhead\": 0, \"arrowwidth\": 1}, \"coloraxis\": {\"colorbar\": {\"outlinewidth\": 0, \"tickcolor\": \"rgb(237,237,237)\", \"ticklen\": 6, \"ticks\": \"inside\"}}, \"colorscale\": {\"sequential\": [[0, \"rgb(20,44,66)\"], [1, \"rgb(90,179,244)\"]], \"sequentialminus\": [[0, \"rgb(20,44,66)\"], [1, \"rgb(90,179,244)\"]]}, \"colorway\": [\"#F8766D\", \"#A3A500\", \"#00BF7D\", \"#00B0F6\", \"#E76BF3\"], \"font\": {\"color\": \"rgb(51,51,51)\"}, \"geo\": {\"bgcolor\": \"white\", \"lakecolor\": \"white\", \"landcolor\": \"rgb(237,237,237)\", \"showlakes\": true, \"showland\": true, \"subunitcolor\": \"white\"}, \"hoverlabel\": {\"align\": \"left\"}, \"hovermode\": \"closest\", \"paper_bgcolor\": \"white\", \"plot_bgcolor\": \"rgb(237,237,237)\", \"polar\": {\"angularaxis\": {\"gridcolor\": \"white\", \"linecolor\": \"white\", \"showgrid\": true, \"tickcolor\": \"rgb(51,51,51)\", \"ticks\": \"outside\"}, \"bgcolor\": \"rgb(237,237,237)\", \"radialaxis\": {\"gridcolor\": \"white\", \"linecolor\": \"white\", \"showgrid\": true, \"tickcolor\": \"rgb(51,51,51)\", \"ticks\": \"outside\"}}, \"scene\": {\"xaxis\": {\"backgroundcolor\": \"rgb(237,237,237)\", \"gridcolor\": \"white\", \"gridwidth\": 2, \"linecolor\": \"white\", \"showbackground\": true, \"showgrid\": true, \"tickcolor\": \"rgb(51,51,51)\", \"ticks\": \"outside\", \"zerolinecolor\": \"white\"}, \"yaxis\": {\"backgroundcolor\": \"rgb(237,237,237)\", \"gridcolor\": \"white\", \"gridwidth\": 2, \"linecolor\": \"white\", \"showbackground\": true, \"showgrid\": true, \"tickcolor\": \"rgb(51,51,51)\", \"ticks\": \"outside\", \"zerolinecolor\": \"white\"}, \"zaxis\": {\"backgroundcolor\": \"rgb(237,237,237)\", \"gridcolor\": \"white\", \"gridwidth\": 2, \"linecolor\": \"white\", \"showbackground\": true, \"showgrid\": true, \"tickcolor\": \"rgb(51,51,51)\", \"ticks\": \"outside\", \"zerolinecolor\": \"white\"}}, \"shapedefaults\": {\"fillcolor\": \"black\", \"line\": {\"width\": 0}, \"opacity\": 0.3}, \"ternary\": {\"aaxis\": {\"gridcolor\": \"white\", \"linecolor\": \"white\", \"showgrid\": true, \"tickcolor\": \"rgb(51,51,51)\", \"ticks\": \"outside\"}, \"baxis\": {\"gridcolor\": \"white\", \"linecolor\": \"white\", \"showgrid\": true, \"tickcolor\": \"rgb(51,51,51)\", \"ticks\": \"outside\"}, \"bgcolor\": \"rgb(237,237,237)\", \"caxis\": {\"gridcolor\": \"white\", \"linecolor\": \"white\", \"showgrid\": true, \"tickcolor\": \"rgb(51,51,51)\", \"ticks\": \"outside\"}}, \"xaxis\": {\"automargin\": true, \"gridcolor\": \"white\", \"linecolor\": \"white\", \"showgrid\": true, \"tickcolor\": \"rgb(51,51,51)\", \"ticks\": \"outside\", \"title\": {\"standoff\": 15}, \"zerolinecolor\": \"white\"}, \"yaxis\": {\"automargin\": true, \"gridcolor\": \"white\", \"linecolor\": \"white\", \"showgrid\": true, \"tickcolor\": \"rgb(51,51,51)\", \"ticks\": \"outside\", \"title\": {\"standoff\": 15}, \"zerolinecolor\": \"white\"}}}, \"title\": {\"text\": \"LogP\"}, \"width\": 600, \"xaxis\": {\"anchor\": \"y\", \"domain\": [0.0, 1.0], \"showticklabels\": false, \"title\": {\"text\": \"x\"}}, \"yaxis\": {\"anchor\": \"x\", \"domain\": [0.0, 1.0], \"showticklabels\": false, \"title\": {\"text\": \"y\"}}},\n",
       "                        {\"responsive\": true}\n",
       "                    ).then(function(){\n",
       "                            \n",
       "var gd = document.getElementById('75d80c50-3962-4574-87b1-d1e7abecaa81');\n",
       "var x = new MutationObserver(function (mutations, observer) {{\n",
       "        var display = window.getComputedStyle(gd).display;\n",
       "        if (!display || display === 'none') {{\n",
       "            console.log([gd, 'removed!']);\n",
       "            Plotly.purge(gd);\n",
       "            observer.disconnect();\n",
       "        }}\n",
       "}});\n",
       "\n",
       "// Listen for the removal of the full notebook cells\n",
       "var notebookContainer = gd.closest('#notebook-container');\n",
       "if (notebookContainer) {{\n",
       "    x.observe(notebookContainer, {childList: true});\n",
       "}}\n",
       "\n",
       "// Listen for the clearing of the current output cell\n",
       "var outputEl = gd.closest('.output');\n",
       "if (outputEl) {{\n",
       "    x.observe(outputEl, {childList: true});\n",
       "}}\n",
       "\n",
       "                        })\n",
       "                };\n",
       "                });\n",
       "            </script>\n",
       "        </div>"
      ]
     },
     "metadata": {},
     "output_type": "display_data"
    }
   ],
   "source": [
    "LogP = temp_plot_input\n",
    "LogP['label'] = df['binary_logp']\n",
    "LogP_plot = render_2D_scatter_plotly(LogP, title='LogP')\n",
    "LogP_plot"
   ]
  },
  {
   "cell_type": "markdown",
   "metadata": {},
   "source": [
    "#### Share of positively charged atoms"
   ]
  },
  {
   "cell_type": "code",
   "execution_count": null,
   "metadata": {},
   "outputs": [],
   "source": [
    "pos_charge = temp_plot_input\n",
    "pos_charge['label'] = df['CMP_ATOMS_POSITIVE_FRAC']\n",
    "pos_charge_plot = render_2D_scatter_plotly(pos_charge, title='Share of positively charged atoms')\n",
    "pos_charge_plot"
   ]
  },
  {
   "cell_type": "markdown",
   "metadata": {},
   "source": [
    "#### Share of negatively charged atoms"
   ]
  },
  {
   "cell_type": "code",
   "execution_count": null,
   "metadata": {},
   "outputs": [],
   "source": [
    "neg_charge = temp_plot_input\n",
    "neg_charge['label'] = df['CMP_ATOMS_NEGATIVE_FRAC']\n",
    "neg_charge_plot = render_2D_scatter_plotly(neg_charge, title='Share of negatively charged atoms')\n",
    "neg_charge_plot"
   ]
  },
  {
   "cell_type": "code",
   "execution_count": null,
   "metadata": {},
   "outputs": [],
   "source": [
    "df.head()"
   ]
  },
  {
   "cell_type": "code",
   "execution_count": null,
   "metadata": {},
   "outputs": [],
   "source": [
    "df.describe()"
   ]
  },
  {
   "cell_type": "code",
   "execution_count": null,
   "metadata": {},
   "outputs": [],
   "source": []
  }
 ],
 "metadata": {
  "kernelspec": {
   "display_name": "Python 3",
   "language": "python",
   "name": "python3"
  },
  "language_info": {
   "codemirror_mode": {
    "name": "ipython",
    "version": 3
   },
   "file_extension": ".py",
   "mimetype": "text/x-python",
   "name": "python",
   "nbconvert_exporter": "python",
   "pygments_lexer": "ipython3",
   "version": "3.6.10"
  }
 },
 "nbformat": 4,
 "nbformat_minor": 4
}
