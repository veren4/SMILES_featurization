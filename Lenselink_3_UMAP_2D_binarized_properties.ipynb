{
 "cells": [
  {
   "cell_type": "markdown",
   "metadata": {},
   "source": [
    "In this notebook, I will create several UMAPS with the data from Lenselink and check wether I can find physiochemical properties that are or are not captured by canonical SMILES.\n",
    "\n",
    "ATTENTION: I saw that there are [special metrics](https://umap-learn.readthedocs.io/en/latest/parameters.html#metric) for binary data. I haven't tried the out yet."
   ]
  },
  {
   "cell_type": "code",
   "execution_count": 1,
   "metadata": {},
   "outputs": [
    {
     "name": "stderr",
     "output_type": "stream",
     "text": [
      "/home/verena/anaconda3/envs/wonderland/lib/python3.6/site-packages/umap/spectral.py:4: NumbaDeprecationWarning:\n",
      "\n",
      "No direct replacement for 'numba.targets' available. Visit https://gitter.im/numba/numba-dev to request help. Thanks!\n",
      "\n"
     ]
    }
   ],
   "source": [
    "import pandas as pd\n",
    "import numpy as np\n",
    "import plotly.express as px\n",
    "import umap"
   ]
  },
  {
   "cell_type": "code",
   "execution_count": 2,
   "metadata": {},
   "outputs": [],
   "source": [
    "df = pd.read_csv('../datasets/Lenselink_et_al/Lenselink_1_Molecular_Notation_Transformation_150samples.csv')"
   ]
  },
  {
   "cell_type": "markdown",
   "metadata": {},
   "source": [
    "#### Binarize - molecular surface area\n",
    "mean 430\n",
    "std 135\n",
    "min 151\n",
    "max 1000"
   ]
  },
  {
   "cell_type": "code",
   "execution_count": 3,
   "metadata": {},
   "outputs": [
    {
     "data": {
      "text/plain": [
       "<matplotlib.axes._subplots.AxesSubplot at 0x7f1233de9a90>"
      ]
     },
     "execution_count": 3,
     "metadata": {},
     "output_type": "execute_result"
    },
    {
     "data": {
      "image/png": "[encoded data removed]",
      "text/plain": [
       "<Figure size 432x288 with 1 Axes>"
      ]
     },
     "metadata": {
      "needs_background": "light"
     },
     "output_type": "display_data"
    }
   ],
   "source": [
    "df.CMP_MOLECULAR_SURFACEAREA.hist()"
   ]
  },
  {
   "cell_type": "markdown",
   "metadata": {},
   "source": [
    "threshold: mean -> 430"
   ]
  },
  {
   "cell_type": "code",
   "execution_count": 4,
   "metadata": {},
   "outputs": [],
   "source": [
    "df['binary_mol_surface_area'] = (df['CMP_MOLECULAR_SURFACEAREA'] < 430).astype(int)"
   ]
  },
  {
   "cell_type": "markdown",
   "metadata": {},
   "source": [
    "#### Binarize - LogP"
   ]
  },
  {
   "cell_type": "code",
   "execution_count": 5,
   "metadata": {},
   "outputs": [
    {
     "data": {
      "text/plain": [
       "<matplotlib.axes._subplots.AxesSubplot at 0x7f1230ea1f98>"
      ]
     },
     "execution_count": 5,
     "metadata": {},
     "output_type": "execute_result"
    },
    {
     "data": {
      "image/png": "[encoded data removed]",
      "text/plain": [
       "<Figure size 432x288 with 1 Axes>"
      ]
     },
     "metadata": {
      "needs_background": "light"
     },
     "output_type": "display_data"
    }
   ],
   "source": [
    "df.CMP_LOGP.hist()"
   ]
  },
  {
   "cell_type": "code",
   "execution_count": 6,
   "metadata": {},
   "outputs": [],
   "source": [
    "df['binary_logp'] = (df['CMP_LOGP'] < 3.68).astype(int)"
   ]
  },
  {
   "cell_type": "markdown",
   "metadata": {},
   "source": [
    "#### Binarize - Solubility"
   ]
  },
  {
   "cell_type": "markdown",
   "metadata": {},
   "source": [
    "mean -6.17"
   ]
  },
  {
   "cell_type": "code",
   "execution_count": 7,
   "metadata": {},
   "outputs": [
    {
     "data": {
      "text/plain": [
       "<matplotlib.axes._subplots.AxesSubplot at 0x7f1234f8af28>"
      ]
     },
     "execution_count": 7,
     "metadata": {},
     "output_type": "execute_result"
    },
    {
     "data": {
      "image/png": "[encoded data removed]",
      "text/plain": [
       "<Figure size 432x288 with 1 Axes>"
      ]
     },
     "metadata": {
      "needs_background": "light"
     },
     "output_type": "display_data"
    }
   ],
   "source": [
    "df.CMP_SOLUBILITY.hist()"
   ]
  },
  {
   "cell_type": "code",
   "execution_count": 8,
   "metadata": {},
   "outputs": [],
   "source": [
    "df['binary_solubility'] = (df['CMP_SOLUBILITY'] < -6.17).astype(int)"
   ]
  },
  {
   "cell_type": "markdown",
   "metadata": {},
   "source": [
    "#### Binarize - Molecular weight"
   ]
  },
  {
   "cell_type": "markdown",
   "metadata": {},
   "source": [
    "mean 435.69"
   ]
  },
  {
   "cell_type": "code",
   "execution_count": 9,
   "metadata": {},
   "outputs": [
    {
     "data": {
      "text/plain": [
       "<matplotlib.axes._subplots.AxesSubplot at 0x7f1235211940>"
      ]
     },
     "execution_count": 9,
     "metadata": {},
     "output_type": "execute_result"
    },
    {
     "data": {
      "image/png": "[encoded data removed]",
      "text/plain": [
       "<Figure size 432x288 with 1 Axes>"
      ]
     },
     "metadata": {
      "needs_background": "light"
     },
     "output_type": "display_data"
    }
   ],
   "source": [
    "df.CMP_MOLECULAR_WEIGHT.hist()"
   ]
  },
  {
   "cell_type": "code",
   "execution_count": 10,
   "metadata": {},
   "outputs": [],
   "source": [
    "df['binary_molecular_weight'] = (df['CMP_MOLECULAR_WEIGHT'] < 435.69).astype(int)"
   ]
  },
  {
   "cell_type": "code",
   "execution_count": 11,
   "metadata": {
    "scrolled": false
   },
   "outputs": [],
   "source": [
    "#df.describe()"
   ]
  },
  {
   "cell_type": "markdown",
   "metadata": {},
   "source": [
    "### Data preparation"
   ]
  },
  {
   "cell_type": "markdown",
   "metadata": {},
   "source": [
    "The question now is with which data I want to train the UMAP. I currently have the binary as well as the non-binary versions in my dataframe.\\\n",
    "2 Options:\\\n",
    "a) train with all binarized properties\\\n",
    "b) train with just 1 binarized property at a time\\\n",
    "\n",
    "I tried option a, and I don't see a pattern in any of the plots.\n",
    "I tried option b) by only binarizing the molecular surface area, but I didn't see a pattern there either."
   ]
  },
  {
   "cell_type": "code",
   "execution_count": null,
   "metadata": {},
   "outputs": [],
   "source": [
    "# for option a)\n",
    "#df.drop(columns=['CMP_MOLECULAR_SURFACEAREA',\n",
    "#                'CMP_LOGP',\n",
    "#                'CMP_SOLUBILITY',\n",
    "#                'CMP_MOLECULAR_WEIGHT'])"
   ]
  },
  {
   "cell_type": "code",
   "execution_count": 12,
   "metadata": {},
   "outputs": [
    {
     "data": {
      "text/html": [
       "<div>\n",
       "<style scoped>\n",
       "    .dataframe tbody tr th:only-of-type {\n",
       "        vertical-align: middle;\n",
       "    }\n",
       "\n",
       "    .dataframe tbody tr th {\n",
       "        vertical-align: top;\n",
       "    }\n",
       "\n",
       "    .dataframe thead th {\n",
       "        text-align: right;\n",
       "    }\n",
       "</style>\n",
       "<table border=\"1\" class=\"dataframe\">\n",
       "  <thead>\n",
       "    <tr style=\"text-align: right;\">\n",
       "      <th></th>\n",
       "      <th>Unnamed: 0</th>\n",
       "      <th>Unnamed: 0.1</th>\n",
       "      <th>CMP_CLASS_SMALL_MOLECULE</th>\n",
       "      <th>CMP_CLASS_BIOLOGICAL</th>\n",
       "      <th>CMP_CLASS_PEPTIDE</th>\n",
       "      <th>CMP_CLASS_ORGANIC</th>\n",
       "      <th>CMP_FORMALCHARGE</th>\n",
       "      <th>CMP_NUM_RINGS</th>\n",
       "      <th>CMP_NUM_AROMATICRINGS</th>\n",
       "      <th>CMP_NUM_CHAINS</th>\n",
       "      <th>CMP_MOLECULAR_SURFACEAREA</th>\n",
       "      <th>CMP_LOGP</th>\n",
       "      <th>CMP_SOLUBILITY</th>\n",
       "      <th>CMP_ATOMS_POSITIVE_FRAC</th>\n",
       "      <th>CMP_ATOMS_NEGATIVE_FRAC</th>\n",
       "      <th>canonical_smiles</th>\n",
       "      <th>fingerprint</th>\n",
       "      <th>binary_molecular_weight</th>\n",
       "    </tr>\n",
       "  </thead>\n",
       "  <tbody>\n",
       "    <tr>\n",
       "      <th>0</th>\n",
       "      <td>193782</td>\n",
       "      <td>193782</td>\n",
       "      <td>1</td>\n",
       "      <td>0</td>\n",
       "      <td>0</td>\n",
       "      <td>1</td>\n",
       "      <td>0</td>\n",
       "      <td>4</td>\n",
       "      <td>2</td>\n",
       "      <td>7</td>\n",
       "      <td>395.91</td>\n",
       "      <td>-1.373</td>\n",
       "      <td>-2.130</td>\n",
       "      <td>0.0</td>\n",
       "      <td>0.0</td>\n",
       "      <td>COC(=O)[C@@H]1C[C@H](SC[C@H]2O[C@@H](n3cnc4c(N...</td>\n",
       "      <td>1110111010110101101011111011010010001100100110...</td>\n",
       "      <td>1</td>\n",
       "    </tr>\n",
       "    <tr>\n",
       "      <th>1</th>\n",
       "      <td>195928</td>\n",
       "      <td>195928</td>\n",
       "      <td>1</td>\n",
       "      <td>0</td>\n",
       "      <td>0</td>\n",
       "      <td>1</td>\n",
       "      <td>0</td>\n",
       "      <td>6</td>\n",
       "      <td>5</td>\n",
       "      <td>7</td>\n",
       "      <td>498.38</td>\n",
       "      <td>6.996</td>\n",
       "      <td>-8.837</td>\n",
       "      <td>0.0</td>\n",
       "      <td>0.0</td>\n",
       "      <td>C[C@H]1CN(c2ccc3c(Nc4ccc(Cl)c(-c5ncc(-c6ccccc6...</td>\n",
       "      <td>1100010101011110100010111101101011111101000110...</td>\n",
       "      <td>0</td>\n",
       "    </tr>\n",
       "    <tr>\n",
       "      <th>2</th>\n",
       "      <td>42845</td>\n",
       "      <td>42845</td>\n",
       "      <td>1</td>\n",
       "      <td>0</td>\n",
       "      <td>0</td>\n",
       "      <td>1</td>\n",
       "      <td>0</td>\n",
       "      <td>4</td>\n",
       "      <td>4</td>\n",
       "      <td>5</td>\n",
       "      <td>312.08</td>\n",
       "      <td>2.695</td>\n",
       "      <td>-3.695</td>\n",
       "      <td>0.0</td>\n",
       "      <td>0.0</td>\n",
       "      <td>N=C(N)c1ccc2[nH]c(Cc3nc4cc(F)c(F)cc4[nH]3)nc2c1</td>\n",
       "      <td>1000011000100000000001000000000010111000000001...</td>\n",
       "      <td>1</td>\n",
       "    </tr>\n",
       "    <tr>\n",
       "      <th>3</th>\n",
       "      <td>54351</td>\n",
       "      <td>54351</td>\n",
       "      <td>1</td>\n",
       "      <td>0</td>\n",
       "      <td>0</td>\n",
       "      <td>1</td>\n",
       "      <td>0</td>\n",
       "      <td>3</td>\n",
       "      <td>2</td>\n",
       "      <td>5</td>\n",
       "      <td>373.79</td>\n",
       "      <td>4.279</td>\n",
       "      <td>-6.647</td>\n",
       "      <td>0.0</td>\n",
       "      <td>0.0</td>\n",
       "      <td>CN(/N=C/c1cc(Br)ccc1OCc1ccc(Cl)cc1)C1=NCCN1</td>\n",
       "      <td>1000000001000001000010011000000000100000000110...</td>\n",
       "      <td>1</td>\n",
       "    </tr>\n",
       "    <tr>\n",
       "      <th>4</th>\n",
       "      <td>141989</td>\n",
       "      <td>141989</td>\n",
       "      <td>1</td>\n",
       "      <td>0</td>\n",
       "      <td>0</td>\n",
       "      <td>1</td>\n",
       "      <td>0</td>\n",
       "      <td>4</td>\n",
       "      <td>3</td>\n",
       "      <td>4</td>\n",
       "      <td>308.19</td>\n",
       "      <td>3.657</td>\n",
       "      <td>-5.175</td>\n",
       "      <td>0.0</td>\n",
       "      <td>0.0</td>\n",
       "      <td>Cc1ccc(S(=O)(=O)n2c3c(c4ccccc42)CCNC3)cc1</td>\n",
       "      <td>1000010111111001000111000111001111110101011010...</td>\n",
       "      <td>1</td>\n",
       "    </tr>\n",
       "    <tr>\n",
       "      <th>...</th>\n",
       "      <td>...</td>\n",
       "      <td>...</td>\n",
       "      <td>...</td>\n",
       "      <td>...</td>\n",
       "      <td>...</td>\n",
       "      <td>...</td>\n",
       "      <td>...</td>\n",
       "      <td>...</td>\n",
       "      <td>...</td>\n",
       "      <td>...</td>\n",
       "      <td>...</td>\n",
       "      <td>...</td>\n",
       "      <td>...</td>\n",
       "      <td>...</td>\n",
       "      <td>...</td>\n",
       "      <td>...</td>\n",
       "      <td>...</td>\n",
       "      <td>...</td>\n",
       "    </tr>\n",
       "    <tr>\n",
       "      <th>145</th>\n",
       "      <td>45971</td>\n",
       "      <td>45971</td>\n",
       "      <td>0</td>\n",
       "      <td>1</td>\n",
       "      <td>0</td>\n",
       "      <td>0</td>\n",
       "      <td>0</td>\n",
       "      <td>4</td>\n",
       "      <td>3</td>\n",
       "      <td>10</td>\n",
       "      <td>538.25</td>\n",
       "      <td>2.927</td>\n",
       "      <td>-6.476</td>\n",
       "      <td>0.0</td>\n",
       "      <td>0.0</td>\n",
       "      <td>CC(C)C[C@H](NC(=O)c1cc2ccccc2o1)C(=O)N[C@H]1C[...</td>\n",
       "      <td>1111011111110100110001001111111111001111101111...</td>\n",
       "      <td>0</td>\n",
       "    </tr>\n",
       "    <tr>\n",
       "      <th>146</th>\n",
       "      <td>154164</td>\n",
       "      <td>154164</td>\n",
       "      <td>1</td>\n",
       "      <td>0</td>\n",
       "      <td>0</td>\n",
       "      <td>1</td>\n",
       "      <td>0</td>\n",
       "      <td>4</td>\n",
       "      <td>2</td>\n",
       "      <td>5</td>\n",
       "      <td>408.49</td>\n",
       "      <td>1.262</td>\n",
       "      <td>-4.350</td>\n",
       "      <td>0.0</td>\n",
       "      <td>0.0</td>\n",
       "      <td>CS(=O)(=O)Nc1ccc2c(c1)OC1(CCN(CCc3ccccn3)CC1)C...</td>\n",
       "      <td>1011010111111000100010001011000110100100000010...</td>\n",
       "      <td>1</td>\n",
       "    </tr>\n",
       "    <tr>\n",
       "      <th>147</th>\n",
       "      <td>17608</td>\n",
       "      <td>17608</td>\n",
       "      <td>1</td>\n",
       "      <td>0</td>\n",
       "      <td>0</td>\n",
       "      <td>1</td>\n",
       "      <td>0</td>\n",
       "      <td>5</td>\n",
       "      <td>4</td>\n",
       "      <td>8</td>\n",
       "      <td>406.48</td>\n",
       "      <td>3.595</td>\n",
       "      <td>-5.251</td>\n",
       "      <td>0.0</td>\n",
       "      <td>0.0</td>\n",
       "      <td>C[C@]1(O)C[C@@H](c2nc(-c3ccc(Oc4ccccc4)c(F)c3F...</td>\n",
       "      <td>1100111111010110000101111111110011101001111110...</td>\n",
       "      <td>1</td>\n",
       "    </tr>\n",
       "    <tr>\n",
       "      <th>148</th>\n",
       "      <td>57318</td>\n",
       "      <td>57318</td>\n",
       "      <td>1</td>\n",
       "      <td>0</td>\n",
       "      <td>0</td>\n",
       "      <td>1</td>\n",
       "      <td>0</td>\n",
       "      <td>5</td>\n",
       "      <td>4</td>\n",
       "      <td>3</td>\n",
       "      <td>327.06</td>\n",
       "      <td>3.678</td>\n",
       "      <td>-6.184</td>\n",
       "      <td>0.0</td>\n",
       "      <td>0.0</td>\n",
       "      <td>Oc1ccc(C2CC(n3ccnc3)c3ccc4ccccc4c3O2)cc1</td>\n",
       "      <td>1101111001011100000000110100000000100110100110...</td>\n",
       "      <td>1</td>\n",
       "    </tr>\n",
       "    <tr>\n",
       "      <th>149</th>\n",
       "      <td>199566</td>\n",
       "      <td>199566</td>\n",
       "      <td>1</td>\n",
       "      <td>0</td>\n",
       "      <td>0</td>\n",
       "      <td>1</td>\n",
       "      <td>0</td>\n",
       "      <td>3</td>\n",
       "      <td>0</td>\n",
       "      <td>7</td>\n",
       "      <td>284.64</td>\n",
       "      <td>1.370</td>\n",
       "      <td>-2.103</td>\n",
       "      <td>0.0</td>\n",
       "      <td>0.0</td>\n",
       "      <td>C/C=C1/C(=O)N2C(C(=O)O)=C3[C@@H](OCCF)CCC[C@@H...</td>\n",
       "      <td>0011111110100100001111111101100010100110010001...</td>\n",
       "      <td>1</td>\n",
       "    </tr>\n",
       "  </tbody>\n",
       "</table>\n",
       "<p>150 rows × 18 columns</p>\n",
       "</div>"
      ],
      "text/plain": [
       "     Unnamed: 0  Unnamed: 0.1  CMP_CLASS_SMALL_MOLECULE  CMP_CLASS_BIOLOGICAL  \\\n",
       "0        193782        193782                         1                     0   \n",
       "1        195928        195928                         1                     0   \n",
       "2         42845         42845                         1                     0   \n",
       "3         54351         54351                         1                     0   \n",
       "4        141989        141989                         1                     0   \n",
       "..          ...           ...                       ...                   ...   \n",
       "145       45971         45971                         0                     1   \n",
       "146      154164        154164                         1                     0   \n",
       "147       17608         17608                         1                     0   \n",
       "148       57318         57318                         1                     0   \n",
       "149      199566        199566                         1                     0   \n",
       "\n",
       "     CMP_CLASS_PEPTIDE  CMP_CLASS_ORGANIC  CMP_FORMALCHARGE  CMP_NUM_RINGS  \\\n",
       "0                    0                  1                 0              4   \n",
       "1                    0                  1                 0              6   \n",
       "2                    0                  1                 0              4   \n",
       "3                    0                  1                 0              3   \n",
       "4                    0                  1                 0              4   \n",
       "..                 ...                ...               ...            ...   \n",
       "145                  0                  0                 0              4   \n",
       "146                  0                  1                 0              4   \n",
       "147                  0                  1                 0              5   \n",
       "148                  0                  1                 0              5   \n",
       "149                  0                  1                 0              3   \n",
       "\n",
       "     CMP_NUM_AROMATICRINGS  CMP_NUM_CHAINS  CMP_MOLECULAR_SURFACEAREA  \\\n",
       "0                        2               7                     395.91   \n",
       "1                        5               7                     498.38   \n",
       "2                        4               5                     312.08   \n",
       "3                        2               5                     373.79   \n",
       "4                        3               4                     308.19   \n",
       "..                     ...             ...                        ...   \n",
       "145                      3              10                     538.25   \n",
       "146                      2               5                     408.49   \n",
       "147                      4               8                     406.48   \n",
       "148                      4               3                     327.06   \n",
       "149                      0               7                     284.64   \n",
       "\n",
       "     CMP_LOGP  CMP_SOLUBILITY  CMP_ATOMS_POSITIVE_FRAC  \\\n",
       "0      -1.373          -2.130                      0.0   \n",
       "1       6.996          -8.837                      0.0   \n",
       "2       2.695          -3.695                      0.0   \n",
       "3       4.279          -6.647                      0.0   \n",
       "4       3.657          -5.175                      0.0   \n",
       "..        ...             ...                      ...   \n",
       "145     2.927          -6.476                      0.0   \n",
       "146     1.262          -4.350                      0.0   \n",
       "147     3.595          -5.251                      0.0   \n",
       "148     3.678          -6.184                      0.0   \n",
       "149     1.370          -2.103                      0.0   \n",
       "\n",
       "     CMP_ATOMS_NEGATIVE_FRAC  \\\n",
       "0                        0.0   \n",
       "1                        0.0   \n",
       "2                        0.0   \n",
       "3                        0.0   \n",
       "4                        0.0   \n",
       "..                       ...   \n",
       "145                      0.0   \n",
       "146                      0.0   \n",
       "147                      0.0   \n",
       "148                      0.0   \n",
       "149                      0.0   \n",
       "\n",
       "                                      canonical_smiles  \\\n",
       "0    COC(=O)[C@@H]1C[C@H](SC[C@H]2O[C@@H](n3cnc4c(N...   \n",
       "1    C[C@H]1CN(c2ccc3c(Nc4ccc(Cl)c(-c5ncc(-c6ccccc6...   \n",
       "2      N=C(N)c1ccc2[nH]c(Cc3nc4cc(F)c(F)cc4[nH]3)nc2c1   \n",
       "3          CN(/N=C/c1cc(Br)ccc1OCc1ccc(Cl)cc1)C1=NCCN1   \n",
       "4            Cc1ccc(S(=O)(=O)n2c3c(c4ccccc42)CCNC3)cc1   \n",
       "..                                                 ...   \n",
       "145  CC(C)C[C@H](NC(=O)c1cc2ccccc2o1)C(=O)N[C@H]1C[...   \n",
       "146  CS(=O)(=O)Nc1ccc2c(c1)OC1(CCN(CCc3ccccn3)CC1)C...   \n",
       "147  C[C@]1(O)C[C@@H](c2nc(-c3ccc(Oc4ccccc4)c(F)c3F...   \n",
       "148           Oc1ccc(C2CC(n3ccnc3)c3ccc4ccccc4c3O2)cc1   \n",
       "149  C/C=C1/C(=O)N2C(C(=O)O)=C3[C@@H](OCCF)CCC[C@@H...   \n",
       "\n",
       "                                           fingerprint  \\\n",
       "0    1110111010110101101011111011010010001100100110...   \n",
       "1    1100010101011110100010111101101011111101000110...   \n",
       "2    1000011000100000000001000000000010111000000001...   \n",
       "3    1000000001000001000010011000000000100000000110...   \n",
       "4    1000010111111001000111000111001111110101011010...   \n",
       "..                                                 ...   \n",
       "145  1111011111110100110001001111111111001111101111...   \n",
       "146  1011010111111000100010001011000110100100000010...   \n",
       "147  1100111111010110000101111111110011101001111110...   \n",
       "148  1101111001011100000000110100000000100110100110...   \n",
       "149  0011111110100100001111111101100010100110010001...   \n",
       "\n",
       "     binary_molecular_weight  \n",
       "0                          1  \n",
       "1                          0  \n",
       "2                          1  \n",
       "3                          1  \n",
       "4                          1  \n",
       "..                       ...  \n",
       "145                        0  \n",
       "146                        1  \n",
       "147                        1  \n",
       "148                        1  \n",
       "149                        1  \n",
       "\n",
       "[150 rows x 18 columns]"
      ]
     },
     "execution_count": 12,
     "metadata": {},
     "output_type": "execute_result"
    }
   ],
   "source": [
    "# for option b)\n",
    "# I will binarize just the molecular weight.\n",
    "\n",
    "df.drop(columns=['binary_mol_surface_area',\n",
    "                'binary_logp',\n",
    "                'binary_solubility',\n",
    "                'CMP_MOLECULAR_WEIGHT'])"
   ]
  },
  {
   "cell_type": "code",
   "execution_count": 13,
   "metadata": {},
   "outputs": [],
   "source": [
    "umap_input = np.zeros([len(df), 2048], dtype=np.int8)\n",
    "\n",
    "for i in range(len(df)):\n",
    "    umap_input[i] = np.asarray(list(df.iloc[i,17]),\n",
    "                               dtype=np.int8)"
   ]
  },
  {
   "cell_type": "code",
   "execution_count": null,
   "metadata": {},
   "outputs": [],
   "source": [
    "#umap_input"
   ]
  },
  {
   "cell_type": "code",
   "execution_count": 14,
   "metadata": {},
   "outputs": [],
   "source": [
    "# function from Chris\n",
    "\n",
    "def umap_reduce(embeddings, **kwargs):\n",
    "    umap_params = dict()\n",
    "\n",
    "    umap_params['n_components'] = kwargs.get('n_components', 2)\n",
    "    umap_params['min_dist'] = kwargs.get('min_dist', .6)\n",
    "    umap_params['random_state'] = kwargs.get('random_state', 420)\n",
    "    umap_params['n_neighbors'] = kwargs.get('n_neighbors', 15)\n",
    "    umap_params['verbose'] = kwargs.get('verbose', 1)\n",
    "    umap_params['metric'] = kwargs.get('metric', 'cosine')\n",
    "\n",
    "    transformed_embeddings = umap.UMAP(**umap_params).fit_transform(embeddings)\n",
    "\n",
    "    return transformed_embeddings"
   ]
  },
  {
   "cell_type": "code",
   "execution_count": 15,
   "metadata": {},
   "outputs": [
    {
     "name": "stdout",
     "output_type": "stream",
     "text": [
      "UMAP(a=None, angular_rp_forest=True, b=None,\n",
      "     force_approximation_algorithm=False, init='spectral', learning_rate=1.0,\n",
      "     local_connectivity=1.0, low_memory=False, metric='cosine',\n",
      "     metric_kwds=None, min_dist=0.6, n_components=2, n_epochs=None,\n",
      "     n_neighbors=15, negative_sample_rate=5, output_metric='euclidean',\n",
      "     output_metric_kwds=None, random_state=420, repulsion_strength=1.0,\n",
      "     set_op_mix_ratio=1.0, spread=1.0, target_metric='categorical',\n",
      "     target_metric_kwds=None, target_n_neighbors=-1, target_weight=0.5,\n",
      "     transform_queue_size=4.0, transform_seed=42, unique=False, verbose=1)\n",
      "Construct fuzzy simplicial set\n",
      "Mon Jul  6 15:33:48 2020 Finding Nearest Neighbors\n",
      "Mon Jul  6 15:33:52 2020 Finished Nearest Neighbor Search\n",
      "Mon Jul  6 15:33:56 2020 Construct embedding\n",
      "\tcompleted  0  /  500 epochs\n",
      "\tcompleted  50  /  500 epochs\n",
      "\tcompleted  100  /  500 epochs\n",
      "\tcompleted  150  /  500 epochs\n",
      "\tcompleted  200  /  500 epochs\n",
      "\tcompleted  250  /  500 epochs\n",
      "\tcompleted  300  /  500 epochs\n",
      "\tcompleted  350  /  500 epochs\n",
      "\tcompleted  400  /  500 epochs\n",
      "\tcompleted  450  /  500 epochs\n",
      "Mon Jul  6 15:33:59 2020 Finished embedding\n"
     ]
    }
   ],
   "source": [
    "transformed_embeddings = umap_reduce(umap_input)"
   ]
  },
  {
   "cell_type": "code",
   "execution_count": null,
   "metadata": {},
   "outputs": [],
   "source": [
    "#transformed_embeddings"
   ]
  },
  {
   "cell_type": "markdown",
   "metadata": {},
   "source": [
    "### UMAP base"
   ]
  },
  {
   "cell_type": "code",
   "execution_count": null,
   "metadata": {},
   "outputs": [],
   "source": [
    "from pandas import DataFrame\n",
    "\n",
    "def render_2D_scatter_plotly(embeddings_dataframe: DataFrame, title=''):\n",
    "    fig = px.scatter(embeddings_dataframe,\n",
    "                     template='ggplot2',\n",
    "                     x='x',\n",
    "                     y='y',\n",
    "                     color='label',\n",
    "                     hover_name=embeddings_dataframe.index,\n",
    "                     title=title,\n",
    "                     width=600,\n",
    "                     height=600,\n",
    "                     color_continuous_scale='Bluered_r'\n",
    "                     #color_continuous_scale='Viridis'\n",
    "                     \n",
    "                     # TODO:\n",
    "                     # remove axis ticks + numbers\n",
    "                     # remove legend\n",
    "                     # remove axis labels\n",
    "                     # make the points bigger\n",
    "                     \n",
    "                     #showticklabels=False,\n",
    "                     #showspikes=False\n",
    "                     #marker_size=3                     \n",
    "                    )\n",
    "\n",
    "    fig.layout.coloraxis.showscale=False\n",
    "    fig.update_xaxes(showticklabels=False)\n",
    "    fig.update_yaxes(showticklabels=False)\n",
    "    \n",
    "    return fig"
   ]
  },
  {
   "cell_type": "code",
   "execution_count": null,
   "metadata": {},
   "outputs": [],
   "source": [
    "# Numpy nd array -> Pandas Dataframe\n",
    "temp_plot_input = pd.DataFrame(data = transformed_embeddings)\n",
    "temp_plot_input.columns = ['x', 'y']"
   ]
  },
  {
   "cell_type": "code",
   "execution_count": null,
   "metadata": {},
   "outputs": [],
   "source": [
    "#temp_plot_input"
   ]
  },
  {
   "cell_type": "markdown",
   "metadata": {},
   "source": [
    "### UMAP colored by physiochemical property"
   ]
  },
  {
   "cell_type": "markdown",
   "metadata": {},
   "source": [
    "#### Molecular weight"
   ]
  },
  {
   "cell_type": "code",
   "execution_count": null,
   "metadata": {},
   "outputs": [],
   "source": [
    "molecular_weight = temp_plot_input\n",
    "molecular_weight['label'] = df['binary_molecular_weight']\n",
    "molecular_weight_plot = render_2D_scatter_plotly(molecular_weight, title='Molecular weight')\n",
    "molecular_weight_plot"
   ]
  },
  {
   "cell_type": "markdown",
   "metadata": {},
   "source": [
    "#### Solubility"
   ]
  },
  {
   "cell_type": "code",
   "execution_count": null,
   "metadata": {},
   "outputs": [],
   "source": [
    "solubility = temp_plot_input\n",
    "solubility['label'] = df['binary_solubility']\n",
    "solubility_plot = render_2D_scatter_plotly(solubility, title='Solubility')\n",
    "solubility_plot"
   ]
  },
  {
   "cell_type": "markdown",
   "metadata": {},
   "source": [
    "#### Surface area"
   ]
  },
  {
   "cell_type": "code",
   "execution_count": null,
   "metadata": {},
   "outputs": [],
   "source": [
    "surfacearea = temp_plot_input\n",
    "surfacearea['label'] = df['binary_mol_surface_area']\n",
    "surfacearea_plot = render_2D_scatter_plotly(surfacearea, title='Molecular surface area')\n",
    "surfacearea_plot"
   ]
  },
  {
   "cell_type": "markdown",
   "metadata": {},
   "source": [
    "#### Number of aromatic rings"
   ]
  },
  {
   "cell_type": "code",
   "execution_count": null,
   "metadata": {},
   "outputs": [],
   "source": [
    "aromatic_rings = temp_plot_input\n",
    "aromatic_rings['label'] = df['CMP_NUM_AROMATICRINGS']\n",
    "aromatic_rings_plot = render_2D_scatter_plotly(aromatic_rings, title='Number of aromatic rings')\n",
    "aromatic_rings_plot"
   ]
  },
  {
   "cell_type": "markdown",
   "metadata": {},
   "source": [
    "#### LogP"
   ]
  },
  {
   "cell_type": "code",
   "execution_count": null,
   "metadata": {},
   "outputs": [],
   "source": [
    "LogP = temp_plot_input\n",
    "LogP['label'] = df['binary_logp']\n",
    "LogP_plot = render_2D_scatter_plotly(LogP, title='LogP')\n",
    "LogP_plot"
   ]
  },
  {
   "cell_type": "markdown",
   "metadata": {},
   "source": [
    "#### Share of positively charged atoms"
   ]
  },
  {
   "cell_type": "code",
   "execution_count": null,
   "metadata": {},
   "outputs": [],
   "source": [
    "pos_charge = temp_plot_input\n",
    "pos_charge['label'] = df['CMP_ATOMS_POSITIVE_FRAC']\n",
    "pos_charge_plot = render_2D_scatter_plotly(pos_charge, title='Share of positively charged atoms')\n",
    "pos_charge_plot"
   ]
  },
  {
   "cell_type": "markdown",
   "metadata": {},
   "source": [
    "#### Share of negatively charged atoms"
   ]
  },
  {
   "cell_type": "code",
   "execution_count": null,
   "metadata": {},
   "outputs": [],
   "source": [
    "neg_charge = temp_plot_input\n",
    "neg_charge['label'] = df['CMP_ATOMS_NEGATIVE_FRAC']\n",
    "neg_charge_plot = render_2D_scatter_plotly(neg_charge, title='Share of negatively charged atoms')\n",
    "neg_charge_plot"
   ]
  },
  {
   "cell_type": "code",
   "execution_count": null,
   "metadata": {},
   "outputs": [],
   "source": [
    "df.head()"
   ]
  },
  {
   "cell_type": "code",
   "execution_count": null,
   "metadata": {},
   "outputs": [],
   "source": [
    "df.describe()"
   ]
  },
  {
   "cell_type": "code",
   "execution_count": null,
   "metadata": {},
   "outputs": [],
   "source": []
  }
 ],
 "metadata": {
  "kernelspec": {
   "display_name": "Python 3",
   "language": "python",
   "name": "python3"
  },
  "language_info": {
   "codemirror_mode": {
    "name": "ipython",
    "version": 3
   },
   "file_extension": ".py",
   "mimetype": "text/x-python",
   "name": "python",
   "nbconvert_exporter": "python",
   "pygments_lexer": "ipython3",
   "version": "3.6.10"
  }
 },
 "nbformat": 4,
 "nbformat_minor": 4
}
