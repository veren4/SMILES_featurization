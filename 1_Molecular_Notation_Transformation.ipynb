{
 "cells": [
  {
   "cell_type": "code",
   "execution_count": 1,
   "metadata": {},
   "outputs": [],
   "source": [
    "import pandas as pd\n",
    "import numpy as np\n",
    "\n",
    "%matplotlib inline\n",
    "\n",
    "df = pd.read_csv('df_notebook0_dataloading_200samples.csv',\n",
    "                usecols=['smiles', 'expt', 'calc'])"
   ]
  },
  {
   "cell_type": "code",
   "execution_count": 2,
   "metadata": {},
   "outputs": [],
   "source": [
    "#from rdkit import DataStructs\n",
    "import rdkit.Chem as chem"
   ]
  },
  {
   "cell_type": "markdown",
   "metadata": {},
   "source": [
    "# Transform SMILES to Fingerprints"
   ]
  },
  {
   "cell_type": "code",
   "execution_count": 3,
   "metadata": {},
   "outputs": [],
   "source": [
    "smiles_list = df['smiles'].tolist()\n",
    "\n",
    "mols_list = [chem.MolFromSmiles(x) for x in smiles_list]   # Attention: this can give None values!\n",
    "                                                            # check with \"is None\"\n",
    "\n",
    "fingerprints_list = [chem.RDKFingerprint(x) for x in mols_list]"
   ]
  },
  {
   "cell_type": "code",
   "execution_count": 4,
   "metadata": {},
   "outputs": [
    {
     "data": {
      "text/plain": [
       "[<rdkit.DataStructs.cDataStructs.ExplicitBitVect at 0x7f84329fc080>,\n",
       " <rdkit.DataStructs.cDataStructs.ExplicitBitVect at 0x7f84329fc0d0>,\n",
       " <rdkit.DataStructs.cDataStructs.ExplicitBitVect at 0x7f84329fc120>,\n",
       " <rdkit.DataStructs.cDataStructs.ExplicitBitVect at 0x7f84329fc170>,\n",
       " <rdkit.DataStructs.cDataStructs.ExplicitBitVect at 0x7f84329fc1c0>,\n",
       " <rdkit.DataStructs.cDataStructs.ExplicitBitVect at 0x7f84329fc210>,\n",
       " <rdkit.DataStructs.cDataStructs.ExplicitBitVect at 0x7f84329fc260>,\n",
       " <rdkit.DataStructs.cDataStructs.ExplicitBitVect at 0x7f84329fc2b0>,\n",
       " <rdkit.DataStructs.cDataStructs.ExplicitBitVect at 0x7f84329fc300>,\n",
       " <rdkit.DataStructs.cDataStructs.ExplicitBitVect at 0x7f84329fc350>,\n",
       " <rdkit.DataStructs.cDataStructs.ExplicitBitVect at 0x7f84329fc3a0>,\n",
       " <rdkit.DataStructs.cDataStructs.ExplicitBitVect at 0x7f84329fc3f0>,\n",
       " <rdkit.DataStructs.cDataStructs.ExplicitBitVect at 0x7f84329fc440>,\n",
       " <rdkit.DataStructs.cDataStructs.ExplicitBitVect at 0x7f84329fc490>,\n",
       " <rdkit.DataStructs.cDataStructs.ExplicitBitVect at 0x7f84329fc4e0>,\n",
       " <rdkit.DataStructs.cDataStructs.ExplicitBitVect at 0x7f84329fc530>,\n",
       " <rdkit.DataStructs.cDataStructs.ExplicitBitVect at 0x7f84329fc580>,\n",
       " <rdkit.DataStructs.cDataStructs.ExplicitBitVect at 0x7f84329fc5d0>,\n",
       " <rdkit.DataStructs.cDataStructs.ExplicitBitVect at 0x7f84329fc620>,\n",
       " <rdkit.DataStructs.cDataStructs.ExplicitBitVect at 0x7f84329fc670>,\n",
       " <rdkit.DataStructs.cDataStructs.ExplicitBitVect at 0x7f84329fc6c0>,\n",
       " <rdkit.DataStructs.cDataStructs.ExplicitBitVect at 0x7f84329fc710>,\n",
       " <rdkit.DataStructs.cDataStructs.ExplicitBitVect at 0x7f84329fc760>,\n",
       " <rdkit.DataStructs.cDataStructs.ExplicitBitVect at 0x7f84329fc7b0>,\n",
       " <rdkit.DataStructs.cDataStructs.ExplicitBitVect at 0x7f84329fc800>,\n",
       " <rdkit.DataStructs.cDataStructs.ExplicitBitVect at 0x7f84329fc850>,\n",
       " <rdkit.DataStructs.cDataStructs.ExplicitBitVect at 0x7f84329fc8a0>,\n",
       " <rdkit.DataStructs.cDataStructs.ExplicitBitVect at 0x7f84329fc8f0>,\n",
       " <rdkit.DataStructs.cDataStructs.ExplicitBitVect at 0x7f84329fc940>,\n",
       " <rdkit.DataStructs.cDataStructs.ExplicitBitVect at 0x7f84329fc990>,\n",
       " <rdkit.DataStructs.cDataStructs.ExplicitBitVect at 0x7f84329fc9e0>,\n",
       " <rdkit.DataStructs.cDataStructs.ExplicitBitVect at 0x7f84329fca30>,\n",
       " <rdkit.DataStructs.cDataStructs.ExplicitBitVect at 0x7f84329fca80>,\n",
       " <rdkit.DataStructs.cDataStructs.ExplicitBitVect at 0x7f84329fcad0>,\n",
       " <rdkit.DataStructs.cDataStructs.ExplicitBitVect at 0x7f84329fcb20>,\n",
       " <rdkit.DataStructs.cDataStructs.ExplicitBitVect at 0x7f84329fcb70>,\n",
       " <rdkit.DataStructs.cDataStructs.ExplicitBitVect at 0x7f8438e68490>,\n",
       " <rdkit.DataStructs.cDataStructs.ExplicitBitVect at 0x7f84329ebc60>,\n",
       " <rdkit.DataStructs.cDataStructs.ExplicitBitVect at 0x7f84329ebb70>,\n",
       " <rdkit.DataStructs.cDataStructs.ExplicitBitVect at 0x7f84329fcbc0>,\n",
       " <rdkit.DataStructs.cDataStructs.ExplicitBitVect at 0x7f84329fcc10>,\n",
       " <rdkit.DataStructs.cDataStructs.ExplicitBitVect at 0x7f84329fcc60>,\n",
       " <rdkit.DataStructs.cDataStructs.ExplicitBitVect at 0x7f84329fccb0>,\n",
       " <rdkit.DataStructs.cDataStructs.ExplicitBitVect at 0x7f84329fcd00>,\n",
       " <rdkit.DataStructs.cDataStructs.ExplicitBitVect at 0x7f84329fcd50>,\n",
       " <rdkit.DataStructs.cDataStructs.ExplicitBitVect at 0x7f84329fcda0>,\n",
       " <rdkit.DataStructs.cDataStructs.ExplicitBitVect at 0x7f84329fcdf0>,\n",
       " <rdkit.DataStructs.cDataStructs.ExplicitBitVect at 0x7f84329fce40>,\n",
       " <rdkit.DataStructs.cDataStructs.ExplicitBitVect at 0x7f84329fce90>,\n",
       " <rdkit.DataStructs.cDataStructs.ExplicitBitVect at 0x7f84329fcee0>,\n",
       " <rdkit.DataStructs.cDataStructs.ExplicitBitVect at 0x7f84329fcf30>,\n",
       " <rdkit.DataStructs.cDataStructs.ExplicitBitVect at 0x7f84329fcf80>,\n",
       " <rdkit.DataStructs.cDataStructs.ExplicitBitVect at 0x7f84329fd030>,\n",
       " <rdkit.DataStructs.cDataStructs.ExplicitBitVect at 0x7f84329fd080>,\n",
       " <rdkit.DataStructs.cDataStructs.ExplicitBitVect at 0x7f84329fd0d0>,\n",
       " <rdkit.DataStructs.cDataStructs.ExplicitBitVect at 0x7f84329fd120>,\n",
       " <rdkit.DataStructs.cDataStructs.ExplicitBitVect at 0x7f84329fd170>,\n",
       " <rdkit.DataStructs.cDataStructs.ExplicitBitVect at 0x7f84329fd1c0>,\n",
       " <rdkit.DataStructs.cDataStructs.ExplicitBitVect at 0x7f84329fd210>,\n",
       " <rdkit.DataStructs.cDataStructs.ExplicitBitVect at 0x7f84329fd260>,\n",
       " <rdkit.DataStructs.cDataStructs.ExplicitBitVect at 0x7f84329fd2b0>,\n",
       " <rdkit.DataStructs.cDataStructs.ExplicitBitVect at 0x7f84329fd300>,\n",
       " <rdkit.DataStructs.cDataStructs.ExplicitBitVect at 0x7f84329fd350>,\n",
       " <rdkit.DataStructs.cDataStructs.ExplicitBitVect at 0x7f84329fd3a0>,\n",
       " <rdkit.DataStructs.cDataStructs.ExplicitBitVect at 0x7f84329fd3f0>,\n",
       " <rdkit.DataStructs.cDataStructs.ExplicitBitVect at 0x7f84329fd440>,\n",
       " <rdkit.DataStructs.cDataStructs.ExplicitBitVect at 0x7f84329fd490>,\n",
       " <rdkit.DataStructs.cDataStructs.ExplicitBitVect at 0x7f84329fd4e0>,\n",
       " <rdkit.DataStructs.cDataStructs.ExplicitBitVect at 0x7f84329fd530>,\n",
       " <rdkit.DataStructs.cDataStructs.ExplicitBitVect at 0x7f84329fd580>,\n",
       " <rdkit.DataStructs.cDataStructs.ExplicitBitVect at 0x7f84329fd5d0>,\n",
       " <rdkit.DataStructs.cDataStructs.ExplicitBitVect at 0x7f84329fd620>,\n",
       " <rdkit.DataStructs.cDataStructs.ExplicitBitVect at 0x7f84329fd670>,\n",
       " <rdkit.DataStructs.cDataStructs.ExplicitBitVect at 0x7f84329fd6c0>,\n",
       " <rdkit.DataStructs.cDataStructs.ExplicitBitVect at 0x7f84329fd710>,\n",
       " <rdkit.DataStructs.cDataStructs.ExplicitBitVect at 0x7f84329fd760>,\n",
       " <rdkit.DataStructs.cDataStructs.ExplicitBitVect at 0x7f84329fd7b0>,\n",
       " <rdkit.DataStructs.cDataStructs.ExplicitBitVect at 0x7f84329fd800>,\n",
       " <rdkit.DataStructs.cDataStructs.ExplicitBitVect at 0x7f84329fd850>,\n",
       " <rdkit.DataStructs.cDataStructs.ExplicitBitVect at 0x7f84329fd8a0>,\n",
       " <rdkit.DataStructs.cDataStructs.ExplicitBitVect at 0x7f84329fd8f0>,\n",
       " <rdkit.DataStructs.cDataStructs.ExplicitBitVect at 0x7f84329fd940>,\n",
       " <rdkit.DataStructs.cDataStructs.ExplicitBitVect at 0x7f84329fd990>,\n",
       " <rdkit.DataStructs.cDataStructs.ExplicitBitVect at 0x7f84329fd9e0>,\n",
       " <rdkit.DataStructs.cDataStructs.ExplicitBitVect at 0x7f84329fda30>,\n",
       " <rdkit.DataStructs.cDataStructs.ExplicitBitVect at 0x7f84329fda80>,\n",
       " <rdkit.DataStructs.cDataStructs.ExplicitBitVect at 0x7f84329fdad0>,\n",
       " <rdkit.DataStructs.cDataStructs.ExplicitBitVect at 0x7f84329fdb20>,\n",
       " <rdkit.DataStructs.cDataStructs.ExplicitBitVect at 0x7f84329fdb70>,\n",
       " <rdkit.DataStructs.cDataStructs.ExplicitBitVect at 0x7f84329fdbc0>,\n",
       " <rdkit.DataStructs.cDataStructs.ExplicitBitVect at 0x7f84329fdc10>,\n",
       " <rdkit.DataStructs.cDataStructs.ExplicitBitVect at 0x7f84329fdc60>,\n",
       " <rdkit.DataStructs.cDataStructs.ExplicitBitVect at 0x7f84329fdcb0>,\n",
       " <rdkit.DataStructs.cDataStructs.ExplicitBitVect at 0x7f84329fdd00>,\n",
       " <rdkit.DataStructs.cDataStructs.ExplicitBitVect at 0x7f84329fdd50>,\n",
       " <rdkit.DataStructs.cDataStructs.ExplicitBitVect at 0x7f84329fdda0>,\n",
       " <rdkit.DataStructs.cDataStructs.ExplicitBitVect at 0x7f84329fddf0>,\n",
       " <rdkit.DataStructs.cDataStructs.ExplicitBitVect at 0x7f84329fde40>,\n",
       " <rdkit.DataStructs.cDataStructs.ExplicitBitVect at 0x7f84329fde90>,\n",
       " <rdkit.DataStructs.cDataStructs.ExplicitBitVect at 0x7f84329fdee0>,\n",
       " <rdkit.DataStructs.cDataStructs.ExplicitBitVect at 0x7f84329fdf30>,\n",
       " <rdkit.DataStructs.cDataStructs.ExplicitBitVect at 0x7f84329fdf80>,\n",
       " <rdkit.DataStructs.cDataStructs.ExplicitBitVect at 0x7f84329fe030>,\n",
       " <rdkit.DataStructs.cDataStructs.ExplicitBitVect at 0x7f84329fe080>,\n",
       " <rdkit.DataStructs.cDataStructs.ExplicitBitVect at 0x7f84329fe0d0>,\n",
       " <rdkit.DataStructs.cDataStructs.ExplicitBitVect at 0x7f84329fe120>,\n",
       " <rdkit.DataStructs.cDataStructs.ExplicitBitVect at 0x7f84329fe170>,\n",
       " <rdkit.DataStructs.cDataStructs.ExplicitBitVect at 0x7f84329fe1c0>,\n",
       " <rdkit.DataStructs.cDataStructs.ExplicitBitVect at 0x7f84329fe210>,\n",
       " <rdkit.DataStructs.cDataStructs.ExplicitBitVect at 0x7f84329fe260>,\n",
       " <rdkit.DataStructs.cDataStructs.ExplicitBitVect at 0x7f84329fe2b0>,\n",
       " <rdkit.DataStructs.cDataStructs.ExplicitBitVect at 0x7f84329fe300>,\n",
       " <rdkit.DataStructs.cDataStructs.ExplicitBitVect at 0x7f84329fe350>,\n",
       " <rdkit.DataStructs.cDataStructs.ExplicitBitVect at 0x7f84329fe3a0>,\n",
       " <rdkit.DataStructs.cDataStructs.ExplicitBitVect at 0x7f84329fe3f0>,\n",
       " <rdkit.DataStructs.cDataStructs.ExplicitBitVect at 0x7f84329fe440>,\n",
       " <rdkit.DataStructs.cDataStructs.ExplicitBitVect at 0x7f84329fe490>,\n",
       " <rdkit.DataStructs.cDataStructs.ExplicitBitVect at 0x7f84329fe4e0>,\n",
       " <rdkit.DataStructs.cDataStructs.ExplicitBitVect at 0x7f84329fe530>,\n",
       " <rdkit.DataStructs.cDataStructs.ExplicitBitVect at 0x7f84329fe580>,\n",
       " <rdkit.DataStructs.cDataStructs.ExplicitBitVect at 0x7f84329fe5d0>,\n",
       " <rdkit.DataStructs.cDataStructs.ExplicitBitVect at 0x7f84329fe620>,\n",
       " <rdkit.DataStructs.cDataStructs.ExplicitBitVect at 0x7f84329fe670>,\n",
       " <rdkit.DataStructs.cDataStructs.ExplicitBitVect at 0x7f84329fe6c0>,\n",
       " <rdkit.DataStructs.cDataStructs.ExplicitBitVect at 0x7f84329fe710>,\n",
       " <rdkit.DataStructs.cDataStructs.ExplicitBitVect at 0x7f84329fe760>,\n",
       " <rdkit.DataStructs.cDataStructs.ExplicitBitVect at 0x7f84329fe7b0>,\n",
       " <rdkit.DataStructs.cDataStructs.ExplicitBitVect at 0x7f84329fe800>,\n",
       " <rdkit.DataStructs.cDataStructs.ExplicitBitVect at 0x7f84329fe850>,\n",
       " <rdkit.DataStructs.cDataStructs.ExplicitBitVect at 0x7f84329fe8a0>,\n",
       " <rdkit.DataStructs.cDataStructs.ExplicitBitVect at 0x7f84329fe8f0>,\n",
       " <rdkit.DataStructs.cDataStructs.ExplicitBitVect at 0x7f84329fe940>,\n",
       " <rdkit.DataStructs.cDataStructs.ExplicitBitVect at 0x7f84329fe990>,\n",
       " <rdkit.DataStructs.cDataStructs.ExplicitBitVect at 0x7f84329fe9e0>,\n",
       " <rdkit.DataStructs.cDataStructs.ExplicitBitVect at 0x7f84329fea30>,\n",
       " <rdkit.DataStructs.cDataStructs.ExplicitBitVect at 0x7f84329fea80>,\n",
       " <rdkit.DataStructs.cDataStructs.ExplicitBitVect at 0x7f84329fead0>,\n",
       " <rdkit.DataStructs.cDataStructs.ExplicitBitVect at 0x7f84329feb20>,\n",
       " <rdkit.DataStructs.cDataStructs.ExplicitBitVect at 0x7f84329feb70>,\n",
       " <rdkit.DataStructs.cDataStructs.ExplicitBitVect at 0x7f84329febc0>,\n",
       " <rdkit.DataStructs.cDataStructs.ExplicitBitVect at 0x7f84329fec10>,\n",
       " <rdkit.DataStructs.cDataStructs.ExplicitBitVect at 0x7f84329fec60>,\n",
       " <rdkit.DataStructs.cDataStructs.ExplicitBitVect at 0x7f84329fecb0>,\n",
       " <rdkit.DataStructs.cDataStructs.ExplicitBitVect at 0x7f84329fed00>,\n",
       " <rdkit.DataStructs.cDataStructs.ExplicitBitVect at 0x7f84329fed50>,\n",
       " <rdkit.DataStructs.cDataStructs.ExplicitBitVect at 0x7f84329feda0>,\n",
       " <rdkit.DataStructs.cDataStructs.ExplicitBitVect at 0x7f84329fedf0>,\n",
       " <rdkit.DataStructs.cDataStructs.ExplicitBitVect at 0x7f84329fee40>,\n",
       " <rdkit.DataStructs.cDataStructs.ExplicitBitVect at 0x7f84329fee90>,\n",
       " <rdkit.DataStructs.cDataStructs.ExplicitBitVect at 0x7f84329feee0>,\n",
       " <rdkit.DataStructs.cDataStructs.ExplicitBitVect at 0x7f84329fef30>,\n",
       " <rdkit.DataStructs.cDataStructs.ExplicitBitVect at 0x7f84329fef80>,\n",
       " <rdkit.DataStructs.cDataStructs.ExplicitBitVect at 0x7f84329ff030>,\n",
       " <rdkit.DataStructs.cDataStructs.ExplicitBitVect at 0x7f84329ff080>,\n",
       " <rdkit.DataStructs.cDataStructs.ExplicitBitVect at 0x7f84329ff0d0>,\n",
       " <rdkit.DataStructs.cDataStructs.ExplicitBitVect at 0x7f84329ff120>,\n",
       " <rdkit.DataStructs.cDataStructs.ExplicitBitVect at 0x7f84329ff170>,\n",
       " <rdkit.DataStructs.cDataStructs.ExplicitBitVect at 0x7f84329ff1c0>,\n",
       " <rdkit.DataStructs.cDataStructs.ExplicitBitVect at 0x7f84329ff210>,\n",
       " <rdkit.DataStructs.cDataStructs.ExplicitBitVect at 0x7f84329ff260>,\n",
       " <rdkit.DataStructs.cDataStructs.ExplicitBitVect at 0x7f84329ff2b0>,\n",
       " <rdkit.DataStructs.cDataStructs.ExplicitBitVect at 0x7f84329ff300>,\n",
       " <rdkit.DataStructs.cDataStructs.ExplicitBitVect at 0x7f84329ff350>,\n",
       " <rdkit.DataStructs.cDataStructs.ExplicitBitVect at 0x7f84329ff3a0>,\n",
       " <rdkit.DataStructs.cDataStructs.ExplicitBitVect at 0x7f84329ff3f0>,\n",
       " <rdkit.DataStructs.cDataStructs.ExplicitBitVect at 0x7f84329ff440>,\n",
       " <rdkit.DataStructs.cDataStructs.ExplicitBitVect at 0x7f84329ff490>,\n",
       " <rdkit.DataStructs.cDataStructs.ExplicitBitVect at 0x7f84329ff4e0>,\n",
       " <rdkit.DataStructs.cDataStructs.ExplicitBitVect at 0x7f84329ff530>,\n",
       " <rdkit.DataStructs.cDataStructs.ExplicitBitVect at 0x7f84329ff580>,\n",
       " <rdkit.DataStructs.cDataStructs.ExplicitBitVect at 0x7f84329ff5d0>,\n",
       " <rdkit.DataStructs.cDataStructs.ExplicitBitVect at 0x7f84329ff620>,\n",
       " <rdkit.DataStructs.cDataStructs.ExplicitBitVect at 0x7f84329ff670>,\n",
       " <rdkit.DataStructs.cDataStructs.ExplicitBitVect at 0x7f84329ff6c0>,\n",
       " <rdkit.DataStructs.cDataStructs.ExplicitBitVect at 0x7f84329ff710>,\n",
       " <rdkit.DataStructs.cDataStructs.ExplicitBitVect at 0x7f84329ff760>,\n",
       " <rdkit.DataStructs.cDataStructs.ExplicitBitVect at 0x7f84329ff7b0>,\n",
       " <rdkit.DataStructs.cDataStructs.ExplicitBitVect at 0x7f84329ff800>,\n",
       " <rdkit.DataStructs.cDataStructs.ExplicitBitVect at 0x7f84329ff850>,\n",
       " <rdkit.DataStructs.cDataStructs.ExplicitBitVect at 0x7f84329ff8a0>,\n",
       " <rdkit.DataStructs.cDataStructs.ExplicitBitVect at 0x7f84329ff8f0>,\n",
       " <rdkit.DataStructs.cDataStructs.ExplicitBitVect at 0x7f84329ff940>,\n",
       " <rdkit.DataStructs.cDataStructs.ExplicitBitVect at 0x7f84329ff990>,\n",
       " <rdkit.DataStructs.cDataStructs.ExplicitBitVect at 0x7f84329ff9e0>,\n",
       " <rdkit.DataStructs.cDataStructs.ExplicitBitVect at 0x7f84329ffa30>,\n",
       " <rdkit.DataStructs.cDataStructs.ExplicitBitVect at 0x7f84329ffa80>,\n",
       " <rdkit.DataStructs.cDataStructs.ExplicitBitVect at 0x7f84329ffad0>,\n",
       " <rdkit.DataStructs.cDataStructs.ExplicitBitVect at 0x7f84329ffb20>,\n",
       " <rdkit.DataStructs.cDataStructs.ExplicitBitVect at 0x7f84329ffb70>,\n",
       " <rdkit.DataStructs.cDataStructs.ExplicitBitVect at 0x7f84329ffbc0>,\n",
       " <rdkit.DataStructs.cDataStructs.ExplicitBitVect at 0x7f84329ffc10>,\n",
       " <rdkit.DataStructs.cDataStructs.ExplicitBitVect at 0x7f84329ffc60>,\n",
       " <rdkit.DataStructs.cDataStructs.ExplicitBitVect at 0x7f84329ffcb0>,\n",
       " <rdkit.DataStructs.cDataStructs.ExplicitBitVect at 0x7f84329ffd00>,\n",
       " <rdkit.DataStructs.cDataStructs.ExplicitBitVect at 0x7f84329ffd50>,\n",
       " <rdkit.DataStructs.cDataStructs.ExplicitBitVect at 0x7f84329ffda0>,\n",
       " <rdkit.DataStructs.cDataStructs.ExplicitBitVect at 0x7f84329ffdf0>,\n",
       " <rdkit.DataStructs.cDataStructs.ExplicitBitVect at 0x7f84329ffe40>,\n",
       " <rdkit.DataStructs.cDataStructs.ExplicitBitVect at 0x7f84329ffe90>,\n",
       " <rdkit.DataStructs.cDataStructs.ExplicitBitVect at 0x7f84329ffee0>]"
      ]
     },
     "execution_count": 4,
     "metadata": {},
     "output_type": "execute_result"
    }
   ],
   "source": [
    "fingerprints_list"
   ]
  },
  {
   "cell_type": "markdown",
   "metadata": {},
   "source": [
    "ToDo: Achtung: hier überprüfen, ob oben Null Werte bei den Mol Objekten rausgekommen sind und ggf. entfernen!"
   ]
  },
  {
   "cell_type": "code",
   "execution_count": 5,
   "metadata": {},
   "outputs": [],
   "source": [
    "#fingerprints_list[3]"
   ]
  },
  {
   "cell_type": "code",
   "execution_count": 6,
   "metadata": {},
   "outputs": [],
   "source": [
    "#fingerprints_list[3].ToBitString()"
   ]
  },
  {
   "cell_type": "code",
   "execution_count": 7,
   "metadata": {},
   "outputs": [],
   "source": [
    "#len(fingerprints_list[9].ToBitString())      # fixed length: 2048 bits"
   ]
  },
  {
   "cell_type": "code",
   "execution_count": 8,
   "metadata": {},
   "outputs": [],
   "source": [
    "#df.head()"
   ]
  },
  {
   "cell_type": "code",
   "execution_count": 9,
   "metadata": {},
   "outputs": [],
   "source": [
    "df['fingerprint'] = fingerprints_list\n",
    "#df['fingerprint'] = df.fingerprint.ToBitString()"
   ]
  },
  {
   "cell_type": "code",
   "execution_count": 10,
   "metadata": {},
   "outputs": [],
   "source": [
    "#df.apply(func = lower,\n",
    "#        axis = 'index')\n",
    "\n",
    "for i in range(len(df)):\n",
    "    df.iloc[i,3] = df.iloc[i,3].ToBitString()"
   ]
  },
  {
   "cell_type": "markdown",
   "metadata": {},
   "source": [
    "### Save the output of this notebook"
   ]
  },
  {
   "cell_type": "code",
   "execution_count": 11,
   "metadata": {},
   "outputs": [],
   "source": [
    "df.to_csv('df_notebook1_Transformation_200samples.csv')"
   ]
  },
  {
   "cell_type": "code",
   "execution_count": null,
   "metadata": {},
   "outputs": [],
   "source": []
  }
 ],
 "metadata": {
  "kernelspec": {
   "display_name": "Python 3",
   "language": "python",
   "name": "python3"
  },
  "language_info": {
   "codemirror_mode": {
    "name": "ipython",
    "version": 3
   },
   "file_extension": ".py",
   "mimetype": "text/x-python",
   "name": "python",
   "nbconvert_exporter": "python",
   "pygments_lexer": "ipython3",
   "version": "3.6.10"
  }
 },
 "nbformat": 4,
 "nbformat_minor": 4
}
