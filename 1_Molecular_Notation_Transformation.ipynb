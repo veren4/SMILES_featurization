{
 "cells": [
  {
   "cell_type": "code",
   "execution_count": 1,
   "metadata": {},
   "outputs": [],
   "source": [
    "import pandas as pd\n",
    "import numpy as np\n",
    "\n",
    "%matplotlib inline\n",
    "\n",
    "df = pd.read_csv('df_notebook0_dataloading.csv',\n",
    "                usecols=['smiles', 'expt', 'calc'])"
   ]
  },
  {
   "cell_type": "code",
   "execution_count": 2,
   "metadata": {},
   "outputs": [],
   "source": [
    "#from rdkit import DataStructs\n",
    "import rdkit.Chem as chem"
   ]
  },
  {
   "cell_type": "markdown",
   "metadata": {},
   "source": [
    "# Transform SMILES to Fingerprints"
   ]
  },
  {
   "cell_type": "code",
   "execution_count": 3,
   "metadata": {},
   "outputs": [],
   "source": [
    "smiles_list = df['smiles'].tolist()\n",
    "\n",
    "mols_list = [chem.MolFromSmiles(x) for x in smiles_list]   # Attention: this can give None values!\n",
    "\n",
    "fingerprints_list = [chem.RDKFingerprint(x) for x in mols_list]"
   ]
  },
  {
   "cell_type": "markdown",
   "metadata": {},
   "source": [
    "ToDo: Achtung: hier überprüfen, ob oben Null Werte bei den Mol Objekten rausgekommen sind und ggf. entfernen!"
   ]
  },
  {
   "cell_type": "code",
   "execution_count": 4,
   "metadata": {},
   "outputs": [],
   "source": [
    "#fingerprints_list[3]"
   ]
  },
  {
   "cell_type": "code",
   "execution_count": 5,
   "metadata": {},
   "outputs": [],
   "source": [
    "#fingerprints_list[3].ToBitString()"
   ]
  },
  {
   "cell_type": "code",
   "execution_count": 6,
   "metadata": {},
   "outputs": [],
   "source": [
    "#len(fingerprints_list[9].ToBitString())      # fixed length: 2048 bits"
   ]
  },
  {
   "cell_type": "code",
   "execution_count": 7,
   "metadata": {},
   "outputs": [],
   "source": [
    "#df.head()"
   ]
  },
  {
   "cell_type": "code",
   "execution_count": 8,
   "metadata": {},
   "outputs": [],
   "source": [
    "df['fingerprint'] = fingerprints_list\n",
    "#df['fingerprint'] = df.fingerprint.ToBitString()\n",
    "\n",
    "#df.apply(func = ToBitString,\n",
    "#        axis = )"
   ]
  },
  {
   "cell_type": "code",
   "execution_count": 9,
   "metadata": {},
   "outputs": [],
   "source": [
    "#df.iloc[2,3]\n",
    "#type(df.iloc[2,3])\n",
    "#b = df.iloc[2,3].ToBitString()\n",
    "#type(b)\n",
    "\n",
    "#df['test'] = 3\n",
    "#df\n",
    "#df['test'] = df.test + 2"
   ]
  },
  {
   "cell_type": "code",
   "execution_count": 10,
   "metadata": {},
   "outputs": [],
   "source": [
    "df.iloc[0,3] = df.iloc[0,3].ToBitString()\n",
    "df.iloc[1,3] = df.iloc[1,3].ToBitString()\n",
    "df.iloc[2,3] = df.iloc[2,3].ToBitString()\n",
    "df.iloc[3,3] = df.iloc[3,3].ToBitString()\n",
    "df.iloc[4,3] = df.iloc[4,3].ToBitString()\n",
    "df.iloc[5,3] = df.iloc[5,3].ToBitString()\n",
    "df.iloc[6,3] = df.iloc[6,3].ToBitString()\n",
    "df.iloc[7,3] = df.iloc[7,3].ToBitString()\n",
    "df.iloc[8,3] = df.iloc[8,3].ToBitString()\n",
    "df.iloc[9,3] = df.iloc[9,3].ToBitString()\n",
    "df.iloc[10,3] = df.iloc[10,3].ToBitString()\n",
    "df.iloc[11,3] = df.iloc[11,3].ToBitString()\n",
    "df.iloc[12,3] = df.iloc[12,3].ToBitString()\n",
    "df.iloc[13,3] = df.iloc[13,3].ToBitString()\n",
    "df.iloc[14,3] = df.iloc[14,3].ToBitString()\n",
    "df.iloc[15,3] = df.iloc[15,3].ToBitString()\n",
    "df.iloc[16,3] = df.iloc[16,3].ToBitString()\n",
    "df.iloc[17,3] = df.iloc[17,3].ToBitString()\n",
    "df.iloc[18,3] = df.iloc[18,3].ToBitString()\n",
    "df.iloc[19,3] = df.iloc[19,3].ToBitString()"
   ]
  },
  {
   "cell_type": "markdown",
   "metadata": {},
   "source": [
    "### Save the output of this notebook"
   ]
  },
  {
   "cell_type": "code",
   "execution_count": 11,
   "metadata": {},
   "outputs": [],
   "source": [
    "df.to_csv('df_notebook1_Transformation.csv')"
   ]
  },
  {
   "cell_type": "code",
   "execution_count": null,
   "metadata": {},
   "outputs": [],
   "source": []
  }
 ],
 "metadata": {
  "kernelspec": {
   "display_name": "Python 3",
   "language": "python",
   "name": "python3"
  },
  "language_info": {
   "codemirror_mode": {
    "name": "ipython",
    "version": 3
   },
   "file_extension": ".py",
   "mimetype": "text/x-python",
   "name": "python",
   "nbconvert_exporter": "python",
   "pygments_lexer": "ipython3",
   "version": "3.6.10"
  }
 },
 "nbformat": 4,
 "nbformat_minor": 4
}
