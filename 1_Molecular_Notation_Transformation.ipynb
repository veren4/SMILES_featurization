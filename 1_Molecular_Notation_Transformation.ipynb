{
 "cells": [
  {
   "cell_type": "code",
   "execution_count": 1,
   "metadata": {},
   "outputs": [],
   "source": [
    "import pandas as pd\n",
    "import numpy as np\n",
    "\n",
    "%matplotlib inline\n",
    "\n",
    "df = pd.read_csv('df_notebook0_dataloading.csv')"
   ]
  },
  {
   "cell_type": "markdown",
   "metadata": {},
   "source": [
    "# Transform SMILES to Fingerprints"
   ]
  },
  {
   "cell_type": "markdown",
   "metadata": {},
   "source": [
    "Still to answer: Are these SMILES canonical or not?\n",
    "I would love to transform the SMILES to [Extended Connectivity Fingerprints (ECFPs)](https://docs.chemaxon.com/display/docs/Extended+Connectivity+Fingerprint+ECFP). However, I can't find a way to do that so far. The methods I find are either terminal (I assume, but don't know for sure) or in Java. (ECFP = Morgan fingerprint)\n",
    "\n",
    "But I found a way for [Morgan fingerprints](http://www.rdkit.org/docs/GettingStartedInPython.html). [Here's](http://bigchem.eu/sites/default/files/Martin_Vogt_algorithms_in_cheminformatics_150519.pdf) how Morgan Fingerprints (\"circular Fingerprints\") work.\n",
    "Nevermind.\n",
    "\n",
    "My next try: creating Rdkit fingerprints. [This blog](https://iwatobipen.wordpress.com/2019/02/08/convert-fingerprint-to-numpy-array-and-conver-numpy-array-to-fingerprint-rdkit-memorandum/) is superb."
   ]
  },
  {
   "cell_type": "markdown",
   "metadata": {},
   "source": [
    "there is [MolFromSmiles](https://www.rdkit.org/docs/source/rdkit.Chem.rdmolfiles.html) -> Construct a molecule from a SMILES string\n",
    "\n",
    "[FingerprintsfromSmiles](https://www.rdkit.org/docs/source/rdkit.Chem.Fingerprints.FingerprintMols.html)"
   ]
  },
  {
   "cell_type": "code",
   "execution_count": 2,
   "metadata": {},
   "outputs": [],
   "source": [
    "import rdkit.Chem.Fingerprints.FingerprintMols as fp_from_smiles"
   ]
  },
  {
   "cell_type": "code",
   "execution_count": 3,
   "metadata": {},
   "outputs": [],
   "source": [
    "df['id'] = range(len(df))    # the function requires an id column\n",
    "#df['id'] = pd.to_numeric(range(len(df)))   no."
   ]
  },
  {
   "cell_type": "code",
   "execution_count": 4,
   "metadata": {},
   "outputs": [],
   "source": [
    "#why does this not work?\n",
    "\n",
    "# my_fingerprints = fp_from_smiles.FingerprintsFromSmiles(dataSource=df, idCol='id', smiCol='smiles')\n",
    "# or potentially idCol=df.index"
   ]
  },
  {
   "cell_type": "markdown",
   "metadata": {},
   "source": [
    "arguments:    dataSource, idCol, smiCol, fingerprinter=<Boost.Python.function object>, reportFreq=10, maxMols=-1, \\**fpArgs\n",
    "\n",
    "fpArgs are passed as keyword arguments to the fingerprinter\\\n",
    "Returns a list of 2-tuples: (ID,fp)\n"
   ]
  },
  {
   "cell_type": "markdown",
   "metadata": {},
   "source": [
    "Another try with Topological Fingerprints (RDK fingerprints) [Explanation](http://www.rdkit.org/docs/GettingStartedInPython.html)."
   ]
  },
  {
   "cell_type": "code",
   "execution_count": 5,
   "metadata": {},
   "outputs": [],
   "source": [
    "from rdkit import DataStructs\n",
    "import rdkit.Chem as chem"
   ]
  },
  {
   "cell_type": "code",
   "execution_count": 6,
   "metadata": {},
   "outputs": [],
   "source": [
    "smiles_list = df['smiles'].tolist()\n",
    "\n",
    "mols_list = [chem.MolFromSmiles(x) for x in smiles_list]   # Attention: this can give None values!\n",
    "\n",
    "fingerprints_list = [chem.RDKFingerprint(x) for x in mols_list]"
   ]
  },
  {
   "cell_type": "code",
   "execution_count": 7,
   "metadata": {},
   "outputs": [
    {
     "data": {
      "text/plain": [
       "<rdkit.DataStructs.cDataStructs.ExplicitBitVect at 0x7f45dbfb9c60>"
      ]
     },
     "execution_count": 7,
     "metadata": {},
     "output_type": "execute_result"
    }
   ],
   "source": [
    "fingerprints_list[3]"
   ]
  },
  {
   "cell_type": "code",
   "execution_count": 8,
   "metadata": {},
   "outputs": [
    {
     "data": {
      "text/plain": [
       "'10000100000010100000100110010010000000010010000000000000100100000000000001001000000000000001001001000100000001000101000001100000000000000000000011001010000010100000000000000100000101010000010000000011001000010000000001000100010001000000000000000000010100100000000010000001000001000010001010000000000000000000100010001100000000000000000010000000000000100000100000000000000010000000000001101001010000000000000110001000001000000000000010000000001010000000000011000000010000000000000000100000000100000000101001000000010000000000000000000001010000100100000000000010001000001000001000010000100000100000100001000000000001010000011100000001000100001000000000001000010000000001000000000010000000000100000000000000000011000000010000000000000100001000000000010000000000000000100000000000001000000100001000000101000100000000010100010101000100000010010000000000000000001001000000000000000100000010001000000000000000100001000000000000001000001100000101000000000000000100100010000000010100000000000101100000000000000110000000000000000000000000000000000000001000010000000000000000000100000001100011000000000000000001010000001010000010100100001001100000001000000000010000000110101100000000000000000001000000000000000001100100000000100000000000000000010000000000011000000001000000000010000010000000000000010000000000101000000011000001100000100000000000100001000000000001100000010001000000010010000000000000000100001001000000010000000000100000110000000000000000000001000000010000100000000000010010000000001100000000010100000010000000100001000000100000001001110000000000010110101000000000000101000000000100000000001001000001000110000000100000010000000000010001000001000000000000000000000000000000000000000010000100000010000000100000000000000000000110000000000000101000000000000000000000000000101000110010000100000000010000000001000101000100000000000010000000000010010000000010000000000000010000000101000000000000000000001010001000000000000000000011000000000000010000000000101010001010000010000000000001000000000000000000000001100100101000000000100000000001100000010000'"
      ]
     },
     "execution_count": 8,
     "metadata": {},
     "output_type": "execute_result"
    }
   ],
   "source": [
    "fingerprints_list[3].ToBitString()"
   ]
  },
  {
   "cell_type": "code",
   "execution_count": 9,
   "metadata": {},
   "outputs": [
    {
     "data": {
      "text/plain": [
       "2048"
      ]
     },
     "execution_count": 9,
     "metadata": {},
     "output_type": "execute_result"
    }
   ],
   "source": [
    "len(fingerprints_list[9].ToBitString())      # fixed length: 2048 bits"
   ]
  },
  {
   "cell_type": "code",
   "execution_count": 10,
   "metadata": {},
   "outputs": [
    {
     "ename": "SyntaxError",
     "evalue": "invalid syntax (<ipython-input-10-9d89f0168884>, line 1)",
     "output_type": "error",
     "traceback": [
      "\u001b[0;36m  File \u001b[0;32m\"<ipython-input-10-9d89f0168884>\"\u001b[0;36m, line \u001b[0;32m1\u001b[0m\n\u001b[0;31m    for i in 0:(len(fingerprints_list)-1):\u001b[0m\n\u001b[0m                                          ^\u001b[0m\n\u001b[0;31mSyntaxError\u001b[0m\u001b[0;31m:\u001b[0m invalid syntax\n"
     ]
    }
   ],
   "source": [
    "for i in 0:(len(fingerprints_list)-1):\n",
    "    fingerprints_list[i] = fingerprints_list[i].ToBitString()\n",
    "\n",
    "# use a range object!!    \n",
    "    \n",
    "# So here's le UGH-LY brute force way:\n",
    "df['fingerprint'] = 1    "
   ]
  },
  {
   "cell_type": "code",
   "execution_count": 11,
   "metadata": {},
   "outputs": [],
   "source": [
    "df.iloc[0,4] = fingerprints_list[0].ToBitString()\n",
    "df.iloc[1,4] = fingerprints_list[1].ToBitString()\n",
    "df.iloc[2,4] = fingerprints_list[2].ToBitString()\n",
    "df.iloc[3,4] = fingerprints_list[3].ToBitString()\n",
    "df.iloc[4,4] = fingerprints_list[4].ToBitString()\n",
    "df.iloc[5,4] = fingerprints_list[5].ToBitString()\n",
    "df.iloc[6,4] = fingerprints_list[6].ToBitString()\n",
    "df.iloc[7,4] = fingerprints_list[7].ToBitString()\n",
    "df.iloc[8,4] = fingerprints_list[8].ToBitString()\n",
    "df.iloc[9,4] = fingerprints_list[9].ToBitString()\n",
    "df.iloc[10,4] = fingerprints_list[10].ToBitString()\n",
    "df.iloc[11,4] = fingerprints_list[11].ToBitString()\n",
    "df.iloc[12,4] = fingerprints_list[12].ToBitString()\n",
    "df.iloc[13,4] = fingerprints_list[13].ToBitString()\n",
    "df.iloc[14,4] = fingerprints_list[14].ToBitString()\n",
    "df.iloc[15,4] = fingerprints_list[15].ToBitString()\n",
    "df.iloc[16,4] = fingerprints_list[16].ToBitString()\n",
    "df.iloc[17,4] = fingerprints_list[17].ToBitString()\n",
    "df.iloc[18,4] = fingerprints_list[18].ToBitString()\n",
    "df.iloc[19,4] = fingerprints_list[19].ToBitString()"
   ]
  },
  {
   "cell_type": "code",
   "execution_count": 12,
   "metadata": {},
   "outputs": [
    {
     "data": {
      "text/html": [
       "<div>\n",
       "<style scoped>\n",
       "    .dataframe tbody tr th:only-of-type {\n",
       "        vertical-align: middle;\n",
       "    }\n",
       "\n",
       "    .dataframe tbody tr th {\n",
       "        vertical-align: top;\n",
       "    }\n",
       "\n",
       "    .dataframe thead th {\n",
       "        text-align: right;\n",
       "    }\n",
       "</style>\n",
       "<table border=\"1\" class=\"dataframe\">\n",
       "  <thead>\n",
       "    <tr style=\"text-align: right;\">\n",
       "      <th></th>\n",
       "      <th>Unnamed: 0</th>\n",
       "      <th>smiles</th>\n",
       "      <th>expt</th>\n",
       "      <th>calc</th>\n",
       "      <th>id</th>\n",
       "    </tr>\n",
       "  </thead>\n",
       "  <tbody>\n",
       "    <tr>\n",
       "      <th>0</th>\n",
       "      <td>441</td>\n",
       "      <td>CN(C)C(=O)Nc1ccccc1</td>\n",
       "      <td>-9.13</td>\n",
       "      <td>-11.810</td>\n",
       "      <td>0000000000000100000000100000000000000000000100...</td>\n",
       "    </tr>\n",
       "    <tr>\n",
       "      <th>1</th>\n",
       "      <td>192</td>\n",
       "      <td>c1ccc2c(c1)Oc3c(cc(c(c3O2)Cl)Cl)Cl</td>\n",
       "      <td>-4.05</td>\n",
       "      <td>-3.160</td>\n",
       "      <td>0001000010000100100010000010001001000011100000...</td>\n",
       "    </tr>\n",
       "    <tr>\n",
       "      <th>2</th>\n",
       "      <td>332</td>\n",
       "      <td>CCSCC</td>\n",
       "      <td>-1.46</td>\n",
       "      <td>0.299</td>\n",
       "      <td>0000000000000000000000000000000000000000000000...</td>\n",
       "    </tr>\n",
       "    <tr>\n",
       "      <th>3</th>\n",
       "      <td>362</td>\n",
       "      <td>C([C@@H]1[C@H]([C@@H]([C@H]([C@@H](O1)O)O)O)O)O</td>\n",
       "      <td>-25.47</td>\n",
       "      <td>-18.095</td>\n",
       "      <td>1000010000001010000010011001001000000001001000...</td>\n",
       "    </tr>\n",
       "    <tr>\n",
       "      <th>4</th>\n",
       "      <td>465</td>\n",
       "      <td>c1ccc(cc1)O</td>\n",
       "      <td>-6.60</td>\n",
       "      <td>-5.707</td>\n",
       "      <td>0000000000000000000000000000000000000000000000...</td>\n",
       "    </tr>\n",
       "    <tr>\n",
       "      <th>5</th>\n",
       "      <td>428</td>\n",
       "      <td>c1c(c(=O)[nH]c(=O)[nH]1)F</td>\n",
       "      <td>-16.92</td>\n",
       "      <td>-16.371</td>\n",
       "      <td>1000010100000000000000000000000000000000000000...</td>\n",
       "    </tr>\n",
       "    <tr>\n",
       "      <th>6</th>\n",
       "      <td>128</td>\n",
       "      <td>COc1c(cc(c(c1O)OC)Cl)Cl</td>\n",
       "      <td>-6.44</td>\n",
       "      <td>-5.980</td>\n",
       "      <td>0001000010000000100010000010000100011000000010...</td>\n",
       "    </tr>\n",
       "    <tr>\n",
       "      <th>7</th>\n",
       "      <td>323</td>\n",
       "      <td>c1cc(ccc1C#N)O</td>\n",
       "      <td>-10.17</td>\n",
       "      <td>-8.390</td>\n",
       "      <td>0000000000000000000000000000000000100000000000...</td>\n",
       "    </tr>\n",
       "    <tr>\n",
       "      <th>8</th>\n",
       "      <td>341</td>\n",
       "      <td>CCCCCC#C</td>\n",
       "      <td>0.60</td>\n",
       "      <td>0.639</td>\n",
       "      <td>0000000000000000000000000000000000000000000000...</td>\n",
       "    </tr>\n",
       "    <tr>\n",
       "      <th>9</th>\n",
       "      <td>152</td>\n",
       "      <td>C(CO)O</td>\n",
       "      <td>-9.30</td>\n",
       "      <td>-7.266</td>\n",
       "      <td>0000000000000000000000000000000000000000000000...</td>\n",
       "    </tr>\n",
       "    <tr>\n",
       "      <th>10</th>\n",
       "      <td>587</td>\n",
       "      <td>CC(C)OC=O</td>\n",
       "      <td>-2.02</td>\n",
       "      <td>-3.591</td>\n",
       "      <td>0000000000000000000000000000000000000000000000...</td>\n",
       "    </tr>\n",
       "    <tr>\n",
       "      <th>11</th>\n",
       "      <td>632</td>\n",
       "      <td>Cc1cccc2c1cccc2</td>\n",
       "      <td>-2.44</td>\n",
       "      <td>-3.212</td>\n",
       "      <td>0000000000000000000000000100000001000000000000...</td>\n",
       "    </tr>\n",
       "    <tr>\n",
       "      <th>12</th>\n",
       "      <td>500</td>\n",
       "      <td>c1(c(c(c(c(c1Cl)Cl)Cl)Cl)Cl)N(=O)=O</td>\n",
       "      <td>-5.22</td>\n",
       "      <td>-1.284</td>\n",
       "      <td>0000000000100000000010100000000000001000000100...</td>\n",
       "    </tr>\n",
       "    <tr>\n",
       "      <th>13</th>\n",
       "      <td>443</td>\n",
       "      <td>C1C=CC[C@@H]2[C@@H]1C(=O)N(C2=O)SC(Cl)(Cl)Cl</td>\n",
       "      <td>-9.01</td>\n",
       "      <td>-8.718</td>\n",
       "      <td>0100000010000001000001001101000000100001011001...</td>\n",
       "    </tr>\n",
       "    <tr>\n",
       "      <th>14</th>\n",
       "      <td>10</td>\n",
       "      <td>C(Br)Br</td>\n",
       "      <td>-1.96</td>\n",
       "      <td>-0.405</td>\n",
       "      <td>0000000000000000000000000000000000000000000000...</td>\n",
       "    </tr>\n",
       "    <tr>\n",
       "      <th>15</th>\n",
       "      <td>140</td>\n",
       "      <td>C1CC1</td>\n",
       "      <td>0.75</td>\n",
       "      <td>2.485</td>\n",
       "      <td>0000000000000000000000000000000000000000000000...</td>\n",
       "    </tr>\n",
       "    <tr>\n",
       "      <th>16</th>\n",
       "      <td>84</td>\n",
       "      <td>CCCC</td>\n",
       "      <td>2.10</td>\n",
       "      <td>2.588</td>\n",
       "      <td>0000000000000000000000000000000000000000000000...</td>\n",
       "    </tr>\n",
       "    <tr>\n",
       "      <th>17</th>\n",
       "      <td>572</td>\n",
       "      <td>CCCCCO</td>\n",
       "      <td>-4.57</td>\n",
       "      <td>-3.054</td>\n",
       "      <td>0000000000000000000000000000000000000000000000...</td>\n",
       "    </tr>\n",
       "    <tr>\n",
       "      <th>18</th>\n",
       "      <td>529</td>\n",
       "      <td>C=CCO</td>\n",
       "      <td>-5.03</td>\n",
       "      <td>-3.286</td>\n",
       "      <td>0000000000000000000000000000000000000000000000...</td>\n",
       "    </tr>\n",
       "    <tr>\n",
       "      <th>19</th>\n",
       "      <td>477</td>\n",
       "      <td>C[C@@H](CCl)Cl</td>\n",
       "      <td>-1.27</td>\n",
       "      <td>-0.265</td>\n",
       "      <td>0000000000000000000000000000000000000000000000...</td>\n",
       "    </tr>\n",
       "  </tbody>\n",
       "</table>\n",
       "</div>"
      ],
      "text/plain": [
       "    Unnamed: 0                                           smiles   expt  \\\n",
       "0          441                              CN(C)C(=O)Nc1ccccc1  -9.13   \n",
       "1          192               c1ccc2c(c1)Oc3c(cc(c(c3O2)Cl)Cl)Cl  -4.05   \n",
       "2          332                                            CCSCC  -1.46   \n",
       "3          362  C([C@@H]1[C@H]([C@@H]([C@H]([C@@H](O1)O)O)O)O)O -25.47   \n",
       "4          465                                      c1ccc(cc1)O  -6.60   \n",
       "5          428                        c1c(c(=O)[nH]c(=O)[nH]1)F -16.92   \n",
       "6          128                          COc1c(cc(c(c1O)OC)Cl)Cl  -6.44   \n",
       "7          323                                   c1cc(ccc1C#N)O -10.17   \n",
       "8          341                                         CCCCCC#C   0.60   \n",
       "9          152                                           C(CO)O  -9.30   \n",
       "10         587                                        CC(C)OC=O  -2.02   \n",
       "11         632                                  Cc1cccc2c1cccc2  -2.44   \n",
       "12         500              c1(c(c(c(c(c1Cl)Cl)Cl)Cl)Cl)N(=O)=O  -5.22   \n",
       "13         443     C1C=CC[C@@H]2[C@@H]1C(=O)N(C2=O)SC(Cl)(Cl)Cl  -9.01   \n",
       "14          10                                          C(Br)Br  -1.96   \n",
       "15         140                                            C1CC1   0.75   \n",
       "16          84                                             CCCC   2.10   \n",
       "17         572                                           CCCCCO  -4.57   \n",
       "18         529                                            C=CCO  -5.03   \n",
       "19         477                                   C[C@@H](CCl)Cl  -1.27   \n",
       "\n",
       "      calc                                                 id  \n",
       "0  -11.810  0000000000000100000000100000000000000000000100...  \n",
       "1   -3.160  0001000010000100100010000010001001000011100000...  \n",
       "2    0.299  0000000000000000000000000000000000000000000000...  \n",
       "3  -18.095  1000010000001010000010011001001000000001001000...  \n",
       "4   -5.707  0000000000000000000000000000000000000000000000...  \n",
       "5  -16.371  1000010100000000000000000000000000000000000000...  \n",
       "6   -5.980  0001000010000000100010000010000100011000000010...  \n",
       "7   -8.390  0000000000000000000000000000000000100000000000...  \n",
       "8    0.639  0000000000000000000000000000000000000000000000...  \n",
       "9   -7.266  0000000000000000000000000000000000000000000000...  \n",
       "10  -3.591  0000000000000000000000000000000000000000000000...  \n",
       "11  -3.212  0000000000000000000000000100000001000000000000...  \n",
       "12  -1.284  0000000000100000000010100000000000001000000100...  \n",
       "13  -8.718  0100000010000001000001001101000000100001011001...  \n",
       "14  -0.405  0000000000000000000000000000000000000000000000...  \n",
       "15   2.485  0000000000000000000000000000000000000000000000...  \n",
       "16   2.588  0000000000000000000000000000000000000000000000...  \n",
       "17  -3.054  0000000000000000000000000000000000000000000000...  \n",
       "18  -3.286  0000000000000000000000000000000000000000000000...  \n",
       "19  -0.265  0000000000000000000000000000000000000000000000...  "
      ]
     },
     "execution_count": 12,
     "metadata": {},
     "output_type": "execute_result"
    }
   ],
   "source": [
    "df"
   ]
  },
  {
   "cell_type": "markdown",
   "metadata": {},
   "source": [
    "### Save the output of this notebook"
   ]
  },
  {
   "cell_type": "code",
   "execution_count": 14,
   "metadata": {},
   "outputs": [],
   "source": [
    "df.to_csv('df_notebook1_Transformation.csv')"
   ]
  },
  {
   "cell_type": "code",
   "execution_count": null,
   "metadata": {},
   "outputs": [],
   "source": []
  }
 ],
 "metadata": {
  "kernelspec": {
   "display_name": "Python 3",
   "language": "python",
   "name": "python3"
  },
  "language_info": {
   "codemirror_mode": {
    "name": "ipython",
    "version": 3
   },
   "file_extension": ".py",
   "mimetype": "text/x-python",
   "name": "python",
   "nbconvert_exporter": "python",
   "pygments_lexer": "ipython3",
   "version": "3.6.10"
  }
 },
 "nbformat": 4,
 "nbformat_minor": 4
}
