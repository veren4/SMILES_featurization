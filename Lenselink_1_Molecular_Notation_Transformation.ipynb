{
 "cells": [
  {
   "cell_type": "markdown",
   "metadata": {},
   "source": [
    "In this notebook, I generate fingerprints from SMILES for a subset from the Lenselink dataset."
   ]
  },
  {
   "cell_type": "code",
   "execution_count": 13,
   "metadata": {},
   "outputs": [],
   "source": [
    "import pandas as pd\n",
    "import rdkit.Chem as chem"
   ]
  },
  {
   "cell_type": "markdown",
   "metadata": {},
   "source": [
    "### Loading the data"
   ]
  },
  {
   "cell_type": "code",
   "execution_count": 14,
   "metadata": {},
   "outputs": [],
   "source": [
    "lense = pd.read_csv('../datasets/Lenselink_et_al/Mapped_Lenselink.csv')"
   ]
  },
  {
   "cell_type": "markdown",
   "metadata": {},
   "source": [
    "### Removing duplicate SMILES"
   ]
  },
  {
   "cell_type": "code",
   "execution_count": 3,
   "metadata": {},
   "outputs": [
    {
     "data": {
      "text/plain": [
       "(204085, 21)"
      ]
     },
     "execution_count": 3,
     "metadata": {},
     "output_type": "execute_result"
    }
   ],
   "source": [
    "#lense.shape"
   ]
  },
  {
   "cell_type": "code",
   "execution_count": 15,
   "metadata": {
    "scrolled": true
   },
   "outputs": [
    {
     "data": {
      "text/html": [
       "<div>\n",
       "<style scoped>\n",
       "    .dataframe tbody tr th:only-of-type {\n",
       "        vertical-align: middle;\n",
       "    }\n",
       "\n",
       "    .dataframe tbody tr th {\n",
       "        vertical-align: top;\n",
       "    }\n",
       "\n",
       "    .dataframe thead th {\n",
       "        text-align: right;\n",
       "    }\n",
       "</style>\n",
       "<table border=\"1\" class=\"dataframe\">\n",
       "  <thead>\n",
       "    <tr style=\"text-align: right;\">\n",
       "      <th></th>\n",
       "      <th>Unnamed: 0</th>\n",
       "      <th>CMP_CLASS_SMALL_MOLECULE</th>\n",
       "      <th>CMP_CLASS_BIOLOGICAL</th>\n",
       "      <th>CMP_CLASS_PEPTIDE</th>\n",
       "      <th>CMP_CLASS_ORGANIC</th>\n",
       "      <th>CMP_CLASS_INORGANIC</th>\n",
       "      <th>CMP_CLASS_ACID</th>\n",
       "      <th>CMP_CLASS_BASE</th>\n",
       "      <th>CMP_CLASS_NEUTRAL</th>\n",
       "      <th>CMP_FORMALCHARGE</th>\n",
       "      <th>...</th>\n",
       "      <th>CMP_NUM_AROMATICRINGS</th>\n",
       "      <th>CMP_NUM_CHAINS</th>\n",
       "      <th>CMP_ATOMCOUNT_METALATOMS</th>\n",
       "      <th>CMP_MOLECULAR_SURFACEAREA</th>\n",
       "      <th>CMP_LOGP</th>\n",
       "      <th>CMP_SOLUBILITY</th>\n",
       "      <th>CMP_ATOMS_POSITIVE_FRAC</th>\n",
       "      <th>CMP_ATOMS_NEGATIVE_FRAC</th>\n",
       "      <th>CMP_MOLECULAR_WEIGHT</th>\n",
       "      <th>canonical_smiles</th>\n",
       "    </tr>\n",
       "  </thead>\n",
       "  <tbody>\n",
       "    <tr>\n",
       "      <th>1416</th>\n",
       "      <td>1416</td>\n",
       "      <td>1</td>\n",
       "      <td>0</td>\n",
       "      <td>0</td>\n",
       "      <td>1</td>\n",
       "      <td>0</td>\n",
       "      <td>0</td>\n",
       "      <td>0</td>\n",
       "      <td>0</td>\n",
       "      <td>0</td>\n",
       "      <td>...</td>\n",
       "      <td>1</td>\n",
       "      <td>7</td>\n",
       "      <td>0</td>\n",
       "      <td>331.50</td>\n",
       "      <td>3.146</td>\n",
       "      <td>-4.389</td>\n",
       "      <td>0.0</td>\n",
       "      <td>0.0</td>\n",
       "      <td>313.39082</td>\n",
       "      <td>NaN</td>\n",
       "    </tr>\n",
       "    <tr>\n",
       "      <th>1422</th>\n",
       "      <td>1422</td>\n",
       "      <td>1</td>\n",
       "      <td>0</td>\n",
       "      <td>0</td>\n",
       "      <td>1</td>\n",
       "      <td>0</td>\n",
       "      <td>0</td>\n",
       "      <td>0</td>\n",
       "      <td>0</td>\n",
       "      <td>0</td>\n",
       "      <td>...</td>\n",
       "      <td>1</td>\n",
       "      <td>7</td>\n",
       "      <td>0</td>\n",
       "      <td>314.08</td>\n",
       "      <td>2.690</td>\n",
       "      <td>-3.991</td>\n",
       "      <td>0.0</td>\n",
       "      <td>0.0</td>\n",
       "      <td>299.36424</td>\n",
       "      <td>NaN</td>\n",
       "    </tr>\n",
       "    <tr>\n",
       "      <th>1566</th>\n",
       "      <td>1566</td>\n",
       "      <td>1</td>\n",
       "      <td>0</td>\n",
       "      <td>0</td>\n",
       "      <td>1</td>\n",
       "      <td>0</td>\n",
       "      <td>0</td>\n",
       "      <td>0</td>\n",
       "      <td>0</td>\n",
       "      <td>0</td>\n",
       "      <td>...</td>\n",
       "      <td>1</td>\n",
       "      <td>5</td>\n",
       "      <td>0</td>\n",
       "      <td>358.61</td>\n",
       "      <td>1.660</td>\n",
       "      <td>-6.342</td>\n",
       "      <td>0.0</td>\n",
       "      <td>0.0</td>\n",
       "      <td>368.45270</td>\n",
       "      <td>NaN</td>\n",
       "    </tr>\n",
       "    <tr>\n",
       "      <th>2907</th>\n",
       "      <td>2907</td>\n",
       "      <td>1</td>\n",
       "      <td>0</td>\n",
       "      <td>0</td>\n",
       "      <td>1</td>\n",
       "      <td>0</td>\n",
       "      <td>0</td>\n",
       "      <td>0</td>\n",
       "      <td>0</td>\n",
       "      <td>0</td>\n",
       "      <td>...</td>\n",
       "      <td>1</td>\n",
       "      <td>5</td>\n",
       "      <td>0</td>\n",
       "      <td>322.05</td>\n",
       "      <td>3.648</td>\n",
       "      <td>-5.062</td>\n",
       "      <td>0.0</td>\n",
       "      <td>0.0</td>\n",
       "      <td>311.46106</td>\n",
       "      <td>NaN</td>\n",
       "    </tr>\n",
       "    <tr>\n",
       "      <th>4044</th>\n",
       "      <td>4044</td>\n",
       "      <td>1</td>\n",
       "      <td>0</td>\n",
       "      <td>0</td>\n",
       "      <td>1</td>\n",
       "      <td>0</td>\n",
       "      <td>0</td>\n",
       "      <td>0</td>\n",
       "      <td>0</td>\n",
       "      <td>0</td>\n",
       "      <td>...</td>\n",
       "      <td>3</td>\n",
       "      <td>4</td>\n",
       "      <td>0</td>\n",
       "      <td>377.53</td>\n",
       "      <td>3.718</td>\n",
       "      <td>-5.604</td>\n",
       "      <td>0.0</td>\n",
       "      <td>0.0</td>\n",
       "      <td>386.48614</td>\n",
       "      <td>NaN</td>\n",
       "    </tr>\n",
       "    <tr>\n",
       "      <th>...</th>\n",
       "      <td>...</td>\n",
       "      <td>...</td>\n",
       "      <td>...</td>\n",
       "      <td>...</td>\n",
       "      <td>...</td>\n",
       "      <td>...</td>\n",
       "      <td>...</td>\n",
       "      <td>...</td>\n",
       "      <td>...</td>\n",
       "      <td>...</td>\n",
       "      <td>...</td>\n",
       "      <td>...</td>\n",
       "      <td>...</td>\n",
       "      <td>...</td>\n",
       "      <td>...</td>\n",
       "      <td>...</td>\n",
       "      <td>...</td>\n",
       "      <td>...</td>\n",
       "      <td>...</td>\n",
       "      <td>...</td>\n",
       "      <td>...</td>\n",
       "    </tr>\n",
       "    <tr>\n",
       "      <th>201220</th>\n",
       "      <td>201220</td>\n",
       "      <td>1</td>\n",
       "      <td>0</td>\n",
       "      <td>0</td>\n",
       "      <td>1</td>\n",
       "      <td>0</td>\n",
       "      <td>0</td>\n",
       "      <td>0</td>\n",
       "      <td>0</td>\n",
       "      <td>0</td>\n",
       "      <td>...</td>\n",
       "      <td>0</td>\n",
       "      <td>15</td>\n",
       "      <td>0</td>\n",
       "      <td>469.31</td>\n",
       "      <td>2.081</td>\n",
       "      <td>-4.379</td>\n",
       "      <td>0.0</td>\n",
       "      <td>0.0</td>\n",
       "      <td>432.46361</td>\n",
       "      <td>NaN</td>\n",
       "    </tr>\n",
       "    <tr>\n",
       "      <th>201223</th>\n",
       "      <td>201223</td>\n",
       "      <td>1</td>\n",
       "      <td>0</td>\n",
       "      <td>0</td>\n",
       "      <td>1</td>\n",
       "      <td>0</td>\n",
       "      <td>0</td>\n",
       "      <td>0</td>\n",
       "      <td>0</td>\n",
       "      <td>0</td>\n",
       "      <td>...</td>\n",
       "      <td>1</td>\n",
       "      <td>14</td>\n",
       "      <td>0</td>\n",
       "      <td>444.72</td>\n",
       "      <td>2.899</td>\n",
       "      <td>-3.316</td>\n",
       "      <td>0.0</td>\n",
       "      <td>0.0</td>\n",
       "      <td>418.43703</td>\n",
       "      <td>NaN</td>\n",
       "    </tr>\n",
       "    <tr>\n",
       "      <th>201224</th>\n",
       "      <td>201224</td>\n",
       "      <td>1</td>\n",
       "      <td>0</td>\n",
       "      <td>0</td>\n",
       "      <td>1</td>\n",
       "      <td>0</td>\n",
       "      <td>0</td>\n",
       "      <td>0</td>\n",
       "      <td>0</td>\n",
       "      <td>0</td>\n",
       "      <td>...</td>\n",
       "      <td>1</td>\n",
       "      <td>14</td>\n",
       "      <td>0</td>\n",
       "      <td>462.00</td>\n",
       "      <td>3.566</td>\n",
       "      <td>-3.415</td>\n",
       "      <td>0.0</td>\n",
       "      <td>0.0</td>\n",
       "      <td>432.46361</td>\n",
       "      <td>NaN</td>\n",
       "    </tr>\n",
       "    <tr>\n",
       "      <th>201229</th>\n",
       "      <td>201229</td>\n",
       "      <td>1</td>\n",
       "      <td>0</td>\n",
       "      <td>0</td>\n",
       "      <td>1</td>\n",
       "      <td>0</td>\n",
       "      <td>0</td>\n",
       "      <td>0</td>\n",
       "      <td>0</td>\n",
       "      <td>0</td>\n",
       "      <td>...</td>\n",
       "      <td>1</td>\n",
       "      <td>14</td>\n",
       "      <td>0</td>\n",
       "      <td>503.49</td>\n",
       "      <td>4.247</td>\n",
       "      <td>-4.302</td>\n",
       "      <td>0.0</td>\n",
       "      <td>0.0</td>\n",
       "      <td>460.51677</td>\n",
       "      <td>NaN</td>\n",
       "    </tr>\n",
       "    <tr>\n",
       "      <th>201230</th>\n",
       "      <td>201230</td>\n",
       "      <td>1</td>\n",
       "      <td>0</td>\n",
       "      <td>0</td>\n",
       "      <td>1</td>\n",
       "      <td>0</td>\n",
       "      <td>0</td>\n",
       "      <td>0</td>\n",
       "      <td>0</td>\n",
       "      <td>0</td>\n",
       "      <td>...</td>\n",
       "      <td>1</td>\n",
       "      <td>13</td>\n",
       "      <td>0</td>\n",
       "      <td>423.35</td>\n",
       "      <td>2.412</td>\n",
       "      <td>-3.088</td>\n",
       "      <td>0.0</td>\n",
       "      <td>0.0</td>\n",
       "      <td>404.41045</td>\n",
       "      <td>NaN</td>\n",
       "    </tr>\n",
       "  </tbody>\n",
       "</table>\n",
       "<p>596 rows × 21 columns</p>\n",
       "</div>"
      ],
      "text/plain": [
       "        Unnamed: 0  CMP_CLASS_SMALL_MOLECULE  CMP_CLASS_BIOLOGICAL  \\\n",
       "1416          1416                         1                     0   \n",
       "1422          1422                         1                     0   \n",
       "1566          1566                         1                     0   \n",
       "2907          2907                         1                     0   \n",
       "4044          4044                         1                     0   \n",
       "...            ...                       ...                   ...   \n",
       "201220      201220                         1                     0   \n",
       "201223      201223                         1                     0   \n",
       "201224      201224                         1                     0   \n",
       "201229      201229                         1                     0   \n",
       "201230      201230                         1                     0   \n",
       "\n",
       "        CMP_CLASS_PEPTIDE  CMP_CLASS_ORGANIC  CMP_CLASS_INORGANIC  \\\n",
       "1416                    0                  1                    0   \n",
       "1422                    0                  1                    0   \n",
       "1566                    0                  1                    0   \n",
       "2907                    0                  1                    0   \n",
       "4044                    0                  1                    0   \n",
       "...                   ...                ...                  ...   \n",
       "201220                  0                  1                    0   \n",
       "201223                  0                  1                    0   \n",
       "201224                  0                  1                    0   \n",
       "201229                  0                  1                    0   \n",
       "201230                  0                  1                    0   \n",
       "\n",
       "        CMP_CLASS_ACID  CMP_CLASS_BASE  CMP_CLASS_NEUTRAL  CMP_FORMALCHARGE  \\\n",
       "1416                 0               0                  0                 0   \n",
       "1422                 0               0                  0                 0   \n",
       "1566                 0               0                  0                 0   \n",
       "2907                 0               0                  0                 0   \n",
       "4044                 0               0                  0                 0   \n",
       "...                ...             ...                ...               ...   \n",
       "201220               0               0                  0                 0   \n",
       "201223               0               0                  0                 0   \n",
       "201224               0               0                  0                 0   \n",
       "201229               0               0                  0                 0   \n",
       "201230               0               0                  0                 0   \n",
       "\n",
       "        ...  CMP_NUM_AROMATICRINGS  CMP_NUM_CHAINS  CMP_ATOMCOUNT_METALATOMS  \\\n",
       "1416    ...                      1               7                         0   \n",
       "1422    ...                      1               7                         0   \n",
       "1566    ...                      1               5                         0   \n",
       "2907    ...                      1               5                         0   \n",
       "4044    ...                      3               4                         0   \n",
       "...     ...                    ...             ...                       ...   \n",
       "201220  ...                      0              15                         0   \n",
       "201223  ...                      1              14                         0   \n",
       "201224  ...                      1              14                         0   \n",
       "201229  ...                      1              14                         0   \n",
       "201230  ...                      1              13                         0   \n",
       "\n",
       "        CMP_MOLECULAR_SURFACEAREA  CMP_LOGP  CMP_SOLUBILITY  \\\n",
       "1416                       331.50     3.146          -4.389   \n",
       "1422                       314.08     2.690          -3.991   \n",
       "1566                       358.61     1.660          -6.342   \n",
       "2907                       322.05     3.648          -5.062   \n",
       "4044                       377.53     3.718          -5.604   \n",
       "...                           ...       ...             ...   \n",
       "201220                     469.31     2.081          -4.379   \n",
       "201223                     444.72     2.899          -3.316   \n",
       "201224                     462.00     3.566          -3.415   \n",
       "201229                     503.49     4.247          -4.302   \n",
       "201230                     423.35     2.412          -3.088   \n",
       "\n",
       "        CMP_ATOMS_POSITIVE_FRAC  CMP_ATOMS_NEGATIVE_FRAC  \\\n",
       "1416                        0.0                      0.0   \n",
       "1422                        0.0                      0.0   \n",
       "1566                        0.0                      0.0   \n",
       "2907                        0.0                      0.0   \n",
       "4044                        0.0                      0.0   \n",
       "...                         ...                      ...   \n",
       "201220                      0.0                      0.0   \n",
       "201223                      0.0                      0.0   \n",
       "201224                      0.0                      0.0   \n",
       "201229                      0.0                      0.0   \n",
       "201230                      0.0                      0.0   \n",
       "\n",
       "        CMP_MOLECULAR_WEIGHT  canonical_smiles  \n",
       "1416               313.39082               NaN  \n",
       "1422               299.36424               NaN  \n",
       "1566               368.45270               NaN  \n",
       "2907               311.46106               NaN  \n",
       "4044               386.48614               NaN  \n",
       "...                      ...               ...  \n",
       "201220             432.46361               NaN  \n",
       "201223             418.43703               NaN  \n",
       "201224             432.46361               NaN  \n",
       "201229             460.51677               NaN  \n",
       "201230             404.41045               NaN  \n",
       "\n",
       "[596 rows x 21 columns]"
      ]
     },
     "execution_count": 15,
     "metadata": {},
     "output_type": "execute_result"
    }
   ],
   "source": [
    "bool_series = lense['canonical_smiles'].duplicated(keep=False)\n",
    "lense[bool_series]    # There are 596 duplicates. I will throw them out."
   ]
  },
  {
   "cell_type": "code",
   "execution_count": null,
   "metadata": {},
   "outputs": [],
   "source": [
    "#lense.shape"
   ]
  },
  {
   "cell_type": "code",
   "execution_count": 16,
   "metadata": {},
   "outputs": [],
   "source": [
    "lense = lense[~bool_series]"
   ]
  },
  {
   "cell_type": "code",
   "execution_count": null,
   "metadata": {},
   "outputs": [],
   "source": [
    "#lense.shape"
   ]
  },
  {
   "cell_type": "markdown",
   "metadata": {},
   "source": [
    "### Take a subset"
   ]
  },
  {
   "cell_type": "code",
   "execution_count": 18,
   "metadata": {},
   "outputs": [],
   "source": [
    "#lense.describe()"
   ]
  },
  {
   "cell_type": "code",
   "execution_count": 19,
   "metadata": {},
   "outputs": [],
   "source": [
    "# Remove un-interesting columns\n",
    "lense = lense.drop(columns=['CMP_CLASS_INORGANIC',\n",
    "                           'CMP_CLASS_ACID',\n",
    "                           'CMP_CLASS_BASE',\n",
    "                           'CMP_CLASS_NEUTRAL',\n",
    "                           'CMP_ATOMCOUNT_METALATOMS'])"
   ]
  },
  {
   "cell_type": "code",
   "execution_count": 20,
   "metadata": {},
   "outputs": [
    {
     "data": {
      "text/plain": [
       "(150, 16)"
      ]
     },
     "execution_count": 20,
     "metadata": {},
     "output_type": "execute_result"
    }
   ],
   "source": [
    "lense_subset = lense.sample(n=150,\n",
    "                           random_state=42)\n",
    "lense_subset.shape"
   ]
  },
  {
   "cell_type": "markdown",
   "metadata": {},
   "source": [
    "### Generate Fingerprints from SMILES"
   ]
  },
  {
   "cell_type": "code",
   "execution_count": 21,
   "metadata": {},
   "outputs": [],
   "source": [
    "smiles_list = lense_subset['canonical_smiles'].tolist()\n",
    "\n",
    "mols_list = [chem.MolFromSmiles(x) for x in smiles_list]   # Attention: this can give None values!\n",
    "                                                            # check with \"is None\"\n",
    "\n",
    "fingerprints_list = [chem.RDKFingerprint(x) for x in mols_list]"
   ]
  },
  {
   "cell_type": "code",
   "execution_count": 22,
   "metadata": {},
   "outputs": [
    {
     "data": {
      "text/plain": [
       "False"
      ]
     },
     "execution_count": 22,
     "metadata": {},
     "output_type": "execute_result"
    }
   ],
   "source": [
    "# Check for NULL values\n",
    "None in fingerprints_list      # there are no Null/ None objects :)"
   ]
  },
  {
   "cell_type": "code",
   "execution_count": 23,
   "metadata": {},
   "outputs": [],
   "source": [
    "lense_subset['fingerprint'] = fingerprints_list"
   ]
  },
  {
   "cell_type": "code",
   "execution_count": null,
   "metadata": {},
   "outputs": [],
   "source": [
    "#lense_subset.iloc[3,16]"
   ]
  },
  {
   "cell_type": "code",
   "execution_count": 24,
   "metadata": {},
   "outputs": [],
   "source": [
    "for i in range(len(lense_subset)):\n",
    "    lense_subset.iloc[i,16] = lense_subset.iloc[i,16].ToBitString()"
   ]
  },
  {
   "cell_type": "markdown",
   "metadata": {},
   "source": [
    "### Save the output of this notebook"
   ]
  },
  {
   "cell_type": "code",
   "execution_count": 25,
   "metadata": {},
   "outputs": [],
   "source": [
    "lense_subset.to_csv('../datasets/Lenselink_et_al/Lenselink_1_Molecular_Notation_Transformation_150samples.csv')"
   ]
  },
  {
   "cell_type": "code",
   "execution_count": null,
   "metadata": {},
   "outputs": [],
   "source": []
  }
 ],
 "metadata": {
  "kernelspec": {
   "display_name": "Python 3",
   "language": "python",
   "name": "python3"
  },
  "language_info": {
   "codemirror_mode": {
    "name": "ipython",
    "version": 3
   },
   "file_extension": ".py",
   "mimetype": "text/x-python",
   "name": "python",
   "nbconvert_exporter": "python",
   "pygments_lexer": "ipython3",
   "version": "3.6.10"
  }
 },
 "nbformat": 4,
 "nbformat_minor": 4
}
