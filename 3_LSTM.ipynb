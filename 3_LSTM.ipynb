{
  "nbformat": 4,
  "nbformat_minor": 0,
  "metadata": {
    "colab": {
      "name": "3_LSTM.ipynb",
      "provenance": [],
      "collapsed_sections": [
        "Ba4fQd45ROHm",
        "foLfnpyy6sKa",
        "vjS2BqJGL4ra",
        "FO-qNNhI6vNH"
      ],
      "toc_visible": true,
      "include_colab_link": true
    },
    "kernelspec": {
      "name": "python3",
      "display_name": "Python 3"
    },
    "accelerator": "GPU"
  },
  "cells": [
    {
      "cell_type": "markdown",
      "metadata": {
        "id": "view-in-github",
        "colab_type": "text"
      },
      "source": [
        "<a href=\"https://colab.research.google.com/github/veren4/SMILES_featurization/blob/master/3_LSTM.ipynb\" target=\"_parent\"><img src=\"https://colab.research.google.com/assets/colab-badge.svg\" alt=\"Open In Colab\"/></a>"
      ]
    },
    {
      "cell_type": "markdown",
      "metadata": {
        "id": "My--lJljomTg"
      },
      "source": [
        "This notebook ist based on [this tutorial](https://www.kdnuggets.com/2020/07/pytorch-lstm-text-generation-tutorial.html). The code is from the referenced Github repo.\\\n",
        "[Tensorboard tutorial](https://medium.com/@iamsdt/using-tensorboard-in-google-colab-with-pytorch-458f9bb95212)"
      ]
    },
    {
      "cell_type": "markdown",
      "metadata": {
        "id": "UEadlnoYTiRk"
      },
      "source": [
        "Open problems with this model:\n",
        "* Wenn ich in dem Satz, den ich hinten reinfüttere zum Predicten, ein Zeichen habe, das im Trainings-Datensatz nicht vorkam, kriege ich einen Fehler. => Generell muss ich unknown tokens einführen.\n",
        "* Ich schaue das Vokabular des ganzen Datensatzes an. Wenn ich den aber am Anfang nicht einlese, geht das nicht => Vorher bestimmen und hier nur einlesen!"
      ]
    },
    {
      "cell_type": "markdown",
      "metadata": {
        "id": "ACUCXCM2-J7Q"
      },
      "source": [
        "Might be useful: [pack sequence](https://pytorch.org/docs/stable/generated/torch.nn.utils.rnn.pack_sequence.html#torch-nn-utils-rnn-pack-sequence), [pack padded sequence](https://pytorch.org/docs/stable/generated/torch.nn.utils.rnn.pack_padded_sequence.html#torch-nn-utils-rnn-pack-padded-sequence)\n",
        "\n",
        "[How bidirectionality works in PyTorch](https://towardsdatascience.com/understanding-bidirectional-rnn-in-pytorch-5bd25a5dd66)"
      ]
    },
    {
      "cell_type": "markdown",
      "metadata": {
        "id": "Ba4fQd45ROHm"
      },
      "source": [
        "#Setup"
      ]
    },
    {
      "cell_type": "code",
      "metadata": {
        "id": "cGkOXzWZRPMW"
      },
      "source": [
        "import torch\n",
        "import pandas as pd\n",
        "from collections import Counter\n",
        "from torch import nn, optim\n",
        "import argparse\n",
        "import numpy as np\n",
        "from torch.utils.data import DataLoader\n",
        "\n",
        "!pip install -q SmilesPE\n",
        "from SmilesPE.pretokenizer import atomwise_tokenizer\n",
        "import pickle\n",
        "import re"
      ],
      "execution_count": 1,
      "outputs": []
    },
    {
      "cell_type": "code",
      "metadata": {
        "id": "k65BqjmuO3Vk",
        "colab": {
          "base_uri": "https://localhost:8080/"
        },
        "outputId": "a1b6ba94-11ef-416e-ba27-48b7ca6d8578"
      },
      "source": [
        "from google.colab import drive\n",
        "drive.mount('/content/drive', force_remount=False)"
      ],
      "execution_count": 2,
      "outputs": [
        {
          "output_type": "stream",
          "text": [
            "Drive already mounted at /content/drive; to attempt to forcibly remount, call drive.mount(\"/content/drive\", force_remount=True).\n"
          ],
          "name": "stdout"
        }
      ]
    },
    {
      "cell_type": "code",
      "metadata": {
        "id": "MW79DPFWTA_0",
        "colab": {
          "base_uri": "https://localhost:8080/"
        },
        "outputId": "bd0209c1-7363-4d9d-9a16-ee5b00103b95"
      },
      "source": [
        "import platform\n",
        "device = torch.device(\"cuda:0\" if torch.cuda.is_available() else \"cpu\")\n",
        "\n",
        "print('Python: ', platform.python_version())\n",
        "print('PyTorch: ', torch.__version__)\n",
        "if(device.type == 'cuda'):\n",
        "  print('Using GPU (cuda)')\n",
        "else:\n",
        "  print('Using CPU!')"
      ],
      "execution_count": 3,
      "outputs": [
        {
          "output_type": "stream",
          "text": [
            "Python:  3.6.9\n",
            "PyTorch:  1.7.0+cu101\n",
            "Using GPU (cuda)\n"
          ],
          "name": "stdout"
        }
      ]
    },
    {
      "cell_type": "code",
      "metadata": {
        "id": "cQBT-vJVI7Ga"
      },
      "source": [
        "%load_ext tensorboard\n",
        "import tensorflow as tf\n",
        "import datetime, os"
      ],
      "execution_count": 4,
      "outputs": []
    },
    {
      "cell_type": "markdown",
      "metadata": {
        "id": "foLfnpyy6sKa"
      },
      "source": [
        "#Dataset class"
      ]
    },
    {
      "cell_type": "code",
      "metadata": {
        "id": "EP2DEy_CIoqN"
      },
      "source": [
        "class Massive_Dataset(torch.utils.data.Dataset):\n",
        "    def __init__(\n",
        "        self,\n",
        "        offsets,\n",
        "        sequence_length,\n",
        "        vocabulary,\n",
        "        length_of_dataset=14,  # how many instances are in the dataset in total (how many rows without the header)\n",
        "        data_path='/content/drive/My Drive/Rostlab internship/8_KDNuggets_LSTM_Approach/data/CID-SMILES-first100',\n",
        "    ):\n",
        "        self.sequence_length = sequence_length\n",
        "        self.offsets = offsets\n",
        "        self.length_of_dataset = length_of_dataset\n",
        "        self.data_path = data_path\n",
        "\n",
        "        self.data_stream = open(self.data_path, 'r')\n",
        "        self.current_offset = 0\n",
        "        self.vocabulary = vocabulary  # vocab for the first 100 of CID_SMILES!\n",
        "        self.word_to_index = {word: index for index, word in enumerate(self.vocabulary)}\n",
        "\n",
        "    def __len__(self):\n",
        "        return self.length_of_dataset\n",
        "\n",
        "    def line_to_instance(self, line):\n",
        "        tokenized_SMILES = atomwise_tokenizer(line)\n",
        "        tokenized_SMILES.insert(0, 'SOL')\n",
        "        tokenized_SMILES.append('EOL')\n",
        "        tokenized_SMILES = [self.word_to_index[w] if (w in self.vocabulary) else self.word_to_index['UNK'] for w in tokenized_SMILES]\n",
        "        return tokenized_SMILES\n",
        "\n",
        "    def __getitem__(self, line):\n",
        "        offset = self.offsets[line]        \n",
        "        self.data_stream.seek(offset)\n",
        "        line = self.data_stream.readline()\n",
        "        line = line.rstrip(\"\\n\")\n",
        "        match = re.match(pattern = \"^\\d+\\\\t(.+)$\", string = line)\n",
        "        if match:\n",
        "          line = match.group(1)\n",
        "        else:\n",
        "          raise ValueError('I couldn\\'t find a SMILES in a line of the dataset. :(')\n",
        "\n",
        "        instance = self.line_to_instance(line)\n",
        "        label_instance = instance[1:]\n",
        "        label_instance.append(0)    # Currently, the last token is a 0. It is\n",
        "                                    # debatable whether that is suitable, but\n",
        "                                    # I slice it out later aynway, so I just\n",
        "                                    # let that 0 be for now.\n",
        "        \n",
        "        # Padding with 'PAD' --> mapping to vocab\n",
        "        instance += [self.word_to_index['PAD']] * (self.sequence_length - len(instance))\n",
        "        label_instance += [self.word_to_index['PAD']] * (self.sequence_length - len(label_instance))\n",
        "        \n",
        "        return (torch.cuda.LongTensor(instance), torch.cuda.LongTensor(label_instance))"
      ],
      "execution_count": 5,
      "outputs": []
    },
    {
      "cell_type": "markdown",
      "metadata": {
        "id": "oJslpt7E8JtF"
      },
      "source": [
        "#Model"
      ]
    },
    {
      "cell_type": "markdown",
      "metadata": {
        "id": "Nrd4jvii85pr"
      },
      "source": [
        "[GRU example](https://towardsdatascience.com/understanding-bidirectional-rnn-in-pytorch-5bd25a5dd66)"
      ]
    },
    {
      "cell_type": "code",
      "metadata": {
        "id": "nYK18s538M8p"
      },
      "source": [
        "class LSTMModel(nn.Module):\n",
        "    def __init__(self, vocabulary_length, sequence_length, padding_index, bidirectional, lstm_size=128, embedding_dim=128, num_layers=3):\n",
        "        super(LSTMModel, self).__init__()\n",
        "\n",
        "        self.vocabulary_length = vocabulary_length\n",
        "        self.lstm_size = lstm_size\n",
        "        self.embedding_dim = embedding_dim\n",
        "        self.num_layers = num_layers\n",
        "        self.sequence_length = sequence_length\n",
        "        self.padding_index = padding_index\n",
        "        self.bidirectional = bidirectional\n",
        "\n",
        "        self.embedding = nn.Embedding(\n",
        "            num_embeddings=self.vocabulary_length,\n",
        "            embedding_dim=self.embedding_dim,\n",
        "            padding_idx=self.padding_index\n",
        "        )\n",
        "\n",
        "        self.lstm = nn.LSTM(\n",
        "            input_size=self.embedding_dim,\n",
        "            hidden_size=self.lstm_size,\n",
        "            num_layers=self.num_layers,\n",
        "            dropout=0.2,\n",
        "            bidirectional=self.bidirectional\n",
        "        )\n",
        "\n",
        "        self.fc = nn.Linear(self.lstm_size, self.vocabulary_length)\n",
        "\n",
        "    def forward(self, x, prev_state):\n",
        "        embedding = self.embedding(x)\n",
        "\n",
        "        output, state = self.lstm(embedding, prev_state)  # input_size, hidden_size, num_layers\n",
        "        logits = self.fc(output)\n",
        "\n",
        "        return logits, state\n",
        "\n",
        "    def init_state(self):\n",
        "        if self.bidirectional:  # it is bidir.\n",
        "          return (torch.rand(self.num_layers*2, self.sequence_length, self.lstm_size, device='cuda'),\n",
        "                  torch.rand(self.num_layers, self.sequence_length, self.lstm_size, device='cuda'))\n",
        "        else:   # it is not bidir.\n",
        "          return (torch.rand(self.num_layers, self.sequence_length, self.lstm_size, device='cuda'),\n",
        "                  torch.rand(self.num_layers, self.sequence_length, self.lstm_size, device='cuda'))"
      ],
      "execution_count": 6,
      "outputs": []
    },
    {
      "cell_type": "markdown",
      "metadata": {
        "id": "vjS2BqJGL4ra"
      },
      "source": [
        "#Metdata"
      ]
    },
    {
      "cell_type": "markdown",
      "metadata": {
        "id": "YYPqmgK0L9Rs"
      },
      "source": [
        "* Number of lines\n",
        "* regex: cut away line number + tabs/spaces\n",
        "* byte offset "
      ]
    },
    {
      "cell_type": "markdown",
      "metadata": {
        "id": "TXSZkNcSyAFd"
      },
      "source": [
        "wc -l CID-SMILES\\\n",
        "108826964 CID-SMILES\n",
        "\n",
        "108 826 964   lines are in that file."
      ]
    },
    {
      "cell_type": "code",
      "metadata": {
        "id": "MHcfV-T51zrO"
      },
      "source": [
        "with open('/content/drive/My Drive/Rostlab internship/8_KDNuggets_LSTM_Approach/data/offset_list_CID-first100.pkl', 'rb') as fid:\n",
        "     offset_list = pickle.load(fid)\n",
        "\n",
        "#with open('/content/drive/My Drive/Rostlab internship/8_KDNuggets_LSTM_Approach/data/offset_list.pkl', 'rb') as fid:\n",
        "#     offset_list = pickle.load(fid)\n",
        "\n",
        "#with open('/content/drive/My Drive/Rostlab internship/8_KDNuggets_LSTM_Approach/data/offset_list_worded_smiles_no_header.pkl', 'rb') as fid:\n",
        "#     offset_list = pickle.load(fid)"
      ],
      "execution_count": 7,
      "outputs": []
    },
    {
      "cell_type": "code",
      "metadata": {
        "id": "JjhbrHK4XLNf"
      },
      "source": [
        "dict_offset = { i : offset_list[i] for i in range(0, len(offset_list) ) }"
      ],
      "execution_count": 8,
      "outputs": []
    },
    {
      "cell_type": "markdown",
      "metadata": {
        "id": "oOQReS6w8qK4"
      },
      "source": [
        "#Model Parameters"
      ]
    },
    {
      "cell_type": "code",
      "metadata": {
        "id": "OM2SNHnm8pTi"
      },
      "source": [
        "special_tokens = ['UNK', 'SOL', 'EOL', 'PAD']\n",
        "vocabulary = special_tokens + ['(', ')', 'O', 'S', '1', '#', '6', '=', 'C', 'N', '7', '[N+]', '2', '4', 'P', '[O-]', '3', '5', 'Cl']\n",
        "max_sequence_length = 150\n",
        "padding_index = 999\n",
        "bidirectional = False"
      ],
      "execution_count": 9,
      "outputs": []
    },
    {
      "cell_type": "markdown",
      "metadata": {
        "id": "FO-qNNhI6vNH"
      },
      "source": [
        "#Training"
      ]
    },
    {
      "cell_type": "code",
      "metadata": {
        "id": "b_g3Ap3WfcX9",
        "colab": {
          "base_uri": "https://localhost:8080/"
        },
        "outputId": "edeb4b56-29fe-43a2-f716-85fa2088202e"
      },
      "source": [
        "dataset = Massive_Dataset(dict_offset, max_sequence_length, vocabulary)\n",
        "\n",
        "LSTM_options = {\n",
        "  'vocabulary_length': len(vocabulary),\n",
        "  'sequence_length': max_sequence_length,\n",
        "  'lstm_size': 128,\n",
        "  'num_layers': 1,\n",
        "  'embedding_dim': 1024,\n",
        "  'padding_index': dataset.word_to_index['PAD'],\n",
        "  'bidirectional': True\n",
        "}\n",
        "\n",
        "model = LSTMModel(**LSTM_options)\n",
        "model.cuda()  # I can call this, as my model class inherits it from nn.Module\n",
        "\n",
        "print(f\"Dataset contains {len(dataset)} samples.\")"
      ],
      "execution_count": 10,
      "outputs": [
        {
          "output_type": "stream",
          "text": [
            "/usr/local/lib/python3.6/dist-packages/torch/nn/modules/rnn.py:61: UserWarning: dropout option adds dropout after all but last recurrent layer, so non-zero dropout expects num_layers greater than 1, but got dropout=0.2 and num_layers=1\n",
            "  \"num_layers={}\".format(dropout, num_layers))\n"
          ],
          "name": "stderr"
        },
        {
          "output_type": "stream",
          "text": [
            "Dataset contains 14 samples.\n"
          ],
          "name": "stdout"
        }
      ]
    },
    {
      "cell_type": "code",
      "metadata": {
        "id": "rsx2f0GmaLD7"
      },
      "source": [
        "options = {\n",
        "  'batch_size': 3,\n",
        "  'learning_rate': 0.001,\n",
        "  'max_epochs': 10\n",
        "}\n",
        "\n",
        "model.train()\n",
        "\n",
        "dataloader = DataLoader(dataset, batch_size=options['batch_size'])\n",
        "criterion = nn.CrossEntropyLoss()\n",
        "optimizer = optim.Adam(model.parameters(), lr=options['learning_rate'])\n",
        "\n",
        "state_h, state_c = model.init_state()"
      ],
      "execution_count": 11,
      "outputs": []
    },
    {
      "cell_type": "markdown",
      "metadata": {
        "id": "M9Ghq614bqe0"
      },
      "source": [
        "[Pytorch tutorial](https://pytorch.org/tutorials/recipes/recipes/tensorboard_with_pytorch.html)\\\n",
        "[Towards Data Science](https://towardsdatascience.com/pytorch-performance-analysis-with-tensorboard-7c61f91071aa)\\\n",
        "[Medium: Tensorboard in Colab](https://medium.com/@iamsdt/using-tensorboard-in-google-colab-with-pytorch-458f9bb95212)"
      ]
    },
    {
      "cell_type": "code",
      "metadata": {
        "id": "bcPvitB3Mf_-"
      },
      "source": [
        "logs_base_dir = \"runs\"\n",
        "#logs_base_dir = \"runs/unidirectional\"\n",
        "os.makedirs(logs_base_dir, exist_ok=True)\n",
        "\n",
        "from torch.utils.tensorboard import SummaryWriter\n",
        "writer = SummaryWriter()"
      ],
      "execution_count": 12,
      "outputs": []
    },
    {
      "cell_type": "code",
      "metadata": {
        "id": "-UNUM5gkykfj"
      },
      "source": [
        "#os.remove('runs/Feb01_08-49-52_eafe0e361c90/events.out.tfevents.1612169392.eafe0e361c90.60.0')\n",
        "#os.rmdir('runs/Feb01_08-49-52_eafe0e361c90')       # works only for empty directories\n",
        "#os.listdir('runs')"
      ],
      "execution_count": 13,
      "outputs": []
    },
    {
      "cell_type": "code",
      "metadata": {
        "id": "M0LQ56kg-saY"
      },
      "source": [
        "#tokens, labels = next(iter(dataloader))\n",
        "#writer.add_graph(model,\n",
        "#                 tokens,\n",
        "#                 verbose=True)"
      ],
      "execution_count": 14,
      "outputs": []
    },
    {
      "cell_type": "markdown",
      "metadata": {
        "id": "pto0JZGo8eMu"
      },
      "source": [
        "#Actual Training"
      ]
    },
    {
      "cell_type": "code",
      "metadata": {
        "id": "2KvhwNcvIsh_",
        "colab": {
          "base_uri": "https://localhost:8080/",
          "height": 382
        },
        "outputId": "1025312c-a54e-4cef-989b-f26416abdbba"
      },
      "source": [
        "cell_states = {}\n",
        "hidden_states = {}\n",
        "\n",
        "for epoch in range(options['max_epochs']):\n",
        "  for batch, (x, y) in enumerate(dataloader):\n",
        "    optimizer.zero_grad()\n",
        "    \n",
        "    y_pred, (state_h, state_c) = model(x, (state_h, state_c))\n",
        "    loss = criterion(y_pred.transpose(1, 2), y)\n",
        "    writer.add_scalar(\"Loss\", loss, epoch)\n",
        "\n",
        "    state_h = state_h.detach()\n",
        "    state_c = state_c.detach()\n",
        "\n",
        "    loss.backward()\n",
        "    optimizer.step()\n",
        "\n",
        "    print({ 'epoch': epoch, 'batch': batch, 'loss': loss.item() })\n",
        "\n",
        "writer.flush() # Call flush() method to make sure that all pending events have been written to disk."
      ],
      "execution_count": 17,
      "outputs": [
        {
          "output_type": "error",
          "ename": "RuntimeError",
          "evalue": "ignored",
          "traceback": [
            "\u001b[0;31m---------------------------------------------------------------------------\u001b[0m",
            "\u001b[0;31mRuntimeError\u001b[0m                              Traceback (most recent call last)",
            "\u001b[0;32m<ipython-input-17-6cbeeed1fbcf>\u001b[0m in \u001b[0;36m<module>\u001b[0;34m()\u001b[0m\n\u001b[1;32m      6\u001b[0m     \u001b[0moptimizer\u001b[0m\u001b[0;34m.\u001b[0m\u001b[0mzero_grad\u001b[0m\u001b[0;34m(\u001b[0m\u001b[0;34m)\u001b[0m\u001b[0;34m\u001b[0m\u001b[0;34m\u001b[0m\u001b[0m\n\u001b[1;32m      7\u001b[0m \u001b[0;34m\u001b[0m\u001b[0m\n\u001b[0;32m----> 8\u001b[0;31m     \u001b[0my_pred\u001b[0m\u001b[0;34m,\u001b[0m \u001b[0;34m(\u001b[0m\u001b[0mstate_h\u001b[0m\u001b[0;34m,\u001b[0m \u001b[0mstate_c\u001b[0m\u001b[0;34m)\u001b[0m \u001b[0;34m=\u001b[0m \u001b[0mmodel\u001b[0m\u001b[0;34m(\u001b[0m\u001b[0mx\u001b[0m\u001b[0;34m,\u001b[0m \u001b[0;34m(\u001b[0m\u001b[0mstate_h\u001b[0m\u001b[0;34m,\u001b[0m \u001b[0mstate_c\u001b[0m\u001b[0;34m)\u001b[0m\u001b[0;34m)\u001b[0m\u001b[0;34m\u001b[0m\u001b[0;34m\u001b[0m\u001b[0m\n\u001b[0m\u001b[1;32m      9\u001b[0m     \u001b[0mloss\u001b[0m \u001b[0;34m=\u001b[0m \u001b[0mcriterion\u001b[0m\u001b[0;34m(\u001b[0m\u001b[0my_pred\u001b[0m\u001b[0;34m.\u001b[0m\u001b[0mtranspose\u001b[0m\u001b[0;34m(\u001b[0m\u001b[0;36m1\u001b[0m\u001b[0;34m,\u001b[0m \u001b[0;36m2\u001b[0m\u001b[0;34m)\u001b[0m\u001b[0;34m,\u001b[0m \u001b[0my\u001b[0m\u001b[0;34m)\u001b[0m\u001b[0;34m\u001b[0m\u001b[0;34m\u001b[0m\u001b[0m\n\u001b[1;32m     10\u001b[0m     \u001b[0mwriter\u001b[0m\u001b[0;34m.\u001b[0m\u001b[0madd_scalar\u001b[0m\u001b[0;34m(\u001b[0m\u001b[0;34m\"Loss\"\u001b[0m\u001b[0;34m,\u001b[0m \u001b[0mloss\u001b[0m\u001b[0;34m,\u001b[0m \u001b[0mepoch\u001b[0m\u001b[0;34m)\u001b[0m\u001b[0;34m\u001b[0m\u001b[0;34m\u001b[0m\u001b[0m\n",
            "\u001b[0;32m/usr/local/lib/python3.6/dist-packages/torch/nn/modules/module.py\u001b[0m in \u001b[0;36m_call_impl\u001b[0;34m(self, *input, **kwargs)\u001b[0m\n\u001b[1;32m    725\u001b[0m             \u001b[0mresult\u001b[0m \u001b[0;34m=\u001b[0m \u001b[0mself\u001b[0m\u001b[0;34m.\u001b[0m\u001b[0m_slow_forward\u001b[0m\u001b[0;34m(\u001b[0m\u001b[0;34m*\u001b[0m\u001b[0minput\u001b[0m\u001b[0;34m,\u001b[0m \u001b[0;34m**\u001b[0m\u001b[0mkwargs\u001b[0m\u001b[0;34m)\u001b[0m\u001b[0;34m\u001b[0m\u001b[0;34m\u001b[0m\u001b[0m\n\u001b[1;32m    726\u001b[0m         \u001b[0;32melse\u001b[0m\u001b[0;34m:\u001b[0m\u001b[0;34m\u001b[0m\u001b[0;34m\u001b[0m\u001b[0m\n\u001b[0;32m--> 727\u001b[0;31m             \u001b[0mresult\u001b[0m \u001b[0;34m=\u001b[0m \u001b[0mself\u001b[0m\u001b[0;34m.\u001b[0m\u001b[0mforward\u001b[0m\u001b[0;34m(\u001b[0m\u001b[0;34m*\u001b[0m\u001b[0minput\u001b[0m\u001b[0;34m,\u001b[0m \u001b[0;34m**\u001b[0m\u001b[0mkwargs\u001b[0m\u001b[0;34m)\u001b[0m\u001b[0;34m\u001b[0m\u001b[0;34m\u001b[0m\u001b[0m\n\u001b[0m\u001b[1;32m    728\u001b[0m         for hook in itertools.chain(\n\u001b[1;32m    729\u001b[0m                 \u001b[0m_global_forward_hooks\u001b[0m\u001b[0;34m.\u001b[0m\u001b[0mvalues\u001b[0m\u001b[0;34m(\u001b[0m\u001b[0;34m)\u001b[0m\u001b[0;34m,\u001b[0m\u001b[0;34m\u001b[0m\u001b[0;34m\u001b[0m\u001b[0m\n",
            "\u001b[0;32m<ipython-input-6-2e46afe64639>\u001b[0m in \u001b[0;36mforward\u001b[0;34m(self, x, prev_state)\u001b[0m\n\u001b[1;32m     30\u001b[0m         \u001b[0membedding\u001b[0m \u001b[0;34m=\u001b[0m \u001b[0mself\u001b[0m\u001b[0;34m.\u001b[0m\u001b[0membedding\u001b[0m\u001b[0;34m(\u001b[0m\u001b[0mx\u001b[0m\u001b[0;34m)\u001b[0m\u001b[0;34m\u001b[0m\u001b[0;34m\u001b[0m\u001b[0m\n\u001b[1;32m     31\u001b[0m \u001b[0;34m\u001b[0m\u001b[0m\n\u001b[0;32m---> 32\u001b[0;31m         \u001b[0moutput\u001b[0m\u001b[0;34m,\u001b[0m \u001b[0mstate\u001b[0m \u001b[0;34m=\u001b[0m \u001b[0mself\u001b[0m\u001b[0;34m.\u001b[0m\u001b[0mlstm\u001b[0m\u001b[0;34m(\u001b[0m\u001b[0membedding\u001b[0m\u001b[0;34m,\u001b[0m \u001b[0mprev_state\u001b[0m\u001b[0;34m)\u001b[0m  \u001b[0;31m# input_size, hidden_size, num_layers\u001b[0m\u001b[0;34m\u001b[0m\u001b[0;34m\u001b[0m\u001b[0m\n\u001b[0m\u001b[1;32m     33\u001b[0m         \u001b[0mlogits\u001b[0m \u001b[0;34m=\u001b[0m \u001b[0mself\u001b[0m\u001b[0;34m.\u001b[0m\u001b[0mfc\u001b[0m\u001b[0;34m(\u001b[0m\u001b[0moutput\u001b[0m\u001b[0;34m)\u001b[0m\u001b[0;34m\u001b[0m\u001b[0;34m\u001b[0m\u001b[0m\n\u001b[1;32m     34\u001b[0m \u001b[0;34m\u001b[0m\u001b[0m\n",
            "\u001b[0;32m/usr/local/lib/python3.6/dist-packages/torch/nn/modules/module.py\u001b[0m in \u001b[0;36m_call_impl\u001b[0;34m(self, *input, **kwargs)\u001b[0m\n\u001b[1;32m    725\u001b[0m             \u001b[0mresult\u001b[0m \u001b[0;34m=\u001b[0m \u001b[0mself\u001b[0m\u001b[0;34m.\u001b[0m\u001b[0m_slow_forward\u001b[0m\u001b[0;34m(\u001b[0m\u001b[0;34m*\u001b[0m\u001b[0minput\u001b[0m\u001b[0;34m,\u001b[0m \u001b[0;34m**\u001b[0m\u001b[0mkwargs\u001b[0m\u001b[0;34m)\u001b[0m\u001b[0;34m\u001b[0m\u001b[0;34m\u001b[0m\u001b[0m\n\u001b[1;32m    726\u001b[0m         \u001b[0;32melse\u001b[0m\u001b[0;34m:\u001b[0m\u001b[0;34m\u001b[0m\u001b[0;34m\u001b[0m\u001b[0m\n\u001b[0;32m--> 727\u001b[0;31m             \u001b[0mresult\u001b[0m \u001b[0;34m=\u001b[0m \u001b[0mself\u001b[0m\u001b[0;34m.\u001b[0m\u001b[0mforward\u001b[0m\u001b[0;34m(\u001b[0m\u001b[0;34m*\u001b[0m\u001b[0minput\u001b[0m\u001b[0;34m,\u001b[0m \u001b[0;34m**\u001b[0m\u001b[0mkwargs\u001b[0m\u001b[0;34m)\u001b[0m\u001b[0;34m\u001b[0m\u001b[0;34m\u001b[0m\u001b[0m\n\u001b[0m\u001b[1;32m    728\u001b[0m         for hook in itertools.chain(\n\u001b[1;32m    729\u001b[0m                 \u001b[0m_global_forward_hooks\u001b[0m\u001b[0;34m.\u001b[0m\u001b[0mvalues\u001b[0m\u001b[0;34m(\u001b[0m\u001b[0;34m)\u001b[0m\u001b[0;34m,\u001b[0m\u001b[0;34m\u001b[0m\u001b[0;34m\u001b[0m\u001b[0m\n",
            "\u001b[0;32m/usr/local/lib/python3.6/dist-packages/torch/nn/modules/rnn.py\u001b[0m in \u001b[0;36mforward\u001b[0;34m(self, input, hx)\u001b[0m\n\u001b[1;32m    577\u001b[0m             \u001b[0mhx\u001b[0m \u001b[0;34m=\u001b[0m \u001b[0mself\u001b[0m\u001b[0;34m.\u001b[0m\u001b[0mpermute_hidden\u001b[0m\u001b[0;34m(\u001b[0m\u001b[0mhx\u001b[0m\u001b[0;34m,\u001b[0m \u001b[0msorted_indices\u001b[0m\u001b[0;34m)\u001b[0m\u001b[0;34m\u001b[0m\u001b[0;34m\u001b[0m\u001b[0m\n\u001b[1;32m    578\u001b[0m \u001b[0;34m\u001b[0m\u001b[0m\n\u001b[0;32m--> 579\u001b[0;31m         \u001b[0mself\u001b[0m\u001b[0;34m.\u001b[0m\u001b[0mcheck_forward_args\u001b[0m\u001b[0;34m(\u001b[0m\u001b[0minput\u001b[0m\u001b[0;34m,\u001b[0m \u001b[0mhx\u001b[0m\u001b[0;34m,\u001b[0m \u001b[0mbatch_sizes\u001b[0m\u001b[0;34m)\u001b[0m\u001b[0;34m\u001b[0m\u001b[0;34m\u001b[0m\u001b[0m\n\u001b[0m\u001b[1;32m    580\u001b[0m         \u001b[0;32mif\u001b[0m \u001b[0mbatch_sizes\u001b[0m \u001b[0;32mis\u001b[0m \u001b[0;32mNone\u001b[0m\u001b[0;34m:\u001b[0m\u001b[0;34m\u001b[0m\u001b[0;34m\u001b[0m\u001b[0m\n\u001b[1;32m    581\u001b[0m             result = _VF.lstm(input, hx, self._flat_weights, self.bias, self.num_layers,\n",
            "\u001b[0;32m/usr/local/lib/python3.6/dist-packages/torch/nn/modules/rnn.py\u001b[0m in \u001b[0;36mcheck_forward_args\u001b[0;34m(self, input, hidden, batch_sizes)\u001b[0m\n\u001b[1;32m    534\u001b[0m                                'Expected hidden[0] size {}, got {}')\n\u001b[1;32m    535\u001b[0m         self.check_hidden_size(hidden[1], expected_hidden_size,\n\u001b[0;32m--> 536\u001b[0;31m                                'Expected hidden[1] size {}, got {}')\n\u001b[0m\u001b[1;32m    537\u001b[0m \u001b[0;34m\u001b[0m\u001b[0m\n\u001b[1;32m    538\u001b[0m     \u001b[0;32mdef\u001b[0m \u001b[0mpermute_hidden\u001b[0m\u001b[0;34m(\u001b[0m\u001b[0mself\u001b[0m\u001b[0;34m,\u001b[0m \u001b[0mhx\u001b[0m\u001b[0;34m:\u001b[0m \u001b[0mTuple\u001b[0m\u001b[0;34m[\u001b[0m\u001b[0mTensor\u001b[0m\u001b[0;34m,\u001b[0m \u001b[0mTensor\u001b[0m\u001b[0;34m]\u001b[0m\u001b[0;34m,\u001b[0m \u001b[0mpermutation\u001b[0m\u001b[0;34m:\u001b[0m \u001b[0mOptional\u001b[0m\u001b[0;34m[\u001b[0m\u001b[0mTensor\u001b[0m\u001b[0;34m]\u001b[0m\u001b[0;34m)\u001b[0m \u001b[0;34m->\u001b[0m \u001b[0mTuple\u001b[0m\u001b[0;34m[\u001b[0m\u001b[0mTensor\u001b[0m\u001b[0;34m,\u001b[0m \u001b[0mTensor\u001b[0m\u001b[0;34m]\u001b[0m\u001b[0;34m:\u001b[0m\u001b[0;34m\u001b[0m\u001b[0;34m\u001b[0m\u001b[0m\n",
            "\u001b[0;32m/usr/local/lib/python3.6/dist-packages/torch/nn/modules/rnn.py\u001b[0m in \u001b[0;36mcheck_hidden_size\u001b[0;34m(self, hx, expected_hidden_size, msg)\u001b[0m\n\u001b[1;32m    194\u001b[0m                           msg: str = 'Expected hidden size {}, got {}') -> None:\n\u001b[1;32m    195\u001b[0m         \u001b[0;32mif\u001b[0m \u001b[0mhx\u001b[0m\u001b[0;34m.\u001b[0m\u001b[0msize\u001b[0m\u001b[0;34m(\u001b[0m\u001b[0;34m)\u001b[0m \u001b[0;34m!=\u001b[0m \u001b[0mexpected_hidden_size\u001b[0m\u001b[0;34m:\u001b[0m\u001b[0;34m\u001b[0m\u001b[0;34m\u001b[0m\u001b[0m\n\u001b[0;32m--> 196\u001b[0;31m             \u001b[0;32mraise\u001b[0m \u001b[0mRuntimeError\u001b[0m\u001b[0;34m(\u001b[0m\u001b[0mmsg\u001b[0m\u001b[0;34m.\u001b[0m\u001b[0mformat\u001b[0m\u001b[0;34m(\u001b[0m\u001b[0mexpected_hidden_size\u001b[0m\u001b[0;34m,\u001b[0m \u001b[0mlist\u001b[0m\u001b[0;34m(\u001b[0m\u001b[0mhx\u001b[0m\u001b[0;34m.\u001b[0m\u001b[0msize\u001b[0m\u001b[0;34m(\u001b[0m\u001b[0;34m)\u001b[0m\u001b[0;34m)\u001b[0m\u001b[0;34m)\u001b[0m\u001b[0;34m)\u001b[0m\u001b[0;34m\u001b[0m\u001b[0;34m\u001b[0m\u001b[0m\n\u001b[0m\u001b[1;32m    197\u001b[0m \u001b[0;34m\u001b[0m\u001b[0m\n\u001b[1;32m    198\u001b[0m     \u001b[0;32mdef\u001b[0m \u001b[0mcheck_forward_args\u001b[0m\u001b[0;34m(\u001b[0m\u001b[0mself\u001b[0m\u001b[0;34m,\u001b[0m \u001b[0minput\u001b[0m\u001b[0;34m:\u001b[0m \u001b[0mTensor\u001b[0m\u001b[0;34m,\u001b[0m \u001b[0mhidden\u001b[0m\u001b[0;34m:\u001b[0m \u001b[0mTensor\u001b[0m\u001b[0;34m,\u001b[0m \u001b[0mbatch_sizes\u001b[0m\u001b[0;34m:\u001b[0m \u001b[0mOptional\u001b[0m\u001b[0;34m[\u001b[0m\u001b[0mTensor\u001b[0m\u001b[0;34m]\u001b[0m\u001b[0;34m)\u001b[0m\u001b[0;34m:\u001b[0m\u001b[0;34m\u001b[0m\u001b[0;34m\u001b[0m\u001b[0m\n",
            "\u001b[0;31mRuntimeError\u001b[0m: Expected hidden[1] size (2, 150, 128), got [1, 150, 128]"
          ]
        }
      ]
    },
    {
      "cell_type": "markdown",
      "metadata": {
        "id": "-0QLw9QfI2ja"
      },
      "source": [
        "num_layers=1,   max_sequence_length=150,   lstm_size=128\\\n",
        "batch_size"
      ]
    },
    {
      "cell_type": "markdown",
      "metadata": {
        "id": "-Pjxw3tR8Eo8"
      },
      "source": [
        "#Sonstiges"
      ]
    },
    {
      "cell_type": "code",
      "metadata": {
        "colab": {
          "base_uri": "https://localhost:8080/"
        },
        "id": "YIEzKHQTF9-R",
        "outputId": "ab67f21f-34b8-439f-ee2a-b67b41de1973"
      },
      "source": [
        "x.shape"
      ],
      "execution_count": null,
      "outputs": [
        {
          "output_type": "execute_result",
          "data": {
            "text/plain": [
              "torch.Size([3, 150])"
            ]
          },
          "metadata": {
            "tags": []
          },
          "execution_count": 15
        }
      ]
    },
    {
      "cell_type": "code",
      "metadata": {
        "colab": {
          "base_uri": "https://localhost:8080/"
        },
        "id": "3jT6Owi-DEbX",
        "outputId": "2632f525-7c6b-44eb-d57d-4bf3673ce5c6"
      },
      "source": [
        "state_h.shape # chop off padding to get actual sequence length"
      ],
      "execution_count": null,
      "outputs": [
        {
          "output_type": "execute_result",
          "data": {
            "text/plain": [
              "torch.Size([1, 150, 128])"
            ]
          },
          "metadata": {
            "tags": []
          },
          "execution_count": 16
        }
      ]
    },
    {
      "cell_type": "code",
      "metadata": {
        "id": "5dd_s6Y4ItgO",
        "colab": {
          "base_uri": "https://localhost:8080/"
        },
        "outputId": "93688ccd-4167-4554-a95d-040408681594"
      },
      "source": [
        "%tensorboard --logdir=runs"
      ],
      "execution_count": null,
      "outputs": [
        {
          "output_type": "stream",
          "text": [
            "UsageError: Line magic function `%tensorboard` not found.\n"
          ],
          "name": "stderr"
        }
      ]
    },
    {
      "cell_type": "code",
      "metadata": {
        "colab": {
          "base_uri": "https://localhost:8080/"
        },
        "id": "czi_UHkfHsh3",
        "outputId": "d5a9f0e1-5b52-4157-902c-b8d90ab1726a"
      },
      "source": [
        "model.eval()\n",
        "\n",
        "# embedding per token"
      ],
      "execution_count": null,
      "outputs": [
        {
          "output_type": "execute_result",
          "data": {
            "text/plain": [
              "LSTMModel(\n",
              "  (embedding): Embedding(23, 1024, padding_idx=3)\n",
              "  (lstm): LSTM(1024, 128, dropout=0.2)\n",
              "  (fc): Linear(in_features=128, out_features=23, bias=True)\n",
              ")"
            ]
          },
          "metadata": {
            "tags": []
          },
          "execution_count": 32
        }
      ]
    },
    {
      "cell_type": "markdown",
      "metadata": {
        "id": "sUR_UwWScBOc"
      },
      "source": [
        "There is no need to save the tensors as e.g. ndarrays, as they will be used as input to another Pytorch model."
      ]
    },
    {
      "cell_type": "code",
      "metadata": {
        "id": "xNyX9W8RiAV1"
      },
      "source": [
        "#hidden_states[\"epoch_7\"]"
      ],
      "execution_count": null,
      "outputs": []
    },
    {
      "cell_type": "code",
      "metadata": {
        "id": "2Rqr6_PgmZ0E",
        "colab": {
          "base_uri": "https://localhost:8080/"
        },
        "outputId": "aa2af12d-ac40-467f-ce36-2a63845fa5db"
      },
      "source": [
        "!nvidia-smi       # monitoring and management capabilities of the GPU"
      ],
      "execution_count": null,
      "outputs": [
        {
          "output_type": "stream",
          "text": [
            "Mon Feb  1 12:18:27 2021       \n",
            "+-----------------------------------------------------------------------------+\n",
            "| NVIDIA-SMI 460.32.03    Driver Version: 418.67       CUDA Version: 10.1     |\n",
            "|-------------------------------+----------------------+----------------------+\n",
            "| GPU  Name        Persistence-M| Bus-Id        Disp.A | Volatile Uncorr. ECC |\n",
            "| Fan  Temp  Perf  Pwr:Usage/Cap|         Memory-Usage | GPU-Util  Compute M. |\n",
            "|                               |                      |               MIG M. |\n",
            "|===============================+======================+======================|\n",
            "|   0  Tesla T4            Off  | 00000000:00:04.0 Off |                    0 |\n",
            "| N/A   49C    P0    28W /  70W |   1117MiB / 15079MiB |      0%      Default |\n",
            "|                               |                      |                 ERR! |\n",
            "+-------------------------------+----------------------+----------------------+\n",
            "                                                                               \n",
            "+-----------------------------------------------------------------------------+\n",
            "| Processes:                                                                  |\n",
            "|  GPU   GI   CI        PID   Type   Process name                  GPU Memory |\n",
            "|        ID   ID                                                   Usage      |\n",
            "|=============================================================================|\n",
            "|  No running processes found                                                 |\n",
            "+-----------------------------------------------------------------------------+\n"
          ],
          "name": "stdout"
        }
      ]
    },
    {
      "cell_type": "markdown",
      "metadata": {
        "id": "_5UcJzBkpYl2"
      },
      "source": [
        "#Export cell & hidden states"
      ]
    },
    {
      "cell_type": "code",
      "metadata": {
        "id": "w9KOdp7spbVz"
      },
      "source": [
        "import pickle\n",
        "\n",
        "with open('/content/drive/MyDrive/Rostlab internship/8_KDNuggets_LSTM_Approach/data/pickled_cell_states.pkl', 'wb') as fid:\n",
        "  pickle.dump(cell_states, fid)\n",
        "\n",
        "with open('/content/drive/MyDrive/Rostlab internship/8_KDNuggets_LSTM_Approach/data/pickled_hidden_states.pkl', 'wb') as fid2:\n",
        "  pickle.dump(hidden_states, fid2)"
      ],
      "execution_count": null,
      "outputs": []
    }
  ]
}