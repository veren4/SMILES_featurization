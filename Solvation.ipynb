{
 "cells": [
  {
   "cell_type": "markdown",
   "metadata": {},
   "source": [
    "As I don't yet have found a dataset with more features, I will start to implement the script with the solvation dataset."
   ]
  },
  {
   "cell_type": "code",
   "execution_count": 10,
   "metadata": {},
   "outputs": [],
   "source": [
    "import pandas as pd\n",
    "import numpy as np\n",
    "#import rdkit\n",
    "\n",
    "%matplotlib inline"
   ]
  },
  {
   "cell_type": "markdown",
   "metadata": {},
   "source": [
    "### Loading the data"
   ]
  },
  {
   "cell_type": "code",
   "execution_count": 11,
   "metadata": {},
   "outputs": [],
   "source": [
    "dataset = pd.read_csv('../datasets/FreeSolv/SAMPL.csv')"
   ]
  },
  {
   "cell_type": "code",
   "execution_count": 12,
   "metadata": {},
   "outputs": [
    {
     "data": {
      "text/plain": [
       "pandas.core.frame.DataFrame"
      ]
     },
     "execution_count": 12,
     "metadata": {},
     "output_type": "execute_result"
    }
   ],
   "source": [
    "type(dataset)"
   ]
  },
  {
   "cell_type": "code",
   "execution_count": 13,
   "metadata": {},
   "outputs": [
    {
     "data": {
      "text/html": [
       "<div>\n",
       "<style scoped>\n",
       "    .dataframe tbody tr th:only-of-type {\n",
       "        vertical-align: middle;\n",
       "    }\n",
       "\n",
       "    .dataframe tbody tr th {\n",
       "        vertical-align: top;\n",
       "    }\n",
       "\n",
       "    .dataframe thead th {\n",
       "        text-align: right;\n",
       "    }\n",
       "</style>\n",
       "<table border=\"1\" class=\"dataframe\">\n",
       "  <thead>\n",
       "    <tr style=\"text-align: right;\">\n",
       "      <th></th>\n",
       "      <th>iupac</th>\n",
       "      <th>smiles</th>\n",
       "      <th>expt</th>\n",
       "      <th>calc</th>\n",
       "    </tr>\n",
       "  </thead>\n",
       "  <tbody>\n",
       "    <tr>\n",
       "      <th>0</th>\n",
       "      <td>4-methoxy-N,N-dimethyl-benzamide</td>\n",
       "      <td>CN(C)C(=O)c1ccc(cc1)OC</td>\n",
       "      <td>-11.01</td>\n",
       "      <td>-9.625</td>\n",
       "    </tr>\n",
       "    <tr>\n",
       "      <th>1</th>\n",
       "      <td>methanesulfonyl chloride</td>\n",
       "      <td>CS(=O)(=O)Cl</td>\n",
       "      <td>-4.87</td>\n",
       "      <td>-6.219</td>\n",
       "    </tr>\n",
       "    <tr>\n",
       "      <th>2</th>\n",
       "      <td>3-methylbut-1-ene</td>\n",
       "      <td>CC(C)C=C</td>\n",
       "      <td>1.83</td>\n",
       "      <td>2.452</td>\n",
       "    </tr>\n",
       "    <tr>\n",
       "      <th>3</th>\n",
       "      <td>2-ethylpyrazine</td>\n",
       "      <td>CCc1cnccn1</td>\n",
       "      <td>-5.45</td>\n",
       "      <td>-5.809</td>\n",
       "    </tr>\n",
       "    <tr>\n",
       "      <th>4</th>\n",
       "      <td>heptan-1-ol</td>\n",
       "      <td>CCCCCCCO</td>\n",
       "      <td>-4.21</td>\n",
       "      <td>-2.917</td>\n",
       "    </tr>\n",
       "  </tbody>\n",
       "</table>\n",
       "</div>"
      ],
      "text/plain": [
       "                              iupac                  smiles   expt   calc\n",
       "0  4-methoxy-N,N-dimethyl-benzamide  CN(C)C(=O)c1ccc(cc1)OC -11.01 -9.625\n",
       "1          methanesulfonyl chloride            CS(=O)(=O)Cl  -4.87 -6.219\n",
       "2                 3-methylbut-1-ene                CC(C)C=C   1.83  2.452\n",
       "3                   2-ethylpyrazine              CCc1cnccn1  -5.45 -5.809\n",
       "4                       heptan-1-ol                CCCCCCCO  -4.21 -2.917"
      ]
     },
     "execution_count": 13,
     "metadata": {},
     "output_type": "execute_result"
    }
   ],
   "source": [
    "dataset.head()"
   ]
  },
  {
   "cell_type": "markdown",
   "metadata": {},
   "source": [
    "### Data Exploration"
   ]
  },
  {
   "cell_type": "code",
   "execution_count": 14,
   "metadata": {},
   "outputs": [],
   "source": [
    "df = dataset.drop(columns = ['iupac'])"
   ]
  },
  {
   "cell_type": "code",
   "execution_count": 15,
   "metadata": {},
   "outputs": [
    {
     "data": {
      "text/html": [
       "<div>\n",
       "<style scoped>\n",
       "    .dataframe tbody tr th:only-of-type {\n",
       "        vertical-align: middle;\n",
       "    }\n",
       "\n",
       "    .dataframe tbody tr th {\n",
       "        vertical-align: top;\n",
       "    }\n",
       "\n",
       "    .dataframe thead th {\n",
       "        text-align: right;\n",
       "    }\n",
       "</style>\n",
       "<table border=\"1\" class=\"dataframe\">\n",
       "  <thead>\n",
       "    <tr style=\"text-align: right;\">\n",
       "      <th></th>\n",
       "      <th>expt</th>\n",
       "      <th>calc</th>\n",
       "    </tr>\n",
       "  </thead>\n",
       "  <tbody>\n",
       "    <tr>\n",
       "      <th>count</th>\n",
       "      <td>642.000000</td>\n",
       "      <td>642.000000</td>\n",
       "    </tr>\n",
       "    <tr>\n",
       "      <th>mean</th>\n",
       "      <td>-3.803006</td>\n",
       "      <td>-3.486223</td>\n",
       "    </tr>\n",
       "    <tr>\n",
       "      <th>std</th>\n",
       "      <td>3.847820</td>\n",
       "      <td>4.186301</td>\n",
       "    </tr>\n",
       "    <tr>\n",
       "      <th>min</th>\n",
       "      <td>-25.470000</td>\n",
       "      <td>-21.762000</td>\n",
       "    </tr>\n",
       "    <tr>\n",
       "      <th>25%</th>\n",
       "      <td>-5.727500</td>\n",
       "      <td>-5.421500</td>\n",
       "    </tr>\n",
       "    <tr>\n",
       "      <th>50%</th>\n",
       "      <td>-3.530000</td>\n",
       "      <td>-3.053500</td>\n",
       "    </tr>\n",
       "    <tr>\n",
       "      <th>75%</th>\n",
       "      <td>-1.215000</td>\n",
       "      <td>-0.480750</td>\n",
       "    </tr>\n",
       "    <tr>\n",
       "      <th>max</th>\n",
       "      <td>3.430000</td>\n",
       "      <td>3.335000</td>\n",
       "    </tr>\n",
       "  </tbody>\n",
       "</table>\n",
       "</div>"
      ],
      "text/plain": [
       "             expt        calc\n",
       "count  642.000000  642.000000\n",
       "mean    -3.803006   -3.486223\n",
       "std      3.847820    4.186301\n",
       "min    -25.470000  -21.762000\n",
       "25%     -5.727500   -5.421500\n",
       "50%     -3.530000   -3.053500\n",
       "75%     -1.215000   -0.480750\n",
       "max      3.430000    3.335000"
      ]
     },
     "execution_count": 15,
     "metadata": {},
     "output_type": "execute_result"
    }
   ],
   "source": [
    "df.describe()"
   ]
  },
  {
   "cell_type": "markdown",
   "metadata": {},
   "source": [
    "I'll take a small subset for now."
   ]
  },
  {
   "cell_type": "code",
   "execution_count": 16,
   "metadata": {},
   "outputs": [
    {
     "data": {
      "text/html": [
       "<div>\n",
       "<style scoped>\n",
       "    .dataframe tbody tr th:only-of-type {\n",
       "        vertical-align: middle;\n",
       "    }\n",
       "\n",
       "    .dataframe tbody tr th {\n",
       "        vertical-align: top;\n",
       "    }\n",
       "\n",
       "    .dataframe thead th {\n",
       "        text-align: right;\n",
       "    }\n",
       "</style>\n",
       "<table border=\"1\" class=\"dataframe\">\n",
       "  <thead>\n",
       "    <tr style=\"text-align: right;\">\n",
       "      <th></th>\n",
       "      <th>smiles</th>\n",
       "      <th>expt</th>\n",
       "      <th>calc</th>\n",
       "    </tr>\n",
       "  </thead>\n",
       "  <tbody>\n",
       "    <tr>\n",
       "      <th>22</th>\n",
       "      <td>C1CCCC(CC1)O</td>\n",
       "      <td>-5.48</td>\n",
       "      <td>-4.345</td>\n",
       "    </tr>\n",
       "    <tr>\n",
       "      <th>100</th>\n",
       "      <td>CCCCl</td>\n",
       "      <td>-0.33</td>\n",
       "      <td>0.973</td>\n",
       "    </tr>\n",
       "    <tr>\n",
       "      <th>247</th>\n",
       "      <td>c1ccc2c(c1)C(=O)c3c(ccc(c3C2=O)N)N</td>\n",
       "      <td>-11.85</td>\n",
       "      <td>-15.252</td>\n",
       "    </tr>\n",
       "    <tr>\n",
       "      <th>246</th>\n",
       "      <td>c1ccc2c(c1)C(=O)c3c(ccc(c3C2=O)O)N</td>\n",
       "      <td>-9.53</td>\n",
       "      <td>-10.984</td>\n",
       "    </tr>\n",
       "    <tr>\n",
       "      <th>628</th>\n",
       "      <td>C1CC=CC1</td>\n",
       "      <td>0.56</td>\n",
       "      <td>1.230</td>\n",
       "    </tr>\n",
       "    <tr>\n",
       "      <th>13</th>\n",
       "      <td>CCCCC(=O)OCC</td>\n",
       "      <td>-2.49</td>\n",
       "      <td>-3.110</td>\n",
       "    </tr>\n",
       "    <tr>\n",
       "      <th>438</th>\n",
       "      <td>CCC=C</td>\n",
       "      <td>1.38</td>\n",
       "      <td>2.367</td>\n",
       "    </tr>\n",
       "    <tr>\n",
       "      <th>27</th>\n",
       "      <td>CC(C)C(=O)C(C)C</td>\n",
       "      <td>-2.74</td>\n",
       "      <td>-2.629</td>\n",
       "    </tr>\n",
       "    <tr>\n",
       "      <th>232</th>\n",
       "      <td>c1cc2c(cc1Cl)Oc3ccc(cc3O2)Cl</td>\n",
       "      <td>-3.67</td>\n",
       "      <td>-3.321</td>\n",
       "    </tr>\n",
       "    <tr>\n",
       "      <th>164</th>\n",
       "      <td>COC(=O)CCl</td>\n",
       "      <td>-4.00</td>\n",
       "      <td>-3.816</td>\n",
       "    </tr>\n",
       "    <tr>\n",
       "      <th>618</th>\n",
       "      <td>CCCCOC[C@H](C)O</td>\n",
       "      <td>-5.73</td>\n",
       "      <td>-3.891</td>\n",
       "    </tr>\n",
       "    <tr>\n",
       "      <th>545</th>\n",
       "      <td>c1ccc(cc1)C(=O)N</td>\n",
       "      <td>-11.00</td>\n",
       "      <td>-10.412</td>\n",
       "    </tr>\n",
       "    <tr>\n",
       "      <th>347</th>\n",
       "      <td>C1CCC(=O)CC1</td>\n",
       "      <td>-4.91</td>\n",
       "      <td>-4.180</td>\n",
       "    </tr>\n",
       "    <tr>\n",
       "      <th>63</th>\n",
       "      <td>COC(=O)c1ccc(cc1)O</td>\n",
       "      <td>-9.51</td>\n",
       "      <td>-9.785</td>\n",
       "    </tr>\n",
       "    <tr>\n",
       "      <th>28</th>\n",
       "      <td>CCC=O</td>\n",
       "      <td>-3.43</td>\n",
       "      <td>-3.148</td>\n",
       "    </tr>\n",
       "    <tr>\n",
       "      <th>567</th>\n",
       "      <td>CC1=CC(=O)[C@@H](CC1)C(C)C</td>\n",
       "      <td>-4.51</td>\n",
       "      <td>-3.825</td>\n",
       "    </tr>\n",
       "    <tr>\n",
       "      <th>536</th>\n",
       "      <td>c1c(cc(cc1Cl)Cl)Cl</td>\n",
       "      <td>-0.78</td>\n",
       "      <td>0.326</td>\n",
       "    </tr>\n",
       "    <tr>\n",
       "      <th>245</th>\n",
       "      <td>Cc1cccc(c1)O</td>\n",
       "      <td>-5.49</td>\n",
       "      <td>-5.378</td>\n",
       "    </tr>\n",
       "    <tr>\n",
       "      <th>242</th>\n",
       "      <td>C([N+](=O)[O-])(Cl)(Cl)Cl</td>\n",
       "      <td>-1.45</td>\n",
       "      <td>-0.379</td>\n",
       "    </tr>\n",
       "    <tr>\n",
       "      <th>489</th>\n",
       "      <td>c1cc(c(cc1Cl)c2cc(c(c(c2)Cl)Cl)Cl)Cl</td>\n",
       "      <td>-3.61</td>\n",
       "      <td>-0.922</td>\n",
       "    </tr>\n",
       "  </tbody>\n",
       "</table>\n",
       "</div>"
      ],
      "text/plain": [
       "                                   smiles   expt    calc\n",
       "22                           C1CCCC(CC1)O  -5.48  -4.345\n",
       "100                                 CCCCl  -0.33   0.973\n",
       "247    c1ccc2c(c1)C(=O)c3c(ccc(c3C2=O)N)N -11.85 -15.252\n",
       "246    c1ccc2c(c1)C(=O)c3c(ccc(c3C2=O)O)N  -9.53 -10.984\n",
       "628                              C1CC=CC1   0.56   1.230\n",
       "13                           CCCCC(=O)OCC  -2.49  -3.110\n",
       "438                                 CCC=C   1.38   2.367\n",
       "27                        CC(C)C(=O)C(C)C  -2.74  -2.629\n",
       "232          c1cc2c(cc1Cl)Oc3ccc(cc3O2)Cl  -3.67  -3.321\n",
       "164                            COC(=O)CCl  -4.00  -3.816\n",
       "618                       CCCCOC[C@H](C)O  -5.73  -3.891\n",
       "545                      c1ccc(cc1)C(=O)N -11.00 -10.412\n",
       "347                          C1CCC(=O)CC1  -4.91  -4.180\n",
       "63                     COC(=O)c1ccc(cc1)O  -9.51  -9.785\n",
       "28                                  CCC=O  -3.43  -3.148\n",
       "567            CC1=CC(=O)[C@@H](CC1)C(C)C  -4.51  -3.825\n",
       "536                    c1c(cc(cc1Cl)Cl)Cl  -0.78   0.326\n",
       "245                          Cc1cccc(c1)O  -5.49  -5.378\n",
       "242             C([N+](=O)[O-])(Cl)(Cl)Cl  -1.45  -0.379\n",
       "489  c1cc(c(cc1Cl)c2cc(c(c(c2)Cl)Cl)Cl)Cl  -3.61  -0.922"
      ]
     },
     "execution_count": 16,
     "metadata": {},
     "output_type": "execute_result"
    }
   ],
   "source": [
    "df = df.sample(n = 20)\n",
    "df"
   ]
  },
  {
   "cell_type": "markdown",
   "metadata": {},
   "source": [
    "## Transform SMILES to Fingerprints"
   ]
  },
  {
   "cell_type": "markdown",
   "metadata": {},
   "source": [
    "Still to answer: Are these SMILES canonical or not?\n",
    "I would love to transform the SMILES to [Extended Connectivity Fingerprints (ECFPs)](https://docs.chemaxon.com/display/docs/Extended+Connectivity+Fingerprint+ECFP). However, I can't find a way to do that so far. The methods I find are either terminal (I assume, but don't know for sure) or in Java. (ECFP = Morgan fingerprint)\n",
    "\n",
    "But I found a way for [Morgan fingerprints](http://www.rdkit.org/docs/GettingStartedInPython.html). [Here's](http://bigchem.eu/sites/default/files/Martin_Vogt_algorithms_in_cheminformatics_150519.pdf) how Morgan Fingerprints (\"circular Fingerprints\") work.\n",
    "Nevermind.\n",
    "\n",
    "My next try: creating Rdkit fingerprints. [This blog](https://iwatobipen.wordpress.com/2019/02/08/convert-fingerprint-to-numpy-array-and-conver-numpy-array-to-fingerprint-rdkit-memorandum/) is superb."
   ]
  },
  {
   "cell_type": "markdown",
   "metadata": {},
   "source": [
    "there is [MolFromSmiles](https://www.rdkit.org/docs/source/rdkit.Chem.rdmolfiles.html) -> Construct a molecule from a SMILES string\n",
    "\n",
    "[FingerprintsfromSmiles](https://www.rdkit.org/docs/source/rdkit.Chem.Fingerprints.FingerprintMols.html)"
   ]
  },
  {
   "cell_type": "code",
   "execution_count": 17,
   "metadata": {},
   "outputs": [],
   "source": [
    "#from rdkit.Chem.Fingerprints import FingerprintMol\n",
    "#from rdkit import Chem\n",
    "#from rdkit.Chem import Fingerprints\n",
    "\n",
    "import rdkit.Chem.Fingerprints.FingerprintMols as fp_from_smiles"
   ]
  },
  {
   "cell_type": "code",
   "execution_count": 18,
   "metadata": {},
   "outputs": [],
   "source": [
    "df['id'] = range(len(df))    # the function requires an id column\n",
    "#df['id'] = pd.to_numeric(range(len(df)))   no."
   ]
  },
  {
   "cell_type": "code",
   "execution_count": 19,
   "metadata": {},
   "outputs": [],
   "source": [
    "# why does this not work?\n",
    "\n",
    "#my_fingerprints = fp_from_smiles.FingerprintsFromSmiles(dataSource=df, idCol='id', smiCol='smiles')\n",
    "# or potentially idCol=df.index"
   ]
  },
  {
   "cell_type": "markdown",
   "metadata": {},
   "source": [
    "arguments:    dataSource, idCol, smiCol, fingerprinter=<Boost.Python.function object>, reportFreq=10, maxMols=-1, \\**fpArgs\n",
    "\n",
    "fpArgs are passed as keyword arguments to the fingerprinter\\\n",
    "Returns a list of 2-tuples: (ID,fp)\n"
   ]
  },
  {
   "cell_type": "markdown",
   "metadata": {},
   "source": [
    "Another try with Topological Fingerprints (RDK fingerprints) [Explanation](http://www.rdkit.org/docs/GettingStartedInPython.html)."
   ]
  },
  {
   "cell_type": "code",
   "execution_count": 20,
   "metadata": {},
   "outputs": [],
   "source": [
    "from rdkit import DataStructs\n",
    "import rdkit.Chem as chem"
   ]
  },
  {
   "cell_type": "code",
   "execution_count": 21,
   "metadata": {},
   "outputs": [],
   "source": [
    "smiles_list = df['smiles'].tolist()\n",
    "\n",
    "mols_list = [chem.MolFromSmiles(x) for x in smiles_list]\n",
    "\n",
    "fingerprints_list = [chem.RDKFingerprint(x) for x in mols_list]"
   ]
  },
  {
   "cell_type": "code",
   "execution_count": 22,
   "metadata": {},
   "outputs": [
    {
     "data": {
      "text/plain": [
       "<rdkit.DataStructs.cDataStructs.ExplicitBitVect at 0x7fa9e2f1c760>"
      ]
     },
     "execution_count": 22,
     "metadata": {},
     "output_type": "execute_result"
    }
   ],
   "source": [
    "fingerprints_list[3]"
   ]
  },
  {
   "cell_type": "code",
   "execution_count": 23,
   "metadata": {},
   "outputs": [
    {
     "data": {
      "text/plain": [
       "'11000101001000000100000101000100001100001000000100111100000000010000101001101001100000001111110000100101000000101100000000010000100000000000000000001110010111001101001011101100001000100001011000111101101010101110100010100010000101000010001101001111100011010011010001101111000011111100010010011010000100000100100100000010100001100011000101000100100010000100000001000000100001000100010000000000000000011101001111011100001101110000000001001111010001010110000010010110100000110010000010000010110100101010010000000000010000010000010001101001100010000010000010001100000100000000111100111100000000000000000100011110100000010011001000100000000000000001110110110001110011010000001001011110001011000100000000000000100100010010000010100101101001010000000011000000001011001001000000000001010000000011001010011010100010010011000000100100000010110110011110100010010000110001010011011001111011001001101001010100001000100010000110100000010111110110000000000001010001011111010110000111010000010101000111111111100000110000001000000110010010010010000100100010100100101100010000001010110010001001010101101101000001110110011010100010010100000010011001000010001001101110010000111000010101011010110110000000000000001000000000100010001000010011011011100000111010101000100100001000100101000001011100000001011011111010000000001010100100000011000010010000000111000110011000110100011011100001001011011101010110001110100000110100100101000001011000000001001100010000011001000000000100011100000000000000000100110001000010000011100001110001110010010100000100000000000000000101010000010110000000010010010110001100111001010000001100000001001100100000011101101010101000000110010000110100000101001010000000100110110000111100000001010011000000011001000110010000010000001000011001110110101000000000110000011111001001000010100100000100000000010110011010101010100010000100000000010100000011000100100000010001001010000010000100011100100001011010110111110100001101100100010100000001010100000011001000000000110000010110001010000010011001111010000100011100000000010100001000000011011010011000'"
      ]
     },
     "execution_count": 23,
     "metadata": {},
     "output_type": "execute_result"
    }
   ],
   "source": [
    "fingerprints_list[3].ToBitString()"
   ]
  },
  {
   "cell_type": "code",
   "execution_count": 24,
   "metadata": {},
   "outputs": [
    {
     "data": {
      "text/plain": [
       "2048"
      ]
     },
     "execution_count": 24,
     "metadata": {},
     "output_type": "execute_result"
    }
   ],
   "source": [
    "len(fingerprints_list[9].ToBitString())      # fixed length: 2048 bits"
   ]
  },
  {
   "cell_type": "code",
   "execution_count": 25,
   "metadata": {},
   "outputs": [],
   "source": [
    "#for i in 0:(len(fingerprints_list)-1):\n",
    "#    fingerprints_list[i] = fingerprints_list[i].ToBitString()\n",
    "\n",
    "# So here's le UGH-LY brute force way:\n",
    "df['fingerprint'] = 1    "
   ]
  },
  {
   "cell_type": "code",
   "execution_count": 26,
   "metadata": {},
   "outputs": [],
   "source": [
    "df.iloc[0,4] = fingerprints_list[0].ToBitString()\n",
    "df.iloc[1,4] = fingerprints_list[1].ToBitString()\n",
    "df.iloc[2,4] = fingerprints_list[2].ToBitString()\n",
    "df.iloc[3,4] = fingerprints_list[3].ToBitString()\n",
    "df.iloc[4,4] = fingerprints_list[4].ToBitString()\n",
    "df.iloc[5,4] = fingerprints_list[5].ToBitString()\n",
    "df.iloc[6,4] = fingerprints_list[6].ToBitString()\n",
    "df.iloc[7,4] = fingerprints_list[7].ToBitString()\n",
    "df.iloc[8,4] = fingerprints_list[8].ToBitString()\n",
    "df.iloc[9,4] = fingerprints_list[9].ToBitString()\n",
    "df.iloc[10,4] = fingerprints_list[10].ToBitString()\n",
    "df.iloc[11,4] = fingerprints_list[11].ToBitString()\n",
    "df.iloc[12,4] = fingerprints_list[12].ToBitString()\n",
    "df.iloc[13,4] = fingerprints_list[13].ToBitString()\n",
    "df.iloc[14,4] = fingerprints_list[14].ToBitString()\n",
    "df.iloc[15,4] = fingerprints_list[15].ToBitString()\n",
    "df.iloc[16,4] = fingerprints_list[16].ToBitString()\n",
    "df.iloc[17,4] = fingerprints_list[17].ToBitString()\n",
    "df.iloc[18,4] = fingerprints_list[18].ToBitString()\n",
    "df.iloc[19,4] = fingerprints_list[19].ToBitString()"
   ]
  },
  {
   "cell_type": "code",
   "execution_count": 18,
   "metadata": {},
   "outputs": [
    {
     "data": {
      "text/html": [
       "<div>\n",
       "<style scoped>\n",
       "    .dataframe tbody tr th:only-of-type {\n",
       "        vertical-align: middle;\n",
       "    }\n",
       "\n",
       "    .dataframe tbody tr th {\n",
       "        vertical-align: top;\n",
       "    }\n",
       "\n",
       "    .dataframe thead th {\n",
       "        text-align: right;\n",
       "    }\n",
       "</style>\n",
       "<table border=\"1\" class=\"dataframe\">\n",
       "  <thead>\n",
       "    <tr style=\"text-align: right;\">\n",
       "      <th></th>\n",
       "      <th>smiles</th>\n",
       "      <th>expt</th>\n",
       "      <th>calc</th>\n",
       "      <th>id</th>\n",
       "      <th>fingerprint</th>\n",
       "    </tr>\n",
       "  </thead>\n",
       "  <tbody>\n",
       "    <tr>\n",
       "      <th>238</th>\n",
       "      <td>c1cc(cc(c1)O)C=O</td>\n",
       "      <td>-9.52</td>\n",
       "      <td>-9.369</td>\n",
       "      <td>0</td>\n",
       "      <td>0000000000000000000000000000000000000000100000...</td>\n",
       "    </tr>\n",
       "    <tr>\n",
       "      <th>357</th>\n",
       "      <td>c1ccc(c(c1)N)[N+](=O)[O-]</td>\n",
       "      <td>-7.37</td>\n",
       "      <td>-7.660</td>\n",
       "      <td>1</td>\n",
       "      <td>0000000000000000000000000000000000000000000000...</td>\n",
       "    </tr>\n",
       "    <tr>\n",
       "      <th>41</th>\n",
       "      <td>CCCCCCCC=C</td>\n",
       "      <td>2.06</td>\n",
       "      <td>2.995</td>\n",
       "      <td>2</td>\n",
       "      <td>0000000000000000000000000000000000000000000000...</td>\n",
       "    </tr>\n",
       "    <tr>\n",
       "      <th>496</th>\n",
       "      <td>CC(=CCC[C@](C)(C=C)OC(=O)C)C</td>\n",
       "      <td>-2.49</td>\n",
       "      <td>-2.964</td>\n",
       "      <td>3</td>\n",
       "      <td>0000000010000001000000001000000000000000000000...</td>\n",
       "    </tr>\n",
       "    <tr>\n",
       "      <th>109</th>\n",
       "      <td>COC(c1ccccc1)(OC)OC</td>\n",
       "      <td>-4.04</td>\n",
       "      <td>-5.559</td>\n",
       "      <td>4</td>\n",
       "      <td>0000000010000000000000110000000000000000000000...</td>\n",
       "    </tr>\n",
       "    <tr>\n",
       "      <th>424</th>\n",
       "      <td>CCC(C)CC</td>\n",
       "      <td>2.51</td>\n",
       "      <td>2.613</td>\n",
       "      <td>5</td>\n",
       "      <td>0000000000000000000000000000000000000000000000...</td>\n",
       "    </tr>\n",
       "    <tr>\n",
       "      <th>305</th>\n",
       "      <td>Cc1cccc(n1)C</td>\n",
       "      <td>-4.59</td>\n",
       "      <td>-3.443</td>\n",
       "      <td>6</td>\n",
       "      <td>1000010000010000000000100000000000100000000010...</td>\n",
       "    </tr>\n",
       "    <tr>\n",
       "      <th>169</th>\n",
       "      <td>c1cc2c(cc1Cl)Oc3c(c(c(c(c3Cl)Cl)Cl)Cl)O2</td>\n",
       "      <td>-4.15</td>\n",
       "      <td>-2.310</td>\n",
       "      <td>7</td>\n",
       "      <td>0001000010000100100010000010001001000011100000...</td>\n",
       "    </tr>\n",
       "    <tr>\n",
       "      <th>182</th>\n",
       "      <td>CC(C)OC</td>\n",
       "      <td>-2.01</td>\n",
       "      <td>-0.657</td>\n",
       "      <td>8</td>\n",
       "      <td>0000000000000000000000000000000000000000000000...</td>\n",
       "    </tr>\n",
       "    <tr>\n",
       "      <th>408</th>\n",
       "      <td>CSC</td>\n",
       "      <td>-1.61</td>\n",
       "      <td>0.440</td>\n",
       "      <td>9</td>\n",
       "      <td>0000000000000000000000000000000000000000000000...</td>\n",
       "    </tr>\n",
       "    <tr>\n",
       "      <th>187</th>\n",
       "      <td>CC(C)OC(=O)C</td>\n",
       "      <td>-2.64</td>\n",
       "      <td>-3.371</td>\n",
       "      <td>10</td>\n",
       "      <td>0000000000000000000000000000000000000000000000...</td>\n",
       "    </tr>\n",
       "    <tr>\n",
       "      <th>385</th>\n",
       "      <td>CC[C@H](C)Cl</td>\n",
       "      <td>0.00</td>\n",
       "      <td>0.927</td>\n",
       "      <td>11</td>\n",
       "      <td>0000000000000000000000000000000000000000000000...</td>\n",
       "    </tr>\n",
       "    <tr>\n",
       "      <th>13</th>\n",
       "      <td>CCCCC(=O)OCC</td>\n",
       "      <td>-2.49</td>\n",
       "      <td>-3.110</td>\n",
       "      <td>12</td>\n",
       "      <td>0010000000000000000000000000000000000000000000...</td>\n",
       "    </tr>\n",
       "    <tr>\n",
       "      <th>199</th>\n",
       "      <td>CCCCCCOC(=O)C</td>\n",
       "      <td>-2.26</td>\n",
       "      <td>-2.219</td>\n",
       "      <td>13</td>\n",
       "      <td>0000000000000000000000000000000000000000000000...</td>\n",
       "    </tr>\n",
       "    <tr>\n",
       "      <th>394</th>\n",
       "      <td>c1cc(c(cc1c2ccc(cc2F)F)C(=O)O)O</td>\n",
       "      <td>-9.40</td>\n",
       "      <td>-6.613</td>\n",
       "      <td>14</td>\n",
       "      <td>0101000010001000000100010001000001000000010000...</td>\n",
       "    </tr>\n",
       "    <tr>\n",
       "      <th>518</th>\n",
       "      <td>CC(C)CCOC(=O)C</td>\n",
       "      <td>-2.21</td>\n",
       "      <td>-3.067</td>\n",
       "      <td>15</td>\n",
       "      <td>0000000000000000000000000000000000000000000000...</td>\n",
       "    </tr>\n",
       "    <tr>\n",
       "      <th>551</th>\n",
       "      <td>CCC(=O)OC</td>\n",
       "      <td>-2.93</td>\n",
       "      <td>-3.652</td>\n",
       "      <td>16</td>\n",
       "      <td>0010000000000000000000000000000000000000000000...</td>\n",
       "    </tr>\n",
       "    <tr>\n",
       "      <th>349</th>\n",
       "      <td>c1cnccc1C=O</td>\n",
       "      <td>-7.00</td>\n",
       "      <td>-7.338</td>\n",
       "      <td>17</td>\n",
       "      <td>1000110000010000000000000000000000000000000000...</td>\n",
       "    </tr>\n",
       "    <tr>\n",
       "      <th>411</th>\n",
       "      <td>CCCCC(=O)OC</td>\n",
       "      <td>-2.56</td>\n",
       "      <td>-3.492</td>\n",
       "      <td>18</td>\n",
       "      <td>0010000000000000000000000000000000000000000000...</td>\n",
       "    </tr>\n",
       "    <tr>\n",
       "      <th>91</th>\n",
       "      <td>CC[C@H](C)n1c(=O)c(c([nH]c1=O)C)Br</td>\n",
       "      <td>-9.73</td>\n",
       "      <td>-14.496</td>\n",
       "      <td>19</td>\n",
       "      <td>1010010100000100000000100000010000000110001001...</td>\n",
       "    </tr>\n",
       "  </tbody>\n",
       "</table>\n",
       "</div>"
      ],
      "text/plain": [
       "                                       smiles  expt    calc  id  \\\n",
       "238                          c1cc(cc(c1)O)C=O -9.52  -9.369   0   \n",
       "357                 c1ccc(c(c1)N)[N+](=O)[O-] -7.37  -7.660   1   \n",
       "41                                 CCCCCCCC=C  2.06   2.995   2   \n",
       "496              CC(=CCC[C@](C)(C=C)OC(=O)C)C -2.49  -2.964   3   \n",
       "109                       COC(c1ccccc1)(OC)OC -4.04  -5.559   4   \n",
       "424                                  CCC(C)CC  2.51   2.613   5   \n",
       "305                              Cc1cccc(n1)C -4.59  -3.443   6   \n",
       "169  c1cc2c(cc1Cl)Oc3c(c(c(c(c3Cl)Cl)Cl)Cl)O2 -4.15  -2.310   7   \n",
       "182                                   CC(C)OC -2.01  -0.657   8   \n",
       "408                                       CSC -1.61   0.440   9   \n",
       "187                              CC(C)OC(=O)C -2.64  -3.371  10   \n",
       "385                              CC[C@H](C)Cl  0.00   0.927  11   \n",
       "13                               CCCCC(=O)OCC -2.49  -3.110  12   \n",
       "199                             CCCCCCOC(=O)C -2.26  -2.219  13   \n",
       "394           c1cc(c(cc1c2ccc(cc2F)F)C(=O)O)O -9.40  -6.613  14   \n",
       "518                            CC(C)CCOC(=O)C -2.21  -3.067  15   \n",
       "551                                 CCC(=O)OC -2.93  -3.652  16   \n",
       "349                               c1cnccc1C=O -7.00  -7.338  17   \n",
       "411                               CCCCC(=O)OC -2.56  -3.492  18   \n",
       "91         CC[C@H](C)n1c(=O)c(c([nH]c1=O)C)Br -9.73 -14.496  19   \n",
       "\n",
       "                                           fingerprint  \n",
       "238  0000000000000000000000000000000000000000100000...  \n",
       "357  0000000000000000000000000000000000000000000000...  \n",
       "41   0000000000000000000000000000000000000000000000...  \n",
       "496  0000000010000001000000001000000000000000000000...  \n",
       "109  0000000010000000000000110000000000000000000000...  \n",
       "424  0000000000000000000000000000000000000000000000...  \n",
       "305  1000010000010000000000100000000000100000000010...  \n",
       "169  0001000010000100100010000010001001000011100000...  \n",
       "182  0000000000000000000000000000000000000000000000...  \n",
       "408  0000000000000000000000000000000000000000000000...  \n",
       "187  0000000000000000000000000000000000000000000000...  \n",
       "385  0000000000000000000000000000000000000000000000...  \n",
       "13   0010000000000000000000000000000000000000000000...  \n",
       "199  0000000000000000000000000000000000000000000000...  \n",
       "394  0101000010001000000100010001000001000000010000...  \n",
       "518  0000000000000000000000000000000000000000000000...  \n",
       "551  0010000000000000000000000000000000000000000000...  \n",
       "349  1000110000010000000000000000000000000000000000...  \n",
       "411  0010000000000000000000000000000000000000000000...  \n",
       "91   1010010100000100000000100000010000000110001001...  "
      ]
     },
     "execution_count": 18,
     "metadata": {},
     "output_type": "execute_result"
    }
   ],
   "source": [
    "df"
   ]
  },
  {
   "cell_type": "markdown",
   "metadata": {},
   "source": [
    "## Generate a umap of the fingerprints"
   ]
  },
  {
   "cell_type": "markdown",
   "metadata": {},
   "source": [
    "First of all, I need to encode the fingerprints as one-hot. For that, I need to make a list of one-hot matrices."
   ]
  },
  {
   "cell_type": "code",
   "execution_count": 19,
   "metadata": {},
   "outputs": [],
   "source": [
    "#fp_series = df['fingerprint']\n",
    "#onehot = pd.get_dummies(fp_series)\n",
    "\n",
    "#onehot = pd.get_dummies(df['fingerprint'])"
   ]
  },
  {
   "cell_type": "code",
   "execution_count": 20,
   "metadata": {},
   "outputs": [],
   "source": [
    "#import sklearn.preprocessing as sk"
   ]
  },
  {
   "cell_type": "code",
   "execution_count": 21,
   "metadata": {},
   "outputs": [],
   "source": [
    "#fp_onehot_list = df['fingerprint'].tolist()\n",
    "#a = pd.get_dummies(fp_onehot_list[3])\n",
    "\n",
    "\n",
    "#categories = [0,1]\n",
    "\n",
    "#b = sk.OneHotEncoder(fp_onehot_list[3],\n",
    "#                    categories = ['0','1'])"
   ]
  },
  {
   "cell_type": "markdown",
   "metadata": {},
   "source": [
    "## Umap dimension reduction"
   ]
  },
  {
   "cell_type": "markdown",
   "metadata": {},
   "source": [
    "https://pypi.org/project/umap-learn/\n",
    "\n",
    "https://umap-learn.readthedocs.io/en/latest/basic_usage.html\n",
    "\n",
    "I need more physiochemical properties of course..\n",
    "I followed [this example](https://umap-learn.readthedocs.io/en/latest/parameters.html)."
   ]
  },
  {
   "cell_type": "code",
   "execution_count": 27,
   "metadata": {},
   "outputs": [],
   "source": [
    "import matplotlib.pyplot as plt\n",
    "from mpl_toolkits.mplot3d import Axes3D\n",
    "import seaborn as sns"
   ]
  },
  {
   "cell_type": "code",
   "execution_count": 28,
   "metadata": {},
   "outputs": [],
   "source": [
    "import umap"
   ]
  },
  {
   "cell_type": "code",
   "execution_count": 29,
   "metadata": {},
   "outputs": [],
   "source": [
    "sns.set(style='white', context='poster', rc={'figure.figsize':(14,10)})\n",
    "np.random.seed(42)"
   ]
  },
  {
   "cell_type": "code",
   "execution_count": 30,
   "metadata": {},
   "outputs": [],
   "source": [
    "#umap_input = np.zeros(2048)*20\n",
    "umap_input = np.random.randn(20,2048)    # I'd prefer to initiate it as 0, but don't know how\n",
    "\n",
    "for i in range(len(df)-1):\n",
    "    umap_input[i] = list(df.iloc[i,4])"
   ]
  },
  {
   "cell_type": "code",
   "execution_count": 31,
   "metadata": {},
   "outputs": [
    {
     "name": "stdout",
     "output_type": "stream",
     "text": [
      "CPU times: user 6.71 s, sys: 69.9 ms, total: 6.78 s\n",
      "Wall time: 6.56 s\n"
     ]
    }
   ],
   "source": [
    "fit = umap.UMAP()\n",
    "%time u = fit.fit_transform(umap_input)"
   ]
  },
  {
   "cell_type": "code",
   "execution_count": 32,
   "metadata": {},
   "outputs": [
    {
     "data": {
      "image/png": "[encoded data removed]",
      "text/plain": [
       "<Figure size 1008x720 with 1 Axes>"
      ]
     },
     "metadata": {},
     "output_type": "display_data"
    }
   ],
   "source": [
    "plt.scatter(u[:,0], u[:,1])\n",
    "plt.title('UMAP embedding of the 20 fingerprints');"
   ]
  },
  {
   "cell_type": "markdown",
   "metadata": {},
   "source": [
    "I could try to tweak n_neighbours, min_dist, n_components or metric."
   ]
  },
  {
   "cell_type": "markdown",
   "metadata": {},
   "source": [
    "To color by solvation, I follow a different [guide](https://umap-learn.readthedocs.io/en/latest/plotting.html)."
   ]
  },
  {
   "cell_type": "code",
   "execution_count": 3,
   "metadata": {},
   "outputs": [],
   "source": [
    "import umap.plot"
   ]
  },
  {
   "cell_type": "code",
   "execution_count": 34,
   "metadata": {},
   "outputs": [
    {
     "name": "stderr",
     "output_type": "stream",
     "text": [
      "'c' argument looks like a single numeric RGB or RGBA sequence, which should be avoided as value-mapping will have precedence in case its length matches with 'x' & 'y'.  Please use a 2-D array with a single row if you really want to specify the same RGB or RGBA value for all points.\n"
     ]
    },
    {
     "data": {
      "text/plain": [
       "<matplotlib.axes._subplots.AxesSubplot at 0x7fa9e1f9c5c0>"
      ]
     },
     "execution_count": 34,
     "metadata": {},
     "output_type": "execute_result"
    },
    {
     "data": {
      "image/png": "[encoded data removed]",
      "text/plain": [
       "<Figure size 800x800 with 1 Axes>"
      ]
     },
     "metadata": {},
     "output_type": "display_data"
    }
   ],
   "source": [
    "umap.plot.points(fit)"
   ]
  },
  {
   "cell_type": "code",
   "execution_count": null,
   "metadata": {},
   "outputs": [],
   "source": []
  }
 ],
 "metadata": {
  "kernelspec": {
   "display_name": "Python 3",
   "language": "python",
   "name": "python3"
  },
  "language_info": {
   "codemirror_mode": {
    "name": "ipython",
    "version": 3
   },
   "file_extension": ".py",
   "mimetype": "text/x-python",
   "name": "python",
   "nbconvert_exporter": "python",
   "pygments_lexer": "ipython3",
   "version": "3.6.10"
  }
 },
 "nbformat": 4,
 "nbformat_minor": 4
}
