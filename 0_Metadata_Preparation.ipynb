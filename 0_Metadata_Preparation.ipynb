{
  "nbformat": 4,
  "nbformat_minor": 0,
  "metadata": {
    "colab": {
      "name": "0_Metadata_Preparation.ipynb",
      "provenance": [],
      "collapsed_sections": [
        "JuUzOQl5RXaA",
        "0tVWa3ymOJO-",
        "cgptc_XMGmMf"
      ],
      "authorship_tag": "ABX9TyOYGGU9pt1Bv9SY4Zvh1rIQ",
      "include_colab_link": true
    },
    "kernelspec": {
      "name": "python3",
      "display_name": "Python 3"
    }
  },
  "cells": [
    {
      "cell_type": "markdown",
      "metadata": {
        "id": "view-in-github",
        "colab_type": "text"
      },
      "source": [
        "<a href=\"https://colab.research.google.com/github/veren4/SMILES_featurization/blob/master/0_Metadata_Preparation.ipynb\" target=\"_parent\"><img src=\"https://colab.research.google.com/assets/colab-badge.svg\" alt=\"Open In Colab\"/></a>"
      ]
    },
    {
      "cell_type": "markdown",
      "metadata": {
        "id": "JuUzOQl5RXaA"
      },
      "source": [
        "#First Things First"
      ]
    },
    {
      "cell_type": "markdown",
      "metadata": {
        "id": "hzth1eZ1modi"
      },
      "source": [
        "In this notebook, I determine the max sequence length and the vocabulary."
      ]
    },
    {
      "cell_type": "code",
      "metadata": {
        "id": "rT_0sBWYnHzO"
      },
      "source": [
        "import pandas as pd\n",
        "!pip install -q SmilesPE\n",
        "from SmilesPE.pretokenizer import atomwise_tokenizer\n",
        "\n",
        "import re"
      ],
      "execution_count": null,
      "outputs": []
    },
    {
      "cell_type": "code",
      "metadata": {
        "colab": {
          "base_uri": "https://localhost:8080/"
        },
        "id": "SdQeSbTanBzF",
        "outputId": "9d526293-8074-4d32-ec87-8ebb2da7abe9"
      },
      "source": [
        "from google.colab import drive\n",
        "drive.mount('/content/drive')"
      ],
      "execution_count": null,
      "outputs": [
        {
          "output_type": "stream",
          "text": [
            "Drive already mounted at /content/drive; to attempt to forcibly remount, call drive.mount(\"/content/drive\", force_remount=True).\n"
          ],
          "name": "stdout"
        }
      ]
    },
    {
      "cell_type": "code",
      "metadata": {
        "id": "LSBAtv0nmlSX"
      },
      "source": [
        "infile = '/content/drive/My Drive/Rostlab internship/8_KDNuggets_LSTM_Approach/data/CID-SMILES-first100'\n",
        "#infile = '/content/drive/My Drive/Rostlab internship/8_KDNuggets_LSTM_Approach/data/worded_smiles.csv'\n",
        "with open(infile, \"r\") as file1:\n",
        "  dataset = pd.read_csv(file1,\n",
        "                        header=None,\n",
        "                        names=['raw_SMILES'])\n",
        "file1.close()"
      ],
      "execution_count": null,
      "outputs": []
    },
    {
      "cell_type": "code",
      "metadata": {
        "colab": {
          "base_uri": "https://localhost:8080/",
          "height": 424
        },
        "id": "K1JY7a24kBpn",
        "outputId": "8033108e-f0a4-4abc-b10c-c8f28584f94a"
      },
      "source": [
        "dataset"
      ],
      "execution_count": null,
      "outputs": [
        {
          "output_type": "execute_result",
          "data": {
            "text/html": [
              "<div>\n",
              "<style scoped>\n",
              "    .dataframe tbody tr th:only-of-type {\n",
              "        vertical-align: middle;\n",
              "    }\n",
              "\n",
              "    .dataframe tbody tr th {\n",
              "        vertical-align: top;\n",
              "    }\n",
              "\n",
              "    .dataframe thead th {\n",
              "        text-align: right;\n",
              "    }\n",
              "</style>\n",
              "<table border=\"1\" class=\"dataframe\">\n",
              "  <thead>\n",
              "    <tr style=\"text-align: right;\">\n",
              "      <th></th>\n",
              "      <th>raw_SMILES</th>\n",
              "      <th>just_SMILES</th>\n",
              "      <th>tokenized_SMILES</th>\n",
              "    </tr>\n",
              "  </thead>\n",
              "  <tbody>\n",
              "    <tr>\n",
              "      <th>0</th>\n",
              "      <td>1\\tCC(=O)OC(CC(=O)[O-])C[N+](C)(C)C</td>\n",
              "      <td>CC(=O)OC(CC(=O)[O-])C[N+](C)(C)C</td>\n",
              "      <td>[C, C, (, =, O, ), O, C, (, C, C, (, =, O, ), ...</td>\n",
              "    </tr>\n",
              "    <tr>\n",
              "      <th>1</th>\n",
              "      <td>2\\tCC(=O)OC(CC(=O)O)C[N+](C)(C)C</td>\n",
              "      <td>CC(=O)OC(CC(=O)O)C[N+](C)(C)C</td>\n",
              "      <td>[C, C, (, =, O, ), O, C, (, C, C, (, =, O, ), ...</td>\n",
              "    </tr>\n",
              "    <tr>\n",
              "      <th>2</th>\n",
              "      <td>3\\tC1=CC(C(C(=C1)C(=O)O)O)O</td>\n",
              "      <td>C1=CC(C(C(=C1)C(=O)O)O)O</td>\n",
              "      <td>[C, 1, =, C, C, (, C, (, C, (, =, C, 1, ), C, ...</td>\n",
              "    </tr>\n",
              "    <tr>\n",
              "      <th>3</th>\n",
              "      <td>4\\tCC(CN)O</td>\n",
              "      <td>CC(CN)O</td>\n",
              "      <td>[C, C, (, C, N, ), O]</td>\n",
              "    </tr>\n",
              "    <tr>\n",
              "      <th>4</th>\n",
              "      <td>5\\tC(C(=O)COP(=O)(O)O)N</td>\n",
              "      <td>C(C(=O)COP(=O)(O)O)N</td>\n",
              "      <td>[C, (, C, (, =, O, ), C, O, P, (, =, O, ), (, ...</td>\n",
              "    </tr>\n",
              "    <tr>\n",
              "      <th>...</th>\n",
              "      <td>...</td>\n",
              "      <td>...</td>\n",
              "      <td>...</td>\n",
              "    </tr>\n",
              "    <tr>\n",
              "      <th>95</th>\n",
              "      <td>99\\tCC(=CC(=O)SCCNC(=O)CCNC(=O)C(C(C)(C)COP(=O...</td>\n",
              "      <td>CC(=CC(=O)SCCNC(=O)CCNC(=O)C(C(C)(C)COP(=O)(O)...</td>\n",
              "      <td>[C, C, (, =, C, C, (, =, O, ), S, C, C, N, C, ...</td>\n",
              "    </tr>\n",
              "    <tr>\n",
              "      <th>96</th>\n",
              "      <td>100\\tCC(=CCCC(=CCCC(=CCCC(=CCCC(=CCCC(=CCCC(=C...</td>\n",
              "      <td>CC(=CCCC(=CCCC(=CCCC(=CCCC(=CCCC(=CCCC(=CCCC(=...</td>\n",
              "      <td>[C, C, (, =, C, C, C, C, (, =, C, C, C, C, (, ...</td>\n",
              "    </tr>\n",
              "    <tr>\n",
              "      <th>97</th>\n",
              "      <td>101\\tC1=CC(=CC(=C1)O)C=O</td>\n",
              "      <td>C1=CC(=CC(=C1)O)C=O</td>\n",
              "      <td>[C, 1, =, C, C, (, =, C, C, (, =, C, 1, ), O, ...</td>\n",
              "    </tr>\n",
              "    <tr>\n",
              "      <th>98</th>\n",
              "      <td>102\\tC1=CC(=CC(=C1)O)CO</td>\n",
              "      <td>C1=CC(=CC(=C1)O)CO</td>\n",
              "      <td>[C, 1, =, C, C, (, =, C, C, (, =, C, 1, ), O, ...</td>\n",
              "    </tr>\n",
              "    <tr>\n",
              "      <th>99</th>\n",
              "      <td>103\\tCC(CCC(=O)SCCNC(=O)CCNC(=O)C(C(C)(C)COP(=...</td>\n",
              "      <td>CC(CCC(=O)SCCNC(=O)CCNC(=O)C(C(C)(C)COP(=O)(O)...</td>\n",
              "      <td>[C, C, (, C, C, C, (, =, O, ), S, C, C, N, C, ...</td>\n",
              "    </tr>\n",
              "  </tbody>\n",
              "</table>\n",
              "<p>100 rows × 3 columns</p>\n",
              "</div>"
            ],
            "text/plain": [
              "                                           raw_SMILES  ...                                   tokenized_SMILES\n",
              "0                 1\\tCC(=O)OC(CC(=O)[O-])C[N+](C)(C)C  ...  [C, C, (, =, O, ), O, C, (, C, C, (, =, O, ), ...\n",
              "1                    2\\tCC(=O)OC(CC(=O)O)C[N+](C)(C)C  ...  [C, C, (, =, O, ), O, C, (, C, C, (, =, O, ), ...\n",
              "2                         3\\tC1=CC(C(C(=C1)C(=O)O)O)O  ...  [C, 1, =, C, C, (, C, (, C, (, =, C, 1, ), C, ...\n",
              "3                                          4\\tCC(CN)O  ...                              [C, C, (, C, N, ), O]\n",
              "4                             5\\tC(C(=O)COP(=O)(O)O)N  ...  [C, (, C, (, =, O, ), C, O, P, (, =, O, ), (, ...\n",
              "..                                                ...  ...                                                ...\n",
              "95  99\\tCC(=CC(=O)SCCNC(=O)CCNC(=O)C(C(C)(C)COP(=O...  ...  [C, C, (, =, C, C, (, =, O, ), S, C, C, N, C, ...\n",
              "96  100\\tCC(=CCCC(=CCCC(=CCCC(=CCCC(=CCCC(=CCCC(=C...  ...  [C, C, (, =, C, C, C, C, (, =, C, C, C, C, (, ...\n",
              "97                           101\\tC1=CC(=CC(=C1)O)C=O  ...  [C, 1, =, C, C, (, =, C, C, (, =, C, 1, ), O, ...\n",
              "98                            102\\tC1=CC(=CC(=C1)O)CO  ...  [C, 1, =, C, C, (, =, C, C, (, =, C, 1, ), O, ...\n",
              "99  103\\tCC(CCC(=O)SCCNC(=O)CCNC(=O)C(C(C)(C)COP(=...  ...  [C, C, (, C, C, C, (, =, O, ), S, C, C, N, C, ...\n",
              "\n",
              "[100 rows x 3 columns]"
            ]
          },
          "metadata": {
            "tags": []
          },
          "execution_count": 27
        }
      ]
    },
    {
      "cell_type": "code",
      "metadata": {
        "id": "kvXBaii4kxy3"
      },
      "source": [
        "dataset['just_SMILES'] = ''\n",
        "\n",
        "for row in range(dataset.shape[0]):\n",
        "\n",
        "  dataset.loc[row, 'just_SMILES'] = re.match(pattern = \"\\d+\\\\t(.+)\",\n",
        "                                             string = dataset.loc[row, 'raw_SMILES']).group(1)\n"
      ],
      "execution_count": null,
      "outputs": []
    },
    {
      "cell_type": "code",
      "metadata": {
        "id": "KO-M8m5cnd3G"
      },
      "source": [
        "dataset['tokenized_SMILES'] = ''\n",
        "\n",
        "vocabulary = set()\n",
        "\n",
        "for row in range(dataset.shape[0]):\n",
        "\n",
        "  current_tokens = atomwise_tokenizer(dataset.loc[row, 'just_SMILES'])\n",
        "  dataset.loc[row, 'tokenized_SMILES'] = current_tokens\n",
        "\n",
        "  vocabulary.update(current_tokens)"
      ],
      "execution_count": null,
      "outputs": []
    },
    {
      "cell_type": "code",
      "metadata": {
        "colab": {
          "base_uri": "https://localhost:8080/"
        },
        "id": "O87Qkp9bqiSt",
        "outputId": "41bd07cb-c061-46d8-fad7-3a3e3fc83062"
      },
      "source": [
        "print(vocabulary)"
      ],
      "execution_count": null,
      "outputs": [
        {
          "output_type": "stream",
          "text": [
            "{'(', ')', 'O', 'S', '1', '#', '6', '=', 'C', 'N', '7', '[N+]', '2', '4', 'P', '[O-]', '3', '5', 'Cl'}\n"
          ],
          "name": "stdout"
        }
      ]
    },
    {
      "cell_type": "markdown",
      "metadata": {
        "id": "eBpnjKE8qKsi"
      },
      "source": [
        "0 = SOL\\\n",
        "1 = EOL\\\n",
        "2 = UNK"
      ]
    },
    {
      "cell_type": "code",
      "metadata": {
        "id": "yQPmQpiFpkqH"
      },
      "source": [
        "from collections import Counter\n",
        "\n",
        "data = {'Sentences':  ['This is the first sencence.', 'This is another cell', 'Ah, might as well.']}\n",
        "df = pd.DataFrame (data, columns = ['Sentences'])\n",
        "\n",
        "text = df['Sentences'].str.cat(sep=' ')\n",
        "words = text.split(' ')"
      ],
      "execution_count": null,
      "outputs": []
    },
    {
      "cell_type": "code",
      "metadata": {
        "colab": {
          "base_uri": "https://localhost:8080/"
        },
        "id": "h9cvbn_3sDBf",
        "outputId": "611403c3-5075-4f8d-ed29-94d15c377f44"
      },
      "source": [
        "words"
      ],
      "execution_count": null,
      "outputs": [
        {
          "output_type": "execute_result",
          "data": {
            "text/plain": [
              "['This',\n",
              " 'is',\n",
              " 'the',\n",
              " 'first',\n",
              " 'sencence.',\n",
              " 'This',\n",
              " 'is',\n",
              " 'another',\n",
              " 'cell',\n",
              " 'Ah,',\n",
              " 'might',\n",
              " 'as',\n",
              " 'well.']"
            ]
          },
          "metadata": {
            "tags": []
          },
          "execution_count": 77
        }
      ]
    },
    {
      "cell_type": "code",
      "metadata": {
        "colab": {
          "base_uri": "https://localhost:8080/"
        },
        "id": "WCUrtT34sDci",
        "outputId": "3871bb07-19f0-422a-edcd-a5ef85dcd073"
      },
      "source": [
        "type(a)"
      ],
      "execution_count": null,
      "outputs": [
        {
          "output_type": "execute_result",
          "data": {
            "text/plain": [
              "list"
            ]
          },
          "metadata": {
            "tags": []
          },
          "execution_count": 78
        }
      ]
    },
    {
      "cell_type": "code",
      "metadata": {
        "id": "RLWwxUNIsFO-"
      },
      "source": [
        "word_counts = Counter(words)\n",
        "uniq_words = sorted(word_counts, key=word_counts.get, reverse=True)"
      ],
      "execution_count": null,
      "outputs": []
    },
    {
      "cell_type": "code",
      "metadata": {
        "colab": {
          "base_uri": "https://localhost:8080/"
        },
        "id": "lOHkCYojx6go",
        "outputId": "11ce8a71-cb22-4339-8923-4108af018170"
      },
      "source": [
        "uniq_words"
      ],
      "execution_count": null,
      "outputs": [
        {
          "output_type": "execute_result",
          "data": {
            "text/plain": [
              "['This',\n",
              " 'is',\n",
              " 'the',\n",
              " 'first',\n",
              " 'sencence.',\n",
              " 'another',\n",
              " 'cell',\n",
              " 'Ah,',\n",
              " 'might',\n",
              " 'as',\n",
              " 'well.']"
            ]
          },
          "metadata": {
            "tags": []
          },
          "execution_count": 80
        }
      ]
    },
    {
      "cell_type": "code",
      "metadata": {
        "colab": {
          "base_uri": "https://localhost:8080/"
        },
        "id": "uBssaNbvx7zV",
        "outputId": "ecebb2c8-9025-4a10-fdea-9f89c1eafae5"
      },
      "source": [
        "type(uniq_words)"
      ],
      "execution_count": null,
      "outputs": [
        {
          "output_type": "execute_result",
          "data": {
            "text/plain": [
              "list"
            ]
          },
          "metadata": {
            "tags": []
          },
          "execution_count": 81
        }
      ]
    },
    {
      "cell_type": "code",
      "metadata": {
        "id": "2fmMELtUx-BI"
      },
      "source": [
        "vocabulary_list = list(vocabulary)"
      ],
      "execution_count": null,
      "outputs": []
    },
    {
      "cell_type": "code",
      "metadata": {
        "colab": {
          "base_uri": "https://localhost:8080/"
        },
        "id": "rl1c8BBFycQ3",
        "outputId": "e97fc769-ed05-4f45-c39c-7b18b59e51cd"
      },
      "source": [
        "vocabulary_list"
      ],
      "execution_count": null,
      "outputs": [
        {
          "output_type": "execute_result",
          "data": {
            "text/plain": [
              "['1', 'N', ')', 'C', 'S', '=', '4', 'O', '(', '2', '3', 'P']"
            ]
          },
          "metadata": {
            "tags": []
          },
          "execution_count": 83
        }
      ]
    },
    {
      "cell_type": "code",
      "metadata": {
        "id": "OcgyQIPLygIj"
      },
      "source": [
        "unique_words = ['UNK', 'SOL', 'EOL', 'PAD']\n",
        "unique_words.extend(vocabulary_list)"
      ],
      "execution_count": null,
      "outputs": []
    },
    {
      "cell_type": "code",
      "metadata": {
        "colab": {
          "base_uri": "https://localhost:8080/"
        },
        "id": "w-MV7Bklyz8L",
        "outputId": "cd577b94-528b-4130-9a81-dfe1ceb3e100"
      },
      "source": [
        "print(unique_words)"
      ],
      "execution_count": null,
      "outputs": [
        {
          "output_type": "stream",
          "text": [
            "['UNK', 'SOL', 'EOL', 'PAD', '1', 'N', ')', 'C', 'S', '=', '4', 'O', '(', '2', '3', 'P']\n"
          ],
          "name": "stdout"
        }
      ]
    },
    {
      "cell_type": "code",
      "metadata": {
        "colab": {
          "base_uri": "https://localhost:8080/"
        },
        "id": "J8VhnaCS0BhO",
        "outputId": "1a17c431-939c-4308-b322-e9dd8d7c2696"
      },
      "source": [
        "len(unique_words)"
      ],
      "execution_count": null,
      "outputs": [
        {
          "output_type": "execute_result",
          "data": {
            "text/plain": [
              "16"
            ]
          },
          "metadata": {
            "tags": []
          },
          "execution_count": 86
        }
      ]
    },
    {
      "cell_type": "code",
      "metadata": {
        "id": "fKY0mz--1_BA"
      },
      "source": [
        "word_to_index = {word: index for index, word in enumerate(unique_words)}"
      ],
      "execution_count": null,
      "outputs": []
    },
    {
      "cell_type": "code",
      "metadata": {
        "colab": {
          "base_uri": "https://localhost:8080/"
        },
        "id": "nQBOpF6p2CRp",
        "outputId": "07b34371-e176-4051-b90e-c0ed2eaaadf5"
      },
      "source": [
        "word_to_index"
      ],
      "execution_count": null,
      "outputs": [
        {
          "output_type": "execute_result",
          "data": {
            "text/plain": [
              "{'(': 12,\n",
              " ')': 6,\n",
              " '1': 4,\n",
              " '2': 13,\n",
              " '3': 14,\n",
              " '4': 10,\n",
              " '=': 9,\n",
              " 'C': 7,\n",
              " 'EOL': 2,\n",
              " 'N': 5,\n",
              " 'O': 11,\n",
              " 'P': 15,\n",
              " 'PAD': 3,\n",
              " 'S': 8,\n",
              " 'SOL': 1,\n",
              " 'UNK': 0}"
            ]
          },
          "metadata": {
            "tags": []
          },
          "execution_count": 88
        }
      ]
    },
    {
      "cell_type": "code",
      "metadata": {
        "id": "4pHsKQPg2k3N"
      },
      "source": [
        "test = dataset.tokenized_SMILES[1]"
      ],
      "execution_count": null,
      "outputs": []
    },
    {
      "cell_type": "code",
      "metadata": {
        "id": "GiywGu7R0DA_"
      },
      "source": [
        "words_indexes = [word_to_index[w] for w in test]"
      ],
      "execution_count": null,
      "outputs": []
    },
    {
      "cell_type": "code",
      "metadata": {
        "colab": {
          "base_uri": "https://localhost:8080/"
        },
        "id": "L37vHKDJ2rht",
        "outputId": "128c0b5b-726d-461d-edce-f5c8e1b9b51a"
      },
      "source": [
        "words_indexes"
      ],
      "execution_count": null,
      "outputs": [
        {
          "output_type": "execute_result",
          "data": {
            "text/plain": [
              "[7, 7, 7, 12, 7, 6, 7, 12, 9, 11, 6, 7, 12, 9, 11, 6, 11]"
            ]
          },
          "metadata": {
            "tags": []
          },
          "execution_count": 91
        }
      ]
    },
    {
      "cell_type": "code",
      "metadata": {
        "colab": {
          "base_uri": "https://localhost:8080/"
        },
        "id": "maGmtIfw2sma",
        "outputId": "c6b83ace-e710-4814-883f-fedf82a55c4e"
      },
      "source": [
        "'bla' in unique_words"
      ],
      "execution_count": null,
      "outputs": [
        {
          "output_type": "execute_result",
          "data": {
            "text/plain": [
              "False"
            ]
          },
          "metadata": {
            "tags": []
          },
          "execution_count": 95
        }
      ]
    },
    {
      "cell_type": "code",
      "metadata": {
        "colab": {
          "base_uri": "https://localhost:8080/"
        },
        "id": "AXZuzRpGK5US",
        "outputId": "5ed7eae0-1a82-4dc6-943f-b155b80dfdba"
      },
      "source": [
        "word_to_index['UNK']"
      ],
      "execution_count": null,
      "outputs": [
        {
          "output_type": "execute_result",
          "data": {
            "text/plain": [
              "0"
            ]
          },
          "metadata": {
            "tags": []
          },
          "execution_count": 96
        }
      ]
    },
    {
      "cell_type": "markdown",
      "metadata": {
        "id": "0tVWa3ymOJO-"
      },
      "source": [
        "#Padding"
      ]
    },
    {
      "cell_type": "code",
      "metadata": {
        "id": "W-qrm5OsOPrT"
      },
      "source": [
        "max_sequence_length = 150"
      ],
      "execution_count": null,
      "outputs": []
    },
    {
      "cell_type": "code",
      "metadata": {
        "id": "xsAGOzT0hGT6"
      },
      "source": [
        "        infile = '/content/drive/My Drive/Rostlab internship/8_KDNuggets_LSTM_Approach/data/worded_smiles.csv'\n",
        "        with open(infile, \"r\") as file1:\n",
        "            train_df = pd.read_csv(file1)\n",
        "        file1.close()\n",
        "\n",
        "        # Tokenize\n",
        "        train_df['tokenized_SMILES'] = ''\n",
        "        for row in range(train_df.shape[0]):\n",
        "          train_df.loc[row, 'tokenized_SMILES'] = atomwise_tokenizer(train_df.loc[row, 'SMILES'])\n",
        "        \n",
        "        # Padding + SOL + EOL\n",
        "        for row in range(train_df.shape[0]):              # ATTENTION: Are the column indexes correct?!\n",
        "          actual_length = len(train_df.loc[row, 'tokenized_SMILES'])\n",
        "          length_before_delimiters = max_sequence_length - 2\n",
        "\n",
        "          if actual_length > length_before_delimiters:\n",
        "            train_df.loc[row, 'tokenized_SMILES'] = train_df.loc[row, 'tokenized_SMILES'][:length_before_delimiters]\n",
        "            train_df.loc[row, 'tokenized_SMILES'].append('EOL')\n",
        "          elif actual_length < length_before_delimiters:\n",
        "            temp = ['UNK']*length_before_delimiters\n",
        "            shortie = train_df.loc[row, 'tokenized_SMILES']\n",
        "            shortie.append('EOL')\n",
        "            temp[:actual_length] = shortie\n",
        "            train_df.loc[row, 'tokenized_SMILES'] = temp\n",
        "\n",
        "          train_df.loc[row, 'tokenized_SMILES'].insert(0, 'SOL')"
      ],
      "execution_count": null,
      "outputs": []
    },
    {
      "cell_type": "code",
      "metadata": {
        "id": "FzRmX8fA3yaX"
      },
      "source": [
        "#train_df"
      ],
      "execution_count": null,
      "outputs": []
    },
    {
      "cell_type": "code",
      "metadata": {
        "id": "jatbkEuI6iAZ"
      },
      "source": [
        "total_token_list = []\n",
        "\n",
        "#for row in range(train_df.shape[0]):\n",
        "for row in range(2):\n",
        "  total_token_list.extend(train_df.loc[row, 'tokenized_SMILES'])"
      ],
      "execution_count": null,
      "outputs": []
    },
    {
      "cell_type": "markdown",
      "metadata": {
        "id": "cgptc_XMGmMf"
      },
      "source": [
        "#Filestream"
      ]
    },
    {
      "cell_type": "code",
      "metadata": {
        "id": "j1Ou8hUT7w3q"
      },
      "source": [
        "import torch\n",
        "import pandas as pd\n",
        "from collections import Counter\n",
        "from torch import nn, optim\n",
        "import argparse\n",
        "import numpy as np\n",
        "from torch.utils.data import DataLoader\n",
        "\n",
        "!pip install -q SmilesPE\n",
        "from SmilesPE.pretokenizer import atomwise_tokenizer"
      ],
      "execution_count": null,
      "outputs": []
    },
    {
      "cell_type": "code",
      "metadata": {
        "colab": {
          "base_uri": "https://localhost:8080/"
        },
        "id": "JuGBsceaGvr_",
        "outputId": "5045e146-ff9f-4b93-bf2c-be88868b8e2a"
      },
      "source": [
        "from google.colab import drive\n",
        "drive.mount('/content/drive')"
      ],
      "execution_count": null,
      "outputs": [
        {
          "output_type": "stream",
          "text": [
            "Mounted at /content/drive\n"
          ],
          "name": "stdout"
        }
      ]
    },
    {
      "cell_type": "code",
      "metadata": {
        "colab": {
          "base_uri": "https://localhost:8080/"
        },
        "id": "l39pSOFIGwvV",
        "outputId": "53f08b8f-7e74-4327-83c7-1c051b3eb9ee"
      },
      "source": [
        "import platform\n",
        "device = torch.device(\"cuda:0\" if torch.cuda.is_available() else \"cpu\")\n",
        "\n",
        "print('Python: ', platform.python_version())\n",
        "print('PyTorch: ', torch.__version__)\n",
        "if(device.type == 'cuda'):\n",
        "  print('Using GPU (cuda)')\n",
        "else:\n",
        "  print('Using CPU!')"
      ],
      "execution_count": null,
      "outputs": [
        {
          "output_type": "stream",
          "text": [
            "Python:  3.6.9\n",
            "PyTorch:  1.7.0+cu101\n",
            "Using CPU!\n"
          ],
          "name": "stdout"
        }
      ]
    },
    {
      "cell_type": "code",
      "metadata": {
        "id": "sWH69iNYGyq9"
      },
      "source": [
        "data_path = '/content/drive/My Drive/Rostlab internship/8_KDNuggets_LSTM_Approach/data/worded_smiles.csv'\n",
        "\n",
        "data_stream = open(data_path, 'r')\n",
        "\n",
        "offset = 9"
      ],
      "execution_count": null,
      "outputs": []
    },
    {
      "cell_type": "code",
      "metadata": {
        "colab": {
          "base_uri": "https://localhost:8080/",
          "height": 35
        },
        "id": "VmZs_OjAHASQ",
        "outputId": "178046bb-35bb-41b5-ca4e-5a542c006615"
      },
      "source": [
        "#offset = self.meta['offset_dict'][line]\n",
        "offset =\n",
        "data_stream.seek(offset)\n",
        "line = data_stream.readline()\n",
        "instance = line\n",
        "offset = offset + len(line)\n",
        "\n",
        "instance"
      ],
      "execution_count": null,
      "outputs": [
        {
          "output_type": "execute_result",
          "data": {
            "application/vnd.google.colaboratory.intrinsic+json": {
              "type": "string"
            },
            "text/plain": [
              "'\"C C C ( C ) C ( = O ) C ( = O ) O\"\\n'"
            ]
          },
          "metadata": {
            "tags": []
          },
          "execution_count": 31
        }
      ]
    },
    {
      "cell_type": "code",
      "metadata": {
        "colab": {
          "base_uri": "https://localhost:8080/"
        },
        "id": "I9Q3jG71MXZR",
        "outputId": "955a24b8-a8e1-4383-d451-b0bf51b5da7c"
      },
      "source": [
        "len(instance)"
      ],
      "execution_count": null,
      "outputs": [
        {
          "output_type": "execute_result",
          "data": {
            "text/plain": [
              "68"
            ]
          },
          "metadata": {
            "tags": []
          },
          "execution_count": 21
        }
      ]
    },
    {
      "cell_type": "code",
      "metadata": {
        "colab": {
          "base_uri": "https://localhost:8080/"
        },
        "id": "lEPRXUE5NALX",
        "outputId": "5fb6bf39-df7f-40e8-a16b-7a437782de12"
      },
      "source": [
        "68+9"
      ],
      "execution_count": null,
      "outputs": [
        {
          "output_type": "execute_result",
          "data": {
            "text/plain": [
              "77"
            ]
          },
          "metadata": {
            "tags": []
          },
          "execution_count": 22
        }
      ]
    },
    {
      "cell_type": "code",
      "metadata": {
        "id": "u_SCQeIRNDNX"
      },
      "source": [
        "infile = '/content/drive/My Drive/Rostlab internship/8_KDNuggets_LSTM_Approach/data/worded_smiles.csv'\n",
        "with open(infile, \"r\") as file1:\n",
        "  train_df = pd.read_csv(file1)\n",
        "file1.close()"
      ],
      "execution_count": null,
      "outputs": []
    },
    {
      "cell_type": "code",
      "metadata": {
        "colab": {
          "base_uri": "https://localhost:8080/",
          "height": 143
        },
        "id": "bZiZyAEqNMp5",
        "outputId": "30cf874f-8168-46de-d828-4a625e113ac8"
      },
      "source": [
        "train_df.head(3)"
      ],
      "execution_count": null,
      "outputs": [
        {
          "output_type": "execute_result",
          "data": {
            "text/html": [
              "<div>\n",
              "<style scoped>\n",
              "    .dataframe tbody tr th:only-of-type {\n",
              "        vertical-align: middle;\n",
              "    }\n",
              "\n",
              "    .dataframe tbody tr th {\n",
              "        vertical-align: top;\n",
              "    }\n",
              "\n",
              "    .dataframe thead th {\n",
              "        text-align: right;\n",
              "    }\n",
              "</style>\n",
              "<table border=\"1\" class=\"dataframe\">\n",
              "  <thead>\n",
              "    <tr style=\"text-align: right;\">\n",
              "      <th></th>\n",
              "      <th>SMILES</th>\n",
              "    </tr>\n",
              "  </thead>\n",
              "  <tbody>\n",
              "    <tr>\n",
              "      <th>0</th>\n",
              "      <td>C ( C ( C ( C O P ( = O ) ( O ) O ) O ) O ) C ...</td>\n",
              "    </tr>\n",
              "    <tr>\n",
              "      <th>1</th>\n",
              "      <td>C C C ( C ) C ( = O ) C ( = O ) O</td>\n",
              "    </tr>\n",
              "    <tr>\n",
              "      <th>2</th>\n",
              "      <td>C C ( C ) ( C O P ( = O ) ( O ) O P ( = O ) ( ...</td>\n",
              "    </tr>\n",
              "  </tbody>\n",
              "</table>\n",
              "</div>"
            ],
            "text/plain": [
              "                                              SMILES\n",
              "0  C ( C ( C ( C O P ( = O ) ( O ) O ) O ) O ) C ...\n",
              "1                  C C C ( C ) C ( = O ) C ( = O ) O\n",
              "2  C C ( C ) ( C O P ( = O ) ( O ) O P ( = O ) ( ..."
            ]
          },
          "metadata": {
            "tags": []
          },
          "execution_count": 28
        }
      ]
    },
    {
      "cell_type": "code",
      "metadata": {
        "colab": {
          "base_uri": "https://localhost:8080/",
          "height": 35
        },
        "id": "NRFdld-kNSIb",
        "outputId": "31874e26-3cbd-476e-d08e-83da3e2ae67d"
      },
      "source": [
        "instance"
      ],
      "execution_count": null,
      "outputs": [
        {
          "output_type": "execute_result",
          "data": {
            "application/vnd.google.colaboratory.intrinsic+json": {
              "type": "string"
            },
            "text/plain": [
              "'\"C C C ( C ) C ( = O ) C ( = O ) O\"\\n'"
            ]
          },
          "metadata": {
            "tags": []
          },
          "execution_count": 32
        }
      ]
    },
    {
      "cell_type": "code",
      "metadata": {
        "id": "63g6RvOoSoz8"
      },
      "source": [
        "b = atomwise_tokenizer(instance)"
      ],
      "execution_count": null,
      "outputs": []
    },
    {
      "cell_type": "code",
      "metadata": {
        "colab": {
          "base_uri": "https://localhost:8080/"
        },
        "id": "5Cvq4XuESsLI",
        "outputId": "e54c350d-e22c-4c23-da84-53b80824082d"
      },
      "source": [
        "type(b)"
      ],
      "execution_count": null,
      "outputs": [
        {
          "output_type": "execute_result",
          "data": {
            "text/plain": [
              "list"
            ]
          },
          "metadata": {
            "tags": []
          },
          "execution_count": 35
        }
      ]
    },
    {
      "cell_type": "markdown",
      "metadata": {
        "id": "qwFbNAfeg5Fs"
      },
      "source": [
        "#Random testing"
      ]
    },
    {
      "cell_type": "code",
      "metadata": {
        "id": "AUGj_TWQgdvM"
      },
      "source": [
        "import torch"
      ],
      "execution_count": null,
      "outputs": []
    },
    {
      "cell_type": "code",
      "metadata": {
        "id": "MvjfMcF4dnPG",
        "colab": {
          "base_uri": "https://localhost:8080/"
        },
        "outputId": "bd48f59b-c384-47a2-bb17-554e1a7f26d8"
      },
      "source": [
        "a = [4,5,7,3,2,0,7,4]\n",
        "sequence_length = 15\n",
        "a += [-1] * (sequence_length - len(a))\n",
        "a"
      ],
      "execution_count": null,
      "outputs": [
        {
          "output_type": "execute_result",
          "data": {
            "text/plain": [
              "[4, 5, 7, 3, 2, 0, 7, 4, -1, -1, -1, -1, -1, -1, -1]"
            ]
          },
          "metadata": {
            "tags": []
          },
          "execution_count": 22
        }
      ]
    },
    {
      "cell_type": "code",
      "metadata": {
        "colab": {
          "base_uri": "https://localhost:8080/"
        },
        "id": "o3QPtQH1ggFa",
        "outputId": "bc02d2ee-6143-4d27-9772-6769a4752c7d"
      },
      "source": [
        "b = torch.tensor(a)\n",
        "b"
      ],
      "execution_count": null,
      "outputs": [
        {
          "output_type": "execute_result",
          "data": {
            "text/plain": [
              "tensor([ 4,  5,  7,  3,  2,  0,  7,  4, -1, -1, -1, -1, -1, -1, -1])"
            ]
          },
          "metadata": {
            "tags": []
          },
          "execution_count": 25
        }
      ]
    },
    {
      "cell_type": "markdown",
      "metadata": {
        "id": "pFpeyenCkHa9"
      },
      "source": [
        "find index of first -1\n",
        "index -1\n",
        "slice until there\n",
        "\n",
        "\n",
        "do again, until there are no more -1s in the tensor."
      ]
    },
    {
      "cell_type": "code",
      "metadata": {
        "colab": {
          "base_uri": "https://localhost:8080/"
        },
        "id": "3xatTIuchPO4",
        "outputId": "6f910bd5-f64e-4c27-80e0-4b457c5d47df"
      },
      "source": [
        "a.index(-1)"
      ],
      "execution_count": null,
      "outputs": [
        {
          "output_type": "execute_result",
          "data": {
            "text/plain": [
              "8"
            ]
          },
          "metadata": {
            "tags": []
          },
          "execution_count": 26
        }
      ]
    },
    {
      "cell_type": "code",
      "metadata": {
        "colab": {
          "base_uri": "https://localhost:8080/"
        },
        "id": "GpC-0agroCz2",
        "outputId": "23426303-eeb4-4cb0-96b4-7163e94a42a8"
      },
      "source": [
        "b"
      ],
      "execution_count": null,
      "outputs": [
        {
          "output_type": "execute_result",
          "data": {
            "text/plain": [
              "tensor([ 4,  5,  7,  3,  2,  0,  7,  4, -1, -1, -1, -1, -1, -1, -1])"
            ]
          },
          "metadata": {
            "tags": []
          },
          "execution_count": 27
        }
      ]
    },
    {
      "cell_type": "code",
      "metadata": {
        "colab": {
          "base_uri": "https://localhost:8080/"
        },
        "id": "hB-ZO4yhoFB8",
        "outputId": "5159ee52-d4aa-4d5b-c465-a86a7cadabe5"
      },
      "source": [
        "c = b.numpy()\n",
        "c"
      ],
      "execution_count": null,
      "outputs": [
        {
          "output_type": "execute_result",
          "data": {
            "text/plain": [
              "array([ 4,  5,  7,  3,  2,  0,  7,  4, -1, -1, -1, -1, -1, -1, -1])"
            ]
          },
          "metadata": {
            "tags": []
          },
          "execution_count": 32
        }
      ]
    },
    {
      "cell_type": "code",
      "metadata": {
        "id": "EPB_-b_mqQAF"
      },
      "source": [
        "import numpy as np"
      ],
      "execution_count": null,
      "outputs": []
    },
    {
      "cell_type": "code",
      "metadata": {
        "colab": {
          "base_uri": "https://localhost:8080/"
        },
        "id": "LTlytlf_ql20",
        "outputId": "916cab8d-d322-4202-d8d5-3adb93231699"
      },
      "source": [
        "15 in c"
      ],
      "execution_count": null,
      "outputs": [
        {
          "output_type": "execute_result",
          "data": {
            "text/plain": [
              "False"
            ]
          },
          "metadata": {
            "tags": []
          },
          "execution_count": 45
        }
      ]
    },
    {
      "cell_type": "code",
      "metadata": {
        "colab": {
          "base_uri": "https://localhost:8080/"
        },
        "id": "ssz7_0YxoGbY",
        "outputId": "fca87d9a-1b04-40d6-b9d7-340331c11182"
      },
      "source": [
        "result = np.where(c == -1)\n",
        "result"
      ],
      "execution_count": null,
      "outputs": [
        {
          "output_type": "execute_result",
          "data": {
            "text/plain": [
              "(array([ 8,  9, 10, 11, 12, 13, 14]),)"
            ]
          },
          "metadata": {
            "tags": []
          },
          "execution_count": 43
        }
      ]
    },
    {
      "cell_type": "code",
      "metadata": {
        "colab": {
          "base_uri": "https://localhost:8080/"
        },
        "id": "Tp4vg2UfpkQl",
        "outputId": "235e5f98-367d-437a-d958-6c8cf46e1936"
      },
      "source": [
        "result[0][0]"
      ],
      "execution_count": null,
      "outputs": [
        {
          "output_type": "execute_result",
          "data": {
            "text/plain": [
              "8"
            ]
          },
          "metadata": {
            "tags": []
          },
          "execution_count": 41
        }
      ]
    },
    {
      "cell_type": "code",
      "metadata": {
        "id": "Y3vq-v2Fqx3S"
      },
      "source": [
        "first_part = c[:(result[0][0]-1)]"
      ],
      "execution_count": null,
      "outputs": []
    },
    {
      "cell_type": "code",
      "metadata": {
        "colab": {
          "base_uri": "https://localhost:8080/",
          "height": 167
        },
        "id": "IUYDP-7Arfnv",
        "outputId": "5fa7c8e1-960f-4267-daa4-de24ac141f8f"
      },
      "source": [
        "where(b == -1)"
      ],
      "execution_count": null,
      "outputs": [
        {
          "output_type": "error",
          "ename": "NameError",
          "evalue": "ignored",
          "traceback": [
            "\u001b[0;31m---------------------------------------------------------------------------\u001b[0m",
            "\u001b[0;31mNameError\u001b[0m                                 Traceback (most recent call last)",
            "\u001b[0;32m<ipython-input-57-88ab0ebb58bc>\u001b[0m in \u001b[0;36m<module>\u001b[0;34m()\u001b[0m\n\u001b[0;32m----> 1\u001b[0;31m \u001b[0mwhere\u001b[0m\u001b[0;34m(\u001b[0m\u001b[0mb\u001b[0m \u001b[0;34m==\u001b[0m \u001b[0;34m-\u001b[0m\u001b[0;36m1\u001b[0m\u001b[0;34m)\u001b[0m\u001b[0;34m\u001b[0m\u001b[0;34m\u001b[0m\u001b[0m\n\u001b[0m",
            "\u001b[0;31mNameError\u001b[0m: name 'where' is not defined"
          ]
        }
      ]
    },
    {
      "cell_type": "code",
      "metadata": {
        "colab": {
          "base_uri": "https://localhost:8080/"
        },
        "id": "CZAnuhvjrdCL",
        "outputId": "8505bac7-b749-479b-8217-110a501311a3"
      },
      "source": [
        "first_part"
      ],
      "execution_count": null,
      "outputs": [
        {
          "output_type": "execute_result",
          "data": {
            "text/plain": [
              "array([4, 5, 7, 3, 2, 0, 7])"
            ]
          },
          "metadata": {
            "tags": []
          },
          "execution_count": 53
        }
      ]
    },
    {
      "cell_type": "markdown",
      "metadata": {
        "id": "Vcelea5tpm3m"
      },
      "source": [
        "Slicing: https://railsware.com/blog/python-for-machine-learning-indexing-and-slicing-for-lists-tuples-strings-and-other-sequential-types/"
      ]
    },
    {
      "cell_type": "code",
      "metadata": {
        "colab": {
          "base_uri": "https://localhost:8080/"
        },
        "id": "EwPjKijJsUFF",
        "outputId": "b3d24140-9d82-455a-bedc-6bac92fd8fcb"
      },
      "source": [
        "c"
      ],
      "execution_count": null,
      "outputs": [
        {
          "output_type": "execute_result",
          "data": {
            "text/plain": [
              "array([ 4,  5,  7,  3,  2,  0,  7,  4, -1, -1, -1, -1, -1, -1, -1])"
            ]
          },
          "metadata": {
            "tags": []
          },
          "execution_count": 54
        }
      ]
    },
    {
      "cell_type": "code",
      "metadata": {
        "colab": {
          "base_uri": "https://localhost:8080/"
        },
        "id": "6xLKX_9Rpnzk",
        "outputId": "6922018b-66d7-4b5e-be5a-6e85e75f706a"
      },
      "source": [
        "numpy_version = b.numpy()\n",
        "\n",
        "result = np.where(numpy_version == -1)\n",
        "while -1 in numpy_version:\n",
        "  numpy_version = numpy_version[:(result[0][0]-1)]\n",
        "\n",
        "d = torch.tensor(numpy_version)\n",
        "\n",
        "d"
      ],
      "execution_count": null,
      "outputs": [
        {
          "output_type": "execute_result",
          "data": {
            "text/plain": [
              "tensor([4, 5, 7, 3, 2, 0, 7])"
            ]
          },
          "metadata": {
            "tags": []
          },
          "execution_count": 62
        }
      ]
    },
    {
      "cell_type": "code",
      "metadata": {
        "colab": {
          "base_uri": "https://localhost:8080/"
        },
        "id": "m7sLZHNXsVqK",
        "outputId": "d4d886fc-ea26-4933-c60a-7bc8238e661e"
      },
      "source": [
        "numpy_version"
      ],
      "execution_count": null,
      "outputs": [
        {
          "output_type": "execute_result",
          "data": {
            "text/plain": [
              "array([4, 5, 7, 3, 2, 0, 7])"
            ]
          },
          "metadata": {
            "tags": []
          },
          "execution_count": 59
        }
      ]
    },
    {
      "cell_type": "code",
      "metadata": {
        "id": "SJQBjCTcsWHN"
      },
      "source": [
        ""
      ],
      "execution_count": null,
      "outputs": []
    },
    {
      "cell_type": "code",
      "metadata": {
        "colab": {
          "base_uri": "https://localhost:8080/"
        },
        "id": "l3jxkscsswDO",
        "outputId": "b889655d-f198-492a-b4d3-034030dc0e31"
      },
      "source": [
        "d"
      ],
      "execution_count": null,
      "outputs": [
        {
          "output_type": "execute_result",
          "data": {
            "text/plain": [
              "tensor([4, 5, 7, 3, 2, 0, 7])"
            ]
          },
          "metadata": {
            "tags": []
          },
          "execution_count": 61
        }
      ]
    },
    {
      "cell_type": "code",
      "metadata": {
        "colab": {
          "base_uri": "https://localhost:8080/",
          "height": 167
        },
        "id": "DzbFKjd8swgm",
        "outputId": "305c9933-ce28-4479-819f-234d2122fec9"
      },
      "source": [
        "raise ValueError('Oh no!')"
      ],
      "execution_count": null,
      "outputs": [
        {
          "output_type": "error",
          "ename": "ValueError",
          "evalue": "ignored",
          "traceback": [
            "\u001b[0;31m---------------------------------------------------------------------------\u001b[0m",
            "\u001b[0;31mValueError\u001b[0m                                Traceback (most recent call last)",
            "\u001b[0;32m<ipython-input-63-91de42804e98>\u001b[0m in \u001b[0;36m<module>\u001b[0;34m()\u001b[0m\n\u001b[0;32m----> 1\u001b[0;31m \u001b[0;32mraise\u001b[0m \u001b[0mValueError\u001b[0m\u001b[0;34m(\u001b[0m\u001b[0;34m'Oh no!'\u001b[0m\u001b[0;34m)\u001b[0m\u001b[0;34m\u001b[0m\u001b[0;34m\u001b[0m\u001b[0m\n\u001b[0m",
            "\u001b[0;31mValueError\u001b[0m: Oh no!"
          ]
        }
      ]
    },
    {
      "cell_type": "code",
      "metadata": {
        "id": "KYxXKFTRt0lb"
      },
      "source": [
        "instance = [3,1,6,7,8]\n",
        "sequence_length = 10"
      ],
      "execution_count": null,
      "outputs": []
    },
    {
      "cell_type": "code",
      "metadata": {
        "id": "lQMRIGnEuVjZ",
        "colab": {
          "base_uri": "https://localhost:8080/"
        },
        "outputId": "f39f6a65-c9cb-4dc5-8cee-07fcb6e01d81"
      },
      "source": [
        "instance += [-1] * (sequence_length - len(instance))\n",
        "instance"
      ],
      "execution_count": null,
      "outputs": [
        {
          "output_type": "execute_result",
          "data": {
            "text/plain": [
              "[3, 1, 6, 7, 8, -1, -1, -1, -1, -1]"
            ]
          },
          "metadata": {
            "tags": []
          },
          "execution_count": 3
        }
      ]
    },
    {
      "cell_type": "code",
      "metadata": {
        "id": "No75bxlwt800"
      },
      "source": [
        ""
      ],
      "execution_count": null,
      "outputs": []
    }
  ]
}