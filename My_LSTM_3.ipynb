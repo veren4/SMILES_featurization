{
  "nbformat": 4,
  "nbformat_minor": 0,
  "metadata": {
    "colab": {
      "name": "My_LSTM_3.ipynb",
      "provenance": [],
      "collapsed_sections": [
        "L1FLKxp4w9rN",
        "XTPtjD_xxFle",
        "s-tIQQ1VHS_L",
        "ilpVf5dnJngp"
      ],
      "authorship_tag": "ABX9TyMGAMVgyRRcEMzgT3h36Npq",
      "include_colab_link": true
    },
    "kernelspec": {
      "name": "python3",
      "display_name": "Python 3"
    },
    "accelerator": "GPU"
  },
  "cells": [
    {
      "cell_type": "markdown",
      "metadata": {
        "id": "view-in-github",
        "colab_type": "text"
      },
      "source": [
        "<a href=\"https://colab.research.google.com/github/veren4/SMILES_featurization/blob/master/My_LSTM_3.ipynb\" target=\"_parent\"><img src=\"https://colab.research.google.com/assets/colab-badge.svg\" alt=\"Open In Colab\"/></a>"
      ]
    },
    {
      "cell_type": "markdown",
      "metadata": {
        "id": "FAFlFIapsgfP"
      },
      "source": [
        "The approach in this notebook is based on [this article](https://www.cheminformania.com/building-a-simple-smiles-based-qsar-model-with-lstm-cells-in-pytorch/). It doesn't use Torchtext. Most text in this notebook is copied from the article.\n",
        "\n",
        "pro: adapted for large datasets -> doesn't overload RAM\n",
        "\n",
        "con: augments the data?\\\n",
        "split into train, test, validate\n",
        "\n",
        "\\\n",
        "The aforementioned tutorial is for a QSAR model and creates a loss by training for a molecular property (pXC50). That is not what I want; I want to create a self-supervised model. Therefore, I create a target according to [this tutorial](https://medium.com/@shivambansal36/language-modelling-text-generation-using-lstms-deep-learning-for-nlp-ed36b224b275)."
      ]
    },
    {
      "cell_type": "code",
      "metadata": {
        "id": "xkzNnrB-AzuZ",
        "colab": {
          "base_uri": "https://localhost:8080/"
        },
        "outputId": "1c9ef755-dadf-460d-91d8-5b5f76edaba8"
      },
      "source": [
        "from google.colab import drive\n",
        "drive.mount('/content/drive')"
      ],
      "execution_count": 1,
      "outputs": [
        {
          "output_type": "stream",
          "text": [
            "Drive already mounted at /content/drive; to attempt to forcibly remount, call drive.mount(\"/content/drive\", force_remount=True).\n"
          ],
          "name": "stdout"
        }
      ]
    },
    {
      "cell_type": "markdown",
      "metadata": {
        "id": "L1FLKxp4w9rN"
      },
      "source": [
        "# Setup"
      ]
    },
    {
      "cell_type": "code",
      "metadata": {
        "id": "NyI0-L3Txmcr",
        "colab": {
          "base_uri": "https://localhost:8080/"
        },
        "outputId": "8e60d780-820f-499f-c15f-778692984f61"
      },
      "source": [
        "# Install RDKit. Takes 2-3 minutes\n",
        "!wget -c https://repo.continuum.io/miniconda/Miniconda3-py37_4.8.3-Linux-x86_64.sh\n",
        "!chmod +x Miniconda3-py37_4.8.3-Linux-x86_64.sh\n",
        "!time bash ./Miniconda3-py37_4.8.3-Linux-x86_64.sh -b -f -p /usr/local\n",
        "!time conda install -q -y -c conda-forge rdkit\n",
        "\n",
        "import sys\n",
        "sys.path.append('/usr/local/lib/python3.7/site-packages/')"
      ],
      "execution_count": 2,
      "outputs": [
        {
          "output_type": "stream",
          "text": [
            "--2020-11-30 10:39:44--  https://repo.continuum.io/miniconda/Miniconda3-py37_4.8.3-Linux-x86_64.sh\n",
            "Resolving repo.continuum.io (repo.continuum.io)... 104.18.201.79, 104.18.200.79, 2606:4700::6812:c94f, ...\n",
            "Connecting to repo.continuum.io (repo.continuum.io)|104.18.201.79|:443... connected.\n",
            "HTTP request sent, awaiting response... 301 Moved Permanently\n",
            "Location: https://repo.anaconda.com/miniconda/Miniconda3-py37_4.8.3-Linux-x86_64.sh [following]\n",
            "--2020-11-30 10:39:44--  https://repo.anaconda.com/miniconda/Miniconda3-py37_4.8.3-Linux-x86_64.sh\n",
            "Resolving repo.anaconda.com (repo.anaconda.com)... 104.16.130.3, 104.16.131.3, 2606:4700::6810:8303, ...\n",
            "Connecting to repo.anaconda.com (repo.anaconda.com)|104.16.130.3|:443... connected.\n",
            "HTTP request sent, awaiting response... 416 Requested Range Not Satisfiable\n",
            "\n",
            "    The file is already fully retrieved; nothing to do.\n",
            "\n",
            "PREFIX=/usr/local\n",
            "Unpacking payload ...\n",
            "Collecting package metadata (current_repodata.json): - \b\b\\ \b\b| \b\bdone\n",
            "Solving environment: - \b\b\\ \b\b| \b\b/ \b\b- \b\b\\ \b\b| \b\b/ \b\b- \b\b\\ \b\b| \b\b/ \b\b- \b\b\\ \b\b| \b\b/ \b\b- \b\b\\ \b\bfailed with initial frozen solve. Retrying with flexible solve.\n",
            "Solving environment: / \b\b- \b\b\\ \b\b| \b\b/ \b\b- \b\b\\ \b\b| \b\b/ \b\b- \b\bfailed with repodata from current_repodata.json, will retry with next repodata source.\n",
            "Collecting package metadata (repodata.json): | \b\bdone\n",
            "Solving environment: - \b\b\\ \b\b| \b\b/ \b\b- \b\b\\ \b\b| \b\b/ \b\b- \b\b\\ \b\b| \b\b/ \b\b- \b\b\\ \b\b| \b\b/ \b\b- \b\b\\ \b\bfailed with initial frozen solve. Retrying with flexible solve.\n",
            "Solving environment: / \b\b- \b\b\\ \b\b| \b\b/ \b\b- \b\b\\ \b\b| \b\b/ \b\b- \n",
            "Found conflicts! Looking for incompatible packages.\n",
            "This can take several minutes.  Press CTRL-C to abort.\n",
            "\b\b| \b\bfailed\n",
            "\n",
            "UnsatisfiableError: The following specifications were found to be incompatible with each other:\n",
            "\n",
            "Output in format: Requested package -> Available versions\n",
            "\n",
            "Package ncurses conflicts for:\n",
            "python==3.7.7=hcff3b4d_5 -> ncurses[version='>=6.2,<7.0a0']\n",
            "certifi==2020.4.5.1=py37_0 -> python[version='>=3.7,<3.8.0a0'] -> ncurses[version='>=6.2,<7.0a0']\n",
            "python-dateutil -> python -> ncurses[version='>=6.2,<7.0a0']\n",
            "olefile -> python -> ncurses[version='>=6.2,<7.0a0']\n",
            "idna==2.9=py_1 -> python -> ncurses[version='>=6.2,<7.0a0']\n",
            "chardet==3.0.4=py37_1003 -> python[version='>=3.7,<3.8.0a0'] -> ncurses[version='>=6.2,<7.0a0']\n",
            "pip==20.0.2=py37_3 -> python[version='>=3.7,<3.8.0a0'] -> ncurses[version='>=6.2,<7.0a0']\n",
            "ruamel_yaml==0.15.87=py37h7b6447c_0 -> python[version='>=3.7,<3.8.0a0'] -> ncurses[version='>=6.2,<7.0a0']\n",
            "urllib3==1.25.8=py37_0 -> python[version='>=3.7,<3.8.0a0'] -> ncurses[version='>=6.2,<7.0a0']\n",
            "pytz -> python[version='>=3'] -> ncurses[version='>=6.2,<7.0a0']\n",
            "numpy -> python[version='>=3.7,<3.8.0a0'] -> ncurses[version='>=6.2,<7.0a0']\n",
            "cffi==1.14.0=py37he30daa8_1 -> python[version='>=3.7,<3.8.0a0'] -> ncurses[version='>=6.2,<7.0a0']\n",
            "cryptography==2.9.2=py37h1ba5d50_0 -> python[version='>=3.7,<3.8.0a0'] -> ncurses[version='>=6.2,<7.0a0']\n",
            "tornado -> python[version='>=3.7,<3.8.0a0'] -> ncurses[version='>=6.2,<7.0a0']\n",
            "pycparser==2.20=py_0 -> python -> ncurses[version='>=6.2,<7.0a0']\n",
            "reportlab -> python[version='>=3.7,<3.8.0a0'] -> ncurses[version='>=6.2,<7.0a0']\n",
            "pycosat==0.6.3=py37h7b6447c_0 -> python[version='>=3.7,<3.8.0a0'] -> ncurses[version='>=6.2,<7.0a0']\n",
            "kiwisolver -> python[version='>=3.7,<3.8.0a0'] -> ncurses[version='>=6.2,<7.0a0']\n",
            "rdkit -> python[version='>=3.7,<3.8.0a0'] -> ncurses[version='>=6.2,<7.0a0']\n",
            "python_abi -> python=3.7 -> ncurses[version='>=6.2,<7.0a0']\n",
            "sqlalchemy -> python[version='>=3.7,<3.8.0a0'] -> ncurses[version='>=6.2,<7.0a0']\n",
            "readline==8.0=h7b6447c_0 -> ncurses[version='>=6.1,<7.0a0']\n",
            "conda==4.8.3=py37_0 -> python[version='>=3.7,<3.8.0a0'] -> ncurses[version='>=6.2,<7.0a0']\n",
            "python==3.7.7=hcff3b4d_5 -> readline[version='>=8.0,<9.0a0'] -> ncurses[version='>=6.1,<7.0a0']\n",
            "ncurses==6.2=he6710b0_1\n",
            "conda-package-handling==1.6.1=py37h7b6447c_0 -> python[version='>=3.7,<3.8.0a0'] -> ncurses[version='>=6.2,<7.0a0']\n",
            "cycler -> python -> ncurses[version='>=6.2,<7.0a0']\n",
            "pysocks==1.7.1=py37_0 -> python[version='>=3.7,<3.8.0a0'] -> ncurses[version='>=6.2,<7.0a0']\n",
            "requests==2.23.0=py37_0 -> python[version='>=3.7,<3.8.0a0'] -> ncurses[version='>=6.2,<7.0a0']\n",
            "six==1.14.0=py37_0 -> python[version='>=3.7,<3.8.0a0'] -> ncurses[version='>=6.2,<7.0a0']\n",
            "pandas -> python[version='>=3.7,<3.8.0a0'] -> ncurses[version='>=6.2,<7.0a0']\n",
            "boost -> python[version='>=3.7,<3.8.0a0'] -> ncurses[version='>=6.2,<7.0a0']\n",
            "setuptools==46.4.0=py37_0 -> python[version='>=3.7,<3.8.0a0'] -> ncurses[version='>=6.2,<7.0a0']\n",
            "sqlite==3.31.1=h62c20be_1 -> libedit[version='>=3.1.20181209,<3.2.0a0'] -> ncurses[version='>=6.1,<7.0a0']\n",
            "libedit==3.1.20181209=hc058e9b_0 -> ncurses[version='>=6.1,<7.0a0']\n",
            "pyparsing -> python -> ncurses[version='>=6.2,<7.0a0']\n",
            "tqdm==4.46.0=py_0 -> python -> ncurses[version='>=6.2,<7.0a0']\n",
            "matplotlib-base -> python[version='>=3.7,<3.8.0a0'] -> ncurses[version='>=6.2,<7.0a0']\n",
            "pillow -> python[version='>=3.7,<3.8.0a0'] -> ncurses[version='>=6.2,<7.0a0']\n",
            "wheel==0.34.2=py37_0 -> python[version='>=3.7,<3.8.0a0'] -> ncurses[version='>=6.2,<7.0a0']\n",
            "pycairo -> python[version='>=3.7,<3.8.0a0'] -> ncurses[version='>=6.2,<7.0a0']\n",
            "sqlite==3.31.1=h62c20be_1 -> ncurses[version='>=6.2,<7.0a0']\n",
            "pyopenssl==19.1.0=py37_0 -> python[version='>=3.7,<3.8.0a0'] -> ncurses[version='>=6.2,<7.0a0']\n",
            "\n",
            "Package libgcc-ng conflicts for:\n",
            "pcre -> libgcc-ng[version='>=7.3.0']\n",
            "freetype -> zlib[version='>=1.2.11,<1.3.0a0'] -> libgcc-ng[version='>=7.3.0']\n",
            "pillow -> libgcc-ng[version='>=7.5.0']\n",
            "pip==20.0.2=py37_3 -> python[version='>=3.7,<3.8.0a0'] -> libgcc-ng[version='>=7.3.0']\n",
            "fontconfig -> libgcc-ng[version='>=7.5.0']\n",
            "xorg-xextproto -> libgcc-ng[version='>=7.3.0']\n",
            "boost -> libgcc-ng[version='>=7.5.0']\n",
            "setuptools==46.4.0=py37_0 -> python[version='>=3.7,<3.8.0a0'] -> libgcc-ng[version='>=7.3.0']\n",
            "xorg-libx11 -> libgcc-ng[version='>=7.5.0']\n",
            "pixman -> libgcc-ng[version='>=7.3.0']\n",
            "boost -> python[version='>=3.7,<3.8.0a0'] -> libgcc-ng[version='>=7.3.0']\n",
            "freetype -> libgcc-ng[version='>=7.5.0']\n",
            "xorg-libx11 -> libxcb=1 -> libgcc-ng[version='>=7.3.0']\n",
            "xorg-libxrender -> xorg-libx11=1.6 -> libgcc-ng[version='>=7.5.0']\n",
            "libgcc-ng==9.1.0=hdf63c60_0\n",
            "pyparsing -> python -> libgcc-ng[version='>=7.3.0']\n",
            "tqdm==4.46.0=py_0 -> python -> libgcc-ng[version='>=7.3.0']\n",
            "pillow -> python[version='>=3.7,<3.8.0a0'] -> libgcc-ng[version='>=7.3.0']\n",
            "matplotlib-base -> libgcc-ng[version='>=7.5.0']\n",
            "libwebp-base -> libgcc-ng[version='>=7.5.0']\n",
            "libxcb -> libgcc-ng[version='>=7.3.0']\n",
            "wheel==0.34.2=py37_0 -> python[version='>=3.7,<3.8.0a0'] -> libgcc-ng[version='>=7.3.0']\n",
            "xorg-kbproto -> libgcc-ng[version='>=7.3.0']\n",
            "xorg-libsm -> libgcc-ng[version='>=7.3.0']\n",
            "kiwisolver -> libgcc-ng[version='>=7.5.0']\n",
            "xorg-libxext -> xorg-libx11=1.6 -> libgcc-ng[version='>=7.5.0']\n",
            "conda-package-handling==1.6.1=py37h7b6447c_0 -> libgcc-ng[version='>=7.3.0']\n",
            "pycparser==2.20=py_0 -> python -> libgcc-ng[version='>=7.3.0']\n",
            "sqlite==3.31.1=h62c20be_1 -> libgcc-ng[version='>=7.3.0']\n",
            "python==3.7.7=hcff3b4d_5 -> libgcc-ng[version='>=7.3.0']\n",
            "pycosat==0.6.3=py37h7b6447c_0 -> libgcc-ng[version='>=7.3.0']\n",
            "olefile -> python -> libgcc-ng[version='>=7.3.0']\n",
            "xorg-libice -> libgcc-ng[version='>=7.3.0']\n",
            "python-dateutil -> python -> libgcc-ng[version='>=7.3.0']\n",
            "zstd -> libgcc-ng[version='>=7.5.0']\n",
            "ruamel_yaml==0.15.87=py37h7b6447c_0 -> libgcc-ng[version='>=7.3.0']\n",
            "idna==2.9=py_1 -> python -> libgcc-ng[version='>=7.3.0']\n",
            "six==1.14.0=py37_0 -> python[version='>=3.7,<3.8.0a0'] -> libgcc-ng[version='>=7.3.0']\n",
            "certifi==2020.4.5.1=py37_0 -> python[version='>=3.7,<3.8.0a0'] -> libgcc-ng[version='>=7.3.0']\n",
            "libopenblas -> libgcc-ng[version='>=7.5.0']\n",
            "sqlalchemy -> libgcc-ng[version='>=7.5.0']\n",
            "libtiff -> libgcc-ng[version='>=7.5.0']\n",
            "chardet==3.0.4=py37_1003 -> python[version='>=3.7,<3.8.0a0'] -> libgcc-ng[version='>=7.3.0']\n",
            "xorg-libxau -> libgcc-ng[version='>=7.3.0']\n",
            "cryptography==2.9.2=py37h1ba5d50_0 -> openssl[version='>=1.1.1g,<1.1.2a'] -> libgcc-ng[version='>=7.5.0']\n",
            "matplotlib-base -> python[version='>=3.7,<3.8.0a0'] -> libgcc-ng[version='>=7.3.0']\n",
            "boost-cpp -> libgcc-ng[version='>=7.5.0']\n",
            "pthread-stubs -> libgcc-ng[version='>=7.5.0']\n",
            "fontconfig -> icu[version='>=67.1,<68.0a0'] -> libgcc-ng[version='>=7.3.0']\n",
            "numpy -> python[version='>=3.7,<3.8.0a0'] -> libgcc-ng[version='>=7.3.0']\n",
            "tornado -> python[version='>=3.7,<3.8.0a0'] -> libgcc-ng[version='>=7.3.0']\n",
            "cairo -> libgcc-ng[version='>=7.5.0']\n",
            "lcms2 -> libgcc-ng[version='>=7.5.0']\n",
            "pycairo -> python[version='>=3.7,<3.8.0a0'] -> libgcc-ng[version='>=7.3.0']\n",
            "pyopenssl==19.1.0=py37_0 -> cryptography[version='>=2.8'] -> libgcc-ng[version='>=7.3.0']\n",
            "pycairo -> libgcc-ng[version='>=7.5.0']\n",
            "zstd -> xz[version='>=5.2.5,<5.3.0a0'] -> libgcc-ng[version='>=7.3.0']\n",
            "rdkit -> libgcc-ng[version='>=7.5.0']\n",
            "libpng -> libgcc-ng[version='>=7.5.0']\n",
            "libedit==3.1.20181209=hc058e9b_0 -> libgcc-ng[version='>=7.3.0']\n",
            "libuuid -> libgcc-ng[version='>=7.3.0']\n",
            "boost-cpp -> icu[version='>=67.1,<68.0a0'] -> libgcc-ng[version='>=7.3.0']\n",
            "cycler -> python -> libgcc-ng[version='>=7.3.0']\n",
            "python==3.7.7=hcff3b4d_5 -> openssl[version='>=1.1.1g,<1.1.2a'] -> libgcc-ng[version='>=7.5.0']\n",
            "xz==5.2.5=h7b6447c_0 -> libgcc-ng[version='>=7.3.0']\n",
            "requests==2.23.0=py37_0 -> python[version='>=3.7,<3.8.0a0'] -> libgcc-ng[version='>=7.3.0']\n",
            "xorg-libxrender -> libgcc-ng[version='>=7.3.0']\n",
            "reportlab -> libgcc-ng[version='>=7.5.0']\n",
            "reportlab -> python[version='>=3.7,<3.8.0a0'] -> libgcc-ng[version='>=7.3.0']\n",
            "tornado -> libgcc-ng[version='>=7.5.0']\n",
            "xorg-libxdmcp -> libgcc-ng[version='>=7.3.0']\n",
            "libxcb -> pthread-stubs -> libgcc-ng[version='>=7.5.0']\n",
            "pytz -> python[version='>=3'] -> libgcc-ng[version='>=7.3.0']\n",
            "libffi==3.3=he6710b0_1 -> libgcc-ng[version='>=7.3.0']\n",
            "sqlalchemy -> python[version='>=3.7,<3.8.0a0'] -> libgcc-ng[version='>=7.3.0']\n",
            "icu -> libgcc-ng[version='>=7.3.0']\n",
            "urllib3==1.25.8=py37_0 -> cryptography[version='>=1.3.4'] -> libgcc-ng[version='>=7.3.0']\n",
            "libxml2 -> icu[version='>=67.1,<68.0a0'] -> libgcc-ng[version='>=7.3.0']\n",
            "cffi==1.14.0=py37he30daa8_1 -> libgcc-ng[version='>=7.3.0']\n",
            "libtiff -> xz[version='>=5.2.5,<5.3.0a0'] -> libgcc-ng[version='>=7.3.0']\n",
            "cryptography==2.9.2=py37h1ba5d50_0 -> libgcc-ng[version='>=7.3.0']\n",
            "bzip2 -> libgcc-ng[version='>=7.5.0']\n",
            "kiwisolver -> python[version='>=3.7,<3.8.0a0'] -> libgcc-ng[version='>=7.3.0']\n",
            "numpy -> libgcc-ng[version='>=7.5.0']\n",
            "libblas -> libopenblas[version='>=0.3.12,<0.3.13.0a0'] -> libgcc-ng[version='>=7.5.0']\n",
            "openssl==1.1.1g=h7b6447c_0 -> libgcc-ng[version='>=7.3.0']\n",
            "pysocks==1.7.1=py37_0 -> python[version='>=3.7,<3.8.0a0'] -> libgcc-ng[version='>=7.3.0']\n",
            "ruamel_yaml==0.15.87=py37h7b6447c_0 -> yaml[version='>=0.1.7,<0.2.0a0'] -> libgcc-ng[version='>=7.2.0']\n",
            "conda==4.8.3=py37_0 -> conda-package-handling[version='>=1.3.0'] -> libgcc-ng[version='>=7.3.0']\n",
            "readline==8.0=h7b6447c_0 -> libgcc-ng[version='>=7.3.0']\n",
            "libiconv -> libgcc-ng[version='>=7.5.0']\n",
            "jpeg -> libgcc-ng[version='>=7.5.0']\n",
            "libpng -> zlib[version='>=1.2.11,<1.3.0a0'] -> libgcc-ng[version='>=7.3.0']\n",
            "pandas -> python[version='>=3.7,<3.8.0a0'] -> libgcc-ng[version='>=7.3.0']\n",
            "ncurses==6.2=he6710b0_1 -> libgcc-ng[version='>=7.3.0']\n",
            "xorg-renderproto -> libgcc-ng[version='>=7.3.0']\n",
            "yaml==0.1.7=had09818_2 -> libgcc-ng[version='>=7.2.0']\n",
            "libxml2 -> libgcc-ng[version='>=7.5.0']\n",
            "xorg-libxext -> libgcc-ng[version='>=7.3.0']\n",
            "rdkit -> python[version='>=3.7,<3.8.0a0'] -> libgcc-ng[version='>=7.3.0']\n",
            "xorg-xproto -> libgcc-ng[version='>=7.3.0']\n",
            "cairo -> glib[version='>=2.58.3,<3.0a0'] -> libgcc-ng[version='>=7.3.0']\n",
            "pandas -> libgcc-ng[version='>=7.5.0']\n",
            "tk==8.6.8=hbc83047_0 -> libgcc-ng[version='>=7.3.0']\n",
            "zlib==1.2.11=h7b6447c_3 -> libgcc-ng[version='>=7.3.0']\n",
            "python_abi -> python=3.7 -> libgcc-ng[version='>=7.3.0']\n",
            "glib -> libgcc-ng[version='>=7.3.0']\n",
            "\n",
            "Package libopenblas conflicts for:\n",
            "libblas -> libopenblas[version='>=0.3.12,<0.3.13.0a0|>=0.3.12,<1.0a0']\n",
            "numpy -> libblas[version='>=3.8.0,<4.0a0'] -> libopenblas[version='>=0.3.12,<0.3.13.0a0|>=0.3.12,<1.0a0']\n",
            "liblapack -> libblas==3.9.0=3_openblas -> libopenblas[version='>=0.3.12,<0.3.13.0a0|>=0.3.12,<1.0a0']\n",
            "libcblas -> libblas==3.9.0=3_openblas -> libopenblas[version='>=0.3.12,<0.3.13.0a0|>=0.3.12,<1.0a0']\n",
            "libopenblas\n",
            "\n",
            "Package tk conflicts for:\n",
            "requests==2.23.0=py37_0 -> python[version='>=3.7,<3.8.0a0'] -> tk[version='>=8.6.8,<8.7.0a0']\n",
            "conda==4.8.3=py37_0 -> python[version='>=3.7,<3.8.0a0'] -> tk[version='>=8.6.8,<8.7.0a0']\n",
            "pycosat==0.6.3=py37h7b6447c_0 -> python[version='>=3.7,<3.8.0a0'] -> tk[version='>=8.6.8,<8.7.0a0']\n",
            "pandas -> python[version='>=3.7,<3.8.0a0'] -> tk[version='>=8.6.8,<8.7.0a0']\n",
            "sqlalchemy -> python[version='>=3.7,<3.8.0a0'] -> tk[version='>=8.6.8,<8.7.0a0']\n",
            "python_abi -> python=3.7 -> tk[version='>=8.6.8,<8.7.0a0']\n",
            "tqdm==4.46.0=py_0 -> python -> tk[version='>=8.6.8,<8.7.0a0']\n",
            "pysocks==1.7.1=py37_0 -> python[version='>=3.7,<3.8.0a0'] -> tk[version='>=8.6.8,<8.7.0a0']\n",
            "wheel==0.34.2=py37_0 -> python[version='>=3.7,<3.8.0a0'] -> tk[version='>=8.6.8,<8.7.0a0']\n",
            "rdkit -> matplotlib-base -> tk[version='>=8.6.10,<8.7.0a0|>=8.6.8,<8.7.0a0']\n",
            "reportlab -> pillow[version='>=2.4.0'] -> tk[version='>=8.6.10,<8.7.0a0|>=8.6.8,<8.7.0a0']\n",
            "conda-package-handling==1.6.1=py37h7b6447c_0 -> python[version='>=3.7,<3.8.0a0'] -> tk[version='>=8.6.8,<8.7.0a0']\n",
            "ruamel_yaml==0.15.87=py37h7b6447c_0 -> python[version='>=3.7,<3.8.0a0'] -> tk[version='>=8.6.8,<8.7.0a0']\n",
            "tk==8.6.8=hbc83047_0\n",
            "six==1.14.0=py37_0 -> python[version='>=3.7,<3.8.0a0'] -> tk[version='>=8.6.8,<8.7.0a0']\n",
            "pillow -> tk[version='>=8.6.10,<8.7.0a0']\n",
            "idna==2.9=py_1 -> python -> tk[version='>=8.6.8,<8.7.0a0']\n",
            "boost -> python[version='>=3.7,<3.8.0a0'] -> tk[version='>=8.6.8,<8.7.0a0']\n",
            "setuptools==46.4.0=py37_0 -> python[version='>=3.7,<3.8.0a0'] -> tk[version='>=8.6.8,<8.7.0a0']\n",
            "matplotlib-base -> python[version='>=3.7,<3.8.0a0'] -> tk[version='>=8.6.8,<8.7.0a0']\n",
            "pyparsing -> python -> tk[version='>=8.6.8,<8.7.0a0']\n",
            "pillow -> python[version='>=3.7,<3.8.0a0'] -> tk[version='>=8.6.8,<8.7.0a0']\n",
            "pycparser==2.20=py_0 -> python -> tk[version='>=8.6.8,<8.7.0a0']\n",
            "tornado -> python[version='>=3.7,<3.8.0a0'] -> tk[version='>=8.6.8,<8.7.0a0']\n",
            "pyopenssl==19.1.0=py37_0 -> python[version='>=3.7,<3.8.0a0'] -> tk[version='>=8.6.8,<8.7.0a0']\n",
            "python==3.7.7=hcff3b4d_5 -> tk[version='>=8.6.8,<8.7.0a0']\n",
            "python-dateutil -> python -> tk[version='>=8.6.8,<8.7.0a0']\n",
            "olefile -> python -> tk[version='>=8.6.8,<8.7.0a0']\n",
            "pycairo -> python[version='>=3.7,<3.8.0a0'] -> tk[version='>=8.6.8,<8.7.0a0']\n",
            "chardet==3.0.4=py37_1003 -> python[version='>=3.7,<3.8.0a0'] -> tk[version='>=8.6.8,<8.7.0a0']\n",
            "cycler -> python -> tk[version='>=8.6.8,<8.7.0a0']\n",
            "certifi==2020.4.5.1=py37_0 -> python[version='>=3.7,<3.8.0a0'] -> tk[version='>=8.6.8,<8.7.0a0']\n",
            "pip==20.0.2=py37_3 -> python[version='>=3.7,<3.8.0a0'] -> tk[version='>=8.6.8,<8.7.0a0']\n",
            "urllib3==1.25.8=py37_0 -> python[version='>=3.7,<3.8.0a0'] -> tk[version='>=8.6.8,<8.7.0a0']\n",
            "pytz -> python[version='>=3'] -> tk[version='>=8.6.8,<8.7.0a0']\n",
            "cffi==1.14.0=py37he30daa8_1 -> python[version='>=3.7,<3.8.0a0'] -> tk[version='>=8.6.8,<8.7.0a0']\n",
            "matplotlib-base -> tk[version='>=8.6.10,<8.7.0a0']\n",
            "numpy -> python[version='>=3.7,<3.8.0a0'] -> tk[version='>=8.6.8,<8.7.0a0']\n",
            "cryptography==2.9.2=py37h1ba5d50_0 -> python[version='>=3.7,<3.8.0a0'] -> tk[version='>=8.6.8,<8.7.0a0']\n",
            "kiwisolver -> python[version='>=3.7,<3.8.0a0'] -> tk[version='>=8.6.8,<8.7.0a0']\n",
            "\n",
            "Package _libgcc_mutex conflicts for:\n",
            "reportlab -> libgcc-ng[version='>=7.5.0'] -> _libgcc_mutex=[build=main]\n",
            "libxcb -> libgcc-ng[version='>=7.3.0'] -> _libgcc_mutex=[build=main]\n",
            "libxml2 -> libgcc-ng[version='>=7.5.0'] -> _libgcc_mutex=[build=main]\n",
            "yaml==0.1.7=had09818_2 -> libgcc-ng[version='>=7.2.0'] -> _libgcc_mutex=[build=main]\n",
            "matplotlib-base -> libgcc-ng[version='>=7.5.0'] -> _libgcc_mutex=[build=main]\n",
            "pillow -> libgcc-ng[version='>=7.5.0'] -> _libgcc_mutex=[build=main]\n",
            "cairo -> libgcc-ng[version='>=7.5.0'] -> _libgcc_mutex=[build=main]\n",
            "openssl==1.1.1g=h7b6447c_0 -> libgcc-ng[version='>=7.3.0'] -> _libgcc_mutex=[build=main]\n",
            "ruamel_yaml==0.15.87=py37h7b6447c_0 -> libgcc-ng[version='>=7.3.0'] -> _libgcc_mutex=[build=main]\n",
            "tornado -> libgcc-ng[version='>=7.5.0'] -> _libgcc_mutex=[build=main]\n",
            "zlib==1.2.11=h7b6447c_3 -> libgcc-ng[version='>=7.3.0'] -> _libgcc_mutex=[build=main]\n",
            "cffi==1.14.0=py37he30daa8_1 -> libgcc-ng[version='>=7.3.0'] -> _libgcc_mutex=[build=main]\n",
            "ncurses==6.2=he6710b0_1 -> libgcc-ng[version='>=7.3.0'] -> _libgcc_mutex=[build=main]\n",
            "libiconv -> libgcc-ng[version='>=7.5.0'] -> _libgcc_mutex=[build=main]\n",
            "rdkit -> libgcc-ng[version='>=7.5.0'] -> _libgcc_mutex=[build=main]\n",
            "libgcc-ng==9.1.0=hdf63c60_0 -> _libgcc_mutex=[build=main]\n",
            "python==3.7.7=hcff3b4d_5 -> libgcc-ng[version='>=7.3.0'] -> _libgcc_mutex=[build=main]\n",
            "xz==5.2.5=h7b6447c_0 -> libgcc-ng[version='>=7.3.0'] -> _libgcc_mutex=[build=main]\n",
            "lcms2 -> libgcc-ng[version='>=7.5.0'] -> _libgcc_mutex=[build=main]\n",
            "xorg-renderproto -> libgcc-ng[version='>=7.3.0'] -> _libgcc_mutex=[build=main]\n",
            "readline==8.0=h7b6447c_0 -> libgcc-ng[version='>=7.3.0'] -> _libgcc_mutex=[build=main]\n",
            "freetype -> libgcc-ng[version='>=7.5.0'] -> _libgcc_mutex=[build=main]\n",
            "libffi==3.3=he6710b0_1 -> libgcc-ng[version='>=7.3.0'] -> _libgcc_mutex=[build=main]\n",
            "numpy -> libgcc-ng[version='>=7.5.0'] -> _libgcc_mutex=[build=main]\n",
            "boost-cpp -> libgcc-ng[version='>=7.5.0'] -> _libgcc_mutex=[build=main]\n",
            "jpeg -> libgcc-ng[version='>=7.5.0'] -> _libgcc_mutex=[build=main]\n",
            "xorg-kbproto -> libgcc-ng[version='>=7.3.0'] -> _libgcc_mutex=[build=main]\n",
            "pthread-stubs -> libgcc-ng[version='>=7.5.0'] -> _libgcc_mutex=[build=main]\n",
            "pycairo -> libgcc-ng[version='>=7.5.0'] -> _libgcc_mutex=[build=main]\n",
            "xorg-libice -> libgcc-ng[version='>=7.3.0'] -> _libgcc_mutex=[build=main]\n",
            "pycosat==0.6.3=py37h7b6447c_0 -> libgcc-ng[version='>=7.3.0'] -> _libgcc_mutex=[build=main]\n",
            "tk==8.6.8=hbc83047_0 -> libgcc-ng[version='>=7.3.0'] -> _libgcc_mutex=[build=main]\n",
            "zstd -> libgcc-ng[version='>=7.5.0'] -> _libgcc_mutex=[build=main]\n",
            "sqlite==3.31.1=h62c20be_1 -> libgcc-ng[version='>=7.3.0'] -> _libgcc_mutex=[build=main]\n",
            "glib -> libgcc-ng[version='>=7.3.0'] -> _libgcc_mutex=[build=main]\n",
            "libopenblas -> libgcc-ng[version='>=7.5.0'] -> _libgcc_mutex=[build=main]\n",
            "cryptography==2.9.2=py37h1ba5d50_0 -> libgcc-ng[version='>=7.3.0'] -> _libgcc_mutex=[build=main]\n",
            "pandas -> libgcc-ng[version='>=7.5.0'] -> _libgcc_mutex=[build=main]\n",
            "libedit==3.1.20181209=hc058e9b_0 -> libgcc-ng[version='>=7.3.0'] -> _libgcc_mutex=[build=main]\n",
            "sqlalchemy -> libgcc-ng[version='>=7.5.0'] -> _libgcc_mutex=[build=main]\n",
            "xorg-libxrender -> libgcc-ng[version='>=7.3.0'] -> _libgcc_mutex=[build=main]\n",
            "xorg-libxau -> libgcc-ng[version='>=7.3.0'] -> _libgcc_mutex=[build=main]\n",
            "libwebp-base -> libgcc-ng[version='>=7.5.0'] -> _libgcc_mutex=[build=main]\n",
            "xorg-libsm -> libgcc-ng[version='>=7.3.0'] -> _libgcc_mutex=[build=main]\n",
            "xorg-libxdmcp -> libgcc-ng[version='>=7.3.0'] -> _libgcc_mutex=[build=main]\n",
            "xorg-xproto -> libgcc-ng[version='>=7.3.0'] -> _libgcc_mutex=[build=main]\n",
            "libtiff -> libgcc-ng[version='>=7.5.0'] -> _libgcc_mutex=[build=main]\n",
            "_libgcc_mutex==0.1=main\n",
            "xorg-libxext -> libgcc-ng[version='>=7.3.0'] -> _libgcc_mutex=[build=main]\n",
            "bzip2 -> libgcc-ng[version='>=7.5.0'] -> _libgcc_mutex=[build=main]\n",
            "icu -> libgcc-ng[version='>=7.3.0'] -> _libgcc_mutex=[build=main]\n",
            "pcre -> libgcc-ng[version='>=7.3.0'] -> _libgcc_mutex=[build=main]\n",
            "xorg-xextproto -> libgcc-ng[version='>=7.3.0'] -> _libgcc_mutex=[build=main]\n",
            "libuuid -> libgcc-ng[version='>=7.3.0'] -> _libgcc_mutex=[build=main]\n",
            "libpng -> libgcc-ng[version='>=7.5.0'] -> _libgcc_mutex=[build=main]\n",
            "kiwisolver -> libgcc-ng[version='>=7.5.0'] -> _libgcc_mutex=[build=main]\n",
            "fontconfig -> libgcc-ng[version='>=7.5.0'] -> _libgcc_mutex=[build=main]\n",
            "pixman -> libgcc-ng[version='>=7.3.0'] -> _libgcc_mutex=[build=main]\n",
            "boost -> libgcc-ng[version='>=7.5.0'] -> _libgcc_mutex=[build=main]\n",
            "conda-package-handling==1.6.1=py37h7b6447c_0 -> libgcc-ng[version='>=7.3.0'] -> _libgcc_mutex=[build=main]\n",
            "xorg-libx11 -> libgcc-ng[version='>=7.5.0'] -> _libgcc_mutex=[build=main]\n",
            "\n",
            "Package python conflicts for:\n",
            "pillow -> olefile -> python=3.7\n",
            "cffi==1.14.0=py37he30daa8_1 -> python[version='>=3.7,<3.8.0a0']\n",
            "cryptography==2.9.2=py37h1ba5d50_0 -> idna -> python\n",
            "reportlab -> python_abi=3.7[build=*_cp37m] -> python=3.7\n",
            "six==1.14.0=py37_0 -> python[version='>=3.7,<3.8.0a0']\n",
            "tornado -> python[version='>=3.7,<3.8.0a0']\n",
            "sqlalchemy -> python[version='>=3.7,<3.8.0a0']\n",
            "pandas -> python[version='>=3.7,<3.8.0a0']\n",
            "pyparsing -> python\n",
            "boost -> python[version='>=3.7,<3.8.0a0']\n",
            "requests==2.23.0=py37_0 -> idna[version='>=2.5,<3'] -> python\n",
            "tornado -> python_abi=3.7[build=*_cp37m] -> python=3.7\n",
            "ruamel_yaml==0.15.87=py37h7b6447c_0 -> python[version='>=3.7,<3.8.0a0']\n",
            "cycler -> python\n",
            "kiwisolver -> python_abi=3.7[build=*_cp37m] -> python=3.7\n",
            "cycler -> six -> python[version='>=3.7,<3.8.0a0']\n",
            "rdkit -> python_abi=3.7[build=*_cp37m] -> python=3.7\n",
            "matplotlib-base -> python[version='>=3.7,<3.8.0a0']\n",
            "cryptography==2.9.2=py37h1ba5d50_0 -> python[version='>=3.7,<3.8.0a0']\n",
            "python-dateutil -> six -> python[version='>=3.7,<3.8.0a0']\n",
            "matplotlib-base -> cycler[version='>=0.10'] -> python=3.7\n",
            "python_abi -> python=3.7\n",
            "kiwisolver -> python[version='>=3.7,<3.8.0a0']\n",
            "pysocks==1.7.1=py37_0 -> python[version='>=3.7,<3.8.0a0']\n",
            "pycparser==2.20=py_0 -> python\n",
            "sqlalchemy -> python_abi=3.7[build=*_cp37m] -> python=3.7\n",
            "urllib3==1.25.8=py37_0 -> idna[version='>=2.0.0'] -> python\n",
            "pip==20.0.2=py37_3 -> python[version='>=3.7,<3.8.0a0']\n",
            "python-dateutil -> python\n",
            "olefile -> python\n",
            "boost -> python_abi=3.7[build=*_cp37m] -> python=3.7\n",
            "reportlab -> python[version='>=3.7,<3.8.0a0']\n",
            "conda-package-handling==1.6.1=py37h7b6447c_0 -> python[version='>=3.7,<3.8.0a0']\n",
            "chardet==3.0.4=py37_1003 -> python[version='>=3.7,<3.8.0a0']\n",
            "pyopenssl==19.1.0=py37_0 -> python[version='>=3.7,<3.8.0a0']\n",
            "pycosat==0.6.3=py37h7b6447c_0 -> python[version='>=3.7,<3.8.0a0']\n",
            "python==3.7.7=hcff3b4d_5\n",
            "requests==2.23.0=py37_0 -> python[version='>=3.7,<3.8.0a0']\n",
            "pytz -> python[version='>=3']\n",
            "conda==4.8.3=py37_0 -> python[version='>=3.7,<3.8.0a0']\n",
            "setuptools==46.4.0=py37_0 -> python[version='>=3.7,<3.8.0a0']\n",
            "cffi==1.14.0=py37he30daa8_1 -> pycparser -> python\n",
            "rdkit -> python[version='>=3.7,<3.8.0a0']\n",
            "idna==2.9=py_1 -> python\n",
            "pycairo -> python[version='>=3.7,<3.8.0a0']\n",
            "conda-package-handling==1.6.1=py37h7b6447c_0 -> tqdm -> python\n",
            "numpy -> python_abi=3.7[build=*_cp37m] -> python=3.7\n",
            "tqdm==4.46.0=py_0 -> python\n",
            "pillow -> python[version='>=3.7,<3.8.0a0']\n",
            "certifi==2020.4.5.1=py37_0 -> python[version='>=3.7,<3.8.0a0']\n",
            "pycairo -> python_abi=3.7[build=*_cp37m] -> python=3.7\n",
            "numpy -> python[version='>=3.7,<3.8.0a0']\n",
            "urllib3==1.25.8=py37_0 -> python[version='>=3.7,<3.8.0a0']\n",
            "pandas -> python-dateutil[version='>=2.7.3'] -> python[version='3.7.*|>=3']\n",
            "wheel==0.34.2=py37_0 -> python[version='>=3.7,<3.8.0a0']\n",
            "\n",
            "Package libffi conflicts for:\n",
            "requests==2.23.0=py37_0 -> python[version='>=3.7,<3.8.0a0'] -> libffi[version='>=3.3,<3.4.0a0']\n",
            "six==1.14.0=py37_0 -> python[version='>=3.7,<3.8.0a0'] -> libffi[version='>=3.3,<3.4.0a0']\n",
            "pandas -> python[version='>=3.7,<3.8.0a0'] -> libffi[version='>=3.3,<3.4.0a0']\n",
            "sqlalchemy -> python[version='>=3.7,<3.8.0a0'] -> libffi[version='>=3.3,<3.4.0a0']\n",
            "tqdm==4.46.0=py_0 -> python -> libffi[version='>=3.3,<3.4.0a0']\n",
            "python==3.7.7=hcff3b4d_5 -> libffi[version='>=3.3,<3.4.0a0']\n",
            "matplotlib-base -> python[version='>=3.7,<3.8.0a0'] -> libffi[version='>=3.3,<3.4.0a0']\n",
            "pyparsing -> python -> libffi[version='>=3.3,<3.4.0a0']\n",
            "olefile -> python -> libffi[version='>=3.3,<3.4.0a0']\n",
            "pycairo -> python[version='>=3.7,<3.8.0a0'] -> libffi[version='>=3.3,<3.4.0a0']\n",
            "cairo -> glib[version='>=2.58.3,<3.0a0'] -> libffi[version='>=3.3,<3.4.0a0']\n",
            "pyopenssl==19.1.0=py37_0 -> python[version='>=3.7,<3.8.0a0'] -> libffi[version='>=3.3,<3.4.0a0']\n",
            "wheel==0.34.2=py37_0 -> python[version='>=3.7,<3.8.0a0'] -> libffi[version='>=3.3,<3.4.0a0']\n",
            "boost -> python[version='>=3.7,<3.8.0a0'] -> libffi[version='>=3.3,<3.4.0a0']\n",
            "ruamel_yaml==0.15.87=py37h7b6447c_0 -> python[version='>=3.7,<3.8.0a0'] -> libffi[version='>=3.3,<3.4.0a0']\n",
            "certifi==2020.4.5.1=py37_0 -> python[version='>=3.7,<3.8.0a0'] -> libffi[version='>=3.3,<3.4.0a0']\n",
            "pip==20.0.2=py37_3 -> python[version='>=3.7,<3.8.0a0'] -> libffi[version='>=3.3,<3.4.0a0']\n",
            "python-dateutil -> python -> libffi[version='>=3.3,<3.4.0a0']\n",
            "chardet==3.0.4=py37_1003 -> python[version='>=3.7,<3.8.0a0'] -> libffi[version='>=3.3,<3.4.0a0']\n",
            "setuptools==46.4.0=py37_0 -> python[version='>=3.7,<3.8.0a0'] -> libffi[version='>=3.3,<3.4.0a0']\n",
            "pytz -> python[version='>=3'] -> libffi[version='>=3.3,<3.4.0a0']\n",
            "cffi==1.14.0=py37he30daa8_1 -> libffi[version='>=3.3,<3.4.0a0']\n",
            "numpy -> python[version='>=3.7,<3.8.0a0'] -> libffi[version='>=3.3,<3.4.0a0']\n",
            "pycparser==2.20=py_0 -> python -> libffi[version='>=3.3,<3.4.0a0']\n",
            "pillow -> python[version='>=3.7,<3.8.0a0'] -> libffi[version='>=3.3,<3.4.0a0']\n",
            "tornado -> python[version='>=3.7,<3.8.0a0'] -> libffi[version='>=3.3,<3.4.0a0']\n",
            "rdkit -> python[version='>=3.7,<3.8.0a0'] -> libffi[version='>=3.3,<3.4.0a0']\n",
            "idna==2.9=py_1 -> python -> libffi[version='>=3.3,<3.4.0a0']\n",
            "pycosat==0.6.3=py37h7b6447c_0 -> python[version='>=3.7,<3.8.0a0'] -> libffi[version='>=3.3,<3.4.0a0']\n",
            "reportlab -> python[version='>=3.7,<3.8.0a0'] -> libffi[version='>=3.3,<3.4.0a0']\n",
            "conda==4.8.3=py37_0 -> python[version='>=3.7,<3.8.0a0'] -> libffi[version='>=3.3,<3.4.0a0']\n",
            "urllib3==1.25.8=py37_0 -> python[version='>=3.7,<3.8.0a0'] -> libffi[version='>=3.3,<3.4.0a0']\n",
            "python_abi -> python=3.7 -> libffi[version='>=3.3,<3.4.0a0']\n",
            "cryptography==2.9.2=py37h1ba5d50_0 -> cffi -> libffi[version='>=3.3,<3.4.0a0']\n",
            "glib -> libffi[version='>=3.3,<3.4.0a0']\n",
            "libffi==3.3=he6710b0_1\n",
            "cycler -> python -> libffi[version='>=3.3,<3.4.0a0']\n",
            "conda-package-handling==1.6.1=py37h7b6447c_0 -> python[version='>=3.7,<3.8.0a0'] -> libffi[version='>=3.3,<3.4.0a0']\n",
            "pysocks==1.7.1=py37_0 -> python[version='>=3.7,<3.8.0a0'] -> libffi[version='>=3.3,<3.4.0a0']\n",
            "kiwisolver -> python[version='>=3.7,<3.8.0a0'] -> libffi[version='>=3.3,<3.4.0a0']\n",
            "\n",
            "Package sqlite conflicts for:\n",
            "cryptography==2.9.2=py37h1ba5d50_0 -> python[version='>=3.7,<3.8.0a0'] -> sqlite[version='>=3.31.1,<4.0a0']\n",
            "cycler -> python -> sqlite[version='>=3.31.1,<4.0a0']\n",
            "requests==2.23.0=py37_0 -> python[version='>=3.7,<3.8.0a0'] -> sqlite[version='>=3.31.1,<4.0a0']\n",
            "pysocks==1.7.1=py37_0 -> python[version='>=3.7,<3.8.0a0'] -> sqlite[version='>=3.31.1,<4.0a0']\n",
            "kiwisolver -> python[version='>=3.7,<3.8.0a0'] -> sqlite[version='>=3.31.1,<4.0a0']\n",
            "urllib3==1.25.8=py37_0 -> python[version='>=3.7,<3.8.0a0'] -> sqlite[version='>=3.31.1,<4.0a0']\n",
            "sqlalchemy -> python[version='>=3.7,<3.8.0a0'] -> sqlite[version='>=3.31.1,<4.0a0']\n",
            "reportlab -> python[version='>=3.7,<3.8.0a0'] -> sqlite[version='>=3.31.1,<4.0a0']\n",
            "sqlite==3.31.1=h62c20be_1\n",
            "pyparsing -> python -> sqlite[version='>=3.31.1,<4.0a0']\n",
            "tqdm==4.46.0=py_0 -> python -> sqlite[version='>=3.31.1,<4.0a0']\n",
            "conda-package-handling==1.6.1=py37h7b6447c_0 -> python[version='>=3.7,<3.8.0a0'] -> sqlite[version='>=3.31.1,<4.0a0']\n",
            "olefile -> python -> sqlite[version='>=3.31.1,<4.0a0']\n",
            "wheel==0.34.2=py37_0 -> python[version='>=3.7,<3.8.0a0'] -> sqlite[version='>=3.31.1,<4.0a0']\n",
            "python-dateutil -> python -> sqlite[version='>=3.31.1,<4.0a0']\n",
            "pandas -> python[version='>=3.7,<3.8.0a0'] -> sqlite[version='>=3.31.1,<4.0a0']\n",
            "pip==20.0.2=py37_3 -> python[version='>=3.7,<3.8.0a0'] -> sqlite[version='>=3.31.1,<4.0a0']\n",
            "ruamel_yaml==0.15.87=py37h7b6447c_0 -> python[version='>=3.7,<3.8.0a0'] -> sqlite[version='>=3.31.1,<4.0a0']\n",
            "pyopenssl==19.1.0=py37_0 -> python[version='>=3.7,<3.8.0a0'] -> sqlite[version='>=3.31.1,<4.0a0']\n",
            "setuptools==46.4.0=py37_0 -> python[version='>=3.7,<3.8.0a0'] -> sqlite[version='>=3.31.1,<4.0a0']\n",
            "pytz -> python[version='>=3'] -> sqlite[version='>=3.31.1,<4.0a0']\n",
            "certifi==2020.4.5.1=py37_0 -> python[version='>=3.7,<3.8.0a0'] -> sqlite[version='>=3.31.1,<4.0a0']\n",
            "chardet==3.0.4=py37_1003 -> python[version='>=3.7,<3.8.0a0'] -> sqlite[version='>=3.31.1,<4.0a0']\n",
            "numpy -> python[version='>=3.7,<3.8.0a0'] -> sqlite[version='>=3.31.1,<4.0a0']\n",
            "boost -> python[version='>=3.7,<3.8.0a0'] -> sqlite[version='>=3.31.1,<4.0a0']\n",
            "pillow -> python[version='>=3.7,<3.8.0a0'] -> sqlite[version='>=3.31.1,<4.0a0']\n",
            "pycparser==2.20=py_0 -> python -> sqlite[version='>=3.31.1,<4.0a0']\n",
            "tornado -> python[version='>=3.7,<3.8.0a0'] -> sqlite[version='>=3.31.1,<4.0a0']\n",
            "six==1.14.0=py37_0 -> python[version='>=3.7,<3.8.0a0'] -> sqlite[version='>=3.31.1,<4.0a0']\n",
            "pycosat==0.6.3=py37h7b6447c_0 -> python[version='>=3.7,<3.8.0a0'] -> sqlite[version='>=3.31.1,<4.0a0']\n",
            "python==3.7.7=hcff3b4d_5 -> sqlite[version='>=3.31.1,<4.0a0']\n",
            "pycairo -> python[version='>=3.7,<3.8.0a0'] -> sqlite[version='>=3.31.1,<4.0a0']\n",
            "rdkit -> python[version='>=3.7,<3.8.0a0'] -> sqlite[version='>=3.31.1,<4.0a0']\n",
            "conda==4.8.3=py37_0 -> python[version='>=3.7,<3.8.0a0'] -> sqlite[version='>=3.31.1,<4.0a0']\n",
            "idna==2.9=py_1 -> python -> sqlite[version='>=3.31.1,<4.0a0']\n",
            "cffi==1.14.0=py37he30daa8_1 -> python[version='>=3.7,<3.8.0a0'] -> sqlite[version='>=3.31.1,<4.0a0']\n",
            "python_abi -> python=3.7 -> sqlite[version='>=3.31.1,<4.0a0']\n",
            "matplotlib-base -> python[version='>=3.7,<3.8.0a0'] -> sqlite[version='>=3.31.1,<4.0a0']\n",
            "\n",
            "Package readline conflicts for:\n",
            "urllib3==1.25.8=py37_0 -> python[version='>=3.7,<3.8.0a0'] -> readline[version='>=8.0,<9.0a0']\n",
            "numpy -> python[version='>=3.7,<3.8.0a0'] -> readline[version='>=8.0,<9.0a0']\n",
            "cffi==1.14.0=py37he30daa8_1 -> python[version='>=3.7,<3.8.0a0'] -> readline[version='>=8.0,<9.0a0']\n",
            "pillow -> python[version='>=3.7,<3.8.0a0'] -> readline[version='>=8.0,<9.0a0']\n",
            "cryptography==2.9.2=py37h1ba5d50_0 -> python[version='>=3.7,<3.8.0a0'] -> readline[version='>=8.0,<9.0a0']\n",
            "tornado -> python[version='>=3.7,<3.8.0a0'] -> readline[version='>=8.0,<9.0a0']\n",
            "kiwisolver -> python[version='>=3.7,<3.8.0a0'] -> readline[version='>=8.0,<9.0a0']\n",
            "rdkit -> python[version='>=3.7,<3.8.0a0'] -> readline[version='>=8.0,<9.0a0']\n",
            "pycosat==0.6.3=py37h7b6447c_0 -> python[version='>=3.7,<3.8.0a0'] -> readline[version='>=8.0,<9.0a0']\n",
            "sqlalchemy -> python[version='>=3.7,<3.8.0a0'] -> readline[version='>=8.0,<9.0a0']\n",
            "reportlab -> python[version='>=3.7,<3.8.0a0'] -> readline[version='>=8.0,<9.0a0']\n",
            "conda==4.8.3=py37_0 -> python[version='>=3.7,<3.8.0a0'] -> readline[version='>=8.0,<9.0a0']\n",
            "python_abi -> python=3.7 -> readline[version='>=8.0,<9.0a0']\n",
            "readline==8.0=h7b6447c_0\n",
            "conda-package-handling==1.6.1=py37h7b6447c_0 -> python[version='>=3.7,<3.8.0a0'] -> readline[version='>=8.0,<9.0a0']\n",
            "wheel==0.34.2=py37_0 -> python[version='>=3.7,<3.8.0a0'] -> readline[version='>=8.0,<9.0a0']\n",
            "pysocks==1.7.1=py37_0 -> python[version='>=3.7,<3.8.0a0'] -> readline[version='>=8.0,<9.0a0']\n",
            "cycler -> python -> readline[version='>=8.0,<9.0a0']\n",
            "requests==2.23.0=py37_0 -> python[version='>=3.7,<3.8.0a0'] -> readline[version='>=8.0,<9.0a0']\n",
            "ruamel_yaml==0.15.87=py37h7b6447c_0 -> python[version='>=3.7,<3.8.0a0'] -> readline[version='>=8.0,<9.0a0']\n",
            "pandas -> python[version='>=3.7,<3.8.0a0'] -> readline[version='>=8.0,<9.0a0']\n",
            "idna==2.9=py_1 -> python -> readline[version='>=8.0,<9.0a0']\n",
            "setuptools==46.4.0=py37_0 -> python[version='>=3.7,<3.8.0a0'] -> readline[version='>=8.0,<9.0a0']\n",
            "six==1.14.0=py37_0 -> python[version='>=3.7,<3.8.0a0'] -> readline[version='>=8.0,<9.0a0']\n",
            "matplotlib-base -> python[version='>=3.7,<3.8.0a0'] -> readline[version='>=8.0,<9.0a0']\n",
            "pyparsing -> python -> readline[version='>=8.0,<9.0a0']\n",
            "tqdm==4.46.0=py_0 -> python -> readline[version='>=8.0,<9.0a0']\n",
            "pycparser==2.20=py_0 -> python -> readline[version='>=8.0,<9.0a0']\n",
            "pyopenssl==19.1.0=py37_0 -> python[version='>=3.7,<3.8.0a0'] -> readline[version='>=8.0,<9.0a0']\n",
            "python==3.7.7=hcff3b4d_5 -> readline[version='>=8.0,<9.0a0']\n",
            "olefile -> python -> readline[version='>=8.0,<9.0a0']\n",
            "pycairo -> python[version='>=3.7,<3.8.0a0'] -> readline[version='>=8.0,<9.0a0']\n",
            "pip==20.0.2=py37_3 -> python[version='>=3.7,<3.8.0a0'] -> readline[version='>=8.0,<9.0a0']\n",
            "certifi==2020.4.5.1=py37_0 -> python[version='>=3.7,<3.8.0a0'] -> readline[version='>=8.0,<9.0a0']\n",
            "python-dateutil -> python -> readline[version='>=8.0,<9.0a0']\n",
            "chardet==3.0.4=py37_1003 -> python[version='>=3.7,<3.8.0a0'] -> readline[version='>=8.0,<9.0a0']\n",
            "boost -> python[version='>=3.7,<3.8.0a0'] -> readline[version='>=8.0,<9.0a0']\n",
            "pytz -> python[version='>=3'] -> readline[version='>=8.0,<9.0a0']\n",
            "\n",
            "Package libpng conflicts for:\n",
            "freetype -> libpng[version='>=1.6.37,<1.7.0a0']\n",
            "reportlab -> freetype[version='>=2.10.4,<3.0a0'] -> libpng[version='>=1.6.37,<1.7.0a0']\n",
            "cairo -> libpng[version='>=1.6.37,<1.7.0a0']\n",
            "matplotlib-base -> freetype[version='>=2.10.4,<3.0a0'] -> libpng[version='>=1.6.37,<1.7.0a0']\n",
            "pillow -> freetype[version='>=2.10.4,<3.0a0'] -> libpng[version='>=1.6.37,<1.7.0a0']\n",
            "libpng\n",
            "pycairo -> cairo[version='>=1.16.0,<1.17.0a0'] -> libpng[version='>=1.6.37,<1.7.0a0']\n",
            "fontconfig -> libpng[version='>=1.6.37,<1.7.0a0']\n",
            "rdkit -> cairo[version='>=1.16.0,<1.17.0a0'] -> libpng[version='>=1.6.37,<1.7.0a0']\n",
            "\n",
            "Package zstd conflicts for:\n",
            "pillow -> libtiff[version='>=4.1.0,<5.0a0'] -> zstd[version='>=1.4.5,<1.5.0a0']\n",
            "libtiff -> zstd[version='>=1.4.5,<1.5.0a0']\n",
            "boost-cpp -> zstd[version='>=1.4.5,<1.5.0a0']\n",
            "lcms2 -> libtiff[version='>=4.1.0,<5.0a0'] -> zstd[version='>=1.4.5,<1.5.0a0']\n",
            "zstd\n",
            "boost -> boost-cpp=1.74.0 -> zstd[version='>=1.4.5,<1.5.0a0']\n",
            "\n",
            "Package xz conflicts for:\n",
            "sqlalchemy -> python[version='>=3.7,<3.8.0a0'] -> xz[version='>=5.2.5,<6.0a0']\n",
            "cffi==1.14.0=py37he30daa8_1 -> python[version='>=3.7,<3.8.0a0'] -> xz[version='>=5.2.5,<6.0a0']\n",
            "pillow -> libtiff[version='>=4.1.0,<5.0a0'] -> xz[version='>=5.2.5,<5.3.0a0|>=5.2.5,<6.0a0']\n",
            "tornado -> python[version='>=3.7,<3.8.0a0'] -> xz[version='>=5.2.5,<6.0a0']\n",
            "libxml2 -> xz[version='>=5.2.5,<5.3.0a0']\n",
            "kiwisolver -> python[version='>=3.7,<3.8.0a0'] -> xz[version='>=5.2.5,<6.0a0']\n",
            "lcms2 -> libtiff[version='>=4.1.0,<5.0a0'] -> xz[version='>=5.2.5,<5.3.0a0']\n",
            "pycosat==0.6.3=py37h7b6447c_0 -> python[version='>=3.7,<3.8.0a0'] -> xz[version='>=5.2.5,<6.0a0']\n",
            "pysocks==1.7.1=py37_0 -> python[version='>=3.7,<3.8.0a0'] -> xz[version='>=5.2.5,<6.0a0']\n",
            "rdkit -> python[version='>=3.7,<3.8.0a0'] -> xz[version='>=5.2.5,<6.0a0']\n",
            "cycler -> python -> xz[version='>=5.2.5,<6.0a0']\n",
            "ruamel_yaml==0.15.87=py37h7b6447c_0 -> python[version='>=3.7,<3.8.0a0'] -> xz[version='>=5.2.5,<6.0a0']\n",
            "python_abi -> python=3.7 -> xz[version='>=5.2.5,<6.0a0']\n",
            "tqdm==4.46.0=py_0 -> python -> xz[version='>=5.2.5,<6.0a0']\n",
            "conda-package-handling==1.6.1=py37h7b6447c_0 -> python[version='>=3.7,<3.8.0a0'] -> xz[version='>=5.2.5,<6.0a0']\n",
            "boost -> boost-cpp=1.74.0 -> xz[version='>=5.2.5,<5.3.0a0|>=5.2.5,<6.0a0']\n",
            "pyparsing -> python -> xz[version='>=5.2.5,<6.0a0']\n",
            "zstd -> xz[version='>=5.2.5,<5.3.0a0']\n",
            "python==3.7.7=hcff3b4d_5 -> xz[version='>=5.2.5,<6.0a0']\n",
            "six==1.14.0=py37_0 -> python[version='>=3.7,<3.8.0a0'] -> xz[version='>=5.2.5,<6.0a0']\n",
            "pandas -> python[version='>=3.7,<3.8.0a0'] -> xz[version='>=5.2.5,<6.0a0']\n",
            "certifi==2020.4.5.1=py37_0 -> python[version='>=3.7,<3.8.0a0'] -> xz[version='>=5.2.5,<6.0a0']\n",
            "python-dateutil -> python -> xz[version='>=5.2.5,<6.0a0']\n",
            "idna==2.9=py_1 -> python -> xz[version='>=5.2.5,<6.0a0']\n",
            "setuptools==46.4.0=py37_0 -> python[version='>=3.7,<3.8.0a0'] -> xz[version='>=5.2.5,<6.0a0']\n",
            "pip==20.0.2=py37_3 -> python[version='>=3.7,<3.8.0a0'] -> xz[version='>=5.2.5,<6.0a0']\n",
            "pycparser==2.20=py_0 -> python -> xz[version='>=5.2.5,<6.0a0']\n",
            "numpy -> python[version='>=3.7,<3.8.0a0'] -> xz[version='>=5.2.5,<6.0a0']\n",
            "matplotlib-base -> python[version='>=3.7,<3.8.0a0'] -> xz[version='>=5.2.5,<6.0a0']\n",
            "olefile -> python -> xz[version='>=5.2.5,<6.0a0']\n",
            "wheel==0.34.2=py37_0 -> python[version='>=3.7,<3.8.0a0'] -> xz[version='>=5.2.5,<6.0a0']\n",
            "fontconfig -> libxml2[version='>=2.9.10,<2.10.0a0'] -> xz[version='>=5.2.5,<5.3.0a0']\n",
            "cryptography==2.9.2=py37h1ba5d50_0 -> python[version='>=3.7,<3.8.0a0'] -> xz[version='>=5.2.5,<6.0a0']\n",
            "pyopenssl==19.1.0=py37_0 -> python[version='>=3.7,<3.8.0a0'] -> xz[version='>=5.2.5,<6.0a0']\n",
            "xz==5.2.5=h7b6447c_0\n",
            "pycairo -> python[version='>=3.7,<3.8.0a0'] -> xz[version='>=5.2.5,<6.0a0']\n",
            "chardet==3.0.4=py37_1003 -> python[version='>=3.7,<3.8.0a0'] -> xz[version='>=5.2.5,<6.0a0']\n",
            "libtiff -> xz[version='>=5.2.5,<5.3.0a0']\n",
            "boost-cpp -> xz[version='>=5.2.5,<5.3.0a0']\n",
            "urllib3==1.25.8=py37_0 -> python[version='>=3.7,<3.8.0a0'] -> xz[version='>=5.2.5,<6.0a0']\n",
            "pytz -> python[version='>=3'] -> xz[version='>=5.2.5,<6.0a0']\n",
            "requests==2.23.0=py37_0 -> python[version='>=3.7,<3.8.0a0'] -> xz[version='>=5.2.5,<6.0a0']\n",
            "reportlab -> python[version='>=3.7,<3.8.0a0'] -> xz[version='>=5.2.5,<6.0a0']\n",
            "conda==4.8.3=py37_0 -> python[version='>=3.7,<3.8.0a0'] -> xz[version='>=5.2.5,<6.0a0']\n",
            "\n",
            "Package python_abi conflicts for:\n",
            "matplotlib-base -> python_abi=3.7[build=*_cp37m]\n",
            "tornado -> python_abi=3.7[build=*_cp37m]\n",
            "urllib3==1.25.8=py37_0 -> certifi -> python_abi=3.7[build=*_cp37m]\n",
            "pandas -> python_abi=3.7[build=*_cp37m]\n",
            "sqlalchemy -> python_abi=3.7[build=*_cp37m]\n",
            "boost -> python_abi=3.7[build=*_cp37m]\n",
            "kiwisolver -> python_abi=3.7[build=*_cp37m]\n",
            "setuptools==46.4.0=py37_0 -> certifi[version='>=2016.9.26'] -> python_abi=3.7[build=*_cp37m]\n",
            "requests==2.23.0=py37_0 -> certifi[version='>=2017.4.17'] -> python_abi=3.7[build=*_cp37m]\n",
            "python_abi\n",
            "reportlab -> python_abi=3.7[build=*_cp37m]\n",
            "pycairo -> python_abi=3.7[build=*_cp37m]\n",
            "rdkit -> python_abi=3.7[build=*_cp37m]\n",
            "pillow -> python_abi=3.7[build=*_cp37m]\n",
            "numpy -> python_abi=3.7[build=*_cp37m]\n",
            "\n",
            "Package ld_impl_linux-64 conflicts for:\n",
            "boost -> python[version='>=3.7,<3.8.0a0'] -> ld_impl_linux-64\n",
            "tqdm==4.46.0=py_0 -> python -> ld_impl_linux-64\n",
            "conda-package-handling==1.6.1=py37h7b6447c_0 -> python[version='>=3.7,<3.8.0a0'] -> ld_impl_linux-64\n",
            "pysocks==1.7.1=py37_0 -> python[version='>=3.7,<3.8.0a0'] -> ld_impl_linux-64\n",
            "kiwisolver -> python[version='>=3.7,<3.8.0a0'] -> ld_impl_linux-64\n",
            "pyparsing -> python -> ld_impl_linux-64\n",
            "python-dateutil -> python -> ld_impl_linux-64\n",
            "six==1.14.0=py37_0 -> python[version='>=3.7,<3.8.0a0'] -> ld_impl_linux-64\n",
            "pandas -> python[version='>=3.7,<3.8.0a0'] -> ld_impl_linux-64\n",
            "ruamel_yaml==0.15.87=py37h7b6447c_0 -> python[version='>=3.7,<3.8.0a0'] -> ld_impl_linux-64\n",
            "pip==20.0.2=py37_3 -> python[version='>=3.7,<3.8.0a0'] -> ld_impl_linux-64\n",
            "ld_impl_linux-64==2.33.1=h53a641e_7\n",
            "matplotlib-base -> python[version='>=3.7,<3.8.0a0'] -> ld_impl_linux-64\n",
            "pyopenssl==19.1.0=py37_0 -> python[version='>=3.7,<3.8.0a0'] -> ld_impl_linux-64\n",
            "wheel==0.34.2=py37_0 -> python[version='>=3.7,<3.8.0a0'] -> ld_impl_linux-64\n",
            "python==3.7.7=hcff3b4d_5 -> ld_impl_linux-64\n",
            "olefile -> python -> ld_impl_linux-64\n",
            "pycairo -> python[version='>=3.7,<3.8.0a0'] -> ld_impl_linux-64\n",
            "pillow -> python[version='>=3.7,<3.8.0a0'] -> ld_impl_linux-64\n",
            "certifi==2020.4.5.1=py37_0 -> python[version='>=3.7,<3.8.0a0'] -> ld_impl_linux-64\n",
            "pytz -> python[version='>=3'] -> ld_impl_linux-64\n",
            "urllib3==1.25.8=py37_0 -> python[version='>=3.7,<3.8.0a0'] -> ld_impl_linux-64\n",
            "chardet==3.0.4=py37_1003 -> python[version='>=3.7,<3.8.0a0'] -> ld_impl_linux-64\n",
            "idna==2.9=py_1 -> python -> ld_impl_linux-64\n",
            "cffi==1.14.0=py37he30daa8_1 -> python[version='>=3.7,<3.8.0a0'] -> ld_impl_linux-64\n",
            "setuptools==46.4.0=py37_0 -> python[version='>=3.7,<3.8.0a0'] -> ld_impl_linux-64\n",
            "reportlab -> python[version='>=3.7,<3.8.0a0'] -> ld_impl_linux-64\n",
            "sqlalchemy -> python[version='>=3.7,<3.8.0a0'] -> ld_impl_linux-64\n",
            "numpy -> python[version='>=3.7,<3.8.0a0'] -> ld_impl_linux-64\n",
            "pycparser==2.20=py_0 -> python -> ld_impl_linux-64\n",
            "cycler -> python -> ld_impl_linux-64\n",
            "tornado -> python[version='>=3.7,<3.8.0a0'] -> ld_impl_linux-64\n",
            "cryptography==2.9.2=py37h1ba5d50_0 -> python[version='>=3.7,<3.8.0a0'] -> ld_impl_linux-64\n",
            "rdkit -> python[version='>=3.7,<3.8.0a0'] -> ld_impl_linux-64\n",
            "pycosat==0.6.3=py37h7b6447c_0 -> python[version='>=3.7,<3.8.0a0'] -> ld_impl_linux-64\n",
            "python_abi -> python=3.7 -> ld_impl_linux-64\n",
            "conda==4.8.3=py37_0 -> python[version='>=3.7,<3.8.0a0'] -> ld_impl_linux-64\n",
            "requests==2.23.0=py37_0 -> python[version='>=3.7,<3.8.0a0'] -> ld_impl_linux-64\n",
            "\n",
            "Package libstdcxx-ng conflicts for:\n",
            "cffi==1.14.0=py37he30daa8_1 -> libffi[version='>=3.3,<3.4.0a0'] -> libstdcxx-ng[version='>=7.3.0']\n",
            "boost-cpp -> icu[version='>=67.1,<68.0a0'] -> libstdcxx-ng[version='>=7.3.0']\n",
            "matplotlib-base -> libstdcxx-ng[version='>=7.5.0']\n",
            "libffi==3.3=he6710b0_1 -> libstdcxx-ng[version='>=7.3.0']\n",
            "libxml2 -> icu[version='>=67.1,<68.0a0'] -> libstdcxx-ng[version='>=7.3.0']\n",
            "glib -> libstdcxx-ng[version='>=7.3.0']\n",
            "kiwisolver -> libstdcxx-ng[version='>=7.5.0']\n",
            "pillow -> libtiff[version='>=4.1.0,<5.0a0'] -> libstdcxx-ng[version='>=7.5.0']\n",
            "icu -> libstdcxx-ng[version='>=7.3.0']\n",
            "zstd -> libstdcxx-ng[version='>=7.5.0']\n",
            "libtiff -> libstdcxx-ng[version='>=7.5.0']\n",
            "ncurses==6.2=he6710b0_1 -> libstdcxx-ng[version='>=7.3.0']\n",
            "sqlite==3.31.1=h62c20be_1 -> ncurses[version='>=6.2,<7.0a0'] -> libstdcxx-ng[version='>=7.3.0']\n",
            "python==3.7.7=hcff3b4d_5 -> libffi[version='>=3.3,<3.4.0a0'] -> libstdcxx-ng[version='>=7.3.0']\n",
            "rdkit -> libstdcxx-ng[version='>=7.5.0']\n",
            "libstdcxx-ng==9.1.0=hdf63c60_0\n",
            "readline==8.0=h7b6447c_0 -> ncurses[version='>=6.1,<7.0a0'] -> libstdcxx-ng[version='>=7.3.0']\n",
            "lcms2 -> libtiff[version='>=4.1.0,<5.0a0'] -> libstdcxx-ng[version='>=7.5.0']\n",
            "fontconfig -> icu[version='>=67.1,<68.0a0'] -> libstdcxx-ng[version='>=7.3.0']\n",
            "cairo -> glib[version='>=2.58.3,<3.0a0'] -> libstdcxx-ng[version='>=7.3.0']\n",
            "pcre -> libstdcxx-ng[version='>=7.3.0']\n",
            "boost-cpp -> libstdcxx-ng[version='>=7.5.0']\n",
            "boost -> libstdcxx-ng[version='>=7.5.0']\n",
            "libedit==3.1.20181209=hc058e9b_0 -> ncurses[version='>=6.1,<7.0a0'] -> libstdcxx-ng[version='>=7.3.0']\n",
            "pandas -> libstdcxx-ng[version='>=7.5.0']\n",
            "\n",
            "Package setuptools conflicts for:\n",
            "wheel==0.34.2=py37_0 -> setuptools\n",
            "matplotlib-base -> setuptools\n",
            "pip==20.0.2=py37_3 -> setuptools\n",
            "rdkit -> matplotlib-base -> setuptools\n",
            "setuptools==46.4.0=py37_0\n",
            "conda==4.8.3=py37_0 -> setuptools[version='>=31.0.1']\n",
            "\n",
            "Package xorg-libice conflicts for:\n",
            "xorg-libice\n",
            "pycairo -> cairo[version='>=1.16.0,<1.17.0a0'] -> xorg-libice\n",
            "rdkit -> cairo[version='>=1.16.0,<1.17.0a0'] -> xorg-libice\n",
            "cairo -> xorg-libsm -> xorg-libice=1.0\n",
            "cairo -> xorg-libice\n",
            "xorg-libsm -> xorg-libice=1.0\n",
            "\n",
            "Package libxcb conflicts for:\n",
            "pycairo -> cairo[version='>=1.16.0,<1.17.0a0'] -> libxcb\n",
            "rdkit -> cairo[version='>=1.16.0,<1.17.0a0'] -> libxcb\n",
            "libxcb\n",
            "xorg-libxext -> xorg-libx11=1.6 -> libxcb=1\n",
            "cairo -> xorg-libx11 -> libxcb=1\n",
            "xorg-libx11 -> libxcb=1\n",
            "cairo -> libxcb\n",
            "xorg-libxrender -> xorg-libx11=1.6 -> libxcb=1\n",
            "\n",
            "Package icu conflicts for:\n",
            "pycairo -> cairo[version='>=1.16.0,<1.17.0a0'] -> icu[version='>=67.1,<68.0a0']\n",
            "icu\n",
            "libxml2 -> icu[version='>=67.1,<68.0a0']\n",
            "boost-cpp -> icu[version='>=67.1,<68.0a0']\n",
            "boost -> boost-cpp=1.74.0 -> icu[version='>=67.1,<68.0a0']\n",
            "fontconfig -> icu[version='>=67.1,<68.0a0']\n",
            "rdkit -> cairo[version='>=1.16.0,<1.17.0a0'] -> icu[version='>=67.1,<68.0a0']\n",
            "cairo -> icu[version='>=67.1,<68.0a0']\n",
            "\n",
            "Package jpeg conflicts for:\n",
            "libtiff -> jpeg[version='>=9d,<10a']\n",
            "pillow -> jpeg[version='>=9d,<10a']\n",
            "rdkit -> pillow -> jpeg[version='>=9d,<10a']\n",
            "matplotlib-base -> pillow[version='>=6.2.0'] -> jpeg[version='>=9d,<10a']\n",
            "jpeg\n",
            "reportlab -> pillow[version='>=2.4.0'] -> jpeg[version='>=9d,<10a']\n",
            "lcms2 -> jpeg[version='>=9d,<10a']\n",
            "\n",
            "Package libxml2 conflicts for:\n",
            "cairo -> fontconfig[version='>=2.13.1,<3.0a0'] -> libxml2[version='>=2.9.10,<2.10.0a0']\n",
            "fontconfig -> libxml2[version='>=2.9.10,<2.10.0a0']\n",
            "libxml2\n",
            "\n",
            "Package openssl conflicts for:\n",
            "pyparsing -> python -> openssl[version='>=1.1.1g,<1.1.2a']\n",
            "pillow -> python[version='>=3.7,<3.8.0a0'] -> openssl[version='>=1.1.1g,<1.1.2a']\n",
            "tqdm==4.46.0=py_0 -> python -> openssl[version='>=1.1.1g,<1.1.2a']\n",
            "openssl==1.1.1g=h7b6447c_0\n",
            "pandas -> python[version='>=3.7,<3.8.0a0'] -> openssl[version='>=1.1.1g,<1.1.2a']\n",
            "kiwisolver -> python[version='>=3.7,<3.8.0a0'] -> openssl[version='>=1.1.1g,<1.1.2a']\n",
            "python-dateutil -> python -> openssl[version='>=1.1.1g,<1.1.2a']\n",
            "six==1.14.0=py37_0 -> python[version='>=3.7,<3.8.0a0'] -> openssl[version='>=1.1.1g,<1.1.2a']\n",
            "idna==2.9=py_1 -> python -> openssl[version='>=1.1.1g,<1.1.2a']\n",
            "pip==20.0.2=py37_3 -> python[version='>=3.7,<3.8.0a0'] -> openssl[version='>=1.1.1g,<1.1.2a']\n",
            "setuptools==46.4.0=py37_0 -> python[version='>=3.7,<3.8.0a0'] -> openssl[version='>=1.1.1g,<1.1.2a']\n",
            "matplotlib-base -> python[version='>=3.7,<3.8.0a0'] -> openssl[version='>=1.1.1g,<1.1.2a']\n",
            "conda-package-handling==1.6.1=py37h7b6447c_0 -> python[version='>=3.7,<3.8.0a0'] -> openssl[version='>=1.1.1g,<1.1.2a']\n",
            "pycairo -> python[version='>=3.7,<3.8.0a0'] -> openssl[version='>=1.1.1g,<1.1.2a']\n",
            "wheel==0.34.2=py37_0 -> python[version='>=3.7,<3.8.0a0'] -> openssl[version='>=1.1.1g,<1.1.2a']\n",
            "python==3.7.7=hcff3b4d_5 -> openssl[version='>=1.1.1g,<1.1.2a']\n",
            "certifi==2020.4.5.1=py37_0 -> python[version='>=3.7,<3.8.0a0'] -> openssl[version='>=1.1.1g,<1.1.2a']\n",
            "olefile -> python -> openssl[version='>=1.1.1g,<1.1.2a']\n",
            "reportlab -> python[version='>=3.7,<3.8.0a0'] -> openssl[version='>=1.1.1g,<1.1.2a']\n",
            "chardet==3.0.4=py37_1003 -> python[version='>=3.7,<3.8.0a0'] -> openssl[version='>=1.1.1g,<1.1.2a']\n",
            "pytz -> python[version='>=3'] -> openssl[version='>=1.1.1g,<1.1.2a']\n",
            "numpy -> python[version='>=3.7,<3.8.0a0'] -> openssl[version='>=1.1.1g,<1.1.2a']\n",
            "cffi==1.14.0=py37he30daa8_1 -> python[version='>=3.7,<3.8.0a0'] -> openssl[version='>=1.1.1g,<1.1.2a']\n",
            "sqlalchemy -> python[version='>=3.7,<3.8.0a0'] -> openssl[version='>=1.1.1g,<1.1.2a']\n",
            "tornado -> python[version='>=3.7,<3.8.0a0'] -> openssl[version='>=1.1.1g,<1.1.2a']\n",
            "urllib3==1.25.8=py37_0 -> cryptography[version='>=1.3.4'] -> openssl[version='>=1.1.1g,<1.1.2a']\n",
            "pycparser==2.20=py_0 -> python -> openssl[version='>=1.1.1g,<1.1.2a']\n",
            "pyopenssl==19.1.0=py37_0 -> cryptography[version='>=2.8'] -> openssl[version='>=1.1.1g,<1.1.2a']\n",
            "cycler -> python -> openssl[version='>=1.1.1g,<1.1.2a']\n",
            "rdkit -> python[version='>=3.7,<3.8.0a0'] -> openssl[version='>=1.1.1g,<1.1.2a']\n",
            "conda==4.8.3=py37_0 -> python[version='>=3.7,<3.8.0a0'] -> openssl[version='>=1.1.1g,<1.1.2a']\n",
            "requests==2.23.0=py37_0 -> python[version='>=3.7,<3.8.0a0'] -> openssl[version='>=1.1.1g,<1.1.2a']\n",
            "pycosat==0.6.3=py37h7b6447c_0 -> python[version='>=3.7,<3.8.0a0'] -> openssl[version='>=1.1.1g,<1.1.2a']\n",
            "ruamel_yaml==0.15.87=py37h7b6447c_0 -> python[version='>=3.7,<3.8.0a0'] -> openssl[version='>=1.1.1g,<1.1.2a']\n",
            "python_abi -> python=3.7 -> openssl[version='>=1.1.1g,<1.1.2a']\n",
            "boost -> python[version='>=3.7,<3.8.0a0'] -> openssl[version='>=1.1.1g,<1.1.2a']\n",
            "cryptography==2.9.2=py37h1ba5d50_0 -> openssl[version='>=1.1.1g,<1.1.2a']\n",
            "pysocks==1.7.1=py37_0 -> python[version='>=3.7,<3.8.0a0'] -> openssl[version='>=1.1.1g,<1.1.2a']\n",
            "\n",
            "Package pixman conflicts for:\n",
            "pixman\n",
            "rdkit -> cairo[version='>=1.16.0,<1.17.0a0'] -> pixman[version='>=0.38.0,<0.39.0a0']\n",
            "cairo -> pixman[version='>=0.38.0,<0.39.0a0']\n",
            "pycairo -> cairo[version='>=1.16.0,<1.17.0a0'] -> pixman[version='>=0.38.0,<0.39.0a0']\n",
            "\n",
            "Package yaml conflicts for:\n",
            "conda==4.8.3=py37_0 -> ruamel_yaml[version='>=0.11.14,<0.16'] -> yaml[version='>=0.1.7,<0.2.0a0']\n",
            "yaml==0.1.7=had09818_2\n",
            "ruamel_yaml==0.15.87=py37h7b6447c_0 -> yaml[version='>=0.1.7,<0.2.0a0']\n",
            "\n",
            "Package libiconv conflicts for:\n",
            "fontconfig -> libxml2[version='>=2.9.10,<2.10.0a0'] -> libiconv[version='>=1.16,<1.17.0a0']\n",
            "libxml2 -> libiconv[version='>=1.16,<1.17.0a0']\n",
            "libiconv\n",
            "\n",
            "Package freetype conflicts for:\n",
            "rdkit -> freetype[version='>=2.10.4,<3.0a0']\n",
            "cairo -> freetype[version='>=2.9.1,<3.0a0']\n",
            "fontconfig -> freetype[version='>=2.10.4,<3.0a0']\n",
            "pillow -> freetype[version='>=2.10.4,<3.0a0']\n",
            "matplotlib-base -> freetype[version='>=2.10.4,<3.0a0']\n",
            "pycairo -> cairo[version='>=1.16.0,<1.17.0a0'] -> freetype[version='>=2.9.1,<3.0a0']\n",
            "rdkit -> cairo[version='>=1.16.0,<1.17.0a0'] -> freetype[version='>=2.9.1,<3.0a0']\n",
            "reportlab -> freetype[version='>=2.10.4,<3.0a0']\n",
            "cairo -> fontconfig[version='>=2.13.1,<3.0a0'] -> freetype[version='>=2.10.4,<3.0a0']\n",
            "freetype\n",
            "\n",
            "Package xorg-libxrender conflicts for:\n",
            "pycairo -> cairo[version='>=1.16.0,<1.17.0a0'] -> xorg-libxrender\n",
            "rdkit -> cairo[version='>=1.16.0,<1.17.0a0'] -> xorg-libxrender\n",
            "xorg-libxrender\n",
            "cairo -> xorg-libxrender\n",
            "\n",
            "Package numpy conflicts for:\n",
            "pandas -> numpy[version='>=1.16.5,<2.0a0']\n",
            "matplotlib-base -> numpy[version='>=1.16.5,<2.0a0']\n",
            "rdkit -> numpy[version='>=1.16.5,<2.0a0']\n",
            "numpy\n",
            "boost -> numpy[version='>=1.16.5,<2.0a0']\n",
            "\n",
            "Package zlib conflicts for:\n",
            "zlib==1.2.11=h7b6447c_3\n",
            "wheel==0.34.2=py37_0 -> python[version='>=3.7,<3.8.0a0'] -> zlib[version='>=1.2.11,<1.3.0a0']\n",
            "pyopenssl==19.1.0=py37_0 -> python[version='>=3.7,<3.8.0a0'] -> zlib[version='>=1.2.11,<1.3.0a0']\n",
            "python==3.7.7=hcff3b4d_5 -> zlib[version='>=1.2.11,<1.3.0a0']\n",
            "tk==8.6.8=hbc83047_0 -> zlib[version='>=1.2.11,<1.3.0a0']\n",
            "lcms2 -> libtiff[version='>=4.1.0,<5.0a0'] -> zlib[version='>=1.2.11,<1.3.0a0']\n",
            "boost-cpp -> zstd[version='>=1.4.5,<1.5.0a0'] -> zlib[version='>=1.2.11,<1.3.0a0']\n",
            "six==1.14.0=py37_0 -> python[version='>=3.7,<3.8.0a0'] -> zlib[version='>=1.2.11,<1.3.0a0']\n",
            "idna==2.9=py_1 -> python -> zlib[version='>=1.2.11,<1.3.0a0']\n",
            "setuptools==46.4.0=py37_0 -> python[version='>=3.7,<3.8.0a0'] -> zlib[version='>=1.2.11,<1.3.0a0']\n",
            "pytz -> python[version='>=3'] -> zlib[version='>=1.2.11,<1.3.0a0']\n",
            "fontconfig -> freetype[version='>=2.10.4,<3.0a0'] -> zlib[version='>=1.2.11,<1.3.0a0']\n",
            "conda==4.8.3=py37_0 -> python[version='>=3.7,<3.8.0a0'] -> zlib[version='>=1.2.11,<1.3.0a0']\n",
            "pycparser==2.20=py_0 -> python -> zlib[version='>=1.2.11,<1.3.0a0']\n",
            "libpng -> zlib[version='>=1.2.11,<1.3.0a0']\n",
            "numpy -> python[version='>=3.7,<3.8.0a0'] -> zlib[version='>=1.2.11,<1.3.0a0']\n",
            "libtiff -> zlib[version='>=1.2.11,<1.3.0a0']\n",
            "cryptography==2.9.2=py37h1ba5d50_0 -> python[version='>=3.7,<3.8.0a0'] -> zlib[version='>=1.2.11,<1.3.0a0']\n",
            "tornado -> python[version='>=3.7,<3.8.0a0'] -> zlib[version='>=1.2.11,<1.3.0a0']\n",
            "sqlite==3.31.1=h62c20be_1 -> zlib[version='>=1.2.11,<1.3.0a0']\n",
            "pycairo -> cairo[version='>=1.16.0,<1.17.0a0'] -> zlib[version='>=1.2.11,<1.3.0a0']\n",
            "libxml2 -> zlib[version='>=1.2.11,<1.3.0a0']\n",
            "olefile -> python -> zlib[version='>=1.2.11,<1.3.0a0']\n",
            "pillow -> zlib[version='>=1.2.11,<1.3.0a0']\n",
            "cycler -> python -> zlib[version='>=1.2.11,<1.3.0a0']\n",
            "requests==2.23.0=py37_0 -> python[version='>=3.7,<3.8.0a0'] -> zlib[version='>=1.2.11,<1.3.0a0']\n",
            "pycosat==0.6.3=py37h7b6447c_0 -> python[version='>=3.7,<3.8.0a0'] -> zlib[version='>=1.2.11,<1.3.0a0']\n",
            "urllib3==1.25.8=py37_0 -> python[version='>=3.7,<3.8.0a0'] -> zlib[version='>=1.2.11,<1.3.0a0']\n",
            "chardet==3.0.4=py37_1003 -> python[version='>=3.7,<3.8.0a0'] -> zlib[version='>=1.2.11,<1.3.0a0']\n",
            "matplotlib-base -> freetype[version='>=2.10.4,<3.0a0'] -> zlib[version='>=1.2.11,<1.3.0a0']\n",
            "cffi==1.14.0=py37he30daa8_1 -> python[version='>=3.7,<3.8.0a0'] -> zlib[version='>=1.2.11,<1.3.0a0']\n",
            "sqlalchemy -> python[version='>=3.7,<3.8.0a0'] -> zlib[version='>=1.2.11,<1.3.0a0']\n",
            "tqdm==4.46.0=py_0 -> python -> zlib[version='>=1.2.11,<1.3.0a0']\n",
            "pyparsing -> python -> zlib[version='>=1.2.11,<1.3.0a0']\n",
            "zstd -> zlib[version='>=1.2.11,<1.3.0a0']\n",
            "kiwisolver -> python[version='>=3.7,<3.8.0a0'] -> zlib[version='>=1.2.11,<1.3.0a0']\n",
            "pysocks==1.7.1=py37_0 -> python[version='>=3.7,<3.8.0a0'] -> zlib[version='>=1.2.11,<1.3.0a0']\n",
            "freetype -> zlib[version='>=1.2.11,<1.3.0a0']\n",
            "rdkit -> cairo[version='>=1.16.0,<1.17.0a0'] -> zlib[version='>=1.2.11,<1.3.0a0']\n",
            "pandas -> python[version='>=3.7,<3.8.0a0'] -> zlib[version='>=1.2.11,<1.3.0a0']\n",
            "ruamel_yaml==0.15.87=py37h7b6447c_0 -> python[version='>=3.7,<3.8.0a0'] -> zlib[version='>=1.2.11,<1.3.0a0']\n",
            "glib -> zlib[version='>=1.2.11,<1.3.0a0']\n",
            "reportlab -> freetype[version='>=2.10.4,<3.0a0'] -> zlib[version='>=1.2.11,<1.3.0a0']\n",
            "certifi==2020.4.5.1=py37_0 -> python[version='>=3.7,<3.8.0a0'] -> zlib[version='>=1.2.11,<1.3.0a0']\n",
            "python-dateutil -> python -> zlib[version='>=1.2.11,<1.3.0a0']\n",
            "python_abi -> python=3.7 -> zlib[version='>=1.2.11,<1.3.0a0']\n",
            "pip==20.0.2=py37_3 -> python[version='>=3.7,<3.8.0a0'] -> zlib[version='>=1.2.11,<1.3.0a0']\n",
            "boost -> python[version='>=3.7,<3.8.0a0'] -> zlib[version='>=1.2.11,<1.3.0a0']\n",
            "cairo -> zlib[version='>=1.2.11,<1.3.0a0']\n",
            "conda-package-handling==1.6.1=py37h7b6447c_0 -> python[version='>=3.7,<3.8.0a0'] -> zlib[version='>=1.2.11,<1.3.0a0']\n",
            "\n",
            "Package lcms2 conflicts for:\n",
            "lcms2\n",
            "reportlab -> pillow[version='>=2.4.0'] -> lcms2[version='>=2.11,<3.0a0']\n",
            "rdkit -> pillow -> lcms2[version='>=2.11,<3.0a0']\n",
            "pillow -> lcms2[version='>=2.11,<3.0a0']\n",
            "matplotlib-base -> pillow[version='>=6.2.0'] -> lcms2[version='>=2.11,<3.0a0']\n",
            "\n",
            "Package libgfortran4 conflicts for:\n",
            "libblas -> libopenblas[version='>=0.3.12,<0.3.13.0a0'] -> libgfortran4[version='>=7.5.0']\n",
            "libopenblas -> libgfortran-ng -> libgfortran4=7.5.0\n",
            "libgfortran4\n",
            "libgfortran-ng -> libgfortran4=7.5.0\n",
            "libopenblas -> libgfortran4[version='>=7.5.0']\n",
            "\n",
            "Package libtiff conflicts for:\n",
            "libtiff\n",
            "reportlab -> pillow[version='>=2.4.0'] -> libtiff[version='>=4.1.0,<5.0a0']\n",
            "lcms2 -> libtiff[version='>=4.1.0,<5.0a0']\n",
            "rdkit -> pillow -> libtiff[version='>=4.1.0,<5.0a0']\n",
            "pillow -> libtiff[version='>=4.1.0,<5.0a0']\n",
            "matplotlib-base -> pillow[version='>=6.2.0'] -> libtiff[version='>=4.1.0,<5.0a0']\n",
            "\n",
            "Package boost conflicts for:\n",
            "boost\n",
            "rdkit -> boost[version='>=1.74.0,<1.74.1.0a0']\n",
            "\n",
            "Package boost-cpp conflicts for:\n",
            "boost-cpp\n",
            "rdkit -> boost[version='>=1.74.0,<1.74.1.0a0'] -> boost-cpp=1.74.0\n",
            "boost -> boost-cpp=1.74.0\n",
            "\n",
            "Package liblapack conflicts for:\n",
            "boost -> numpy[version='>=1.16.5,<2.0a0'] -> liblapack[version='>=3.8.0,<4.0a0']\n",
            "liblapack\n",
            "pandas -> numpy[version='>=1.16.5,<2.0a0'] -> liblapack[version='>=3.8.0,<4.0a0']\n",
            "matplotlib-base -> numpy[version='>=1.16.5,<2.0a0'] -> liblapack[version='>=3.8.0,<4.0a0']\n",
            "numpy -> liblapack[version='>=3.8.0,<4.0a0']\n",
            "rdkit -> numpy[version='>=1.16.5,<2.0a0'] -> liblapack[version='>=3.8.0,<4.0a0']\n",
            "\n",
            "Package six conflicts for:\n",
            "cryptography==2.9.2=py37h1ba5d50_0 -> six\n",
            "matplotlib-base -> cycler[version='>=0.10'] -> six\n",
            "python-dateutil -> six\n",
            "conda-package-handling==1.6.1=py37h7b6447c_0 -> six\n",
            "pandas -> python-dateutil[version='>=2.7.3'] -> six\n",
            "six==1.14.0=py37_0\n",
            "pyopenssl==19.1.0=py37_0 -> six[version='>=1.5.2']\n",
            "pyopenssl==19.1.0=py37_0 -> cryptography[version='>=2.8'] -> six\n",
            "urllib3==1.25.8=py37_0 -> cryptography[version='>=1.3.4'] -> six[version='>=1.5.2']\n",
            "conda==4.8.3=py37_0 -> conda-package-handling[version='>=1.3.0'] -> six[version='>=1.5.2']\n",
            "cycler -> six\n",
            "\n",
            "Package idna conflicts for:\n",
            "requests==2.23.0=py37_0 -> idna[version='>=2.5,<3']\n",
            "conda==4.8.3=py37_0 -> requests[version='>=2.18.4,<3'] -> idna[version='>=2.5,<3']\n",
            "requests==2.23.0=py37_0 -> urllib3[version='>=1.21.1,<1.26,!=1.25.0,!=1.25.1'] -> idna[version='>=2.0.0']\n",
            "urllib3==1.25.8=py37_0 -> cryptography[version='>=1.3.4'] -> idna\n",
            "pyopenssl==19.1.0=py37_0 -> cryptography[version='>=2.8'] -> idna\n",
            "idna==2.9=py_1\n",
            "cryptography==2.9.2=py37h1ba5d50_0 -> idna\n",
            "urllib3==1.25.8=py37_0 -> idna[version='>=2.0.0']\n",
            "\n",
            "Package ca-certificates conflicts for:\n",
            "openssl==1.1.1g=h7b6447c_0 -> ca-certificates\n",
            "ca-certificates==2020.1.1=0\n",
            "cryptography==2.9.2=py37h1ba5d50_0 -> openssl[version='>=1.1.1g,<1.1.2a'] -> ca-certificates\n",
            "python==3.7.7=hcff3b4d_5 -> openssl[version='>=1.1.1g,<1.1.2a'] -> ca-certificates\n",
            "\n",
            "Package libuuid conflicts for:\n",
            "libuuid\n",
            "xorg-libsm -> libuuid[version='>=2.32.1,<3.0a0']\n",
            "fontconfig -> libuuid[version='>=2.32.1,<3.0a0']\n",
            "cairo -> fontconfig[version='>=2.13.1,<3.0a0'] -> libuuid[version='>=2.32.1,<3.0a0']\n",
            "\n",
            "Package cycler conflicts for:\n",
            "matplotlib-base -> cycler[version='>=0.10']\n",
            "cycler\n",
            "rdkit -> matplotlib-base -> cycler[version='>=0.10']\n",
            "\n",
            "Package urllib3 conflicts for:\n",
            "requests==2.23.0=py37_0 -> urllib3[version='>=1.21.1,<1.26,!=1.25.0,!=1.25.1']\n",
            "conda==4.8.3=py37_0 -> requests[version='>=2.18.4,<3'] -> urllib3[version='>=1.21.1,<1.26,!=1.25.0,!=1.25.1']\n",
            "urllib3==1.25.8=py37_0\n",
            "\n",
            "Package libblas conflicts for:\n",
            "numpy -> libcblas[version='>=3.8.0,<4.0a0'] -> libblas==3.9.0=3_openblas\n",
            "libcblas -> libblas==3.9.0=3_openblas\n",
            "rdkit -> numpy[version='>=1.16.5,<2.0a0'] -> libblas[version='>=3.8.0,<4.0a0']\n",
            "matplotlib-base -> numpy[version='>=1.16.5,<2.0a0'] -> libblas[version='>=3.8.0,<4.0a0']\n",
            "numpy -> libblas[version='>=3.8.0,<4.0a0']\n",
            "libblas\n",
            "boost -> numpy[version='>=1.16.5,<2.0a0'] -> libblas[version='>=3.8.0,<4.0a0']\n",
            "liblapack -> libblas==3.9.0=3_openblas\n",
            "pandas -> numpy[version='>=1.16.5,<2.0a0'] -> libblas[version='>=3.8.0,<4.0a0']\n",
            "\n",
            "Package cffi conflicts for:\n",
            "cryptography==2.9.2=py37h1ba5d50_0 -> cffi\n",
            "pyopenssl==19.1.0=py37_0 -> cryptography[version='>=2.8'] -> cffi\n",
            "cffi==1.14.0=py37he30daa8_1\n",
            "urllib3==1.25.8=py37_0 -> cryptography[version='>=1.3.4'] -> cffi\n",
            "\n",
            "Package olefile conflicts for:\n",
            "pillow -> olefile\n",
            "matplotlib-base -> pillow[version='>=6.2.0'] -> olefile\n",
            "olefile\n",
            "reportlab -> pillow[version='>=2.4.0'] -> olefile\n",
            "rdkit -> pillow -> olefile\n",
            "\n",
            "Package lz4-c conflicts for:\n",
            "zstd -> lz4-c[version='>=1.9.2,<1.9.3.0a0']\n",
            "libtiff -> zstd[version='>=1.4.5,<1.5.0a0'] -> lz4-c[version='>=1.9.2,<1.9.3.0a0']\n",
            "lz4-c\n",
            "boost-cpp -> zstd[version='>=1.4.5,<1.5.0a0'] -> lz4-c[version='>=1.9.2,<1.9.3.0a0']\n",
            "\n",
            "Package tqdm conflicts for:\n",
            "conda-package-handling==1.6.1=py37h7b6447c_0 -> tqdm\n",
            "tqdm==4.46.0=py_0\n",
            "conda==4.8.3=py37_0 -> conda-package-handling[version='>=1.3.0'] -> tqdm\n",
            "\n",
            "Package xorg-kbproto conflicts for:\n",
            "cairo -> xorg-libx11 -> xorg-kbproto\n",
            "xorg-libxrender -> xorg-libx11=1.6 -> xorg-kbproto\n",
            "xorg-libx11 -> xorg-kbproto\n",
            "xorg-kbproto\n",
            "xorg-libxext -> xorg-libx11=1.6 -> xorg-kbproto\n",
            "\n",
            "Package kiwisolver conflicts for:\n",
            "matplotlib-base -> kiwisolver[version='>=1.0.1']\n",
            "rdkit -> matplotlib-base -> kiwisolver[version='>=1.0.1']\n",
            "kiwisolver\n",
            "\n",
            "Package xorg-xextproto conflicts for:\n",
            "xorg-libxext -> xorg-xextproto\n",
            "cairo -> xorg-libxext -> xorg-xextproto\n",
            "xorg-xextproto\n",
            "\n",
            "Package libedit conflicts for:\n",
            "python==3.7.7=hcff3b4d_5 -> sqlite[version='>=3.31.1,<4.0a0'] -> libedit[version='>=3.1.20181209,<3.2.0a0']\n",
            "sqlite==3.31.1=h62c20be_1 -> libedit[version='>=3.1.20181209,<3.2.0a0']\n",
            "libedit==3.1.20181209=hc058e9b_0\n",
            "\n",
            "Package libcblas conflicts for:\n",
            "numpy -> libcblas[version='>=3.8.0,<4.0a0']\n",
            "rdkit -> numpy[version='>=1.16.5,<2.0a0'] -> libcblas[version='>=3.8.0,<4.0a0']\n",
            "matplotlib-base -> numpy[version='>=1.16.5,<2.0a0'] -> libcblas[version='>=3.8.0,<4.0a0']\n",
            "libcblas\n",
            "boost -> numpy[version='>=1.16.5,<2.0a0'] -> libcblas[version='>=3.8.0,<4.0a0']\n",
            "pandas -> numpy[version='>=1.16.5,<2.0a0'] -> libcblas[version='>=3.8.0,<4.0a0']\n",
            "\n",
            "Package sqlalchemy conflicts for:\n",
            "sqlalchemy\n",
            "rdkit -> sqlalchemy\n",
            "\n",
            "Package certifi conflicts for:\n",
            "requests==2.23.0=py37_0 -> certifi[version='>=2017.4.17']\n",
            "setuptools==46.4.0=py37_0 -> certifi[version='>=2016.9.26']\n",
            "matplotlib-base -> setuptools -> certifi[version='>=2016.9.26']\n",
            "matplotlib-base -> certifi[version='>=2020.06.20']\n",
            "requests==2.23.0=py37_0 -> urllib3[version='>=1.21.1,<1.26,!=1.25.0,!=1.25.1'] -> certifi\n",
            "wheel==0.34.2=py37_0 -> setuptools -> certifi[version='>=2016.9.26']\n",
            "urllib3==1.25.8=py37_0 -> certifi\n",
            "conda==4.8.3=py37_0 -> requests[version='>=2.18.4,<3'] -> certifi[version='>=2016.9.26|>=2017.4.17']\n",
            "rdkit -> matplotlib-base -> certifi[version='>=2020.06.20']\n",
            "pip==20.0.2=py37_3 -> setuptools -> certifi[version='>=2016.9.26']\n",
            "certifi==2020.4.5.1=py37_0\n",
            "\n",
            "Package pillow conflicts for:\n",
            "rdkit -> matplotlib-base -> pillow[version='>=2.4.0|>=6.2.0']\n",
            "matplotlib-base -> pillow[version='>=6.2.0']\n",
            "reportlab -> pillow[version='>=2.4.0']\n",
            "rdkit -> pillow\n",
            "pillow\n",
            "\n",
            "Package python-dateutil conflicts for:\n",
            "matplotlib-base -> python-dateutil[version='>=2.1']\n",
            "python-dateutil\n",
            "rdkit -> matplotlib-base -> python-dateutil[version='>=2.1|>=2.7.3']\n",
            "pandas -> python-dateutil[version='>=2.7.3']\n",
            "\n",
            "Package bzip2 conflicts for:\n",
            "boost -> boost-cpp=1.74.0 -> bzip2[version='>=1.0.8,<2.0a0']\n",
            "bzip2\n",
            "boost-cpp -> bzip2[version='>=1.0.8,<2.0a0']\n",
            "\n",
            "Package pycparser conflicts for:\n",
            "pycparser==2.20=py_0\n",
            "cffi==1.14.0=py37he30daa8_1 -> pycparser\n",
            "cryptography==2.9.2=py37h1ba5d50_0 -> cffi -> pycparser\n",
            "\n",
            "Package cryptography conflicts for:\n",
            "pyopenssl==19.1.0=py37_0 -> cryptography[version='>=2.8']\n",
            "requests==2.23.0=py37_0 -> urllib3[version='>=1.21.1,<1.26,!=1.25.0,!=1.25.1'] -> cryptography[version='>=1.3.4']\n",
            "urllib3==1.25.8=py37_0 -> cryptography[version='>=1.3.4']\n",
            "urllib3==1.25.8=py37_0 -> pyopenssl[version='>=0.14'] -> cryptography[version='>=2.8']\n",
            "conda==4.8.3=py37_0 -> pyopenssl[version='>=16.2.0'] -> cryptography[version='>=2.8']\n",
            "cryptography==2.9.2=py37h1ba5d50_0\n",
            "\n",
            "Package tornado conflicts for:\n",
            "matplotlib-base -> tornado\n",
            "rdkit -> matplotlib-base -> tornado\n",
            "tornado\n",
            "\n",
            "Package ruamel_yaml conflicts for:\n",
            "conda==4.8.3=py37_0 -> ruamel_yaml[version='>=0.11.14,<0.16']\n",
            "ruamel_yaml==0.15.87=py37h7b6447c_0\n",
            "\n",
            "Package xorg-xproto conflicts for:\n",
            "cairo -> xorg-libx11 -> xorg-xproto\n",
            "xorg-xproto\n",
            "xorg-libx11 -> xorg-xproto\n",
            "xorg-libxrender -> xorg-libx11=1.6 -> xorg-xproto\n",
            "xorg-libxext -> xorg-libx11=1.6 -> xorg-xproto\n",
            "\n",
            "Package pysocks conflicts for:\n",
            "requests==2.23.0=py37_0 -> urllib3[version='>=1.21.1,<1.26,!=1.25.0,!=1.25.1'] -> pysocks[version='>=1.5.6,<2.0,!=1.5.7']\n",
            "urllib3==1.25.8=py37_0 -> pysocks[version='>=1.5.6,<2.0,!=1.5.7']\n",
            "pysocks==1.7.1=py37_0\n",
            "\n",
            "Package xorg-libsm conflicts for:\n",
            "rdkit -> cairo[version='>=1.16.0,<1.17.0a0'] -> xorg-libsm\n",
            "cairo -> xorg-libsm\n",
            "xorg-libsm\n",
            "pycairo -> cairo[version='>=1.16.0,<1.17.0a0'] -> xorg-libsm\n",
            "\n",
            "Package xorg-libxext conflicts for:\n",
            "rdkit -> cairo[version='>=1.16.0,<1.17.0a0'] -> xorg-libxext\n",
            "cairo -> xorg-libxext\n",
            "xorg-libxext\n",
            "pycairo -> cairo[version='>=1.16.0,<1.17.0a0'] -> xorg-libxext\n",
            "\n",
            "Package xorg-libx11 conflicts for:\n",
            "cairo -> xorg-libx11\n",
            "rdkit -> cairo[version='>=1.16.0,<1.17.0a0'] -> xorg-libx11\n",
            "xorg-libxrender -> xorg-libx11=1.6\n",
            "xorg-libx11\n",
            "pycairo -> cairo[version='>=1.16.0,<1.17.0a0'] -> xorg-libx11\n",
            "cairo -> xorg-libxext -> xorg-libx11=1.6\n",
            "xorg-libxext -> xorg-libx11=1.6\n",
            "\n",
            "Package fontconfig conflicts for:\n",
            "pycairo -> cairo[version='>=1.16.0,<1.17.0a0'] -> fontconfig[version='>=2.13.1,<3.0a0']\n",
            "fontconfig\n",
            "rdkit -> cairo[version='>=1.16.0,<1.17.0a0'] -> fontconfig[version='>=2.13.1,<3.0a0']\n",
            "cairo -> fontconfig[version='>=2.13.1,<3.0a0']\n",
            "\n",
            "Package libgfortran-ng conflicts for:\n",
            "libopenblas -> libgfortran-ng\n",
            "libgfortran-ng\n",
            "libblas -> libopenblas[version='>=0.3.12,<0.3.13.0a0'] -> libgfortran-ng\n",
            "\n",
            "Package pyopenssl conflicts for:\n",
            "pyopenssl==19.1.0=py37_0\n",
            "conda==4.8.3=py37_0 -> pyopenssl[version='>=16.2.0']\n",
            "requests==2.23.0=py37_0 -> urllib3[version='>=1.21.1,<1.26,!=1.25.0,!=1.25.1'] -> pyopenssl[version='>=0.14']\n",
            "urllib3==1.25.8=py37_0 -> pyopenssl[version='>=0.14']\n",
            "\n",
            "Package pthread-stubs conflicts for:\n",
            "pthread-stubs\n",
            "xorg-libx11 -> libxcb=1 -> pthread-stubs\n",
            "libxcb -> pthread-stubs\n",
            "cairo -> libxcb -> pthread-stubs\n",
            "\n",
            "Package glib conflicts for:\n",
            "pycairo -> cairo[version='>=1.16.0,<1.17.0a0'] -> glib[version='>=2.58.3,<3.0a0']\n",
            "glib\n",
            "rdkit -> cairo[version='>=1.16.0,<1.17.0a0'] -> glib[version='>=2.58.3,<3.0a0']\n",
            "cairo -> glib[version='>=2.58.3,<3.0a0']\n",
            "\n",
            "Package cairo conflicts for:\n",
            "rdkit -> cairo[version='>=1.16.0,<1.17.0a0']\n",
            "pycairo -> cairo[version='>=1.16.0,<1.17.0a0']\n",
            "cairo\n",
            "\n",
            "Package xorg-libxdmcp conflicts for:\n",
            "xorg-libxdmcp\n",
            "libxcb -> xorg-libxdmcp\n",
            "xorg-libx11 -> libxcb=1 -> xorg-libxdmcp\n",
            "cairo -> libxcb -> xorg-libxdmcp\n",
            "\n",
            "Package pyparsing conflicts for:\n",
            "rdkit -> matplotlib-base -> pyparsing[version='>=2.0.3,!=2.0.4,!=2.1.2,!=2.1.6']\n",
            "matplotlib-base -> pyparsing[version='>=2.0.3,!=2.0.4,!=2.1.2,!=2.1.6']\n",
            "pyparsing\n",
            "\n",
            "Package pcre conflicts for:\n",
            "glib -> pcre[version='>=8.44,<9.0a0']\n",
            "cairo -> glib[version='>=2.58.3,<3.0a0'] -> pcre[version='>=8.44,<9.0a0']\n",
            "pcre\n",
            "\n",
            "Package requests conflicts for:\n",
            "conda==4.8.3=py37_0 -> requests[version='>=2.18.4,<3']\n",
            "requests==2.23.0=py37_0\n",
            "\n",
            "Package pandas conflicts for:\n",
            "rdkit -> pandas\n",
            "pandas\n",
            "\n",
            "Package xorg-libxau conflicts for:\n",
            "xorg-libx11 -> libxcb=1 -> xorg-libxau\n",
            "libxcb -> xorg-libxau\n",
            "cairo -> libxcb -> xorg-libxau\n",
            "xorg-libxau\n",
            "\n",
            "Package pycosat conflicts for:\n",
            "conda==4.8.3=py37_0 -> pycosat[version='>=0.6.3']\n",
            "pycosat==0.6.3=py37h7b6447c_0\n",
            "\n",
            "Package reportlab conflicts for:\n",
            "reportlab\n",
            "rdkit -> reportlab\n",
            "\n",
            "Package chardet conflicts for:\n",
            "requests==2.23.0=py37_0 -> chardet[version='>=3.0.2,<4']\n",
            "conda==4.8.3=py37_0 -> requests[version='>=2.18.4,<3'] -> chardet[version='>=3.0.2,<4']\n",
            "chardet==3.0.4=py37_1003\n",
            "\n",
            "Package xorg-renderproto conflicts for:\n",
            "cairo -> xorg-libxrender -> xorg-renderproto\n",
            "xorg-renderproto\n",
            "xorg-libxrender -> xorg-renderproto\n",
            "\n",
            "Package matplotlib-base conflicts for:\n",
            "rdkit -> matplotlib-base\n",
            "matplotlib-base\n",
            "\n",
            "Package conda-package-handling conflicts for:\n",
            "conda-package-handling==1.6.1=py37h7b6447c_0\n",
            "conda==4.8.3=py37_0 -> conda-package-handling[version='>=1.3.0']\n",
            "\n",
            "Package libwebp-base conflicts for:\n",
            "pillow -> libtiff[version='>=4.1.0,<5.0a0'] -> libwebp-base\n",
            "libtiff -> libwebp-base\n",
            "lcms2 -> libtiff[version='>=4.1.0,<5.0a0'] -> libwebp-base\n",
            "libwebp-base\n",
            "\n",
            "Package pytz conflicts for:\n",
            "pandas -> pytz[version='>=2017.2']\n",
            "pytz\n",
            "rdkit -> pandas -> pytz[version='>=2017.2']\n",
            "\n",
            "Package pycairo conflicts for:\n",
            "rdkit -> pycairo\n",
            "pycairo\n",
            "\n",
            "Package wheel conflicts for:\n",
            "wheel==0.34.2=py37_0\n",
            "pip==20.0.2=py37_3 -> wheelThe following specifications were found to be incompatible with your CUDA driver:\n",
            "\n",
            "  - feature:/linux-64::__cuda==11.1=0\n",
            "  - feature:|@/linux-64::__cuda==11.1=0\n",
            "\n",
            "Your installed CUDA driver is: 11.1\n",
            "\n",
            "\n",
            "\n",
            "real\t0m39.644s\n",
            "user\t0m45.700s\n",
            "sys\t0m7.919s\n",
            "Collecting package metadata (current_repodata.json): ...working... done\n",
            "Solving environment: ...working... done\n",
            "\n",
            "# All requested packages already installed.\n",
            "\n",
            "\n",
            "real\t0m17.933s\n",
            "user\t0m16.432s\n",
            "sys\t0m1.223s\n"
          ],
          "name": "stdout"
        }
      ]
    },
    {
      "cell_type": "code",
      "metadata": {
        "id": "NytgKB8fsayN"
      },
      "source": [
        "import numpy as np\n",
        "import pandas as pd\n",
        "import matplotlib.pyplot as plt\n",
        "from rdkit import Chem, DataStructs\n",
        "from rdkit.Chem import PandasTools, AllChem\n",
        "from sklearn.preprocessing import StandardScaler\n",
        "from sklearn.model_selection import train_test_split\n",
        "import torch\n",
        "import torch.nn as nn\n",
        "from torch.utils.data import Dataset\n",
        "from torch.optim.lr_scheduler import ReduceLROnPlateau\n",
        "import platform"
      ],
      "execution_count": 3,
      "outputs": []
    },
    {
      "cell_type": "code",
      "metadata": {
        "id": "xAk7F-ZxAjl9",
        "colab": {
          "base_uri": "https://localhost:8080/"
        },
        "outputId": "28dc2c22-db4c-49ce-d174-e76e5bc710c9"
      },
      "source": [
        "device = torch.device(\"cuda:0\" if torch.cuda.is_available() else \"cpu\")\n",
        "\n",
        "print('Python: ', platform.python_version())\n",
        "print('PyTorch: ', torch.__version__)\n",
        "if(device.type == 'cuda'):\n",
        "  print('Using GPU (cuda)')\n",
        "else:\n",
        "  print('Using CPU!')"
      ],
      "execution_count": 4,
      "outputs": [
        {
          "output_type": "stream",
          "text": [
            "Python:  3.6.9\n",
            "PyTorch:  1.7.0+cu101\n",
            "Using GPU (cuda)\n"
          ],
          "name": "stdout"
        }
      ]
    },
    {
      "cell_type": "markdown",
      "metadata": {
        "id": "XTPtjD_xxFle"
      },
      "source": [
        "# Data import & preparation"
      ]
    },
    {
      "cell_type": "code",
      "metadata": {
        "id": "62aF8THRqfIg"
      },
      "source": [
        "infile = '/content/drive/My Drive/Rostlab internship/7_PyTorch/Untokenized_dataset.tsv'\n",
        "\n",
        "with open(infile, \"r\") as file1:\n",
        "    data = pd.read_table(file1)\n",
        "\n",
        "file1.close()"
      ],
      "execution_count": 5,
      "outputs": []
    },
    {
      "cell_type": "code",
      "metadata": {
        "id": "yY_ZkI_7q9Ia"
      },
      "source": [
        "#data.head(2)"
      ],
      "execution_count": 6,
      "outputs": []
    },
    {
      "cell_type": "markdown",
      "metadata": {
        "id": "qlRkl4RMx8cp"
      },
      "source": [
        "RDKit will be used as the molecular format for MolVecGen, a package for SMILES based vectorization of molecules and we’ll start by converting the SMILES to RDKit molecular objects. The pandastools module contain a convenient function for creating a molecule column, that also makes the column work with nicely with Jupyterlab and notebooks."
      ]
    },
    {
      "cell_type": "code",
      "metadata": {
        "id": "-aXkfq1HDMEn"
      },
      "source": [
        "PandasTools.AddMoleculeColumnToFrame(data,'SMILES','Molecule')\n",
        "#data[[\"SMILES\",\"Molecule\"]].head(2)"
      ],
      "execution_count": 7,
      "outputs": []
    },
    {
      "cell_type": "code",
      "metadata": {
        "id": "MaIwF47pUePr"
      },
      "source": [
        "from rdkit.Chem.Descriptors import MolWt"
      ],
      "execution_count": 8,
      "outputs": []
    },
    {
      "cell_type": "code",
      "metadata": {
        "id": "iozGqI8sVP6O"
      },
      "source": [
        "data['molecular_weight'] = 0\n",
        "\n",
        "for row in range(len(data.index)):\n",
        "  data.iloc[row,2] = MolWt(data['Molecule'][row])"
      ],
      "execution_count": 9,
      "outputs": []
    },
    {
      "cell_type": "markdown",
      "metadata": {
        "id": "s-tIQQ1VHS_L"
      },
      "source": [
        "#Vectorizing the SMILES with data augmentation"
      ]
    },
    {
      "cell_type": "markdown",
      "metadata": {
        "id": "VJ_XlWPIDvA_"
      },
      "source": [
        "As just mentioned above, I’ll use the MolVecGen package to vectorize the SMILES. The package was originally written to work with Keras generators during training. However, generators can no longer be used in Keras, but the vectorization class that converts SMILES into one-hot encoded tensors can easily be adapted to work with PyTorch."
      ]
    },
    {
      "cell_type": "code",
      "metadata": {
        "id": "D_Aq_iK1ETtZ",
        "colab": {
          "base_uri": "https://localhost:8080/"
        },
        "outputId": "00fbd7dc-ccf1-4fab-b24d-db2ab75073dd"
      },
      "source": [
        "!pip install -q git+https://github.com/EBjerrum/molvecgen.git"
      ],
      "execution_count": 10,
      "outputs": [
        {
          "output_type": "stream",
          "text": [
            "  Building wheel for molvecgen (setup.py) ... \u001b[?25l\u001b[?25hdone\n"
          ],
          "name": "stdout"
        }
      ]
    },
    {
      "cell_type": "code",
      "metadata": {
        "id": "OGYvgI_IDt4f"
      },
      "source": [
        "from molvecgen.vectorizers import SmilesVectorizer"
      ],
      "execution_count": 11,
      "outputs": []
    },
    {
      "cell_type": "markdown",
      "metadata": {
        "id": "NMTyxz9iHaFS"
      },
      "source": [
        "The object is initialized with the generation parameters and subsequently fitted to the dataset. This analyzes the dataset for what characters it contains and the maximal length. As the augmentation can result in longer SMILES strings as well as the appearance of some additional characters, some extra padding and characters may be needed to avoid too many “?” which are unknown characters. It doesn’t appear to be a huge issue for this dataset."
      ]
    },
    {
      "cell_type": "code",
      "metadata": {
        "id": "rwLR6INBDNQ9"
      },
      "source": [
        "smivec = SmilesVectorizer(pad=1, leftpad=True, canonical=True, augment=False)\n",
        "smivec.fit(data.Molecule.values, )"
      ],
      "execution_count": 12,
      "outputs": []
    },
    {
      "cell_type": "markdown",
      "metadata": {
        "id": "6VamtMplHfAD"
      },
      "source": [
        "After fitting we can inspect the charachter set and the dimensions of the produced one-hot encoded SMILES including the padding"
      ]
    },
    {
      "cell_type": "code",
      "metadata": {
        "id": "SOSSWo2zHc3h",
        "colab": {
          "base_uri": "https://localhost:8080/"
        },
        "outputId": "b632a227-a95d-41ea-9cc0-b6ac1097b93e"
      },
      "source": [
        "print(smivec.charset)\n",
        "smivec.dims"
      ],
      "execution_count": 13,
      "outputs": [
        {
          "output_type": "stream",
          "text": [
            "S3-C1O2NnH#c4l)=P][(+^$?\n"
          ],
          "name": "stdout"
        },
        {
          "output_type": "execute_result",
          "data": {
            "text/plain": [
              "(108, 24)"
            ]
          },
          "metadata": {
            "tags": []
          },
          "execution_count": 13
        }
      ]
    },
    {
      "cell_type": "markdown",
      "metadata": {
        "id": "xz8AXo6ToIKc"
      },
      "source": [
        "^ SOL\\\n",
        "$ EOL\\\n",
        "? unknown"
      ]
    },
    {
      "cell_type": "markdown",
      "metadata": {
        "id": "sD16F8DrHor6"
      },
      "source": [
        "Before we start to manipulate the dataset with normalization it’s important to split into train, validation (development) and test sets. Scikit-learn, contains some convenient functions to split into different sets as well as normalize the target values."
      ]
    },
    {
      "cell_type": "code",
      "metadata": {
        "colab": {
          "base_uri": "https://localhost:8080/"
        },
        "id": "Zz6_Zl_OKoMA",
        "outputId": "197597d8-7b3b-4d13-9954-aa25203dc042"
      },
      "source": [
        "list(data.columns.values)"
      ],
      "execution_count": 14,
      "outputs": [
        {
          "output_type": "execute_result",
          "data": {
            "text/plain": [
              "['SMILES', 'Molecule', 'molecular_weight']"
            ]
          },
          "metadata": {
            "tags": []
          },
          "execution_count": 14
        }
      ]
    },
    {
      "cell_type": "markdown",
      "metadata": {
        "id": "BIvkOl9VMl3o"
      },
      "source": [
        "Was ist pXC50?:\\\n",
        "In addition to the conversion of published activity types/values/units to standard activity types/values/units, we have now added an additional field called pChEMBL to the Activities table. This value allows a number of roughly comparable measures of half-maximal response concentration/potency/affinity to be compared on a negative logarithmic scale. For example, an IC50 measurement of 1nM would have a pChEMBL value of 9. pChEMBL is defined as: -Log(molar IC50, XC50, EC50, AC50, Ki, Kd or Potency).\n",
        "\n",
        "pXC50 = half-maximal response potency to be compared on a negative logarithmic scale."
      ]
    },
    {
      "cell_type": "code",
      "metadata": {
        "id": "NJiQOqdhHhB7"
      },
      "source": [
        "y = data.molecular_weight.values.reshape((-1,1))\n",
        "X = data.Molecule.values\n",
        "X_train, X_test, y_train, y_test = train_test_split(X, y, test_size=0.10, random_state=42)\n",
        "X_train, X_validation, y_train, y_validation = train_test_split(X_train, y_train,  test_size=0.05, random_state=42)"
      ],
      "execution_count": 15,
      "outputs": []
    },
    {
      "cell_type": "markdown",
      "metadata": {
        "id": "RwoI9-UpHty0"
      },
      "source": [
        "PyTorch works with datasets, and we can easily integrate the vectorizer by subclassing the __getitem__ method and the __len__method. This way we can load the dataset with RDKit molecular objects and generate the tensors on the fly. This allows us to use SMILES augmentation on the fly without pre vectorizing the dataset. This is a small overhead during training, but it is convenient and allows to handle huge datasets without running out of memory."
      ]
    },
    {
      "cell_type": "code",
      "metadata": {
        "id": "-ZZv9o4N8ZGJ"
      },
      "source": [
        "#predictors = X_train[0:-1]  # erstes Element bis vorletztes\n",
        "#label = X_train[1:]        # zweites Element bis letztes\n",
        "##label = ku.to_categorical"
      ],
      "execution_count": 16,
      "outputs": []
    },
    {
      "cell_type": "code",
      "metadata": {
        "id": "F6afImKAatVS"
      },
      "source": [
        "#Normalizing output using standard scaling\n",
        "scaler = StandardScaler()\n",
        "y_train = scaler.fit_transform(y_train)\n",
        "y_test = scaler.transform(y_test)\n",
        "y_validation = scaler.transform(y_validation)"
      ],
      "execution_count": 17,
      "outputs": []
    },
    {
      "cell_type": "markdown",
      "metadata": {
        "id": "ilpVf5dnJngp"
      },
      "source": [
        "#Wrapping the SMILES vectorizer in a PyTorch dataset"
      ]
    },
    {
      "cell_type": "code",
      "metadata": {
        "id": "PCl6d03HHqft"
      },
      "source": [
        "class SMILESMolDataset(Dataset):\n",
        "    def __init__(self, molecules, y, vectorizer):\n",
        "        self.molecules = molecules\n",
        "        self.y = y\n",
        "        self.vectorizer = vectorizer\n",
        "    def __len__(self):\n",
        "        return len(self.molecules)\n",
        "    def __getitem__(self, idx):\n",
        "        if torch.is_tensor(idx):\n",
        "            idx = idx.tolist()\n",
        "             \n",
        "        mols = self.molecules[idx]\n",
        "         \n",
        "        #The vectorizer was written to work with batches, \n",
        "        #but PyTorch datasets unfortunately works with single samples\n",
        "        sample = self.vectorizer.transform([mols])[0]\n",
        "        label = self.y[idx]\n",
        "        return sample, label"
      ],
      "execution_count": 18,
      "outputs": []
    },
    {
      "cell_type": "markdown",
      "metadata": {
        "id": "OOYNuXv1H0v8"
      },
      "source": [
        "Now we can create and work with the dataset. Calling the first items returns the vector and the target value. Calling it again will most probably result in a different augmented SMILES tensor as we turned on augmentation."
      ]
    },
    {
      "cell_type": "code",
      "metadata": {
        "id": "Wp-gS_GrHyn2",
        "colab": {
          "base_uri": "https://localhost:8080/"
        },
        "outputId": "06609c23-842c-46b5-c387-2737d25a110d"
      },
      "source": [
        "train_dataset = SMILESMolDataset(X_train, y_train, smivec)\n",
        "train_dataset[0]"
      ],
      "execution_count": 19,
      "outputs": [
        {
          "output_type": "execute_result",
          "data": {
            "text/plain": [
              "(array([[0, 0, 0, ..., 0, 0, 0],\n",
              "        [0, 0, 0, ..., 0, 0, 0],\n",
              "        [0, 0, 0, ..., 0, 0, 0],\n",
              "        ...,\n",
              "        [0, 0, 0, ..., 0, 0, 0],\n",
              "        [0, 0, 0, ..., 0, 0, 0],\n",
              "        [0, 0, 0, ..., 0, 1, 0]], dtype=int8), array([-0.36134067]))"
            ]
          },
          "metadata": {
            "tags": []
          },
          "execution_count": 19
        }
      ]
    },
    {
      "cell_type": "markdown",
      "metadata": {
        "id": "mUUfeH00H9L9"
      },
      "source": [
        "The validation set will be calculated and kept fixed, it’s merely used to monitor for potential overfitting. Let’s get those arrays transfered to the GPU memory as tensors."
      ]
    },
    {
      "cell_type": "code",
      "metadata": {
        "id": "6vXaeRwzH3Uy",
        "colab": {
          "base_uri": "https://localhost:8080/"
        },
        "outputId": "cef2bdb8-c103-408f-913b-24f01c83b9ce"
      },
      "source": [
        "device = torch.device(\"cuda:0\" if torch.cuda.is_available() else \"cpu\")\n",
        "print(device)\n",
        "X_validation_t = smivec.transform(X_validation, canonical=False)\n",
        "X_validation_t = torch.tensor(X_validation_t, device=device).float()\n",
        "y_validation_t = torch.tensor(y_validation, device=device).float()\n",
        "X_validation_t.shape"
      ],
      "execution_count": 20,
      "outputs": [
        {
          "output_type": "stream",
          "text": [
            "cuda:0\n"
          ],
          "name": "stdout"
        },
        {
          "output_type": "execute_result",
          "data": {
            "text/plain": [
              "torch.Size([5, 108, 24])"
            ]
          },
          "metadata": {
            "tags": []
          },
          "execution_count": 20
        }
      ]
    },
    {
      "cell_type": "markdown",
      "metadata": {
        "id": "MDRefnfvJCJ4"
      },
      "source": [
        "#Defining the PyTorch LSTM molecular model"
      ]
    },
    {
      "cell_type": "markdown",
      "metadata": {
        "id": "lx-bTstBJ6Vf"
      },
      "source": [
        "Having the datasets and preprocessing in place it’s time for the fun part. Defining the neural network architecture. I’ve kept this really simple with just a single layer of LSTM cells and a bit of dropout for conteracting over-fitting."
      ]
    },
    {
      "cell_type": "code",
      "metadata": {
        "id": "IfJuXyGTIEC9"
      },
      "source": [
        "class Net(nn.Module):\n",
        "    def __init__(self, dimensions, lstm_size, hidden_size, dropout_rate, out_size):\n",
        "        super(Net, self).__init__()\n",
        "         \n",
        "        length = dims[0]\n",
        "        number_tokens = dims[1]\n",
        "         \n",
        "     \n",
        "        self.lstm = nn.LSTM(input_size=number_tokens, hidden_size=lstm_size, num_layers=1, batch_first=True, bidirectional=False)\n",
        "        self.fc1 = nn.Linear(lstm_size, hidden_size) # Output layer\n",
        "        self.activation = nn.ReLU() # Non-Linear ReLU Layer       \n",
        "        self.fc_out = nn.Linear(hidden_size, out_size) # Output layer\n",
        "        self.dropout = nn.Dropout(dropout_rate)\n",
        "     \n",
        "    def forward(self, x):# Forward pass: stacking each layer together\n",
        "        out, (h_n, c_n) = self.lstm(x) #LSTM network reads in one-hot-encoded SMILES, h_n is last output, out is for all timesteps\n",
        "        out = self.dropout(h_n) #Dropout\n",
        "        out = self.fc1(out) # Pass into the hidden layer\n",
        "        out = self.activation(out) # Use ReLU on hidden activation\n",
        "        out = self.dropout(out) # dropout\n",
        "        out = self.fc_out(out) # Use a linear layer for the output\n",
        "        return out\n",
        "\n",
        "    def get_hidden_state(self, x):\n",
        "        out, (h_n, c_n) = self.lstm(x)\n",
        "        return h_n, c_n          # h_n oder c_n?"
      ],
      "execution_count": 21,
      "outputs": []
    },
    {
      "cell_type": "markdown",
      "metadata": {
        "id": "4HNZlgLDJ99p"
      },
      "source": [
        "Lets define some parameters that will control the size and dropout of the network. These ideally needs to be tuned with some algorithm, but here I simply choose some parameters based on a bit of experimenting."
      ]
    },
    {
      "cell_type": "code",
      "metadata": {
        "id": "gNcIGapWJ8Dz"
      },
      "source": [
        "epochs = 50\n",
        "dims = smivec.dims\n",
        "lstm_size = 128  # The size of the LSTM layer\n",
        "hidden_size = 128  # The size of the hidden non-linear layer\n",
        "dropout_rate = 0.50 # The dropout rate\n",
        "output_size = 1        # This is just a single task, so this will be one\n",
        "batch_size = 128   # The mini_batch size during training\n",
        "learning_rate = 0.003  # The initial learning rate for the optimizer"
      ],
      "execution_count": 22,
      "outputs": []
    },
    {
      "cell_type": "code",
      "metadata": {
        "id": "NHWepAVtKCYR",
        "colab": {
          "base_uri": "https://localhost:8080/"
        },
        "outputId": "e0097f41-5e67-421e-8ec8-1f69beb148e1"
      },
      "source": [
        "model = Net(smivec, lstm_size, hidden_size, dropout_rate, output_size)\n",
        "model.cuda()"
      ],
      "execution_count": 23,
      "outputs": [
        {
          "output_type": "execute_result",
          "data": {
            "text/plain": [
              "Net(\n",
              "  (lstm): LSTM(24, 128, batch_first=True)\n",
              "  (fc1): Linear(in_features=128, out_features=128, bias=True)\n",
              "  (activation): ReLU()\n",
              "  (fc_out): Linear(in_features=128, out_features=1, bias=True)\n",
              "  (dropout): Dropout(p=0.5, inplace=False)\n",
              ")"
            ]
          },
          "metadata": {
            "tags": []
          },
          "execution_count": 23
        }
      ]
    },
    {
      "cell_type": "markdown",
      "metadata": {
        "id": "H1MyKdcnKGG4"
      },
      "source": [
        "A quick test to see that the network is working is to predict a sample from the validation set, as this is already vectorized. The output will probably not be right, but it will show that the networks tensors are at least not having technical errors in the way they are connected"
      ]
    },
    {
      "cell_type": "code",
      "metadata": {
        "id": "4R1_S0RQKDs3",
        "colab": {
          "base_uri": "https://localhost:8080/"
        },
        "outputId": "21dbb1cc-d86f-4ae2-b488-dfd0390dd112"
      },
      "source": [
        "pred = model.forward(X_validation_t[10:11])\n",
        "pred"
      ],
      "execution_count": 24,
      "outputs": [
        {
          "output_type": "execute_result",
          "data": {
            "text/plain": [
              "tensor([], device='cuda:0', size=(1, 0, 1), grad_fn=<AddBackward0>)"
            ]
          },
          "metadata": {
            "tags": []
          },
          "execution_count": 24
        }
      ]
    },
    {
      "cell_type": "markdown",
      "metadata": {
        "id": "vmGuc4nmKJuo"
      },
      "source": [
        "Mean square error is a reasonable loss function for regression tasks, and Adam will be used to optimize the weights. A learning rate scheduler will lower the loss once the validation loss stops to improve."
      ]
    },
    {
      "cell_type": "code",
      "metadata": {
        "id": "ifbSm5a3KHff"
      },
      "source": [
        "criterion = nn.MSELoss()\n",
        "optimizer = torch.optim.Adam(model.parameters(), lr=learning_rate)\n",
        "lr_scheduler = ReduceLROnPlateau(optimizer, mode='min', factor=0.5, patience=50, \n",
        "                  verbose=True, threshold=0.0001, threshold_mode='rel', cooldown=0, min_lr=1e-6, eps=1e-08)"
      ],
      "execution_count": 25,
      "outputs": []
    },
    {
      "cell_type": "markdown",
      "metadata": {
        "id": "MIO_CH7dKNs2"
      },
      "source": [
        "The train dataset will be used together with a PyTorch dataloader to provide randomly selected mini-batches for the training."
      ]
    },
    {
      "cell_type": "code",
      "metadata": {
        "id": "1--B6gW5KMF-"
      },
      "source": [
        "train_loader = torch.utils.data.DataLoader(dataset=train_dataset,\n",
        "                                          batch_size=batch_size,\n",
        "                                          shuffle=True, num_workers=4)"
      ],
      "execution_count": 26,
      "outputs": []
    },
    {
      "cell_type": "markdown",
      "metadata": {
        "id": "WFwyjpxjKRtI"
      },
      "source": [
        "A quick test of the train_loader which also provides us with some samples to work if needed for trouble shooting."
      ]
    },
    {
      "cell_type": "code",
      "metadata": {
        "id": "rPgmazGyKPdp"
      },
      "source": [
        "for smiles in train_loader:\n",
        "    break"
      ],
      "execution_count": 27,
      "outputs": []
    },
    {
      "cell_type": "markdown",
      "metadata": {
        "id": "UOfRgDPDKxPA"
      },
      "source": [
        "#Training the PyTorch SMILES based LSTM model"
      ]
    },
    {
      "cell_type": "code",
      "metadata": {
        "id": "aMhleG0PMDS0",
        "colab": {
          "base_uri": "https://localhost:8080/"
        },
        "outputId": "3912c3ea-bb93-41b9-a73e-27c5f5c797c9"
      },
      "source": [
        "#!pip install torch-nightly\n",
        "!pip install torch_nightly -f https://download.pytorch.org/whl/nightly/cu100/torch_nightly.html"
      ],
      "execution_count": 28,
      "outputs": [
        {
          "output_type": "stream",
          "text": [
            "Looking in links: https://download.pytorch.org/whl/nightly/cu100/torch_nightly.html\n",
            "Requirement already satisfied: torch_nightly in /usr/local/lib/python3.7/site-packages (1.2.0.dev20190805)\n"
          ],
          "name": "stdout"
        }
      ]
    },
    {
      "cell_type": "code",
      "metadata": {
        "id": "5iF_juJSKS-A",
        "colab": {
          "base_uri": "https://localhost:8080/"
        },
        "outputId": "0a353722-270d-404d-9b75-ecd1ff02b3a5"
      },
      "source": [
        "model.train() #Ensure the network is in \"train\" mode with dropouts active\n",
        "train_losses = []\n",
        "validation_losses = []\n",
        "for e in range(epochs):\n",
        "    running_loss = 0\n",
        "    for smiles, labels in train_loader:\n",
        "        # Push numpy to CUDA tensors \n",
        "        smiles = torch.tensor(smiles, device=device).float() #.cuda()\n",
        "        labels = torch.tensor(labels, device=device).float() #.cuda()\n",
        "        # Training pass\n",
        "        optimizer.zero_grad() # Initialize the gradients, which will be recorded during the forward pass\n",
        "         \n",
        "        output = model(smiles) #Forward pass of the mini-batch\n",
        "        loss = criterion(output, labels) #Computing the loss\n",
        "        loss.backward() # calculate the backward pass\n",
        "        torch.nn.utils.clip_grad_norm_(model.parameters(), 1)\n",
        "        optimizer.step() # Optimize the weights\n",
        "         \n",
        "        running_loss += loss.item()\n",
        "    else:\n",
        "         \n",
        "         \n",
        "        model.eval()\n",
        "        validation_loss = torch.mean(( y_validation_t - model(X_validation_t) )**2).item()\n",
        "        model.train()\n",
        "         \n",
        "        lr_scheduler.step(validation_loss)\n",
        "         \n",
        "        train_loss = running_loss/len(train_loader)\n",
        "        train_losses.append(train_loss)\n",
        "        validation_losses.append(validation_loss)\n",
        "        if (e+1)%10 == 0:\n",
        "            print(\"Epoch %i, Training loss: %0.2F Validation loss: %0.2F\"%(e + 1, train_loss, validation_loss))\n",
        "\n",
        "print(\"Training done!\")"
      ],
      "execution_count": 30,
      "outputs": [
        {
          "output_type": "stream",
          "text": [
            "/usr/local/lib/python3.6/dist-packages/ipykernel_launcher.py:8: UserWarning: To copy construct from a tensor, it is recommended to use sourceTensor.clone().detach() or sourceTensor.clone().detach().requires_grad_(True), rather than torch.tensor(sourceTensor).\n",
            "  \n",
            "/usr/local/lib/python3.6/dist-packages/ipykernel_launcher.py:9: UserWarning: To copy construct from a tensor, it is recommended to use sourceTensor.clone().detach() or sourceTensor.clone().detach().requires_grad_(True), rather than torch.tensor(sourceTensor).\n",
            "  if __name__ == '__main__':\n",
            "/usr/local/lib/python3.6/dist-packages/torch/nn/modules/loss.py:446: UserWarning: Using a target size (torch.Size([81, 1])) that is different to the input size (torch.Size([1, 81, 1])). This will likely lead to incorrect results due to broadcasting. Please ensure they have the same size.\n",
            "  return F.mse_loss(input, target, reduction=self.reduction)\n"
          ],
          "name": "stderr"
        },
        {
          "output_type": "stream",
          "text": [
            "Epoch 10, Training loss: 0.99 Validation loss: 1.56\n",
            "Epoch 20, Training loss: 0.31 Validation loss: 0.14\n",
            "Epoch 30, Training loss: 0.33 Validation loss: 1.63\n",
            "Epoch 40, Training loss: 0.34 Validation loss: 0.15\n",
            "Epoch 50, Training loss: 0.32 Validation loss: 0.05\n",
            "Training done!\n"
          ],
          "name": "stdout"
        }
      ]
    },
    {
      "cell_type": "code",
      "metadata": {
        "colab": {
          "base_uri": "https://localhost:8080/",
          "height": 167
        },
        "id": "i3uHmgk84OO5",
        "outputId": "63a2bc2d-3970-4813-8adc-0d68f63f2117"
      },
      "source": [
        "hidden"
      ],
      "execution_count": 43,
      "outputs": [
        {
          "output_type": "error",
          "ename": "NameError",
          "evalue": "ignored",
          "traceback": [
            "\u001b[0;31m---------------------------------------------------------------------------\u001b[0m",
            "\u001b[0;31mNameError\u001b[0m                                 Traceback (most recent call last)",
            "\u001b[0;32m<ipython-input-43-333610b9a795>\u001b[0m in \u001b[0;36m<module>\u001b[0;34m()\u001b[0m\n\u001b[0;32m----> 1\u001b[0;31m \u001b[0mhidden\u001b[0m\u001b[0;34m\u001b[0m\u001b[0;34m\u001b[0m\u001b[0m\n\u001b[0m",
            "\u001b[0;31mNameError\u001b[0m: name 'hidden' is not defined"
          ]
        }
      ]
    },
    {
      "cell_type": "markdown",
      "metadata": {
        "id": "kJsXyQqeNdHM"
      },
      "source": [
        "After training we can plot the training. It looks a little overfit as the validation loss is diverging and maybe rising a bit in the end. Changing the hyperparameters and retraining could work, but it can be tedious to find the excact right parameter, so a optimization library is recommended."
      ]
    },
    {
      "cell_type": "code",
      "metadata": {
        "id": "GiHPgKyeK8hS",
        "colab": {
          "base_uri": "https://localhost:8080/",
          "height": 285
        },
        "outputId": "abf6d3f7-ee10-46c3-ea0e-7ae2f36e14fd"
      },
      "source": [
        "plt.plot(train_losses, label=\"Train\")\n",
        "plt.plot(validation_losses, label=\"Validation\")\n",
        "#plt.yscale('log')\n",
        "plt.legend()"
      ],
      "execution_count": 31,
      "outputs": [
        {
          "output_type": "execute_result",
          "data": {
            "text/plain": [
              "<matplotlib.legend.Legend at 0x7f0f300a0278>"
            ]
          },
          "metadata": {
            "tags": []
          },
          "execution_count": 31
        },
        {
          "output_type": "display_data",
          "data": {
            "image/png": "[encoded data removed]",
            "text/plain": [
              "<Figure size 432x288 with 1 Axes>"
            ]
          },
          "metadata": {
            "tags": [],
            "needs_background": "light"
          }
        }
      ]
    },
    {
      "cell_type": "markdown",
      "metadata": {
        "id": "jHnslDN3NiOT"
      },
      "source": [
        "#Evaluating the performance"
      ]
    },
    {
      "cell_type": "markdown",
      "metadata": {
        "id": "10wMXE69Nk08"
      },
      "source": [
        "The model is switched into evaluation mode and some statistics are calculated in the form of root mean square error (RMSE)."
      ]
    },
    {
      "cell_type": "code",
      "metadata": {
        "id": "MFniPougNbOn",
        "colab": {
          "base_uri": "https://localhost:8080/"
        },
        "outputId": "961e34db-4ee7-4c51-b8dd-9918f877fb8d"
      },
      "source": [
        "model.eval() #Swith to evaluation mode, where dropout is switched off\n",
        "#y_pred_train = model(X_train_t)\n",
        "y_pred_validation = model(X_validation_t)\n",
        "#y_pred_test = model(X_test)\n",
        "\n",
        "torch.mean(( y_validation_t - y_pred_validation )**2).item()"
      ],
      "execution_count": 32,
      "outputs": [
        {
          "output_type": "execute_result",
          "data": {
            "text/plain": [
              "0.05049793794751167"
            ]
          },
          "metadata": {
            "tags": []
          },
          "execution_count": 32
        }
      ]
    },
    {
      "cell_type": "markdown",
      "metadata": {
        "id": "gPZY38RZNqp1"
      },
      "source": [
        "Let’s also vectorize the train and test sets and see how they perform."
      ]
    },
    {
      "cell_type": "code",
      "metadata": {
        "id": "Sxv_5kBMNohj",
        "colab": {
          "base_uri": "https://localhost:8080/"
        },
        "outputId": "a73fc2b3-1b1c-4fa8-8820-fc959a72459e"
      },
      "source": [
        "X_train_t = smivec.transform(X_train, canonical=False)\n",
        "X_train_t = torch.tensor(X_train_t, device=device).float()\n",
        "y_train_t = torch.tensor(y_train, device=device).float()\n",
        "X_test_t = smivec.transform(X_test, canonical=False)\n",
        "X_test_t = torch.tensor(X_test_t, device=device).float()\n",
        "y_test_t = torch.tensor(y_test, device=device).float()\n",
        "\n",
        "y_pred_train = model(X_train_t)\n",
        "y_pred_test = model(X_test_t)\n",
        "train_rmse = torch.mean(( y_train_t - y_pred_train )**2).item()\n",
        "test_rmse = torch.mean(( y_test_t - y_pred_test )**2).item()\n",
        "print(\"Train RMSE: %0.3F\\tTest RMSE: %0.3F\"%(train_rmse, test_rmse))"
      ],
      "execution_count": 33,
      "outputs": [
        {
          "output_type": "stream",
          "text": [
            "Train RMSE: 0.242\tTest RMSE: 0.426\n"
          ],
          "name": "stdout"
        }
      ]
    },
    {
      "cell_type": "markdown",
      "metadata": {
        "id": "OL6P_F_CNvkF"
      },
      "source": [
        "A visual plot of the predicted versus real values can also help estimate the goodnes of the fit."
      ]
    },
    {
      "cell_type": "code",
      "metadata": {
        "id": "A58-ZjW9Nsv1",
        "colab": {
          "base_uri": "https://localhost:8080/",
          "height": 282
        },
        "outputId": "deb800a9-d553-492c-b8f4-2929bbd1e679"
      },
      "source": [
        "plt.scatter(np.array(y_pred_train.tolist()).flatten(), np.array(y_train_t.tolist()).flatten(), alpha=0.1)\n",
        "plt.scatter(np.array(y_pred_validation.tolist()).flatten(), np.array(y_validation_t.tolist()).flatten(), alpha=0.5)\n",
        "plt.plot([-1.5, 1.5], [-1.5,1.5], c=\"b\")"
      ],
      "execution_count": 34,
      "outputs": [
        {
          "output_type": "execute_result",
          "data": {
            "text/plain": [
              "[<matplotlib.lines.Line2D at 0x7f0f3004aa20>]"
            ]
          },
          "metadata": {
            "tags": []
          },
          "execution_count": 34
        },
        {
          "output_type": "display_data",
          "data": {
            "image/png": "[encoded data removed]",
            "text/plain": [
              "<Figure size 432x288 with 1 Axes>"
            ]
          },
          "metadata": {
            "tags": [],
            "needs_background": "light"
          }
        }
      ]
    },
    {
      "cell_type": "markdown",
      "metadata": {
        "id": "X7_ipIEeN3GJ"
      },
      "source": [
        "**Compared** to the fingerprint feed forward network, this model seems to be slightly worse. Deep learning usually require a lot of data, and this dataset may not cut the bill in size. Alternative more tuning is needed to get the right hyperparameters for the networks, such as learning rate, dropout, networksize, etc. But reading in SMILES can be used in a lot of other interesting architectures, and this model illustrates the foundation for reading-in molecules in SMILES format for a PyTorch based artificial neural network."
      ]
    },
    {
      "cell_type": "markdown",
      "metadata": {
        "id": "7uA2i-wmnq0q"
      },
      "source": [
        "#Extract the state of the LSTM"
      ]
    },
    {
      "cell_type": "markdown",
      "metadata": {
        "id": "0ZI3QJvRnvI1"
      },
      "source": [
        "The model is already in eval mode, as this is done after training."
      ]
    },
    {
      "cell_type": "code",
      "metadata": {
        "colab": {
          "base_uri": "https://localhost:8080/"
        },
        "id": "M5mc8PzC45RQ",
        "outputId": "92bc242b-57a3-4340-eb69-2a89216c875d"
      },
      "source": [
        "model.eval()"
      ],
      "execution_count": 51,
      "outputs": [
        {
          "output_type": "execute_result",
          "data": {
            "text/plain": [
              "Net(\n",
              "  (lstm): LSTM(24, 128, batch_first=True)\n",
              "  (fc1): Linear(in_features=128, out_features=128, bias=True)\n",
              "  (activation): ReLU()\n",
              "  (fc_out): Linear(in_features=128, out_features=1, bias=True)\n",
              "  (dropout): Dropout(p=0.5, inplace=False)\n",
              ")"
            ]
          },
          "metadata": {
            "tags": []
          },
          "execution_count": 51
        }
      ]
    },
    {
      "cell_type": "code",
      "metadata": {
        "id": "qnseeA5Vv7hV"
      },
      "source": [
        "hidden_state, cell_state = model.get_hidden_state(smiles)"
      ],
      "execution_count": 44,
      "outputs": []
    },
    {
      "cell_type": "code",
      "metadata": {
        "colab": {
          "base_uri": "https://localhost:8080/"
        },
        "id": "xTKjbDtIv9pm",
        "outputId": "1abe3beb-4ab0-4522-be98-2e8dc548864a"
      },
      "source": [
        "hidden_state"
      ],
      "execution_count": 45,
      "outputs": [
        {
          "output_type": "execute_result",
          "data": {
            "text/plain": [
              "tensor([[[ 0.0183,  0.0024, -0.0494,  ...,  0.0205, -0.0667, -0.0171],\n",
              "         [-0.0245, -0.0167, -0.1111,  ...,  0.0087, -0.1354, -0.0317],\n",
              "         [-0.0279, -0.0092, -0.1307,  ...,  0.0117, -0.1148, -0.0465],\n",
              "         ...,\n",
              "         [-0.0071, -0.0039, -0.0807,  ...,  0.0151, -0.0934, -0.0330],\n",
              "         [-0.0393, -0.0050, -0.1821,  ...,  0.0010, -0.1559, -0.0641],\n",
              "         [-0.0241, -0.0106, -0.1224,  ...,  0.0114, -0.1096, -0.0647]]],\n",
              "       device='cuda:0', grad_fn=<CudnnRnnBackward>)"
            ]
          },
          "metadata": {
            "tags": []
          },
          "execution_count": 45
        }
      ]
    },
    {
      "cell_type": "code",
      "metadata": {
        "colab": {
          "base_uri": "https://localhost:8080/"
        },
        "id": "4xjqJEVo4rhp",
        "outputId": "32035e6b-0ce7-475c-d582-8cb818852339"
      },
      "source": [
        "cell_state"
      ],
      "execution_count": 46,
      "outputs": [
        {
          "output_type": "execute_result",
          "data": {
            "text/plain": [
              "tensor([[[ 0.0385,  0.0048, -0.0975,  ...,  0.0411, -0.1432, -0.0361],\n",
              "         [-0.0539, -0.0323, -0.2222,  ...,  0.0174, -0.3059, -0.0668],\n",
              "         [-0.0610, -0.0177, -0.2606,  ...,  0.0236, -0.2565, -0.0983],\n",
              "         ...,\n",
              "         [-0.0152, -0.0077, -0.1594,  ...,  0.0303, -0.2049, -0.0693],\n",
              "         [-0.0892, -0.0096, -0.3721,  ...,  0.0021, -0.3636, -0.1372],\n",
              "         [-0.0525, -0.0207, -0.2419,  ...,  0.0231, -0.2451, -0.1363]]],\n",
              "       device='cuda:0', grad_fn=<CudnnRnnBackward>)"
            ]
          },
          "metadata": {
            "tags": []
          },
          "execution_count": 46
        }
      ]
    }
  ]
}