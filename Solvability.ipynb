{
 "cells": [
  {
   "cell_type": "markdown",
   "metadata": {},
   "source": [
    "As I don't yet have found a dataset with more features, I will start to implement the script with the solvent dataset."
   ]
  },
  {
   "cell_type": "code",
   "execution_count": 1,
   "metadata": {},
   "outputs": [],
   "source": [
    "import pandas as pd\n",
    "import numpy as np\n",
    "#import rdkit\n",
    "\n",
    "%matplotlib inline"
   ]
  },
  {
   "cell_type": "markdown",
   "metadata": {},
   "source": [
    "### Loading the data"
   ]
  },
  {
   "cell_type": "code",
   "execution_count": 2,
   "metadata": {},
   "outputs": [],
   "source": [
    "dataset = pd.read_csv('../datasets/FreeSolv/SAMPL.csv')"
   ]
  },
  {
   "cell_type": "code",
   "execution_count": 3,
   "metadata": {},
   "outputs": [
    {
     "data": {
      "text/plain": [
       "pandas.core.frame.DataFrame"
      ]
     },
     "execution_count": 3,
     "metadata": {},
     "output_type": "execute_result"
    }
   ],
   "source": [
    "type(dataset)"
   ]
  },
  {
   "cell_type": "code",
   "execution_count": 4,
   "metadata": {},
   "outputs": [
    {
     "data": {
      "text/html": [
       "<div>\n",
       "<style scoped>\n",
       "    .dataframe tbody tr th:only-of-type {\n",
       "        vertical-align: middle;\n",
       "    }\n",
       "\n",
       "    .dataframe tbody tr th {\n",
       "        vertical-align: top;\n",
       "    }\n",
       "\n",
       "    .dataframe thead th {\n",
       "        text-align: right;\n",
       "    }\n",
       "</style>\n",
       "<table border=\"1\" class=\"dataframe\">\n",
       "  <thead>\n",
       "    <tr style=\"text-align: right;\">\n",
       "      <th></th>\n",
       "      <th>iupac</th>\n",
       "      <th>smiles</th>\n",
       "      <th>expt</th>\n",
       "      <th>calc</th>\n",
       "    </tr>\n",
       "  </thead>\n",
       "  <tbody>\n",
       "    <tr>\n",
       "      <th>0</th>\n",
       "      <td>4-methoxy-N,N-dimethyl-benzamide</td>\n",
       "      <td>CN(C)C(=O)c1ccc(cc1)OC</td>\n",
       "      <td>-11.01</td>\n",
       "      <td>-9.625</td>\n",
       "    </tr>\n",
       "    <tr>\n",
       "      <th>1</th>\n",
       "      <td>methanesulfonyl chloride</td>\n",
       "      <td>CS(=O)(=O)Cl</td>\n",
       "      <td>-4.87</td>\n",
       "      <td>-6.219</td>\n",
       "    </tr>\n",
       "    <tr>\n",
       "      <th>2</th>\n",
       "      <td>3-methylbut-1-ene</td>\n",
       "      <td>CC(C)C=C</td>\n",
       "      <td>1.83</td>\n",
       "      <td>2.452</td>\n",
       "    </tr>\n",
       "    <tr>\n",
       "      <th>3</th>\n",
       "      <td>2-ethylpyrazine</td>\n",
       "      <td>CCc1cnccn1</td>\n",
       "      <td>-5.45</td>\n",
       "      <td>-5.809</td>\n",
       "    </tr>\n",
       "    <tr>\n",
       "      <th>4</th>\n",
       "      <td>heptan-1-ol</td>\n",
       "      <td>CCCCCCCO</td>\n",
       "      <td>-4.21</td>\n",
       "      <td>-2.917</td>\n",
       "    </tr>\n",
       "  </tbody>\n",
       "</table>\n",
       "</div>"
      ],
      "text/plain": [
       "                              iupac                  smiles   expt   calc\n",
       "0  4-methoxy-N,N-dimethyl-benzamide  CN(C)C(=O)c1ccc(cc1)OC -11.01 -9.625\n",
       "1          methanesulfonyl chloride            CS(=O)(=O)Cl  -4.87 -6.219\n",
       "2                 3-methylbut-1-ene                CC(C)C=C   1.83  2.452\n",
       "3                   2-ethylpyrazine              CCc1cnccn1  -5.45 -5.809\n",
       "4                       heptan-1-ol                CCCCCCCO  -4.21 -2.917"
      ]
     },
     "execution_count": 4,
     "metadata": {},
     "output_type": "execute_result"
    }
   ],
   "source": [
    "dataset.head()"
   ]
  },
  {
   "cell_type": "markdown",
   "metadata": {},
   "source": [
    "### Data Exploration"
   ]
  },
  {
   "cell_type": "code",
   "execution_count": 5,
   "metadata": {},
   "outputs": [],
   "source": [
    "df = dataset.drop(columns = ['iupac'])"
   ]
  },
  {
   "cell_type": "code",
   "execution_count": 6,
   "metadata": {},
   "outputs": [
    {
     "data": {
      "text/html": [
       "<div>\n",
       "<style scoped>\n",
       "    .dataframe tbody tr th:only-of-type {\n",
       "        vertical-align: middle;\n",
       "    }\n",
       "\n",
       "    .dataframe tbody tr th {\n",
       "        vertical-align: top;\n",
       "    }\n",
       "\n",
       "    .dataframe thead th {\n",
       "        text-align: right;\n",
       "    }\n",
       "</style>\n",
       "<table border=\"1\" class=\"dataframe\">\n",
       "  <thead>\n",
       "    <tr style=\"text-align: right;\">\n",
       "      <th></th>\n",
       "      <th>expt</th>\n",
       "      <th>calc</th>\n",
       "    </tr>\n",
       "  </thead>\n",
       "  <tbody>\n",
       "    <tr>\n",
       "      <th>count</th>\n",
       "      <td>642.000000</td>\n",
       "      <td>642.000000</td>\n",
       "    </tr>\n",
       "    <tr>\n",
       "      <th>mean</th>\n",
       "      <td>-3.803006</td>\n",
       "      <td>-3.486223</td>\n",
       "    </tr>\n",
       "    <tr>\n",
       "      <th>std</th>\n",
       "      <td>3.847820</td>\n",
       "      <td>4.186301</td>\n",
       "    </tr>\n",
       "    <tr>\n",
       "      <th>min</th>\n",
       "      <td>-25.470000</td>\n",
       "      <td>-21.762000</td>\n",
       "    </tr>\n",
       "    <tr>\n",
       "      <th>25%</th>\n",
       "      <td>-5.727500</td>\n",
       "      <td>-5.421500</td>\n",
       "    </tr>\n",
       "    <tr>\n",
       "      <th>50%</th>\n",
       "      <td>-3.530000</td>\n",
       "      <td>-3.053500</td>\n",
       "    </tr>\n",
       "    <tr>\n",
       "      <th>75%</th>\n",
       "      <td>-1.215000</td>\n",
       "      <td>-0.480750</td>\n",
       "    </tr>\n",
       "    <tr>\n",
       "      <th>max</th>\n",
       "      <td>3.430000</td>\n",
       "      <td>3.335000</td>\n",
       "    </tr>\n",
       "  </tbody>\n",
       "</table>\n",
       "</div>"
      ],
      "text/plain": [
       "             expt        calc\n",
       "count  642.000000  642.000000\n",
       "mean    -3.803006   -3.486223\n",
       "std      3.847820    4.186301\n",
       "min    -25.470000  -21.762000\n",
       "25%     -5.727500   -5.421500\n",
       "50%     -3.530000   -3.053500\n",
       "75%     -1.215000   -0.480750\n",
       "max      3.430000    3.335000"
      ]
     },
     "execution_count": 6,
     "metadata": {},
     "output_type": "execute_result"
    }
   ],
   "source": [
    "df.describe()"
   ]
  },
  {
   "cell_type": "markdown",
   "metadata": {},
   "source": [
    "I'll take a small subset for now."
   ]
  },
  {
   "cell_type": "code",
   "execution_count": 7,
   "metadata": {},
   "outputs": [
    {
     "data": {
      "text/html": [
       "<div>\n",
       "<style scoped>\n",
       "    .dataframe tbody tr th:only-of-type {\n",
       "        vertical-align: middle;\n",
       "    }\n",
       "\n",
       "    .dataframe tbody tr th {\n",
       "        vertical-align: top;\n",
       "    }\n",
       "\n",
       "    .dataframe thead th {\n",
       "        text-align: right;\n",
       "    }\n",
       "</style>\n",
       "<table border=\"1\" class=\"dataframe\">\n",
       "  <thead>\n",
       "    <tr style=\"text-align: right;\">\n",
       "      <th></th>\n",
       "      <th>smiles</th>\n",
       "      <th>expt</th>\n",
       "      <th>calc</th>\n",
       "    </tr>\n",
       "  </thead>\n",
       "  <tbody>\n",
       "    <tr>\n",
       "      <th>14</th>\n",
       "      <td>c1ccc(cc1)S</td>\n",
       "      <td>-2.55</td>\n",
       "      <td>-1.501</td>\n",
       "    </tr>\n",
       "    <tr>\n",
       "      <th>45</th>\n",
       "      <td>CCCC(=O)OC</td>\n",
       "      <td>-2.83</td>\n",
       "      <td>-3.552</td>\n",
       "    </tr>\n",
       "    <tr>\n",
       "      <th>191</th>\n",
       "      <td>COP(=S)(OC)SCn1c(=O)c2ccccc2nn1</td>\n",
       "      <td>-10.03</td>\n",
       "      <td>-14.106</td>\n",
       "    </tr>\n",
       "    <tr>\n",
       "      <th>366</th>\n",
       "      <td>Cc1ccccc1N</td>\n",
       "      <td>-5.53</td>\n",
       "      <td>-5.325</td>\n",
       "    </tr>\n",
       "    <tr>\n",
       "      <th>573</th>\n",
       "      <td>CCC[C@@H](C)O</td>\n",
       "      <td>-4.39</td>\n",
       "      <td>-2.945</td>\n",
       "    </tr>\n",
       "    <tr>\n",
       "      <th>598</th>\n",
       "      <td>c1cc2ccc3cccc4c3c2c(c1)cc4</td>\n",
       "      <td>-4.52</td>\n",
       "      <td>-6.790</td>\n",
       "    </tr>\n",
       "    <tr>\n",
       "      <th>534</th>\n",
       "      <td>CCCl</td>\n",
       "      <td>-0.63</td>\n",
       "      <td>0.775</td>\n",
       "    </tr>\n",
       "    <tr>\n",
       "      <th>157</th>\n",
       "      <td>CCCCCC(=O)O</td>\n",
       "      <td>-6.21</td>\n",
       "      <td>-7.878</td>\n",
       "    </tr>\n",
       "    <tr>\n",
       "      <th>320</th>\n",
       "      <td>CCCc1ccc(c(c1)OC)O</td>\n",
       "      <td>-5.26</td>\n",
       "      <td>-4.127</td>\n",
       "    </tr>\n",
       "    <tr>\n",
       "      <th>262</th>\n",
       "      <td>COC(OC)OC</td>\n",
       "      <td>-4.42</td>\n",
       "      <td>-4.625</td>\n",
       "    </tr>\n",
       "    <tr>\n",
       "      <th>629</th>\n",
       "      <td>C[C@H](C(F)(F)F)O</td>\n",
       "      <td>-4.20</td>\n",
       "      <td>-3.486</td>\n",
       "    </tr>\n",
       "    <tr>\n",
       "      <th>392</th>\n",
       "      <td>CC(=O)C1CC1</td>\n",
       "      <td>-4.61</td>\n",
       "      <td>-3.043</td>\n",
       "    </tr>\n",
       "    <tr>\n",
       "      <th>99</th>\n",
       "      <td>CCOP(=O)(OCC)O/C(=C/Cl)/c1ccc(cc1Cl)Cl</td>\n",
       "      <td>-7.07</td>\n",
       "      <td>-9.029</td>\n",
       "    </tr>\n",
       "    <tr>\n",
       "      <th>627</th>\n",
       "      <td>COc1ccccc1O</td>\n",
       "      <td>-5.94</td>\n",
       "      <td>-4.746</td>\n",
       "    </tr>\n",
       "    <tr>\n",
       "      <th>569</th>\n",
       "      <td>CCCCCCN</td>\n",
       "      <td>-3.95</td>\n",
       "      <td>-2.772</td>\n",
       "    </tr>\n",
       "    <tr>\n",
       "      <th>468</th>\n",
       "      <td>CCCCOC(=O)C</td>\n",
       "      <td>-2.64</td>\n",
       "      <td>-3.406</td>\n",
       "    </tr>\n",
       "    <tr>\n",
       "      <th>347</th>\n",
       "      <td>C1CCC(=O)CC1</td>\n",
       "      <td>-4.91</td>\n",
       "      <td>-4.180</td>\n",
       "    </tr>\n",
       "    <tr>\n",
       "      <th>464</th>\n",
       "      <td>COc1ccccc1N</td>\n",
       "      <td>-6.12</td>\n",
       "      <td>-6.771</td>\n",
       "    </tr>\n",
       "    <tr>\n",
       "      <th>375</th>\n",
       "      <td>COCC(OC)(OC)OC</td>\n",
       "      <td>-5.73</td>\n",
       "      <td>-5.436</td>\n",
       "    </tr>\n",
       "    <tr>\n",
       "      <th>297</th>\n",
       "      <td>CCOC(=O)c1ccc(cc1)O</td>\n",
       "      <td>-9.20</td>\n",
       "      <td>-9.535</td>\n",
       "    </tr>\n",
       "  </tbody>\n",
       "</table>\n",
       "</div>"
      ],
      "text/plain": [
       "                                     smiles   expt    calc\n",
       "14                              c1ccc(cc1)S  -2.55  -1.501\n",
       "45                               CCCC(=O)OC  -2.83  -3.552\n",
       "191         COP(=S)(OC)SCn1c(=O)c2ccccc2nn1 -10.03 -14.106\n",
       "366                              Cc1ccccc1N  -5.53  -5.325\n",
       "573                           CCC[C@@H](C)O  -4.39  -2.945\n",
       "598              c1cc2ccc3cccc4c3c2c(c1)cc4  -4.52  -6.790\n",
       "534                                    CCCl  -0.63   0.775\n",
       "157                             CCCCCC(=O)O  -6.21  -7.878\n",
       "320                      CCCc1ccc(c(c1)OC)O  -5.26  -4.127\n",
       "262                               COC(OC)OC  -4.42  -4.625\n",
       "629                       C[C@H](C(F)(F)F)O  -4.20  -3.486\n",
       "392                             CC(=O)C1CC1  -4.61  -3.043\n",
       "99   CCOP(=O)(OCC)O/C(=C/Cl)/c1ccc(cc1Cl)Cl  -7.07  -9.029\n",
       "627                             COc1ccccc1O  -5.94  -4.746\n",
       "569                                 CCCCCCN  -3.95  -2.772\n",
       "468                             CCCCOC(=O)C  -2.64  -3.406\n",
       "347                            C1CCC(=O)CC1  -4.91  -4.180\n",
       "464                             COc1ccccc1N  -6.12  -6.771\n",
       "375                          COCC(OC)(OC)OC  -5.73  -5.436\n",
       "297                     CCOC(=O)c1ccc(cc1)O  -9.20  -9.535"
      ]
     },
     "execution_count": 7,
     "metadata": {},
     "output_type": "execute_result"
    }
   ],
   "source": [
    "df = df.sample(n = 20)\n",
    "df"
   ]
  },
  {
   "cell_type": "markdown",
   "metadata": {},
   "source": [
    "## Transform SMILES to Fingerprints"
   ]
  },
  {
   "cell_type": "markdown",
   "metadata": {},
   "source": [
    "Still to answer: Are these SMILES canonical or not?\n",
    "I would love to transform the SMILES to [Extended Connectivity Fingerprints (ECFPs)](https://docs.chemaxon.com/display/docs/Extended+Connectivity+Fingerprint+ECFP). However, I can't find a way to do that so far. The methods I find are either terminal (I assume, but don't know for sure) or in Java. (ECFP = Morgan fingerprint)\n",
    "\n",
    "But I found a way for [Morgan fingerprints](http://www.rdkit.org/docs/GettingStartedInPython.html). [Here's](http://bigchem.eu/sites/default/files/Martin_Vogt_algorithms_in_cheminformatics_150519.pdf) how Morgan Fingerprints (\"circular Fingerprints\") work.\n",
    "Nevermind.\n",
    "\n",
    "My next try: creating Rdkit fingerprints. [This blog](https://iwatobipen.wordpress.com/2019/02/08/convert-fingerprint-to-numpy-array-and-conver-numpy-array-to-fingerprint-rdkit-memorandum/) is superb."
   ]
  },
  {
   "cell_type": "markdown",
   "metadata": {},
   "source": [
    "there is [MolFromSmiles](https://www.rdkit.org/docs/source/rdkit.Chem.rdmolfiles.html) -> Construct a molecule from a SMILES string\n",
    "\n",
    "[FingerprintsfromSmiles](https://www.rdkit.org/docs/source/rdkit.Chem.Fingerprints.FingerprintMols.html)"
   ]
  },
  {
   "cell_type": "code",
   "execution_count": 8,
   "metadata": {},
   "outputs": [],
   "source": [
    "#from rdkit.Chem.Fingerprints import FingerprintMol\n",
    "#from rdkit import Chem\n",
    "#from rdkit.Chem import Fingerprints\n",
    "\n",
    "import rdkit.Chem.Fingerprints.FingerprintMols as fp_from_smiles"
   ]
  },
  {
   "cell_type": "code",
   "execution_count": 25,
   "metadata": {},
   "outputs": [],
   "source": [
    "df['id'] = range(len(df))    # the function requires an id column\n",
    "#df['id'] = pd.to_numeric(range(len(df)))   no."
   ]
  },
  {
   "cell_type": "code",
   "execution_count": 36,
   "metadata": {},
   "outputs": [
    {
     "ename": "TypeError",
     "evalue": "string indices must be integers",
     "output_type": "error",
     "traceback": [
      "\u001b[0;31m---------------------------------------------------------------------------\u001b[0m",
      "\u001b[0;31mTypeError\u001b[0m                                 Traceback (most recent call last)",
      "\u001b[0;32m<ipython-input-36-df6c5a119135>\u001b[0m in \u001b[0;36m<module>\u001b[0;34m\u001b[0m\n\u001b[0;32m----> 1\u001b[0;31m \u001b[0mmy_fingerprints\u001b[0m \u001b[0;34m=\u001b[0m \u001b[0mfp_from_smiles\u001b[0m\u001b[0;34m.\u001b[0m\u001b[0mFingerprintsFromSmiles\u001b[0m\u001b[0;34m(\u001b[0m\u001b[0mdataSource\u001b[0m\u001b[0;34m=\u001b[0m\u001b[0mdf\u001b[0m\u001b[0;34m,\u001b[0m \u001b[0midCol\u001b[0m\u001b[0;34m=\u001b[0m\u001b[0;34m'id'\u001b[0m\u001b[0;34m,\u001b[0m \u001b[0msmiCol\u001b[0m\u001b[0;34m=\u001b[0m\u001b[0;34m'smiles'\u001b[0m\u001b[0;34m)\u001b[0m\u001b[0;34m\u001b[0m\u001b[0;34m\u001b[0m\u001b[0m\n\u001b[0m\u001b[1;32m      2\u001b[0m \u001b[0;31m#my_fingerprints = fp_from_smiles.FingerprintsFromSmiles(dataSource=df, idCol=df.index, smiCol='smiles')\u001b[0m\u001b[0;34m\u001b[0m\u001b[0;34m\u001b[0m\u001b[0;34m\u001b[0m\u001b[0m\n",
      "\u001b[0;32m~/anaconda3/envs/wonderland/lib/python3.6/site-packages/rdkit/Chem/Fingerprints/FingerprintMols.py\u001b[0m in \u001b[0;36mFingerprintsFromSmiles\u001b[0;34m(dataSource, idCol, smiCol, fingerprinter, reportFreq, maxMols, **fpArgs)\u001b[0m\n\u001b[1;32m     86\u001b[0m   \u001b[0mnDone\u001b[0m \u001b[0;34m=\u001b[0m \u001b[0;36m0\u001b[0m\u001b[0;34m\u001b[0m\u001b[0;34m\u001b[0m\u001b[0m\n\u001b[1;32m     87\u001b[0m   \u001b[0;32mfor\u001b[0m \u001b[0mentry\u001b[0m \u001b[0;32min\u001b[0m \u001b[0mdataSource\u001b[0m\u001b[0;34m:\u001b[0m\u001b[0;34m\u001b[0m\u001b[0;34m\u001b[0m\u001b[0m\n\u001b[0;32m---> 88\u001b[0;31m     \u001b[0mID\u001b[0m\u001b[0;34m,\u001b[0m \u001b[0msmi\u001b[0m \u001b[0;34m=\u001b[0m \u001b[0mstr\u001b[0m\u001b[0;34m(\u001b[0m\u001b[0mentry\u001b[0m\u001b[0;34m[\u001b[0m\u001b[0midCol\u001b[0m\u001b[0;34m]\u001b[0m\u001b[0;34m)\u001b[0m\u001b[0;34m,\u001b[0m \u001b[0mstr\u001b[0m\u001b[0;34m(\u001b[0m\u001b[0mentry\u001b[0m\u001b[0;34m[\u001b[0m\u001b[0msmiCol\u001b[0m\u001b[0;34m]\u001b[0m\u001b[0;34m)\u001b[0m\u001b[0;34m\u001b[0m\u001b[0;34m\u001b[0m\u001b[0m\n\u001b[0m\u001b[1;32m     89\u001b[0m     \u001b[0mmol\u001b[0m \u001b[0;34m=\u001b[0m \u001b[0mChem\u001b[0m\u001b[0;34m.\u001b[0m\u001b[0mMolFromSmiles\u001b[0m\u001b[0;34m(\u001b[0m\u001b[0msmi\u001b[0m\u001b[0;34m)\u001b[0m\u001b[0;34m\u001b[0m\u001b[0;34m\u001b[0m\u001b[0m\n\u001b[1;32m     90\u001b[0m     \u001b[0;32mif\u001b[0m \u001b[0mmol\u001b[0m \u001b[0;32mis\u001b[0m \u001b[0;32mnot\u001b[0m \u001b[0;32mNone\u001b[0m\u001b[0;34m:\u001b[0m\u001b[0;34m\u001b[0m\u001b[0;34m\u001b[0m\u001b[0m\n",
      "\u001b[0;31mTypeError\u001b[0m: string indices must be integers"
     ]
    }
   ],
   "source": [
    "my_fingerprints = fp_from_smiles.FingerprintsFromSmiles(dataSource=df, idCol='id', smiCol='smiles')\n",
    "#my_fingerprints = fp_from_smiles.FingerprintsFromSmiles(dataSource=df, idCol=df.index, smiCol='smiles')"
   ]
  },
  {
   "cell_type": "markdown",
   "metadata": {},
   "source": [
    "arguments:    dataSource, idCol, smiCol, fingerprinter=<Boost.Python.function object>, reportFreq=10, maxMols=-1, \\**fpArgs\n",
    "\n",
    "fpArgs are passed as keyword arguments to the fingerprinter\\\n",
    "Returns a list of 2-tuples: (ID,fp)\n"
   ]
  },
  {
   "cell_type": "markdown",
   "metadata": {},
   "source": [
    "## Generate a umap of the fingerprints"
   ]
  },
  {
   "cell_type": "markdown",
   "metadata": {},
   "source": [
    "https://pypi.org/project/umap-learn/\n",
    "\n",
    "https://umap-learn.readthedocs.io/en/latest/basic_usage.html\n",
    "\n",
    "I need more physiochemical properties of course.."
   ]
  },
  {
   "cell_type": "code",
   "execution_count": 32,
   "metadata": {},
   "outputs": [
    {
     "data": {
      "text/plain": [
       "Int64Index([ 14,  45, 191, 366, 573, 598, 534, 157, 320, 262, 629, 392,  99,\n",
       "            627, 569, 468, 347, 464, 375, 297],\n",
       "           dtype='int64')"
      ]
     },
     "execution_count": 32,
     "metadata": {},
     "output_type": "execute_result"
    }
   ],
   "source": [
    "df.index"
   ]
  },
  {
   "cell_type": "code",
   "execution_count": null,
   "metadata": {},
   "outputs": [],
   "source": []
  }
 ],
 "metadata": {
  "kernelspec": {
   "display_name": "Python 3",
   "language": "python",
   "name": "python3"
  },
  "language_info": {
   "codemirror_mode": {
    "name": "ipython",
    "version": 3
   },
   "file_extension": ".py",
   "mimetype": "text/x-python",
   "name": "python",
   "nbconvert_exporter": "python",
   "pygments_lexer": "ipython3",
   "version": "3.6.10"
  }
 },
 "nbformat": 4,
 "nbformat_minor": 4
}
