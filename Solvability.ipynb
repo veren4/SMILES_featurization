{
 "cells": [
  {
   "cell_type": "markdown",
   "metadata": {},
   "source": [
    "As I don't yet have found a dataset with more features, I will start to implement the script with the solvent dataset."
   ]
  },
  {
   "cell_type": "code",
   "execution_count": 1,
   "metadata": {},
   "outputs": [],
   "source": [
    "import pandas as pd\n",
    "import numpy as np\n",
    "#import rdkit\n",
    "\n",
    "%matplotlib inline"
   ]
  },
  {
   "cell_type": "markdown",
   "metadata": {},
   "source": [
    "### Loading the data"
   ]
  },
  {
   "cell_type": "code",
   "execution_count": 2,
   "metadata": {},
   "outputs": [],
   "source": [
    "dataset = pd.read_csv('../datasets/FreeSolv/SAMPL.csv')"
   ]
  },
  {
   "cell_type": "code",
   "execution_count": 3,
   "metadata": {},
   "outputs": [
    {
     "data": {
      "text/plain": [
       "pandas.core.frame.DataFrame"
      ]
     },
     "execution_count": 3,
     "metadata": {},
     "output_type": "execute_result"
    }
   ],
   "source": [
    "type(dataset)"
   ]
  },
  {
   "cell_type": "code",
   "execution_count": 4,
   "metadata": {},
   "outputs": [
    {
     "data": {
      "text/html": [
       "<div>\n",
       "<style scoped>\n",
       "    .dataframe tbody tr th:only-of-type {\n",
       "        vertical-align: middle;\n",
       "    }\n",
       "\n",
       "    .dataframe tbody tr th {\n",
       "        vertical-align: top;\n",
       "    }\n",
       "\n",
       "    .dataframe thead th {\n",
       "        text-align: right;\n",
       "    }\n",
       "</style>\n",
       "<table border=\"1\" class=\"dataframe\">\n",
       "  <thead>\n",
       "    <tr style=\"text-align: right;\">\n",
       "      <th></th>\n",
       "      <th>iupac</th>\n",
       "      <th>smiles</th>\n",
       "      <th>expt</th>\n",
       "      <th>calc</th>\n",
       "    </tr>\n",
       "  </thead>\n",
       "  <tbody>\n",
       "    <tr>\n",
       "      <th>0</th>\n",
       "      <td>4-methoxy-N,N-dimethyl-benzamide</td>\n",
       "      <td>CN(C)C(=O)c1ccc(cc1)OC</td>\n",
       "      <td>-11.01</td>\n",
       "      <td>-9.625</td>\n",
       "    </tr>\n",
       "    <tr>\n",
       "      <th>1</th>\n",
       "      <td>methanesulfonyl chloride</td>\n",
       "      <td>CS(=O)(=O)Cl</td>\n",
       "      <td>-4.87</td>\n",
       "      <td>-6.219</td>\n",
       "    </tr>\n",
       "    <tr>\n",
       "      <th>2</th>\n",
       "      <td>3-methylbut-1-ene</td>\n",
       "      <td>CC(C)C=C</td>\n",
       "      <td>1.83</td>\n",
       "      <td>2.452</td>\n",
       "    </tr>\n",
       "    <tr>\n",
       "      <th>3</th>\n",
       "      <td>2-ethylpyrazine</td>\n",
       "      <td>CCc1cnccn1</td>\n",
       "      <td>-5.45</td>\n",
       "      <td>-5.809</td>\n",
       "    </tr>\n",
       "    <tr>\n",
       "      <th>4</th>\n",
       "      <td>heptan-1-ol</td>\n",
       "      <td>CCCCCCCO</td>\n",
       "      <td>-4.21</td>\n",
       "      <td>-2.917</td>\n",
       "    </tr>\n",
       "  </tbody>\n",
       "</table>\n",
       "</div>"
      ],
      "text/plain": [
       "                              iupac                  smiles   expt   calc\n",
       "0  4-methoxy-N,N-dimethyl-benzamide  CN(C)C(=O)c1ccc(cc1)OC -11.01 -9.625\n",
       "1          methanesulfonyl chloride            CS(=O)(=O)Cl  -4.87 -6.219\n",
       "2                 3-methylbut-1-ene                CC(C)C=C   1.83  2.452\n",
       "3                   2-ethylpyrazine              CCc1cnccn1  -5.45 -5.809\n",
       "4                       heptan-1-ol                CCCCCCCO  -4.21 -2.917"
      ]
     },
     "execution_count": 4,
     "metadata": {},
     "output_type": "execute_result"
    }
   ],
   "source": [
    "dataset.head()"
   ]
  },
  {
   "cell_type": "markdown",
   "metadata": {},
   "source": [
    "### Data Exploration"
   ]
  },
  {
   "cell_type": "code",
   "execution_count": 5,
   "metadata": {},
   "outputs": [],
   "source": [
    "df = dataset.drop(columns = ['iupac'])"
   ]
  },
  {
   "cell_type": "code",
   "execution_count": 6,
   "metadata": {},
   "outputs": [
    {
     "data": {
      "text/html": [
       "<div>\n",
       "<style scoped>\n",
       "    .dataframe tbody tr th:only-of-type {\n",
       "        vertical-align: middle;\n",
       "    }\n",
       "\n",
       "    .dataframe tbody tr th {\n",
       "        vertical-align: top;\n",
       "    }\n",
       "\n",
       "    .dataframe thead th {\n",
       "        text-align: right;\n",
       "    }\n",
       "</style>\n",
       "<table border=\"1\" class=\"dataframe\">\n",
       "  <thead>\n",
       "    <tr style=\"text-align: right;\">\n",
       "      <th></th>\n",
       "      <th>expt</th>\n",
       "      <th>calc</th>\n",
       "    </tr>\n",
       "  </thead>\n",
       "  <tbody>\n",
       "    <tr>\n",
       "      <th>count</th>\n",
       "      <td>642.000000</td>\n",
       "      <td>642.000000</td>\n",
       "    </tr>\n",
       "    <tr>\n",
       "      <th>mean</th>\n",
       "      <td>-3.803006</td>\n",
       "      <td>-3.486223</td>\n",
       "    </tr>\n",
       "    <tr>\n",
       "      <th>std</th>\n",
       "      <td>3.847820</td>\n",
       "      <td>4.186301</td>\n",
       "    </tr>\n",
       "    <tr>\n",
       "      <th>min</th>\n",
       "      <td>-25.470000</td>\n",
       "      <td>-21.762000</td>\n",
       "    </tr>\n",
       "    <tr>\n",
       "      <th>25%</th>\n",
       "      <td>-5.727500</td>\n",
       "      <td>-5.421500</td>\n",
       "    </tr>\n",
       "    <tr>\n",
       "      <th>50%</th>\n",
       "      <td>-3.530000</td>\n",
       "      <td>-3.053500</td>\n",
       "    </tr>\n",
       "    <tr>\n",
       "      <th>75%</th>\n",
       "      <td>-1.215000</td>\n",
       "      <td>-0.480750</td>\n",
       "    </tr>\n",
       "    <tr>\n",
       "      <th>max</th>\n",
       "      <td>3.430000</td>\n",
       "      <td>3.335000</td>\n",
       "    </tr>\n",
       "  </tbody>\n",
       "</table>\n",
       "</div>"
      ],
      "text/plain": [
       "             expt        calc\n",
       "count  642.000000  642.000000\n",
       "mean    -3.803006   -3.486223\n",
       "std      3.847820    4.186301\n",
       "min    -25.470000  -21.762000\n",
       "25%     -5.727500   -5.421500\n",
       "50%     -3.530000   -3.053500\n",
       "75%     -1.215000   -0.480750\n",
       "max      3.430000    3.335000"
      ]
     },
     "execution_count": 6,
     "metadata": {},
     "output_type": "execute_result"
    }
   ],
   "source": [
    "df.describe()"
   ]
  },
  {
   "cell_type": "markdown",
   "metadata": {},
   "source": [
    "I'll take a small subset for now."
   ]
  },
  {
   "cell_type": "code",
   "execution_count": 7,
   "metadata": {},
   "outputs": [
    {
     "data": {
      "text/html": [
       "<div>\n",
       "<style scoped>\n",
       "    .dataframe tbody tr th:only-of-type {\n",
       "        vertical-align: middle;\n",
       "    }\n",
       "\n",
       "    .dataframe tbody tr th {\n",
       "        vertical-align: top;\n",
       "    }\n",
       "\n",
       "    .dataframe thead th {\n",
       "        text-align: right;\n",
       "    }\n",
       "</style>\n",
       "<table border=\"1\" class=\"dataframe\">\n",
       "  <thead>\n",
       "    <tr style=\"text-align: right;\">\n",
       "      <th></th>\n",
       "      <th>smiles</th>\n",
       "      <th>expt</th>\n",
       "      <th>calc</th>\n",
       "    </tr>\n",
       "  </thead>\n",
       "  <tbody>\n",
       "    <tr>\n",
       "      <th>309</th>\n",
       "      <td>c1cc(cnc1)C=O</td>\n",
       "      <td>-7.10</td>\n",
       "      <td>-7.425</td>\n",
       "    </tr>\n",
       "    <tr>\n",
       "      <th>278</th>\n",
       "      <td>C(F)(F)Cl</td>\n",
       "      <td>-0.50</td>\n",
       "      <td>-0.067</td>\n",
       "    </tr>\n",
       "    <tr>\n",
       "      <th>212</th>\n",
       "      <td>c1c(c(=O)[nH]c(=O)[nH]1)I</td>\n",
       "      <td>-18.72</td>\n",
       "      <td>-17.742</td>\n",
       "    </tr>\n",
       "    <tr>\n",
       "      <th>538</th>\n",
       "      <td>c1cc(cc(c1)Cl)O</td>\n",
       "      <td>-6.62</td>\n",
       "      <td>-5.018</td>\n",
       "    </tr>\n",
       "    <tr>\n",
       "      <th>335</th>\n",
       "      <td>COc1ccccc1</td>\n",
       "      <td>-2.45</td>\n",
       "      <td>-2.318</td>\n",
       "    </tr>\n",
       "    <tr>\n",
       "      <th>4</th>\n",
       "      <td>CCCCCCCO</td>\n",
       "      <td>-4.21</td>\n",
       "      <td>-2.917</td>\n",
       "    </tr>\n",
       "    <tr>\n",
       "      <th>368</th>\n",
       "      <td>CCCCCCCCCO</td>\n",
       "      <td>-3.88</td>\n",
       "      <td>-2.564</td>\n",
       "    </tr>\n",
       "    <tr>\n",
       "      <th>181</th>\n",
       "      <td>CN(C)c1ccccc1</td>\n",
       "      <td>-3.45</td>\n",
       "      <td>-4.426</td>\n",
       "    </tr>\n",
       "    <tr>\n",
       "      <th>10</th>\n",
       "      <td>C(Br)Br</td>\n",
       "      <td>-1.96</td>\n",
       "      <td>-0.405</td>\n",
       "    </tr>\n",
       "    <tr>\n",
       "      <th>223</th>\n",
       "      <td>CCC(=O)CC</td>\n",
       "      <td>-3.41</td>\n",
       "      <td>-3.050</td>\n",
       "    </tr>\n",
       "    <tr>\n",
       "      <th>622</th>\n",
       "      <td>CCCC#C</td>\n",
       "      <td>0.01</td>\n",
       "      <td>0.470</td>\n",
       "    </tr>\n",
       "    <tr>\n",
       "      <th>567</th>\n",
       "      <td>CC1=CC(=O)[C@@H](CC1)C(C)C</td>\n",
       "      <td>-4.51</td>\n",
       "      <td>-3.825</td>\n",
       "    </tr>\n",
       "    <tr>\n",
       "      <th>521</th>\n",
       "      <td>CCCCCC=O</td>\n",
       "      <td>-2.81</td>\n",
       "      <td>-2.860</td>\n",
       "    </tr>\n",
       "    <tr>\n",
       "      <th>246</th>\n",
       "      <td>c1ccc2c(c1)C(=O)c3c(ccc(c3C2=O)O)N</td>\n",
       "      <td>-9.53</td>\n",
       "      <td>-10.984</td>\n",
       "    </tr>\n",
       "    <tr>\n",
       "      <th>273</th>\n",
       "      <td>CCCCNCCCC</td>\n",
       "      <td>-3.24</td>\n",
       "      <td>-2.076</td>\n",
       "    </tr>\n",
       "    <tr>\n",
       "      <th>409</th>\n",
       "      <td>C[C@@H](c1cccc(c1)C(=O)c2ccccc2)C(=O)O</td>\n",
       "      <td>-10.78</td>\n",
       "      <td>-17.242</td>\n",
       "    </tr>\n",
       "    <tr>\n",
       "      <th>236</th>\n",
       "      <td>C[C@H]1CCCO1</td>\n",
       "      <td>-3.30</td>\n",
       "      <td>-1.984</td>\n",
       "    </tr>\n",
       "    <tr>\n",
       "      <th>192</th>\n",
       "      <td>c1ccc2c(c1)Oc3c(cc(c(c3O2)Cl)Cl)Cl</td>\n",
       "      <td>-4.05</td>\n",
       "      <td>-3.160</td>\n",
       "    </tr>\n",
       "    <tr>\n",
       "      <th>77</th>\n",
       "      <td>c1ccc2c(c1)Cc3ccccc3C2</td>\n",
       "      <td>-3.78</td>\n",
       "      <td>-4.304</td>\n",
       "    </tr>\n",
       "    <tr>\n",
       "      <th>638</th>\n",
       "      <td>C1CCNC1</td>\n",
       "      <td>-5.48</td>\n",
       "      <td>-4.278</td>\n",
       "    </tr>\n",
       "  </tbody>\n",
       "</table>\n",
       "</div>"
      ],
      "text/plain": [
       "                                     smiles   expt    calc\n",
       "309                           c1cc(cnc1)C=O  -7.10  -7.425\n",
       "278                               C(F)(F)Cl  -0.50  -0.067\n",
       "212               c1c(c(=O)[nH]c(=O)[nH]1)I -18.72 -17.742\n",
       "538                         c1cc(cc(c1)Cl)O  -6.62  -5.018\n",
       "335                              COc1ccccc1  -2.45  -2.318\n",
       "4                                  CCCCCCCO  -4.21  -2.917\n",
       "368                              CCCCCCCCCO  -3.88  -2.564\n",
       "181                           CN(C)c1ccccc1  -3.45  -4.426\n",
       "10                                  C(Br)Br  -1.96  -0.405\n",
       "223                               CCC(=O)CC  -3.41  -3.050\n",
       "622                                  CCCC#C   0.01   0.470\n",
       "567              CC1=CC(=O)[C@@H](CC1)C(C)C  -4.51  -3.825\n",
       "521                                CCCCCC=O  -2.81  -2.860\n",
       "246      c1ccc2c(c1)C(=O)c3c(ccc(c3C2=O)O)N  -9.53 -10.984\n",
       "273                               CCCCNCCCC  -3.24  -2.076\n",
       "409  C[C@@H](c1cccc(c1)C(=O)c2ccccc2)C(=O)O -10.78 -17.242\n",
       "236                            C[C@H]1CCCO1  -3.30  -1.984\n",
       "192      c1ccc2c(c1)Oc3c(cc(c(c3O2)Cl)Cl)Cl  -4.05  -3.160\n",
       "77                   c1ccc2c(c1)Cc3ccccc3C2  -3.78  -4.304\n",
       "638                                 C1CCNC1  -5.48  -4.278"
      ]
     },
     "execution_count": 7,
     "metadata": {},
     "output_type": "execute_result"
    }
   ],
   "source": [
    "df = df.sample(n = 20)\n",
    "df"
   ]
  },
  {
   "cell_type": "markdown",
   "metadata": {},
   "source": [
    "## Transform SMILES to Fingerprints"
   ]
  },
  {
   "cell_type": "markdown",
   "metadata": {},
   "source": [
    "Still to answer: Are these SMILES canonical or not?\n",
    "I would love to transform the SMILES to [Extended Connectivity Fingerprints (ECFPs)](https://docs.chemaxon.com/display/docs/Extended+Connectivity+Fingerprint+ECFP). However, I can't find a way to do that so far. The methods I find are either terminal (I assume, but don't know for sure) or in Java. (ECFP = Morgan fingerprint)\n",
    "\n",
    "But I found a way for [Morgan fingerprints](http://www.rdkit.org/docs/GettingStartedInPython.html). [Here's](http://bigchem.eu/sites/default/files/Martin_Vogt_algorithms_in_cheminformatics_150519.pdf) how Morgan Fingerprints (\"circular Fingerprints\") work.\n",
    "Nevermind.\n",
    "\n",
    "My next try: creating Rdkit fingerprints. [This blog](https://iwatobipen.wordpress.com/2019/02/08/convert-fingerprint-to-numpy-array-and-conver-numpy-array-to-fingerprint-rdkit-memorandum/) is superb."
   ]
  },
  {
   "cell_type": "markdown",
   "metadata": {},
   "source": [
    "there is [MolFromSmiles](https://www.rdkit.org/docs/source/rdkit.Chem.rdmolfiles.html) -> Construct a molecule from a SMILES string\n",
    "\n",
    "[FingerprintsfromSmiles](https://www.rdkit.org/docs/source/rdkit.Chem.Fingerprints.FingerprintMols.html)"
   ]
  },
  {
   "cell_type": "code",
   "execution_count": 8,
   "metadata": {},
   "outputs": [],
   "source": [
    "#from rdkit.Chem.Fingerprints import FingerprintMol\n",
    "#from rdkit import Chem\n",
    "#from rdkit.Chem import Fingerprints\n",
    "\n",
    "import rdkit.Chem.Fingerprints.FingerprintMols as fp_from_smiles"
   ]
  },
  {
   "cell_type": "code",
   "execution_count": 9,
   "metadata": {},
   "outputs": [],
   "source": [
    "df['id'] = range(len(df))    # the function requires an id column\n",
    "#df['id'] = pd.to_numeric(range(len(df)))   no."
   ]
  },
  {
   "cell_type": "code",
   "execution_count": 10,
   "metadata": {},
   "outputs": [
    {
     "ename": "TypeError",
     "evalue": "string indices must be integers",
     "output_type": "error",
     "traceback": [
      "\u001b[0;31m---------------------------------------------------------------------------\u001b[0m",
      "\u001b[0;31mTypeError\u001b[0m                                 Traceback (most recent call last)",
      "\u001b[0;32m<ipython-input-10-df6c5a119135>\u001b[0m in \u001b[0;36m<module>\u001b[0;34m\u001b[0m\n\u001b[0;32m----> 1\u001b[0;31m \u001b[0mmy_fingerprints\u001b[0m \u001b[0;34m=\u001b[0m \u001b[0mfp_from_smiles\u001b[0m\u001b[0;34m.\u001b[0m\u001b[0mFingerprintsFromSmiles\u001b[0m\u001b[0;34m(\u001b[0m\u001b[0mdataSource\u001b[0m\u001b[0;34m=\u001b[0m\u001b[0mdf\u001b[0m\u001b[0;34m,\u001b[0m \u001b[0midCol\u001b[0m\u001b[0;34m=\u001b[0m\u001b[0;34m'id'\u001b[0m\u001b[0;34m,\u001b[0m \u001b[0msmiCol\u001b[0m\u001b[0;34m=\u001b[0m\u001b[0;34m'smiles'\u001b[0m\u001b[0;34m)\u001b[0m\u001b[0;34m\u001b[0m\u001b[0;34m\u001b[0m\u001b[0m\n\u001b[0m\u001b[1;32m      2\u001b[0m \u001b[0;31m#my_fingerprints = fp_from_smiles.FingerprintsFromSmiles(dataSource=df, idCol=df.index, smiCol='smiles')\u001b[0m\u001b[0;34m\u001b[0m\u001b[0;34m\u001b[0m\u001b[0;34m\u001b[0m\u001b[0m\n",
      "\u001b[0;32m~/anaconda3/envs/wonderland/lib/python3.6/site-packages/rdkit/Chem/Fingerprints/FingerprintMols.py\u001b[0m in \u001b[0;36mFingerprintsFromSmiles\u001b[0;34m(dataSource, idCol, smiCol, fingerprinter, reportFreq, maxMols, **fpArgs)\u001b[0m\n\u001b[1;32m     86\u001b[0m   \u001b[0mnDone\u001b[0m \u001b[0;34m=\u001b[0m \u001b[0;36m0\u001b[0m\u001b[0;34m\u001b[0m\u001b[0;34m\u001b[0m\u001b[0m\n\u001b[1;32m     87\u001b[0m   \u001b[0;32mfor\u001b[0m \u001b[0mentry\u001b[0m \u001b[0;32min\u001b[0m \u001b[0mdataSource\u001b[0m\u001b[0;34m:\u001b[0m\u001b[0;34m\u001b[0m\u001b[0;34m\u001b[0m\u001b[0m\n\u001b[0;32m---> 88\u001b[0;31m     \u001b[0mID\u001b[0m\u001b[0;34m,\u001b[0m \u001b[0msmi\u001b[0m \u001b[0;34m=\u001b[0m \u001b[0mstr\u001b[0m\u001b[0;34m(\u001b[0m\u001b[0mentry\u001b[0m\u001b[0;34m[\u001b[0m\u001b[0midCol\u001b[0m\u001b[0;34m]\u001b[0m\u001b[0;34m)\u001b[0m\u001b[0;34m,\u001b[0m \u001b[0mstr\u001b[0m\u001b[0;34m(\u001b[0m\u001b[0mentry\u001b[0m\u001b[0;34m[\u001b[0m\u001b[0msmiCol\u001b[0m\u001b[0;34m]\u001b[0m\u001b[0;34m)\u001b[0m\u001b[0;34m\u001b[0m\u001b[0;34m\u001b[0m\u001b[0m\n\u001b[0m\u001b[1;32m     89\u001b[0m     \u001b[0mmol\u001b[0m \u001b[0;34m=\u001b[0m \u001b[0mChem\u001b[0m\u001b[0;34m.\u001b[0m\u001b[0mMolFromSmiles\u001b[0m\u001b[0;34m(\u001b[0m\u001b[0msmi\u001b[0m\u001b[0;34m)\u001b[0m\u001b[0;34m\u001b[0m\u001b[0;34m\u001b[0m\u001b[0m\n\u001b[1;32m     90\u001b[0m     \u001b[0;32mif\u001b[0m \u001b[0mmol\u001b[0m \u001b[0;32mis\u001b[0m \u001b[0;32mnot\u001b[0m \u001b[0;32mNone\u001b[0m\u001b[0;34m:\u001b[0m\u001b[0;34m\u001b[0m\u001b[0;34m\u001b[0m\u001b[0m\n",
      "\u001b[0;31mTypeError\u001b[0m: string indices must be integers"
     ]
    }
   ],
   "source": [
    "# why does this not work?\n",
    "\n",
    "#my_fingerprints = fp_from_smiles.FingerprintsFromSmiles(dataSource=df, idCol='id', smiCol='smiles')\n",
    "# or potentially idCol=df.index"
   ]
  },
  {
   "cell_type": "markdown",
   "metadata": {},
   "source": [
    "arguments:    dataSource, idCol, smiCol, fingerprinter=<Boost.Python.function object>, reportFreq=10, maxMols=-1, \\**fpArgs\n",
    "\n",
    "fpArgs are passed as keyword arguments to the fingerprinter\\\n",
    "Returns a list of 2-tuples: (ID,fp)\n"
   ]
  },
  {
   "cell_type": "markdown",
   "metadata": {},
   "source": [
    "Another try with Topological Fingerprints (RDK fingerprints) [Explanation](http://www.rdkit.org/docs/GettingStartedInPython.html)."
   ]
  },
  {
   "cell_type": "code",
   "execution_count": 11,
   "metadata": {},
   "outputs": [],
   "source": [
    "from rdkit import DataStructs\n",
    "import rdkit.Chem as chem"
   ]
  },
  {
   "cell_type": "code",
   "execution_count": 12,
   "metadata": {},
   "outputs": [],
   "source": [
    "smiles_list = df['smiles'].tolist()\n",
    "\n",
    "mols_list = [chem.MolFromSmiles(x) for x in smiles_list]\n",
    "\n",
    "fingerprints_list = [chem.RDKFingerprint(x) for x in mols_list]"
   ]
  },
  {
   "cell_type": "code",
   "execution_count": 13,
   "metadata": {},
   "outputs": [
    {
     "data": {
      "text/plain": [
       "<rdkit.DataStructs.cDataStructs.ExplicitBitVect at 0x7f42ec3c03a0>"
      ]
     },
     "execution_count": 13,
     "metadata": {},
     "output_type": "execute_result"
    }
   ],
   "source": [
    "fingerprints_list[3]"
   ]
  },
  {
   "cell_type": "code",
   "execution_count": 14,
   "metadata": {},
   "outputs": [
    {
     "data": {
      "text/plain": [
       "'00000000000000000000100000000000000000000000000000001000000000000000000000000000000000000000000010000001000000000000000000000001000000000000000000000000000000000100000010100000000000000000000000100000000000001000000000000000000000000000000000000001000000001000001000001000000000000000000000000010000000000000000000000000000000000010000000000000000000000000000000000000000000001000000000000001000000100000000000000000000000010000000000000000000000000000000000000111100000010010000000000000000000000010000000000000000000000000000000000000000000000000000000000000000000000000000000001000000000000000000000000000100000000000100000000000000100000000000010000000000000000000000000000000000000000000000000000000000000000000000000000000000000000000000000000000000000000000000000000000000000000000000010000001000000000000000000000000000000000000110000100000010000000000000000000000000000000000000000000000000000000000000000000000010000000000000000000000000000101010000100000000000000000000000001000000000000000000000000000100000000000010000000100000000000000000000000000000000000000000000000000000000000000000000000000000000000000010000000000000000000000000000000000000001000000000000000000000000000000000000000001000000000000000000000000000100000100001000000000000000000000000000000000000000000010000000000000000000000000000000000000000000000001000001000000000000000100001000000010000000000000000000000000000100000000000000000000000000100000000000000000000000100000000000000000000000000100000000000001000000001000000000000000000000000000000000000000001000000000000000001000000000000000000000000010000000000100000000000000000000000000000000001000000000000001000000000000000000100000000100000100100000000000000000000000000000000000000000000000000000000000010000000000000000000000000000000000000100000010000000010000000000000000000000000000000000000000000000001000000000000000000000000000000000000000100000000000000000100000000010000000010000000000000000000000000000000000000000000000010000000000000000000000010000000000001000000000000000000000000000000000000'"
      ]
     },
     "execution_count": 14,
     "metadata": {},
     "output_type": "execute_result"
    }
   ],
   "source": [
    "fingerprints_list[3].ToBitString()"
   ]
  },
  {
   "cell_type": "code",
   "execution_count": 15,
   "metadata": {},
   "outputs": [
    {
     "data": {
      "text/plain": [
       "2048"
      ]
     },
     "execution_count": 15,
     "metadata": {},
     "output_type": "execute_result"
    }
   ],
   "source": [
    "len(fingerprints_list[9].ToBitString())      # fixed length: 2048 bits"
   ]
  },
  {
   "cell_type": "code",
   "execution_count": 16,
   "metadata": {},
   "outputs": [],
   "source": [
    "#for i in 0:(len(fingerprints_list)-1):\n",
    "#    fingerprints_list[i] = fingerprints_list[i].ToBitString()\n",
    "\n",
    "# So here's le UGH-LY brute force way:\n",
    "df['fingerprint'] = 1    "
   ]
  },
  {
   "cell_type": "code",
   "execution_count": 17,
   "metadata": {},
   "outputs": [],
   "source": [
    "df.iloc[0,4] = fingerprints_list[0].ToBitString()\n",
    "df.iloc[1,4] = fingerprints_list[1].ToBitString()\n",
    "df.iloc[2,4] = fingerprints_list[2].ToBitString()\n",
    "df.iloc[3,4] = fingerprints_list[3].ToBitString()\n",
    "df.iloc[4,4] = fingerprints_list[4].ToBitString()\n",
    "df.iloc[5,4] = fingerprints_list[5].ToBitString()\n",
    "df.iloc[6,4] = fingerprints_list[6].ToBitString()\n",
    "df.iloc[7,4] = fingerprints_list[7].ToBitString()\n",
    "df.iloc[8,4] = fingerprints_list[8].ToBitString()\n",
    "df.iloc[9,4] = fingerprints_list[9].ToBitString()\n",
    "df.iloc[10,4] = fingerprints_list[10].ToBitString()\n",
    "df.iloc[11,4] = fingerprints_list[11].ToBitString()\n",
    "df.iloc[12,4] = fingerprints_list[12].ToBitString()\n",
    "df.iloc[13,4] = fingerprints_list[13].ToBitString()\n",
    "df.iloc[14,4] = fingerprints_list[14].ToBitString()\n",
    "df.iloc[15,4] = fingerprints_list[15].ToBitString()\n",
    "df.iloc[16,4] = fingerprints_list[16].ToBitString()\n",
    "df.iloc[17,4] = fingerprints_list[17].ToBitString()\n",
    "df.iloc[18,4] = fingerprints_list[18].ToBitString()\n",
    "df.iloc[19,4] = fingerprints_list[19].ToBitString()"
   ]
  },
  {
   "cell_type": "code",
   "execution_count": 18,
   "metadata": {},
   "outputs": [
    {
     "data": {
      "text/html": [
       "<div>\n",
       "<style scoped>\n",
       "    .dataframe tbody tr th:only-of-type {\n",
       "        vertical-align: middle;\n",
       "    }\n",
       "\n",
       "    .dataframe tbody tr th {\n",
       "        vertical-align: top;\n",
       "    }\n",
       "\n",
       "    .dataframe thead th {\n",
       "        text-align: right;\n",
       "    }\n",
       "</style>\n",
       "<table border=\"1\" class=\"dataframe\">\n",
       "  <thead>\n",
       "    <tr style=\"text-align: right;\">\n",
       "      <th></th>\n",
       "      <th>smiles</th>\n",
       "      <th>expt</th>\n",
       "      <th>calc</th>\n",
       "      <th>id</th>\n",
       "      <th>fingerprint</th>\n",
       "    </tr>\n",
       "  </thead>\n",
       "  <tbody>\n",
       "    <tr>\n",
       "      <th>309</th>\n",
       "      <td>c1cc(cnc1)C=O</td>\n",
       "      <td>-7.10</td>\n",
       "      <td>-7.425</td>\n",
       "      <td>0</td>\n",
       "      <td>1000010000010000000000000010000000000000000000...</td>\n",
       "    </tr>\n",
       "    <tr>\n",
       "      <th>278</th>\n",
       "      <td>C(F)(F)Cl</td>\n",
       "      <td>-0.50</td>\n",
       "      <td>-0.067</td>\n",
       "      <td>1</td>\n",
       "      <td>0000000000000000000000000000000000000000000000...</td>\n",
       "    </tr>\n",
       "    <tr>\n",
       "      <th>212</th>\n",
       "      <td>c1c(c(=O)[nH]c(=O)[nH]1)I</td>\n",
       "      <td>-18.72</td>\n",
       "      <td>-17.742</td>\n",
       "      <td>2</td>\n",
       "      <td>1000010000100000000000000000000000000000000000...</td>\n",
       "    </tr>\n",
       "    <tr>\n",
       "      <th>538</th>\n",
       "      <td>c1cc(cc(c1)Cl)O</td>\n",
       "      <td>-6.62</td>\n",
       "      <td>-5.018</td>\n",
       "      <td>3</td>\n",
       "      <td>0000000000000000000010000000000000000000000000...</td>\n",
       "    </tr>\n",
       "    <tr>\n",
       "      <th>335</th>\n",
       "      <td>COc1ccccc1</td>\n",
       "      <td>-2.45</td>\n",
       "      <td>-2.318</td>\n",
       "      <td>4</td>\n",
       "      <td>0000000000000000000000000000000000000000000010...</td>\n",
       "    </tr>\n",
       "    <tr>\n",
       "      <th>4</th>\n",
       "      <td>CCCCCCCO</td>\n",
       "      <td>-4.21</td>\n",
       "      <td>-2.917</td>\n",
       "      <td>5</td>\n",
       "      <td>0000000000000000000000000000000000000000000000...</td>\n",
       "    </tr>\n",
       "    <tr>\n",
       "      <th>368</th>\n",
       "      <td>CCCCCCCCCO</td>\n",
       "      <td>-3.88</td>\n",
       "      <td>-2.564</td>\n",
       "      <td>6</td>\n",
       "      <td>0000000000000000000000000000000000000000000000...</td>\n",
       "    </tr>\n",
       "    <tr>\n",
       "      <th>181</th>\n",
       "      <td>CN(C)c1ccccc1</td>\n",
       "      <td>-3.45</td>\n",
       "      <td>-4.426</td>\n",
       "      <td>7</td>\n",
       "      <td>0000000000000000000000000000000000001000000000...</td>\n",
       "    </tr>\n",
       "    <tr>\n",
       "      <th>10</th>\n",
       "      <td>C(Br)Br</td>\n",
       "      <td>-1.96</td>\n",
       "      <td>-0.405</td>\n",
       "      <td>8</td>\n",
       "      <td>0000000000000000000000000000000000000000000000...</td>\n",
       "    </tr>\n",
       "    <tr>\n",
       "      <th>223</th>\n",
       "      <td>CCC(=O)CC</td>\n",
       "      <td>-3.41</td>\n",
       "      <td>-3.050</td>\n",
       "      <td>9</td>\n",
       "      <td>0000000000000000000000000000000000000000000000...</td>\n",
       "    </tr>\n",
       "    <tr>\n",
       "      <th>622</th>\n",
       "      <td>CCCC#C</td>\n",
       "      <td>0.01</td>\n",
       "      <td>0.470</td>\n",
       "      <td>10</td>\n",
       "      <td>0000000000000000000000000000000000000000000000...</td>\n",
       "    </tr>\n",
       "    <tr>\n",
       "      <th>567</th>\n",
       "      <td>CC1=CC(=O)[C@@H](CC1)C(C)C</td>\n",
       "      <td>-4.51</td>\n",
       "      <td>-3.825</td>\n",
       "      <td>11</td>\n",
       "      <td>0000001010000000000000001000000000010100000000...</td>\n",
       "    </tr>\n",
       "    <tr>\n",
       "      <th>521</th>\n",
       "      <td>CCCCCC=O</td>\n",
       "      <td>-2.81</td>\n",
       "      <td>-2.860</td>\n",
       "      <td>12</td>\n",
       "      <td>0000000000000000000000000000000000000000000000...</td>\n",
       "    </tr>\n",
       "    <tr>\n",
       "      <th>246</th>\n",
       "      <td>c1ccc2c(c1)C(=O)c3c(ccc(c3C2=O)O)N</td>\n",
       "      <td>-9.53</td>\n",
       "      <td>-10.984</td>\n",
       "      <td>13</td>\n",
       "      <td>1100010100100000010000010100010000110000100000...</td>\n",
       "    </tr>\n",
       "    <tr>\n",
       "      <th>273</th>\n",
       "      <td>CCCCNCCCC</td>\n",
       "      <td>-3.24</td>\n",
       "      <td>-2.076</td>\n",
       "      <td>14</td>\n",
       "      <td>0000000000000000000000000001000000000000000000...</td>\n",
       "    </tr>\n",
       "    <tr>\n",
       "      <th>409</th>\n",
       "      <td>C[C@@H](c1cccc(c1)C(=O)c2ccccc2)C(=O)O</td>\n",
       "      <td>-10.78</td>\n",
       "      <td>-17.242</td>\n",
       "      <td>15</td>\n",
       "      <td>0000000000001000000000100000010000010000000000...</td>\n",
       "    </tr>\n",
       "    <tr>\n",
       "      <th>236</th>\n",
       "      <td>C[C@H]1CCCO1</td>\n",
       "      <td>-3.30</td>\n",
       "      <td>-1.984</td>\n",
       "      <td>16</td>\n",
       "      <td>0000000000000000000000000000000000000000000000...</td>\n",
       "    </tr>\n",
       "    <tr>\n",
       "      <th>192</th>\n",
       "      <td>c1ccc2c(c1)Oc3c(cc(c(c3O2)Cl)Cl)Cl</td>\n",
       "      <td>-4.05</td>\n",
       "      <td>-3.160</td>\n",
       "      <td>17</td>\n",
       "      <td>0001000010000100100010000010001001000011100000...</td>\n",
       "    </tr>\n",
       "    <tr>\n",
       "      <th>77</th>\n",
       "      <td>c1ccc2c(c1)Cc3ccccc3C2</td>\n",
       "      <td>-3.78</td>\n",
       "      <td>-4.304</td>\n",
       "      <td>18</td>\n",
       "      <td>0100000000000000000000000000000000010000000000...</td>\n",
       "    </tr>\n",
       "    <tr>\n",
       "      <th>638</th>\n",
       "      <td>C1CCNC1</td>\n",
       "      <td>-5.48</td>\n",
       "      <td>-4.278</td>\n",
       "      <td>19</td>\n",
       "      <td>0000000000000000000000000001000000000000000000...</td>\n",
       "    </tr>\n",
       "  </tbody>\n",
       "</table>\n",
       "</div>"
      ],
      "text/plain": [
       "                                     smiles   expt    calc  id  \\\n",
       "309                           c1cc(cnc1)C=O  -7.10  -7.425   0   \n",
       "278                               C(F)(F)Cl  -0.50  -0.067   1   \n",
       "212               c1c(c(=O)[nH]c(=O)[nH]1)I -18.72 -17.742   2   \n",
       "538                         c1cc(cc(c1)Cl)O  -6.62  -5.018   3   \n",
       "335                              COc1ccccc1  -2.45  -2.318   4   \n",
       "4                                  CCCCCCCO  -4.21  -2.917   5   \n",
       "368                              CCCCCCCCCO  -3.88  -2.564   6   \n",
       "181                           CN(C)c1ccccc1  -3.45  -4.426   7   \n",
       "10                                  C(Br)Br  -1.96  -0.405   8   \n",
       "223                               CCC(=O)CC  -3.41  -3.050   9   \n",
       "622                                  CCCC#C   0.01   0.470  10   \n",
       "567              CC1=CC(=O)[C@@H](CC1)C(C)C  -4.51  -3.825  11   \n",
       "521                                CCCCCC=O  -2.81  -2.860  12   \n",
       "246      c1ccc2c(c1)C(=O)c3c(ccc(c3C2=O)O)N  -9.53 -10.984  13   \n",
       "273                               CCCCNCCCC  -3.24  -2.076  14   \n",
       "409  C[C@@H](c1cccc(c1)C(=O)c2ccccc2)C(=O)O -10.78 -17.242  15   \n",
       "236                            C[C@H]1CCCO1  -3.30  -1.984  16   \n",
       "192      c1ccc2c(c1)Oc3c(cc(c(c3O2)Cl)Cl)Cl  -4.05  -3.160  17   \n",
       "77                   c1ccc2c(c1)Cc3ccccc3C2  -3.78  -4.304  18   \n",
       "638                                 C1CCNC1  -5.48  -4.278  19   \n",
       "\n",
       "                                           fingerprint  \n",
       "309  1000010000010000000000000010000000000000000000...  \n",
       "278  0000000000000000000000000000000000000000000000...  \n",
       "212  1000010000100000000000000000000000000000000000...  \n",
       "538  0000000000000000000010000000000000000000000000...  \n",
       "335  0000000000000000000000000000000000000000000010...  \n",
       "4    0000000000000000000000000000000000000000000000...  \n",
       "368  0000000000000000000000000000000000000000000000...  \n",
       "181  0000000000000000000000000000000000001000000000...  \n",
       "10   0000000000000000000000000000000000000000000000...  \n",
       "223  0000000000000000000000000000000000000000000000...  \n",
       "622  0000000000000000000000000000000000000000000000...  \n",
       "567  0000001010000000000000001000000000010100000000...  \n",
       "521  0000000000000000000000000000000000000000000000...  \n",
       "246  1100010100100000010000010100010000110000100000...  \n",
       "273  0000000000000000000000000001000000000000000000...  \n",
       "409  0000000000001000000000100000010000010000000000...  \n",
       "236  0000000000000000000000000000000000000000000000...  \n",
       "192  0001000010000100100010000010001001000011100000...  \n",
       "77   0100000000000000000000000000000000010000000000...  \n",
       "638  0000000000000000000000000001000000000000000000...  "
      ]
     },
     "execution_count": 18,
     "metadata": {},
     "output_type": "execute_result"
    }
   ],
   "source": [
    "df"
   ]
  },
  {
   "cell_type": "markdown",
   "metadata": {},
   "source": [
    "## Generate a umap of the fingerprints"
   ]
  },
  {
   "cell_type": "markdown",
   "metadata": {},
   "source": [
    "First of all, I need to encode the fingerprints as one-hot. For that, I need to make a list of one-hot matrices."
   ]
  },
  {
   "cell_type": "code",
   "execution_count": 19,
   "metadata": {},
   "outputs": [],
   "source": [
    "#fp_series = df['fingerprint']\n",
    "#onehot = pd.get_dummies(fp_series)\n",
    "\n",
    "#onehot = pd.get_dummies(df['fingerprint'])"
   ]
  },
  {
   "cell_type": "code",
   "execution_count": 20,
   "metadata": {},
   "outputs": [],
   "source": [
    "#import sklearn.preprocessing as sk"
   ]
  },
  {
   "cell_type": "code",
   "execution_count": 51,
   "metadata": {},
   "outputs": [],
   "source": [
    "#fp_onehot_list = df['fingerprint'].tolist()\n",
    "#a = pd.get_dummies(fp_onehot_list[3])\n",
    "\n",
    "\n",
    "#categories = [0,1]\n",
    "\n",
    "#b = sk.OneHotEncoder(fp_onehot_list[3],\n",
    "#                    categories = ['0','1'])"
   ]
  },
  {
   "cell_type": "markdown",
   "metadata": {},
   "source": [
    "## Umap dimension reduction"
   ]
  },
  {
   "cell_type": "markdown",
   "metadata": {},
   "source": [
    "https://pypi.org/project/umap-learn/\n",
    "\n",
    "https://umap-learn.readthedocs.io/en/latest/basic_usage.html\n",
    "\n",
    "I need more physiochemical properties of course..\n",
    "I followed [this example](https://umap-learn.readthedocs.io/en/latest/parameters.html)."
   ]
  },
  {
   "cell_type": "code",
   "execution_count": 127,
   "metadata": {},
   "outputs": [],
   "source": [
    "import matplotlib.pyplot as plt\n",
    "from mpl_toolkits.mplot3d import Axes3D\n",
    "import seaborn as sns"
   ]
  },
  {
   "cell_type": "code",
   "execution_count": 128,
   "metadata": {},
   "outputs": [],
   "source": [
    "import umap"
   ]
  },
  {
   "cell_type": "code",
   "execution_count": 129,
   "metadata": {},
   "outputs": [],
   "source": [
    "sns.set(style='white', context='poster', rc={'figure.figsize':(14,10)})\n",
    "np.random.seed(42)"
   ]
  },
  {
   "cell_type": "code",
   "execution_count": 130,
   "metadata": {},
   "outputs": [],
   "source": [
    "#umap_input = np.zeros(2048)*20\n",
    "umap_input = np.random.randn(20,2048)    # I'd prefer to initiate it as 0, but don't know how\n",
    "\n",
    "for i in range(len(df)-1):\n",
    "    umap_input[i] = list(df.iloc[i,4])"
   ]
  },
  {
   "cell_type": "code",
   "execution_count": 131,
   "metadata": {},
   "outputs": [
    {
     "name": "stdout",
     "output_type": "stream",
     "text": [
      "CPU times: user 2.3 s, sys: 41.7 ms, total: 2.35 s\n",
      "Wall time: 2.05 s\n"
     ]
    }
   ],
   "source": [
    "%time u = fit.fit_transform(umap_input)"
   ]
  },
  {
   "cell_type": "code",
   "execution_count": 132,
   "metadata": {},
   "outputs": [
    {
     "data": {
      "image/png": "[encoded data removed]",
      "text/plain": [
       "<Figure size 1008x720 with 1 Axes>"
      ]
     },
     "metadata": {},
     "output_type": "display_data"
    }
   ],
   "source": [
    "plt.scatter(u[:,0], u[:,1])\n",
    "plt.title('UMAP embedding of the 20 fingerprints');"
   ]
  },
  {
   "cell_type": "markdown",
   "metadata": {},
   "source": [
    "I could try to tweak n_neighbours, min_dist, n_components or metric."
   ]
  },
  {
   "cell_type": "code",
   "execution_count": 139,
   "metadata": {},
   "outputs": [],
   "source": [
    "# color by solvability\n"
   ]
  },
  {
   "cell_type": "code",
   "execution_count": null,
   "metadata": {},
   "outputs": [],
   "source": []
  }
 ],
 "metadata": {
  "kernelspec": {
   "display_name": "Python 3",
   "language": "python",
   "name": "python3"
  },
  "language_info": {
   "codemirror_mode": {
    "name": "ipython",
    "version": 3
   },
   "file_extension": ".py",
   "mimetype": "text/x-python",
   "name": "python",
   "nbconvert_exporter": "python",
   "pygments_lexer": "ipython3",
   "version": "3.6.10"
  }
 },
 "nbformat": 4,
 "nbformat_minor": 4
}
