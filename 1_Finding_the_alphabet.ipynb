{
 "cells": [
  {
   "cell_type": "code",
   "execution_count": 1,
   "metadata": {},
   "outputs": [],
   "source": [
    "import pandas as pd\n",
    "import numpy as np\n",
    "import re"
   ]
  },
  {
   "cell_type": "markdown",
   "metadata": {},
   "source": [
    "I import the subset from ZINC15 taken from Chris' dataset on the rostserver: \"canonical_smiles.txt\". It conains 100 canonical SMILES."
   ]
  },
  {
   "cell_type": "code",
   "execution_count": 2,
   "metadata": {},
   "outputs": [],
   "source": [
    "subset = pd.read_table('../datasets/sets_from_Chris/canonical_smiles_first_100.txt', header=None)\n",
    "\n",
    "subset = subset.drop_duplicates()          # throw out duplicates"
   ]
  },
  {
   "cell_type": "code",
   "execution_count": 3,
   "metadata": {},
   "outputs": [],
   "source": [
    "subset = subset.rename(columns={0: \"canonical_SMILES\"})"
   ]
  },
  {
   "cell_type": "markdown",
   "metadata": {},
   "source": [
    "- Wofür steht das @? \\\n",
    "In SMILES, tetrahedral centers may be indicated by a simplified chiral specification (@ or @@) written as an atomic property following the atomic symbol of the chiral atom.\\\n",
    "The symbol \"@\" indicates that the following neighbors are listed anticlockwise (it is a \"visual mnemonic\" in that the symbol looks like an anticlockwise spiral around a central circle).\\\n",
    "\"@@\" indicates that the neighbors are listed clockwise (you guessed it, anti-anti-clockwise). \n",
    "\n",
    "\n",
    "- Wurde die Transformation mit RDKit gemacht?"
   ]
  },
  {
   "cell_type": "markdown",
   "metadata": {},
   "source": [
    "# Find out the alphabet"
   ]
  },
  {
   "cell_type": "markdown",
   "metadata": {},
   "source": [
    "Are we interested in the non-alphabetic signs? I can't think of any."
   ]
  },
  {
   "cell_type": "code",
   "execution_count": 4,
   "metadata": {},
   "outputs": [],
   "source": [
    "total_SMILES = \"\".join(subset.canonical_SMILES)"
   ]
  },
  {
   "cell_type": "markdown",
   "metadata": {},
   "source": [
    "There are lower-case letters because:\n",
    "- The second letter of two-character symbols must be entered in lower case.\n",
    "- Atoms in aromatic rings are specified by lower case letters, e.g., aliphatic carbon is represented by the capital letter C, aromatic carbon by lower case c.\n",
    "\n",
    "=> I must find also 2-letter elements!"
   ]
  },
  {
   "cell_type": "markdown",
   "metadata": {},
   "source": [
    "### 2-letter elements"
   ]
  },
  {
   "cell_type": "markdown",
   "metadata": {},
   "source": [
    "First, extract the 2-letter elements."
   ]
  },
  {
   "cell_type": "code",
   "execution_count": 5,
   "metadata": {},
   "outputs": [],
   "source": [
    "two_letter_elements = re.findall(\"[A-Z][a-z]\", total_SMILES)\n",
    "two_letter_elements = sorted(set(two_letter_elements))"
   ]
  },
  {
   "cell_type": "code",
   "execution_count": 6,
   "metadata": {},
   "outputs": [
    {
     "data": {
      "text/plain": [
       "['Cc', 'Cl', 'Nc', 'Oc', 'Si']"
      ]
     },
     "execution_count": 6,
     "metadata": {},
     "output_type": "execute_result"
    }
   ],
   "source": [
    "two_letter_elements"
   ]
  },
  {
   "cell_type": "code",
   "execution_count": 7,
   "metadata": {},
   "outputs": [],
   "source": [
    "periodic_table_2_letter = ['He',\n",
    "                           'Li', 'Be', 'Ne',\n",
    "                           'Na', 'Mg', 'Al', 'Si', 'Cl', 'Ar',\n",
    "                           'Ca', 'Sc', 'Ti', 'Cr', 'Mn', 'Fe', 'Co', 'Ni', 'Cu', 'Zn', 'Ga', 'Ge', 'As', 'Se', 'Br', 'Kr',\n",
    "                           'Rb', 'Sr', 'Zr', 'Nb', 'Mo', 'Tc', 'Ru', 'Pd', 'Ag', 'Cd', 'In', 'Sn', 'Sb', 'Te', 'Xe',\n",
    "                           'Cs', 'Ba', 'Hf', 'Ta', 'Re', 'Os', 'Ir', 'Pt', 'Au', 'Hg', 'Tl', 'Pb', 'Bi', 'Po', 'At', 'Rn',\n",
    "                           'Fr', 'Ra', 'Rf', 'Db', 'Sg', 'Bh', 'Hs', 'Mt', 'Ds', 'Rg', 'Cn', 'Nh', 'Fl', 'Mc', 'Lv', 'Ts', 'Og',\n",
    "                           'La', 'Ce', 'Pr', 'Nd', 'Pm', 'Sm', 'Eu', 'Gd', 'Tb', 'Dy', 'Ho', 'Er', 'Tm', 'Yb', 'Lu',\n",
    "                           'Ac', 'Th', 'Pa', 'Np', 'Pu', 'Am', 'Cm', 'Bk', 'Cf', 'Es', 'Fm', 'Md', 'No', 'Lr']"
   ]
  },
  {
   "cell_type": "code",
   "execution_count": 8,
   "metadata": {},
   "outputs": [
    {
     "data": {
      "text/plain": [
       "False"
      ]
     },
     "execution_count": 8,
     "metadata": {},
     "output_type": "execute_result"
    }
   ],
   "source": [
    "# are all extracted 2-letter elements in the periodic table?\n",
    "two_letter_elements in periodic_table_2_letter"
   ]
  },
  {
   "cell_type": "code",
   "execution_count": 9,
   "metadata": {},
   "outputs": [],
   "source": [
    "#set(two_letter_elements).intersection(set(periodic_table_2_letter))     # matches\n",
    "#set(periodic_table_2_letter).symmetric_difference(set(two_letter_elements))    # elements which are\n",
    "                                                                                # exclusive to either set"
   ]
  },
  {
   "cell_type": "code",
   "execution_count": 10,
   "metadata": {},
   "outputs": [
    {
     "data": {
      "text/plain": [
       "['Cc', 'Nc', 'Oc']"
      ]
     },
     "execution_count": 10,
     "metadata": {},
     "output_type": "execute_result"
    }
   ],
   "source": [
    "nonsensicals = [element for element in two_letter_elements if element not in periodic_table_2_letter]\n",
    "nonsensicals"
   ]
  },
  {
   "cell_type": "markdown",
   "metadata": {},
   "source": [
    "ATTENTION: At this point arises the issue of how to handle the exceptions. They should always be manually inspected.\n",
    "As all currently occuring exceptions can be explained, I throw them out."
   ]
  },
  {
   "cell_type": "code",
   "execution_count": 13,
   "metadata": {},
   "outputs": [],
   "source": [
    "# throw out nonsensical 2-letter elements\n",
    "two_letter_elements = [element for element in two_letter_elements if element in periodic_table_2_letter]"
   ]
  },
  {
   "cell_type": "markdown",
   "metadata": {},
   "source": [
    "### 1-letter elements"
   ]
  },
  {
   "cell_type": "code",
   "execution_count": 14,
   "metadata": {},
   "outputs": [],
   "source": [
    "total_SMILES = re.sub(\"[A-Z][a-z]\", \"\", total_SMILES)   # remove all 2-letter elements"
   ]
  },
  {
   "cell_type": "markdown",
   "metadata": {},
   "source": [
    "Now I throw out all symbols like brackets, at-signs etc."
   ]
  },
  {
   "cell_type": "code",
   "execution_count": 16,
   "metadata": {},
   "outputs": [],
   "source": [
    "only_alpha = \"\"\n",
    "\n",
    "for char in total_SMILES:\n",
    "    \n",
    "    # CHECKING FOR UPPER CASE\n",
    "    if ord(char) >= 65 and ord(char) <= 90:      # ord(chr) returns the ascii value\n",
    "        only_alpha += char\n",
    "        \n",
    "        # checking for lower case        \n",
    "    elif ord(char) >= 97 and ord(char) <= 122:\n",
    "        only_alpha += char\n",
    "\n",
    "#print(only_alpha)"
   ]
  },
  {
   "cell_type": "markdown",
   "metadata": {},
   "source": [
    "In the following, I want to ignore cases, as in 'C' and 'c' only count as 'C' in the final alphabet."
   ]
  },
  {
   "cell_type": "code",
   "execution_count": 17,
   "metadata": {},
   "outputs": [],
   "source": [
    "only_alpha = only_alpha.upper()"
   ]
  },
  {
   "cell_type": "markdown",
   "metadata": {},
   "source": [
    "Now I will, as above with the 2-letter elements, check, if all found elements are actually in the periodic table."
   ]
  },
  {
   "cell_type": "code",
   "execution_count": 18,
   "metadata": {},
   "outputs": [],
   "source": [
    "periodic_table_1_letter = ['H',\n",
    "                           'B', 'C', 'N', 'O', 'F',\n",
    "                           'P', 'S',\n",
    "                           'K',\n",
    "                           'Y', 'I',\n",
    "                           'W',\n",
    "                           'U']"
   ]
  },
  {
   "cell_type": "code",
   "execution_count": 24,
   "metadata": {},
   "outputs": [
    {
     "data": {
      "text/plain": [
       "[]"
      ]
     },
     "execution_count": 24,
     "metadata": {},
     "output_type": "execute_result"
    }
   ],
   "source": [
    "nonsensicals = [element for element in only_alpha if element not in periodic_table_1_letter]\n",
    "nonsensicals\n",
    "\n",
    "# In case that there are nonsense-elements, analyse them here and then throw them out."
   ]
  },
  {
   "cell_type": "code",
   "execution_count": 25,
   "metadata": {},
   "outputs": [
    {
     "data": {
      "text/plain": [
       "['C', 'Cl', 'F', 'H', 'N', 'O', 'P', 'S', 'Si']"
      ]
     },
     "execution_count": 25,
     "metadata": {},
     "output_type": "execute_result"
    }
   ],
   "source": [
    "alphabet = sorted(set(only_alpha))\n",
    "alphabet = sorted(alphabet + two_letter_elements)   # Combine the element lists\n",
    "alphabet"
   ]
  }
 ],
 "metadata": {
  "kernelspec": {
   "display_name": "Python 3",
   "language": "python",
   "name": "python3"
  },
  "language_info": {
   "codemirror_mode": {
    "name": "ipython",
    "version": 3
   },
   "file_extension": ".py",
   "mimetype": "text/x-python",
   "name": "python",
   "nbconvert_exporter": "python",
   "pygments_lexer": "ipython3",
   "version": "3.6.10"
  }
 },
 "nbformat": 4,
 "nbformat_minor": 4
}
