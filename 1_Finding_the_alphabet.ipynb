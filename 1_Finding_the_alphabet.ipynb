{
 "cells": [
  {
   "cell_type": "code",
   "execution_count": 1,
   "metadata": {},
   "outputs": [],
   "source": [
    "import pandas as pd\n",
    "import numpy as np\n",
    "import re"
   ]
  },
  {
   "cell_type": "markdown",
   "metadata": {},
   "source": [
    "I import the subset from ZINC15 taken from Chris' dataset on the rostserver: \"canonical_smiles.txt\". It conains 100 canonical SMILES."
   ]
  },
  {
   "cell_type": "code",
   "execution_count": 22,
   "metadata": {},
   "outputs": [],
   "source": [
    "subset = pd.read_table('../datasets/sets_from_Chris/canonical_smiles_first_100.txt', header=None)\n",
    "\n",
    "subset = subset.drop_duplicates()          # throw out duplicates"
   ]
  },
  {
   "cell_type": "code",
   "execution_count": 23,
   "metadata": {},
   "outputs": [],
   "source": [
    "subset = subset.rename(columns={0: \"canonical_SMILES\"})"
   ]
  },
  {
   "cell_type": "markdown",
   "metadata": {},
   "source": [
    "- Wofür steht das @? \\\n",
    "In SMILES, tetrahedral centers may be indicated by a simplified chiral specification (@ or @@) written as an atomic property following the atomic symbol of the chiral atom.\\\n",
    "The symbol \"@\" indicates that the following neighbors are listed anticlockwise (it is a \"visual mnemonic\" in that the symbol looks like an anticlockwise spiral around a central circle).\\\n",
    "\"@@\" indicates that the neighbors are listed clockwise (you guessed it, anti-anti-clockwise). \n",
    "\n",
    "\n",
    "- Wurde die Transformation mit RDKit gemacht?"
   ]
  },
  {
   "cell_type": "markdown",
   "metadata": {},
   "source": [
    "### Find out the alphabet"
   ]
  },
  {
   "cell_type": "markdown",
   "metadata": {},
   "source": [
    "Are we interested in the non-alphabetic signs? I can't think of any."
   ]
  },
  {
   "cell_type": "code",
   "execution_count": 74,
   "metadata": {},
   "outputs": [],
   "source": [
    "total_SMILES = \"\".join(subset.canonical_SMILES)"
   ]
  },
  {
   "cell_type": "markdown",
   "metadata": {},
   "source": [
    "There are lower-case letters because:\n",
    "- The second letter of two-character symbols must be entered in lower case.\n",
    "- Atoms in aromatic rings are specified by lower case letters, e.g., aliphatic carbon is represented by the capital letter C, aromatic carbon by lower case c.\n",
    "\n",
    "=> I must find also 2-letter elements!"
   ]
  },
  {
   "cell_type": "markdown",
   "metadata": {},
   "source": [
    "First, extract the 2-letter elements."
   ]
  },
  {
   "cell_type": "code",
   "execution_count": 75,
   "metadata": {},
   "outputs": [],
   "source": [
    "two_letter_elements = re.findall(\"[A-Z][a-z]\", total_SMILES)\n",
    "two_letter_elements = sorted(set(two_letter_elements))"
   ]
  },
  {
   "cell_type": "code",
   "execution_count": 76,
   "metadata": {},
   "outputs": [],
   "source": [
    "total_SMILES = re.sub(\"[A-Z][a-z]\", \"\", total_SMILES)"
   ]
  },
  {
   "cell_type": "code",
   "execution_count": 77,
   "metadata": {
    "scrolled": true
   },
   "outputs": [],
   "source": [
    "only_alpha = \"\"\n",
    "\n",
    "for char in total_SMILES:\n",
    "    \n",
    "    # CHECKING FOR UPPER CASE\n",
    "    if ord(char) >= 65 and ord(char) <= 90:      # ord(chr) returns the ascii value\n",
    "        only_alpha += char\n",
    "        \n",
    "        # checking for lower case        \n",
    "    elif ord(char) >= 97 and ord(char) <= 122:\n",
    "        only_alpha += char\n",
    "\n",
    "#print(only_alpha)"
   ]
  },
  {
   "cell_type": "markdown",
   "metadata": {},
   "source": [
    "In the following, I want to ignore cases, as in 'C' and 'c' only count as 'C' in the final alphabet."
   ]
  },
  {
   "cell_type": "code",
   "execution_count": 90,
   "metadata": {},
   "outputs": [
    {
     "data": {
      "text/plain": [
       "['C', 'Cc', 'Cl', 'F', 'H', 'N', 'Nc', 'O', 'Oc', 'P', 'S', 'Si']"
      ]
     },
     "execution_count": 90,
     "metadata": {},
     "output_type": "execute_result"
    }
   ],
   "source": [
    "only_alpha = only_alpha.upper()\n",
    "alphabet = sorted(set(only_alpha))\n",
    "alphabet = sorted(alphabet + two_letter_elements)   # Combine the element lists\n",
    "alphabet"
   ]
  },
  {
   "cell_type": "markdown",
   "metadata": {},
   "source": [
    "Attention: Handle non-chemical list elements, lice Oc   ( and Cc)"
   ]
  }
 ],
 "metadata": {
  "kernelspec": {
   "display_name": "Python 3",
   "language": "python",
   "name": "python3"
  },
  "language_info": {
   "codemirror_mode": {
    "name": "ipython",
    "version": 3
   },
   "file_extension": ".py",
   "mimetype": "text/x-python",
   "name": "python",
   "nbconvert_exporter": "python",
   "pygments_lexer": "ipython3",
   "version": "3.6.10"
  }
 },
 "nbformat": 4,
 "nbformat_minor": 4
}
