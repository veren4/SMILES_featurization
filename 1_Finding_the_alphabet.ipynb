{
 "cells": [
  {
   "cell_type": "code",
   "execution_count": 1,
   "metadata": {},
   "outputs": [],
   "source": [
    "import pandas as pd\n",
    "import re"
   ]
  },
  {
   "cell_type": "markdown",
   "metadata": {},
   "source": [
    "I import the subset from ZINC15 taken from Chris' dataset on the rostserver: \"canonical_smiles.txt\". It conains 100 canonical SMILES."
   ]
  },
  {
   "cell_type": "code",
   "execution_count": 2,
   "metadata": {},
   "outputs": [],
   "source": [
    "subset = pd.read_table('../datasets/sets_from_Chris/canonical_smiles_first_100.txt', header=None)\n",
    "\n",
    "subset = subset.drop_duplicates()          # throw out duplicates"
   ]
  },
  {
   "cell_type": "code",
   "execution_count": 3,
   "metadata": {},
   "outputs": [],
   "source": [
    "subset = subset.rename(columns={0: \"canonical_SMILES\"})"
   ]
  },
  {
   "cell_type": "markdown",
   "metadata": {},
   "source": [
    "- Wofür steht das @? \\\n",
    "In SMILES, tetrahedral centers may be indicated by a simplified chiral specification (@ or @@) written as an atomic property following the atomic symbol of the chiral atom.\\\n",
    "The symbol \"@\" indicates that the following neighbors are listed anticlockwise (it is a \"visual mnemonic\" in that the symbol looks like an anticlockwise spiral around a central circle).\\\n",
    "\"@@\" indicates that the neighbors are listed clockwise (you guessed it, anti-anti-clockwise). \n",
    "\n",
    "\n",
    "- Wurde die Transformation mit RDKit gemacht?"
   ]
  },
  {
   "cell_type": "markdown",
   "metadata": {},
   "source": [
    "# Find out the alphabet"
   ]
  },
  {
   "cell_type": "markdown",
   "metadata": {},
   "source": [
    "Are we interested in the non-alphabetic signs? I can't think of any."
   ]
  },
  {
   "cell_type": "code",
   "execution_count": 4,
   "metadata": {},
   "outputs": [],
   "source": [
    "total_SMILES = \"\".join(subset.canonical_SMILES)"
   ]
  },
  {
   "cell_type": "code",
   "execution_count": 5,
   "metadata": {},
   "outputs": [
    {
     "data": {
      "text/plain": [
       "'C[C@@H]1C(=O)O[C@H]2[C@H](O)[C@@]34[C@H]5OC(=O)[C@@]3(O[C@H]3OC(=O)[C@H](O)[C@]34[C@H](C(C)(C)C)[C@H]5OS(=O)(=O)C(F)(F)F)[C@@]12OC[C@@H]1C(=O)O[C@H]2[C@H](O)[C@@]34[C@@H]5OC(=O)[C@@]3(O[C@H]3OC(=O)[C@H](O)[C@]34[C@H](C(C)(C)C)[C@H]5OS(=O)(=O)C(F)(F)F)[C@@]12OC[C@@H]1C(=O)O[C@H]2[C@H](O)[C@@]34[C@H]5OC(=O)[C@@]3(O[C@H]3OC(=O)[C@H](O)[C@@]34[C@H](C(C)(C)C)[C@H]5OS(=O)(=O)C(F)(F)F)[C@@]12OC[C@@H]1C(=O)O[C@H]2[C@H](O)[C@@]34[C@@H]5OC(=O)[C@@]3(O[C@H]3OC(=O)[C@H](O)[C@@]34[C@H](C(C)(C)C)[C@H]5OS(=O)(=O)C(F)(F)F)[C@@]12OO=c1cc(-c2ccc(O)cc2)oc2c(O)c(O[C@@H]3O[C@H](CO)[C@@H](O)[C@H](O)[C@H]3O[C@@H]3O[C@H](CO)[C@@H](O)[C@@H](O)[C@H]3O)cc(O)c12COc1cc2oc(-c3ccc(O)cc3)cc(=O)c2c(O)c1[C@@H]1O[C@H](CO)[C@@H](O[C@@H]2O[C@H](CO)[C@@H](O)[C@H](O)[C@H]2O)[C@H](O)[C@H]1OO=c1cc(-c2ccc(O)cc2)oc2c([C@@H]3O[C@H](CO)[C@H](O)[C@H](O)[C@H]3O)c(O)c([C@@H]3O[C@H](CO)[C@H](O)[C@H](O)[C@H]3O)c(O)c12COc1cc2oc(-c3ccc(O)cc3)cc(=O)c2c(O[C@@H]2O[C@H](CO)[C@@H](O)[C@H](O)[C@H]2O)c1[C@@H]1O[C@H](CO)[C@@H](O)[C@H](O)[C@H]1OCOc1cc(O[C@@H]2O[C@H](CO)[C@@H](O)[C@H](O)[C@H]2O)c2c(=O)cc(-c3ccc(O)cc3)oc2c1[C@@H]1O[C@H](CO)[C@@H](O)[C@H](O)[C@H]1ONc1ccn([C@@H]2CO[C@H](CO[P@@](=O)(O)O[C@H]3C[C@H](n4cnc5c(N)ncnc54)O[C@@H]3COP(=O)(O)O)[C@H]2O)c(=O)n1COc1cc(-c2oc3cc(O)ccc3c(=O)c2O[C@@H]2O[C@H](CO[C@@H]3O[C@@H](C)[C@H](O)[C@@H](O)[C@H]3O)[C@@H](O)[C@H](O)[C@H]2O)ccc1OCOc1cc(-c2cc(=O)c3c(O)cc(O[C@@H]4O[C@H](CO)[C@@H](O)[C@H](O)[C@H]4O[C@@H]4O[C@H](COC(C)=O)[C@@H](O)[C@H](O)[C@H]4O)cc3o2)ccc1OCOc1cc(-c2coc3cc(O[C@@H]4O[C@H](CO[C@@H]5O[C@H](CO)[C@@H](O)[C@H](O)[C@H]5O)[C@@H](O)[C@H](O)[C@H]4O)c(OC)c(O)c3c2=O)cc(O)c1OCO=c1c(O)c(-c2ccc(O[C@@H]3O[C@H](CO)[C@@H](O)[C@H](O)[C@H]3O)c(O)c2)oc2cc(O)cc(O[C@@H]3O[C@H](CO)[C@@H](O)[C@H](O)[C@H]3O)c12C[C@@H]1C(=O)O[C@H]2[C@H](O)[C@@]34[C@@H]5OC(=O)[C@@]3(O[C@@H]3OC(=O)[C@H](O)[C@@]34[C@H](C(C)(C)C)[C@H]5OS(=O)(=O)C(F)(F)F)[C@@]12OC[C@@H]1C(=O)O[C@H]2[C@H](O)[C@@]34[C@@H]5OC(=O)[C@@]3(O[C@@H]3OC(=O)[C@H](O)[C@]34[C@H](C(C)(C)C)[C@H]5OS(=O)(=O)C(F)(F)F)[C@@]12ONc1ncnc2c1ncn2[C@@H]1O[C@@H](CO[P@](=O)(O)OC=P(O)(O)CO[P@](=O)(O)OC[C@H]2O[C@@H](n3cnc4c(N)ncnc43)[C@H](O)[C@@H]2O)[C@@H](O)[C@H]1ONc1ncnc2c1ncn2[C@H]1O[C@H](CO[P@@](=O)(O)OCP(O)(O)=CO[P@@](=O)(O)OC[C@@H]2O[C@@H](n3cnc4c(N)ncnc43)[C@H](O)[C@@H]2O)[C@@H](O)[C@H]1OC[C@@H]1C(=O)O[C@H]2[C@H](O)[C@@]34[C@H]5OC(=O)[C@@]3(O[C@@H]3OC(=O)[C@H](O)[C@@]34[C@H](C(C)(C)C)[C@H]5OS(=O)(=O)C(F)(F)F)[C@@]12OO1[SiH]2O[SiH]3O[SiH]4O[SiH]1O[SiH]1O[SiH](O2)O[SiH]2O[SiH](O1)O[SiH](O[SiH](O3)O2)O4C[C@H]1CCC[C@H](C)N1CCCOc1ccc(C#N)cc1Cc1cc(C#N)nc(S[C@H](C)c2ccc(F)cc2)n1CCN(C(=O)c1ccc(C#N)[nH]1)c1ccc2ccccc2c1CC1CCN(c2cccc(NC(=O)C3(C#N)CCC3)c2)CC1Cc1cc(N2CCCCCC2)ccc1N[C@H](C)C#NC=CCN(Cc1ccccc1F)C(=O)[C@@H](C)c1ccccn1C=CCN(Cc1ccccc1F)C(=O)[C@H](C)c1ccccn1C[C@@H](NC(=O)C(C)(C)c1cccs1)c1ccc(C#N)cc1C#CC1CCN(CCCc2cccc(C(F)(F)F)c2)CC1COC(=O)c1ccc(SCc2cccc(C#N)c2)cc1CCC[C@H](C(=O)N[C@@]1(C#N)CCC[C@H](C)C1)c1ccccn1CCC[C@H](C(=O)N[C@]1(C#N)CCC[C@H](C)C1)c1ccccn1C=CC(C)(C)CCNC(=O)[C@@H]1CCCCC1(F)FN#Cc1ccc(CNc2c(F)cccc2N2CCCC2)cc1Cc1ccc([C@H](C)CN(CCC#N)CC2CC2)cc1CCN(Cc1cc(F)cc(C#N)c1)Cc1cccc(OC)c1C[C@@H]1Cc2ccccc2CN1Cc1cc(F)cc(C#N)c1CCC[C@H](C(=O)N[C@]1(C#N)CCC[C@@H](C)C1)c1ccccn1C[C@H]1Cc2ccccc2CN1Cc1cc(F)cc(C#N)c1CCC[C@H](C(=O)N[C@@]1(C#N)CCC[C@@H](C)C1)c1ccccn1Cc1cc(C#N)nc(S[C@@H](C)c2ccc(F)cc2)n1C=CCC(F)(F)C(=O)N(C)[C@H](C)c1ccccc1CCc1cc(C#N)nc(SCc2cccc(Cl)c2)n1CC1(C)CN(C(=O)c2sccc2CC#N)CC(C)(C)C1N#Cc1ccccc1CNc1c(F)cccc1N1CCCC1C[C@@H](CCC(=O)[C@@H](C#N)c1ccccn1)c1ccccc1C[C@H](CCC(=O)[C@@H](C#N)c1ccccn1)c1ccccc1C[C@@H](CCC(=O)[C@H](C#N)c1ccccn1)c1ccccc1C[C@H](CCC(=O)[C@H](C#N)c1ccccn1)c1ccccc1C=CCOCCCC(=O)O[C@@H](C)c1cc(C)ccc1OCN#Cc1cc[nH]c(=NCc2cc3ccccc3s2)c1ClN#Cc1ccc(NC(=O)Nc2cccc3cc[nH]c23)cc1FC=CCN(C(=O)c1sc2nccn2c1C)c1ccccc1C=CCCCC(=O)Nc1ccc(OC)c(OC(C)C)c1C=C(Cl)COc1ccc([C@H](C)NCCOC(C)C)cc1N#CC1(C(=O)Nc2cc(F)cc(Cl)c2O)CCCCC1N#Cc1cc(F)cc(CN2CC=C(c3ccccc3)CC2)c1CCOc1cccc(C(=O)/C=C/c2ccc(O)cc2)c1C=C[C@H](CC)CC(=O)Nc1ccc(C(C)=O)c(C)c1C=C[C@@H](CC)CC(=O)Nc1ccc(C(C)=O)c(C)c1Cc1ccc(C(C)(C)CC(=O)NCC(C)(C)CC#N)cc1N#Cc1cc(C(=O)Nc2ccc(-c3ncco3)cc2)cs1C#CCCCCC(=O)O[C@@H](C)c1cc(C)ccc1OCN#Cc1c(F)cccc1N1CC2C[C@H]3CC1C[C@@H](C2)C3Cc1cc(C)c(CNc2snc(C)c2C#N)c(C)c1CCCC/C(N)=N/OCc1csc(-c2ccc(C)o2)n1C=C(Cl)COc1ccc([C@@H](C)NCCOC(C)C)cc1C#Cc1cccc(NC(=O)c2cc(F)c(F)cc2Cl)c1C#Cc1cccc(NC(=O)[C@H](C)Oc2ccc(Cl)cc2)c1C#CCN(C(=O)Nc1ccc(F)cc1)C1CCCCC1C#CCN(C(=O)Nc1ccc(C)cc1)C1CCCCC1C#CCN(C(=O)Nc1cccc(C)c1)C1CCCCC1C#Cc1cccc(NC(=O)CCc2c[nH]c3ccccc23)c1COc1ccnc2c(NCc3cc(C#N)cs3)cccc12N#Cc1ccccc1/C=C/C(=O)Nc1cnc2ccccc2c1C#Cc1cccc(NC(=O)COc2c(C)cc(C)cc2C)c1C#Cc1cccc(NC(=O)C2(c3ccc(Cl)cc3)CC2)c1C#Cc1cccc(NC(=O)Cc2coc3cc(C)ccc23)c1C=CCN(CC=C)C(=O)N[C@H](C)C1CCC(F)(F)CC1C=CCN(CC=C)C(=O)N[C@@H](C)C1CCC(F)(F)CC1C=C(C)CN(CC)C(=O)N[C@H](C)C1CCC(F)(F)CC1C=C(C)CN(CC)C(=O)N[C@@H](C)C1CCC(F)(F)CC1CCC(CC)CN(CCC#N)Cc1cn(C)nc1C(F)FN#Cc1c(N2CCC[C@H]2c2ccsc2)nc2ccccn12C=CCN(CCc1ccccc1)C(=O)c1cc(Cl)c[nH]1N#Cc1cc(NC(=O)CCF)ccc1Oc1ccccc1C=CCCCN(C)C(=O)N[C@H](C)C1CCC(F)(F)CC1C=CCCCN(C)C(=O)N[C@@H](C)C1CCC(F)(F)CC1CC(=O)c1ccc(C#N)c(N[C@@H]2CCC[C@H](C)C2)c1C=CCCCCNC(=O)[C@@H]1C[C@H]1c1sccc1CC=CCCCCNC(=O)[C@H]1C[C@H]1c1sccc1CC=CCCCCNC(=O)[C@@H]1C[C@@H]1c1sccc1CC=CCCCCNC(=O)[C@H]1C[C@@H]1c1sccc1CC=C(C)CCN1CCC[C@H]1c1ccc2c(c1)OCCO2N#Cc1cc(F)cc(CN2Cc3cccc(Cl)c3C2)c1C=CCOCCN[C@@H](C)c1ccc2cc(OC)ccc2c1C=CCOCCN[C@H](C)c1ccc2cc(OC)ccc2c1CC[C@@](C)(C#N)c1nc(C[C@@H](C)c2ccccc2)no1C=CCOc1ccc(C(=O)Nc2ccccc2COC)cc1Cc1cnc([C@H](C)CNc2ccc(F)cc2C#N)s1C=C(C)CN(CC)C(=O)c1cc(C)oc1C(F)(F)F'"
      ]
     },
     "execution_count": 5,
     "metadata": {},
     "output_type": "execute_result"
    }
   ],
   "source": [
    "total_SMILES"
   ]
  },
  {
   "cell_type": "markdown",
   "metadata": {},
   "source": [
    "There are lower-case letters because:\n",
    "- The second letter of two-character symbols must be entered in lower case.\n",
    "- Atoms in aromatic rings are specified by lower case letters, e.g., aliphatic carbon is represented by the capital letter C, aromatic carbon by lower case c.\n",
    "\n",
    "=> I must find also 2-letter elements!"
   ]
  },
  {
   "cell_type": "code",
   "execution_count": 6,
   "metadata": {},
   "outputs": [],
   "source": [
    "# define an empty alphabet\n",
    "alphabet = set([])"
   ]
  },
  {
   "cell_type": "markdown",
   "metadata": {},
   "source": [
    "### 2-letter chemical elements"
   ]
  },
  {
   "cell_type": "code",
   "execution_count": 7,
   "metadata": {},
   "outputs": [],
   "source": [
    "two_letter_elements = re.findall(\"[A-Z][a-z]\", total_SMILES)\n",
    "two_letter_elements = sorted(set(two_letter_elements))"
   ]
  },
  {
   "cell_type": "code",
   "execution_count": 8,
   "metadata": {},
   "outputs": [],
   "source": [
    "#two_letter_elements"
   ]
  },
  {
   "cell_type": "code",
   "execution_count": 9,
   "metadata": {},
   "outputs": [],
   "source": [
    "periodic_table_2_letter = ['He',\n",
    "                           'Li', 'Be', 'Ne',\n",
    "                           'Na', 'Mg', 'Al', 'Si', 'Cl', 'Ar',\n",
    "                           'Ca', 'Sc', 'Ti', 'Cr', 'Mn', 'Fe', 'Co', 'Ni', 'Cu', 'Zn', 'Ga', 'Ge', 'As', 'Se', 'Br', 'Kr',\n",
    "                           'Rb', 'Sr', 'Zr', 'Nb', 'Mo', 'Tc', 'Ru', 'Pd', 'Ag', 'Cd', 'In', 'Sn', 'Sb', 'Te', 'Xe',\n",
    "                           'Cs', 'Ba', 'Hf', 'Ta', 'Re', 'Os', 'Ir', 'Pt', 'Au', 'Hg', 'Tl', 'Pb', 'Bi', 'Po', 'At', 'Rn',\n",
    "                           'Fr', 'Ra', 'Rf', 'Db', 'Sg', 'Bh', 'Hs', 'Mt', 'Ds', 'Rg', 'Cn', 'Nh', 'Fl', 'Mc', 'Lv', 'Ts', 'Og',\n",
    "                           'La', 'Ce', 'Pr', 'Nd', 'Pm', 'Sm', 'Eu', 'Gd', 'Tb', 'Dy', 'Ho', 'Er', 'Tm', 'Yb', 'Lu',\n",
    "                           'Ac', 'Th', 'Pa', 'Np', 'Pu', 'Am', 'Cm', 'Bk', 'Cf', 'Es', 'Fm', 'Md', 'No', 'Lr']"
   ]
  },
  {
   "cell_type": "code",
   "execution_count": 10,
   "metadata": {},
   "outputs": [],
   "source": [
    "for element in two_letter_elements:\n",
    "    if element in periodic_table_2_letter:\n",
    "        \n",
    "        # Add the 2-letter elements which are in the periodic table\n",
    "        alphabet.add(element)\n",
    "        \n",
    "        # Take the added 2-letter elements out of my search string (SMILES)\n",
    "        total_SMILES = re.sub(element, \"\", total_SMILES) "
   ]
  },
  {
   "cell_type": "code",
   "execution_count": 11,
   "metadata": {},
   "outputs": [],
   "source": [
    "#alphabet"
   ]
  },
  {
   "cell_type": "markdown",
   "metadata": {},
   "source": [
    "### 1-letter chemical elements"
   ]
  },
  {
   "cell_type": "code",
   "execution_count": 12,
   "metadata": {},
   "outputs": [],
   "source": [
    "one_letter_elements = re.findall(\"[A-Z]|[a-z]\", total_SMILES)\n",
    "one_letter_elements = sorted(set(one_letter_elements))"
   ]
  },
  {
   "cell_type": "code",
   "execution_count": 13,
   "metadata": {},
   "outputs": [
    {
     "data": {
      "text/plain": [
       "['C', 'F', 'H', 'N', 'O', 'P', 'S', 'c', 'n', 'o', 's']"
      ]
     },
     "execution_count": 13,
     "metadata": {},
     "output_type": "execute_result"
    }
   ],
   "source": [
    "one_letter_elements"
   ]
  },
  {
   "cell_type": "code",
   "execution_count": 14,
   "metadata": {},
   "outputs": [],
   "source": [
    "alphabet.update(one_letter_elements)\n",
    "\n",
    "for element in one_letter_elements:    \n",
    "    total_SMILES = re.sub(element, \"\", total_SMILES)         "
   ]
  },
  {
   "cell_type": "markdown",
   "metadata": {},
   "source": [
    "### Rest"
   ]
  },
  {
   "cell_type": "markdown",
   "metadata": {},
   "source": [
    "Falls ich nur 2-letter chemical Elements als Elemente mit >1 Stelle habe, kann ich 1-letter chemical elements und \"Rest\" zusammenschmeissen."
   ]
  },
  {
   "cell_type": "code",
   "execution_count": 15,
   "metadata": {},
   "outputs": [],
   "source": [
    "rest = set(list(total_SMILES))\n",
    "alphabet.update(rest)"
   ]
  },
  {
   "cell_type": "code",
   "execution_count": 16,
   "metadata": {},
   "outputs": [
    {
     "data": {
      "text/plain": [
       "{'#',\n",
       " '(',\n",
       " ')',\n",
       " '-',\n",
       " '/',\n",
       " '1',\n",
       " '2',\n",
       " '3',\n",
       " '4',\n",
       " '5',\n",
       " '=',\n",
       " '@',\n",
       " 'C',\n",
       " 'Cl',\n",
       " 'F',\n",
       " 'H',\n",
       " 'N',\n",
       " 'O',\n",
       " 'P',\n",
       " 'S',\n",
       " 'Si',\n",
       " '[',\n",
       " ']',\n",
       " 'c',\n",
       " 'n',\n",
       " 'o',\n",
       " 's'}"
      ]
     },
     "execution_count": 16,
     "metadata": {},
     "output_type": "execute_result"
    }
   ],
   "source": [
    "alphabet"
   ]
  },
  {
   "cell_type": "markdown",
   "metadata": {},
   "source": [
    "### Formal charge"
   ]
  },
  {
   "cell_type": "code",
   "execution_count": 17,
   "metadata": {},
   "outputs": [
    {
     "data": {
      "text/plain": [
       "False"
      ]
     },
     "execution_count": 17,
     "metadata": {},
     "output_type": "execute_result"
    }
   ],
   "source": [
    "total_SMILES = \"\".join(subset.canonical_SMILES)    # retrieve the original SMILES string\n",
    "\"+\" in total_SMILES # False"
   ]
  },
  {
   "cell_type": "markdown",
   "metadata": {},
   "source": [
    "In the subset I have right now, there is no +\\\n",
    "=> There is probably no charge indicated!\\\n",
    "-> Is that always the case for canonical SMILES? (on the daylight page, it seems so)\\\n",
    "\\\n",
    "Check also with PubChem Set!"
   ]
  },
  {
   "cell_type": "markdown",
   "metadata": {},
   "source": [
    "### Implicit hydrogen count\n",
    "\n",
    "In this subset, I also can't find an example of that.\\\n",
    "e.g. h5"
   ]
  },
  {
   "cell_type": "markdown",
   "metadata": {},
   "source": [
    "### Degree\n",
    "\n",
    "Also not present in this subset"
   ]
  },
  {
   "cell_type": "markdown",
   "metadata": {},
   "source": [
    "### Valence\n",
    "\n",
    "Also not present in this subset"
   ]
  },
  {
   "cell_type": "markdown",
   "metadata": {},
   "source": [
    "## Write output"
   ]
  },
  {
   "cell_type": "code",
   "execution_count": 30,
   "metadata": {},
   "outputs": [],
   "source": [
    "#with open(\"alphabet_result.txt\", \"w\") as output_file:\n",
    "#    output_file.writelines(list(alphabet))"
   ]
  }
 ],
 "metadata": {
  "kernelspec": {
   "display_name": "Python 3",
   "language": "python",
   "name": "python3"
  },
  "language_info": {
   "codemirror_mode": {
    "name": "ipython",
    "version": 3
   },
   "file_extension": ".py",
   "mimetype": "text/x-python",
   "name": "python",
   "nbconvert_exporter": "python",
   "pygments_lexer": "ipython3",
   "version": "3.6.10"
  }
 },
 "nbformat": 4,
 "nbformat_minor": 4
}
