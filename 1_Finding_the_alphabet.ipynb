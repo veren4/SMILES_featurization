{
 "cells": [
  {
   "cell_type": "code",
   "execution_count": 1,
   "metadata": {},
   "outputs": [],
   "source": [
    "import pandas as pd\n",
    "import numpy as np\n",
    "import re"
   ]
  },
  {
   "cell_type": "markdown",
   "metadata": {},
   "source": [
    "I import the subset from ZINC15 taken from Chris' dataset on the rostserver: \"canonical_smiles.txt\". It conains 100 canonical SMILES."
   ]
  },
  {
   "cell_type": "code",
   "execution_count": 2,
   "metadata": {},
   "outputs": [],
   "source": [
    "subset = pd.read_table('../datasets/sets_from_Chris/canonical_smiles_first_100.txt', header=None)\n",
    "\n",
    "subset = subset.drop_duplicates()          # throw out duplicates"
   ]
  },
  {
   "cell_type": "code",
   "execution_count": 3,
   "metadata": {},
   "outputs": [],
   "source": [
    "subset = subset.rename(columns={0: \"canonical_SMILES\"})"
   ]
  },
  {
   "cell_type": "markdown",
   "metadata": {},
   "source": [
    "- Wofür steht das @? \\\n",
    "In SMILES, tetrahedral centers may be indicated by a simplified chiral specification (@ or @@) written as an atomic property following the atomic symbol of the chiral atom.\\\n",
    "The symbol \"@\" indicates that the following neighbors are listed anticlockwise (it is a \"visual mnemonic\" in that the symbol looks like an anticlockwise spiral around a central circle).\\\n",
    "\"@@\" indicates that the neighbors are listed clockwise (you guessed it, anti-anti-clockwise). \n",
    "\n",
    "\n",
    "- Wurde die Transformation mit RDKit gemacht?"
   ]
  },
  {
   "cell_type": "markdown",
   "metadata": {},
   "source": [
    "### Find out the alphabet"
   ]
  },
  {
   "cell_type": "markdown",
   "metadata": {},
   "source": [
    "Are we interested in the non-alphabetic signs? I can't think of any."
   ]
  },
  {
   "cell_type": "code",
   "execution_count": 4,
   "metadata": {},
   "outputs": [],
   "source": [
    "total_SMILES = \"\".join(subset.canonical_SMILES)"
   ]
  },
  {
   "cell_type": "markdown",
   "metadata": {},
   "source": [
    "There are lower-case letters because:\n",
    "- The second letter of two-character symbols must be entered in lower case.\n",
    "- Atoms in aromatic rings are specified by lower case letters, e.g., aliphatic carbon is represented by the capital letter C, aromatic carbon by lower case c.\n",
    "\n",
    "=> I must find also 2-letter elements!"
   ]
  },
  {
   "cell_type": "markdown",
   "metadata": {},
   "source": [
    "First, extract the 2-letter elements."
   ]
  },
  {
   "cell_type": "code",
   "execution_count": 5,
   "metadata": {},
   "outputs": [],
   "source": [
    "two_letter_elements = re.findall(\"[A-Z][a-z]\", total_SMILES)\n",
    "two_letter_elements = sorted(set(two_letter_elements))"
   ]
  },
  {
   "cell_type": "code",
   "execution_count": 6,
   "metadata": {},
   "outputs": [],
   "source": [
    "total_SMILES = re.sub(\"[A-Z][a-z]\", \"\", total_SMILES)"
   ]
  },
  {
   "cell_type": "code",
   "execution_count": 7,
   "metadata": {
    "scrolled": true
   },
   "outputs": [],
   "source": [
    "only_alpha = \"\"\n",
    "\n",
    "for char in total_SMILES:\n",
    "    \n",
    "    # CHECKING FOR UPPER CASE\n",
    "    if ord(char) >= 65 and ord(char) <= 90:      # ord(chr) returns the ascii value\n",
    "        only_alpha += char\n",
    "        \n",
    "        # checking for lower case        \n",
    "    elif ord(char) >= 97 and ord(char) <= 122:\n",
    "        only_alpha += char\n",
    "\n",
    "#print(only_alpha)"
   ]
  },
  {
   "cell_type": "markdown",
   "metadata": {},
   "source": [
    "In the following, I want to ignore cases, as in 'C' and 'c' only count as 'C' in the final alphabet."
   ]
  },
  {
   "cell_type": "code",
   "execution_count": 8,
   "metadata": {},
   "outputs": [
    {
     "data": {
      "text/plain": [
       "['C', 'Cc', 'Cl', 'F', 'H', 'N', 'Nc', 'O', 'Oc', 'P', 'S', 'Si']"
      ]
     },
     "execution_count": 8,
     "metadata": {},
     "output_type": "execute_result"
    }
   ],
   "source": [
    "only_alpha = only_alpha.upper()\n",
    "alphabet = sorted(set(only_alpha))\n",
    "alphabet = sorted(alphabet + two_letter_elements)   # Combine the element lists\n",
    "alphabet"
   ]
  },
  {
   "cell_type": "markdown",
   "metadata": {},
   "source": [
    "Attention: Handle non-chemical list elements, lice Oc   ( and Cc)\n",
    "Occurs e.g. in subset['canonical_SMILES'][5]"
   ]
  },
  {
   "cell_type": "code",
   "execution_count": 9,
   "metadata": {},
   "outputs": [
    {
     "data": {
      "text/plain": [
       "'COc1cc2oc(-c3ccc(O)cc3)cc(=O)c2c(O)c1[C@@H]1O[C@H](CO)[C@@H](O[C@@H]2O[C@H](CO)[C@@H](O)[C@H](O)[C@H]2O)[C@H](O)[C@H]1O'"
      ]
     },
     "execution_count": 9,
     "metadata": {},
     "output_type": "execute_result"
    }
   ],
   "source": [
    "# subset['canonical_SMILES'][5]"
   ]
  },
  {
   "cell_type": "markdown",
   "metadata": {},
   "source": [
    "# Find the alphabet using RdKit with SMARTS syntax\n",
    "Available: subset\n",
    "\n",
    "SMARTS syntax: wildcards *\n",
    "\n",
    "http://www.rdkit.org/docs/GettingStartedInPython.html#substructure-searching"
   ]
  },
  {
   "cell_type": "code",
   "execution_count": 14,
   "metadata": {},
   "outputs": [
    {
     "data": {
      "text/html": [
       "<div>\n",
       "<style scoped>\n",
       "    .dataframe tbody tr th:only-of-type {\n",
       "        vertical-align: middle;\n",
       "    }\n",
       "\n",
       "    .dataframe tbody tr th {\n",
       "        vertical-align: top;\n",
       "    }\n",
       "\n",
       "    .dataframe thead th {\n",
       "        text-align: right;\n",
       "    }\n",
       "</style>\n",
       "<table border=\"1\" class=\"dataframe\">\n",
       "  <thead>\n",
       "    <tr style=\"text-align: right;\">\n",
       "      <th></th>\n",
       "      <th>canonical_SMILES</th>\n",
       "    </tr>\n",
       "  </thead>\n",
       "  <tbody>\n",
       "    <tr>\n",
       "      <th>0</th>\n",
       "      <td>C[C@@H]1C(=O)O[C@H]2[C@H](O)[C@@]34[C@H]5OC(=O...</td>\n",
       "    </tr>\n",
       "    <tr>\n",
       "      <th>1</th>\n",
       "      <td>C[C@@H]1C(=O)O[C@H]2[C@H](O)[C@@]34[C@@H]5OC(=...</td>\n",
       "    </tr>\n",
       "    <tr>\n",
       "      <th>2</th>\n",
       "      <td>C[C@@H]1C(=O)O[C@H]2[C@H](O)[C@@]34[C@H]5OC(=O...</td>\n",
       "    </tr>\n",
       "    <tr>\n",
       "      <th>3</th>\n",
       "      <td>C[C@@H]1C(=O)O[C@H]2[C@H](O)[C@@]34[C@@H]5OC(=...</td>\n",
       "    </tr>\n",
       "    <tr>\n",
       "      <th>4</th>\n",
       "      <td>O=c1cc(-c2ccc(O)cc2)oc2c(O)c(O[C@@H]3O[C@H](CO...</td>\n",
       "    </tr>\n",
       "  </tbody>\n",
       "</table>\n",
       "</div>"
      ],
      "text/plain": [
       "                                    canonical_SMILES\n",
       "0  C[C@@H]1C(=O)O[C@H]2[C@H](O)[C@@]34[C@H]5OC(=O...\n",
       "1  C[C@@H]1C(=O)O[C@H]2[C@H](O)[C@@]34[C@@H]5OC(=...\n",
       "2  C[C@@H]1C(=O)O[C@H]2[C@H](O)[C@@]34[C@H]5OC(=O...\n",
       "3  C[C@@H]1C(=O)O[C@H]2[C@H](O)[C@@]34[C@@H]5OC(=...\n",
       "4  O=c1cc(-c2ccc(O)cc2)oc2c(O)c(O[C@@H]3O[C@H](CO..."
      ]
     },
     "execution_count": 14,
     "metadata": {},
     "output_type": "execute_result"
    }
   ],
   "source": [
    "subset.head()"
   ]
  },
  {
   "cell_type": "code",
   "execution_count": 16,
   "metadata": {},
   "outputs": [],
   "source": [
    "import rdkit.Chem as Chem"
   ]
  },
  {
   "cell_type": "code",
   "execution_count": 17,
   "metadata": {},
   "outputs": [
    {
     "data": {
      "text/plain": [
       "True"
      ]
     },
     "execution_count": 17,
     "metadata": {},
     "output_type": "execute_result"
    }
   ],
   "source": [
    "m = Chem.MolFromSmiles('C1=CC=CC=C1OC')\n",
    "m.HasSubstructMatch(Chem.MolFromSmiles('CO'))"
   ]
  },
  {
   "cell_type": "markdown",
   "metadata": {},
   "source": [
    "Idee: find all present substructures => \"alphabet\""
   ]
  }
 ],
 "metadata": {
  "kernelspec": {
   "display_name": "Python 3",
   "language": "python",
   "name": "python3"
  },
  "language_info": {
   "codemirror_mode": {
    "name": "ipython",
    "version": 3
   },
   "file_extension": ".py",
   "mimetype": "text/x-python",
   "name": "python",
   "nbconvert_exporter": "python",
   "pygments_lexer": "ipython3",
   "version": "3.6.10"
  }
 },
 "nbformat": 4,
 "nbformat_minor": 4
}
