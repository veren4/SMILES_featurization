{
  "nbformat": 4,
  "nbformat_minor": 0,
  "metadata": {
    "colab": {
      "name": "0_Tokenization.ipynb",
      "provenance": [],
      "toc_visible": true,
      "mount_file_id": "1hRbCe-Rdzw_FsGOYGkXRVqWNP91ggVfo",
      "authorship_tag": "ABX9TyOrXSmr97kiyS2yrGQ+LUEf",
      "include_colab_link": true
    },
    "kernelspec": {
      "name": "python3",
      "display_name": "Python 3"
    }
  },
  "cells": [
    {
      "cell_type": "markdown",
      "metadata": {
        "id": "view-in-github",
        "colab_type": "text"
      },
      "source": [
        "<a href=\"https://colab.research.google.com/github/veren4/SMILES_featurization/blob/master/0_Tokenization.ipynb\" target=\"_parent\"><img src=\"https://colab.research.google.com/assets/colab-badge.svg\" alt=\"Open In Colab\"/></a>"
      ]
    },
    {
      "cell_type": "code",
      "metadata": {
        "id": "0bTjfUDnwDkZ",
        "colab_type": "code",
        "colab": {
          "base_uri": "https://localhost:8080/",
          "height": 367
        },
        "outputId": "53ad5ed5-02b1-491c-f202-4cf84fc4af82"
      },
      "source": [
        "!pip install SmilesPE\n",
        "\n",
        "from SmilesPE.pretokenizer import atomwise_tokenizer"
      ],
      "execution_count": null,
      "outputs": [
        {
          "output_type": "stream",
          "text": [
            "Requirement already satisfied: SmilesPE in /usr/local/lib/python3.6/dist-packages (0.0.3)\n",
            "Requirement already satisfied: fastprogress in /usr/local/lib/python3.6/dist-packages (from SmilesPE) (1.0.0)\n",
            "Requirement already satisfied: gensim in /usr/local/lib/python3.6/dist-packages (from SmilesPE) (3.6.0)\n",
            "Requirement already satisfied: numpy in /usr/local/lib/python3.6/dist-packages (from fastprogress->SmilesPE) (1.18.5)\n",
            "Requirement already satisfied: scipy>=0.18.1 in /usr/local/lib/python3.6/dist-packages (from gensim->SmilesPE) (1.4.1)\n",
            "Requirement already satisfied: smart-open>=1.2.1 in /usr/local/lib/python3.6/dist-packages (from gensim->SmilesPE) (2.1.0)\n",
            "Requirement already satisfied: six>=1.5.0 in /usr/local/lib/python3.6/dist-packages (from gensim->SmilesPE) (1.15.0)\n",
            "Requirement already satisfied: boto in /usr/local/lib/python3.6/dist-packages (from smart-open>=1.2.1->gensim->SmilesPE) (2.49.0)\n",
            "Requirement already satisfied: boto3 in /usr/local/lib/python3.6/dist-packages (from smart-open>=1.2.1->gensim->SmilesPE) (1.14.48)\n",
            "Requirement already satisfied: requests in /usr/local/lib/python3.6/dist-packages (from smart-open>=1.2.1->gensim->SmilesPE) (2.23.0)\n",
            "Requirement already satisfied: s3transfer<0.4.0,>=0.3.0 in /usr/local/lib/python3.6/dist-packages (from boto3->smart-open>=1.2.1->gensim->SmilesPE) (0.3.3)\n",
            "Requirement already satisfied: botocore<1.18.0,>=1.17.48 in /usr/local/lib/python3.6/dist-packages (from boto3->smart-open>=1.2.1->gensim->SmilesPE) (1.17.48)\n",
            "Requirement already satisfied: jmespath<1.0.0,>=0.7.1 in /usr/local/lib/python3.6/dist-packages (from boto3->smart-open>=1.2.1->gensim->SmilesPE) (0.10.0)\n",
            "Requirement already satisfied: urllib3!=1.25.0,!=1.25.1,<1.26,>=1.21.1 in /usr/local/lib/python3.6/dist-packages (from requests->smart-open>=1.2.1->gensim->SmilesPE) (1.24.3)\n",
            "Requirement already satisfied: certifi>=2017.4.17 in /usr/local/lib/python3.6/dist-packages (from requests->smart-open>=1.2.1->gensim->SmilesPE) (2020.6.20)\n",
            "Requirement already satisfied: chardet<4,>=3.0.2 in /usr/local/lib/python3.6/dist-packages (from requests->smart-open>=1.2.1->gensim->SmilesPE) (3.0.4)\n",
            "Requirement already satisfied: idna<3,>=2.5 in /usr/local/lib/python3.6/dist-packages (from requests->smart-open>=1.2.1->gensim->SmilesPE) (2.10)\n",
            "Requirement already satisfied: docutils<0.16,>=0.10 in /usr/local/lib/python3.6/dist-packages (from botocore<1.18.0,>=1.17.48->boto3->smart-open>=1.2.1->gensim->SmilesPE) (0.15.2)\n",
            "Requirement already satisfied: python-dateutil<3.0.0,>=2.1 in /usr/local/lib/python3.6/dist-packages (from botocore<1.18.0,>=1.17.48->boto3->smart-open>=1.2.1->gensim->SmilesPE) (2.8.1)\n"
          ],
          "name": "stdout"
        }
      ]
    },
    {
      "cell_type": "markdown",
      "metadata": {
        "id": "LHSDwddrwT-k",
        "colab_type": "text"
      },
      "source": [
        "# Load the dataset"
      ]
    },
    {
      "cell_type": "code",
      "metadata": {
        "id": "ksdr3uCcwVEw",
        "colab_type": "code",
        "colab": {}
      },
      "source": [
        "from pydrive.auth import GoogleAuth\n",
        "from pydrive.drive import GoogleDrive\n",
        "from google.colab import auth\n",
        "from oauth2client.client import GoogleCredentials\n",
        "\n",
        "auth.authenticate_user()\n",
        "gauth = GoogleAuth()\n",
        "gauth.credentials = GoogleCredentials.get_application_default()\n",
        "drive = GoogleDrive(gauth)\n",
        "\n",
        "file_id = '1lX3mV3DBYiMxp4xICvUt4fxRyeNSpwN7'\n",
        "my_dataset = drive.CreateFile({'id': file_id})"
      ],
      "execution_count": null,
      "outputs": []
    },
    {
      "cell_type": "code",
      "metadata": {
        "id": "zrGlKmdOwZGB",
        "colab_type": "code",
        "colab": {
          "base_uri": "https://localhost:8080/",
          "height": 312
        },
        "outputId": "d815350a-a7df-46bd-c014-fffda5b61a01"
      },
      "source": [
        "print(my_dataset.GetContentString())"
      ],
      "execution_count": null,
      "outputs": [
        {
          "output_type": "stream",
          "text": [
            "C(C(C(COP(=O)(O)O)O)O)C(=O)C(=O)O\n",
            "CCC(C)C(=O)C(=O)O\n",
            "CC(C)(COP(=O)(O)OP(=O)(O)OCC1C(C(C(O1)N2C=NC3=C(N=CN=C32)N)O)OP(=O)(O)O)C(C(=O)NCCC(=O)NCCSC(=O)CC(CCC(=O)O)O)O\n",
            "C1=CC(=CC(=C1)O)CCC(=O)O\n",
            "COC1=CC2=C(C=CN=C2C=C1)C(C3CC4CCN3CC4(C=C)O)O\n",
            "C(CC(=O)O)C(=O)CC(=O)O\n",
            "CC(C)(COP(=O)(O)OP(=O)(O)OCC1C(C(C(O1)N2C=NC3=C(N=CN=C32)N)O)OP(=O)(O)O)C(C(=O)NCCC(=O)NCCSC(=O)CC(=O)CCC(=O)O)O\n",
            "C(C(C(C(=O)C(C(=O)O)O)O)O)O\n",
            "CC(=O)CC(=O)O\n",
            "C(C1C(C(C(C(O1)O)O)O)OC2C(C(=O)C(C(O2)CO)O)O)O\n",
            "C(C(=O)C(=O)O)S\n",
            "CC(=CC(=O)SCCNC(=O)CCNC(=O)C(C(C)(C)COP(=O)(O)OP(=O)(O)OCC1C(C(C(O1)N2C=NC3=C(N=CN=C32)N)O)OP(=O)(O)O)O)C\n",
            "CC(=CCCC(=CCCC(=CCCC(=CCCC(=CCCC(=CCCC(=CCCC(=CCC1=C(C=CC(=C1)C(=O)O)O)C)C)C)C)C)C)C)C\n",
            "C1=CC(=CC(=C1)O)C=O\n",
            "\n",
            "\n",
            "\n"
          ],
          "name": "stdout"
        }
      ]
    },
    {
      "cell_type": "code",
      "metadata": {
        "id": "9CNOrEinwayC",
        "colab_type": "code",
        "colab": {}
      },
      "source": [
        "my_data = []\n",
        "\n",
        "for line in my_dataset.GetContentString().splitlines():\n",
        "  my_data.append(line)\n",
        "\n",
        "my_data = list(filter(None, my_data))               # 1 list item = 1 SMILES"
      ],
      "execution_count": null,
      "outputs": []
    },
    {
      "cell_type": "code",
      "metadata": {
        "id": "GTUvIU76wpKv",
        "colab_type": "code",
        "colab": {
          "base_uri": "https://localhost:8080/",
          "height": 54
        },
        "outputId": "cda95626-3e87-4ca9-d5c8-16245c3137d2"
      },
      "source": [
        "print(my_data)"
      ],
      "execution_count": null,
      "outputs": [
        {
          "output_type": "stream",
          "text": [
            "['C(C(C(COP(=O)(O)O)O)O)C(=O)C(=O)O', 'CCC(C)C(=O)C(=O)O', 'CC(C)(COP(=O)(O)OP(=O)(O)OCC1C(C(C(O1)N2C=NC3=C(N=CN=C32)N)O)OP(=O)(O)O)C(C(=O)NCCC(=O)NCCSC(=O)CC(CCC(=O)O)O)O', 'C1=CC(=CC(=C1)O)CCC(=O)O', 'COC1=CC2=C(C=CN=C2C=C1)C(C3CC4CCN3CC4(C=C)O)O', 'C(CC(=O)O)C(=O)CC(=O)O', 'CC(C)(COP(=O)(O)OP(=O)(O)OCC1C(C(C(O1)N2C=NC3=C(N=CN=C32)N)O)OP(=O)(O)O)C(C(=O)NCCC(=O)NCCSC(=O)CC(=O)CCC(=O)O)O', 'C(C(C(C(=O)C(C(=O)O)O)O)O)O', 'CC(=O)CC(=O)O', 'C(C1C(C(C(C(O1)O)O)O)OC2C(C(=O)C(C(O2)CO)O)O)O', 'C(C(=O)C(=O)O)S', 'CC(=CC(=O)SCCNC(=O)CCNC(=O)C(C(C)(C)COP(=O)(O)OP(=O)(O)OCC1C(C(C(O1)N2C=NC3=C(N=CN=C32)N)O)OP(=O)(O)O)O)C', 'CC(=CCCC(=CCCC(=CCCC(=CCCC(=CCCC(=CCCC(=CCCC(=CCC1=C(C=CC(=C1)C(=O)O)O)C)C)C)C)C)C)C)C', 'C1=CC(=CC(=C1)O)C=O']\n"
          ],
          "name": "stdout"
        }
      ]
    },
    {
      "cell_type": "code",
      "metadata": {
        "id": "rrkvvvXoyGOX",
        "colab_type": "code",
        "colab": {
          "base_uri": "https://localhost:8080/",
          "height": 34
        },
        "outputId": "e0359866-89d5-4afd-8272-b01a06f69dd0"
      },
      "source": [
        "len(my_data)"
      ],
      "execution_count": null,
      "outputs": [
        {
          "output_type": "execute_result",
          "data": {
            "text/plain": [
              "14"
            ]
          },
          "metadata": {
            "tags": []
          },
          "execution_count": 18
        }
      ]
    },
    {
      "cell_type": "code",
      "metadata": {
        "id": "pPZ3JRsuwq8-",
        "colab_type": "code",
        "colab": {}
      },
      "source": [
        "my_tokenized_data = []\n",
        "vocabulary = set()\n",
        "\n",
        "for SMILES in my_data:\n",
        "    current_tokens = atomwise_tokenizer(SMILES)\n",
        "    vocabulary.update(current_tokens)\n",
        "    my_tokenized_data.append(current_tokens)"
      ],
      "execution_count": null,
      "outputs": []
    },
    {
      "cell_type": "code",
      "metadata": {
        "id": "Aa5vYhJNySVQ",
        "colab_type": "code",
        "colab": {
          "base_uri": "https://localhost:8080/",
          "height": 34
        },
        "outputId": "8e35d9ee-37a6-4bb8-e8a3-982b7626ac1e"
      },
      "source": [
        "len(my_tokenized_data)"
      ],
      "execution_count": null,
      "outputs": [
        {
          "output_type": "execute_result",
          "data": {
            "text/plain": [
              "14"
            ]
          },
          "metadata": {
            "tags": []
          },
          "execution_count": 21
        }
      ]
    },
    {
      "cell_type": "code",
      "metadata": {
        "id": "s5vdZVBUyg9X",
        "colab_type": "code",
        "colab": {
          "base_uri": "https://localhost:8080/",
          "height": 34
        },
        "outputId": "3e18003f-1136-4d7a-e7f8-2056a9bbe2c5"
      },
      "source": [
        "vocabulary"
      ],
      "execution_count": null,
      "outputs": [
        {
          "output_type": "execute_result",
          "data": {
            "text/plain": [
              "{'(', ')', '1', '2', '3', '4', '=', 'C', 'N', 'O', 'P', 'S'}"
            ]
          },
          "metadata": {
            "tags": []
          },
          "execution_count": 26
        }
      ]
    },
    {
      "cell_type": "markdown",
      "metadata": {
        "id": "8mkssCegyurL",
        "colab_type": "text"
      },
      "source": [
        "# Save the output"
      ]
    },
    {
      "cell_type": "code",
      "metadata": {
        "id": "zfyQychqy4tF",
        "colab_type": "code",
        "colab": {}
      },
      "source": [
        "from google.colab import drive\n",
        "drive.mount('/content/drive')"
      ],
      "execution_count": null,
      "outputs": []
    },
    {
      "cell_type": "code",
      "metadata": {
        "id": "AD3QzfhM-hVs",
        "colab_type": "code",
        "colab": {}
      },
      "source": [
        "import pickle"
      ],
      "execution_count": null,
      "outputs": []
    },
    {
      "cell_type": "code",
      "metadata": {
        "id": "4rTAaDHS-kbT",
        "colab_type": "code",
        "colab": {}
      },
      "source": [
        "f1 = open('/content/drive/My Drive/Rostlab internship/6_AllenNLP/Vocabulary', 'wb')\n",
        "pickle.dump(vocabulary, f1)\n",
        "f1.close()"
      ],
      "execution_count": null,
      "outputs": []
    },
    {
      "cell_type": "code",
      "metadata": {
        "id": "LpNjjsPZ8fZJ",
        "colab_type": "code",
        "colab": {}
      },
      "source": [
        "\n",
        "f2 = open('/content/drive/My Drive/Rostlab internship/6_AllenNLP/Tokenized_Dataset', 'wb')\n",
        "pickle.dump(my_tokenized_data, f2)\n",
        "f2.close()"
      ],
      "execution_count": null,
      "outputs": []
    },
    {
      "cell_type": "code",
      "metadata": {
        "id": "1jb_6NOf_Dsh",
        "colab_type": "code",
        "colab": {}
      },
      "source": [
        "f3 = open('/content/drive/My Drive/Rostlab internship/6_AllenNLP/Untokenized_Dataset', 'wb')\n",
        "pickle.dump(my_data, f3)\n",
        "f3.close()"
      ],
      "execution_count": null,
      "outputs": []
    },
    {
      "cell_type": "code",
      "metadata": {
        "id": "p4yOw2ncDXJy",
        "colab_type": "code",
        "colab": {}
      },
      "source": [
        ""
      ],
      "execution_count": null,
      "outputs": []
    }
  ]
}