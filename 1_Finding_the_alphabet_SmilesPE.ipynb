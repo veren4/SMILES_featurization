{
 "cells": [
  {
   "cell_type": "code",
   "execution_count": 1,
   "metadata": {},
   "outputs": [],
   "source": [
    "import pandas as pd"
   ]
  },
  {
   "cell_type": "markdown",
   "metadata": {},
   "source": [
    "I import the subset from ZINC15 taken from Chris' dataset on the rostserver: \"canonical_smiles.txt\". It conains 100 canonical SMILES."
   ]
  },
  {
   "cell_type": "code",
   "execution_count": 2,
   "metadata": {},
   "outputs": [],
   "source": [
    "subset = pd.read_table('../datasets/sets_from_Chris/canonical_smiles_first_100.txt', header=None)\n",
    "\n",
    "subset = subset.drop_duplicates()          # throw out duplicates"
   ]
  },
  {
   "cell_type": "code",
   "execution_count": 3,
   "metadata": {},
   "outputs": [],
   "source": [
    "subset = subset.rename(columns={0: \"canonical_SMILES\"})"
   ]
  },
  {
   "cell_type": "markdown",
   "metadata": {},
   "source": [
    "- Wofür steht das @? \\\n",
    "In SMILES, tetrahedral centers may be indicated by a simplified chiral specification (@ or @@) written as an atomic property following the atomic symbol of the chiral atom.\\\n",
    "The symbol \"@\" indicates that the following neighbors are listed anticlockwise (it is a \"visual mnemonic\" in that the symbol looks like an anticlockwise spiral around a central circle).\\\n",
    "\"@@\" indicates that the neighbors are listed clockwise (you guessed it, anti-anti-clockwise). \n",
    "\n",
    "\n",
    "- Wurde die Transformation mit RDKit gemacht?"
   ]
  },
  {
   "cell_type": "markdown",
   "metadata": {},
   "source": [
    "# Find out the alphabet"
   ]
  },
  {
   "cell_type": "markdown",
   "metadata": {},
   "source": [
    "Are we interested in the non-alphabetic signs? I can't think of any."
   ]
  },
  {
   "cell_type": "code",
   "execution_count": 4,
   "metadata": {},
   "outputs": [],
   "source": [
    "total_SMILES = \"\".join(subset.canonical_SMILES)"
   ]
  },
  {
   "cell_type": "code",
   "execution_count": 5,
   "metadata": {},
   "outputs": [
    {
     "data": {
      "text/plain": [
       "'C[C@@H]1C(=O)O[C@H]2[C@H](O)[C@@]34[C@H]5OC(=O)[C@@]3(O[C@H]3OC(=O)[C@H](O)[C@]34[C@H](C(C)(C)C)[C@H]5OS(=O)(=O)C(F)(F)F)[C@@]12OC[C@@H]1C(=O)O[C@H]2[C@H](O)[C@@]34[C@@H]5OC(=O)[C@@]3(O[C@H]3OC(=O)[C@H](O)[C@]34[C@H](C(C)(C)C)[C@H]5OS(=O)(=O)C(F)(F)F)[C@@]12OC[C@@H]1C(=O)O[C@H]2[C@H](O)[C@@]34[C@H]5OC(=O)[C@@]3(O[C@H]3OC(=O)[C@H](O)[C@@]34[C@H](C(C)(C)C)[C@H]5OS(=O)(=O)C(F)(F)F)[C@@]12OC[C@@H]1C(=O)O[C@H]2[C@H](O)[C@@]34[C@@H]5OC(=O)[C@@]3(O[C@H]3OC(=O)[C@H](O)[C@@]34[C@H](C(C)(C)C)[C@H]5OS(=O)(=O)C(F)(F)F)[C@@]12OO=c1cc(-c2ccc(O)cc2)oc2c(O)c(O[C@@H]3O[C@H](CO)[C@@H](O)[C@H](O)[C@H]3O[C@@H]3O[C@H](CO)[C@@H](O)[C@@H](O)[C@H]3O)cc(O)c12COc1cc2oc(-c3ccc(O)cc3)cc(=O)c2c(O)c1[C@@H]1O[C@H](CO)[C@@H](O[C@@H]2O[C@H](CO)[C@@H](O)[C@H](O)[C@H]2O)[C@H](O)[C@H]1OO=c1cc(-c2ccc(O)cc2)oc2c([C@@H]3O[C@H](CO)[C@H](O)[C@H](O)[C@H]3O)c(O)c([C@@H]3O[C@H](CO)[C@H](O)[C@H](O)[C@H]3O)c(O)c12COc1cc2oc(-c3ccc(O)cc3)cc(=O)c2c(O[C@@H]2O[C@H](CO)[C@@H](O)[C@H](O)[C@H]2O)c1[C@@H]1O[C@H](CO)[C@@H](O)[C@H](O)[C@H]1OCOc1cc(O[C@@H]2O[C@H](CO)[C@@H](O)[C@H](O)[C@H]2O)c2c(=O)cc(-c3ccc(O)cc3)oc2c1[C@@H]1O[C@H](CO)[C@@H](O)[C@H](O)[C@H]1ONc1ccn([C@@H]2CO[C@H](CO[P@@](=O)(O)O[C@H]3C[C@H](n4cnc5c(N)ncnc54)O[C@@H]3COP(=O)(O)O)[C@H]2O)c(=O)n1COc1cc(-c2oc3cc(O)ccc3c(=O)c2O[C@@H]2O[C@H](CO[C@@H]3O[C@@H](C)[C@H](O)[C@@H](O)[C@H]3O)[C@@H](O)[C@H](O)[C@H]2O)ccc1OCOc1cc(-c2cc(=O)c3c(O)cc(O[C@@H]4O[C@H](CO)[C@@H](O)[C@H](O)[C@H]4O[C@@H]4O[C@H](COC(C)=O)[C@@H](O)[C@H](O)[C@H]4O)cc3o2)ccc1OCOc1cc(-c2coc3cc(O[C@@H]4O[C@H](CO[C@@H]5O[C@H](CO)[C@@H](O)[C@H](O)[C@H]5O)[C@@H](O)[C@H](O)[C@H]4O)c(OC)c(O)c3c2=O)cc(O)c1OCO=c1c(O)c(-c2ccc(O[C@@H]3O[C@H](CO)[C@@H](O)[C@H](O)[C@H]3O)c(O)c2)oc2cc(O)cc(O[C@@H]3O[C@H](CO)[C@@H](O)[C@H](O)[C@H]3O)c12C[C@@H]1C(=O)O[C@H]2[C@H](O)[C@@]34[C@@H]5OC(=O)[C@@]3(O[C@@H]3OC(=O)[C@H](O)[C@@]34[C@H](C(C)(C)C)[C@H]5OS(=O)(=O)C(F)(F)F)[C@@]12OC[C@@H]1C(=O)O[C@H]2[C@H](O)[C@@]34[C@@H]5OC(=O)[C@@]3(O[C@@H]3OC(=O)[C@H](O)[C@]34[C@H](C(C)(C)C)[C@H]5OS(=O)(=O)C(F)(F)F)[C@@]12ONc1ncnc2c1ncn2[C@@H]1O[C@@H](CO[P@](=O)(O)OC=P(O)(O)CO[P@](=O)(O)OC[C@H]2O[C@@H](n3cnc4c(N)ncnc43)[C@H](O)[C@@H]2O)[C@@H](O)[C@H]1ONc1ncnc2c1ncn2[C@H]1O[C@H](CO[P@@](=O)(O)OCP(O)(O)=CO[P@@](=O)(O)OC[C@@H]2O[C@@H](n3cnc4c(N)ncnc43)[C@H](O)[C@@H]2O)[C@@H](O)[C@H]1OC[C@@H]1C(=O)O[C@H]2[C@H](O)[C@@]34[C@H]5OC(=O)[C@@]3(O[C@@H]3OC(=O)[C@H](O)[C@@]34[C@H](C(C)(C)C)[C@H]5OS(=O)(=O)C(F)(F)F)[C@@]12OO1[SiH]2O[SiH]3O[SiH]4O[SiH]1O[SiH]1O[SiH](O2)O[SiH]2O[SiH](O1)O[SiH](O[SiH](O3)O2)O4C[C@H]1CCC[C@H](C)N1CCCOc1ccc(C#N)cc1Cc1cc(C#N)nc(S[C@H](C)c2ccc(F)cc2)n1CCN(C(=O)c1ccc(C#N)[nH]1)c1ccc2ccccc2c1CC1CCN(c2cccc(NC(=O)C3(C#N)CCC3)c2)CC1Cc1cc(N2CCCCCC2)ccc1N[C@H](C)C#NC=CCN(Cc1ccccc1F)C(=O)[C@@H](C)c1ccccn1C=CCN(Cc1ccccc1F)C(=O)[C@H](C)c1ccccn1C[C@@H](NC(=O)C(C)(C)c1cccs1)c1ccc(C#N)cc1C#CC1CCN(CCCc2cccc(C(F)(F)F)c2)CC1COC(=O)c1ccc(SCc2cccc(C#N)c2)cc1CCC[C@H](C(=O)N[C@@]1(C#N)CCC[C@H](C)C1)c1ccccn1CCC[C@H](C(=O)N[C@]1(C#N)CCC[C@H](C)C1)c1ccccn1C=CC(C)(C)CCNC(=O)[C@@H]1CCCCC1(F)FN#Cc1ccc(CNc2c(F)cccc2N2CCCC2)cc1Cc1ccc([C@H](C)CN(CCC#N)CC2CC2)cc1CCN(Cc1cc(F)cc(C#N)c1)Cc1cccc(OC)c1C[C@@H]1Cc2ccccc2CN1Cc1cc(F)cc(C#N)c1CCC[C@H](C(=O)N[C@]1(C#N)CCC[C@@H](C)C1)c1ccccn1C[C@H]1Cc2ccccc2CN1Cc1cc(F)cc(C#N)c1CCC[C@H](C(=O)N[C@@]1(C#N)CCC[C@@H](C)C1)c1ccccn1Cc1cc(C#N)nc(S[C@@H](C)c2ccc(F)cc2)n1C=CCC(F)(F)C(=O)N(C)[C@H](C)c1ccccc1CCc1cc(C#N)nc(SCc2cccc(Cl)c2)n1CC1(C)CN(C(=O)c2sccc2CC#N)CC(C)(C)C1N#Cc1ccccc1CNc1c(F)cccc1N1CCCC1C[C@@H](CCC(=O)[C@@H](C#N)c1ccccn1)c1ccccc1C[C@H](CCC(=O)[C@@H](C#N)c1ccccn1)c1ccccc1C[C@@H](CCC(=O)[C@H](C#N)c1ccccn1)c1ccccc1C[C@H](CCC(=O)[C@H](C#N)c1ccccn1)c1ccccc1C=CCOCCCC(=O)O[C@@H](C)c1cc(C)ccc1OCN#Cc1cc[nH]c(=NCc2cc3ccccc3s2)c1ClN#Cc1ccc(NC(=O)Nc2cccc3cc[nH]c23)cc1FC=CCN(C(=O)c1sc2nccn2c1C)c1ccccc1C=CCCCC(=O)Nc1ccc(OC)c(OC(C)C)c1C=C(Cl)COc1ccc([C@H](C)NCCOC(C)C)cc1N#CC1(C(=O)Nc2cc(F)cc(Cl)c2O)CCCCC1N#Cc1cc(F)cc(CN2CC=C(c3ccccc3)CC2)c1CCOc1cccc(C(=O)/C=C/c2ccc(O)cc2)c1C=C[C@H](CC)CC(=O)Nc1ccc(C(C)=O)c(C)c1C=C[C@@H](CC)CC(=O)Nc1ccc(C(C)=O)c(C)c1Cc1ccc(C(C)(C)CC(=O)NCC(C)(C)CC#N)cc1N#Cc1cc(C(=O)Nc2ccc(-c3ncco3)cc2)cs1C#CCCCCC(=O)O[C@@H](C)c1cc(C)ccc1OCN#Cc1c(F)cccc1N1CC2C[C@H]3CC1C[C@@H](C2)C3Cc1cc(C)c(CNc2snc(C)c2C#N)c(C)c1CCCC/C(N)=N/OCc1csc(-c2ccc(C)o2)n1C=C(Cl)COc1ccc([C@@H](C)NCCOC(C)C)cc1C#Cc1cccc(NC(=O)c2cc(F)c(F)cc2Cl)c1C#Cc1cccc(NC(=O)[C@H](C)Oc2ccc(Cl)cc2)c1C#CCN(C(=O)Nc1ccc(F)cc1)C1CCCCC1C#CCN(C(=O)Nc1ccc(C)cc1)C1CCCCC1C#CCN(C(=O)Nc1cccc(C)c1)C1CCCCC1C#Cc1cccc(NC(=O)CCc2c[nH]c3ccccc23)c1COc1ccnc2c(NCc3cc(C#N)cs3)cccc12N#Cc1ccccc1/C=C/C(=O)Nc1cnc2ccccc2c1C#Cc1cccc(NC(=O)COc2c(C)cc(C)cc2C)c1C#Cc1cccc(NC(=O)C2(c3ccc(Cl)cc3)CC2)c1C#Cc1cccc(NC(=O)Cc2coc3cc(C)ccc23)c1C=CCN(CC=C)C(=O)N[C@H](C)C1CCC(F)(F)CC1C=CCN(CC=C)C(=O)N[C@@H](C)C1CCC(F)(F)CC1C=C(C)CN(CC)C(=O)N[C@H](C)C1CCC(F)(F)CC1C=C(C)CN(CC)C(=O)N[C@@H](C)C1CCC(F)(F)CC1CCC(CC)CN(CCC#N)Cc1cn(C)nc1C(F)FN#Cc1c(N2CCC[C@H]2c2ccsc2)nc2ccccn12C=CCN(CCc1ccccc1)C(=O)c1cc(Cl)c[nH]1N#Cc1cc(NC(=O)CCF)ccc1Oc1ccccc1C=CCCCN(C)C(=O)N[C@H](C)C1CCC(F)(F)CC1C=CCCCN(C)C(=O)N[C@@H](C)C1CCC(F)(F)CC1CC(=O)c1ccc(C#N)c(N[C@@H]2CCC[C@H](C)C2)c1C=CCCCCNC(=O)[C@@H]1C[C@H]1c1sccc1CC=CCCCCNC(=O)[C@H]1C[C@H]1c1sccc1CC=CCCCCNC(=O)[C@@H]1C[C@@H]1c1sccc1CC=CCCCCNC(=O)[C@H]1C[C@@H]1c1sccc1CC=C(C)CCN1CCC[C@H]1c1ccc2c(c1)OCCO2N#Cc1cc(F)cc(CN2Cc3cccc(Cl)c3C2)c1C=CCOCCN[C@@H](C)c1ccc2cc(OC)ccc2c1C=CCOCCN[C@H](C)c1ccc2cc(OC)ccc2c1CC[C@@](C)(C#N)c1nc(C[C@@H](C)c2ccccc2)no1C=CCOc1ccc(C(=O)Nc2ccccc2COC)cc1Cc1cnc([C@H](C)CNc2ccc(F)cc2C#N)s1C=C(C)CN(CC)C(=O)c1cc(C)oc1C(F)(F)F'"
      ]
     },
     "execution_count": 5,
     "metadata": {},
     "output_type": "execute_result"
    }
   ],
   "source": [
    "total_SMILES"
   ]
  },
  {
   "cell_type": "markdown",
   "metadata": {},
   "source": [
    "### Atom-wise tokenization"
   ]
  },
  {
   "cell_type": "code",
   "execution_count": 6,
   "metadata": {},
   "outputs": [
    {
     "name": "stdout",
     "output_type": "stream",
     "text": [
      "['C', 'C', '[N+]', '(', 'C', ')', '(', 'C', ')', 'C', 'c', '1', 'c', 'c', 'c', 'c', 'c', '1', 'Br']\n"
     ]
    }
   ],
   "source": [
    "from SmilesPE.pretokenizer import atomwise_tokenizer"
   ]
  },
  {
   "cell_type": "code",
   "execution_count": 7,
   "metadata": {},
   "outputs": [
    {
     "name": "stdout",
     "output_type": "stream",
     "text": [
      "['C', '[C@@H]', '1', 'C', '(', '=', 'O', ')', 'O', '[C@H]', '2', '[C@H]', '(', 'O', ')', '[C@@]', '3', '4', '[C@H]', '5', 'O', 'C', '(', '=', 'O', ')', '[C@@]', '3', '(', 'O', '[C@H]', '3', 'O', 'C', '(', '=', 'O', ')', '[C@H]', '(', 'O', ')', '[C@]', '3', '4', '[C@H]', '(', 'C', '(', 'C', ')', '(', 'C', ')', 'C', ')', '[C@H]', '5', 'O', 'S', '(', '=', 'O', ')', '(', '=', 'O', ')', 'C', '(', 'F', ')', '(', 'F', ')', 'F', ')', '[C@@]', '1', '2', 'O', 'C', '[C@@H]', '1', 'C', '(', '=', 'O', ')', 'O', '[C@H]', '2', '[C@H]', '(', 'O', ')', '[C@@]', '3', '4', '[C@@H]', '5', 'O', 'C', '(', '=', 'O', ')', '[C@@]', '3', '(', 'O', '[C@H]', '3', 'O', 'C', '(', '=', 'O', ')', '[C@H]', '(', 'O', ')', '[C@]', '3', '4', '[C@H]', '(', 'C', '(', 'C', ')', '(', 'C', ')', 'C', ')', '[C@H]', '5', 'O', 'S', '(', '=', 'O', ')', '(', '=', 'O', ')', 'C', '(', 'F', ')', '(', 'F', ')', 'F', ')', '[C@@]', '1', '2', 'O', 'C', '[C@@H]', '1', 'C', '(', '=', 'O', ')', 'O', '[C@H]', '2', '[C@H]', '(', 'O', ')', '[C@@]', '3', '4', '[C@H]', '5', 'O', 'C', '(', '=', 'O', ')', '[C@@]', '3', '(', 'O', '[C@H]', '3', 'O', 'C', '(', '=', 'O', ')', '[C@H]', '(', 'O', ')', '[C@@]', '3', '4', '[C@H]', '(', 'C', '(', 'C', ')', '(', 'C', ')', 'C', ')', '[C@H]', '5', 'O', 'S', '(', '=', 'O', ')', '(', '=', 'O', ')', 'C', '(', 'F', ')', '(', 'F', ')', 'F', ')', '[C@@]', '1', '2', 'O', 'C', '[C@@H]', '1', 'C', '(', '=', 'O', ')', 'O', '[C@H]', '2', '[C@H]', '(', 'O', ')', '[C@@]', '3', '4', '[C@@H]', '5', 'O', 'C', '(', '=', 'O', ')', '[C@@]', '3', '(', 'O', '[C@H]', '3', 'O', 'C', '(', '=', 'O', ')', '[C@H]', '(', 'O', ')', '[C@@]', '3', '4', '[C@H]', '(', 'C', '(', 'C', ')', '(', 'C', ')', 'C', ')', '[C@H]', '5', 'O', 'S', '(', '=', 'O', ')', '(', '=', 'O', ')', 'C', '(', 'F', ')', '(', 'F', ')', 'F', ')', '[C@@]', '1', '2', 'O', 'O', '=', 'c', '1', 'c', 'c', '(', '-', 'c', '2', 'c', 'c', 'c', '(', 'O', ')', 'c', 'c', '2', ')', 'o', 'c', '2', 'c', '(', 'O', ')', 'c', '(', 'O', '[C@@H]', '3', 'O', '[C@H]', '(', 'C', 'O', ')', '[C@@H]', '(', 'O', ')', '[C@H]', '(', 'O', ')', '[C@H]', '3', 'O', '[C@@H]', '3', 'O', '[C@H]', '(', 'C', 'O', ')', '[C@@H]', '(', 'O', ')', '[C@@H]', '(', 'O', ')', '[C@H]', '3', 'O', ')', 'c', 'c', '(', 'O', ')', 'c', '1', '2', 'C', 'O', 'c', '1', 'c', 'c', '2', 'o', 'c', '(', '-', 'c', '3', 'c', 'c', 'c', '(', 'O', ')', 'c', 'c', '3', ')', 'c', 'c', '(', '=', 'O', ')', 'c', '2', 'c', '(', 'O', ')', 'c', '1', '[C@@H]', '1', 'O', '[C@H]', '(', 'C', 'O', ')', '[C@@H]', '(', 'O', '[C@@H]', '2', 'O', '[C@H]', '(', 'C', 'O', ')', '[C@@H]', '(', 'O', ')', '[C@H]', '(', 'O', ')', '[C@H]', '2', 'O', ')', '[C@H]', '(', 'O', ')', '[C@H]', '1', 'O', 'O', '=', 'c', '1', 'c', 'c', '(', '-', 'c', '2', 'c', 'c', 'c', '(', 'O', ')', 'c', 'c', '2', ')', 'o', 'c', '2', 'c', '(', '[C@@H]', '3', 'O', '[C@H]', '(', 'C', 'O', ')', '[C@H]', '(', 'O', ')', '[C@H]', '(', 'O', ')', '[C@H]', '3', 'O', ')', 'c', '(', 'O', ')', 'c', '(', '[C@@H]', '3', 'O', '[C@H]', '(', 'C', 'O', ')', '[C@H]', '(', 'O', ')', '[C@H]', '(', 'O', ')', '[C@H]', '3', 'O', ')', 'c', '(', 'O', ')', 'c', '1', '2', 'C', 'O', 'c', '1', 'c', 'c', '2', 'o', 'c', '(', '-', 'c', '3', 'c', 'c', 'c', '(', 'O', ')', 'c', 'c', '3', ')', 'c', 'c', '(', '=', 'O', ')', 'c', '2', 'c', '(', 'O', '[C@@H]', '2', 'O', '[C@H]', '(', 'C', 'O', ')', '[C@@H]', '(', 'O', ')', '[C@H]', '(', 'O', ')', '[C@H]', '2', 'O', ')', 'c', '1', '[C@@H]', '1', 'O', '[C@H]', '(', 'C', 'O', ')', '[C@@H]', '(', 'O', ')', '[C@H]', '(', 'O', ')', '[C@H]', '1', 'O', 'C', 'O', 'c', '1', 'c', 'c', '(', 'O', '[C@@H]', '2', 'O', '[C@H]', '(', 'C', 'O', ')', '[C@@H]', '(', 'O', ')', '[C@H]', '(', 'O', ')', '[C@H]', '2', 'O', ')', 'c', '2', 'c', '(', '=', 'O', ')', 'c', 'c', '(', '-', 'c', '3', 'c', 'c', 'c', '(', 'O', ')', 'c', 'c', '3', ')', 'o', 'c', '2', 'c', '1', '[C@@H]', '1', 'O', '[C@H]', '(', 'C', 'O', ')', '[C@@H]', '(', 'O', ')', '[C@H]', '(', 'O', ')', '[C@H]', '1', 'O', 'N', 'c', '1', 'c', 'c', 'n', '(', '[C@@H]', '2', 'C', 'O', '[C@H]', '(', 'C', 'O', '[P@@]', '(', '=', 'O', ')', '(', 'O', ')', 'O', '[C@H]', '3', 'C', '[C@H]', '(', 'n', '4', 'c', 'n', 'c', '5', 'c', '(', 'N', ')', 'n', 'c', 'n', 'c', '5', '4', ')', 'O', '[C@@H]', '3', 'C', 'O', 'P', '(', '=', 'O', ')', '(', 'O', ')', 'O', ')', '[C@H]', '2', 'O', ')', 'c', '(', '=', 'O', ')', 'n', '1', 'C', 'O', 'c', '1', 'c', 'c', '(', '-', 'c', '2', 'o', 'c', '3', 'c', 'c', '(', 'O', ')', 'c', 'c', 'c', '3', 'c', '(', '=', 'O', ')', 'c', '2', 'O', '[C@@H]', '2', 'O', '[C@H]', '(', 'C', 'O', '[C@@H]', '3', 'O', '[C@@H]', '(', 'C', ')', '[C@H]', '(', 'O', ')', '[C@@H]', '(', 'O', ')', '[C@H]', '3', 'O', ')', '[C@@H]', '(', 'O', ')', '[C@H]', '(', 'O', ')', '[C@H]', '2', 'O', ')', 'c', 'c', 'c', '1', 'O', 'C', 'O', 'c', '1', 'c', 'c', '(', '-', 'c', '2', 'c', 'c', '(', '=', 'O', ')', 'c', '3', 'c', '(', 'O', ')', 'c', 'c', '(', 'O', '[C@@H]', '4', 'O', '[C@H]', '(', 'C', 'O', ')', '[C@@H]', '(', 'O', ')', '[C@H]', '(', 'O', ')', '[C@H]', '4', 'O', '[C@@H]', '4', 'O', '[C@H]', '(', 'C', 'O', 'C', '(', 'C', ')', '=', 'O', ')', '[C@@H]', '(', 'O', ')', '[C@H]', '(', 'O', ')', '[C@H]', '4', 'O', ')', 'c', 'c', '3', 'o', '2', ')', 'c', 'c', 'c', '1', 'O', 'C', 'O', 'c', '1', 'c', 'c', '(', '-', 'c', '2', 'c', 'o', 'c', '3', 'c', 'c', '(', 'O', '[C@@H]', '4', 'O', '[C@H]', '(', 'C', 'O', '[C@@H]', '5', 'O', '[C@H]', '(', 'C', 'O', ')', '[C@@H]', '(', 'O', ')', '[C@H]', '(', 'O', ')', '[C@H]', '5', 'O', ')', '[C@@H]', '(', 'O', ')', '[C@H]', '(', 'O', ')', '[C@H]', '4', 'O', ')', 'c', '(', 'O', 'C', ')', 'c', '(', 'O', ')', 'c', '3', 'c', '2', '=', 'O', ')', 'c', 'c', '(', 'O', ')', 'c', '1', 'O', 'C', 'O', '=', 'c', '1', 'c', '(', 'O', ')', 'c', '(', '-', 'c', '2', 'c', 'c', 'c', '(', 'O', '[C@@H]', '3', 'O', '[C@H]', '(', 'C', 'O', ')', '[C@@H]', '(', 'O', ')', '[C@H]', '(', 'O', ')', '[C@H]', '3', 'O', ')', 'c', '(', 'O', ')', 'c', '2', ')', 'o', 'c', '2', 'c', 'c', '(', 'O', ')', 'c', 'c', '(', 'O', '[C@@H]', '3', 'O', '[C@H]', '(', 'C', 'O', ')', '[C@@H]', '(', 'O', ')', '[C@H]', '(', 'O', ')', '[C@H]', '3', 'O', ')', 'c', '1', '2', 'C', '[C@@H]', '1', 'C', '(', '=', 'O', ')', 'O', '[C@H]', '2', '[C@H]', '(', 'O', ')', '[C@@]', '3', '4', '[C@@H]', '5', 'O', 'C', '(', '=', 'O', ')', '[C@@]', '3', '(', 'O', '[C@@H]', '3', 'O', 'C', '(', '=', 'O', ')', '[C@H]', '(', 'O', ')', '[C@@]', '3', '4', '[C@H]', '(', 'C', '(', 'C', ')', '(', 'C', ')', 'C', ')', '[C@H]', '5', 'O', 'S', '(', '=', 'O', ')', '(', '=', 'O', ')', 'C', '(', 'F', ')', '(', 'F', ')', 'F', ')', '[C@@]', '1', '2', 'O', 'C', '[C@@H]', '1', 'C', '(', '=', 'O', ')', 'O', '[C@H]', '2', '[C@H]', '(', 'O', ')', '[C@@]', '3', '4', '[C@@H]', '5', 'O', 'C', '(', '=', 'O', ')', '[C@@]', '3', '(', 'O', '[C@@H]', '3', 'O', 'C', '(', '=', 'O', ')', '[C@H]', '(', 'O', ')', '[C@]', '3', '4', '[C@H]', '(', 'C', '(', 'C', ')', '(', 'C', ')', 'C', ')', '[C@H]', '5', 'O', 'S', '(', '=', 'O', ')', '(', '=', 'O', ')', 'C', '(', 'F', ')', '(', 'F', ')', 'F', ')', '[C@@]', '1', '2', 'O', 'N', 'c', '1', 'n', 'c', 'n', 'c', '2', 'c', '1', 'n', 'c', 'n', '2', '[C@@H]', '1', 'O', '[C@@H]', '(', 'C', 'O', '[P@]', '(', '=', 'O', ')', '(', 'O', ')', 'O', 'C', '=', 'P', '(', 'O', ')', '(', 'O', ')', 'C', 'O', '[P@]', '(', '=', 'O', ')', '(', 'O', ')', 'O', 'C', '[C@H]', '2', 'O', '[C@@H]', '(', 'n', '3', 'c', 'n', 'c', '4', 'c', '(', 'N', ')', 'n', 'c', 'n', 'c', '4', '3', ')', '[C@H]', '(', 'O', ')', '[C@@H]', '2', 'O', ')', '[C@@H]', '(', 'O', ')', '[C@H]', '1', 'O', 'N', 'c', '1', 'n', 'c', 'n', 'c', '2', 'c', '1', 'n', 'c', 'n', '2', '[C@H]', '1', 'O', '[C@H]', '(', 'C', 'O', '[P@@]', '(', '=', 'O', ')', '(', 'O', ')', 'O', 'C', 'P', '(', 'O', ')', '(', 'O', ')', '=', 'C', 'O', '[P@@]', '(', '=', 'O', ')', '(', 'O', ')', 'O', 'C', '[C@@H]', '2', 'O', '[C@@H]', '(', 'n', '3', 'c', 'n', 'c', '4', 'c', '(', 'N', ')', 'n', 'c', 'n', 'c', '4', '3', ')', '[C@H]', '(', 'O', ')', '[C@@H]', '2', 'O', ')', '[C@@H]', '(', 'O', ')', '[C@H]', '1', 'O', 'C', '[C@@H]', '1', 'C', '(', '=', 'O', ')', 'O', '[C@H]', '2', '[C@H]', '(', 'O', ')', '[C@@]', '3', '4', '[C@H]', '5', 'O', 'C', '(', '=', 'O', ')', '[C@@]', '3', '(', 'O', '[C@@H]', '3', 'O', 'C', '(', '=', 'O', ')', '[C@H]', '(', 'O', ')', '[C@@]', '3', '4', '[C@H]', '(', 'C', '(', 'C', ')', '(', 'C', ')', 'C', ')', '[C@H]', '5', 'O', 'S', '(', '=', 'O', ')', '(', '=', 'O', ')', 'C', '(', 'F', ')', '(', 'F', ')', 'F', ')', '[C@@]', '1', '2', 'O', 'O', '1', '[SiH]', '2', 'O', '[SiH]', '3', 'O', '[SiH]', '4', 'O', '[SiH]', '1', 'O', '[SiH]', '1', 'O', '[SiH]', '(', 'O', '2', ')', 'O', '[SiH]', '2', 'O', '[SiH]', '(', 'O', '1', ')', 'O', '[SiH]', '(', 'O', '[SiH]', '(', 'O', '3', ')', 'O', '2', ')', 'O', '4', 'C', '[C@H]', '1', 'C', 'C', 'C', '[C@H]', '(', 'C', ')', 'N', '1', 'C', 'C', 'C', 'O', 'c', '1', 'c', 'c', 'c', '(', 'C', '#', 'N', ')', 'c', 'c', '1', 'C', 'c', '1', 'c', 'c', '(', 'C', '#', 'N', ')', 'n', 'c', '(', 'S', '[C@H]', '(', 'C', ')', 'c', '2', 'c', 'c', 'c', '(', 'F', ')', 'c', 'c', '2', ')', 'n', '1', 'C', 'C', 'N', '(', 'C', '(', '=', 'O', ')', 'c', '1', 'c', 'c', 'c', '(', 'C', '#', 'N', ')', '[nH]', '1', ')', 'c', '1', 'c', 'c', 'c', '2', 'c', 'c', 'c', 'c', 'c', '2', 'c', '1', 'C', 'C', '1', 'C', 'C', 'N', '(', 'c', '2', 'c', 'c', 'c', 'c', '(', 'N', 'C', '(', '=', 'O', ')', 'C', '3', '(', 'C', '#', 'N', ')', 'C', 'C', 'C', '3', ')', 'c', '2', ')', 'C', 'C', '1', 'C', 'c', '1', 'c', 'c', '(', 'N', '2', 'C', 'C', 'C', 'C', 'C', 'C', '2', ')', 'c', 'c', 'c', '1', 'N', '[C@H]', '(', 'C', ')', 'C', '#', 'N', 'C', '=', 'C', 'C', 'N', '(', 'C', 'c', '1', 'c', 'c', 'c', 'c', 'c', '1', 'F', ')', 'C', '(', '=', 'O', ')', '[C@@H]', '(', 'C', ')', 'c', '1', 'c', 'c', 'c', 'c', 'n', '1', 'C', '=', 'C', 'C', 'N', '(', 'C', 'c', '1', 'c', 'c', 'c', 'c', 'c', '1', 'F', ')', 'C', '(', '=', 'O', ')', '[C@H]', '(', 'C', ')', 'c', '1', 'c', 'c', 'c', 'c', 'n', '1', 'C', '[C@@H]', '(', 'N', 'C', '(', '=', 'O', ')', 'C', '(', 'C', ')', '(', 'C', ')', 'c', '1', 'c', 'c', 'c', 's', '1', ')', 'c', '1', 'c', 'c', 'c', '(', 'C', '#', 'N', ')', 'c', 'c', '1', 'C', '#', 'C', 'C', '1', 'C', 'C', 'N', '(', 'C', 'C', 'C', 'c', '2', 'c', 'c', 'c', 'c', '(', 'C', '(', 'F', ')', '(', 'F', ')', 'F', ')', 'c', '2', ')', 'C', 'C', '1', 'C', 'O', 'C', '(', '=', 'O', ')', 'c', '1', 'c', 'c', 'c', '(', 'S', 'C', 'c', '2', 'c', 'c', 'c', 'c', '(', 'C', '#', 'N', ')', 'c', '2', ')', 'c', 'c', '1', 'C', 'C', 'C', '[C@H]', '(', 'C', '(', '=', 'O', ')', 'N', '[C@@]', '1', '(', 'C', '#', 'N', ')', 'C', 'C', 'C', '[C@H]', '(', 'C', ')', 'C', '1', ')', 'c', '1', 'c', 'c', 'c', 'c', 'n', '1', 'C', 'C', 'C', '[C@H]', '(', 'C', '(', '=', 'O', ')', 'N', '[C@]', '1', '(', 'C', '#', 'N', ')', 'C', 'C', 'C', '[C@H]', '(', 'C', ')', 'C', '1', ')', 'c', '1', 'c', 'c', 'c', 'c', 'n', '1', 'C', '=', 'C', 'C', '(', 'C', ')', '(', 'C', ')', 'C', 'C', 'N', 'C', '(', '=', 'O', ')', '[C@@H]', '1', 'C', 'C', 'C', 'C', 'C', '1', '(', 'F', ')', 'F', 'N', '#', 'C', 'c', '1', 'c', 'c', 'c', '(', 'C', 'N', 'c', '2', 'c', '(', 'F', ')', 'c', 'c', 'c', 'c', '2', 'N', '2', 'C', 'C', 'C', 'C', '2', ')', 'c', 'c', '1', 'C', 'c', '1', 'c', 'c', 'c', '(', '[C@H]', '(', 'C', ')', 'C', 'N', '(', 'C', 'C', 'C', '#', 'N', ')', 'C', 'C', '2', 'C', 'C', '2', ')', 'c', 'c', '1', 'C', 'C', 'N', '(', 'C', 'c', '1', 'c', 'c', '(', 'F', ')', 'c', 'c', '(', 'C', '#', 'N', ')', 'c', '1', ')', 'C', 'c', '1', 'c', 'c', 'c', 'c', '(', 'O', 'C', ')', 'c', '1', 'C', '[C@@H]', '1', 'C', 'c', '2', 'c', 'c', 'c', 'c', 'c', '2', 'C', 'N', '1', 'C', 'c', '1', 'c', 'c', '(', 'F', ')', 'c', 'c', '(', 'C', '#', 'N', ')', 'c', '1', 'C', 'C', 'C', '[C@H]', '(', 'C', '(', '=', 'O', ')', 'N', '[C@]', '1', '(', 'C', '#', 'N', ')', 'C', 'C', 'C', '[C@@H]', '(', 'C', ')', 'C', '1', ')', 'c', '1', 'c', 'c', 'c', 'c', 'n', '1', 'C', '[C@H]', '1', 'C', 'c', '2', 'c', 'c', 'c', 'c', 'c', '2', 'C', 'N', '1', 'C', 'c', '1', 'c', 'c', '(', 'F', ')', 'c', 'c', '(', 'C', '#', 'N', ')', 'c', '1', 'C', 'C', 'C', '[C@H]', '(', 'C', '(', '=', 'O', ')', 'N', '[C@@]', '1', '(', 'C', '#', 'N', ')', 'C', 'C', 'C', '[C@@H]', '(', 'C', ')', 'C', '1', ')', 'c', '1', 'c', 'c', 'c', 'c', 'n', '1', 'C', 'c', '1', 'c', 'c', '(', 'C', '#', 'N', ')', 'n', 'c', '(', 'S', '[C@@H]', '(', 'C', ')', 'c', '2', 'c', 'c', 'c', '(', 'F', ')', 'c', 'c', '2', ')', 'n', '1', 'C', '=', 'C', 'C', 'C', '(', 'F', ')', '(', 'F', ')', 'C', '(', '=', 'O', ')', 'N', '(', 'C', ')', '[C@H]', '(', 'C', ')', 'c', '1', 'c', 'c', 'c', 'c', 'c', '1', 'C', 'C', 'c', '1', 'c', 'c', '(', 'C', '#', 'N', ')', 'n', 'c', '(', 'S', 'C', 'c', '2', 'c', 'c', 'c', 'c', '(', 'Cl', ')', 'c', '2', ')', 'n', '1', 'C', 'C', '1', '(', 'C', ')', 'C', 'N', '(', 'C', '(', '=', 'O', ')', 'c', '2', 's', 'c', 'c', 'c', '2', 'C', 'C', '#', 'N', ')', 'C', 'C', '(', 'C', ')', '(', 'C', ')', 'C', '1', 'N', '#', 'C', 'c', '1', 'c', 'c', 'c', 'c', 'c', '1', 'C', 'N', 'c', '1', 'c', '(', 'F', ')', 'c', 'c', 'c', 'c', '1', 'N', '1', 'C', 'C', 'C', 'C', '1', 'C', '[C@@H]', '(', 'C', 'C', 'C', '(', '=', 'O', ')', '[C@@H]', '(', 'C', '#', 'N', ')', 'c', '1', 'c', 'c', 'c', 'c', 'n', '1', ')', 'c', '1', 'c', 'c', 'c', 'c', 'c', '1', 'C', '[C@H]', '(', 'C', 'C', 'C', '(', '=', 'O', ')', '[C@@H]', '(', 'C', '#', 'N', ')', 'c', '1', 'c', 'c', 'c', 'c', 'n', '1', ')', 'c', '1', 'c', 'c', 'c', 'c', 'c', '1', 'C', '[C@@H]', '(', 'C', 'C', 'C', '(', '=', 'O', ')', '[C@H]', '(', 'C', '#', 'N', ')', 'c', '1', 'c', 'c', 'c', 'c', 'n', '1', ')', 'c', '1', 'c', 'c', 'c', 'c', 'c', '1', 'C', '[C@H]', '(', 'C', 'C', 'C', '(', '=', 'O', ')', '[C@H]', '(', 'C', '#', 'N', ')', 'c', '1', 'c', 'c', 'c', 'c', 'n', '1', ')', 'c', '1', 'c', 'c', 'c', 'c', 'c', '1', 'C', '=', 'C', 'C', 'O', 'C', 'C', 'C', 'C', '(', '=', 'O', ')', 'O', '[C@@H]', '(', 'C', ')', 'c', '1', 'c', 'c', '(', 'C', ')', 'c', 'c', 'c', '1', 'O', 'C', 'N', '#', 'C', 'c', '1', 'c', 'c', '[nH]', 'c', '(', '=', 'N', 'C', 'c', '2', 'c', 'c', '3', 'c', 'c', 'c', 'c', 'c', '3', 's', '2', ')', 'c', '1', 'Cl', 'N', '#', 'C', 'c', '1', 'c', 'c', 'c', '(', 'N', 'C', '(', '=', 'O', ')', 'N', 'c', '2', 'c', 'c', 'c', 'c', '3', 'c', 'c', '[nH]', 'c', '2', '3', ')', 'c', 'c', '1', 'F', 'C', '=', 'C', 'C', 'N', '(', 'C', '(', '=', 'O', ')', 'c', '1', 's', 'c', '2', 'n', 'c', 'c', 'n', '2', 'c', '1', 'C', ')', 'c', '1', 'c', 'c', 'c', 'c', 'c', '1', 'C', '=', 'C', 'C', 'C', 'C', 'C', '(', '=', 'O', ')', 'N', 'c', '1', 'c', 'c', 'c', '(', 'O', 'C', ')', 'c', '(', 'O', 'C', '(', 'C', ')', 'C', ')', 'c', '1', 'C', '=', 'C', '(', 'Cl', ')', 'C', 'O', 'c', '1', 'c', 'c', 'c', '(', '[C@H]', '(', 'C', ')', 'N', 'C', 'C', 'O', 'C', '(', 'C', ')', 'C', ')', 'c', 'c', '1', 'N', '#', 'C', 'C', '1', '(', 'C', '(', '=', 'O', ')', 'N', 'c', '2', 'c', 'c', '(', 'F', ')', 'c', 'c', '(', 'Cl', ')', 'c', '2', 'O', ')', 'C', 'C', 'C', 'C', 'C', '1', 'N', '#', 'C', 'c', '1', 'c', 'c', '(', 'F', ')', 'c', 'c', '(', 'C', 'N', '2', 'C', 'C', '=', 'C', '(', 'c', '3', 'c', 'c', 'c', 'c', 'c', '3', ')', 'C', 'C', '2', ')', 'c', '1', 'C', 'C', 'O', 'c', '1', 'c', 'c', 'c', 'c', '(', 'C', '(', '=', 'O', ')', '/', 'C', '=', 'C', '/', 'c', '2', 'c', 'c', 'c', '(', 'O', ')', 'c', 'c', '2', ')', 'c', '1', 'C', '=', 'C', '[C@H]', '(', 'C', 'C', ')', 'C', 'C', '(', '=', 'O', ')', 'N', 'c', '1', 'c', 'c', 'c', '(', 'C', '(', 'C', ')', '=', 'O', ')', 'c', '(', 'C', ')', 'c', '1', 'C', '=', 'C', '[C@@H]', '(', 'C', 'C', ')', 'C', 'C', '(', '=', 'O', ')', 'N', 'c', '1', 'c', 'c', 'c', '(', 'C', '(', 'C', ')', '=', 'O', ')', 'c', '(', 'C', ')', 'c', '1', 'C', 'c', '1', 'c', 'c', 'c', '(', 'C', '(', 'C', ')', '(', 'C', ')', 'C', 'C', '(', '=', 'O', ')', 'N', 'C', 'C', '(', 'C', ')', '(', 'C', ')', 'C', 'C', '#', 'N', ')', 'c', 'c', '1', 'N', '#', 'C', 'c', '1', 'c', 'c', '(', 'C', '(', '=', 'O', ')', 'N', 'c', '2', 'c', 'c', 'c', '(', '-', 'c', '3', 'n', 'c', 'c', 'o', '3', ')', 'c', 'c', '2', ')', 'c', 's', '1', 'C', '#', 'C', 'C', 'C', 'C', 'C', 'C', '(', '=', 'O', ')', 'O', '[C@@H]', '(', 'C', ')', 'c', '1', 'c', 'c', '(', 'C', ')', 'c', 'c', 'c', '1', 'O', 'C', 'N', '#', 'C', 'c', '1', 'c', '(', 'F', ')', 'c', 'c', 'c', 'c', '1', 'N', '1', 'C', 'C', '2', 'C', '[C@H]', '3', 'C', 'C', '1', 'C', '[C@@H]', '(', 'C', '2', ')', 'C', '3', 'C', 'c', '1', 'c', 'c', '(', 'C', ')', 'c', '(', 'C', 'N', 'c', '2', 's', 'n', 'c', '(', 'C', ')', 'c', '2', 'C', '#', 'N', ')', 'c', '(', 'C', ')', 'c', '1', 'C', 'C', 'C', 'C', '/', 'C', '(', 'N', ')', '=', 'N', '/', 'O', 'C', 'c', '1', 'c', 's', 'c', '(', '-', 'c', '2', 'c', 'c', 'c', '(', 'C', ')', 'o', '2', ')', 'n', '1', 'C', '=', 'C', '(', 'Cl', ')', 'C', 'O', 'c', '1', 'c', 'c', 'c', '(', '[C@@H]', '(', 'C', ')', 'N', 'C', 'C', 'O', 'C', '(', 'C', ')', 'C', ')', 'c', 'c', '1', 'C', '#', 'C', 'c', '1', 'c', 'c', 'c', 'c', '(', 'N', 'C', '(', '=', 'O', ')', 'c', '2', 'c', 'c', '(', 'F', ')', 'c', '(', 'F', ')', 'c', 'c', '2', 'Cl', ')', 'c', '1', 'C', '#', 'C', 'c', '1', 'c', 'c', 'c', 'c', '(', 'N', 'C', '(', '=', 'O', ')', '[C@H]', '(', 'C', ')', 'O', 'c', '2', 'c', 'c', 'c', '(', 'Cl', ')', 'c', 'c', '2', ')', 'c', '1', 'C', '#', 'C', 'C', 'N', '(', 'C', '(', '=', 'O', ')', 'N', 'c', '1', 'c', 'c', 'c', '(', 'F', ')', 'c', 'c', '1', ')', 'C', '1', 'C', 'C', 'C', 'C', 'C', '1', 'C', '#', 'C', 'C', 'N', '(', 'C', '(', '=', 'O', ')', 'N', 'c', '1', 'c', 'c', 'c', '(', 'C', ')', 'c', 'c', '1', ')', 'C', '1', 'C', 'C', 'C', 'C', 'C', '1', 'C', '#', 'C', 'C', 'N', '(', 'C', '(', '=', 'O', ')', 'N', 'c', '1', 'c', 'c', 'c', 'c', '(', 'C', ')', 'c', '1', ')', 'C', '1', 'C', 'C', 'C', 'C', 'C', '1', 'C', '#', 'C', 'c', '1', 'c', 'c', 'c', 'c', '(', 'N', 'C', '(', '=', 'O', ')', 'C', 'C', 'c', '2', 'c', '[nH]', 'c', '3', 'c', 'c', 'c', 'c', 'c', '2', '3', ')', 'c', '1', 'C', 'O', 'c', '1', 'c', 'c', 'n', 'c', '2', 'c', '(', 'N', 'C', 'c', '3', 'c', 'c', '(', 'C', '#', 'N', ')', 'c', 's', '3', ')', 'c', 'c', 'c', 'c', '1', '2', 'N', '#', 'C', 'c', '1', 'c', 'c', 'c', 'c', 'c', '1', '/', 'C', '=', 'C', '/', 'C', '(', '=', 'O', ')', 'N', 'c', '1', 'c', 'n', 'c', '2', 'c', 'c', 'c', 'c', 'c', '2', 'c', '1', 'C', '#', 'C', 'c', '1', 'c', 'c', 'c', 'c', '(', 'N', 'C', '(', '=', 'O', ')', 'C', 'O', 'c', '2', 'c', '(', 'C', ')', 'c', 'c', '(', 'C', ')', 'c', 'c', '2', 'C', ')', 'c', '1', 'C', '#', 'C', 'c', '1', 'c', 'c', 'c', 'c', '(', 'N', 'C', '(', '=', 'O', ')', 'C', '2', '(', 'c', '3', 'c', 'c', 'c', '(', 'Cl', ')', 'c', 'c', '3', ')', 'C', 'C', '2', ')', 'c', '1', 'C', '#', 'C', 'c', '1', 'c', 'c', 'c', 'c', '(', 'N', 'C', '(', '=', 'O', ')', 'C', 'c', '2', 'c', 'o', 'c', '3', 'c', 'c', '(', 'C', ')', 'c', 'c', 'c', '2', '3', ')', 'c', '1', 'C', '=', 'C', 'C', 'N', '(', 'C', 'C', '=', 'C', ')', 'C', '(', '=', 'O', ')', 'N', '[C@H]', '(', 'C', ')', 'C', '1', 'C', 'C', 'C', '(', 'F', ')', '(', 'F', ')', 'C', 'C', '1', 'C', '=', 'C', 'C', 'N', '(', 'C', 'C', '=', 'C', ')', 'C', '(', '=', 'O', ')', 'N', '[C@@H]', '(', 'C', ')', 'C', '1', 'C', 'C', 'C', '(', 'F', ')', '(', 'F', ')', 'C', 'C', '1', 'C', '=', 'C', '(', 'C', ')', 'C', 'N', '(', 'C', 'C', ')', 'C', '(', '=', 'O', ')', 'N', '[C@H]', '(', 'C', ')', 'C', '1', 'C', 'C', 'C', '(', 'F', ')', '(', 'F', ')', 'C', 'C', '1', 'C', '=', 'C', '(', 'C', ')', 'C', 'N', '(', 'C', 'C', ')', 'C', '(', '=', 'O', ')', 'N', '[C@@H]', '(', 'C', ')', 'C', '1', 'C', 'C', 'C', '(', 'F', ')', '(', 'F', ')', 'C', 'C', '1', 'C', 'C', 'C', '(', 'C', 'C', ')', 'C', 'N', '(', 'C', 'C', 'C', '#', 'N', ')', 'C', 'c', '1', 'c', 'n', '(', 'C', ')', 'n', 'c', '1', 'C', '(', 'F', ')', 'F', 'N', '#', 'C', 'c', '1', 'c', '(', 'N', '2', 'C', 'C', 'C', '[C@H]', '2', 'c', '2', 'c', 'c', 's', 'c', '2', ')', 'n', 'c', '2', 'c', 'c', 'c', 'c', 'n', '1', '2', 'C', '=', 'C', 'C', 'N', '(', 'C', 'C', 'c', '1', 'c', 'c', 'c', 'c', 'c', '1', ')', 'C', '(', '=', 'O', ')', 'c', '1', 'c', 'c', '(', 'Cl', ')', 'c', '[nH]', '1', 'N', '#', 'C', 'c', '1', 'c', 'c', '(', 'N', 'C', '(', '=', 'O', ')', 'C', 'C', 'F', ')', 'c', 'c', 'c', '1', 'O', 'c', '1', 'c', 'c', 'c', 'c', 'c', '1', 'C', '=', 'C', 'C', 'C', 'C', 'N', '(', 'C', ')', 'C', '(', '=', 'O', ')', 'N', '[C@H]', '(', 'C', ')', 'C', '1', 'C', 'C', 'C', '(', 'F', ')', '(', 'F', ')', 'C', 'C', '1', 'C', '=', 'C', 'C', 'C', 'C', 'N', '(', 'C', ')', 'C', '(', '=', 'O', ')', 'N', '[C@@H]', '(', 'C', ')', 'C', '1', 'C', 'C', 'C', '(', 'F', ')', '(', 'F', ')', 'C', 'C', '1', 'C', 'C', '(', '=', 'O', ')', 'c', '1', 'c', 'c', 'c', '(', 'C', '#', 'N', ')', 'c', '(', 'N', '[C@@H]', '2', 'C', 'C', 'C', '[C@H]', '(', 'C', ')', 'C', '2', ')', 'c', '1', 'C', '=', 'C', 'C', 'C', 'C', 'C', 'N', 'C', '(', '=', 'O', ')', '[C@@H]', '1', 'C', '[C@H]', '1', 'c', '1', 's', 'c', 'c', 'c', '1', 'C', 'C', '=', 'C', 'C', 'C', 'C', 'C', 'N', 'C', '(', '=', 'O', ')', '[C@H]', '1', 'C', '[C@H]', '1', 'c', '1', 's', 'c', 'c', 'c', '1', 'C', 'C', '=', 'C', 'C', 'C', 'C', 'C', 'N', 'C', '(', '=', 'O', ')', '[C@@H]', '1', 'C', '[C@@H]', '1', 'c', '1', 's', 'c', 'c', 'c', '1', 'C', 'C', '=', 'C', 'C', 'C', 'C', 'C', 'N', 'C', '(', '=', 'O', ')', '[C@H]', '1', 'C', '[C@@H]', '1', 'c', '1', 's', 'c', 'c', 'c', '1', 'C', 'C', '=', 'C', '(', 'C', ')', 'C', 'C', 'N', '1', 'C', 'C', 'C', '[C@H]', '1', 'c', '1', 'c', 'c', 'c', '2', 'c', '(', 'c', '1', ')', 'O', 'C', 'C', 'O', '2', 'N', '#', 'C', 'c', '1', 'c', 'c', '(', 'F', ')', 'c', 'c', '(', 'C', 'N', '2', 'C', 'c', '3', 'c', 'c', 'c', 'c', '(', 'Cl', ')', 'c', '3', 'C', '2', ')', 'c', '1', 'C', '=', 'C', 'C', 'O', 'C', 'C', 'N', '[C@@H]', '(', 'C', ')', 'c', '1', 'c', 'c', 'c', '2', 'c', 'c', '(', 'O', 'C', ')', 'c', 'c', 'c', '2', 'c', '1', 'C', '=', 'C', 'C', 'O', 'C', 'C', 'N', '[C@H]', '(', 'C', ')', 'c', '1', 'c', 'c', 'c', '2', 'c', 'c', '(', 'O', 'C', ')', 'c', 'c', 'c', '2', 'c', '1', 'C', 'C', '[C@@]', '(', 'C', ')', '(', 'C', '#', 'N', ')', 'c', '1', 'n', 'c', '(', 'C', '[C@@H]', '(', 'C', ')', 'c', '2', 'c', 'c', 'c', 'c', 'c', '2', ')', 'n', 'o', '1', 'C', '=', 'C', 'C', 'O', 'c', '1', 'c', 'c', 'c', '(', 'C', '(', '=', 'O', ')', 'N', 'c', '2', 'c', 'c', 'c', 'c', 'c', '2', 'C', 'O', 'C', ')', 'c', 'c', '1', 'C', 'c', '1', 'c', 'n', 'c', '(', '[C@H]', '(', 'C', ')', 'C', 'N', 'c', '2', 'c', 'c', 'c', '(', 'F', ')', 'c', 'c', '2', 'C', '#', 'N', ')', 's', '1', 'C', '=', 'C', '(', 'C', ')', 'C', 'N', '(', 'C', 'C', ')', 'C', '(', '=', 'O', ')', 'c', '1', 'c', 'c', '(', 'C', ')', 'o', 'c', '1', 'C', '(', 'F', ')', '(', 'F', ')', 'F']\n"
     ]
    }
   ],
   "source": [
    "tokens = atomwise_tokenizer(total_SMILES)\n",
    "print(tokens)"
   ]
  },
  {
   "cell_type": "code",
   "execution_count": 10,
   "metadata": {},
   "outputs": [],
   "source": [
    "Tokens = sorted(set(tokens))"
   ]
  },
  {
   "cell_type": "code",
   "execution_count": 12,
   "metadata": {},
   "outputs": [
    {
     "data": {
      "text/plain": [
       "['#',\n",
       " '(',\n",
       " ')',\n",
       " '-',\n",
       " '/',\n",
       " '1',\n",
       " '2',\n",
       " '3',\n",
       " '4',\n",
       " '5',\n",
       " '=',\n",
       " 'C',\n",
       " 'Cl',\n",
       " 'F',\n",
       " 'N',\n",
       " 'O',\n",
       " 'P',\n",
       " 'S',\n",
       " '[C@@H]',\n",
       " '[C@@]',\n",
       " '[C@H]',\n",
       " '[C@]',\n",
       " '[P@@]',\n",
       " '[P@]',\n",
       " '[SiH]',\n",
       " '[nH]',\n",
       " 'c',\n",
       " 'n',\n",
       " 'o',\n",
       " 's']"
      ]
     },
     "execution_count": 12,
     "metadata": {},
     "output_type": "execute_result"
    }
   ],
   "source": [
    "Tokens"
   ]
  },
  {
   "cell_type": "markdown",
   "metadata": {},
   "source": [
    "@/ @@ = tetraeder units\\\n",
    "Attention: the edge brackets aren't listed individually!"
   ]
  },
  {
   "cell_type": "markdown",
   "metadata": {},
   "source": [
    "### Pre-trained SmilesPE Tokenizer\n",
    "Trained on Chembl data\\\n",
    "The SPE tokenizer can also be trained on a custom dataset."
   ]
  },
  {
   "cell_type": "code",
   "execution_count": 30,
   "metadata": {},
   "outputs": [
    {
     "data": {
      "text/plain": [
       "'CC [N+](C) (C)C c1ccccc1 Br'"
      ]
     },
     "execution_count": 30,
     "metadata": {},
     "output_type": "execute_result"
    }
   ],
   "source": [
    "import codecs\n",
    "from SmilesPE.tokenizer import *\n",
    "\n",
    "spe_vob= codecs.open('../SPE_ChEMBL.txt')\n",
    "spe = SPE_Tokenizer(spe_vob)\n",
    "\n",
    "smi = 'CC[N+](C)(C)Cc1ccccc1Br'\n",
    "spe.tokenize(smi)"
   ]
  },
  {
   "cell_type": "code",
   "execution_count": 36,
   "metadata": {},
   "outputs": [],
   "source": [
    "#subset['SPE_tokens'] = spe.tokenize(subset.canonical_SMILES)"
   ]
  },
  {
   "cell_type": "code",
   "execution_count": 38,
   "metadata": {},
   "outputs": [],
   "source": [
    "subset['SPE_tokens'] = ''"
   ]
  },
  {
   "cell_type": "code",
   "execution_count": 42,
   "metadata": {},
   "outputs": [],
   "source": [
    "#SPE = subset.apply(spe.tokenize(subset.canonical_SMILES),\n",
    "#                   axis=0)"
   ]
  },
  {
   "cell_type": "code",
   "execution_count": 48,
   "metadata": {},
   "outputs": [],
   "source": [
    "for row in subset.index:\n",
    "    #subset.SPE_tokens = spe.tokenize(subset.canonical_SMILES)\n",
    "    subset.at[row, 'SPE_tokens'] = spe.tokenize(subset.at[row, 'canonical_SMILES'])"
   ]
  },
  {
   "cell_type": "code",
   "execution_count": 69,
   "metadata": {},
   "outputs": [
    {
     "data": {
      "text/plain": [
       "0     C[C@@H]1 C(=O)O [C@H]2 [C@H](O) [C@@]34 [C@H]5...\n",
       "1     C[C@@H]1 C(=O)O [C@H]2 [C@H](O) [C@@]34 [C@@H]...\n",
       "2     C[C@@H]1 C(=O)O [C@H]2 [C@H](O) [C@@]34 [C@H]5...\n",
       "3     C[C@@H]1 C(=O)O [C@H]2 [C@H](O) [C@@]34 [C@@H]...\n",
       "4     O= c1cc(-c2ccc( O)cc2) o c2c( O)c( O[C@@H]3 O[...\n",
       "                            ...                        \n",
       "95             C= CCOCC N [C@H](C) c1cc c2cc(OC) ccc2c1\n",
       "96     CC [C@@](C)( C#N) c1nc( C[C@@H](C) c2ccccc2) no1\n",
       "97                C= CCOc1ccc( C(=O)N c2ccccc2 CO C)cc1\n",
       "98             Cc1cn c( [C@H](C) CN c2ccc(F)cc2 C#N) s1\n",
       "99             C=C(C) CN(CC) C(=O) c1cc(C) oc1 C(F)(F)F\n",
       "Name: SPE_tokens, Length: 100, dtype: object"
      ]
     },
     "execution_count": 69,
     "metadata": {},
     "output_type": "execute_result"
    }
   ],
   "source": [
    "my_tokens = subset.SPE_tokens\n",
    "my_tokens"
   ]
  },
  {
   "cell_type": "code",
   "execution_count": 70,
   "metadata": {},
   "outputs": [],
   "source": [
    "separate_tokens = set([])\n",
    "\n",
    "for string in my_tokens:\n",
    "    parts = string.split()\n",
    "    separate_tokens.update(parts)"
   ]
  },
  {
   "cell_type": "code",
   "execution_count": 71,
   "metadata": {},
   "outputs": [
    {
     "data": {
      "text/plain": [
       "{'(=O)',\n",
       " '(C)',\n",
       " '(F)F',\n",
       " '(O',\n",
       " '(O)',\n",
       " '-c2',\n",
       " '-c2cc',\n",
       " '-c2o',\n",
       " '/C(',\n",
       " '/C=C/C(=O)N',\n",
       " '1',\n",
       " '1)',\n",
       " '2',\n",
       " '2)',\n",
       " '2)c1',\n",
       " '2)cc1',\n",
       " '2)ccc1',\n",
       " '3',\n",
       " '3)',\n",
       " '3)c1',\n",
       " '3)cc2)',\n",
       " '4',\n",
       " '4)',\n",
       " '=',\n",
       " '=C(',\n",
       " '=N',\n",
       " '=N/',\n",
       " 'C',\n",
       " 'C#',\n",
       " 'C#N',\n",
       " 'C#N)',\n",
       " 'C#N)c1',\n",
       " 'C#N)cc1',\n",
       " 'C(=O)',\n",
       " 'C(=O)/C=C/',\n",
       " 'C(=O)N',\n",
       " 'C(=O)N(C)',\n",
       " 'C(=O)N[C@@H](C)',\n",
       " 'C(=O)Nc1ccc(',\n",
       " 'C(=O)O',\n",
       " 'C(C)(C)',\n",
       " 'C(C)(C)C)',\n",
       " 'C(C)=O)',\n",
       " 'C(C)C)c1',\n",
       " 'C(C)C)cc1',\n",
       " 'C(F)',\n",
       " 'C(F)(F)',\n",
       " 'C(F)(F)F',\n",
       " 'C(F)(F)F)',\n",
       " 'C)',\n",
       " 'C)c1',\n",
       " 'C)cc1',\n",
       " 'C)cc1)',\n",
       " 'C1',\n",
       " 'C1)',\n",
       " 'C1CC',\n",
       " 'C1CCCCC1',\n",
       " 'C2(',\n",
       " 'C2)',\n",
       " 'C2)c1',\n",
       " 'C3',\n",
       " 'C3(',\n",
       " 'C=',\n",
       " 'C=C',\n",
       " 'C=C(',\n",
       " 'C=C(C)',\n",
       " 'CC',\n",
       " 'CC#',\n",
       " 'CC#N)',\n",
       " 'CC(=O)',\n",
       " 'CC(=O)N',\n",
       " 'CC(=O)Nc1ccc(',\n",
       " 'CC(=O)O',\n",
       " 'CC(C)(C)',\n",
       " 'CC1',\n",
       " 'CC1(',\n",
       " 'CC1(C)',\n",
       " 'CC1CCN(',\n",
       " 'CC2',\n",
       " 'CC2)c1',\n",
       " 'CC2)cc1',\n",
       " 'CC2)ccc1',\n",
       " 'CC=C)',\n",
       " 'CCC',\n",
       " 'CCC#N)',\n",
       " 'CCC(=O)',\n",
       " 'CCC(CC)',\n",
       " 'CCC3)',\n",
       " 'CCCC',\n",
       " 'CCCC(=O)',\n",
       " 'CCCCC1',\n",
       " 'CCC[C@H](',\n",
       " 'CCC[C@H]1',\n",
       " 'CCC[C@H]2',\n",
       " 'CCN(',\n",
       " 'CCN(C(=O)',\n",
       " 'CCN1',\n",
       " 'CCNC(=O)',\n",
       " 'CCO',\n",
       " 'CCOCC',\n",
       " 'CCOc1ccc(',\n",
       " 'CCc1ccccc1)',\n",
       " 'CN',\n",
       " 'CN(',\n",
       " 'CN(C(=O)',\n",
       " 'CN(CC)',\n",
       " 'CN1',\n",
       " 'CN2',\n",
       " 'CN2CC',\n",
       " 'CNC(=O)',\n",
       " 'CO',\n",
       " 'COC(=O)c1ccc(',\n",
       " 'COc1cc',\n",
       " 'COc1cc(',\n",
       " 'COc1cc2',\n",
       " 'COc1ccc(',\n",
       " 'C[C@@H](',\n",
       " 'C[C@@H](C)',\n",
       " 'C[C@@H](NC(=O)',\n",
       " 'C[C@@H]1',\n",
       " 'C[C@H](',\n",
       " 'C[C@H]1',\n",
       " 'C[C@H]3',\n",
       " 'Cc1cc',\n",
       " 'Cc1cc(',\n",
       " 'Cc1cc(C)',\n",
       " 'Cc1ccc(',\n",
       " 'Cc1cccc(',\n",
       " 'Cc1ccccc1',\n",
       " 'Cc1cn',\n",
       " 'Cc2ccccc2',\n",
       " 'Cl',\n",
       " 'Cl)',\n",
       " 'Cl)c1',\n",
       " 'F',\n",
       " 'F)',\n",
       " 'F)cc',\n",
       " 'F)cc(',\n",
       " 'F)cc2',\n",
       " 'N',\n",
       " 'N#',\n",
       " 'N#Cc1c(',\n",
       " 'N#Cc1ccc(',\n",
       " 'N(C)',\n",
       " 'N)',\n",
       " 'N)cc1',\n",
       " 'N)ncn',\n",
       " 'N1',\n",
       " 'N1CC',\n",
       " 'N1CCCC1',\n",
       " 'N2',\n",
       " 'N2CCCC',\n",
       " 'NC',\n",
       " 'NC(=O)',\n",
       " 'NC(=O)C',\n",
       " 'NC(=O)CO',\n",
       " 'NC(=O)N',\n",
       " 'Nc1cc',\n",
       " 'Nc1n',\n",
       " 'O',\n",
       " 'O)',\n",
       " 'O)c(',\n",
       " 'O)c(O)',\n",
       " 'O)c1',\n",
       " 'O)cc2)',\n",
       " 'O1',\n",
       " 'O2)',\n",
       " 'O=',\n",
       " 'OC',\n",
       " 'OC(=O)',\n",
       " 'OC)c1',\n",
       " 'OCCO2',\n",
       " 'OC[C@@H]2',\n",
       " 'OC[C@H]2',\n",
       " 'O[C@@H](',\n",
       " 'O[C@@H]2',\n",
       " 'O[C@@H]3',\n",
       " 'O[C@H](CO',\n",
       " 'O[C@H](CO)',\n",
       " 'O[C@H](CO)[C@@H](O)',\n",
       " 'O[C@H](CO)[C@@H](O)[C@H](O)',\n",
       " 'O[C@H]3',\n",
       " 'P(=O)(O)O)',\n",
       " 'P(O)(O)',\n",
       " 'S(=O)(=O)',\n",
       " 'SC',\n",
       " '[C@@H](',\n",
       " '[C@@H](C)',\n",
       " '[C@@H](CC)',\n",
       " '[C@@H](O)',\n",
       " '[C@@H](O)[C@H](O)',\n",
       " '[C@@H](O)[C@H]1O',\n",
       " '[C@@H]1',\n",
       " '[C@@H]2',\n",
       " '[C@@H]2O)',\n",
       " '[C@@H]3',\n",
       " '[C@@H]4',\n",
       " '[C@@H]5',\n",
       " '[C@@](C)(',\n",
       " '[C@@]1(',\n",
       " '[C@@]12',\n",
       " '[C@@]3',\n",
       " '[C@@]34',\n",
       " '[C@H](',\n",
       " '[C@H](C)',\n",
       " '[C@H](C)N',\n",
       " '[C@H](CC)',\n",
       " '[C@H](CO',\n",
       " '[C@H](O)',\n",
       " '[C@H](O)[C@@H](O)',\n",
       " '[C@H](O)[C@H](O)',\n",
       " '[C@H]1',\n",
       " '[C@H]1O',\n",
       " '[C@H]2',\n",
       " '[C@H]2O)',\n",
       " '[C@H]3',\n",
       " '[C@H]3O)',\n",
       " '[C@H]4',\n",
       " '[C@H]5',\n",
       " '[C@]1(',\n",
       " '[C@]34',\n",
       " '[P@@]',\n",
       " '[P@]',\n",
       " '[SiH]',\n",
       " '[nH]',\n",
       " '[nH]1)',\n",
       " '[nH]c(',\n",
       " 'c(',\n",
       " 'c(-',\n",
       " 'c(=O)n1',\n",
       " 'c(C)c1',\n",
       " 'c(CN',\n",
       " 'c(N',\n",
       " 'c(N)',\n",
       " 'c(O',\n",
       " 'c(O)',\n",
       " 'c(OC)',\n",
       " 'c1',\n",
       " 'c1)',\n",
       " 'c12',\n",
       " 'c1O',\n",
       " 'c1c(F)cccc1',\n",
       " 'c1c(O)',\n",
       " 'c1cc',\n",
       " 'c1cc(-c2ccc(',\n",
       " 'c1cc(C)',\n",
       " 'c1cc(C)ccc1',\n",
       " 'c1cc(Cl)',\n",
       " 'c1ccc(',\n",
       " 'c1ccc(F)cc1)',\n",
       " 'c1ccc(OC)',\n",
       " 'c1ccc2c(c1)',\n",
       " 'c1ccc2ccccc2c1',\n",
       " 'c1cccc(',\n",
       " 'c1cccc(C)',\n",
       " 'c1ccccc1',\n",
       " 'c1ccccn1',\n",
       " 'c1ccccn1)',\n",
       " 'c1cccs1)',\n",
       " 'c1cn',\n",
       " 'c1cs',\n",
       " 'c1nc(',\n",
       " 'c1s',\n",
       " 'c1sccc1',\n",
       " 'c2',\n",
       " 'c2)',\n",
       " 'c2)CC1',\n",
       " 'c2)cc1',\n",
       " 'c2)n1',\n",
       " 'c23)cc1',\n",
       " 'c2=O)',\n",
       " 'c2O)',\n",
       " 'c2c(',\n",
       " 'c2c(=O)',\n",
       " 'c2c(C)cc(C)',\n",
       " 'c2c(F)cccc2',\n",
       " 'c2c(O)',\n",
       " 'c2c[nH]c3ccccc23)',\n",
       " 'c2cc(',\n",
       " 'c2cc(F)c(',\n",
       " 'c2cc(O)',\n",
       " 'c2cc(OC)',\n",
       " 'c2cc3cccc',\n",
       " 'c2ccc(-',\n",
       " 'c2ccc(C)',\n",
       " 'c2ccc(Cl)cc2)c1',\n",
       " 'c2ccc(F)cc2',\n",
       " 'c2ccc(F)cc2)',\n",
       " 'c2ccc(O',\n",
       " 'c2ccc(O)cc2)',\n",
       " 'c2cccc',\n",
       " 'c2cccc(',\n",
       " 'c2cccc(C(F)(F)F)',\n",
       " 'c2cccc(Cl)',\n",
       " 'c2cccc(NC(=O)',\n",
       " 'c2cccc3',\n",
       " 'c2ccccc2',\n",
       " 'c2ccccc2)',\n",
       " 'c2ccccc2c1',\n",
       " 'c2ccs',\n",
       " 'c2co',\n",
       " 'c2ncc',\n",
       " 'c2s',\n",
       " 'c2sccc2',\n",
       " 'c3',\n",
       " 'c3c(=O)',\n",
       " 'c3c(O)',\n",
       " 'c3cc(',\n",
       " 'c3cc(C)',\n",
       " 'c3cc(O)',\n",
       " 'c3ccc(Cl)cc3)',\n",
       " 'c3ccc(O)',\n",
       " 'c3ccc(O)cc3)',\n",
       " 'c3cccc(Cl)',\n",
       " 'c3ccccc3)',\n",
       " 'c3ncc',\n",
       " 'c3s',\n",
       " 'c43)',\n",
       " 'c4c(',\n",
       " 'c5',\n",
       " 'c[nH]1',\n",
       " 'cc',\n",
       " 'cc(',\n",
       " 'cc(-',\n",
       " 'cc(O)',\n",
       " 'cc2',\n",
       " 'cc3',\n",
       " 'cc3)cc',\n",
       " 'ccc1O',\n",
       " 'ccc2',\n",
       " 'ccc2c1',\n",
       " 'cccc1',\n",
       " 'cccc12',\n",
       " 'cnc2c1ncn2',\n",
       " 'co',\n",
       " 'cs1',\n",
       " 'cs3)',\n",
       " 'n',\n",
       " 'n(',\n",
       " 'n1',\n",
       " 'n12',\n",
       " 'n2c1',\n",
       " 'n3cn',\n",
       " 'n4cn',\n",
       " 'nc(C)',\n",
       " 'nc(S',\n",
       " 'nc(SC',\n",
       " 'nc1',\n",
       " 'nc2c(',\n",
       " 'ncn',\n",
       " 'no1',\n",
       " 'o',\n",
       " 'o2)',\n",
       " 'oc(-',\n",
       " 'oc1',\n",
       " 'oc2c1',\n",
       " 's1'}"
      ]
     },
     "execution_count": 71,
     "metadata": {},
     "output_type": "execute_result"
    }
   ],
   "source": [
    "separate_tokens"
   ]
  },
  {
   "cell_type": "markdown",
   "metadata": {},
   "source": [
    "It doesn't get the brackets right :(\n",
    "I'm not sure if this would improve if I trained SPE on PubChem Data..."
   ]
  },
  {
   "cell_type": "markdown",
   "metadata": {},
   "source": [
    "# Experimenting with canonicalization"
   ]
  },
  {
   "cell_type": "markdown",
   "metadata": {},
   "source": [
    "Are there really no charged in canonical SMILES?"
   ]
  },
  {
   "cell_type": "code",
   "execution_count": 13,
   "metadata": {},
   "outputs": [],
   "source": [
    "from rdkit import Chem"
   ]
  },
  {
   "cell_type": "code",
   "execution_count": 14,
   "metadata": {},
   "outputs": [],
   "source": [
    "ex1 = '[OH3+]'"
   ]
  },
  {
   "cell_type": "code",
   "execution_count": 15,
   "metadata": {},
   "outputs": [],
   "source": [
    "ex2 = Chem.MolFromSmiles(ex1)"
   ]
  },
  {
   "cell_type": "code",
   "execution_count": 20,
   "metadata": {},
   "outputs": [],
   "source": [
    "ex3 = Chem.MolToSmiles(ex2)"
   ]
  },
  {
   "cell_type": "code",
   "execution_count": 21,
   "metadata": {},
   "outputs": [
    {
     "data": {
      "text/plain": [
       "'[OH3+]'"
      ]
     },
     "execution_count": 21,
     "metadata": {},
     "output_type": "execute_result"
    }
   ],
   "source": [
    "ex3"
   ]
  },
  {
   "cell_type": "markdown",
   "metadata": {},
   "source": [
    "[RdKit](https://www.rdkit.org/docs/GettingStartedInPython.html#writing-molecules): Note that the SMILES provided is canonical\\\n",
    "=> Charges are included"
   ]
  },
  {
   "cell_type": "code",
   "execution_count": 22,
   "metadata": {},
   "outputs": [
    {
     "name": "stdout",
     "output_type": "stream",
     "text": [
      "['[OH3+]']\n"
     ]
    }
   ],
   "source": [
    "tokens = atomwise_tokenizer(ex1)\n",
    "print(tokens)"
   ]
  },
  {
   "cell_type": "markdown",
   "metadata": {},
   "source": [
    "-> Should we also consider O and H individually?"
   ]
  },
  {
   "cell_type": "code",
   "execution_count": null,
   "metadata": {},
   "outputs": [],
   "source": []
  }
 ],
 "metadata": {
  "kernelspec": {
   "display_name": "Python 3",
   "language": "python",
   "name": "python3"
  },
  "language_info": {
   "codemirror_mode": {
    "name": "ipython",
    "version": 3
   },
   "file_extension": ".py",
   "mimetype": "text/x-python",
   "name": "python",
   "nbconvert_exporter": "python",
   "pygments_lexer": "ipython3",
   "version": "3.6.10"
  }
 },
 "nbformat": 4,
 "nbformat_minor": 4
}
